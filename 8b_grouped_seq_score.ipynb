{
 "cells": [
  {
   "cell_type": "markdown",
   "id": "9c5718eb-21b2-474e-bfef-73dfab437c1b",
   "metadata": {},
   "source": [
    "# This notebook aims to recalculate the similarity score by only comparing same-class TEs for each condition"
   ]
  },
  {
   "cell_type": "code",
   "execution_count": null,
   "id": "e7acaf31-14bb-42c7-aaea-a1f0c31e217a",
   "metadata": {},
   "outputs": [],
   "source": []
  },
  {
   "cell_type": "code",
   "execution_count": 1,
   "id": "2dfdb810-5d61-4999-ac48-e1b596230916",
   "metadata": {},
   "outputs": [
    {
     "name": "stderr",
     "output_type": "stream",
     "text": [
      "/home/lucy/anaconda3/envs/qc_pipe/lib/python3.8/site-packages/Bio/pairwise2.py:278: BiopythonDeprecationWarning: Bio.pairwise2 has been deprecated, and we intend to remove it in a future release of Biopython. As an alternative, please consider using Bio.Align.PairwiseAligner as a replacement, and contact the Biopython developers if you still need the Bio.pairwise2 module.\n",
      "  warnings.warn(\n"
     ]
    }
   ],
   "source": [
    "import pandas as pd\n",
    "import numpy as np\n",
    "import seaborn as sns\n",
    "import matplotlib.pyplot as plt\n",
    "from Bio import SeqIO, pairwise2\n",
    "from itertools import combinations"
   ]
  },
  {
   "cell_type": "code",
   "execution_count": 61,
   "id": "933d3209-d51b-4449-8444-8d5a0cecf5b6",
   "metadata": {},
   "outputs": [],
   "source": [
    "from scipy import stats"
   ]
  },
  {
   "cell_type": "code",
   "execution_count": 53,
   "id": "6d6e1eaa-62bb-4c39-953b-18e1dbe7461e",
   "metadata": {},
   "outputs": [],
   "source": [
    "from matplotlib.patches import Patch"
   ]
  },
  {
   "cell_type": "code",
   "execution_count": 2,
   "id": "1c73b94f-e161-4e90-beea-5ea31471afec",
   "metadata": {},
   "outputs": [],
   "source": [
    "import os"
   ]
  },
  {
   "cell_type": "markdown",
   "id": "72c39e45-77bd-4328-a24b-200cb780df56",
   "metadata": {},
   "source": [
    "## load all result df"
   ]
  },
  {
   "cell_type": "code",
   "execution_count": 15,
   "id": "04271cfc-4e7d-4174-9363-4e84c239b168",
   "metadata": {},
   "outputs": [],
   "source": [
    "squire_result_path = \"./sequence_similarity_results/squire_result/\""
   ]
  },
  {
   "cell_type": "code",
   "execution_count": null,
   "id": "02918b06-5f50-4ceb-b9dd-22a49694795a",
   "metadata": {},
   "outputs": [],
   "source": [
    "fnames = os.listdir(squire_result_path)"
   ]
  },
  {
   "cell_type": "code",
   "execution_count": 5,
   "id": "0e79c682-6ab7-40e5-8934-3e67ddf091fd",
   "metadata": {},
   "outputs": [],
   "source": [
    "fnames = pd.Series( fnames)"
   ]
  },
  {
   "cell_type": "code",
   "execution_count": 6,
   "id": "71c9925f-a2c2-4822-b9f3-fbf72373ed5d",
   "metadata": {},
   "outputs": [
    {
     "data": {
      "text/plain": [
       "1     resampledSquire_rand10_1_pairwise_identity.csv\n",
       "14    resampledSquire_rand10_2_pairwise_identity.csv\n",
       "0     resampledSquire_rand10_3_pairwise_identity.csv\n",
       "3     resampledSquire_rand20_1_pairwise_identity.csv\n",
       "15    resampledSquire_rand20_2_pairwise_identity.csv\n",
       "12    resampledSquire_rand20_3_pairwise_identity.csv\n",
       "7     resampledSquire_rand50_1_pairwise_identity.csv\n",
       "8     resampledSquire_rand50_2_pairwise_identity.csv\n",
       "9     resampledSquire_rand50_3_pairwise_identity.csv\n",
       "6             squire_last50_df_pairwise_identity.csv\n",
       "5              squire_top10_df_pairwise_identity.csv\n",
       "4              squire_top20_df_pairwise_identity.csv\n",
       "13             squire_top50_df_pairwise_identity.csv\n",
       "11          squire_wt_top10_df_pairwise_identity.csv\n",
       "2           squire_wt_top20_df_pairwise_identity.csv\n",
       "10        squire_wt_top_all_df_pairwise_identity.csv\n",
       "dtype: object"
      ]
     },
     "execution_count": 6,
     "metadata": {},
     "output_type": "execute_result"
    }
   ],
   "source": [
    "fnames.sort_values( inplace = True )\n",
    "fnames"
   ]
  },
  {
   "cell_type": "code",
   "execution_count": 8,
   "id": "c405a1fe-814b-4069-bbe3-d1dba391ea0c",
   "metadata": {},
   "outputs": [],
   "source": [
    "basenames1 = [ f'rand{i}_{j}' for i in [10, 20, 50] for j in [1,2,3] ]\n",
    "#basenames1"
   ]
  },
  {
   "cell_type": "code",
   "execution_count": 10,
   "id": "6aefe98c-e2a1-4195-91a0-35838c7ce6de",
   "metadata": {},
   "outputs": [
    {
     "data": {
      "text/plain": [
       "['mut_last50', 'mut_top10', 'mut_top20', 'mut_top50']"
      ]
     },
     "execution_count": 10,
     "metadata": {},
     "output_type": "execute_result"
    }
   ],
   "source": [
    "basenames2 =  [ 'mut_last50'] + [f'mut_top{i}' for i in [10, 20, 50 ] ] \n",
    "basenames2 "
   ]
  },
  {
   "cell_type": "code",
   "execution_count": 11,
   "id": "21b6413b-cb60-44cd-9cf0-6703dea4fe43",
   "metadata": {},
   "outputs": [],
   "source": [
    "basenames3 = [ f'wt_top{i}' for i in [10, 20, 33 ] ]"
   ]
  },
  {
   "cell_type": "code",
   "execution_count": 12,
   "id": "e9e7349d-d5e6-4af7-9540-a9d2dfc406ed",
   "metadata": {},
   "outputs": [],
   "source": [
    "base_all = basenames1 + basenames2 + basenames3 \n",
    "assert( len( base_all ) == len( fnames ) )"
   ]
  },
  {
   "cell_type": "code",
   "execution_count": 18,
   "id": "5a853f3d-23e5-420b-b968-5a0c98c8acd9",
   "metadata": {},
   "outputs": [],
   "source": [
    "df_ls = []\n",
    "for f in fnames:\n",
    "    d = pd.read_csv( squire_result_path + f, header = 0, index_col = None )\n",
    "    df_ls.append( d )"
   ]
  },
  {
   "cell_type": "code",
   "execution_count": 19,
   "id": "68290927-0f5b-4af5-b94b-c95e4a9efef8",
   "metadata": {
    "collapsed": true,
    "jupyter": {
     "outputs_hidden": true
    }
   },
   "outputs": [
    {
     "data": {
      "text/html": [
       "<div>\n",
       "<style scoped>\n",
       "    .dataframe tbody tr th:only-of-type {\n",
       "        vertical-align: middle;\n",
       "    }\n",
       "\n",
       "    .dataframe tbody tr th {\n",
       "        vertical-align: top;\n",
       "    }\n",
       "\n",
       "    .dataframe thead th {\n",
       "        text-align: right;\n",
       "    }\n",
       "</style>\n",
       "<table border=\"1\" class=\"dataframe\">\n",
       "  <thead>\n",
       "    <tr style=\"text-align: right;\">\n",
       "      <th></th>\n",
       "      <th>ID1</th>\n",
       "      <th>ID2</th>\n",
       "      <th>PercentIdentity</th>\n",
       "      <th>Alignment_str</th>\n",
       "    </tr>\n",
       "  </thead>\n",
       "  <tbody>\n",
       "    <tr>\n",
       "      <th>0</th>\n",
       "      <td>1553_RLTR4_MM-int</td>\n",
       "      <td>11552_B3A</td>\n",
       "      <td>29.423459</td>\n",
       "      <td>tggcaggggctgctatgggatcatctgcactggccttgcagaccca...</td>\n",
       "    </tr>\n",
       "    <tr>\n",
       "      <th>1</th>\n",
       "      <td>1553_RLTR4_MM-int</td>\n",
       "      <td>11163_B1_Mus1</td>\n",
       "      <td>26.242545</td>\n",
       "      <td>tggcaggggctgctatgggatcatctgcactggccttgcagaccca...</td>\n",
       "    </tr>\n",
       "    <tr>\n",
       "      <th>2</th>\n",
       "      <td>1553_RLTR4_MM-int</td>\n",
       "      <td>8570_RLTR4_MM-int</td>\n",
       "      <td>53.479125</td>\n",
       "      <td>tg-g-----ca---g-g---g--gc-tgctatgggatc-atct-g-...</td>\n",
       "    </tr>\n",
       "    <tr>\n",
       "      <th>3</th>\n",
       "      <td>1553_RLTR4_MM-int</td>\n",
       "      <td>10988_MT2B</td>\n",
       "      <td>31.212724</td>\n",
       "      <td>tggcaggggctgctatgggatcatctgcactggccttgcagaccca...</td>\n",
       "    </tr>\n",
       "    <tr>\n",
       "      <th>4</th>\n",
       "      <td>1553_RLTR4_MM-int</td>\n",
       "      <td>6820_RMER2</td>\n",
       "      <td>60.072595</td>\n",
       "      <td>tggcaggggc-tgct-atgggatcatctgcactggccttg-----c...</td>\n",
       "    </tr>\n",
       "  </tbody>\n",
       "</table>\n",
       "</div>"
      ],
      "text/plain": [
       "                 ID1                ID2  PercentIdentity   \n",
       "0  1553_RLTR4_MM-int          11552_B3A        29.423459  \\\n",
       "1  1553_RLTR4_MM-int      11163_B1_Mus1        26.242545   \n",
       "2  1553_RLTR4_MM-int  8570_RLTR4_MM-int        53.479125   \n",
       "3  1553_RLTR4_MM-int         10988_MT2B        31.212724   \n",
       "4  1553_RLTR4_MM-int         6820_RMER2        60.072595   \n",
       "\n",
       "                                       Alignment_str  \n",
       "0  tggcaggggctgctatgggatcatctgcactggccttgcagaccca...  \n",
       "1  tggcaggggctgctatgggatcatctgcactggccttgcagaccca...  \n",
       "2  tg-g-----ca---g-g---g--gc-tgctatgggatc-atct-g-...  \n",
       "3  tggcaggggctgctatgggatcatctgcactggccttgcagaccca...  \n",
       "4  tggcaggggc-tgct-atgggatcatctgcactggccttg-----c...  "
      ]
     },
     "execution_count": 19,
     "metadata": {},
     "output_type": "execute_result"
    }
   ],
   "source": [
    "df_ls[0].head()"
   ]
  },
  {
   "cell_type": "code",
   "execution_count": 20,
   "id": "e0988978-4b4d-437b-ae0e-8c293a98d945",
   "metadata": {},
   "outputs": [],
   "source": [
    "squire_indiv = pd.read_csv(\"/home/lucy/Dropbox/turner_organoid_bulk_RNA_local/Deseq_indiv_dTE_results.csv\", header = 0, index_col = 0 )"
   ]
  },
  {
   "cell_type": "code",
   "execution_count": 21,
   "id": "081ef474-7afd-475d-8228-a4278415154b",
   "metadata": {},
   "outputs": [],
   "source": [
    "squire_df_ind = squire_indiv.index.astype(str) + \"_\" + squire_indiv['repName']\n",
    "squire_indiv['df_index_repName'] = squire_df_ind"
   ]
  },
  {
   "cell_type": "code",
   "execution_count": 23,
   "id": "680d4508-e6c0-46e4-a908-78195b91fa32",
   "metadata": {},
   "outputs": [],
   "source": [
    "squire_indiv2 = squire_indiv.set_index('df_index_repName')"
   ]
  },
  {
   "cell_type": "code",
   "execution_count": null,
   "id": "c88c3f4f-6eef-48a6-9f23-7e6e9dce006b",
   "metadata": {},
   "outputs": [],
   "source": []
  },
  {
   "cell_type": "markdown",
   "id": "c7a685f3-395e-44a3-a774-c48d317ea9c7",
   "metadata": {},
   "source": [
    "## add class information to the dfs"
   ]
  },
  {
   "cell_type": "code",
   "execution_count": 24,
   "id": "d094bfa7-a2db-4411-bf0f-deba3d8e92cf",
   "metadata": {},
   "outputs": [],
   "source": [
    "repClass_dict = dict( zip( squire_indiv2.index, squire_indiv2['repClass'] ))\n",
    "repFamily_dict = dict( zip( squire_indiv2.index, squire_indiv2['repFamily'] ))"
   ]
  },
  {
   "cell_type": "code",
   "execution_count": 25,
   "id": "c2f5a5cd-4974-461c-a607-2e129740ad12",
   "metadata": {},
   "outputs": [],
   "source": [
    "def add_class_info( identity_df, repClass_dict ):\n",
    "    identity_df['repClass1'] = [ repClass_dict[k] for k in identity_df['ID1'] ]\n",
    "    identity_df['repClass2'] = [ repClass_dict[k] for k in identity_df['ID2'] ]\n",
    "    return identity_df\n",
    "    "
   ]
  },
  {
   "cell_type": "code",
   "execution_count": 26,
   "id": "7a3a9618-03bc-432a-9408-050a0c3dcccb",
   "metadata": {},
   "outputs": [],
   "source": [
    "for d in df_ls:\n",
    "    d = add_class_info( d, repClass_dict )"
   ]
  },
  {
   "cell_type": "code",
   "execution_count": 27,
   "id": "14b53e8a-ffc4-4ba3-8bb4-de64303e1561",
   "metadata": {
    "collapsed": true,
    "jupyter": {
     "outputs_hidden": true
    }
   },
   "outputs": [
    {
     "data": {
      "text/html": [
       "<div>\n",
       "<style scoped>\n",
       "    .dataframe tbody tr th:only-of-type {\n",
       "        vertical-align: middle;\n",
       "    }\n",
       "\n",
       "    .dataframe tbody tr th {\n",
       "        vertical-align: top;\n",
       "    }\n",
       "\n",
       "    .dataframe thead th {\n",
       "        text-align: right;\n",
       "    }\n",
       "</style>\n",
       "<table border=\"1\" class=\"dataframe\">\n",
       "  <thead>\n",
       "    <tr style=\"text-align: right;\">\n",
       "      <th></th>\n",
       "      <th>ID1</th>\n",
       "      <th>ID2</th>\n",
       "      <th>PercentIdentity</th>\n",
       "      <th>Alignment_str</th>\n",
       "      <th>repClass1</th>\n",
       "      <th>repClass2</th>\n",
       "    </tr>\n",
       "  </thead>\n",
       "  <tbody>\n",
       "    <tr>\n",
       "      <th>0</th>\n",
       "      <td>1553_RLTR4_MM-int</td>\n",
       "      <td>11552_B3A</td>\n",
       "      <td>29.423459</td>\n",
       "      <td>tggcaggggctgctatgggatcatctgcactggccttgcagaccca...</td>\n",
       "      <td>LTR</td>\n",
       "      <td>SINE</td>\n",
       "    </tr>\n",
       "    <tr>\n",
       "      <th>1</th>\n",
       "      <td>1553_RLTR4_MM-int</td>\n",
       "      <td>11163_B1_Mus1</td>\n",
       "      <td>26.242545</td>\n",
       "      <td>tggcaggggctgctatgggatcatctgcactggccttgcagaccca...</td>\n",
       "      <td>LTR</td>\n",
       "      <td>SINE</td>\n",
       "    </tr>\n",
       "    <tr>\n",
       "      <th>2</th>\n",
       "      <td>1553_RLTR4_MM-int</td>\n",
       "      <td>8570_RLTR4_MM-int</td>\n",
       "      <td>53.479125</td>\n",
       "      <td>tg-g-----ca---g-g---g--gc-tgctatgggatc-atct-g-...</td>\n",
       "      <td>LTR</td>\n",
       "      <td>LTR</td>\n",
       "    </tr>\n",
       "    <tr>\n",
       "      <th>3</th>\n",
       "      <td>1553_RLTR4_MM-int</td>\n",
       "      <td>10988_MT2B</td>\n",
       "      <td>31.212724</td>\n",
       "      <td>tggcaggggctgctatgggatcatctgcactggccttgcagaccca...</td>\n",
       "      <td>LTR</td>\n",
       "      <td>LTR</td>\n",
       "    </tr>\n",
       "    <tr>\n",
       "      <th>4</th>\n",
       "      <td>1553_RLTR4_MM-int</td>\n",
       "      <td>6820_RMER2</td>\n",
       "      <td>60.072595</td>\n",
       "      <td>tggcaggggc-tgct-atgggatcatctgcactggccttg-----c...</td>\n",
       "      <td>LTR</td>\n",
       "      <td>LTR</td>\n",
       "    </tr>\n",
       "  </tbody>\n",
       "</table>\n",
       "</div>"
      ],
      "text/plain": [
       "                 ID1                ID2  PercentIdentity   \n",
       "0  1553_RLTR4_MM-int          11552_B3A        29.423459  \\\n",
       "1  1553_RLTR4_MM-int      11163_B1_Mus1        26.242545   \n",
       "2  1553_RLTR4_MM-int  8570_RLTR4_MM-int        53.479125   \n",
       "3  1553_RLTR4_MM-int         10988_MT2B        31.212724   \n",
       "4  1553_RLTR4_MM-int         6820_RMER2        60.072595   \n",
       "\n",
       "                                       Alignment_str repClass1 repClass2  \n",
       "0  tggcaggggctgctatgggatcatctgcactggccttgcagaccca...       LTR      SINE  \n",
       "1  tggcaggggctgctatgggatcatctgcactggccttgcagaccca...       LTR      SINE  \n",
       "2  tg-g-----ca---g-g---g--gc-tgctatgggatc-atct-g-...       LTR       LTR  \n",
       "3  tggcaggggctgctatgggatcatctgcactggccttgcagaccca...       LTR       LTR  \n",
       "4  tggcaggggc-tgct-atgggatcatctgcactggccttg-----c...       LTR       LTR  "
      ]
     },
     "execution_count": 27,
     "metadata": {},
     "output_type": "execute_result"
    }
   ],
   "source": [
    "df_ls[0].head()"
   ]
  },
  {
   "cell_type": "markdown",
   "id": "bbbd0c0f-2c85-45d0-8b2b-26451606166e",
   "metadata": {},
   "source": [
    "## filter out different-class TEs"
   ]
  },
  {
   "cell_type": "code",
   "execution_count": null,
   "id": "7ced9bd9-2b23-44bc-af2d-12f63ce083ae",
   "metadata": {},
   "outputs": [],
   "source": []
  },
  {
   "cell_type": "code",
   "execution_count": 29,
   "id": "7ca3dc78-6ce8-4544-a7ff-55a5a72809de",
   "metadata": {},
   "outputs": [
    {
     "name": "stdout",
     "output_type": "stream",
     "text": [
      "rand10_1\n",
      "Original df has 45 elements\n",
      "Filtered df has 17 elements\n",
      "0.37777777777777777 left\n",
      "\n",
      "rand10_2\n",
      "Original df has 45 elements\n",
      "Filtered df has 10 elements\n",
      "0.2222222222222222 left\n",
      "\n",
      "rand10_3\n",
      "Original df has 45 elements\n",
      "Filtered df has 16 elements\n",
      "0.35555555555555557 left\n",
      "\n",
      "rand20_1\n",
      "Original df has 190 elements\n",
      "Filtered df has 68 elements\n",
      "0.35789473684210527 left\n",
      "\n",
      "rand20_2\n",
      "Original df has 190 elements\n",
      "Filtered df has 61 elements\n",
      "0.32105263157894737 left\n",
      "\n",
      "rand20_3\n",
      "Original df has 190 elements\n",
      "Filtered df has 79 elements\n",
      "0.41578947368421054 left\n",
      "\n",
      "rand50_1\n",
      "Original df has 1225 elements\n",
      "Filtered df has 449 elements\n",
      "0.36653061224489797 left\n",
      "\n",
      "rand50_2\n",
      "Original df has 1225 elements\n",
      "Filtered df has 436 elements\n",
      "0.35591836734693877 left\n",
      "\n",
      "rand50_3\n",
      "Original df has 1225 elements\n",
      "Filtered df has 546 elements\n",
      "0.44571428571428573 left\n",
      "\n",
      "mut_last50\n",
      "Original df has 1225 elements\n",
      "Filtered df has 952 elements\n",
      "0.7771428571428571 left\n",
      "\n",
      "mut_top10\n",
      "Original df has 45 elements\n",
      "Filtered df has 36 elements\n",
      "0.8 left\n",
      "\n",
      "mut_top20\n",
      "Original df has 190 elements\n",
      "Filtered df has 139 elements\n",
      "0.7315789473684211 left\n",
      "\n",
      "mut_top50\n",
      "Original df has 1225 elements\n",
      "Filtered df has 996 elements\n",
      "0.8130612244897959 left\n",
      "\n",
      "wt_top10\n",
      "Original df has 45 elements\n",
      "Filtered df has 17 elements\n",
      "0.37777777777777777 left\n",
      "\n",
      "wt_top20\n",
      "Original df has 190 elements\n",
      "Filtered df has 71 elements\n",
      "0.3736842105263158 left\n",
      "\n",
      "wt_top33\n",
      "Original df has 528 elements\n",
      "Filtered df has 214 elements\n",
      "0.4053030303030303 left\n",
      "\n"
     ]
    }
   ],
   "source": [
    "same_class_df_ls = []\n",
    "\n",
    "for i,d in enumerate( df_ls):\n",
    "    print( base_all[i] )\n",
    "    print( f\"Original df has {d.shape[0]} elements\")\n",
    "    \n",
    "    d2 = d[ d['repClass1'] == d['repClass2'] ]\n",
    "    same_class_df_ls.append( d2)\n",
    "\n",
    "    print( f\"Filtered df has { d2.shape[0]} elements\")\n",
    "    pct_left = d2.shape[0] / d.shape[0]\n",
    "    print( f\"{pct_left} left\\n\")"
   ]
  },
  {
   "cell_type": "code",
   "execution_count": null,
   "id": "021b2111-4aaf-4c59-9d24-e908da916e79",
   "metadata": {},
   "outputs": [],
   "source": []
  },
  {
   "cell_type": "code",
   "execution_count": 31,
   "id": "84d9943b-d3ff-47f8-a78c-f89cbd32640a",
   "metadata": {
    "collapsed": true,
    "jupyter": {
     "outputs_hidden": true
    }
   },
   "outputs": [
    {
     "data": {
      "text/html": [
       "<div>\n",
       "<style scoped>\n",
       "    .dataframe tbody tr th:only-of-type {\n",
       "        vertical-align: middle;\n",
       "    }\n",
       "\n",
       "    .dataframe tbody tr th {\n",
       "        vertical-align: top;\n",
       "    }\n",
       "\n",
       "    .dataframe thead th {\n",
       "        text-align: right;\n",
       "    }\n",
       "</style>\n",
       "<table border=\"1\" class=\"dataframe\">\n",
       "  <thead>\n",
       "    <tr style=\"text-align: right;\">\n",
       "      <th></th>\n",
       "      <th>ID1</th>\n",
       "      <th>ID2</th>\n",
       "      <th>PercentIdentity</th>\n",
       "      <th>Alignment_str</th>\n",
       "      <th>repClass1</th>\n",
       "      <th>repClass2</th>\n",
       "    </tr>\n",
       "  </thead>\n",
       "  <tbody>\n",
       "    <tr>\n",
       "      <th>2</th>\n",
       "      <td>1553_RLTR4_MM-int</td>\n",
       "      <td>8570_RLTR4_MM-int</td>\n",
       "      <td>53.479125</td>\n",
       "      <td>tg-g-----ca---g-g---g--gc-tgctatgggatc-atct-g-...</td>\n",
       "      <td>LTR</td>\n",
       "      <td>LTR</td>\n",
       "    </tr>\n",
       "    <tr>\n",
       "      <th>3</th>\n",
       "      <td>1553_RLTR4_MM-int</td>\n",
       "      <td>10988_MT2B</td>\n",
       "      <td>31.212724</td>\n",
       "      <td>tggcaggggctgctatgggatcatctgcactggccttgcagaccca...</td>\n",
       "      <td>LTR</td>\n",
       "      <td>LTR</td>\n",
       "    </tr>\n",
       "    <tr>\n",
       "      <th>4</th>\n",
       "      <td>1553_RLTR4_MM-int</td>\n",
       "      <td>6820_RMER2</td>\n",
       "      <td>60.072595</td>\n",
       "      <td>tggcaggggc-tgct-atgggatcatctgcactggccttg-----c...</td>\n",
       "      <td>LTR</td>\n",
       "      <td>LTR</td>\n",
       "    </tr>\n",
       "    <tr>\n",
       "      <th>5</th>\n",
       "      <td>1553_RLTR4_MM-int</td>\n",
       "      <td>370_RLTR4_MM-int</td>\n",
       "      <td>47.045455</td>\n",
       "      <td>tggc-agg-----g-g-ctgctatgggat--cat-ctgcactg---...</td>\n",
       "      <td>LTR</td>\n",
       "      <td>LTR</td>\n",
       "    </tr>\n",
       "    <tr>\n",
       "      <th>7</th>\n",
       "      <td>1553_RLTR4_MM-int</td>\n",
       "      <td>6206_RLTR20C1_MM</td>\n",
       "      <td>34.393638</td>\n",
       "      <td>tggcaggggctgctatgggatcatctgcactggccttgcagaccca...</td>\n",
       "      <td>LTR</td>\n",
       "      <td>LTR</td>\n",
       "    </tr>\n",
       "    <tr>\n",
       "      <th>9</th>\n",
       "      <td>11552_B3A</td>\n",
       "      <td>11163_B1_Mus1</td>\n",
       "      <td>57.419355</td>\n",
       "      <td>g-agtctggag-ag-atgcct------c--g---gtggatgagagt...</td>\n",
       "      <td>SINE</td>\n",
       "      <td>SINE</td>\n",
       "    </tr>\n",
       "    <tr>\n",
       "      <th>24</th>\n",
       "      <td>8570_RLTR4_MM-int</td>\n",
       "      <td>10988_MT2B</td>\n",
       "      <td>38.563830</td>\n",
       "      <td>ttgtttttctttgtgtttgtt-gg-tgttg-gttatcttg---tcc...</td>\n",
       "      <td>LTR</td>\n",
       "      <td>LTR</td>\n",
       "    </tr>\n",
       "    <tr>\n",
       "      <th>25</th>\n",
       "      <td>8570_RLTR4_MM-int</td>\n",
       "      <td>6820_RMER2</td>\n",
       "      <td>50.816697</td>\n",
       "      <td>ttg---t------t-tttct---tt--g--tg---ttt--g-t--t...</td>\n",
       "      <td>LTR</td>\n",
       "      <td>LTR</td>\n",
       "    </tr>\n",
       "    <tr>\n",
       "      <th>26</th>\n",
       "      <td>8570_RLTR4_MM-int</td>\n",
       "      <td>370_RLTR4_MM-int</td>\n",
       "      <td>38.295455</td>\n",
       "      <td>--t------------tgt-ttt--t-ct--t-----------tg--...</td>\n",
       "      <td>LTR</td>\n",
       "      <td>LTR</td>\n",
       "    </tr>\n",
       "    <tr>\n",
       "      <th>28</th>\n",
       "      <td>8570_RLTR4_MM-int</td>\n",
       "      <td>6206_RLTR20C1_MM</td>\n",
       "      <td>42.021277</td>\n",
       "      <td>ttgtttttctttgtgtttgttggtgt-tggttatcttgtcctgtgt...</td>\n",
       "      <td>LTR</td>\n",
       "      <td>LTR</td>\n",
       "    </tr>\n",
       "    <tr>\n",
       "      <th>30</th>\n",
       "      <td>10988_MT2B</td>\n",
       "      <td>6820_RMER2</td>\n",
       "      <td>28.312160</td>\n",
       "      <td>--ag--g--a--t------------g-----------ga------g...</td>\n",
       "      <td>LTR</td>\n",
       "      <td>LTR</td>\n",
       "    </tr>\n",
       "    <tr>\n",
       "      <th>31</th>\n",
       "      <td>10988_MT2B</td>\n",
       "      <td>370_RLTR4_MM-int</td>\n",
       "      <td>18.636364</td>\n",
       "      <td>---ag-----ga---tg-g----a------------g-----t--a...</td>\n",
       "      <td>LTR</td>\n",
       "      <td>LTR</td>\n",
       "    </tr>\n",
       "    <tr>\n",
       "      <th>33</th>\n",
       "      <td>10988_MT2B</td>\n",
       "      <td>6206_RLTR20C1_MM</td>\n",
       "      <td>54.687500</td>\n",
       "      <td>agga-tgga--g-ta-c---acatc----ctt--ct-ggcttg-gt...</td>\n",
       "      <td>LTR</td>\n",
       "      <td>LTR</td>\n",
       "    </tr>\n",
       "    <tr>\n",
       "      <th>35</th>\n",
       "      <td>6820_RMER2</td>\n",
       "      <td>370_RLTR4_MM-int</td>\n",
       "      <td>49.772727</td>\n",
       "      <td>tg--agatgccaaat-----ct-t-tta--a-a-t--tc-a--gac...</td>\n",
       "      <td>LTR</td>\n",
       "      <td>LTR</td>\n",
       "    </tr>\n",
       "    <tr>\n",
       "      <th>37</th>\n",
       "      <td>6820_RMER2</td>\n",
       "      <td>6206_RLTR20C1_MM</td>\n",
       "      <td>32.304900</td>\n",
       "      <td>tgagatgccaaatcttttaaattcagactccattttagataatctg...</td>\n",
       "      <td>LTR</td>\n",
       "      <td>LTR</td>\n",
       "    </tr>\n",
       "    <tr>\n",
       "      <th>40</th>\n",
       "      <td>370_RLTR4_MM-int</td>\n",
       "      <td>6206_RLTR20C1_MM</td>\n",
       "      <td>21.818182</td>\n",
       "      <td>gctagaaaaagagactgtgtttcatactcctccaccgaccagtgca...</td>\n",
       "      <td>LTR</td>\n",
       "      <td>LTR</td>\n",
       "    </tr>\n",
       "    <tr>\n",
       "      <th>43</th>\n",
       "      <td>2732_L1ME1</td>\n",
       "      <td>5784_L2d</td>\n",
       "      <td>38.911290</td>\n",
       "      <td>tttttaaaaaagacacactttaccatgtgatg-g--a-actat-ct...</td>\n",
       "      <td>LINE</td>\n",
       "      <td>LINE</td>\n",
       "    </tr>\n",
       "  </tbody>\n",
       "</table>\n",
       "</div>"
      ],
      "text/plain": [
       "                  ID1                ID2  PercentIdentity   \n",
       "2   1553_RLTR4_MM-int  8570_RLTR4_MM-int        53.479125  \\\n",
       "3   1553_RLTR4_MM-int         10988_MT2B        31.212724   \n",
       "4   1553_RLTR4_MM-int         6820_RMER2        60.072595   \n",
       "5   1553_RLTR4_MM-int   370_RLTR4_MM-int        47.045455   \n",
       "7   1553_RLTR4_MM-int   6206_RLTR20C1_MM        34.393638   \n",
       "9           11552_B3A      11163_B1_Mus1        57.419355   \n",
       "24  8570_RLTR4_MM-int         10988_MT2B        38.563830   \n",
       "25  8570_RLTR4_MM-int         6820_RMER2        50.816697   \n",
       "26  8570_RLTR4_MM-int   370_RLTR4_MM-int        38.295455   \n",
       "28  8570_RLTR4_MM-int   6206_RLTR20C1_MM        42.021277   \n",
       "30         10988_MT2B         6820_RMER2        28.312160   \n",
       "31         10988_MT2B   370_RLTR4_MM-int        18.636364   \n",
       "33         10988_MT2B   6206_RLTR20C1_MM        54.687500   \n",
       "35         6820_RMER2   370_RLTR4_MM-int        49.772727   \n",
       "37         6820_RMER2   6206_RLTR20C1_MM        32.304900   \n",
       "40   370_RLTR4_MM-int   6206_RLTR20C1_MM        21.818182   \n",
       "43         2732_L1ME1           5784_L2d        38.911290   \n",
       "\n",
       "                                        Alignment_str repClass1 repClass2  \n",
       "2   tg-g-----ca---g-g---g--gc-tgctatgggatc-atct-g-...       LTR       LTR  \n",
       "3   tggcaggggctgctatgggatcatctgcactggccttgcagaccca...       LTR       LTR  \n",
       "4   tggcaggggc-tgct-atgggatcatctgcactggccttg-----c...       LTR       LTR  \n",
       "5   tggc-agg-----g-g-ctgctatgggat--cat-ctgcactg---...       LTR       LTR  \n",
       "7   tggcaggggctgctatgggatcatctgcactggccttgcagaccca...       LTR       LTR  \n",
       "9   g-agtctggag-ag-atgcct------c--g---gtggatgagagt...      SINE      SINE  \n",
       "24  ttgtttttctttgtgtttgtt-gg-tgttg-gttatcttg---tcc...       LTR       LTR  \n",
       "25  ttg---t------t-tttct---tt--g--tg---ttt--g-t--t...       LTR       LTR  \n",
       "26  --t------------tgt-ttt--t-ct--t-----------tg--...       LTR       LTR  \n",
       "28  ttgtttttctttgtgtttgttggtgt-tggttatcttgtcctgtgt...       LTR       LTR  \n",
       "30  --ag--g--a--t------------g-----------ga------g...       LTR       LTR  \n",
       "31  ---ag-----ga---tg-g----a------------g-----t--a...       LTR       LTR  \n",
       "33  agga-tgga--g-ta-c---acatc----ctt--ct-ggcttg-gt...       LTR       LTR  \n",
       "35  tg--agatgccaaat-----ct-t-tta--a-a-t--tc-a--gac...       LTR       LTR  \n",
       "37  tgagatgccaaatcttttaaattcagactccattttagataatctg...       LTR       LTR  \n",
       "40  gctagaaaaagagactgtgtttcatactcctccaccgaccagtgca...       LTR       LTR  \n",
       "43  tttttaaaaaagacacactttaccatgtgatg-g--a-actat-ct...      LINE      LINE  "
      ]
     },
     "execution_count": 31,
     "metadata": {},
     "output_type": "execute_result"
    }
   ],
   "source": [
    "same_class_df_ls[0]"
   ]
  },
  {
   "cell_type": "code",
   "execution_count": null,
   "id": "d71e5975-7b42-4705-98a9-1d087c329b1d",
   "metadata": {},
   "outputs": [],
   "source": []
  },
  {
   "cell_type": "code",
   "execution_count": null,
   "id": "03a9c9f7-248b-4c09-af8e-037212ae67b0",
   "metadata": {},
   "outputs": [],
   "source": []
  },
  {
   "cell_type": "markdown",
   "id": "27260374-e24c-43b4-8fca-e42d1b600131",
   "metadata": {},
   "source": [
    "## make new summary df"
   ]
  },
  {
   "cell_type": "markdown",
   "id": "624d82a0-807d-4e2b-9653-d41bc5051fcb",
   "metadata": {},
   "source": [
    "### get related values"
   ]
  },
  {
   "cell_type": "code",
   "execution_count": 32,
   "id": "8c1c60b6-98a7-49ea-9343-1f0425c8b03f",
   "metadata": {},
   "outputs": [
    {
     "data": {
      "text/plain": [
       "['rand10_1',\n",
       " 'rand10_2',\n",
       " 'rand10_3',\n",
       " 'rand20_1',\n",
       " 'rand20_2',\n",
       " 'rand20_3',\n",
       " 'rand50_1',\n",
       " 'rand50_2',\n",
       " 'rand50_3',\n",
       " 'mut_last50',\n",
       " 'mut_top10',\n",
       " 'mut_top20',\n",
       " 'mut_top50',\n",
       " 'wt_top10',\n",
       " 'wt_top20',\n",
       " 'wt_top33']"
      ]
     },
     "execution_count": 32,
     "metadata": {},
     "output_type": "execute_result"
    }
   ],
   "source": [
    "base_all"
   ]
  },
  {
   "cell_type": "code",
   "execution_count": 33,
   "id": "a003fea0-3cb3-4ad1-8f1d-384618036901",
   "metadata": {},
   "outputs": [
    {
     "data": {
      "text/plain": [
       "[10, 10, 10, 20, 20, 20, 50, 50, 50]"
      ]
     },
     "execution_count": 33,
     "metadata": {},
     "output_type": "execute_result"
    }
   ],
   "source": [
    "num_elements = [ i for i in [10,20,50] for j in [1,2,3] ] # for the random controls\n",
    "num_elements"
   ]
  },
  {
   "cell_type": "code",
   "execution_count": 34,
   "id": "636a317d-6b86-4f67-a52a-e36c361e56c7",
   "metadata": {},
   "outputs": [],
   "source": [
    "# for the mutants\n",
    "num_elements = num_elements + [ 50, 10, 20, 50 ]\n",
    "\n",
    "# for the wt\n",
    "num_elements = num_elements + [ 10, 20, 33 ] "
   ]
  },
  {
   "cell_type": "code",
   "execution_count": 36,
   "id": "dd97f821-ebf4-4a65-934b-2a95ec7ab866",
   "metadata": {},
   "outputs": [],
   "source": [
    "assert( len( num_elements) == len( same_class_df_ls ) )"
   ]
  },
  {
   "cell_type": "code",
   "execution_count": 105,
   "id": "5b9b9d2b-e8d3-47af-89bd-690ca04233e1",
   "metadata": {},
   "outputs": [
    {
     "data": {
      "text/plain": [
       "20"
      ]
     },
     "execution_count": 105,
     "metadata": {},
     "output_type": "execute_result"
    }
   ],
   "source": [
    "len( set( df_ls[5]['ID2']).union(set( df_ls[5]['ID1'] )  ) )"
   ]
  },
  {
   "cell_type": "code",
   "execution_count": 97,
   "id": "1f93b14a-6a5b-4561-a219-e3dfd973182d",
   "metadata": {},
   "outputs": [
    {
     "data": {
      "text/plain": [
       "7"
      ]
     },
     "execution_count": 97,
     "metadata": {},
     "output_type": "execute_result"
    }
   ],
   "source": [
    "len( same_class_df_ls[0]['ID1'].unique() )"
   ]
  },
  {
   "cell_type": "code",
   "execution_count": 110,
   "id": "2f44ca9b-aeb9-4ce2-bcc1-0e3e48d153ea",
   "metadata": {},
   "outputs": [],
   "source": [
    "summary_df = pd.DataFrame(index = \n",
    "                          ['avg_pctIdentity', 'std_pctIdentity', 'sum_pctIdentity',\n",
    "                           'num_element_sampled' , 'num_combination_all',  'num_combination_left',\n",
    "                           'adjusted_avg_pctIdentity'])\n",
    "\n",
    "# TODO: modify here to quantity ( sum_score / supposed num element )\n",
    "\n",
    "for i,df in enumerate( same_class_df_ls):\n",
    "    # get data meta information\n",
    "    f_id = base_all[i]\n",
    "    num_e = num_elements[i]\n",
    "    num_combination_all = df_ls[i].shape[0]\n",
    "    num_combination_left = df.shape[0]\n",
    "    \n",
    "    #get avg and std score\n",
    "    avg_score = df['PercentIdentity'].mean()\n",
    "    std_score = df['PercentIdentity'].std()\n",
    "    sum_score = df['PercentIdentity'].sum()\n",
    "    adj_avg_score = sum_score / num_combination_all\n",
    "    \n",
    "\n",
    "    # add result to the result df\n",
    "    summary_df[ f_id ] = [ avg_score, std_score, sum_score, num_e,  num_combination_all, num_combination_left,  adj_avg_score ]\n",
    "    \n",
    "    \n",
    "    \n",
    "    "
   ]
  },
  {
   "cell_type": "code",
   "execution_count": 111,
   "id": "f9a1f24c-c3d8-4cc4-91f8-1d3e9afd7838",
   "metadata": {},
   "outputs": [
    {
     "data": {
      "text/html": [
       "<div>\n",
       "<style scoped>\n",
       "    .dataframe tbody tr th:only-of-type {\n",
       "        vertical-align: middle;\n",
       "    }\n",
       "\n",
       "    .dataframe tbody tr th {\n",
       "        vertical-align: top;\n",
       "    }\n",
       "\n",
       "    .dataframe thead th {\n",
       "        text-align: right;\n",
       "    }\n",
       "</style>\n",
       "<table border=\"1\" class=\"dataframe\">\n",
       "  <thead>\n",
       "    <tr style=\"text-align: right;\">\n",
       "      <th></th>\n",
       "      <th>rand10_1</th>\n",
       "      <th>rand10_2</th>\n",
       "      <th>rand10_3</th>\n",
       "      <th>rand20_1</th>\n",
       "      <th>rand20_2</th>\n",
       "      <th>rand20_3</th>\n",
       "      <th>rand50_1</th>\n",
       "      <th>rand50_2</th>\n",
       "      <th>rand50_3</th>\n",
       "      <th>mut_last50</th>\n",
       "      <th>mut_top10</th>\n",
       "      <th>mut_top20</th>\n",
       "      <th>mut_top50</th>\n",
       "      <th>wt_top10</th>\n",
       "      <th>wt_top20</th>\n",
       "      <th>wt_top33</th>\n",
       "    </tr>\n",
       "  </thead>\n",
       "  <tbody>\n",
       "    <tr>\n",
       "      <th>avg_pctIdentity</th>\n",
       "      <td>41.044898</td>\n",
       "      <td>23.545173</td>\n",
       "      <td>38.993040</td>\n",
       "      <td>37.015965</td>\n",
       "      <td>45.155696</td>\n",
       "      <td>29.952781</td>\n",
       "      <td>37.117118</td>\n",
       "      <td>34.337222</td>\n",
       "      <td>35.169853</td>\n",
       "      <td>31.434792</td>\n",
       "      <td>32.527466</td>\n",
       "      <td>36.315880</td>\n",
       "      <td>34.631975</td>\n",
       "      <td>26.551235</td>\n",
       "      <td>35.150159</td>\n",
       "      <td>36.372366</td>\n",
       "    </tr>\n",
       "    <tr>\n",
       "      <th>std_pctIdentity</th>\n",
       "      <td>12.371912</td>\n",
       "      <td>16.773674</td>\n",
       "      <td>15.758340</td>\n",
       "      <td>20.442693</td>\n",
       "      <td>17.743509</td>\n",
       "      <td>18.269443</td>\n",
       "      <td>19.421103</td>\n",
       "      <td>19.727401</td>\n",
       "      <td>18.328902</td>\n",
       "      <td>21.797414</td>\n",
       "      <td>23.805879</td>\n",
       "      <td>27.612099</td>\n",
       "      <td>24.642663</td>\n",
       "      <td>19.383292</td>\n",
       "      <td>20.323129</td>\n",
       "      <td>20.309442</td>\n",
       "    </tr>\n",
       "    <tr>\n",
       "      <th>sum_pctIdentity</th>\n",
       "      <td>697.763273</td>\n",
       "      <td>235.451730</td>\n",
       "      <td>623.888634</td>\n",
       "      <td>2517.085638</td>\n",
       "      <td>2754.497475</td>\n",
       "      <td>2366.269666</td>\n",
       "      <td>16665.585974</td>\n",
       "      <td>14971.028763</td>\n",
       "      <td>19202.739661</td>\n",
       "      <td>29925.922066</td>\n",
       "      <td>1170.988783</td>\n",
       "      <td>5047.907301</td>\n",
       "      <td>34493.447156</td>\n",
       "      <td>451.370988</td>\n",
       "      <td>2495.661321</td>\n",
       "      <td>7783.686331</td>\n",
       "    </tr>\n",
       "    <tr>\n",
       "      <th>num_element_sampled</th>\n",
       "      <td>10.000000</td>\n",
       "      <td>10.000000</td>\n",
       "      <td>10.000000</td>\n",
       "      <td>20.000000</td>\n",
       "      <td>20.000000</td>\n",
       "      <td>20.000000</td>\n",
       "      <td>50.000000</td>\n",
       "      <td>50.000000</td>\n",
       "      <td>50.000000</td>\n",
       "      <td>50.000000</td>\n",
       "      <td>10.000000</td>\n",
       "      <td>20.000000</td>\n",
       "      <td>50.000000</td>\n",
       "      <td>10.000000</td>\n",
       "      <td>20.000000</td>\n",
       "      <td>33.000000</td>\n",
       "    </tr>\n",
       "    <tr>\n",
       "      <th>num_combination_all</th>\n",
       "      <td>45.000000</td>\n",
       "      <td>45.000000</td>\n",
       "      <td>45.000000</td>\n",
       "      <td>190.000000</td>\n",
       "      <td>190.000000</td>\n",
       "      <td>190.000000</td>\n",
       "      <td>1225.000000</td>\n",
       "      <td>1225.000000</td>\n",
       "      <td>1225.000000</td>\n",
       "      <td>1225.000000</td>\n",
       "      <td>45.000000</td>\n",
       "      <td>190.000000</td>\n",
       "      <td>1225.000000</td>\n",
       "      <td>45.000000</td>\n",
       "      <td>190.000000</td>\n",
       "      <td>528.000000</td>\n",
       "    </tr>\n",
       "    <tr>\n",
       "      <th>num_combination_left</th>\n",
       "      <td>17.000000</td>\n",
       "      <td>10.000000</td>\n",
       "      <td>16.000000</td>\n",
       "      <td>68.000000</td>\n",
       "      <td>61.000000</td>\n",
       "      <td>79.000000</td>\n",
       "      <td>449.000000</td>\n",
       "      <td>436.000000</td>\n",
       "      <td>546.000000</td>\n",
       "      <td>952.000000</td>\n",
       "      <td>36.000000</td>\n",
       "      <td>139.000000</td>\n",
       "      <td>996.000000</td>\n",
       "      <td>17.000000</td>\n",
       "      <td>71.000000</td>\n",
       "      <td>214.000000</td>\n",
       "    </tr>\n",
       "    <tr>\n",
       "      <th>adjusted_avg_pctIdentity</th>\n",
       "      <td>15.505851</td>\n",
       "      <td>5.232261</td>\n",
       "      <td>13.864192</td>\n",
       "      <td>13.247819</td>\n",
       "      <td>14.497355</td>\n",
       "      <td>12.454051</td>\n",
       "      <td>13.604560</td>\n",
       "      <td>12.221248</td>\n",
       "      <td>15.675706</td>\n",
       "      <td>24.429324</td>\n",
       "      <td>26.021973</td>\n",
       "      <td>26.567933</td>\n",
       "      <td>28.157916</td>\n",
       "      <td>10.030466</td>\n",
       "      <td>13.135060</td>\n",
       "      <td>14.741830</td>\n",
       "    </tr>\n",
       "  </tbody>\n",
       "</table>\n",
       "</div>"
      ],
      "text/plain": [
       "                            rand10_1    rand10_2    rand10_3     rand20_1   \n",
       "avg_pctIdentity            41.044898   23.545173   38.993040    37.015965  \\\n",
       "std_pctIdentity            12.371912   16.773674   15.758340    20.442693   \n",
       "sum_pctIdentity           697.763273  235.451730  623.888634  2517.085638   \n",
       "num_element_sampled        10.000000   10.000000   10.000000    20.000000   \n",
       "num_combination_all        45.000000   45.000000   45.000000   190.000000   \n",
       "num_combination_left       17.000000   10.000000   16.000000    68.000000   \n",
       "adjusted_avg_pctIdentity   15.505851    5.232261   13.864192    13.247819   \n",
       "\n",
       "                             rand20_2     rand20_3      rand50_1   \n",
       "avg_pctIdentity             45.155696    29.952781     37.117118  \\\n",
       "std_pctIdentity             17.743509    18.269443     19.421103   \n",
       "sum_pctIdentity           2754.497475  2366.269666  16665.585974   \n",
       "num_element_sampled         20.000000    20.000000     50.000000   \n",
       "num_combination_all        190.000000   190.000000   1225.000000   \n",
       "num_combination_left        61.000000    79.000000    449.000000   \n",
       "adjusted_avg_pctIdentity    14.497355    12.454051     13.604560   \n",
       "\n",
       "                              rand50_2      rand50_3    mut_last50   \n",
       "avg_pctIdentity              34.337222     35.169853     31.434792  \\\n",
       "std_pctIdentity              19.727401     18.328902     21.797414   \n",
       "sum_pctIdentity           14971.028763  19202.739661  29925.922066   \n",
       "num_element_sampled          50.000000     50.000000     50.000000   \n",
       "num_combination_all        1225.000000   1225.000000   1225.000000   \n",
       "num_combination_left        436.000000    546.000000    952.000000   \n",
       "adjusted_avg_pctIdentity     12.221248     15.675706     24.429324   \n",
       "\n",
       "                            mut_top10    mut_top20     mut_top50    wt_top10   \n",
       "avg_pctIdentity             32.527466    36.315880     34.631975   26.551235  \\\n",
       "std_pctIdentity             23.805879    27.612099     24.642663   19.383292   \n",
       "sum_pctIdentity           1170.988783  5047.907301  34493.447156  451.370988   \n",
       "num_element_sampled         10.000000    20.000000     50.000000   10.000000   \n",
       "num_combination_all         45.000000   190.000000   1225.000000   45.000000   \n",
       "num_combination_left        36.000000   139.000000    996.000000   17.000000   \n",
       "adjusted_avg_pctIdentity    26.021973    26.567933     28.157916   10.030466   \n",
       "\n",
       "                             wt_top20     wt_top33  \n",
       "avg_pctIdentity             35.150159    36.372366  \n",
       "std_pctIdentity             20.323129    20.309442  \n",
       "sum_pctIdentity           2495.661321  7783.686331  \n",
       "num_element_sampled         20.000000    33.000000  \n",
       "num_combination_all        190.000000   528.000000  \n",
       "num_combination_left        71.000000   214.000000  \n",
       "adjusted_avg_pctIdentity    13.135060    14.741830  "
      ]
     },
     "execution_count": 111,
     "metadata": {},
     "output_type": "execute_result"
    }
   ],
   "source": [
    "summary_df"
   ]
  },
  {
   "cell_type": "markdown",
   "id": "6ea0b883-9b3f-447d-93f5-1073499bd7e0",
   "metadata": {},
   "source": [
    "### format the summary df"
   ]
  },
  {
   "cell_type": "code",
   "execution_count": 112,
   "id": "9171fdc6-94f0-4773-80e8-165c2c47673f",
   "metadata": {},
   "outputs": [
    {
     "data": {
      "text/plain": [
       "16"
      ]
     },
     "execution_count": 112,
     "metadata": {},
     "output_type": "execute_result"
    }
   ],
   "source": [
    "conditions = [ 'control' for i in range( 9) ] + [ 'mutant_up' for i in range( 4)] + [ 'wt_up' for i in range(3 ) ]\n",
    "len( conditions )"
   ]
  },
  {
   "cell_type": "code",
   "execution_count": 113,
   "id": "1adfe3f7-4da6-4b12-9f79-657f6a1f28c5",
   "metadata": {},
   "outputs": [
    {
     "data": {
      "text/plain": [
       "(7, 16)"
      ]
     },
     "execution_count": 113,
     "metadata": {},
     "output_type": "execute_result"
    }
   ],
   "source": [
    "summary_df.shape"
   ]
  },
  {
   "cell_type": "code",
   "execution_count": 114,
   "id": "be01cf1d-7800-48f8-b033-501ee9bfa576",
   "metadata": {},
   "outputs": [],
   "source": [
    "summary_df = summary_df.T"
   ]
  },
  {
   "cell_type": "code",
   "execution_count": 115,
   "id": "27d69304-1617-45fb-b4cf-dd0f0cafab83",
   "metadata": {},
   "outputs": [],
   "source": [
    "summary_df['condition'] = conditions "
   ]
  },
  {
   "cell_type": "code",
   "execution_count": 120,
   "id": "8f575d09-0f1f-4a7b-8ec6-7acc85926973",
   "metadata": {},
   "outputs": [
    {
     "data": {
      "text/html": [
       "<div>\n",
       "<style scoped>\n",
       "    .dataframe tbody tr th:only-of-type {\n",
       "        vertical-align: middle;\n",
       "    }\n",
       "\n",
       "    .dataframe tbody tr th {\n",
       "        vertical-align: top;\n",
       "    }\n",
       "\n",
       "    .dataframe thead th {\n",
       "        text-align: right;\n",
       "    }\n",
       "</style>\n",
       "<table border=\"1\" class=\"dataframe\">\n",
       "  <thead>\n",
       "    <tr style=\"text-align: right;\">\n",
       "      <th></th>\n",
       "      <th>avg_pctIdentity</th>\n",
       "      <th>std_pctIdentity</th>\n",
       "      <th>sum_pctIdentity</th>\n",
       "      <th>num_element_sampled</th>\n",
       "      <th>num_combination_all</th>\n",
       "      <th>num_combination_left</th>\n",
       "      <th>adjusted_avg_pctIdentity</th>\n",
       "      <th>condition</th>\n",
       "    </tr>\n",
       "  </thead>\n",
       "  <tbody>\n",
       "    <tr>\n",
       "      <th>rand10_1</th>\n",
       "      <td>41.044898</td>\n",
       "      <td>12.371912</td>\n",
       "      <td>697.763273</td>\n",
       "      <td>10.0</td>\n",
       "      <td>45.0</td>\n",
       "      <td>17.0</td>\n",
       "      <td>15.505851</td>\n",
       "      <td>control</td>\n",
       "    </tr>\n",
       "    <tr>\n",
       "      <th>rand10_2</th>\n",
       "      <td>23.545173</td>\n",
       "      <td>16.773674</td>\n",
       "      <td>235.451730</td>\n",
       "      <td>10.0</td>\n",
       "      <td>45.0</td>\n",
       "      <td>10.0</td>\n",
       "      <td>5.232261</td>\n",
       "      <td>control</td>\n",
       "    </tr>\n",
       "  </tbody>\n",
       "</table>\n",
       "</div>"
      ],
      "text/plain": [
       "          avg_pctIdentity  std_pctIdentity  sum_pctIdentity   \n",
       "rand10_1        41.044898        12.371912       697.763273  \\\n",
       "rand10_2        23.545173        16.773674       235.451730   \n",
       "\n",
       "          num_element_sampled  num_combination_all  num_combination_left   \n",
       "rand10_1                 10.0                 45.0                  17.0  \\\n",
       "rand10_2                 10.0                 45.0                  10.0   \n",
       "\n",
       "          adjusted_avg_pctIdentity condition  \n",
       "rand10_1                 15.505851   control  \n",
       "rand10_2                  5.232261   control  "
      ]
     },
     "execution_count": 120,
     "metadata": {},
     "output_type": "execute_result"
    }
   ],
   "source": [
    "summary_df.head(2)"
   ]
  },
  {
   "cell_type": "code",
   "execution_count": 118,
   "id": "40c756de-516a-4186-b76f-4c231b765335",
   "metadata": {},
   "outputs": [],
   "source": [
    "summary_df['condition'] = pd.Categorical( summary_df['condition'], categories=['control' , 'wt_up' , 'mutant_up' ] )"
   ]
  },
  {
   "cell_type": "code",
   "execution_count": 121,
   "id": "8f28659b-047e-493a-977b-f266505db287",
   "metadata": {},
   "outputs": [],
   "source": [
    "summary_df.sort_values( by = ['num_element_sampled' ,'condition'], inplace= True )"
   ]
  },
  {
   "cell_type": "code",
   "execution_count": 122,
   "id": "c9c9016e-a4b7-4142-b750-03b6f21d823f",
   "metadata": {},
   "outputs": [
    {
     "data": {
      "text/plain": [
       "Index(['rand10_1', 'rand10_2', 'rand10_3', 'wt_top10', 'mut_top10', 'rand20_1',\n",
       "       'rand20_2', 'rand20_3', 'wt_top20', 'mut_top20', 'wt_top33', 'rand50_1',\n",
       "       'rand50_2', 'rand50_3', 'mut_last50', 'mut_top50'],\n",
       "      dtype='object')"
      ]
     },
     "execution_count": 122,
     "metadata": {},
     "output_type": "execute_result"
    }
   ],
   "source": [
    "summary_df.index"
   ]
  },
  {
   "cell_type": "code",
   "execution_count": 123,
   "id": "10576d10-35da-4a56-bcbc-cf288898e692",
   "metadata": {},
   "outputs": [],
   "source": [
    "reordered_index = ['rand10_1', 'rand10_2', 'rand10_3', 'wt_top10', 'mut_top10', 'rand20_1',\n",
    "       'rand20_2', 'rand20_3', 'wt_top20', 'mut_top20', 'rand50_1',\n",
    "       'rand50_2', 'rand50_3', 'wt_top33', 'mut_last50', 'mut_top50']"
   ]
  },
  {
   "cell_type": "code",
   "execution_count": 126,
   "id": "1d56bb2c-99e6-406f-b84b-45369ef45a92",
   "metadata": {},
   "outputs": [],
   "source": [
    "summary_df = summary_df.loc[ reordered_index ]"
   ]
  },
  {
   "cell_type": "code",
   "execution_count": 140,
   "id": "3a8b784e-7553-4e52-acae-ff4fefb6ca22",
   "metadata": {},
   "outputs": [
    {
     "data": {
      "text/html": [
       "<div>\n",
       "<style scoped>\n",
       "    .dataframe tbody tr th:only-of-type {\n",
       "        vertical-align: middle;\n",
       "    }\n",
       "\n",
       "    .dataframe tbody tr th {\n",
       "        vertical-align: top;\n",
       "    }\n",
       "\n",
       "    .dataframe thead th {\n",
       "        text-align: right;\n",
       "    }\n",
       "</style>\n",
       "<table border=\"1\" class=\"dataframe\">\n",
       "  <thead>\n",
       "    <tr style=\"text-align: right;\">\n",
       "      <th></th>\n",
       "      <th>avg_pctIdentity</th>\n",
       "      <th>std_pctIdentity</th>\n",
       "      <th>sum_pctIdentity</th>\n",
       "      <th>num_element_sampled</th>\n",
       "      <th>num_combination_all</th>\n",
       "      <th>num_combination_left</th>\n",
       "      <th>adjusted_avg_pctIdentity</th>\n",
       "      <th>condition</th>\n",
       "    </tr>\n",
       "  </thead>\n",
       "  <tbody>\n",
       "    <tr>\n",
       "      <th>rand10_1</th>\n",
       "      <td>41.044898</td>\n",
       "      <td>12.371912</td>\n",
       "      <td>697.763273</td>\n",
       "      <td>10.0</td>\n",
       "      <td>45.0</td>\n",
       "      <td>17.0</td>\n",
       "      <td>15.505851</td>\n",
       "      <td>control</td>\n",
       "    </tr>\n",
       "    <tr>\n",
       "      <th>rand10_2</th>\n",
       "      <td>23.545173</td>\n",
       "      <td>16.773674</td>\n",
       "      <td>235.451730</td>\n",
       "      <td>10.0</td>\n",
       "      <td>45.0</td>\n",
       "      <td>10.0</td>\n",
       "      <td>5.232261</td>\n",
       "      <td>control</td>\n",
       "    </tr>\n",
       "    <tr>\n",
       "      <th>rand10_3</th>\n",
       "      <td>38.993040</td>\n",
       "      <td>15.758340</td>\n",
       "      <td>623.888634</td>\n",
       "      <td>10.0</td>\n",
       "      <td>45.0</td>\n",
       "      <td>16.0</td>\n",
       "      <td>13.864192</td>\n",
       "      <td>control</td>\n",
       "    </tr>\n",
       "    <tr>\n",
       "      <th>wt_top10</th>\n",
       "      <td>26.551235</td>\n",
       "      <td>19.383292</td>\n",
       "      <td>451.370988</td>\n",
       "      <td>10.0</td>\n",
       "      <td>45.0</td>\n",
       "      <td>17.0</td>\n",
       "      <td>10.030466</td>\n",
       "      <td>wt_up</td>\n",
       "    </tr>\n",
       "    <tr>\n",
       "      <th>mut_top10</th>\n",
       "      <td>32.527466</td>\n",
       "      <td>23.805879</td>\n",
       "      <td>1170.988783</td>\n",
       "      <td>10.0</td>\n",
       "      <td>45.0</td>\n",
       "      <td>36.0</td>\n",
       "      <td>26.021973</td>\n",
       "      <td>mutant_up</td>\n",
       "    </tr>\n",
       "  </tbody>\n",
       "</table>\n",
       "</div>"
      ],
      "text/plain": [
       "           avg_pctIdentity  std_pctIdentity  sum_pctIdentity   \n",
       "rand10_1         41.044898        12.371912       697.763273  \\\n",
       "rand10_2         23.545173        16.773674       235.451730   \n",
       "rand10_3         38.993040        15.758340       623.888634   \n",
       "wt_top10         26.551235        19.383292       451.370988   \n",
       "mut_top10        32.527466        23.805879      1170.988783   \n",
       "\n",
       "           num_element_sampled  num_combination_all  num_combination_left   \n",
       "rand10_1                  10.0                 45.0                  17.0  \\\n",
       "rand10_2                  10.0                 45.0                  10.0   \n",
       "rand10_3                  10.0                 45.0                  16.0   \n",
       "wt_top10                  10.0                 45.0                  17.0   \n",
       "mut_top10                 10.0                 45.0                  36.0   \n",
       "\n",
       "           adjusted_avg_pctIdentity  condition  \n",
       "rand10_1                  15.505851    control  \n",
       "rand10_2                   5.232261    control  \n",
       "rand10_3                  13.864192    control  \n",
       "wt_top10                  10.030466      wt_up  \n",
       "mut_top10                 26.021973  mutant_up  "
      ]
     },
     "execution_count": 140,
     "metadata": {},
     "output_type": "execute_result"
    }
   ],
   "source": [
    "summary_df.head()"
   ]
  },
  {
   "cell_type": "code",
   "execution_count": 141,
   "id": "16879595-a039-4288-965a-86fbbbe9793f",
   "metadata": {},
   "outputs": [],
   "source": [
    "adjusted_std = summary_df['std_pctIdentity'] * (summary_df['num_combination_left'] / summary_df['num_combination_all']  )"
   ]
  },
  {
   "cell_type": "code",
   "execution_count": 142,
   "id": "165c692d-4cdc-4eb0-9989-63ecb70890f8",
   "metadata": {},
   "outputs": [],
   "source": [
    "summary_df['adj_std_pctIdentity'] = adjusted_std"
   ]
  },
  {
   "cell_type": "code",
   "execution_count": null,
   "id": "ca3d7436-0045-4fd0-aa32-660ce5ded18c",
   "metadata": {},
   "outputs": [],
   "source": []
  },
  {
   "cell_type": "code",
   "execution_count": null,
   "id": "5cceb29d-493f-4087-b892-207208e0aa0e",
   "metadata": {},
   "outputs": [],
   "source": []
  },
  {
   "cell_type": "markdown",
   "id": "185f9c57-ca02-4083-a227-13f0fd54df95",
   "metadata": {},
   "source": [
    "## make the new bar plots"
   ]
  },
  {
   "cell_type": "markdown",
   "id": "43376671-f9ad-439c-b04b-a0a21f98f42c",
   "metadata": {},
   "source": [
    "### compare number of element sampled and left after filtering"
   ]
  },
  {
   "cell_type": "code",
   "execution_count": null,
   "id": "abcd6056-ab2a-49d0-a561-8f83254f9192",
   "metadata": {},
   "outputs": [],
   "source": []
  },
  {
   "cell_type": "code",
   "execution_count": 137,
   "id": "e30eb049-d7a8-43d9-a8a0-7f300434df2e",
   "metadata": {},
   "outputs": [],
   "source": [
    "condition_colors = {\n",
    "    'control': 'gray',\n",
    "    'mutant_up': 'salmon',\n",
    "    'wt_up':'cornflowerblue'\n",
    "}"
   ]
  },
  {
   "cell_type": "code",
   "execution_count": 138,
   "id": "9e0f7e2a-da0f-42c8-b6e0-ffaaeb1b3fd2",
   "metadata": {},
   "outputs": [
    {
     "data": {
      "image/png": "[encoded data removed]",
      "text/plain": [
       "<Figure size 640x480 with 1 Axes>"
      ]
     },
     "metadata": {},
     "output_type": "display_data"
    }
   ],
   "source": [
    "# Example data\n",
    "x_pos = np.arange(len(summary_df.index))\n",
    "heights1 = summary_df['num_combination_all']  # dataset 1\n",
    "heights2 = summary_df['num_combination_left' ]   # dataset 2\n",
    "\n",
    "all_pair_colors = [condition_colors[cond] for cond in summary_df['condition'] ]\n",
    "\n",
    "\n",
    "bar_width = 1 # need to adjust\n",
    "\n",
    "# Plot side-by-side histograms\n",
    "plt.bar(x_pos , heights1, width=bar_width, label='# all pairs', alpha=0.8, edgecolor=all_pair_colors, facecolor='none',)\n",
    "plt.bar(x_pos , heights2, width=bar_width, label='# within-class pairs', alpha=0.5, color =all_pair_colors)\n",
    "\n",
    "# Add labels and legend\n",
    "plt.xticks(x_pos, summary_df.index, rotation = 45)\n",
    "plt.xlabel('Condition')\n",
    "plt.ylabel('Count')\n",
    "plt.title('Number of Pair-wise Combination of TEs\\nacross Comparison Conditions')\n",
    "plt.legend()\n",
    "plt.tight_layout()\n",
    "plt.show()\n"
   ]
  },
  {
   "cell_type": "code",
   "execution_count": null,
   "id": "0ca5ae9b-8b67-48d3-96b1-1dc635b2c7dc",
   "metadata": {},
   "outputs": [],
   "source": []
  },
  {
   "cell_type": "markdown",
   "id": "422bc62e-e4fe-4697-8727-2c425581fa04",
   "metadata": {},
   "source": [
    "### only avg similarity score"
   ]
  },
  {
   "cell_type": "code",
   "execution_count": 124,
   "id": "91f0b0d0-efd5-423b-925b-767b091be884",
   "metadata": {},
   "outputs": [],
   "source": [
    "condition_colors = {\n",
    "    'control': 'gray',\n",
    "    'mutant_up': 'salmon',\n",
    "    'wt_up':'cornflowerblue'\n",
    "}"
   ]
  },
  {
   "cell_type": "code",
   "execution_count": 129,
   "id": "12ec1c23-5438-4f19-89d8-24756fa81f99",
   "metadata": {},
   "outputs": [
    {
     "data": {
      "image/png": "[encoded data removed]",
      "text/plain": [
       "<Figure size 800x600 with 1 Axes>"
      ]
     },
     "metadata": {},
     "output_type": "display_data"
    }
   ],
   "source": [
    "bar_colors = [condition_colors[cond] for cond in summary_df['condition'] ]\n",
    "\n",
    "plt.figure(figsize=(8, 6))\n",
    "\n",
    "\n",
    "plt.bar(summary_df.index, summary_df['avg_pctIdentity'] , yerr=summary_df['std_pctIdentity'], capsize=5, color=bar_colors, edgecolor='black')\n",
    "\n",
    "plt.xticks(rotation=45, ha='right') \n",
    "\n",
    "legend_elements = [Patch(facecolor=color, label=cond) for cond, color in condition_colors.items()]\n",
    "plt.legend(handles=legend_elements, title='dTE Groups ')\n",
    "\n",
    "\n",
    "plt.ylabel('Average Similarity Score')\n",
    "plt.title('Sequence Similarity across differential TE groups')\n",
    "plt.grid(axis='y', linestyle='--', alpha=0.7)\n",
    "\n",
    "# Show plot\n",
    "plt.tight_layout()\n",
    "plt.show()\n"
   ]
  },
  {
   "cell_type": "code",
   "execution_count": null,
   "id": "77e2d049-7a21-4e84-8856-126f6a3554b7",
   "metadata": {},
   "outputs": [],
   "source": []
  },
  {
   "cell_type": "code",
   "execution_count": 143,
   "id": "2265a2aa-79b2-4aff-8c66-3dcc974c8b99",
   "metadata": {},
   "outputs": [
    {
     "data": {
      "image/png": "[encoded data removed]",
      "text/plain": [
       "<Figure size 800x600 with 1 Axes>"
      ]
     },
     "metadata": {},
     "output_type": "display_data"
    }
   ],
   "source": [
    "bar_colors = [condition_colors[cond] for cond in summary_df['condition'] ]\n",
    "\n",
    "plt.figure(figsize=(8, 6))\n",
    "\n",
    "\n",
    "plt.bar(summary_df.index, summary_df['adjusted_avg_pctIdentity'] , yerr=summary_df['adj_std_pctIdentity'], capsize=5, color=bar_colors, edgecolor='black')\n",
    "\n",
    "plt.xticks(rotation=45, ha='right') \n",
    "\n",
    "legend_elements = [Patch(facecolor=color, label=cond) for cond, color in condition_colors.items()]\n",
    "plt.legend(handles=legend_elements, title='dTE Groups ')\n",
    "\n",
    "plt.ylabel('Adjusted Avg. Similarity Score')\n",
    "plt.title('Within-class Sequence Similarity across differential TE groups')\n",
    "plt.grid(axis='y', linestyle='--', alpha=0.7)\n",
    "\n",
    "# Show plot\n",
    "plt.tight_layout()\n",
    "plt.show()\n"
   ]
  },
  {
   "cell_type": "code",
   "execution_count": null,
   "id": "701948e5-285e-4485-89ad-3b678c0bd3d3",
   "metadata": {},
   "outputs": [],
   "source": []
  },
  {
   "cell_type": "markdown",
   "id": "a308ba7c-a589-41f1-9c29-85d66aaf1f2f",
   "metadata": {
    "jp-MarkdownHeadingCollapsed": true
   },
   "source": [
    "## summary of summary ( may not be reflective to real differences though)"
   ]
  },
  {
   "cell_type": "code",
   "execution_count": 60,
   "id": "abd6812f-9140-4d87-b5fd-8352e7225e47",
   "metadata": {},
   "outputs": [
    {
     "data": {
      "image/png": "[encoded data removed]",
      "text/plain": [
       "<Figure size 640x480 with 1 Axes>"
      ]
     },
     "metadata": {},
     "output_type": "display_data"
    }
   ],
   "source": [
    "sns.barplot( summary_df, y ='adjusted_avg_pctIdentity' , x = 'condition' , hue= 'condition', palette= condition_colors, edgecolor = 'black', capsize = 0.05 )\n",
    "plt.title( 'Avg. Adjusted Pct Sequence Identity across Conditions')\n",
    "plt.show()"
   ]
  },
  {
   "cell_type": "code",
   "execution_count": null,
   "id": "0350f2f0-fa98-4937-823f-b74bb949724c",
   "metadata": {},
   "outputs": [],
   "source": []
  },
  {
   "cell_type": "code",
   "execution_count": 91,
   "id": "553aec26-2202-4c33-a315-662d21d921ea",
   "metadata": {},
   "outputs": [
    {
     "data": {
      "image/png": "[encoded data removed]",
      "text/plain": [
       "<Figure size 640x480 with 1 Axes>"
      ]
     },
     "metadata": {},
     "output_type": "display_data"
    }
   ],
   "source": [
    "sns.barplot( summary_df, y ='avg_pctIdentity' , x = 'condition' , hue= 'condition', palette= condition_colors, edgecolor = 'black', capsize = 0.05 )\n",
    "plt.title( 'Avg. Pct Sequence Identity across Conditions')\n",
    "plt.show()"
   ]
  },
  {
   "cell_type": "code",
   "execution_count": null,
   "id": "ebf5861b-28f7-48ac-8636-a240bda16817",
   "metadata": {},
   "outputs": [],
   "source": []
  },
  {
   "cell_type": "code",
   "execution_count": null,
   "id": "3494c178-174e-4a65-afa4-00d680f28911",
   "metadata": {},
   "outputs": [],
   "source": []
  },
  {
   "cell_type": "code",
   "execution_count": null,
   "id": "c5888404-7081-44d5-a329-7d757c071249",
   "metadata": {},
   "outputs": [],
   "source": []
  },
  {
   "cell_type": "code",
   "execution_count": null,
   "id": "47292ea9-bf59-4bba-8828-0e1145f9eddf",
   "metadata": {},
   "outputs": [],
   "source": []
  },
  {
   "cell_type": "code",
   "execution_count": 62,
   "id": "99a97b99-d618-4254-801a-a5e405349f29",
   "metadata": {},
   "outputs": [],
   "source": [
    "ctrl = summary_df['adjusted_avg_pctIdentity'][summary_df['condition'] == 'control']\n",
    "mut = summary_df['adjusted_avg_pctIdentity'][summary_df['condition'] == 'mutant_up']\n",
    "wt = summary_df['adjusted_avg_pctIdentity'][summary_df['condition'] == 'wt_up']"
   ]
  },
  {
   "cell_type": "code",
   "execution_count": 63,
   "id": "f87eabda-3718-4714-a710-38a52c931214",
   "metadata": {},
   "outputs": [],
   "source": [
    "# Assuming equal variances (default)\n",
    "t_mut_ctrl, p_mut_ctrl = stats.ttest_ind(list(mut), list( ctrl) )\n",
    "t_wt_ctrl, p_wt_ctrl = stats.ttest_ind(list(wt), list( ctrl) )\n",
    "t_mmut_wt, p_mut_wt = stats.ttest_ind(list(mut), list( wt) )"
   ]
  },
  {
   "cell_type": "code",
   "execution_count": 64,
   "id": "3eb4e796-16a4-4c4b-96f3-cf3d59c167b7",
   "metadata": {},
   "outputs": [
    {
     "name": "stdout",
     "output_type": "stream",
     "text": [
      "Mut vs control\n",
      "[2.2167227323288476, 0.04864342607119224]\n",
      "\n",
      "WT vs control\n",
      "[-0.44934238259016424, 0.6627665327656052]\n",
      "\n",
      "Mut vs WT\n",
      "[1.6590349022026594, 0.1580047507077214]\n"
     ]
    }
   ],
   "source": [
    "print( 'Mut vs control')\n",
    "print( [t_mut_ctrl, p_mut_ctrl ] )\n",
    "\n",
    "print( '\\nWT vs control' )\n",
    "print( [t_wt_ctrl, p_wt_ctrl ])\n",
    "\n",
    "print( '\\nMut vs WT' )\n",
    "print( [t_mmut_wt, p_mut_wt ])"
   ]
  },
  {
   "cell_type": "code",
   "execution_count": null,
   "id": "92e04ba7-0847-4f97-ae30-e8da47331b1e",
   "metadata": {},
   "outputs": [],
   "source": []
  },
  {
   "cell_type": "code",
   "execution_count": 93,
   "id": "6a00a97b-6252-4d1a-80bf-b9f97db71fd5",
   "metadata": {},
   "outputs": [],
   "source": [
    "ctrl0 = summary_df['avg_pctIdentity'][summary_df['condition'] == 'control']\n",
    "mut0 = summary_df['avg_pctIdentity'][summary_df['condition'] == 'mutant_up']\n",
    "wt0 = summary_df['avg_pctIdentity'][summary_df['condition'] == 'wt_up']"
   ]
  },
  {
   "cell_type": "code",
   "execution_count": 94,
   "id": "a101ab68-b79f-4c4e-b25f-6af3fa5e835f",
   "metadata": {},
   "outputs": [],
   "source": [
    "# Assuming equal variances (default)\n",
    "t_mut_ctrl, p_mut_ctrl = stats.ttest_ind(list(mut0), list( ctrl0) )\n",
    "t_wt_ctrl, p_wt_ctrl = stats.ttest_ind(list(wt0), list( ctrl0) )\n",
    "t_mmut_wt, p_mut_wt = stats.ttest_ind(list(mut0), list( wt0) )"
   ]
  },
  {
   "cell_type": "code",
   "execution_count": 95,
   "id": "ce304c38-6a9b-4ce4-b71b-0a785a6a8375",
   "metadata": {},
   "outputs": [
    {
     "name": "stdout",
     "output_type": "stream",
     "text": [
      "Mut vs control\n",
      "[-0.6345261059316291, 0.5387103077583725]\n",
      "\n",
      "WT vs control\n",
      "[-0.767479381517707, 0.4605336537923542]\n",
      "\n",
      "Mut vs WT\n",
      "[0.35876917708338585, 0.7344194308076961]\n"
     ]
    }
   ],
   "source": [
    "print( 'Mut vs control')\n",
    "print( [t_mut_ctrl, p_mut_ctrl ] )\n",
    "\n",
    "print( '\\nWT vs control' )\n",
    "print( [t_wt_ctrl, p_wt_ctrl ])\n",
    "\n",
    "print( '\\nMut vs WT' )\n",
    "print( [t_mmut_wt, p_mut_wt ])"
   ]
  },
  {
   "cell_type": "code",
   "execution_count": null,
   "id": "d065f5b5-74b3-4bc3-a0bf-e3a3fe3e3eac",
   "metadata": {},
   "outputs": [],
   "source": []
  },
  {
   "cell_type": "code",
   "execution_count": null,
   "id": "40ec24b2-1190-45a6-9d5c-7f614693463a",
   "metadata": {},
   "outputs": [],
   "source": []
  },
  {
   "cell_type": "code",
   "execution_count": null,
   "id": "ec026998-541c-415b-9252-c681b4b7d553",
   "metadata": {},
   "outputs": [],
   "source": []
  },
  {
   "cell_type": "markdown",
   "id": "22c41d9f-6af3-40a1-8a50-f857ffaa2cd7",
   "metadata": {},
   "source": [
    "## save data"
   ]
  },
  {
   "cell_type": "code",
   "execution_count": 148,
   "id": "5b18b23e-e93e-4fa3-ae8a-decaded94984",
   "metadata": {},
   "outputs": [
    {
     "data": {
      "text/html": [
       "<div>\n",
       "<style scoped>\n",
       "    .dataframe tbody tr th:only-of-type {\n",
       "        vertical-align: middle;\n",
       "    }\n",
       "\n",
       "    .dataframe tbody tr th {\n",
       "        vertical-align: top;\n",
       "    }\n",
       "\n",
       "    .dataframe thead th {\n",
       "        text-align: right;\n",
       "    }\n",
       "</style>\n",
       "<table border=\"1\" class=\"dataframe\">\n",
       "  <thead>\n",
       "    <tr style=\"text-align: right;\">\n",
       "      <th></th>\n",
       "      <th>avg_pctIdentity</th>\n",
       "      <th>std_pctIdentity</th>\n",
       "      <th>sum_pctIdentity</th>\n",
       "      <th>num_element_sampled</th>\n",
       "      <th>num_combination_all</th>\n",
       "      <th>num_combination_left</th>\n",
       "      <th>adjusted_avg_pctIdentity</th>\n",
       "      <th>condition</th>\n",
       "      <th>adj_std_pctIdentity</th>\n",
       "    </tr>\n",
       "  </thead>\n",
       "  <tbody>\n",
       "    <tr>\n",
       "      <th>rand10_1</th>\n",
       "      <td>41.044898</td>\n",
       "      <td>12.371912</td>\n",
       "      <td>697.763273</td>\n",
       "      <td>10.0</td>\n",
       "      <td>45.0</td>\n",
       "      <td>17.0</td>\n",
       "      <td>15.505851</td>\n",
       "      <td>control</td>\n",
       "      <td>4.673833</td>\n",
       "    </tr>\n",
       "    <tr>\n",
       "      <th>rand10_2</th>\n",
       "      <td>23.545173</td>\n",
       "      <td>16.773674</td>\n",
       "      <td>235.451730</td>\n",
       "      <td>10.0</td>\n",
       "      <td>45.0</td>\n",
       "      <td>10.0</td>\n",
       "      <td>5.232261</td>\n",
       "      <td>control</td>\n",
       "      <td>3.727483</td>\n",
       "    </tr>\n",
       "    <tr>\n",
       "      <th>rand10_3</th>\n",
       "      <td>38.993040</td>\n",
       "      <td>15.758340</td>\n",
       "      <td>623.888634</td>\n",
       "      <td>10.0</td>\n",
       "      <td>45.0</td>\n",
       "      <td>16.0</td>\n",
       "      <td>13.864192</td>\n",
       "      <td>control</td>\n",
       "      <td>5.602965</td>\n",
       "    </tr>\n",
       "    <tr>\n",
       "      <th>wt_top10</th>\n",
       "      <td>26.551235</td>\n",
       "      <td>19.383292</td>\n",
       "      <td>451.370988</td>\n",
       "      <td>10.0</td>\n",
       "      <td>45.0</td>\n",
       "      <td>17.0</td>\n",
       "      <td>10.030466</td>\n",
       "      <td>wt_up</td>\n",
       "      <td>7.322577</td>\n",
       "    </tr>\n",
       "    <tr>\n",
       "      <th>mut_top10</th>\n",
       "      <td>32.527466</td>\n",
       "      <td>23.805879</td>\n",
       "      <td>1170.988783</td>\n",
       "      <td>10.0</td>\n",
       "      <td>45.0</td>\n",
       "      <td>36.0</td>\n",
       "      <td>26.021973</td>\n",
       "      <td>mutant_up</td>\n",
       "      <td>19.044703</td>\n",
       "    </tr>\n",
       "  </tbody>\n",
       "</table>\n",
       "</div>"
      ],
      "text/plain": [
       "           avg_pctIdentity  std_pctIdentity  sum_pctIdentity   \n",
       "rand10_1         41.044898        12.371912       697.763273  \\\n",
       "rand10_2         23.545173        16.773674       235.451730   \n",
       "rand10_3         38.993040        15.758340       623.888634   \n",
       "wt_top10         26.551235        19.383292       451.370988   \n",
       "mut_top10        32.527466        23.805879      1170.988783   \n",
       "\n",
       "           num_element_sampled  num_combination_all  num_combination_left   \n",
       "rand10_1                  10.0                 45.0                  17.0  \\\n",
       "rand10_2                  10.0                 45.0                  10.0   \n",
       "rand10_3                  10.0                 45.0                  16.0   \n",
       "wt_top10                  10.0                 45.0                  17.0   \n",
       "mut_top10                 10.0                 45.0                  36.0   \n",
       "\n",
       "           adjusted_avg_pctIdentity  condition  adj_std_pctIdentity  \n",
       "rand10_1                  15.505851    control             4.673833  \n",
       "rand10_2                   5.232261    control             3.727483  \n",
       "rand10_3                  13.864192    control             5.602965  \n",
       "wt_top10                  10.030466      wt_up             7.322577  \n",
       "mut_top10                 26.021973  mutant_up            19.044703  "
      ]
     },
     "execution_count": 148,
     "metadata": {},
     "output_type": "execute_result"
    }
   ],
   "source": [
    "summary_df.head()"
   ]
  },
  {
   "cell_type": "code",
   "execution_count": 149,
   "id": "5d335e2a-877d-4686-9745-8297849dc882",
   "metadata": {},
   "outputs": [],
   "source": [
    "logi = pd.read_csv(\"./OUTPUT_EXPLAIN.csv\", header = 0, index_col= 0)"
   ]
  },
  {
   "cell_type": "code",
   "execution_count": 150,
   "id": "b8b8c3c4-bb53-47bd-a182-3ffd2e4875a4",
   "metadata": {},
   "outputs": [
    {
     "data": {
      "text/plain": [
       "Index(['count_table_indiv.csv', 'count_table_subF.csv', 'mm39_rmsk_full.tsv',\n",
       "       'Deseq_indiv_locus_results.csv', 'genoLoc_Deseq_indiv_locus_result.csv',\n",
       "       'compare_dTE_overlap/', 'genoLoc_TCPS_Deseq_indiv_locus_result.csv',\n",
       "       'TCPS_all_Deseq_indiv_locus.csv', 'resampled_TCPS_all_TE_indi.csv',\n",
       "       'TCPS_seq_similarity_summary_df.csv',\n",
       "       'squire_tjp2_mut_seq_similarity_summary_df.csv',\n",
       "       'squire_tjp2_wt_seq_similarity_summary_df.csv',\n",
       "       'squire_tjp2_total_seq_similarity_summary_df.csv',\n",
       "       'mouse_human_combined_similarity_suammry_df.csv'],\n",
       "      dtype='object')"
      ]
     },
     "execution_count": 150,
     "metadata": {},
     "output_type": "execute_result"
    }
   ],
   "source": [
    "logi.columns"
   ]
  },
  {
   "cell_type": "code",
   "execution_count": 152,
   "id": "525c5a90-6ac3-48b2-ac19-2f333c0efac3",
   "metadata": {},
   "outputs": [
    {
     "data": {
      "text/plain": [
       "nb_created                                                   4d\n",
       "nb_updated                                                  NaN\n",
       "explain       summary df for sequence similarity scores for ...\n",
       "Name: squire_tjp2_total_seq_similarity_summary_df.csv, dtype: object"
      ]
     },
     "execution_count": 152,
     "metadata": {},
     "output_type": "execute_result"
    }
   ],
   "source": [
    "logi['squire_tjp2_total_seq_similarity_summary_df.csv']"
   ]
  },
  {
   "cell_type": "code",
   "execution_count": 151,
   "id": "7d228f0f-970b-46d2-8156-92b6f6d45e27",
   "metadata": {},
   "outputs": [
    {
     "data": {
      "text/plain": [
       "'summary df for sequence similarity scores for all conditinos for the squire TE quantification of turner mouse organoids. Includes WT, KO and randomly selected control samples'"
      ]
     },
     "execution_count": 151,
     "metadata": {},
     "output_type": "execute_result"
    }
   ],
   "source": [
    "logi['squire_tjp2_total_seq_similarity_summary_df.csv'].loc['explain']"
   ]
  },
  {
   "cell_type": "code",
   "execution_count": 153,
   "id": "f237919a-1016-45d5-ac84-f6bd5d6a7fcd",
   "metadata": {},
   "outputs": [],
   "source": [
    "logi['squire_tjp2_total_seq_similarity_summary_df.csv'].loc['explain'] = 'summary df for sequence similarity scores for all conditinos for the squire TE quantification of turner mouse organoids. Includes WT, KO and randomly selected control samples. The control samples are from re-sampled pool of all TEs to match the dTE seq len distribution'"
   ]
  },
  {
   "cell_type": "code",
   "execution_count": 154,
   "id": "e8a20f70-5440-4be0-bac9-b4d2284a18ec",
   "metadata": {},
   "outputs": [],
   "source": [
    "summary_df.to_csv(\"./squire_tjp2_total_seq_similarity_grouped_repClass_summary_df.csv\", header = True, index = True )"
   ]
  },
  {
   "cell_type": "code",
   "execution_count": 155,
   "id": "7e240ba4-4841-43a8-949e-fbf01e954e8f",
   "metadata": {},
   "outputs": [],
   "source": [
    "logi['squire_tjp2_total_seq_similarity_grouped_repClass_summary_df.csv'] = ['8b' , 'NA' , 'summary df for seq similarity score for all conditions of turner mouse organoid data squire quantified. Including wt, mut and randomly selected sampled as control. This sum df only includes pair-wise comparison of TE from the same class'] "
   ]
  },
  {
   "cell_type": "code",
   "execution_count": 156,
   "id": "2dcb9fa8-1872-40bc-b416-870b2702cd50",
   "metadata": {},
   "outputs": [
    {
     "data": {
      "text/plain": [
       "Index(['count_table_indiv.csv', 'count_table_subF.csv', 'mm39_rmsk_full.tsv',\n",
       "       'Deseq_indiv_locus_results.csv', 'genoLoc_Deseq_indiv_locus_result.csv',\n",
       "       'compare_dTE_overlap/', 'genoLoc_TCPS_Deseq_indiv_locus_result.csv',\n",
       "       'TCPS_all_Deseq_indiv_locus.csv', 'resampled_TCPS_all_TE_indi.csv',\n",
       "       'TCPS_seq_similarity_summary_df.csv',\n",
       "       'squire_tjp2_mut_seq_similarity_summary_df.csv',\n",
       "       'squire_tjp2_wt_seq_similarity_summary_df.csv',\n",
       "       'squire_tjp2_total_seq_similarity_summary_df.csv',\n",
       "       'mouse_human_combined_similarity_suammry_df.csv',\n",
       "       'squire_tjp2_total_seq_similarity_grouped_repClass_summary_df.csv'],\n",
       "      dtype='object')"
      ]
     },
     "execution_count": 156,
     "metadata": {},
     "output_type": "execute_result"
    }
   ],
   "source": [
    "logi.columns"
   ]
  },
  {
   "cell_type": "code",
   "execution_count": 157,
   "id": "903b840d-b4ab-482b-83ae-ff4b5304a152",
   "metadata": {},
   "outputs": [],
   "source": [
    "logi.to_csv(\"OUTPUT_EXPLAIN.csv\", header = True, index = True )"
   ]
  },
  {
   "cell_type": "code",
   "execution_count": null,
   "id": "1cc6870e-791b-459e-94a8-c301a5a15a80",
   "metadata": {},
   "outputs": [],
   "source": []
  }
 ],
 "metadata": {
  "kernelspec": {
   "display_name": "qc_pipe",
   "language": "python",
   "name": "qc_pipe"
  },
  "language_info": {
   "codemirror_mode": {
    "name": "ipython",
    "version": 3
   },
   "file_extension": ".py",
   "mimetype": "text/x-python",
   "name": "python",
   "nbconvert_exporter": "python",
   "pygments_lexer": "ipython3",
   "version": "3.8.5"
  }
 },
 "nbformat": 4,
 "nbformat_minor": 5
}
