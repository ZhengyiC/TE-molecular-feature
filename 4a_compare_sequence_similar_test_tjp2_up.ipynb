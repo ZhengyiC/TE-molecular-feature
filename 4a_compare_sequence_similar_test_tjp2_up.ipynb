{
 "cells": [
  {
   "cell_type": "markdown",
   "id": "f64f6c00-905f-4951-994d-baa375b1d714",
   "metadata": {},
   "source": [
    "# This notebook compares sequence similarity between groups of TEs\n",
    "- this a preparation notebook to :\n",
    "    + get sequence from genome location given the mm39 ref genome\n",
    "    + extract groups of TEs to output to fastas\n",
    "    + use tools to get similarity score within each group\n",
    " \n",
    "- see [notion write up page](https://www.notion.so/Sequence-similarity-comparison-20bd8266960180c59a9cdcf2852533c4?source=copy_link) for detailed comparison design\n",
    "- this notebook computed the similarity scores for the top 10, 20, 50 and last 50 up regulated elements in TJP2 mutant organoids data"
   ]
  },
  {
   "cell_type": "code",
   "execution_count": 17,
   "id": "66544cde-9e3b-492d-96b3-9d94937f52c9",
   "metadata": {},
   "outputs": [],
   "source": [
    "from pyfaidx import Fasta\n",
    "import pandas as pd\n",
    "from Bio.Seq import Seq\n",
    "from pathlib import Path"
   ]
  },
  {
   "cell_type": "code",
   "execution_count": 18,
   "id": "bfa224c1-239b-4eb9-a24a-f81a8ee6d5fd",
   "metadata": {},
   "outputs": [],
   "source": [
    "import pandas as pd\n",
    "import numpy as np\n",
    "import seaborn as sns\n",
    "import matplotlib.pyplot as plt\n",
    "from Bio import SeqIO, pairwise2\n",
    "from itertools import combinations\n",
    "from multiprocessing import Pool, cpu_count\n",
    "from pathlib import Path"
   ]
  },
  {
   "cell_type": "code",
   "execution_count": 3,
   "id": "e40f2a33-820b-4670-9897-6feabb9c5247",
   "metadata": {},
   "outputs": [],
   "source": [
    "#from pairwise2 import format_alignment"
   ]
  },
  {
   "cell_type": "code",
   "execution_count": 4,
   "id": "a362a6da-fcd6-459c-997f-a8a6f0eebc94",
   "metadata": {},
   "outputs": [],
   "source": [
    "import time"
   ]
  },
  {
   "cell_type": "code",
   "execution_count": 5,
   "id": "d504a5e1-49b9-4b40-9f2c-7a25923edc45",
   "metadata": {},
   "outputs": [],
   "source": [
    "import sequence_comparison as seqComp"
   ]
  },
  {
   "cell_type": "code",
   "execution_count": null,
   "id": "cf64cd11-ae2f-4376-9561-7690f60c30c3",
   "metadata": {},
   "outputs": [],
   "source": []
  },
  {
   "cell_type": "markdown",
   "id": "1b1587cc-272b-4447-b1a2-2b22f0499658",
   "metadata": {},
   "source": [
    "## functions"
   ]
  },
  {
   "cell_type": "markdown",
   "id": "01aaeb3e-ccb6-4804-8b02-b6f36672f14d",
   "metadata": {
    "jp-MarkdownHeadingCollapsed": true
   },
   "source": [
    "### in the seqComp file"
   ]
  },
  {
   "cell_type": "code",
   "execution_count": 62,
   "id": "9d7a3fce-205a-4987-85a9-0be622f9e81e",
   "metadata": {},
   "outputs": [],
   "source": [
    "def extract_ucsc_bedlike_regions(\n",
    "    genome_fasta: str,\n",
    "    regions_df: pd.DataFrame,\n",
    "    output_fasta: str,\n",
    "):\n",
    "    \"\"\"\n",
    "    Extracts sequences from a UCSC-style genome FASTA using 0-based, end-exclusive coordinates.\n",
    "    Assumes the region file has 4-5 columns in the order: chrom, start, end, strand, [optional name]\n",
    "    \"\"\"\n",
    "    genome = Fasta(genome_fasta)\n",
    "    #df = pd.read_csv(regions_file, sep=\"\\t\", header=0 if has_header else None)\n",
    "    df = regions_df\n",
    "\n",
    "    if df.shape[1] < 4:\n",
    "        raise ValueError(\"Expected at least 4 columns: chrom, start, end, strand\")\n",
    "\n",
    "    chrom_col, start_col, end_col, strand_col = df.columns[:4]\n",
    "    id_col = df.columns[4] if df.shape[1] > 4 else None\n",
    "\n",
    "    with open(output_fasta, \"w\") as out_fasta:\n",
    "        for idx, row in df.iterrows():\n",
    "            chrom = str(row[chrom_col])\n",
    "            start = int(row[start_col])\n",
    "            end = int(row[end_col])\n",
    "            strand = row[strand_col].strip()\n",
    "            seq_id = row[id_col] if id_col else f\"{chrom}:{start}-{end}({strand})\"\n",
    "\n",
    "            try:\n",
    "                # UCSC-style: 0-based start, end-exclusive\n",
    "                seq = genome[chrom][start:end].seq\n",
    "                if strand == \"-\":\n",
    "                    seq = str(Seq(seq).reverse_complement())\n",
    "                elif strand != \"+\":\n",
    "                    print(f\"Warning: Unknown strand '{strand}' at row {idx}, treating as '+'\")\n",
    "\n",
    "                out_fasta.write(f\">{seq_id}\\n{seq}\\n\")\n",
    "\n",
    "            except KeyError:\n",
    "                print(f\"Warning: Chromosome {chrom} not found in genome FASTA.\")\n",
    "            except Exception as e:\n",
    "                print(f\"Error at {chrom}:{start}-{end} ({strand}): {e}\")\n",
    "\n",
    "    print(f\"✅ Extracted sequences saved to: {output_fasta}\")"
   ]
  },
  {
   "cell_type": "markdown",
   "id": "f4821cf2-7c4d-49e3-b941-35088e4cca0d",
   "metadata": {},
   "source": [
    "visualize some function component"
   ]
  },
  {
   "cell_type": "code",
   "execution_count": 18,
   "id": "94e13158-e368-4077-96a1-7b2b659b2de6",
   "metadata": {},
   "outputs": [
    {
     "data": {
      "text/plain": [
       "Alignment(seqA='ACCGTAGAG', seqB='A-C---GAG', score=5.0, start=0, end=9)"
      ]
     },
     "execution_count": 18,
     "metadata": {},
     "output_type": "execute_result"
    }
   ],
   "source": [
    "seqA = \"AccgTAGAG\"\n",
    "seqB = \"acgag\"\n",
    "alignment = pairwise2.align.globalxx(\"ACCGTAGAG\", \"ACGAG\", one_alignment_only = True)\n",
    "alignment[0]"
   ]
  },
  {
   "cell_type": "code",
   "execution_count": 19,
   "id": "ed2af7fc-b223-492c-a51c-565b39e56f0f",
   "metadata": {},
   "outputs": [
    {
     "name": "stdout",
     "output_type": "stream",
     "text": [
      "ACCGTAGAG\n",
      "| |   |||\n",
      "A-C---GAG\n",
      "  Score=5\n",
      "\n"
     ]
    }
   ],
   "source": [
    "print( pairwise2.format_alignment( *alignment[0] ) )"
   ]
  },
  {
   "cell_type": "code",
   "execution_count": 23,
   "id": "659b1613-cd37-47be-944d-6c5cd3f60323",
   "metadata": {},
   "outputs": [
    {
     "data": {
      "text/plain": [
       "str"
      ]
     },
     "execution_count": 23,
     "metadata": {},
     "output_type": "execute_result"
    }
   ],
   "source": [
    "# check the data type of the alignment\n",
    "formatted_alignment = pairwise2.format_alignment( *alignment[0] )\n",
    "type( formatted_alignment)"
   ]
  },
  {
   "cell_type": "code",
   "execution_count": 22,
   "id": "17acfa51-e4ba-40b1-95e1-9272fad9ae62",
   "metadata": {},
   "outputs": [
    {
     "name": "stdout",
     "output_type": "stream",
     "text": [
      "ACCGTAGAG\n",
      "| |   |||\n",
      "A-C---GAG\n",
      "  Score=5\n",
      "\n"
     ]
    }
   ],
   "source": [
    "print( formatted_alignment )"
   ]
  },
  {
   "cell_type": "code",
   "execution_count": 45,
   "id": "58e7b052-ba1a-4b9f-bc9a-9b45e19c2d48",
   "metadata": {},
   "outputs": [],
   "source": [
    "matches = sum(res1 == res2 for res1, res2 in zip(alignment[0].seqA, alignment[0].seqB))"
   ]
  },
  {
   "cell_type": "code",
   "execution_count": 43,
   "id": "4d563086-7b9d-43df-9e73-254611d5ad2e",
   "metadata": {},
   "outputs": [
    {
     "data": {
      "text/plain": [
       "<zip at 0x7f945dd541c0>"
      ]
     },
     "execution_count": 43,
     "metadata": {},
     "output_type": "execute_result"
    }
   ],
   "source": [
    "zip(alignment[0].seqA, alignment[0].seqB)"
   ]
  },
  {
   "cell_type": "code",
   "execution_count": 40,
   "id": "73504a18-1643-467a-8669-2156cb093241",
   "metadata": {},
   "outputs": [
    {
     "data": {
      "text/plain": [
       "5"
      ]
     },
     "execution_count": 40,
     "metadata": {},
     "output_type": "execute_result"
    }
   ],
   "source": [
    "matches"
   ]
  },
  {
   "cell_type": "code",
   "execution_count": null,
   "id": "2d5010ef-b45e-46e1-a86e-453ebdfb498d",
   "metadata": {},
   "outputs": [],
   "source": []
  },
  {
   "cell_type": "code",
   "execution_count": 48,
   "id": "82e6d68f-f9ce-4689-b2c3-acd897377d34",
   "metadata": {},
   "outputs": [],
   "source": [
    "sequences = [ ('t1', 'abcde'), ('t2', 'abcadae'),('t3', 'knkn'),('t4', 'giuugu')]"
   ]
  },
  {
   "cell_type": "code",
   "execution_count": 49,
   "id": "afa43d2a-09e9-43bf-abe7-4d26a6a49444",
   "metadata": {},
   "outputs": [
    {
     "data": {
      "text/plain": [
       "['t1', 't2', 't3', 't4']"
      ]
     },
     "execution_count": 49,
     "metadata": {},
     "output_type": "execute_result"
    }
   ],
   "source": [
    "[seq_id for seq_id, _ in sequences]"
   ]
  },
  {
   "cell_type": "code",
   "execution_count": 47,
   "id": "352b0b42-ef42-4a4d-a704-96da2975a32d",
   "metadata": {},
   "outputs": [],
   "source": [
    "def load_sequences(fasta_path):\n",
    "    return [(record.id, str(record.seq)) for record in SeqIO.parse(fasta_path, \"fasta\")]\n",
    "\n",
    "def percent_identity(args):\n",
    "    \"\"\" This is the key funtion to compute overlap between two given sequences: \n",
    "            Compute number of aligned bases\n",
    "            Calculate pct alignment ( #aligned / max len of the seqs)\n",
    "    @param args: id1, seq1, id2, seq2 in a tuple\n",
    "    @return (id1, id2, identity, alignment_str): the TE ids, the pct alignment score, and the formatted alignment string \"\"\"\n",
    "    \n",
    "    id1, seq1, id2, seq2 = args\n",
    "    # this alignment step is not case sensitive though\n",
    "    alignment = pairwise2.align.globalxx(seq1, seq2, one_alignment_only=True)[0] # only get one alignment result\n",
    "\n",
    "    # calculate the match scores\n",
    "    matches = sum(res1 == res2 for res1, res2 in zip(alignment.seqA, alignment.seqB))\n",
    "    identity = matches / max(len(seq1), len(seq2)) * 100\n",
    "\n",
    "    #extract the alignment string\n",
    "    alignment_str = pairwise2.format_alignment( *alignment)\n",
    "    \n",
    "    return (id1, id2, identity, alignment_str)\n",
    "\n",
    "def compute_pairwise_identities(sequences, n_jobs=4):\n",
    "    \"\"\"Wrapper function to call percent_identity in a parallele computing way \"\"\"\n",
    "\n",
    "    # get a list of tuples of two sequences and their IDs for all combination of 2 sequences within a group of TEs\n",
    "    args = [(id1, seq1, id2, seq2) for (id1, seq1), (id2, seq2) in combinations(sequences, 2)]\n",
    "\n",
    "    # uses multi-thread processing\n",
    "    with Pool(processes=n_jobs) as pool:\n",
    "        results = pool.map(percent_identity, args) # pool results from multiple calls of the function and inputs \n",
    "    return results\n",
    "\n",
    "def generate_heatmap(pairwise_identities, sequence_ids, output_path):\n",
    "    df = pd.DataFrame(index=sequence_ids, columns=sequence_ids, dtype=float)\n",
    "    for id1, id2, identity in pairwise_identities.values:\n",
    "        df.loc[id1, id2] = identity\n",
    "        df.loc[id2, id1] = identity\n",
    "        df.loc[id1, id1] = 100\n",
    "        df.loc[id2, id2] = 100\n",
    "    sns.clustermap(df.fillna(100), cmap=\"viridis\", figsize=(10, 10), annot=False)\n",
    "    plt.title(\"Pairwise Sequence Identity\")\n",
    "    plt.savefig(output_path, bbox_inches='tight')\n",
    "    plt.close()\n",
    "\n",
    "\n",
    "\n",
    "def process_group(fasta_path, out_dir, n_jobs=None, plot_heatmap = False):\n",
    "    \"\"\" This is the calling function that compares sequence similarity and save the result to an specified out directory \"\"\"\n",
    "    out_dir = Path(out_dir)\n",
    "    out_dir.mkdir(parents=True, exist_ok=True)\n",
    "\n",
    "    sequences = load_sequences(fasta_path)\n",
    "    print(f\"Loaded {len(sequences)} sequences from {fasta_path}\")\n",
    "\n",
    "    pairwise_results = compute_pairwise_identities(sequences, n_jobs or cpu_count())\n",
    "    identities = [identity for _, _, identity, _ in pairwise_results]\n",
    "    \n",
    "    mean_identity = np.mean(identities)\n",
    "    std_identity = np.std(identities)\n",
    "    \n",
    "    print(f\"Average identity: {mean_identity:.2f}% ± {std_identity:.2f}%\")\n",
    "\n",
    "    # Save to CSV\n",
    "    df = pd.DataFrame(pairwise_results, columns=[\"ID1\", \"ID2\", \"PercentIdentity\", \"Alignment_str\"])\n",
    "    df.to_csv(out_dir / f\"{Path(fasta_path).stem}_pairwise_identity.csv\", index=False)\n",
    "\n",
    "    # Heatmap\n",
    "    if( plot_heatmap):\n",
    "        sequence_ids = [seq_id for seq_id, _ in sequences]\n",
    "        heatmap_path = out_dir / f\"{Path(fasta_path).stem}_heatmap.png\"\n",
    "        heatmap_arg1= df.iloc[:, 0:3]\n",
    "        # this stdout is for debugging \n",
    "        #print( f\"debugging: heatmap argument has the dimension of {heatmap_arg1.shape}\")\n",
    "        generate_heatmap(heatmap_arg1, sequence_ids, heatmap_path)\n",
    "\n",
    "    return mean_identity, std_identity\n"
   ]
  },
  {
   "cell_type": "code",
   "execution_count": null,
   "id": "3234eba8-e2ac-4556-853b-b3dbbb9e5dd4",
   "metadata": {},
   "outputs": [],
   "source": []
  },
  {
   "cell_type": "markdown",
   "id": "dd899e29-fc3a-4ddd-829e-49a71a7b54a3",
   "metadata": {},
   "source": [
    "### new functions"
   ]
  },
  {
   "cell_type": "code",
   "execution_count": 96,
   "id": "6cd31f2b-2754-4888-8836-09743ad25856",
   "metadata": {},
   "outputs": [],
   "source": [
    "def alignment_str_parser( aln, line_width = 50, ):\n",
    "    \"\"\" This function prints out the aligned sequences given a display width\n",
    "    @param aln: this should be the alignment string list. Extracted from the pairwise2 comparison formatted alignment string sep by newline to a list\n",
    "    @param line_width: how mang bases to display in one line\n",
    "    @return None, this function print out all the alignments\"\"\"\n",
    "    SEQ1_IND = 0\n",
    "    ALI_IND = 1\n",
    "    SEQ2_IND = 2\n",
    "    NUM_COMPONENT = 3 # number of component: [ seq 1, seq 2 , the aligment vertical lines ]\n",
    "    SCORE_IND = 3\n",
    "\n",
    "    aln_width = max( len( aln[SEQ1_IND]), len( aln[SEQ2_IND]) )\n",
    "    num_line = aln_width//line_width\n",
    "    remainder = aln_width%line_width\n",
    "    print( f\"DEBUG: aln_width = {aln_width}, num_line = {num_line}, remainder = {remainder}\")\n",
    "\n",
    "    line_label_ls = ['TOP','MAT', 'BOT' ]\n",
    "    \n",
    "    if( num_line < 1 ):\n",
    "        #print( 'DEBUG: short seq')\n",
    "        for c in range( NUM_COMPONENT):\n",
    "            print( aln[c])\n",
    "    else:\n",
    "        #print( 'DEBUG: long seq')\n",
    "        for l in range( num_line):\n",
    "            for c in range( NUM_COMPONENT):\n",
    "                curr_line_start = l*line_width\n",
    "                curr_line_end = (l+1)*line_width\n",
    "                \n",
    "                prefix = line_label_ls[c] + str( curr_line_start+1 ) +  \": \"\n",
    "                \n",
    "                print( prefix + aln[c][curr_line_start: curr_line_end] )\n",
    "            print(\"\")\n",
    "        for c2 in range( NUM_COMPONENT):\n",
    "            last_line_start = num_line* line_width\n",
    "            last_line_end = last_line_start + remainder\n",
    "            \n",
    "            prefix = line_label_ls[c] + str( last_line_start+1 ) + \": \"\n",
    "            \n",
    "            print( prefix +  aln[c2][last_line_start: last_line_end ] )\n",
    "\n",
    "    print( aln[SCORE_IND] )\n",
    "    "
   ]
  },
  {
   "cell_type": "code",
   "execution_count": 86,
   "id": "412d3bea-6687-48dc-9afe-f6a3f99c9420",
   "metadata": {},
   "outputs": [],
   "source": [
    "def add_seq_comparison_info( comp_df, deseq_df, merged_result = False):\n",
    "    \"\"\" This function add sequence length information and a adjusted score based on sequence length differences.\n",
    "    An adjusted score: adj_percentIdentity will be calculated, where the formula is total_match / mean( len( seq1), len(seq2) )\n",
    "    @param comp_df: the sequence comparison df that contains pairwise comparison result\n",
    "    @param deseq_df: the DESeq result that contains the genome location \n",
    "    @return a modified comp_df that contains the additional information\n",
    "    \"\"\"\n",
    "\n",
    "    # need: seq1 len, seq2 len, total score, new_avg_score\n",
    "    # declare a return df\n",
    "    ret_df = pd.DataFrame( columns=[ 'ID1', 'ID2', 'seq1_len' , 'seq2_len' , 'total_match' , 'adj_percentIdentity' ], index = comp_df.index )\n",
    "    \n",
    "    TOTAL_MATCH_LINE = -2 # this is the index to find total match score from the alignment str\n",
    "    \n",
    "    for ind in comp_df.index:\n",
    "        #extract info from the comp df\n",
    "        id1, id2, pctIden, aln = comp_df.loc[ind].values\n",
    "\n",
    "        #get sequence length\n",
    "        seq1_len = int( deseq_df.loc[id1, 'genoEnd']) - int( deseq_df.loc[id1, 'genoStart'] )\n",
    "        seq2_len = int( deseq_df.loc[id2, 'genoEnd']) - int( deseq_df.loc[id2, 'genoStart'] )\n",
    "\n",
    "        #get total match score\n",
    "        total_score_str = aln.split(\"\\n\")[TOTAL_MATCH_LINE]\n",
    "        total_score_str = total_score_str.split(\"=\")[1]\n",
    "        total_match = int( total_score_str )\n",
    "\n",
    "        # calculate new score\n",
    "        adj_score = total_match / (sum( [seq1_len, seq2_len ] )*0.5)\n",
    "        adj_score = 100* adj_score\n",
    "\n",
    "        #update the result df\n",
    "        ret_df.loc[ind] = [ id1, id2, seq1_len, seq2_len, total_match, adj_score ] \n",
    "\n",
    "    if( merged_result):\n",
    "        ret_df = pd.merge( left= comp_df, right= ret_df, how = 'left' )\n",
    "    \n",
    "    return ret_df\n",
    "        \n",
    "\n",
    "    "
   ]
  },
  {
   "cell_type": "code",
   "execution_count": null,
   "id": "9d048742-3191-4d3f-a84f-74d2152ec748",
   "metadata": {},
   "outputs": [],
   "source": []
  },
  {
   "cell_type": "markdown",
   "id": "af451fb8-468d-4ccf-9f0f-3fe1e5182909",
   "metadata": {},
   "source": [
    "## load data"
   ]
  },
  {
   "cell_type": "code",
   "execution_count": 6,
   "id": "9ecb8cab-82a7-4524-812a-448bbbc6c2b6",
   "metadata": {},
   "outputs": [
    {
     "data": {
      "text/html": [
       "<div>\n",
       "<style scoped>\n",
       "    .dataframe tbody tr th:only-of-type {\n",
       "        vertical-align: middle;\n",
       "    }\n",
       "\n",
       "    .dataframe tbody tr th {\n",
       "        vertical-align: top;\n",
       "    }\n",
       "\n",
       "    .dataframe thead th {\n",
       "        text-align: right;\n",
       "    }\n",
       "</style>\n",
       "<table border=\"1\" class=\"dataframe\">\n",
       "  <thead>\n",
       "    <tr style=\"text-align: right;\">\n",
       "      <th></th>\n",
       "      <th>TE_ID</th>\n",
       "      <th>baseMean</th>\n",
       "      <th>log2FoldChange</th>\n",
       "      <th>lfcSE</th>\n",
       "      <th>stat</th>\n",
       "      <th>pvalue</th>\n",
       "      <th>padj</th>\n",
       "      <th>element_type</th>\n",
       "      <th>TE_name</th>\n",
       "      <th>TE_index</th>\n",
       "      <th>repName</th>\n",
       "      <th>repFamily</th>\n",
       "      <th>repClass</th>\n",
       "      <th>genoName</th>\n",
       "      <th>genoStart</th>\n",
       "      <th>genoEnd</th>\n",
       "      <th>strand</th>\n",
       "    </tr>\n",
       "  </thead>\n",
       "  <tbody>\n",
       "    <tr>\n",
       "      <th>279_RLTR4_MM-int</th>\n",
       "      <td>chr7|116034016|116036134|RLTR4_MM-int:LTR:LTR|...</td>\n",
       "      <td>13.232138</td>\n",
       "      <td>7.261792</td>\n",
       "      <td>1.103073</td>\n",
       "      <td>6.583238</td>\n",
       "      <td>6.866753e-09</td>\n",
       "      <td>8.559487e-07</td>\n",
       "      <td>TE</td>\n",
       "      <td>RLTR4_MM-int:LTR:LTR</td>\n",
       "      <td>RLTR4_MM-int:LTR:LTR_33</td>\n",
       "      <td>RLTR4_MM-int</td>\n",
       "      <td>LTR</td>\n",
       "      <td>LTR</td>\n",
       "      <td>chr7</td>\n",
       "      <td>116034016</td>\n",
       "      <td>116036134</td>\n",
       "      <td>+</td>\n",
       "    </tr>\n",
       "    <tr>\n",
       "      <th>845_L1MC2</th>\n",
       "      <td>chr5|96975368|96975991|L1MC2:L1:LINE|284|-,.</td>\n",
       "      <td>84.993681</td>\n",
       "      <td>2.143785</td>\n",
       "      <td>0.213613</td>\n",
       "      <td>10.035838</td>\n",
       "      <td>4.290302e-08</td>\n",
       "      <td>4.946900e-06</td>\n",
       "      <td>TE</td>\n",
       "      <td>L1MC2:L1:LINE</td>\n",
       "      <td>L1MC2:L1:LINE_284</td>\n",
       "      <td>L1MC2</td>\n",
       "      <td>L1</td>\n",
       "      <td>LINE</td>\n",
       "      <td>chr5</td>\n",
       "      <td>96975368</td>\n",
       "      <td>96975991</td>\n",
       "      <td>-</td>\n",
       "    </tr>\n",
       "    <tr>\n",
       "      <th>1028_RMER17B2</th>\n",
       "      <td>chr13|4307360|4308212|RMER17B2:ERVK:LTR|222|+,.</td>\n",
       "      <td>57.907641</td>\n",
       "      <td>2.313474</td>\n",
       "      <td>0.250347</td>\n",
       "      <td>9.241055</td>\n",
       "      <td>7.746373e-08</td>\n",
       "      <td>8.620185e-06</td>\n",
       "      <td>TE</td>\n",
       "      <td>RMER17B2:ERVK:LTR</td>\n",
       "      <td>RMER17B2:ERVK:LTR_222</td>\n",
       "      <td>RMER17B2</td>\n",
       "      <td>ERVK</td>\n",
       "      <td>LTR</td>\n",
       "      <td>chr13</td>\n",
       "      <td>4307360</td>\n",
       "      <td>4308212</td>\n",
       "      <td>+</td>\n",
       "    </tr>\n",
       "    <tr>\n",
       "      <th>1229_IAPLTR1_Mm</th>\n",
       "      <td>chr6|28924173|28924528|IAPLTR1_Mm:ERVK:LTR|92|-,.</td>\n",
       "      <td>22.575679</td>\n",
       "      <td>7.303348</td>\n",
       "      <td>1.085208</td>\n",
       "      <td>6.729908</td>\n",
       "      <td>3.153163e-09</td>\n",
       "      <td>4.008132e-07</td>\n",
       "      <td>TE</td>\n",
       "      <td>IAPLTR1_Mm:ERVK:LTR</td>\n",
       "      <td>IAPLTR1_Mm:ERVK:LTR_92</td>\n",
       "      <td>IAPLTR1_Mm</td>\n",
       "      <td>ERVK</td>\n",
       "      <td>LTR</td>\n",
       "      <td>chr6</td>\n",
       "      <td>28924173</td>\n",
       "      <td>28924528</td>\n",
       "      <td>-</td>\n",
       "    </tr>\n",
       "    <tr>\n",
       "      <th>1401_RLTR4_Mm</th>\n",
       "      <td>chr15|76450505|76451202|RLTR4_Mm:ERV1:LTR|14|-,.</td>\n",
       "      <td>49.190795</td>\n",
       "      <td>7.103274</td>\n",
       "      <td>1.107265</td>\n",
       "      <td>6.415154</td>\n",
       "      <td>1.773626e-08</td>\n",
       "      <td>2.128352e-06</td>\n",
       "      <td>TE</td>\n",
       "      <td>RLTR4_Mm:ERV1:LTR</td>\n",
       "      <td>RLTR4_Mm:ERV1:LTR_14</td>\n",
       "      <td>RLTR4_Mm</td>\n",
       "      <td>ERV1</td>\n",
       "      <td>LTR</td>\n",
       "      <td>chr15</td>\n",
       "      <td>76450505</td>\n",
       "      <td>76451202</td>\n",
       "      <td>-</td>\n",
       "    </tr>\n",
       "  </tbody>\n",
       "</table>\n",
       "</div>"
      ],
      "text/plain": [
       "                                                              TE_ID   \n",
       "279_RLTR4_MM-int  chr7|116034016|116036134|RLTR4_MM-int:LTR:LTR|...  \\\n",
       "845_L1MC2              chr5|96975368|96975991|L1MC2:L1:LINE|284|-,.   \n",
       "1028_RMER17B2       chr13|4307360|4308212|RMER17B2:ERVK:LTR|222|+,.   \n",
       "1229_IAPLTR1_Mm   chr6|28924173|28924528|IAPLTR1_Mm:ERVK:LTR|92|-,.   \n",
       "1401_RLTR4_Mm      chr15|76450505|76451202|RLTR4_Mm:ERV1:LTR|14|-,.   \n",
       "\n",
       "                   baseMean  log2FoldChange     lfcSE       stat   \n",
       "279_RLTR4_MM-int  13.232138        7.261792  1.103073   6.583238  \\\n",
       "845_L1MC2         84.993681        2.143785  0.213613  10.035838   \n",
       "1028_RMER17B2     57.907641        2.313474  0.250347   9.241055   \n",
       "1229_IAPLTR1_Mm   22.575679        7.303348  1.085208   6.729908   \n",
       "1401_RLTR4_Mm     49.190795        7.103274  1.107265   6.415154   \n",
       "\n",
       "                        pvalue          padj element_type   \n",
       "279_RLTR4_MM-int  6.866753e-09  8.559487e-07           TE  \\\n",
       "845_L1MC2         4.290302e-08  4.946900e-06           TE   \n",
       "1028_RMER17B2     7.746373e-08  8.620185e-06           TE   \n",
       "1229_IAPLTR1_Mm   3.153163e-09  4.008132e-07           TE   \n",
       "1401_RLTR4_Mm     1.773626e-08  2.128352e-06           TE   \n",
       "\n",
       "                               TE_name                 TE_index       repName   \n",
       "279_RLTR4_MM-int  RLTR4_MM-int:LTR:LTR  RLTR4_MM-int:LTR:LTR_33  RLTR4_MM-int  \\\n",
       "845_L1MC2                L1MC2:L1:LINE        L1MC2:L1:LINE_284         L1MC2   \n",
       "1028_RMER17B2        RMER17B2:ERVK:LTR    RMER17B2:ERVK:LTR_222      RMER17B2   \n",
       "1229_IAPLTR1_Mm    IAPLTR1_Mm:ERVK:LTR   IAPLTR1_Mm:ERVK:LTR_92    IAPLTR1_Mm   \n",
       "1401_RLTR4_Mm        RLTR4_Mm:ERV1:LTR     RLTR4_Mm:ERV1:LTR_14      RLTR4_Mm   \n",
       "\n",
       "                 repFamily repClass genoName  genoStart    genoEnd strand  \n",
       "279_RLTR4_MM-int       LTR      LTR     chr7  116034016  116036134      +  \n",
       "845_L1MC2               L1     LINE     chr5   96975368   96975991      -  \n",
       "1028_RMER17B2         ERVK      LTR    chr13    4307360    4308212      +  \n",
       "1229_IAPLTR1_Mm       ERVK      LTR     chr6   28924173   28924528      -  \n",
       "1401_RLTR4_Mm         ERV1      LTR    chr15   76450505   76451202      -  "
      ]
     },
     "execution_count": 6,
     "metadata": {},
     "output_type": "execute_result"
    }
   ],
   "source": [
    "squire_sig_up = pd.read_csv(\"./compare_dTE_overlap/squire_sig_up.csv\", header = 0, index_col = 0 )\n",
    "squire_sig_up.head()"
   ]
  },
  {
   "cell_type": "code",
   "execution_count": 7,
   "id": "e5457e81-e6ae-449f-ab00-286a5ea9e5a5",
   "metadata": {},
   "outputs": [
    {
     "data": {
      "text/plain": [
       "Index(['TE_ID', 'baseMean', 'log2FoldChange', 'lfcSE', 'stat', 'pvalue',\n",
       "       'padj', 'element_type', 'TE_name', 'TE_index', 'repName', 'repFamily',\n",
       "       'repClass', 'genoName', 'genoStart', 'genoEnd', 'strand'],\n",
       "      dtype='object')"
      ]
     },
     "execution_count": 7,
     "metadata": {},
     "output_type": "execute_result"
    }
   ],
   "source": [
    "squire_sig_up.columns"
   ]
  },
  {
   "cell_type": "code",
   "execution_count": 8,
   "id": "c3328ec0-2734-4e4a-a22f-029c0bfb9186",
   "metadata": {},
   "outputs": [],
   "source": [
    "squire_sig_up['df_index_repName'] = squire_sig_up.index"
   ]
  },
  {
   "cell_type": "code",
   "execution_count": null,
   "id": "9c7df0ef-231a-4b43-ac41-fca7fb49df4e",
   "metadata": {},
   "outputs": [],
   "source": []
  },
  {
   "cell_type": "code",
   "execution_count": null,
   "id": "e1830157-d765-4a4c-a402-062ee5d569dc",
   "metadata": {},
   "outputs": [],
   "source": []
  },
  {
   "cell_type": "code",
   "execution_count": null,
   "id": "edb638dd-118d-48e7-bdd6-0cddbbb9d483",
   "metadata": {},
   "outputs": [],
   "source": []
  },
  {
   "cell_type": "markdown",
   "id": "c38bc654-abae-484b-9afd-2b0b2c8ca6a4",
   "metadata": {},
   "source": [
    "## Testing small samples"
   ]
  },
  {
   "cell_type": "markdown",
   "id": "75725b51-760b-4169-be2a-0dce27ff6cb6",
   "metadata": {},
   "source": [
    "### get squence from genome location:\n",
    "- test case passed"
   ]
  },
  {
   "cell_type": "code",
   "execution_count": 7,
   "id": "08dfb2ef-9f1e-4ee5-93f4-b11d60e682c6",
   "metadata": {},
   "outputs": [],
   "source": [
    "#make region_df\n",
    "test_region_df = squire_sig_up.head()[[ 'genoName', 'genoStart', 'genoEnd', 'strand', 'df_index_repName']]"
   ]
  },
  {
   "cell_type": "code",
   "execution_count": 9,
   "id": "251793cb-e447-4681-9191-bfa1e5bed52b",
   "metadata": {},
   "outputs": [
    {
     "data": {
      "text/html": [
       "<div>\n",
       "<style scoped>\n",
       "    .dataframe tbody tr th:only-of-type {\n",
       "        vertical-align: middle;\n",
       "    }\n",
       "\n",
       "    .dataframe tbody tr th {\n",
       "        vertical-align: top;\n",
       "    }\n",
       "\n",
       "    .dataframe thead th {\n",
       "        text-align: right;\n",
       "    }\n",
       "</style>\n",
       "<table border=\"1\" class=\"dataframe\">\n",
       "  <thead>\n",
       "    <tr style=\"text-align: right;\">\n",
       "      <th></th>\n",
       "      <th>genoName</th>\n",
       "      <th>genoStart</th>\n",
       "      <th>genoEnd</th>\n",
       "      <th>strand</th>\n",
       "      <th>df_index_repName</th>\n",
       "    </tr>\n",
       "  </thead>\n",
       "  <tbody>\n",
       "    <tr>\n",
       "      <th>279_RLTR4_MM-int</th>\n",
       "      <td>chr7</td>\n",
       "      <td>116034016</td>\n",
       "      <td>116036134</td>\n",
       "      <td>+</td>\n",
       "      <td>279_RLTR4_MM-int</td>\n",
       "    </tr>\n",
       "    <tr>\n",
       "      <th>845_L1MC2</th>\n",
       "      <td>chr5</td>\n",
       "      <td>96975368</td>\n",
       "      <td>96975991</td>\n",
       "      <td>-</td>\n",
       "      <td>845_L1MC2</td>\n",
       "    </tr>\n",
       "    <tr>\n",
       "      <th>1028_RMER17B2</th>\n",
       "      <td>chr13</td>\n",
       "      <td>4307360</td>\n",
       "      <td>4308212</td>\n",
       "      <td>+</td>\n",
       "      <td>1028_RMER17B2</td>\n",
       "    </tr>\n",
       "    <tr>\n",
       "      <th>1229_IAPLTR1_Mm</th>\n",
       "      <td>chr6</td>\n",
       "      <td>28924173</td>\n",
       "      <td>28924528</td>\n",
       "      <td>-</td>\n",
       "      <td>1229_IAPLTR1_Mm</td>\n",
       "    </tr>\n",
       "    <tr>\n",
       "      <th>1401_RLTR4_Mm</th>\n",
       "      <td>chr15</td>\n",
       "      <td>76450505</td>\n",
       "      <td>76451202</td>\n",
       "      <td>-</td>\n",
       "      <td>1401_RLTR4_Mm</td>\n",
       "    </tr>\n",
       "  </tbody>\n",
       "</table>\n",
       "</div>"
      ],
      "text/plain": [
       "                 genoName  genoStart    genoEnd strand  df_index_repName\n",
       "279_RLTR4_MM-int     chr7  116034016  116036134      +  279_RLTR4_MM-int\n",
       "845_L1MC2            chr5   96975368   96975991      -         845_L1MC2\n",
       "1028_RMER17B2       chr13    4307360    4308212      +     1028_RMER17B2\n",
       "1229_IAPLTR1_Mm      chr6   28924173   28924528      -   1229_IAPLTR1_Mm\n",
       "1401_RLTR4_Mm       chr15   76450505   76451202      -     1401_RLTR4_Mm"
      ]
     },
     "execution_count": 9,
     "metadata": {},
     "output_type": "execute_result"
    }
   ],
   "source": [
    "test_region_df"
   ]
  },
  {
   "cell_type": "code",
   "execution_count": 8,
   "id": "a59349c8-d4ad-4ee1-9de2-52d74a60b163",
   "metadata": {},
   "outputs": [],
   "source": [
    "mm39_ref_path = '/home/lucy/Dropbox/mouse_ref_genome_mm39/mm39.fa'"
   ]
  },
  {
   "cell_type": "code",
   "execution_count": 11,
   "id": "964e32dd-daef-48d3-916a-954a544d86ad",
   "metadata": {},
   "outputs": [
    {
     "name": "stdout",
     "output_type": "stream",
     "text": [
      "✅ Extracted sequences saved to: test_group.fasta\n"
     ]
    }
   ],
   "source": [
    "# testt usage\n",
    "extract_ucsc_bedlike_regions(\n",
    "    genome_fasta= mm39_ref_path,       # UCSC-style combined FASTA with >chr1, >chr2, etc.\n",
    "    regions_df= test_region_df,       # BED-like file: chr, start, end, strand, [name]\n",
    "    output_fasta=\"test_group.fasta\",\n",
    "    has_header=False                         # Set to True if your TSV file has headers\n",
    ")\n",
    "\n",
    "# this actually works"
   ]
  },
  {
   "cell_type": "code",
   "execution_count": 12,
   "id": "0d3e2045-fbf9-4f91-b2ab-b0336f1170ff",
   "metadata": {},
   "outputs": [],
   "source": [
    "test_region_df2 = squire_sig_up.iloc[ 4:10][[ 'genoName', 'genoStart', 'genoEnd', 'strand', 'df_index_repName']]"
   ]
  },
  {
   "cell_type": "code",
   "execution_count": 13,
   "id": "b8b2607b-11b1-406d-a437-e3b71011d7cc",
   "metadata": {},
   "outputs": [
    {
     "data": {
      "text/html": [
       "<div>\n",
       "<style scoped>\n",
       "    .dataframe tbody tr th:only-of-type {\n",
       "        vertical-align: middle;\n",
       "    }\n",
       "\n",
       "    .dataframe tbody tr th {\n",
       "        vertical-align: top;\n",
       "    }\n",
       "\n",
       "    .dataframe thead th {\n",
       "        text-align: right;\n",
       "    }\n",
       "</style>\n",
       "<table border=\"1\" class=\"dataframe\">\n",
       "  <thead>\n",
       "    <tr style=\"text-align: right;\">\n",
       "      <th></th>\n",
       "      <th>genoName</th>\n",
       "      <th>genoStart</th>\n",
       "      <th>genoEnd</th>\n",
       "      <th>strand</th>\n",
       "      <th>df_index_repName</th>\n",
       "    </tr>\n",
       "  </thead>\n",
       "  <tbody>\n",
       "    <tr>\n",
       "      <th>1401_RLTR4_Mm</th>\n",
       "      <td>chr15</td>\n",
       "      <td>76450505</td>\n",
       "      <td>76451202</td>\n",
       "      <td>-</td>\n",
       "      <td>1401_RLTR4_Mm</td>\n",
       "    </tr>\n",
       "    <tr>\n",
       "      <th>1604_RLTR4_MM-int</th>\n",
       "      <td>chr15</td>\n",
       "      <td>76448211</td>\n",
       "      <td>76450505</td>\n",
       "      <td>-</td>\n",
       "      <td>1604_RLTR4_MM-int</td>\n",
       "    </tr>\n",
       "    <tr>\n",
       "      <th>1762_RLTR4_MM-int</th>\n",
       "      <td>chr1</td>\n",
       "      <td>164056220</td>\n",
       "      <td>164056423</td>\n",
       "      <td>+</td>\n",
       "      <td>1762_RLTR4_MM-int</td>\n",
       "    </tr>\n",
       "    <tr>\n",
       "      <th>1780_RLTR4_MM-int</th>\n",
       "      <td>chr1</td>\n",
       "      <td>182085381</td>\n",
       "      <td>182092968</td>\n",
       "      <td>+</td>\n",
       "      <td>1780_RLTR4_MM-int</td>\n",
       "    </tr>\n",
       "    <tr>\n",
       "      <th>1837_RLTR4_MM-int</th>\n",
       "      <td>chr11</td>\n",
       "      <td>5956407</td>\n",
       "      <td>5958777</td>\n",
       "      <td>+</td>\n",
       "      <td>1837_RLTR4_MM-int</td>\n",
       "    </tr>\n",
       "    <tr>\n",
       "      <th>1891_RLTR4_MM-int</th>\n",
       "      <td>chr1</td>\n",
       "      <td>164054347</td>\n",
       "      <td>164055989</td>\n",
       "      <td>+</td>\n",
       "      <td>1891_RLTR4_MM-int</td>\n",
       "    </tr>\n",
       "  </tbody>\n",
       "</table>\n",
       "</div>"
      ],
      "text/plain": [
       "                  genoName  genoStart    genoEnd strand   df_index_repName\n",
       "1401_RLTR4_Mm        chr15   76450505   76451202      -      1401_RLTR4_Mm\n",
       "1604_RLTR4_MM-int    chr15   76448211   76450505      -  1604_RLTR4_MM-int\n",
       "1762_RLTR4_MM-int     chr1  164056220  164056423      +  1762_RLTR4_MM-int\n",
       "1780_RLTR4_MM-int     chr1  182085381  182092968      +  1780_RLTR4_MM-int\n",
       "1837_RLTR4_MM-int    chr11    5956407    5958777      +  1837_RLTR4_MM-int\n",
       "1891_RLTR4_MM-int     chr1  164054347  164055989      +  1891_RLTR4_MM-int"
      ]
     },
     "execution_count": 13,
     "metadata": {},
     "output_type": "execute_result"
    }
   ],
   "source": [
    "test_region_df2"
   ]
  },
  {
   "cell_type": "code",
   "execution_count": 14,
   "id": "5dd44841-d79d-4c92-be45-805793609082",
   "metadata": {},
   "outputs": [
    {
     "name": "stdout",
     "output_type": "stream",
     "text": [
      "✅ Extracted sequences saved to: test_group2.fasta\n"
     ]
    }
   ],
   "source": [
    "# testt usage\n",
    "extract_ucsc_bedlike_regions(\n",
    "    genome_fasta= mm39_ref_path,       # UCSC-style combined FASTA with >chr1, >chr2, etc.\n",
    "    regions_df= test_region_df2,       # BED-like file: chr, start, end, strand, [name]\n",
    "    output_fasta=\"test_group2.fasta\",\n",
    "    has_header=False                         # Set to True if your TSV file has headers\n",
    ")\n",
    "\n",
    "# this actually works"
   ]
  },
  {
   "cell_type": "code",
   "execution_count": null,
   "id": "cf27e740-0381-4b36-a2b0-a9befe59e1d2",
   "metadata": {},
   "outputs": [],
   "source": []
  },
  {
   "cell_type": "markdown",
   "id": "a8ac98e9-4da4-4ca2-aad4-e75ddbf78349",
   "metadata": {},
   "source": [
    "### compare sequence similarity"
   ]
  },
  {
   "cell_type": "code",
   "execution_count": 18,
   "id": "be36a5e4-4cbe-40ed-a7e0-406549292683",
   "metadata": {},
   "outputs": [
    {
     "name": "stdout",
     "output_type": "stream",
     "text": [
      "Loaded 5 sequences from test_group1.fasta\n",
      "Average identity: 40.61% ± 12.53%\n"
     ]
    },
    {
     "data": {
      "text/plain": [
       "(40.60884004895388, 12.534331263094568)"
      ]
     },
     "execution_count": 18,
     "metadata": {},
     "output_type": "execute_result"
    }
   ],
   "source": [
    "# Example usage:\n",
    "process_group(\"test_group1.fasta\", out_dir=\"test_result\", n_jobs=4)\n",
    "#process_group(\"test_group2.fasta\", out_dir=\"test_result\", n_jobs=4)"
   ]
  },
  {
   "cell_type": "code",
   "execution_count": 19,
   "id": "67793be4-5de6-45b5-bdfe-5555d9c6645b",
   "metadata": {},
   "outputs": [
    {
     "name": "stdout",
     "output_type": "stream",
     "text": [
      "Loaded 6 sequences from test_group2.fasta\n",
      "Average identity: 29.52% ± 22.14%\n"
     ]
    },
    {
     "data": {
      "text/plain": [
       "(29.520296757626912, 22.13635876036034)"
      ]
     },
     "execution_count": 19,
     "metadata": {},
     "output_type": "execute_result"
    }
   ],
   "source": [
    "process_group(\"test_group2.fasta\", out_dir=\"test_result\", n_jobs=4)"
   ]
  },
  {
   "cell_type": "code",
   "execution_count": null,
   "id": "f6617957-d2f4-47dd-a7a0-158bf94d33d1",
   "metadata": {},
   "outputs": [],
   "source": []
  },
  {
   "cell_type": "code",
   "execution_count": null,
   "id": "a16df1a3-ddb7-4c78-b3f9-c03317db8f1c",
   "metadata": {},
   "outputs": [],
   "source": []
  },
  {
   "cell_type": "markdown",
   "id": "49333a66-0a17-40e1-9206-985d8884e296",
   "metadata": {},
   "source": [
    "## Comparing real result"
   ]
  },
  {
   "cell_type": "markdown",
   "id": "c7940a37-fb42-42c2-87ae-10dea381b34c",
   "metadata": {},
   "source": [
    "- Get scores for the conditions of:\n",
    "    + top10, top20, top50, top 50-100, and randomly selected 3 sets of 50 elements\n",
    "    + and also compute the overlapped between the two methods"
   ]
  },
  {
   "cell_type": "markdown",
   "id": "5a3e6f11-1ef7-4f2b-acc6-d4e6bb5c5205",
   "metadata": {},
   "source": [
    "### test a larger group and count time\n",
    "- test squire top 50"
   ]
  },
  {
   "cell_type": "code",
   "execution_count": 9,
   "id": "9583dfbd-eeea-44c5-b859-d744e33af41c",
   "metadata": {},
   "outputs": [
    {
     "data": {
      "text/plain": [
       "(74, 18)"
      ]
     },
     "execution_count": 9,
     "metadata": {},
     "output_type": "execute_result"
    }
   ],
   "source": [
    "squire_sig_up.shape"
   ]
  },
  {
   "cell_type": "code",
   "execution_count": 10,
   "id": "300d2f7e-71c5-4d0e-ac9a-130ef87034b7",
   "metadata": {},
   "outputs": [
    {
     "data": {
      "text/html": [
       "<div>\n",
       "<style scoped>\n",
       "    .dataframe tbody tr th:only-of-type {\n",
       "        vertical-align: middle;\n",
       "    }\n",
       "\n",
       "    .dataframe tbody tr th {\n",
       "        vertical-align: top;\n",
       "    }\n",
       "\n",
       "    .dataframe thead th {\n",
       "        text-align: right;\n",
       "    }\n",
       "</style>\n",
       "<table border=\"1\" class=\"dataframe\">\n",
       "  <thead>\n",
       "    <tr style=\"text-align: right;\">\n",
       "      <th></th>\n",
       "      <th>TE_ID</th>\n",
       "      <th>baseMean</th>\n",
       "      <th>log2FoldChange</th>\n",
       "      <th>lfcSE</th>\n",
       "      <th>stat</th>\n",
       "      <th>pvalue</th>\n",
       "      <th>padj</th>\n",
       "      <th>element_type</th>\n",
       "      <th>TE_name</th>\n",
       "      <th>TE_index</th>\n",
       "      <th>repName</th>\n",
       "      <th>repFamily</th>\n",
       "      <th>repClass</th>\n",
       "      <th>genoName</th>\n",
       "      <th>genoStart</th>\n",
       "      <th>genoEnd</th>\n",
       "      <th>strand</th>\n",
       "      <th>df_index_repName</th>\n",
       "    </tr>\n",
       "  </thead>\n",
       "  <tbody>\n",
       "    <tr>\n",
       "      <th>279_RLTR4_MM-int</th>\n",
       "      <td>chr7|116034016|116036134|RLTR4_MM-int:LTR:LTR|...</td>\n",
       "      <td>13.232138</td>\n",
       "      <td>7.261792</td>\n",
       "      <td>1.103073</td>\n",
       "      <td>6.583238</td>\n",
       "      <td>6.866753e-09</td>\n",
       "      <td>8.559487e-07</td>\n",
       "      <td>TE</td>\n",
       "      <td>RLTR4_MM-int:LTR:LTR</td>\n",
       "      <td>RLTR4_MM-int:LTR:LTR_33</td>\n",
       "      <td>RLTR4_MM-int</td>\n",
       "      <td>LTR</td>\n",
       "      <td>LTR</td>\n",
       "      <td>chr7</td>\n",
       "      <td>116034016</td>\n",
       "      <td>116036134</td>\n",
       "      <td>+</td>\n",
       "      <td>279_RLTR4_MM-int</td>\n",
       "    </tr>\n",
       "    <tr>\n",
       "      <th>845_L1MC2</th>\n",
       "      <td>chr5|96975368|96975991|L1MC2:L1:LINE|284|-,.</td>\n",
       "      <td>84.993681</td>\n",
       "      <td>2.143785</td>\n",
       "      <td>0.213613</td>\n",
       "      <td>10.035838</td>\n",
       "      <td>4.290302e-08</td>\n",
       "      <td>4.946900e-06</td>\n",
       "      <td>TE</td>\n",
       "      <td>L1MC2:L1:LINE</td>\n",
       "      <td>L1MC2:L1:LINE_284</td>\n",
       "      <td>L1MC2</td>\n",
       "      <td>L1</td>\n",
       "      <td>LINE</td>\n",
       "      <td>chr5</td>\n",
       "      <td>96975368</td>\n",
       "      <td>96975991</td>\n",
       "      <td>-</td>\n",
       "      <td>845_L1MC2</td>\n",
       "    </tr>\n",
       "    <tr>\n",
       "      <th>1028_RMER17B2</th>\n",
       "      <td>chr13|4307360|4308212|RMER17B2:ERVK:LTR|222|+,.</td>\n",
       "      <td>57.907641</td>\n",
       "      <td>2.313474</td>\n",
       "      <td>0.250347</td>\n",
       "      <td>9.241055</td>\n",
       "      <td>7.746373e-08</td>\n",
       "      <td>8.620185e-06</td>\n",
       "      <td>TE</td>\n",
       "      <td>RMER17B2:ERVK:LTR</td>\n",
       "      <td>RMER17B2:ERVK:LTR_222</td>\n",
       "      <td>RMER17B2</td>\n",
       "      <td>ERVK</td>\n",
       "      <td>LTR</td>\n",
       "      <td>chr13</td>\n",
       "      <td>4307360</td>\n",
       "      <td>4308212</td>\n",
       "      <td>+</td>\n",
       "      <td>1028_RMER17B2</td>\n",
       "    </tr>\n",
       "    <tr>\n",
       "      <th>1229_IAPLTR1_Mm</th>\n",
       "      <td>chr6|28924173|28924528|IAPLTR1_Mm:ERVK:LTR|92|-,.</td>\n",
       "      <td>22.575679</td>\n",
       "      <td>7.303348</td>\n",
       "      <td>1.085208</td>\n",
       "      <td>6.729908</td>\n",
       "      <td>3.153163e-09</td>\n",
       "      <td>4.008132e-07</td>\n",
       "      <td>TE</td>\n",
       "      <td>IAPLTR1_Mm:ERVK:LTR</td>\n",
       "      <td>IAPLTR1_Mm:ERVK:LTR_92</td>\n",
       "      <td>IAPLTR1_Mm</td>\n",
       "      <td>ERVK</td>\n",
       "      <td>LTR</td>\n",
       "      <td>chr6</td>\n",
       "      <td>28924173</td>\n",
       "      <td>28924528</td>\n",
       "      <td>-</td>\n",
       "      <td>1229_IAPLTR1_Mm</td>\n",
       "    </tr>\n",
       "    <tr>\n",
       "      <th>1401_RLTR4_Mm</th>\n",
       "      <td>chr15|76450505|76451202|RLTR4_Mm:ERV1:LTR|14|-,.</td>\n",
       "      <td>49.190795</td>\n",
       "      <td>7.103274</td>\n",
       "      <td>1.107265</td>\n",
       "      <td>6.415154</td>\n",
       "      <td>1.773626e-08</td>\n",
       "      <td>2.128352e-06</td>\n",
       "      <td>TE</td>\n",
       "      <td>RLTR4_Mm:ERV1:LTR</td>\n",
       "      <td>RLTR4_Mm:ERV1:LTR_14</td>\n",
       "      <td>RLTR4_Mm</td>\n",
       "      <td>ERV1</td>\n",
       "      <td>LTR</td>\n",
       "      <td>chr15</td>\n",
       "      <td>76450505</td>\n",
       "      <td>76451202</td>\n",
       "      <td>-</td>\n",
       "      <td>1401_RLTR4_Mm</td>\n",
       "    </tr>\n",
       "  </tbody>\n",
       "</table>\n",
       "</div>"
      ],
      "text/plain": [
       "                                                              TE_ID   \n",
       "279_RLTR4_MM-int  chr7|116034016|116036134|RLTR4_MM-int:LTR:LTR|...  \\\n",
       "845_L1MC2              chr5|96975368|96975991|L1MC2:L1:LINE|284|-,.   \n",
       "1028_RMER17B2       chr13|4307360|4308212|RMER17B2:ERVK:LTR|222|+,.   \n",
       "1229_IAPLTR1_Mm   chr6|28924173|28924528|IAPLTR1_Mm:ERVK:LTR|92|-,.   \n",
       "1401_RLTR4_Mm      chr15|76450505|76451202|RLTR4_Mm:ERV1:LTR|14|-,.   \n",
       "\n",
       "                   baseMean  log2FoldChange     lfcSE       stat   \n",
       "279_RLTR4_MM-int  13.232138        7.261792  1.103073   6.583238  \\\n",
       "845_L1MC2         84.993681        2.143785  0.213613  10.035838   \n",
       "1028_RMER17B2     57.907641        2.313474  0.250347   9.241055   \n",
       "1229_IAPLTR1_Mm   22.575679        7.303348  1.085208   6.729908   \n",
       "1401_RLTR4_Mm     49.190795        7.103274  1.107265   6.415154   \n",
       "\n",
       "                        pvalue          padj element_type   \n",
       "279_RLTR4_MM-int  6.866753e-09  8.559487e-07           TE  \\\n",
       "845_L1MC2         4.290302e-08  4.946900e-06           TE   \n",
       "1028_RMER17B2     7.746373e-08  8.620185e-06           TE   \n",
       "1229_IAPLTR1_Mm   3.153163e-09  4.008132e-07           TE   \n",
       "1401_RLTR4_Mm     1.773626e-08  2.128352e-06           TE   \n",
       "\n",
       "                               TE_name                 TE_index       repName   \n",
       "279_RLTR4_MM-int  RLTR4_MM-int:LTR:LTR  RLTR4_MM-int:LTR:LTR_33  RLTR4_MM-int  \\\n",
       "845_L1MC2                L1MC2:L1:LINE        L1MC2:L1:LINE_284         L1MC2   \n",
       "1028_RMER17B2        RMER17B2:ERVK:LTR    RMER17B2:ERVK:LTR_222      RMER17B2   \n",
       "1229_IAPLTR1_Mm    IAPLTR1_Mm:ERVK:LTR   IAPLTR1_Mm:ERVK:LTR_92    IAPLTR1_Mm   \n",
       "1401_RLTR4_Mm        RLTR4_Mm:ERV1:LTR     RLTR4_Mm:ERV1:LTR_14      RLTR4_Mm   \n",
       "\n",
       "                 repFamily repClass genoName  genoStart    genoEnd strand   \n",
       "279_RLTR4_MM-int       LTR      LTR     chr7  116034016  116036134      +  \\\n",
       "845_L1MC2               L1     LINE     chr5   96975368   96975991      -   \n",
       "1028_RMER17B2         ERVK      LTR    chr13    4307360    4308212      +   \n",
       "1229_IAPLTR1_Mm       ERVK      LTR     chr6   28924173   28924528      -   \n",
       "1401_RLTR4_Mm         ERV1      LTR    chr15   76450505   76451202      -   \n",
       "\n",
       "                  df_index_repName  \n",
       "279_RLTR4_MM-int  279_RLTR4_MM-int  \n",
       "845_L1MC2                845_L1MC2  \n",
       "1028_RMER17B2        1028_RMER17B2  \n",
       "1229_IAPLTR1_Mm    1229_IAPLTR1_Mm  \n",
       "1401_RLTR4_Mm        1401_RLTR4_Mm  "
      ]
     },
     "execution_count": 10,
     "metadata": {},
     "output_type": "execute_result"
    }
   ],
   "source": [
    "squire_sig_up.head()"
   ]
  },
  {
   "cell_type": "code",
   "execution_count": 11,
   "id": "73e1dc78-37ee-4945-84df-360e6f11a716",
   "metadata": {},
   "outputs": [],
   "source": [
    "squire_sig_up.sort_values( by= 'log2FoldChange', ascending= False , inplace= True )"
   ]
  },
  {
   "cell_type": "code",
   "execution_count": 12,
   "id": "bdebe45c-aa35-4320-b639-5529cead0cee",
   "metadata": {},
   "outputs": [
    {
     "data": {
      "text/html": [
       "<div>\n",
       "<style scoped>\n",
       "    .dataframe tbody tr th:only-of-type {\n",
       "        vertical-align: middle;\n",
       "    }\n",
       "\n",
       "    .dataframe tbody tr th {\n",
       "        vertical-align: top;\n",
       "    }\n",
       "\n",
       "    .dataframe thead th {\n",
       "        text-align: right;\n",
       "    }\n",
       "</style>\n",
       "<table border=\"1\" class=\"dataframe\">\n",
       "  <thead>\n",
       "    <tr style=\"text-align: right;\">\n",
       "      <th></th>\n",
       "      <th>TE_ID</th>\n",
       "      <th>baseMean</th>\n",
       "      <th>log2FoldChange</th>\n",
       "      <th>lfcSE</th>\n",
       "      <th>stat</th>\n",
       "      <th>pvalue</th>\n",
       "      <th>padj</th>\n",
       "      <th>element_type</th>\n",
       "      <th>TE_name</th>\n",
       "      <th>TE_index</th>\n",
       "      <th>repName</th>\n",
       "      <th>repFamily</th>\n",
       "      <th>repClass</th>\n",
       "      <th>genoName</th>\n",
       "      <th>genoStart</th>\n",
       "      <th>genoEnd</th>\n",
       "      <th>strand</th>\n",
       "      <th>df_index_repName</th>\n",
       "    </tr>\n",
       "  </thead>\n",
       "  <tbody>\n",
       "    <tr>\n",
       "      <th>9437_RLTR4_MM-int</th>\n",
       "      <td>chr13|22000000|22003430|RLTR4_MM-int:LTR:LTR|2...</td>\n",
       "      <td>2133.943181</td>\n",
       "      <td>14.594942</td>\n",
       "      <td>1.021194</td>\n",
       "      <td>14.292037</td>\n",
       "      <td>9.752864e-41</td>\n",
       "      <td>4.978605e-38</td>\n",
       "      <td>TE</td>\n",
       "      <td>RLTR4_MM-int:LTR:LTR</td>\n",
       "      <td>RLTR4_MM-int:LTR:LTR_23</td>\n",
       "      <td>RLTR4_MM-int</td>\n",
       "      <td>LTR</td>\n",
       "      <td>LTR</td>\n",
       "      <td>chr13</td>\n",
       "      <td>22000000</td>\n",
       "      <td>22003430</td>\n",
       "      <td>+</td>\n",
       "      <td>9437_RLTR4_MM-int</td>\n",
       "    </tr>\n",
       "    <tr>\n",
       "      <th>11292_RLTR4_Mm</th>\n",
       "      <td>chr13|22003625|22004366|RLTR4_Mm:ERV1:LTR|32|+,.</td>\n",
       "      <td>571.993187</td>\n",
       "      <td>12.694959</td>\n",
       "      <td>1.026310</td>\n",
       "      <td>12.369514</td>\n",
       "      <td>2.210350e-30</td>\n",
       "      <td>8.998084e-28</td>\n",
       "      <td>TE</td>\n",
       "      <td>RLTR4_Mm:ERV1:LTR</td>\n",
       "      <td>RLTR4_Mm:ERV1:LTR_32</td>\n",
       "      <td>RLTR4_Mm</td>\n",
       "      <td>ERV1</td>\n",
       "      <td>LTR</td>\n",
       "      <td>chr13</td>\n",
       "      <td>22003625</td>\n",
       "      <td>22004366</td>\n",
       "      <td>+</td>\n",
       "      <td>11292_RLTR4_Mm</td>\n",
       "    </tr>\n",
       "    <tr>\n",
       "      <th>12455_RLTR4_Mm</th>\n",
       "      <td>chr13|21996579|21997320|RLTR4_Mm:ERV1:LTR|32|+,.</td>\n",
       "      <td>440.726573</td>\n",
       "      <td>12.319839</td>\n",
       "      <td>1.027687</td>\n",
       "      <td>11.987932</td>\n",
       "      <td>1.619963e-28</td>\n",
       "      <td>5.988278e-26</td>\n",
       "      <td>TE</td>\n",
       "      <td>RLTR4_Mm:ERV1:LTR</td>\n",
       "      <td>RLTR4_Mm:ERV1:LTR_32</td>\n",
       "      <td>RLTR4_Mm</td>\n",
       "      <td>ERV1</td>\n",
       "      <td>LTR</td>\n",
       "      <td>chr13</td>\n",
       "      <td>21996579</td>\n",
       "      <td>21997320</td>\n",
       "      <td>+</td>\n",
       "      <td>12455_RLTR4_Mm</td>\n",
       "    </tr>\n",
       "    <tr>\n",
       "      <th>4915_RLTR4_MM-int</th>\n",
       "      <td>chr13|22003422|22003625|RLTR4_MM-int:LTR:LTR|5...</td>\n",
       "      <td>321.002608</td>\n",
       "      <td>11.862092</td>\n",
       "      <td>1.023460</td>\n",
       "      <td>11.590188</td>\n",
       "      <td>1.294914e-26</td>\n",
       "      <td>4.430260e-24</td>\n",
       "      <td>TE</td>\n",
       "      <td>RLTR4_MM-int:LTR:LTR</td>\n",
       "      <td>RLTR4_MM-int:LTR:LTR_5</td>\n",
       "      <td>RLTR4_MM-int</td>\n",
       "      <td>LTR</td>\n",
       "      <td>LTR</td>\n",
       "      <td>chr13</td>\n",
       "      <td>22003422</td>\n",
       "      <td>22003625</td>\n",
       "      <td>+</td>\n",
       "      <td>4915_RLTR4_MM-int</td>\n",
       "    </tr>\n",
       "    <tr>\n",
       "      <th>4128_RLTR4_MM-int</th>\n",
       "      <td>chr13|21997320|22000000|RLTR4_MM-int:LTR:LTR|1...</td>\n",
       "      <td>977.486167</td>\n",
       "      <td>9.566972</td>\n",
       "      <td>0.438444</td>\n",
       "      <td>21.820302</td>\n",
       "      <td>2.533456e-85</td>\n",
       "      <td>2.628257e-82</td>\n",
       "      <td>TE</td>\n",
       "      <td>RLTR4_MM-int:LTR:LTR</td>\n",
       "      <td>RLTR4_MM-int:LTR:LTR_13</td>\n",
       "      <td>RLTR4_MM-int</td>\n",
       "      <td>LTR</td>\n",
       "      <td>LTR</td>\n",
       "      <td>chr13</td>\n",
       "      <td>21997320</td>\n",
       "      <td>22000000</td>\n",
       "      <td>+</td>\n",
       "      <td>4128_RLTR4_MM-int</td>\n",
       "    </tr>\n",
       "  </tbody>\n",
       "</table>\n",
       "</div>"
      ],
      "text/plain": [
       "                                                               TE_ID   \n",
       "9437_RLTR4_MM-int  chr13|22000000|22003430|RLTR4_MM-int:LTR:LTR|2...  \\\n",
       "11292_RLTR4_Mm      chr13|22003625|22004366|RLTR4_Mm:ERV1:LTR|32|+,.   \n",
       "12455_RLTR4_Mm      chr13|21996579|21997320|RLTR4_Mm:ERV1:LTR|32|+,.   \n",
       "4915_RLTR4_MM-int  chr13|22003422|22003625|RLTR4_MM-int:LTR:LTR|5...   \n",
       "4128_RLTR4_MM-int  chr13|21997320|22000000|RLTR4_MM-int:LTR:LTR|1...   \n",
       "\n",
       "                      baseMean  log2FoldChange     lfcSE       stat   \n",
       "9437_RLTR4_MM-int  2133.943181       14.594942  1.021194  14.292037  \\\n",
       "11292_RLTR4_Mm      571.993187       12.694959  1.026310  12.369514   \n",
       "12455_RLTR4_Mm      440.726573       12.319839  1.027687  11.987932   \n",
       "4915_RLTR4_MM-int   321.002608       11.862092  1.023460  11.590188   \n",
       "4128_RLTR4_MM-int   977.486167        9.566972  0.438444  21.820302   \n",
       "\n",
       "                         pvalue          padj element_type   \n",
       "9437_RLTR4_MM-int  9.752864e-41  4.978605e-38           TE  \\\n",
       "11292_RLTR4_Mm     2.210350e-30  8.998084e-28           TE   \n",
       "12455_RLTR4_Mm     1.619963e-28  5.988278e-26           TE   \n",
       "4915_RLTR4_MM-int  1.294914e-26  4.430260e-24           TE   \n",
       "4128_RLTR4_MM-int  2.533456e-85  2.628257e-82           TE   \n",
       "\n",
       "                                TE_name                 TE_index   \n",
       "9437_RLTR4_MM-int  RLTR4_MM-int:LTR:LTR  RLTR4_MM-int:LTR:LTR_23  \\\n",
       "11292_RLTR4_Mm        RLTR4_Mm:ERV1:LTR     RLTR4_Mm:ERV1:LTR_32   \n",
       "12455_RLTR4_Mm        RLTR4_Mm:ERV1:LTR     RLTR4_Mm:ERV1:LTR_32   \n",
       "4915_RLTR4_MM-int  RLTR4_MM-int:LTR:LTR   RLTR4_MM-int:LTR:LTR_5   \n",
       "4128_RLTR4_MM-int  RLTR4_MM-int:LTR:LTR  RLTR4_MM-int:LTR:LTR_13   \n",
       "\n",
       "                        repName repFamily repClass genoName  genoStart   \n",
       "9437_RLTR4_MM-int  RLTR4_MM-int       LTR      LTR    chr13   22000000  \\\n",
       "11292_RLTR4_Mm         RLTR4_Mm      ERV1      LTR    chr13   22003625   \n",
       "12455_RLTR4_Mm         RLTR4_Mm      ERV1      LTR    chr13   21996579   \n",
       "4915_RLTR4_MM-int  RLTR4_MM-int       LTR      LTR    chr13   22003422   \n",
       "4128_RLTR4_MM-int  RLTR4_MM-int       LTR      LTR    chr13   21997320   \n",
       "\n",
       "                    genoEnd strand   df_index_repName  \n",
       "9437_RLTR4_MM-int  22003430      +  9437_RLTR4_MM-int  \n",
       "11292_RLTR4_Mm     22004366      +     11292_RLTR4_Mm  \n",
       "12455_RLTR4_Mm     21997320      +     12455_RLTR4_Mm  \n",
       "4915_RLTR4_MM-int  22003625      +  4915_RLTR4_MM-int  \n",
       "4128_RLTR4_MM-int  22000000      +  4128_RLTR4_MM-int  "
      ]
     },
     "execution_count": 12,
     "metadata": {},
     "output_type": "execute_result"
    }
   ],
   "source": [
    "squire_sig_up.head()"
   ]
  },
  {
   "cell_type": "code",
   "execution_count": 13,
   "id": "b5e7a7da-bf84-46f4-bc5f-26038e9e9351",
   "metadata": {},
   "outputs": [],
   "source": [
    "squire_top50_df = squire_sig_up.iloc[0:50][[ 'genoName', 'genoStart', 'genoEnd', 'strand', 'df_index_repName'] ] "
   ]
  },
  {
   "cell_type": "code",
   "execution_count": 14,
   "id": "5336f5f8-7fe6-421a-a235-3c7b2ed2c812",
   "metadata": {},
   "outputs": [
    {
     "data": {
      "text/html": [
       "<div>\n",
       "<style scoped>\n",
       "    .dataframe tbody tr th:only-of-type {\n",
       "        vertical-align: middle;\n",
       "    }\n",
       "\n",
       "    .dataframe tbody tr th {\n",
       "        vertical-align: top;\n",
       "    }\n",
       "\n",
       "    .dataframe thead th {\n",
       "        text-align: right;\n",
       "    }\n",
       "</style>\n",
       "<table border=\"1\" class=\"dataframe\">\n",
       "  <thead>\n",
       "    <tr style=\"text-align: right;\">\n",
       "      <th></th>\n",
       "      <th>genoName</th>\n",
       "      <th>genoStart</th>\n",
       "      <th>genoEnd</th>\n",
       "      <th>strand</th>\n",
       "      <th>df_index_repName</th>\n",
       "    </tr>\n",
       "  </thead>\n",
       "  <tbody>\n",
       "    <tr>\n",
       "      <th>9437_RLTR4_MM-int</th>\n",
       "      <td>chr13</td>\n",
       "      <td>22000000</td>\n",
       "      <td>22003430</td>\n",
       "      <td>+</td>\n",
       "      <td>9437_RLTR4_MM-int</td>\n",
       "    </tr>\n",
       "    <tr>\n",
       "      <th>11292_RLTR4_Mm</th>\n",
       "      <td>chr13</td>\n",
       "      <td>22003625</td>\n",
       "      <td>22004366</td>\n",
       "      <td>+</td>\n",
       "      <td>11292_RLTR4_Mm</td>\n",
       "    </tr>\n",
       "  </tbody>\n",
       "</table>\n",
       "</div>"
      ],
      "text/plain": [
       "                  genoName  genoStart   genoEnd strand   df_index_repName\n",
       "9437_RLTR4_MM-int    chr13   22000000  22003430      +  9437_RLTR4_MM-int\n",
       "11292_RLTR4_Mm       chr13   22003625  22004366      +     11292_RLTR4_Mm"
      ]
     },
     "execution_count": 14,
     "metadata": {},
     "output_type": "execute_result"
    }
   ],
   "source": [
    "squire_top50_df.head(2)"
   ]
  },
  {
   "cell_type": "code",
   "execution_count": 15,
   "id": "4d0673c2-4aa7-413f-b555-5ee9beff4860",
   "metadata": {},
   "outputs": [
    {
     "data": {
      "text/plain": [
       "(50, 5)"
      ]
     },
     "execution_count": 15,
     "metadata": {},
     "output_type": "execute_result"
    }
   ],
   "source": [
    "squire_top50_df.shape"
   ]
  },
  {
   "cell_type": "markdown",
   "id": "3bda84f3-432d-4d45-9798-27fa73050f1f",
   "metadata": {},
   "source": [
    "<font color = green>Get fasta for the group"
   ]
  },
  {
   "cell_type": "code",
   "execution_count": 18,
   "id": "bac00d3f-3589-415d-8e8a-623cdd5718f3",
   "metadata": {},
   "outputs": [
    {
     "name": "stdout",
     "output_type": "stream",
     "text": [
      "✅ Extracted sequences saved to: squire_top50_df.fasta\n"
     ]
    }
   ],
   "source": [
    "mm39_ref_path = '/home/lucy/Dropbox/mouse_ref_genome_mm39/mm39.fa'\n",
    "seqComp.extract_ucsc_bedlike_regions(\n",
    "    genome_fasta= mm39_ref_path,       # UCSC-style combined FASTA with >chr1, >chr2, etc.\n",
    "    regions_df= squire_top50_df,       # BED-like file: chr, start, end, strand, [name]\n",
    "    output_fasta=\"squire_top50_df.fasta\",\n",
    ")"
   ]
  },
  {
   "cell_type": "code",
   "execution_count": 19,
   "id": "30f28162-4836-4492-9bb3-d8bfecd60883",
   "metadata": {
    "jupyter": {
     "source_hidden": true
    }
   },
   "outputs": [],
   "source": [
    "# test formatting float numbers\n",
    "# fl = 1.2342342\n",
    "# f\"Time used: {fl:.2f} min\""
   ]
  },
  {
   "cell_type": "markdown",
   "id": "0d0fc0a3-a851-4b29-8780-b6379477fff6",
   "metadata": {},
   "source": [
    "<font color = green> get the sequence comparison result"
   ]
  },
  {
   "cell_type": "code",
   "execution_count": 17,
   "id": "3bd317db-a88b-4bb5-a582-99575ac4ee5a",
   "metadata": {},
   "outputs": [
    {
     "name": "stdout",
     "output_type": "stream",
     "text": [
      "Loaded 50 sequences from squire_top50_df.fasta\n",
      "Average identity: 31.57% ± 24.13%\n",
      "Time used: 2.5 min\n"
     ]
    }
   ],
   "source": [
    "TIME_S = time.time()\n",
    "seqComp.process_group(\"squire_top50_df.fasta\", out_dir=\"test_result\", n_jobs=4,plot_heatmap=True )\n",
    "TIME_E = time.time()\n",
    "TOTAL_TIME = (TIME_E - TIME_S)/60\n",
    "print( f\"Time used: {TOTAL_TIME:.1f} min\" )"
   ]
  },
  {
   "cell_type": "code",
   "execution_count": null,
   "id": "481357ec-6de4-49ca-8dad-24d2a33fd9d4",
   "metadata": {},
   "outputs": [],
   "source": []
  },
  {
   "cell_type": "markdown",
   "id": "aa15aa4b-d017-4748-812f-ed28f51df6c6",
   "metadata": {},
   "source": [
    "### compute results for other conditions\n",
    "- top10, top20, last 50"
   ]
  },
  {
   "cell_type": "code",
   "execution_count": 22,
   "id": "64c57d72-10c9-46e3-920d-531a82d09c89",
   "metadata": {},
   "outputs": [],
   "source": [
    "squire_sig_up.sort_values( by= 'log2FoldChange', ascending= False , inplace= True )"
   ]
  },
  {
   "cell_type": "code",
   "execution_count": null,
   "id": "224caae5-bbc2-4c06-a655-3788b2993fd2",
   "metadata": {},
   "outputs": [],
   "source": [
    "squire_sig_up.head()"
   ]
  },
  {
   "cell_type": "code",
   "execution_count": 23,
   "id": "0bfdcf4f-94e1-4e35-95df-cf4050ae11e0",
   "metadata": {},
   "outputs": [],
   "source": [
    "squire_top10_df = squire_sig_up.iloc[0:10][[ 'genoName', 'genoStart', 'genoEnd', 'strand', 'df_index_repName'] ] \n",
    "squire_top20_df = squire_sig_up.iloc[0:20][[ 'genoName', 'genoStart', 'genoEnd', 'strand', 'df_index_repName'] ]\n",
    "squire_last50_df = squire_sig_up.iloc[-50::][[ 'genoName', 'genoStart', 'genoEnd', 'strand', 'df_index_repName'] ] "
   ]
  },
  {
   "cell_type": "code",
   "execution_count": null,
   "id": "090e3cc9-9dbf-471b-a8f1-67244c088bea",
   "metadata": {},
   "outputs": [],
   "source": []
  },
  {
   "cell_type": "code",
   "execution_count": 19,
   "id": "8e305ac5-fe43-4c36-9c7d-eaed2dec9f66",
   "metadata": {},
   "outputs": [
    {
     "name": "stdout",
     "output_type": "stream",
     "text": [
      "✅ Extracted sequences saved to: squire_top10_df.fasta\n"
     ]
    }
   ],
   "source": [
    "# top 10 df\n",
    "mm39_ref_path = '/home/lucy/Dropbox/mouse_ref_genome_mm39/mm39.fa'\n",
    "seqComp.extract_ucsc_bedlike_regions( \n",
    "    genome_fasta= mm39_ref_path,     \n",
    "    regions_df= squire_top10_df,      \n",
    "    output_fasta=\"squire_top10_df.fasta\",\n",
    ")"
   ]
  },
  {
   "cell_type": "code",
   "execution_count": 24,
   "id": "1411d984-feea-4c3e-8596-d8f59ac414b4",
   "metadata": {},
   "outputs": [
    {
     "name": "stdout",
     "output_type": "stream",
     "text": [
      "✅ Extracted sequences saved to: squire_top20_df.fasta\n",
      "✅ Extracted sequences saved to: squire_last50_df.fasta\n"
     ]
    }
   ],
   "source": [
    "# top 20 df\n",
    "mm39_ref_path = '/home/lucy/Dropbox/mouse_ref_genome_mm39/mm39.fa'\n",
    "seqComp.extract_ucsc_bedlike_regions( \n",
    "    genome_fasta= mm39_ref_path,     \n",
    "    regions_df= squire_top20_df,      \n",
    "    output_fasta=\"squire_top20_df.fasta\",\n",
    ")\n",
    "\n",
    "# last 50 df\n",
    "mm39_ref_path = '/home/lucy/Dropbox/mouse_ref_genome_mm39/mm39.fa'\n",
    "seqComp.extract_ucsc_bedlike_regions( \n",
    "    genome_fasta= mm39_ref_path,     \n",
    "    regions_df= squire_last50_df,      \n",
    "    output_fasta=\"squire_last50_df.fasta\",\n",
    ")\n"
   ]
  },
  {
   "cell_type": "code",
   "execution_count": null,
   "id": "66a66c38-83d2-441d-9bf8-b2a461fe365a",
   "metadata": {},
   "outputs": [],
   "source": []
  },
  {
   "cell_type": "code",
   "execution_count": null,
   "id": "b57f3597-b390-4f43-81c6-05cfb73e5775",
   "metadata": {},
   "outputs": [],
   "source": []
  },
  {
   "cell_type": "code",
   "execution_count": null,
   "id": "44e19930-1441-4db1-a240-50e7a02c56e5",
   "metadata": {},
   "outputs": [],
   "source": []
  },
  {
   "cell_type": "code",
   "execution_count": 19,
   "id": "156d6e64-6c9a-42d9-8e37-609983819c1c",
   "metadata": {},
   "outputs": [
    {
     "name": "stdout",
     "output_type": "stream",
     "text": [
      "Loaded 10 sequences from squire_top10_df.fasta\n",
      "Average identity: 29.14% ± 23.45%\n",
      "Time used: 0.2 min\n"
     ]
    }
   ],
   "source": [
    "TIME_S = time.time()\n",
    "seqComp.process_group(\"squire_top10_df.fasta\", out_dir=\"test_result\", n_jobs=4,plot_heatmap=True )\n",
    "TIME_E = time.time()\n",
    "TOTAL_TIME = (TIME_E - TIME_S)/60\n",
    "print( f\"Time used: {TOTAL_TIME:.1f} min\" )"
   ]
  },
  {
   "cell_type": "code",
   "execution_count": 25,
   "id": "a4147f11-44d7-463e-bc36-09d6a326cfd7",
   "metadata": {},
   "outputs": [
    {
     "name": "stdout",
     "output_type": "stream",
     "text": [
      "Loaded 20 sequences from squire_top20_df.fasta\n",
      "Average identity: 30.92% ± 26.19%\n",
      "Time used: 0.3 min\n"
     ]
    }
   ],
   "source": [
    "# top 20 elements\n",
    "TIME_S = time.time()\n",
    "seqComp.process_group(\"squire_top20_df.fasta\", out_dir=\"test_result\", n_jobs=4,plot_heatmap=True )\n",
    "TIME_E = time.time()\n",
    "TOTAL_TIME = (TIME_E - TIME_S)/60\n",
    "print( f\"Time used: {TOTAL_TIME:.1f} min\" )\n"
   ]
  },
  {
   "cell_type": "code",
   "execution_count": 26,
   "id": "cbd0f3e9-2159-4e7d-9f24-ed8d2f49757a",
   "metadata": {},
   "outputs": [
    {
     "name": "stdout",
     "output_type": "stream",
     "text": [
      "Loaded 50 sequences from squire_last50_df.fasta\n",
      "Average identity: 30.86% ± 20.97%\n",
      "Time used: 1.3 min\n"
     ]
    }
   ],
   "source": [
    "# last 50 elements\n",
    "TIME_S = time.time()\n",
    "seqComp.process_group(\"squire_last50_df.fasta\", out_dir=\"test_result\", n_jobs=4,plot_heatmap=True )\n",
    "TIME_E = time.time()\n",
    "TOTAL_TIME = (TIME_E - TIME_S)/60\n",
    "print( f\"Time used: {TOTAL_TIME:.1f} min\" )"
   ]
  },
  {
   "cell_type": "code",
   "execution_count": null,
   "id": "5d158f16-ec33-424f-9ba7-098ff123d51a",
   "metadata": {},
   "outputs": [],
   "source": []
  },
  {
   "cell_type": "code",
   "execution_count": null,
   "id": "1914d122-05d4-4ae1-8863-fff7989af8f0",
   "metadata": {},
   "outputs": [],
   "source": []
  },
  {
   "cell_type": "markdown",
   "id": "cbb2a242-61e2-46b2-960c-4996f9f3fe98",
   "metadata": {},
   "source": [
    "## View result"
   ]
  },
  {
   "cell_type": "code",
   "execution_count": 41,
   "id": "21288106-6cdb-4852-b6e7-9bc788d90591",
   "metadata": {},
   "outputs": [
    {
     "data": {
      "text/html": [
       "<div>\n",
       "<style scoped>\n",
       "    .dataframe tbody tr th:only-of-type {\n",
       "        vertical-align: middle;\n",
       "    }\n",
       "\n",
       "    .dataframe tbody tr th {\n",
       "        vertical-align: top;\n",
       "    }\n",
       "\n",
       "    .dataframe thead th {\n",
       "        text-align: right;\n",
       "    }\n",
       "</style>\n",
       "<table border=\"1\" class=\"dataframe\">\n",
       "  <thead>\n",
       "    <tr style=\"text-align: right;\">\n",
       "      <th></th>\n",
       "      <th>ID1</th>\n",
       "      <th>ID2</th>\n",
       "      <th>PercentIdentity</th>\n",
       "      <th>Alignment_str</th>\n",
       "    </tr>\n",
       "  </thead>\n",
       "  <tbody>\n",
       "    <tr>\n",
       "      <th>0</th>\n",
       "      <td>9437_RLTR4_MM-int</td>\n",
       "      <td>11292_RLTR4_Mm</td>\n",
       "      <td>21.603499</td>\n",
       "      <td>gagactgttggaccagggaatactggtaccctgccagtccccctgg...</td>\n",
       "    </tr>\n",
       "    <tr>\n",
       "      <th>1</th>\n",
       "      <td>9437_RLTR4_MM-int</td>\n",
       "      <td>12455_RLTR4_Mm</td>\n",
       "      <td>21.603499</td>\n",
       "      <td>gagactgttggaccagggaatactggtaccctgccagtccccctgg...</td>\n",
       "    </tr>\n",
       "    <tr>\n",
       "      <th>2</th>\n",
       "      <td>9437_RLTR4_MM-int</td>\n",
       "      <td>4915_RLTR4_MM-int</td>\n",
       "      <td>5.918367</td>\n",
       "      <td>gagactgttggaccagggaatactggtaccctgccagtccccctgg...</td>\n",
       "    </tr>\n",
       "    <tr>\n",
       "      <th>3</th>\n",
       "      <td>9437_RLTR4_MM-int</td>\n",
       "      <td>4128_RLTR4_MM-int</td>\n",
       "      <td>56.180758</td>\n",
       "      <td>gagactgttggaccagggaatactggtaccctg-cc-ag-tccccc...</td>\n",
       "    </tr>\n",
       "    <tr>\n",
       "      <th>4</th>\n",
       "      <td>9437_RLTR4_MM-int</td>\n",
       "      <td>7290_RLTR4_MM-int</td>\n",
       "      <td>44.418084</td>\n",
       "      <td>---g-ag-----act-g---tt-gga--cc-------aggga--a-...</td>\n",
       "    </tr>\n",
       "  </tbody>\n",
       "</table>\n",
       "</div>"
      ],
      "text/plain": [
       "                 ID1                ID2  PercentIdentity   \n",
       "0  9437_RLTR4_MM-int     11292_RLTR4_Mm        21.603499  \\\n",
       "1  9437_RLTR4_MM-int     12455_RLTR4_Mm        21.603499   \n",
       "2  9437_RLTR4_MM-int  4915_RLTR4_MM-int         5.918367   \n",
       "3  9437_RLTR4_MM-int  4128_RLTR4_MM-int        56.180758   \n",
       "4  9437_RLTR4_MM-int  7290_RLTR4_MM-int        44.418084   \n",
       "\n",
       "                                       Alignment_str  \n",
       "0  gagactgttggaccagggaatactggtaccctgccagtccccctgg...  \n",
       "1  gagactgttggaccagggaatactggtaccctgccagtccccctgg...  \n",
       "2  gagactgttggaccagggaatactggtaccctgccagtccccctgg...  \n",
       "3  gagactgttggaccagggaatactggtaccctg-cc-ag-tccccc...  \n",
       "4  ---g-ag-----act-g---tt-gga--cc-------aggga--a-...  "
      ]
     },
     "execution_count": 41,
     "metadata": {},
     "output_type": "execute_result"
    }
   ],
   "source": [
    "squire_top10_result = pd.read_csv(\"./test_result/squire_top10_df_pairwise_identity.csv\", header = 0 , index_col = None)\n",
    "squire_top10_result.head()"
   ]
  },
  {
   "cell_type": "code",
   "execution_count": 14,
   "id": "9acd7184-18e7-43a8-a476-cd03afa3b456",
   "metadata": {},
   "outputs": [
    {
     "data": {
      "text/plain": [
       "(45, 4)"
      ]
     },
     "execution_count": 14,
     "metadata": {},
     "output_type": "execute_result"
    }
   ],
   "source": [
    "squire_top10_result.shape"
   ]
  },
  {
   "cell_type": "code",
   "execution_count": 42,
   "id": "4532225d-9f5f-41f3-98a2-86af44ba5f34",
   "metadata": {},
   "outputs": [],
   "source": [
    "#pairwise2.format_alignment( squire_top10_result.iloc[0,3] )"
   ]
  },
  {
   "cell_type": "markdown",
   "id": "8c1eede6-ca66-4b2a-9297-9ef25b66b279",
   "metadata": {},
   "source": [
    "### check and parse result format here"
   ]
  },
  {
   "cell_type": "code",
   "execution_count": 43,
   "id": "7fbf678f-344d-4794-ad3c-f2d89208ff9b",
   "metadata": {},
   "outputs": [],
   "source": [
    "aln1 = squire_top10_result.loc[0, 'Alignment_str']"
   ]
  },
  {
   "cell_type": "code",
   "execution_count": 44,
   "id": "7a106f87-1ec9-4593-bc86-5eecaa4faf01",
   "metadata": {},
   "outputs": [
    {
     "data": {
      "text/plain": [
       "5"
      ]
     },
     "execution_count": 44,
     "metadata": {},
     "output_type": "execute_result"
    }
   ],
   "source": [
    "aln_ls = aln1.split(\"\\n\")\n",
    "len( aln_ls )"
   ]
  },
  {
   "cell_type": "code",
   "execution_count": 45,
   "id": "421e9e51-e378-4267-af86-988f1919e2ac",
   "metadata": {},
   "outputs": [
    {
     "name": "stdout",
     "output_type": "stream",
     "text": [
      "gagac\n",
      "     \n",
      "-----\n",
      "  Sco\n",
      "\n"
     ]
    }
   ],
   "source": [
    "for i in range( len( aln_ls)):\n",
    "    print( aln_ls[i][0: min( 5, len( aln_ls[i] ) )] )"
   ]
  },
  {
   "cell_type": "code",
   "execution_count": null,
   "id": "e4e719a8-d98a-4a84-9382-4f52d7d618af",
   "metadata": {},
   "outputs": [],
   "source": []
  },
  {
   "cell_type": "code",
   "execution_count": 27,
   "id": "57b9d460-b47b-4001-81e5-6160fcd2343f",
   "metadata": {},
   "outputs": [],
   "source": [
    "#display.max_colwidth"
   ]
  },
  {
   "cell_type": "code",
   "execution_count": 71,
   "id": "0d281f3b-62ea-4ea8-a4c5-48a2d8238404",
   "metadata": {},
   "outputs": [
    {
     "data": {
      "text/plain": [
       "Index(['ID1', 'ID2', 'PercentIdentity', 'Alignment_str'], dtype='object')"
      ]
     },
     "execution_count": 71,
     "metadata": {},
     "output_type": "execute_result"
    }
   ],
   "source": [
    "squire_top10_result.columns"
   ]
  },
  {
   "cell_type": "code",
   "execution_count": 72,
   "id": "f0b2255e-b3ea-4341-b1f8-8475affb6b37",
   "metadata": {},
   "outputs": [
    {
     "data": {
      "text/plain": [
       "Index(['TE_ID', 'baseMean', 'log2FoldChange', 'lfcSE', 'stat', 'pvalue',\n",
       "       'padj', 'element_type', 'TE_name', 'TE_index', 'repName', 'repFamily',\n",
       "       'repClass', 'genoName', 'genoStart', 'genoEnd', 'strand',\n",
       "       'df_index_repName'],\n",
       "      dtype='object')"
      ]
     },
     "execution_count": 72,
     "metadata": {},
     "output_type": "execute_result"
    }
   ],
   "source": [
    "squire_sig_up.columns"
   ]
  },
  {
   "cell_type": "code",
   "execution_count": 60,
   "id": "b553d9c6-96ef-420b-84ff-5ad76ce3c7fd",
   "metadata": {
    "collapsed": true,
    "jupyter": {
     "outputs_hidden": true
    }
   },
   "outputs": [
    {
     "name": "stdout",
     "output_type": "stream",
     "text": [
      "DEBUG: aln_width = 3430, num_line = 34, remainder = 30\n",
      "TOP1: gagactgttggaccagggaatactggtaccctgccagtccccctggaacacgcccctgctacccgttaagaaaccagggactaatgattacaggcctgtc\n",
      "MAT1:                                                                                                     \n",
      "BOT1: ----------------------------------------------------------------------------------------------------\n",
      "\n",
      "TOP101: caagatctgagagaagtcaacaagcgggtggaagacatccaccccaccgtgcccaacccttacaacctcttgagcgggctcccaccgtcccaccagtggt\n",
      "MAT101:                                                                                                     \n",
      "BOT101: ----------------------------------------------------------------------------------------------------\n",
      "\n",
      "TOP201: acactgtgcttgacttaaaggatgcctttttctgcctgagactccaccccaccagtcagcctctcttcgcctttgagtggagagacccagagatgggaat\n",
      "MAT201:                                                                                                     \n",
      "BOT201: ----------------------------------------------------------------------------------------------------\n",
      "\n",
      "TOP301: ctcaggacaattaacctggaccagactcccacagggtttcaaaaacagtcccaccctgtttgatgaggcactgcacagagacctagcaggcttccggatc\n",
      "MAT301:                                                                                                   | \n",
      "BOT301: --------------------------------------------------------------------------------------------------t-\n",
      "\n",
      "TOP401: cagcacccagacttgatcctgctacagtacgtggatgacttactgctggccgccacttctgagctcgactgccaacaaggtactcgggccctgttacaaa\n",
      "MAT401:   | |   | |   || ||  |  |   ||        |  |    |       |      ||   | ||          ||          |       \n",
      "BOT401: --g-a---a-a---ga-cc--c--c---ac--------c--a----t-------a------ag---g-ct----------ta----------g-------\n",
      "\n",
      "TOP501: ccctaggggacctcgggtatcgggcctcggccaagaaagcccaaatttgccagaaacaggtcaagtatctggggtatcttctaaaagagggtcagagatg\n",
      "MAT501:   |      |        |    | ||          ||  |     |    |   || ||  |  | |    |   |  |      |   |      | \n",
      "BOT501: --c------a--------a----g-ct----------ag--c-----t----g---ca-gt--a--a-c----g---c--c------a---t------t-\n",
      "\n",
      "TOP601: gctgactgaggccagaaaagagactgtgatggggcagcctattccgaagacccctcgacaactaagggagttcctagggacggcaggcttctgtcgcctc\n",
      "MAT601:   |   |   | |         |     |    |  |       |    |    | |       |   |      |   |    |          |    \n",
      "BOT601: --t---t---g-c---------a-----a----g--g-------c----a----t-g-------a---a------a---a----a----------g----\n",
      "\n",
      "TOP701: tggatccctgggtttgcagaaatggcagcccccttgtaccctctcaccaaaacggggactctgtttaattggggcccagaccagcaaaaggcctatcaag\n",
      "MAT701: |  |            |        ||        |               |    |   |        |                   ||        |\n",
      "BOT701: t--a------------c--------ca--------g---------------a----g---c--------t-------------------gg--------g\n",
      "\n",
      "TOP801: aaatcaaacaggctcttctaactgccccagccctggggttgccagatttgactaagccctttgaactctttgtcgacgagaagcagggctacgccaaagg\n",
      "MAT801:    |         || || ||       |              ||  || || |||      |||      ||                |    |  |  \n",
      "BOT801: ---t---------tc-tc-aa-------a--------------ag--tt-ac-aag------gaa------gt----------------t----c--a--\n",
      "\n",
      "TOP901: cgtcctaacgcaaaaactgggaccttggcgtcggccggtggcctacctgtccaaaaagctagacccagtggcagctgggtggcccccttgcctacggatg\n",
      "MAT901:  ||  |         | |   |                  |   |    |         |  |   |    ||        |      |   |    |  \n",
      "BOT901: -gt--t---------a-t---a------------------g---a----t---------t--a---a----ca--------g------t---t----a--\n",
      "\n",
      "TOP1001: gtagcagccattgccgttctgacaaaggatgcaggcaagctaactatgggacagccgctagtcattctggccccccatgcggtagaagcactggtcaaac\n",
      "MAT1001:   |  ||  |         |  |     |   | |   |    |  |  |  |      | | |     |     ||  |  |    |    ||      \n",
      "BOT1001: --a--ag--a---------t--c-----a---a-g---g----c--t--g--a------a-t-a-----g-----ca--c--t----g----gg------\n",
      "\n",
      "TOP1101: aaccccctgaccgctggctatccaatgctcgcatgacccactatcaggcaatgctcctagatacggaccgagttcagttcggaccggtggtagccttaaa\n",
      "MAT1101:  |    |  |      |         |   |   |     |   |  | ||     |     |  |   ||  | |  |     |    |  |   |   \n",
      "BOT1101: -a----c--a------g---------g---g---g-----c---c--g-aa-----c-----a--g---ga--t-a--t-----c----g--g---t---\n",
      "\n",
      "TOP1201: cccggccacgttgctccccttgccgggaaaagagaccccccacgactgcctcgagatcttggctgagacacacggcaccagaccggacctcacggaccag\n",
      "MAT1201:          |  |       |                   ||  |  |   |   | |    ||  |      ||  ||   ||||  ||       |||\n",
      "BOT1201: ---------g--g-------t-------------------ca--a--g---c---a-c----ct--g------gg--cc---ccgg--ct-------cag\n",
      "\n",
      "TOP1301: cccctcccaaatgccgaccacacctggtatacagatggaagcagcttcctgcaggaggggcaacgtaaggctggagcagcggtgaccaccgagaccgagg\n",
      "MAT1301:             |  | ||| |    | | ||||||    |  |  |  |             | |    |   || |    |        | |   | |\n",
      "BOT1301: ------------g--g-cca-a----g-a-acagat----g--g--t--t-------------c-t----c---ag-a----t--------a-a---a-g\n",
      "\n",
      "TOP1401: taatctgggccaaggcgttgccagccgggacatccgcccagcgagctgaactaatagcactcacccaggccctaaagatggcagaaggtaagaagctaaa\n",
      "MAT1401:     |  ||  ||       |||| |   | |      ||  || |   ||    ||     |   | |  |         |             |    \n",
      "BOT1401: ----c--gg--aa-------ccag-c---a-a------ca--ga-c---ac----ag-----a---a-g--c---------c-------------c----\n",
      "\n",
      "TOP1501: tgtttatactgatagccgctatgcctttgctaccgcccatgtccatggagaaatatataggagacgtgggttgctcacctcagaaggcaaggagatcaag\n",
      "MAT1501:         | ||||   |  |   |   | |      || |    |   |     | |     |        |       |||||  |       |    \n",
      "BOT1501: --------c-gata---g--a---c---g-t------ca-g----t---g-----t-t-----a--------g-------cagaa--c-------t----\n",
      "\n",
      "TOP1601: aacaagggcgaaatcttggccttactgaaagctctctttctgcccaaaagactcagtataattcactgcccaggacatcagaaaggcaatagtgctgaag\n",
      "MAT1601:     |    |    |||   |  ||||  |        | |           | ||    |   |      |  | ||     | |    || | |   |\n",
      "BOT1601: ----a----g----ctt---c--actg--a--------t-t-----------t-ag----a---a------a--a-at-----a-g----ag-g-t---g\n",
      "\n",
      "TOP1701: ctaaaggcaaccgaatggcggaccaggcagcccgggaagcagccatggggactgacacaaaggcctcctcacttctcatagagacctcaaccccgtacac\n",
      "MAT1701: |   |  | |  |  |                         | | |     ||        ||     |||| || | |       |       |     \n",
      "BOT1701: c---a--c-a--g--t-------------------------g-c-t-----ct--------gg-----tcac-tc-c-t-------t-------g-----\n",
      "\n",
      "TOP1801: tccagacttcttccattatactgaaacagatataaagaacctacgagagttgggagccacatatgatagagagaaaaaatattgggtcctgcaaggtaaa\n",
      "MAT1801:    | |       |      ||      |   |   |    |      | |        |                      |  |  |  |      ||\n",
      "BOT1801: ---a-a-------c------ct------g---t---g----t------g-t--------c----------------------t--g--c--c------aa\n",
      "\n",
      "TOP1901: cctgtgatgcctgaccagttcacctttgaattattagacttccttcaccagctcacccaccttagctatcagaagatgagggcacttctagacagaaaag\n",
      "MAT1901:  | ||  |  |||| |    ||     | | || | |       |     |        ||    | ||       |    |     ||          |\n",
      "BOT1901: -c-gt--t--ctga-c----ca-----g-a-ta-t-g-------t-----g--------cc----c-at-------t----g-----ct----------g\n",
      "\n",
      "TOP2001: aaagcccctattacatgctaaataaagataagatcctccacgaggtggcggaatcatgccaagcctgtgtccaagtaaatgccagtaaagctaaggtcgg\n",
      "MAT2001:  ||   ||   |   | |   ||     | |||  ||   |    |       |  |      ||  | |    ||  |  ||       |      |  \n",
      "BOT2001: -aa---cc---t---t-c---at-----t-aga--ct---c----t-------t--t------cc--t-t----gt--a--cc-------c------c--\n",
      "\n",
      "TOP2101: tcccggggtgcgagtaagaggacatcgaccaggcacccattgggaaattgactttactgaagtaaggcccggactgtatgggcataagtatcttctggtg\n",
      "MAT2101: | ||      |           | |         ||||            | ||| |     |           || |     | || ||          \n",
      "BOT2101: t-cc------c-----------c-t---------accc------------a-ttt-c-----t-----------tg-a-----a-aa-ta----------\n",
      "\n",
      "TOP2201: tttgtggacacgttctctggctgggtggaagccttcccaaccaagcatgagactgccaaagttgtgaccaaaaagcttctagaagaaatatttccaaggt\n",
      "MAT2201:       ||||           |   |    |  ||            | ||| |  |       |    ||||||  ||              ||     \n",
      "BOT2201: ------gaca-----------t---t----g--tt------------t-aga-t--c-------t----aaaaag--tc--------------cc-----\n",
      "\n",
      "TOP2301: ttggaatgccccaagtattggggactgataatgggcctgccttcgtctcccaggtaagtcagtcggtggccaagctactggggattgattggaaactaca\n",
      "MAT2301:      |    ||      |     |     |       |  ||  || |||    ||   |     | |   | |  |        |   ||     | |\n",
      "BOT2301: -----a----cc------t-----c-----a-------g--tt--tc-ccc----aa---a-----t-g---a-c--c--------g---gg-----a-a\n",
      "\n",
      "TOP2401: ttgtgcttacagaccccagagttcaggtcaggtagaaagaatgaataggacaatcaaggagactttgaccaaattaacgcttgcaactggcactagagac\n",
      "MAT2401:     |  |    |  ||      |    |                    | || |       | ||      |||    |  |  |     |||    | \n",
      "BOT2401: ----g--t----a--cc------c----c--------------------a-aa-c-------c-tt------att----c--g--a-----act----a-\n",
      "\n",
      "TOP2501: tgggtactcctacttcccttggccctctaccgagcccgcaacactccgggcccccatggactcactccgtatgaaatcctgtatggggcgcccccgcccc\n",
      "MAT2501:      |  || |                ||| |    |     || |  |    | |    |  || |    |     |  | |               |\n",
      "BOT2501: -----a--cc-a----------------acc-a----g-----ct-c--g----c-t----t--ct-c----g-----c--t-t---------------c\n",
      "\n",
      "TOP2601: ttgttaatttccatgatcctgaaatgtcaaagtttactaatagcccctctctccaagctcacttacaggccctccaagcagtacaacgagaggtctggaa\n",
      "MAT2601:  ||      |  |  | ||      | |   |    ||  |      | | |    |    | |       | ||   |||  |  |       ||   |\n",
      "BOT2601: -tg------t--a--a-cc------g-c---g----ct--t------t-t-t----g----c-t-------c-cc---cag--c--c-------ct---a\n",
      "\n",
      "TOP2701: gcctctggccgctgcctatcaggaccaacaagaccagcctgtgataccacaccccttccgtgtcggcgacaccgtgtgggtacgccggcaccagactaag\n",
      "MAT2701:           ||  |||||        | || |  ||   | | |   |||                 | | |       |              |    \n",
      "BOT2701: ----------gc--cctat--------a-aa-a--ag---g-g-t---aca-----------------a-a-c-------t--------------c----\n",
      "\n",
      "TOP2801: aacttggaacctcgctggaaaggaccctacaccgtcctgctgaccacccccaccgctctcaaagtagacggcatcgctgcgtggatccacgccgctcacg\n",
      "MAT2801:   |     |     |        |  ||    ||    || |           ||  | |       |  |  |  |  |     |     |||   |  \n",
      "BOT2801: --c-----a-----c--------a--ct----cg----gc-g-----------cg--c-c-------a--g--t--c--c-----t-----ccg---a--\n",
      "\n",
      "TOP2901: taaaagcggcgacaacccctccggccggaacagcatcaggaccgacatggaaggtccagcgttctcaaaaccccttaaagataagattaacccgtgggcc\n",
      "MAT2901: |   |     |   |   ||       |   ||  |         |       | ||  ||                  |    |  | ||||    |  \n",
      "BOT2901: t---a-----g---a---ct-------g---ag--t---------c-------g-cc--cg------------------g----g--t-accc----g--\n",
      "\n",
      "TOP3001: cccctgatagtcctggggatcttaataagggcaggagtatcagtaccacatgacagccctcatcaggtcttcaatgttacttggagagttaccaacttaa\n",
      "MAT3001:     || |  |||       |  |||         |  |  ||   | | |       ||  |   |    |  ||     |      ||    ||   |\n",
      "BOT3001: ----tg-t--tcc-------c--aat---------a--a--ag---c-c-t-------ct--t---g----c--tg-----t------tt----ac---a\n",
      "\n",
      "TOP3101: tgacaggacaaacagctaatgctacctccctcctggggacaatgaccgatgcctttcccaaactgtactttgacttgtgcgatttaataggggacgactg\n",
      "MAT3101: |       |   | |   |    |      | |    |    |    |  |          ||  | |   | |   |  |     ||      |  || \n",
      "BOT3101: t-------c---c-g---a----a------t-c----g----t----g--g----------ac--t-c---g-c---t--g-----at------c--ct-\n",
      "\n",
      "TOP3201: ggatgagactggactcgggtgtcgcactcccgggggaagaaaaagggcaagaacatttgacttctatgtttgccccgggcatactgtaccaacagggtgt\n",
      "MAT3201:    |  |   |||     | |  |   |                         |   |  |  |      |        |  |  |       |   | |\n",
      "BOT3201: ---t--g---gga-----g-g--g---t-------------------------c---t--c--c------t--------c--a--g-------a---t-t\n",
      "\n",
      "TOP3301: ggaggcccgagagagggctactgtggcaaatggggctgtgagaccactggacaggcatactggaagccatcatcatcatgggaccttatttcccttaagc\n",
      "MAT3301:                 |  | | | |   |     |  |  |  | |    ||  |   ||||  |             |||        |  | |    \n",
      "BOT3301: ----------------g--a-t-t-g---a-----c--t--g--c-c----ca--c---ctgg--g-------------ggg--------t--c-t----\n",
      "\n",
      "BOT3401: gaggaaacacccctcggaatcagggcccct\n",
      "BOT3401:              |     |||        \n",
      "BOT3401: -------------t-----tca--------\n",
      "  Score=741\n"
     ]
    }
   ],
   "source": [
    "alignment_str_parser( aln_ls, line_width = 100, )"
   ]
  },
  {
   "cell_type": "code",
   "execution_count": 67,
   "id": "1e855e79-b87f-496c-9f1c-4eba60e29b42",
   "metadata": {},
   "outputs": [
    {
     "data": {
      "text/plain": [
       "genoName        chr13\n",
       "genoStart    22003625\n",
       "genoEnd      22004366\n",
       "Name: 11292_RLTR4_Mm, dtype: object"
      ]
     },
     "execution_count": 67,
     "metadata": {},
     "output_type": "execute_result"
    }
   ],
   "source": [
    "squire_sig_up.loc['11292_RLTR4_Mm'][['genoName', 'genoStart' , 'genoEnd']]"
   ]
  },
  {
   "cell_type": "code",
   "execution_count": 68,
   "id": "a8d35639-2109-463d-842d-8712d53d6073",
   "metadata": {},
   "outputs": [
    {
     "data": {
      "text/plain": [
       "genoName        chr13\n",
       "genoStart    21996579\n",
       "genoEnd      21997320\n",
       "Name: 12455_RLTR4_Mm, dtype: object"
      ]
     },
     "execution_count": 68,
     "metadata": {},
     "output_type": "execute_result"
    }
   ],
   "source": [
    "squire_sig_up.loc['12455_RLTR4_Mm'][['genoName', 'genoStart' , 'genoEnd']]"
   ]
  },
  {
   "cell_type": "code",
   "execution_count": 69,
   "id": "1b1f4997-9634-412d-9a46-1bbfd0ea22de",
   "metadata": {},
   "outputs": [
    {
     "data": {
      "text/plain": [
       "7046"
      ]
     },
     "execution_count": 69,
     "metadata": {},
     "output_type": "execute_result"
    }
   ],
   "source": [
    "22003625 - 21996579"
   ]
  },
  {
   "cell_type": "code",
   "execution_count": 64,
   "id": "c865f55f-1863-4b45-abb1-f5596889a832",
   "metadata": {
    "collapsed": true,
    "jupyter": {
     "outputs_hidden": true
    }
   },
   "outputs": [
    {
     "data": {
      "text/html": [
       "<div>\n",
       "<style scoped>\n",
       "    .dataframe tbody tr th:only-of-type {\n",
       "        vertical-align: middle;\n",
       "    }\n",
       "\n",
       "    .dataframe tbody tr th {\n",
       "        vertical-align: top;\n",
       "    }\n",
       "\n",
       "    .dataframe thead th {\n",
       "        text-align: right;\n",
       "    }\n",
       "</style>\n",
       "<table border=\"1\" class=\"dataframe\">\n",
       "  <thead>\n",
       "    <tr style=\"text-align: right;\">\n",
       "      <th></th>\n",
       "      <th>ID1</th>\n",
       "      <th>ID2</th>\n",
       "      <th>PercentIdentity</th>\n",
       "      <th>Alignment_str</th>\n",
       "    </tr>\n",
       "  </thead>\n",
       "  <tbody>\n",
       "    <tr>\n",
       "      <th>9</th>\n",
       "      <td>11292_RLTR4_Mm</td>\n",
       "      <td>12455_RLTR4_Mm</td>\n",
       "      <td>100.000000</td>\n",
       "      <td>tgaaagaccccaccataaggcttagcaagctagctgcagtaacgcc...</td>\n",
       "    </tr>\n",
       "    <tr>\n",
       "      <th>37</th>\n",
       "      <td>7290_RLTR4_MM-int</td>\n",
       "      <td>12083_RLTR4_MM-int</td>\n",
       "      <td>99.749572</td>\n",
       "      <td>tttggaggtc-ccaccgagatttggagacccctgcccagggaccac...</td>\n",
       "    </tr>\n",
       "    <tr>\n",
       "      <th>31</th>\n",
       "      <td>4128_RLTR4_MM-int</td>\n",
       "      <td>8324_RLTR4_MM-int</td>\n",
       "      <td>61.828358</td>\n",
       "      <td>tttggaggttccaccgagatcaggagacccctgcccagggaccac-...</td>\n",
       "    </tr>\n",
       "    <tr>\n",
       "      <th>27</th>\n",
       "      <td>4915_RLTR4_MM-int</td>\n",
       "      <td>9492_B2_Mm2</td>\n",
       "      <td>60.591133</td>\n",
       "      <td>gggccccttg-at-a-at-actctta-t--t-aa---tcct-act-...</td>\n",
       "    </tr>\n",
       "    <tr>\n",
       "      <th>41</th>\n",
       "      <td>8324_RLTR4_MM-int</td>\n",
       "      <td>7627_IAPEY4_I</td>\n",
       "      <td>60.155340</td>\n",
       "      <td>tgg-gcc-tgccttcgtctcccaggtaa--g-tcagtc-ggt---g...</td>\n",
       "    </tr>\n",
       "    <tr>\n",
       "      <th>34</th>\n",
       "      <td>4128_RLTR4_MM-int</td>\n",
       "      <td>7627_IAPEY4_I</td>\n",
       "      <td>58.059701</td>\n",
       "      <td>---t-ttg--ga--ggttccac-c-gagatcaggagacccctgccc...</td>\n",
       "    </tr>\n",
       "    <tr>\n",
       "      <th>3</th>\n",
       "      <td>9437_RLTR4_MM-int</td>\n",
       "      <td>4128_RLTR4_MM-int</td>\n",
       "      <td>56.180758</td>\n",
       "      <td>gagactgttggaccagggaatactggtaccctg-cc-ag-tccccc...</td>\n",
       "    </tr>\n",
       "    <tr>\n",
       "      <th>5</th>\n",
       "      <td>9437_RLTR4_MM-int</td>\n",
       "      <td>8324_RLTR4_MM-int</td>\n",
       "      <td>54.723032</td>\n",
       "      <td>gagactgttggaccagggaatactggtaccctgc-cagtcc-ccct...</td>\n",
       "    </tr>\n",
       "    <tr>\n",
       "      <th>8</th>\n",
       "      <td>9437_RLTR4_MM-int</td>\n",
       "      <td>7627_IAPEY4_I</td>\n",
       "      <td>51.399417</td>\n",
       "      <td>gagactgttggaccagggaatactggtaccctgccagtcccc-ctg...</td>\n",
       "    </tr>\n",
       "    <tr>\n",
       "      <th>4</th>\n",
       "      <td>9437_RLTR4_MM-int</td>\n",
       "      <td>7290_RLTR4_MM-int</td>\n",
       "      <td>44.418084</td>\n",
       "      <td>---g-ag-----act-g---tt-gga--cc-------aggga--a-...</td>\n",
       "    </tr>\n",
       "    <tr>\n",
       "      <th>7</th>\n",
       "      <td>9437_RLTR4_MM-int</td>\n",
       "      <td>12083_RLTR4_MM-int</td>\n",
       "      <td>44.397574</td>\n",
       "      <td>---g-ag-----act-g---tt-gga--cc-------aggga--a-...</td>\n",
       "    </tr>\n",
       "    <tr>\n",
       "      <th>33</th>\n",
       "      <td>4128_RLTR4_MM-int</td>\n",
       "      <td>12083_RLTR4_MM-int</td>\n",
       "      <td>34.985500</td>\n",
       "      <td>tttggaggttccaccgagatca--ggagacccctgcccagggacca...</td>\n",
       "    </tr>\n",
       "    <tr>\n",
       "      <th>30</th>\n",
       "      <td>4128_RLTR4_MM-int</td>\n",
       "      <td>7290_RLTR4_MM-int</td>\n",
       "      <td>34.954527</td>\n",
       "      <td>tttggaggttcc-accgagatca--ggagacccctgcccagggacc...</td>\n",
       "    </tr>\n",
       "    <tr>\n",
       "      <th>40</th>\n",
       "      <td>8324_RLTR4_MM-int</td>\n",
       "      <td>12083_RLTR4_MM-int</td>\n",
       "      <td>33.904561</td>\n",
       "      <td>t--gg-g---cc-------t--g----cc--t--------------...</td>\n",
       "    </tr>\n",
       "    <tr>\n",
       "      <th>35</th>\n",
       "      <td>7290_RLTR4_MM-int</td>\n",
       "      <td>8324_RLTR4_MM-int</td>\n",
       "      <td>33.900092</td>\n",
       "      <td>tttggaggtcccaccgagatttggagacccctgcccagggaccacc...</td>\n",
       "    </tr>\n",
       "    <tr>\n",
       "      <th>23</th>\n",
       "      <td>12455_RLTR4_Mm</td>\n",
       "      <td>7627_IAPEY4_I</td>\n",
       "      <td>30.599914</td>\n",
       "      <td>---tg-----a-----------aagac--ccc-a--cc-ata--a-...</td>\n",
       "    </tr>\n",
       "    <tr>\n",
       "      <th>16</th>\n",
       "      <td>11292_RLTR4_Mm</td>\n",
       "      <td>7627_IAPEY4_I</td>\n",
       "      <td>30.599914</td>\n",
       "      <td>---tg-----a-----------aagac--ccc-a--cc-ata--a-...</td>\n",
       "    </tr>\n",
       "    <tr>\n",
       "      <th>38</th>\n",
       "      <td>7290_RLTR4_MM-int</td>\n",
       "      <td>7627_IAPEY4_I</td>\n",
       "      <td>29.655991</td>\n",
       "      <td>tttggaggtcccaccgagatttggagacccctgcccagggaccacc...</td>\n",
       "    </tr>\n",
       "    <tr>\n",
       "      <th>44</th>\n",
       "      <td>12083_RLTR4_MM-int</td>\n",
       "      <td>7627_IAPEY4_I</td>\n",
       "      <td>29.646718</td>\n",
       "      <td>tttggaggttccaccgagatttggagacccctgcccagggaccacc...</td>\n",
       "    </tr>\n",
       "    <tr>\n",
       "      <th>20</th>\n",
       "      <td>12455_RLTR4_Mm</td>\n",
       "      <td>8324_RLTR4_MM-int</td>\n",
       "      <td>28.310680</td>\n",
       "      <td>tg------------------a---aaga-c---c-----cca--c-...</td>\n",
       "    </tr>\n",
       "    <tr>\n",
       "      <th>13</th>\n",
       "      <td>11292_RLTR4_Mm</td>\n",
       "      <td>8324_RLTR4_MM-int</td>\n",
       "      <td>28.310680</td>\n",
       "      <td>tg------------------a---aaga-c---c-----cca--c-...</td>\n",
       "    </tr>\n",
       "    <tr>\n",
       "      <th>18</th>\n",
       "      <td>12455_RLTR4_Mm</td>\n",
       "      <td>4128_RLTR4_MM-int</td>\n",
       "      <td>26.865672</td>\n",
       "      <td>t--g-a------a---aga-c------ccc------a----cca--...</td>\n",
       "    </tr>\n",
       "    <tr>\n",
       "      <th>11</th>\n",
       "      <td>11292_RLTR4_Mm</td>\n",
       "      <td>4128_RLTR4_MM-int</td>\n",
       "      <td>26.865672</td>\n",
       "      <td>t--g-a------a---aga-c------ccc------a----cca--...</td>\n",
       "    </tr>\n",
       "    <tr>\n",
       "      <th>17</th>\n",
       "      <td>12455_RLTR4_Mm</td>\n",
       "      <td>4915_RLTR4_MM-int</td>\n",
       "      <td>26.855601</td>\n",
       "      <td>tgaaagaccccaccataaggcttagcaagctagctgcagtaacgcc...</td>\n",
       "    </tr>\n",
       "    <tr>\n",
       "      <th>10</th>\n",
       "      <td>11292_RLTR4_Mm</td>\n",
       "      <td>4915_RLTR4_MM-int</td>\n",
       "      <td>26.855601</td>\n",
       "      <td>tgaaagaccccaccataaggcttagcaagctagctgcagtaacgcc...</td>\n",
       "    </tr>\n",
       "    <tr>\n",
       "      <th>21</th>\n",
       "      <td>12455_RLTR4_Mm</td>\n",
       "      <td>9492_B2_Mm2</td>\n",
       "      <td>24.021592</td>\n",
       "      <td>tgaaagaccccaccataaggcttagcaagctagctgcagtaacgcc...</td>\n",
       "    </tr>\n",
       "    <tr>\n",
       "      <th>14</th>\n",
       "      <td>11292_RLTR4_Mm</td>\n",
       "      <td>9492_B2_Mm2</td>\n",
       "      <td>24.021592</td>\n",
       "      <td>tgaaagaccccaccataaggcttagcaagctagctgcagtaacgcc...</td>\n",
       "    </tr>\n",
       "    <tr>\n",
       "      <th>0</th>\n",
       "      <td>9437_RLTR4_MM-int</td>\n",
       "      <td>11292_RLTR4_Mm</td>\n",
       "      <td>21.603499</td>\n",
       "      <td>gagactgttggaccagggaatactggtaccctgccagtccccctgg...</td>\n",
       "    </tr>\n",
       "    <tr>\n",
       "      <th>1</th>\n",
       "      <td>9437_RLTR4_MM-int</td>\n",
       "      <td>12455_RLTR4_Mm</td>\n",
       "      <td>21.603499</td>\n",
       "      <td>gagactgttggaccagggaatactggtaccctgccagtccccctgg...</td>\n",
       "    </tr>\n",
       "    <tr>\n",
       "      <th>22</th>\n",
       "      <td>12455_RLTR4_Mm</td>\n",
       "      <td>12083_RLTR4_MM-int</td>\n",
       "      <td>9.767994</td>\n",
       "      <td>t--g-a------a---aga--------cccc-----a----cca--...</td>\n",
       "    </tr>\n",
       "    <tr>\n",
       "      <th>15</th>\n",
       "      <td>11292_RLTR4_Mm</td>\n",
       "      <td>12083_RLTR4_MM-int</td>\n",
       "      <td>9.767994</td>\n",
       "      <td>t--g-a------a---aga--------cccc-----a----cca--...</td>\n",
       "    </tr>\n",
       "    <tr>\n",
       "      <th>19</th>\n",
       "      <td>12455_RLTR4_Mm</td>\n",
       "      <td>7290_RLTR4_MM-int</td>\n",
       "      <td>9.766706</td>\n",
       "      <td>t--g-a------a---aga--------cccc-----a----cca--...</td>\n",
       "    </tr>\n",
       "    <tr>\n",
       "      <th>12</th>\n",
       "      <td>11292_RLTR4_Mm</td>\n",
       "      <td>7290_RLTR4_MM-int</td>\n",
       "      <td>9.766706</td>\n",
       "      <td>t--g-a------a---aga--------cccc-----a----cca--...</td>\n",
       "    </tr>\n",
       "    <tr>\n",
       "      <th>29</th>\n",
       "      <td>4915_RLTR4_MM-int</td>\n",
       "      <td>7627_IAPEY4_I</td>\n",
       "      <td>8.761329</td>\n",
       "      <td>-g--g----g-c----c-c--------c-----t--t---------...</td>\n",
       "    </tr>\n",
       "    <tr>\n",
       "      <th>26</th>\n",
       "      <td>4915_RLTR4_MM-int</td>\n",
       "      <td>8324_RLTR4_MM-int</td>\n",
       "      <td>7.883495</td>\n",
       "      <td>-gggcc--cctt-g------a--taa-t-a--c--t--c-----t-...</td>\n",
       "    </tr>\n",
       "    <tr>\n",
       "      <th>43</th>\n",
       "      <td>9492_B2_Mm2</td>\n",
       "      <td>7627_IAPEY4_I</td>\n",
       "      <td>7.768666</td>\n",
       "      <td>-g--g------ctgg-------a--g-----a--------------...</td>\n",
       "    </tr>\n",
       "    <tr>\n",
       "      <th>24</th>\n",
       "      <td>4915_RLTR4_MM-int</td>\n",
       "      <td>4128_RLTR4_MM-int</td>\n",
       "      <td>7.574627</td>\n",
       "      <td>---gg-g---cc-cc----t-----------tg---a---------...</td>\n",
       "    </tr>\n",
       "    <tr>\n",
       "      <th>39</th>\n",
       "      <td>8324_RLTR4_MM-int</td>\n",
       "      <td>9492_B2_Mm2</td>\n",
       "      <td>6.990291</td>\n",
       "      <td>tgggcctgccttcgtctcccaggtaagtcagtcggtggccaagcta...</td>\n",
       "    </tr>\n",
       "    <tr>\n",
       "      <th>32</th>\n",
       "      <td>4128_RLTR4_MM-int</td>\n",
       "      <td>9492_B2_Mm2</td>\n",
       "      <td>6.716418</td>\n",
       "      <td>tttggaggttccaccgagatcaggagacccctgcccagggaccacc...</td>\n",
       "    </tr>\n",
       "    <tr>\n",
       "      <th>2</th>\n",
       "      <td>9437_RLTR4_MM-int</td>\n",
       "      <td>4915_RLTR4_MM-int</td>\n",
       "      <td>5.918367</td>\n",
       "      <td>gagactgttggaccagggaatactggtaccctgccagtccccctgg...</td>\n",
       "    </tr>\n",
       "    <tr>\n",
       "      <th>6</th>\n",
       "      <td>9437_RLTR4_MM-int</td>\n",
       "      <td>9492_B2_Mm2</td>\n",
       "      <td>5.247813</td>\n",
       "      <td>gagactgttggaccagggaatactggtaccctgccagtccccctgg...</td>\n",
       "    </tr>\n",
       "    <tr>\n",
       "      <th>28</th>\n",
       "      <td>4915_RLTR4_MM-int</td>\n",
       "      <td>12083_RLTR4_MM-int</td>\n",
       "      <td>2.675982</td>\n",
       "      <td>---gg-g---cc-cc----tt-g-a------t----a---a-----...</td>\n",
       "    </tr>\n",
       "    <tr>\n",
       "      <th>25</th>\n",
       "      <td>4915_RLTR4_MM-int</td>\n",
       "      <td>7290_RLTR4_MM-int</td>\n",
       "      <td>2.675629</td>\n",
       "      <td>---gg-g--ccc-c-----tt-g-a------t----a---a-----...</td>\n",
       "    </tr>\n",
       "    <tr>\n",
       "      <th>42</th>\n",
       "      <td>9492_B2_Mm2</td>\n",
       "      <td>12083_RLTR4_MM-int</td>\n",
       "      <td>2.372792</td>\n",
       "      <td>---gg-----c--------t--ggaga-----g---a---------...</td>\n",
       "    </tr>\n",
       "    <tr>\n",
       "      <th>36</th>\n",
       "      <td>7290_RLTR4_MM-int</td>\n",
       "      <td>9492_B2_Mm2</td>\n",
       "      <td>2.372479</td>\n",
       "      <td>tttggaggtcccaccgagatttggagacccctgcccagggaccacc...</td>\n",
       "    </tr>\n",
       "  </tbody>\n",
       "</table>\n",
       "</div>"
      ],
      "text/plain": [
       "                   ID1                 ID2  PercentIdentity   \n",
       "9       11292_RLTR4_Mm      12455_RLTR4_Mm       100.000000  \\\n",
       "37   7290_RLTR4_MM-int  12083_RLTR4_MM-int        99.749572   \n",
       "31   4128_RLTR4_MM-int   8324_RLTR4_MM-int        61.828358   \n",
       "27   4915_RLTR4_MM-int         9492_B2_Mm2        60.591133   \n",
       "41   8324_RLTR4_MM-int       7627_IAPEY4_I        60.155340   \n",
       "34   4128_RLTR4_MM-int       7627_IAPEY4_I        58.059701   \n",
       "3    9437_RLTR4_MM-int   4128_RLTR4_MM-int        56.180758   \n",
       "5    9437_RLTR4_MM-int   8324_RLTR4_MM-int        54.723032   \n",
       "8    9437_RLTR4_MM-int       7627_IAPEY4_I        51.399417   \n",
       "4    9437_RLTR4_MM-int   7290_RLTR4_MM-int        44.418084   \n",
       "7    9437_RLTR4_MM-int  12083_RLTR4_MM-int        44.397574   \n",
       "33   4128_RLTR4_MM-int  12083_RLTR4_MM-int        34.985500   \n",
       "30   4128_RLTR4_MM-int   7290_RLTR4_MM-int        34.954527   \n",
       "40   8324_RLTR4_MM-int  12083_RLTR4_MM-int        33.904561   \n",
       "35   7290_RLTR4_MM-int   8324_RLTR4_MM-int        33.900092   \n",
       "23      12455_RLTR4_Mm       7627_IAPEY4_I        30.599914   \n",
       "16      11292_RLTR4_Mm       7627_IAPEY4_I        30.599914   \n",
       "38   7290_RLTR4_MM-int       7627_IAPEY4_I        29.655991   \n",
       "44  12083_RLTR4_MM-int       7627_IAPEY4_I        29.646718   \n",
       "20      12455_RLTR4_Mm   8324_RLTR4_MM-int        28.310680   \n",
       "13      11292_RLTR4_Mm   8324_RLTR4_MM-int        28.310680   \n",
       "18      12455_RLTR4_Mm   4128_RLTR4_MM-int        26.865672   \n",
       "11      11292_RLTR4_Mm   4128_RLTR4_MM-int        26.865672   \n",
       "17      12455_RLTR4_Mm   4915_RLTR4_MM-int        26.855601   \n",
       "10      11292_RLTR4_Mm   4915_RLTR4_MM-int        26.855601   \n",
       "21      12455_RLTR4_Mm         9492_B2_Mm2        24.021592   \n",
       "14      11292_RLTR4_Mm         9492_B2_Mm2        24.021592   \n",
       "0    9437_RLTR4_MM-int      11292_RLTR4_Mm        21.603499   \n",
       "1    9437_RLTR4_MM-int      12455_RLTR4_Mm        21.603499   \n",
       "22      12455_RLTR4_Mm  12083_RLTR4_MM-int         9.767994   \n",
       "15      11292_RLTR4_Mm  12083_RLTR4_MM-int         9.767994   \n",
       "19      12455_RLTR4_Mm   7290_RLTR4_MM-int         9.766706   \n",
       "12      11292_RLTR4_Mm   7290_RLTR4_MM-int         9.766706   \n",
       "29   4915_RLTR4_MM-int       7627_IAPEY4_I         8.761329   \n",
       "26   4915_RLTR4_MM-int   8324_RLTR4_MM-int         7.883495   \n",
       "43         9492_B2_Mm2       7627_IAPEY4_I         7.768666   \n",
       "24   4915_RLTR4_MM-int   4128_RLTR4_MM-int         7.574627   \n",
       "39   8324_RLTR4_MM-int         9492_B2_Mm2         6.990291   \n",
       "32   4128_RLTR4_MM-int         9492_B2_Mm2         6.716418   \n",
       "2    9437_RLTR4_MM-int   4915_RLTR4_MM-int         5.918367   \n",
       "6    9437_RLTR4_MM-int         9492_B2_Mm2         5.247813   \n",
       "28   4915_RLTR4_MM-int  12083_RLTR4_MM-int         2.675982   \n",
       "25   4915_RLTR4_MM-int   7290_RLTR4_MM-int         2.675629   \n",
       "42         9492_B2_Mm2  12083_RLTR4_MM-int         2.372792   \n",
       "36   7290_RLTR4_MM-int         9492_B2_Mm2         2.372479   \n",
       "\n",
       "                                        Alignment_str  \n",
       "9   tgaaagaccccaccataaggcttagcaagctagctgcagtaacgcc...  \n",
       "37  tttggaggtc-ccaccgagatttggagacccctgcccagggaccac...  \n",
       "31  tttggaggttccaccgagatcaggagacccctgcccagggaccac-...  \n",
       "27  gggccccttg-at-a-at-actctta-t--t-aa---tcct-act-...  \n",
       "41  tgg-gcc-tgccttcgtctcccaggtaa--g-tcagtc-ggt---g...  \n",
       "34  ---t-ttg--ga--ggttccac-c-gagatcaggagacccctgccc...  \n",
       "3   gagactgttggaccagggaatactggtaccctg-cc-ag-tccccc...  \n",
       "5   gagactgttggaccagggaatactggtaccctgc-cagtcc-ccct...  \n",
       "8   gagactgttggaccagggaatactggtaccctgccagtcccc-ctg...  \n",
       "4   ---g-ag-----act-g---tt-gga--cc-------aggga--a-...  \n",
       "7   ---g-ag-----act-g---tt-gga--cc-------aggga--a-...  \n",
       "33  tttggaggttccaccgagatca--ggagacccctgcccagggacca...  \n",
       "30  tttggaggttcc-accgagatca--ggagacccctgcccagggacc...  \n",
       "40  t--gg-g---cc-------t--g----cc--t--------------...  \n",
       "35  tttggaggtcccaccgagatttggagacccctgcccagggaccacc...  \n",
       "23  ---tg-----a-----------aagac--ccc-a--cc-ata--a-...  \n",
       "16  ---tg-----a-----------aagac--ccc-a--cc-ata--a-...  \n",
       "38  tttggaggtcccaccgagatttggagacccctgcccagggaccacc...  \n",
       "44  tttggaggttccaccgagatttggagacccctgcccagggaccacc...  \n",
       "20  tg------------------a---aaga-c---c-----cca--c-...  \n",
       "13  tg------------------a---aaga-c---c-----cca--c-...  \n",
       "18  t--g-a------a---aga-c------ccc------a----cca--...  \n",
       "11  t--g-a------a---aga-c------ccc------a----cca--...  \n",
       "17  tgaaagaccccaccataaggcttagcaagctagctgcagtaacgcc...  \n",
       "10  tgaaagaccccaccataaggcttagcaagctagctgcagtaacgcc...  \n",
       "21  tgaaagaccccaccataaggcttagcaagctagctgcagtaacgcc...  \n",
       "14  tgaaagaccccaccataaggcttagcaagctagctgcagtaacgcc...  \n",
       "0   gagactgttggaccagggaatactggtaccctgccagtccccctgg...  \n",
       "1   gagactgttggaccagggaatactggtaccctgccagtccccctgg...  \n",
       "22  t--g-a------a---aga--------cccc-----a----cca--...  \n",
       "15  t--g-a------a---aga--------cccc-----a----cca--...  \n",
       "19  t--g-a------a---aga--------cccc-----a----cca--...  \n",
       "12  t--g-a------a---aga--------cccc-----a----cca--...  \n",
       "29  -g--g----g-c----c-c--------c-----t--t---------...  \n",
       "26  -gggcc--cctt-g------a--taa-t-a--c--t--c-----t-...  \n",
       "43  -g--g------ctgg-------a--g-----a--------------...  \n",
       "24  ---gg-g---cc-cc----t-----------tg---a---------...  \n",
       "39  tgggcctgccttcgtctcccaggtaagtcagtcggtggccaagcta...  \n",
       "32  tttggaggttccaccgagatcaggagacccctgcccagggaccacc...  \n",
       "2   gagactgttggaccagggaatactggtaccctgccagtccccctgg...  \n",
       "6   gagactgttggaccagggaatactggtaccctgccagtccccctgg...  \n",
       "28  ---gg-g---cc-cc----tt-g-a------t----a---a-----...  \n",
       "25  ---gg-g--ccc-c-----tt-g-a------t----a---a-----...  \n",
       "42  ---gg-----c--------t--ggaga-----g---a---------...  \n",
       "36  tttggaggtcccaccgagatttggagacccctgcccagggaccacc...  "
      ]
     },
     "execution_count": 64,
     "metadata": {},
     "output_type": "execute_result"
    }
   ],
   "source": [
    "squire_top10_result.sort_values( by = 'PercentIdentity', ascending= False)"
   ]
  },
  {
   "cell_type": "code",
   "execution_count": null,
   "id": "ec5f5fd0-1893-459b-8aac-1d7072e56bf2",
   "metadata": {},
   "outputs": [],
   "source": []
  },
  {
   "cell_type": "markdown",
   "id": "afdb186a-d95a-4659-bf62-555766970249",
   "metadata": {},
   "source": [
    "### add additional information to the result df"
   ]
  },
  {
   "cell_type": "code",
   "execution_count": 87,
   "id": "54dccf25-3611-4277-8dcb-a4152774b2ee",
   "metadata": {},
   "outputs": [],
   "source": [
    "adjusted_top10_result = add_seq_comparison_info( squire_top10_result, squire_sig_up, merged_result= True )"
   ]
  },
  {
   "cell_type": "code",
   "execution_count": 88,
   "id": "e49ebf40-1bb0-48f1-a30f-2af02227c0e7",
   "metadata": {},
   "outputs": [
    {
     "data": {
      "text/html": [
       "<div>\n",
       "<style scoped>\n",
       "    .dataframe tbody tr th:only-of-type {\n",
       "        vertical-align: middle;\n",
       "    }\n",
       "\n",
       "    .dataframe tbody tr th {\n",
       "        vertical-align: top;\n",
       "    }\n",
       "\n",
       "    .dataframe thead th {\n",
       "        text-align: right;\n",
       "    }\n",
       "</style>\n",
       "<table border=\"1\" class=\"dataframe\">\n",
       "  <thead>\n",
       "    <tr style=\"text-align: right;\">\n",
       "      <th></th>\n",
       "      <th>ID1</th>\n",
       "      <th>ID2</th>\n",
       "      <th>PercentIdentity</th>\n",
       "      <th>Alignment_str</th>\n",
       "      <th>seq1_len</th>\n",
       "      <th>seq2_len</th>\n",
       "      <th>total_match</th>\n",
       "      <th>adj_percentIdentity</th>\n",
       "    </tr>\n",
       "  </thead>\n",
       "  <tbody>\n",
       "    <tr>\n",
       "      <th>0</th>\n",
       "      <td>9437_RLTR4_MM-int</td>\n",
       "      <td>11292_RLTR4_Mm</td>\n",
       "      <td>21.603499</td>\n",
       "      <td>gagactgttggaccagggaatactggtaccctgccagtccccctgg...</td>\n",
       "      <td>3430</td>\n",
       "      <td>741</td>\n",
       "      <td>741</td>\n",
       "      <td>35.531048</td>\n",
       "    </tr>\n",
       "    <tr>\n",
       "      <th>1</th>\n",
       "      <td>9437_RLTR4_MM-int</td>\n",
       "      <td>12455_RLTR4_Mm</td>\n",
       "      <td>21.603499</td>\n",
       "      <td>gagactgttggaccagggaatactggtaccctgccagtccccctgg...</td>\n",
       "      <td>3430</td>\n",
       "      <td>741</td>\n",
       "      <td>741</td>\n",
       "      <td>35.531048</td>\n",
       "    </tr>\n",
       "    <tr>\n",
       "      <th>2</th>\n",
       "      <td>9437_RLTR4_MM-int</td>\n",
       "      <td>4915_RLTR4_MM-int</td>\n",
       "      <td>5.918367</td>\n",
       "      <td>gagactgttggaccagggaatactggtaccctgccagtccccctgg...</td>\n",
       "      <td>3430</td>\n",
       "      <td>203</td>\n",
       "      <td>203</td>\n",
       "      <td>11.175337</td>\n",
       "    </tr>\n",
       "    <tr>\n",
       "      <th>3</th>\n",
       "      <td>9437_RLTR4_MM-int</td>\n",
       "      <td>4128_RLTR4_MM-int</td>\n",
       "      <td>56.180758</td>\n",
       "      <td>gagactgttggaccagggaatactggtaccctg-cc-ag-tccccc...</td>\n",
       "      <td>3430</td>\n",
       "      <td>2680</td>\n",
       "      <td>1927</td>\n",
       "      <td>63.076923</td>\n",
       "    </tr>\n",
       "    <tr>\n",
       "      <th>4</th>\n",
       "      <td>9437_RLTR4_MM-int</td>\n",
       "      <td>7290_RLTR4_MM-int</td>\n",
       "      <td>44.418084</td>\n",
       "      <td>---g-ag-----act-g---tt-gga--cc-------aggga--a-...</td>\n",
       "      <td>3430</td>\n",
       "      <td>7587</td>\n",
       "      <td>3370</td>\n",
       "      <td>61.178179</td>\n",
       "    </tr>\n",
       "  </tbody>\n",
       "</table>\n",
       "</div>"
      ],
      "text/plain": [
       "                 ID1                ID2  PercentIdentity   \n",
       "0  9437_RLTR4_MM-int     11292_RLTR4_Mm        21.603499  \\\n",
       "1  9437_RLTR4_MM-int     12455_RLTR4_Mm        21.603499   \n",
       "2  9437_RLTR4_MM-int  4915_RLTR4_MM-int         5.918367   \n",
       "3  9437_RLTR4_MM-int  4128_RLTR4_MM-int        56.180758   \n",
       "4  9437_RLTR4_MM-int  7290_RLTR4_MM-int        44.418084   \n",
       "\n",
       "                                       Alignment_str seq1_len seq2_len   \n",
       "0  gagactgttggaccagggaatactggtaccctgccagtccccctgg...     3430      741  \\\n",
       "1  gagactgttggaccagggaatactggtaccctgccagtccccctgg...     3430      741   \n",
       "2  gagactgttggaccagggaatactggtaccctgccagtccccctgg...     3430      203   \n",
       "3  gagactgttggaccagggaatactggtaccctg-cc-ag-tccccc...     3430     2680   \n",
       "4  ---g-ag-----act-g---tt-gga--cc-------aggga--a-...     3430     7587   \n",
       "\n",
       "  total_match adj_percentIdentity  \n",
       "0         741           35.531048  \n",
       "1         741           35.531048  \n",
       "2         203           11.175337  \n",
       "3        1927           63.076923  \n",
       "4        3370           61.178179  "
      ]
     },
     "execution_count": 88,
     "metadata": {},
     "output_type": "execute_result"
    }
   ],
   "source": [
    "adjusted_top10_result.head()"
   ]
  },
  {
   "cell_type": "code",
   "execution_count": 90,
   "id": "a7e7a199-f6ab-401d-af66-b3aa67ea140a",
   "metadata": {},
   "outputs": [],
   "source": [
    "adjusted_top10_result.sort_values( by = 'adj_percentIdentity', ascending= False , inplace=True)"
   ]
  },
  {
   "cell_type": "code",
   "execution_count": 92,
   "id": "d11ffd80-07dc-4660-9f2b-2223316f251c",
   "metadata": {},
   "outputs": [
    {
     "data": {
      "text/html": [
       "<div>\n",
       "<style scoped>\n",
       "    .dataframe tbody tr th:only-of-type {\n",
       "        vertical-align: middle;\n",
       "    }\n",
       "\n",
       "    .dataframe tbody tr th {\n",
       "        vertical-align: top;\n",
       "    }\n",
       "\n",
       "    .dataframe thead th {\n",
       "        text-align: right;\n",
       "    }\n",
       "</style>\n",
       "<table border=\"1\" class=\"dataframe\">\n",
       "  <thead>\n",
       "    <tr style=\"text-align: right;\">\n",
       "      <th></th>\n",
       "      <th>ID1</th>\n",
       "      <th>ID2</th>\n",
       "      <th>PercentIdentity</th>\n",
       "      <th>Alignment_str</th>\n",
       "      <th>seq1_len</th>\n",
       "      <th>seq2_len</th>\n",
       "      <th>total_match</th>\n",
       "      <th>adj_percentIdentity</th>\n",
       "    </tr>\n",
       "  </thead>\n",
       "  <tbody>\n",
       "    <tr>\n",
       "      <th>27</th>\n",
       "      <td>4915_RLTR4_MM-int</td>\n",
       "      <td>9492_B2_Mm2</td>\n",
       "      <td>60.591133</td>\n",
       "      <td>gggccccttg-at-a-at-actctta-t--t-aa---tcct-act-...</td>\n",
       "      <td>203</td>\n",
       "      <td>180</td>\n",
       "      <td>123</td>\n",
       "      <td>64.229765</td>\n",
       "    </tr>\n",
       "    <tr>\n",
       "      <th>41</th>\n",
       "      <td>8324_RLTR4_MM-int</td>\n",
       "      <td>7627_IAPEY4_I</td>\n",
       "      <td>60.155340</td>\n",
       "      <td>tgg-gcc-tgccttcgtctcccaggtaa--g-tcagtc-ggt---g...</td>\n",
       "      <td>2575</td>\n",
       "      <td>2317</td>\n",
       "      <td>1549</td>\n",
       "      <td>63.327882</td>\n",
       "    </tr>\n",
       "    <tr>\n",
       "      <th>3</th>\n",
       "      <td>9437_RLTR4_MM-int</td>\n",
       "      <td>4128_RLTR4_MM-int</td>\n",
       "      <td>56.180758</td>\n",
       "      <td>gagactgttggaccagggaatactggtaccctg-cc-ag-tccccc...</td>\n",
       "      <td>3430</td>\n",
       "      <td>2680</td>\n",
       "      <td>1927</td>\n",
       "      <td>63.076923</td>\n",
       "    </tr>\n",
       "    <tr>\n",
       "      <th>31</th>\n",
       "      <td>4128_RLTR4_MM-int</td>\n",
       "      <td>8324_RLTR4_MM-int</td>\n",
       "      <td>61.828358</td>\n",
       "      <td>tttggaggttccaccgagatcaggagacccctgcccagggaccac-...</td>\n",
       "      <td>2680</td>\n",
       "      <td>2575</td>\n",
       "      <td>1657</td>\n",
       "      <td>63.063749</td>\n",
       "    </tr>\n",
       "    <tr>\n",
       "      <th>5</th>\n",
       "      <td>9437_RLTR4_MM-int</td>\n",
       "      <td>8324_RLTR4_MM-int</td>\n",
       "      <td>54.723032</td>\n",
       "      <td>gagactgttggaccagggaatactggtaccctgc-cagtcc-ccct...</td>\n",
       "      <td>3430</td>\n",
       "      <td>2575</td>\n",
       "      <td>1877</td>\n",
       "      <td>62.514571</td>\n",
       "    </tr>\n",
       "    <tr>\n",
       "      <th>34</th>\n",
       "      <td>4128_RLTR4_MM-int</td>\n",
       "      <td>7627_IAPEY4_I</td>\n",
       "      <td>58.059701</td>\n",
       "      <td>---t-ttg--ga--ggttccac-c-gagatcaggagacccctgccc...</td>\n",
       "      <td>2680</td>\n",
       "      <td>2317</td>\n",
       "      <td>1556</td>\n",
       "      <td>62.277366</td>\n",
       "    </tr>\n",
       "    <tr>\n",
       "      <th>8</th>\n",
       "      <td>9437_RLTR4_MM-int</td>\n",
       "      <td>7627_IAPEY4_I</td>\n",
       "      <td>51.399417</td>\n",
       "      <td>gagactgttggaccagggaatactggtaccctgccagtcccc-ctg...</td>\n",
       "      <td>3430</td>\n",
       "      <td>2317</td>\n",
       "      <td>1763</td>\n",
       "      <td>61.35375</td>\n",
       "    </tr>\n",
       "    <tr>\n",
       "      <th>4</th>\n",
       "      <td>9437_RLTR4_MM-int</td>\n",
       "      <td>7290_RLTR4_MM-int</td>\n",
       "      <td>44.418084</td>\n",
       "      <td>---g-ag-----act-g---tt-gga--cc-------aggga--a-...</td>\n",
       "      <td>3430</td>\n",
       "      <td>7587</td>\n",
       "      <td>3370</td>\n",
       "      <td>61.178179</td>\n",
       "    </tr>\n",
       "  </tbody>\n",
       "</table>\n",
       "</div>"
      ],
      "text/plain": [
       "                  ID1                ID2  PercentIdentity   \n",
       "27  4915_RLTR4_MM-int        9492_B2_Mm2        60.591133  \\\n",
       "41  8324_RLTR4_MM-int      7627_IAPEY4_I        60.155340   \n",
       "3   9437_RLTR4_MM-int  4128_RLTR4_MM-int        56.180758   \n",
       "31  4128_RLTR4_MM-int  8324_RLTR4_MM-int        61.828358   \n",
       "5   9437_RLTR4_MM-int  8324_RLTR4_MM-int        54.723032   \n",
       "34  4128_RLTR4_MM-int      7627_IAPEY4_I        58.059701   \n",
       "8   9437_RLTR4_MM-int      7627_IAPEY4_I        51.399417   \n",
       "4   9437_RLTR4_MM-int  7290_RLTR4_MM-int        44.418084   \n",
       "\n",
       "                                        Alignment_str seq1_len seq2_len   \n",
       "27  gggccccttg-at-a-at-actctta-t--t-aa---tcct-act-...      203      180  \\\n",
       "41  tgg-gcc-tgccttcgtctcccaggtaa--g-tcagtc-ggt---g...     2575     2317   \n",
       "3   gagactgttggaccagggaatactggtaccctg-cc-ag-tccccc...     3430     2680   \n",
       "31  tttggaggttccaccgagatcaggagacccctgcccagggaccac-...     2680     2575   \n",
       "5   gagactgttggaccagggaatactggtaccctgc-cagtcc-ccct...     3430     2575   \n",
       "34  ---t-ttg--ga--ggttccac-c-gagatcaggagacccctgccc...     2680     2317   \n",
       "8   gagactgttggaccagggaatactggtaccctgccagtcccc-ctg...     3430     2317   \n",
       "4   ---g-ag-----act-g---tt-gga--cc-------aggga--a-...     3430     7587   \n",
       "\n",
       "   total_match adj_percentIdentity  \n",
       "27         123           64.229765  \n",
       "41        1549           63.327882  \n",
       "3         1927           63.076923  \n",
       "31        1657           63.063749  \n",
       "5         1877           62.514571  \n",
       "34        1556           62.277366  \n",
       "8         1763            61.35375  \n",
       "4         3370           61.178179  "
      ]
     },
     "execution_count": 92,
     "metadata": {},
     "output_type": "execute_result"
    }
   ],
   "source": [
    "adjusted_top10_result.iloc[2:10]"
   ]
  },
  {
   "cell_type": "markdown",
   "id": "dc0baec9-8870-4374-bc54-f38c83fd7369",
   "metadata": {},
   "source": [
    "### visualize sequence alignment"
   ]
  },
  {
   "cell_type": "code",
   "execution_count": 94,
   "id": "7be821be-2d25-4973-bf03-b45343afdc2b",
   "metadata": {},
   "outputs": [],
   "source": [
    "%%capture output\n",
    "# I love this magic command \n",
    "for id1, id2, score, aln in adjusted_top10_result.iloc[2:10, 0:4].values:\n",
    "    print( f\"Comparing sequences of score {score:.2f}:\\n\\t{id1}\\n\\t{id2}\")\n",
    "    aln_ls = aln.split(\"\\n\")\n",
    "    alignment_str_parser( aln_ls, line_width = 100, )\n",
    "    \n",
    "    "
   ]
  },
  {
   "cell_type": "code",
   "execution_count": 95,
   "id": "ff0daf10-1922-4b11-b1bb-9c715073da7b",
   "metadata": {},
   "outputs": [],
   "source": [
    "with open('./test_result/top10_seq_aln.txt', 'w') as f:\n",
    "        f.write(output.stdout)"
   ]
  },
  {
   "cell_type": "code",
   "execution_count": null,
   "id": "83c16512-f940-4928-a68a-0e755d560afe",
   "metadata": {},
   "outputs": [],
   "source": []
  }
 ],
 "metadata": {
  "kernelspec": {
   "display_name": "qc_pipe",
   "language": "python",
   "name": "qc_pipe"
  },
  "language_info": {
   "codemirror_mode": {
    "name": "ipython",
    "version": 3
   },
   "file_extension": ".py",
   "mimetype": "text/x-python",
   "name": "python",
   "nbconvert_exporter": "python",
   "pygments_lexer": "ipython3",
   "version": "3.8.5"
  }
 },
 "nbformat": 4,
 "nbformat_minor": 5
}
