{
 "cells": [
  {
   "cell_type": "markdown",
   "id": "d42c818d-4fbc-403c-928d-e5a48cc515f6",
   "metadata": {},
   "source": [
    "## This notebook extracts TE counts from the telescope quantification\n",
    "- note that I customized the GTF by making the transcript ID repName+thw swScore column\n",
    "- then in all later quantification, I used the transcript ID as identifier\n",
    "- limitation: I have not taken into account the biases induced by multiple genome loci mapping into different transcript IDs"
   ]
  },
  {
   "cell_type": "code",
   "execution_count": 3,
   "id": "8e0f1f39-e039-4c74-b461-c7a56b615267",
   "metadata": {},
   "outputs": [],
   "source": [
    "import sys\n",
    "import os\n",
    "import numpy as np\n",
    "import pandas as pd"
   ]
  },
  {
   "cell_type": "code",
   "execution_count": null,
   "id": "de2bccab-620e-4e3b-9b0c-56b7abea0487",
   "metadata": {},
   "outputs": [],
   "source": []
  },
  {
   "cell_type": "code",
   "execution_count": null,
   "id": "e0ba73b0-34bd-41ad-8248-33e878961cf4",
   "metadata": {},
   "outputs": [],
   "source": []
  },
  {
   "cell_type": "markdown",
   "id": "f245e8b2-a572-40c2-bcc4-69cd7db41a9a",
   "metadata": {},
   "source": [
    "## load data"
   ]
  },
  {
   "cell_type": "markdown",
   "id": "7c353ffa-a927-482a-8f37-967c8dabff6f",
   "metadata": {},
   "source": [
    "### load annotation table"
   ]
  },
  {
   "cell_type": "code",
   "execution_count": 3,
   "id": "410b0b3e-d059-433f-bca1-987939dcc2bd",
   "metadata": {},
   "outputs": [
    {
     "data": {
      "text/html": [
       "<div>\n",
       "<style scoped>\n",
       "    .dataframe tbody tr th:only-of-type {\n",
       "        vertical-align: middle;\n",
       "    }\n",
       "\n",
       "    .dataframe tbody tr th {\n",
       "        vertical-align: top;\n",
       "    }\n",
       "\n",
       "    .dataframe thead th {\n",
       "        text-align: right;\n",
       "    }\n",
       "</style>\n",
       "<table border=\"1\" class=\"dataframe\">\n",
       "  <thead>\n",
       "    <tr style=\"text-align: right;\">\n",
       "      <th></th>\n",
       "      <th>#bin</th>\n",
       "      <th>swScore</th>\n",
       "      <th>milliDiv</th>\n",
       "      <th>milliDel</th>\n",
       "      <th>milliIns</th>\n",
       "      <th>genoName</th>\n",
       "      <th>genoStart</th>\n",
       "      <th>genoEnd</th>\n",
       "      <th>genoLeft</th>\n",
       "      <th>strand</th>\n",
       "      <th>repName</th>\n",
       "      <th>repClass</th>\n",
       "      <th>repFamily</th>\n",
       "      <th>repStart</th>\n",
       "      <th>repEnd</th>\n",
       "      <th>repLeft</th>\n",
       "      <th>id</th>\n",
       "    </tr>\n",
       "  </thead>\n",
       "  <tbody>\n",
       "    <tr>\n",
       "      <th>0</th>\n",
       "      <td>1</td>\n",
       "      <td>3777</td>\n",
       "      <td>194</td>\n",
       "      <td>105</td>\n",
       "      <td>11</td>\n",
       "      <td>chr1</td>\n",
       "      <td>8387806</td>\n",
       "      <td>8388657</td>\n",
       "      <td>-186765622</td>\n",
       "      <td>+</td>\n",
       "      <td>Lx2B2</td>\n",
       "      <td>LINE</td>\n",
       "      <td>L1</td>\n",
       "      <td>5997</td>\n",
       "      <td>7041</td>\n",
       "      <td>-8</td>\n",
       "      <td>7</td>\n",
       "    </tr>\n",
       "    <tr>\n",
       "      <th>1</th>\n",
       "      <td>1</td>\n",
       "      <td>595</td>\n",
       "      <td>269</td>\n",
       "      <td>47</td>\n",
       "      <td>47</td>\n",
       "      <td>chr1</td>\n",
       "      <td>41942994</td>\n",
       "      <td>41943142</td>\n",
       "      <td>-153211137</td>\n",
       "      <td>+</td>\n",
       "      <td>B3</td>\n",
       "      <td>SINE</td>\n",
       "      <td>B2</td>\n",
       "      <td>4</td>\n",
       "      <td>151</td>\n",
       "      <td>-65</td>\n",
       "      <td>6</td>\n",
       "    </tr>\n",
       "    <tr>\n",
       "      <th>2</th>\n",
       "      <td>1</td>\n",
       "      <td>1796</td>\n",
       "      <td>281</td>\n",
       "      <td>48</td>\n",
       "      <td>69</td>\n",
       "      <td>chr1</td>\n",
       "      <td>50331618</td>\n",
       "      <td>50332377</td>\n",
       "      <td>-144821902</td>\n",
       "      <td>-</td>\n",
       "      <td>Lx7</td>\n",
       "      <td>LINE</td>\n",
       "      <td>L1</td>\n",
       "      <td>-1163</td>\n",
       "      <td>6533</td>\n",
       "      <td>5801</td>\n",
       "      <td>7</td>\n",
       "    </tr>\n",
       "    <tr>\n",
       "      <th>3</th>\n",
       "      <td>1</td>\n",
       "      <td>5180</td>\n",
       "      <td>80</td>\n",
       "      <td>29</td>\n",
       "      <td>11</td>\n",
       "      <td>chr1</td>\n",
       "      <td>58720077</td>\n",
       "      <td>58721182</td>\n",
       "      <td>-136433097</td>\n",
       "      <td>+</td>\n",
       "      <td>L1MdV_III</td>\n",
       "      <td>LINE</td>\n",
       "      <td>L1</td>\n",
       "      <td>681</td>\n",
       "      <td>1770</td>\n",
       "      <td>-2002</td>\n",
       "      <td>8</td>\n",
       "    </tr>\n",
       "    <tr>\n",
       "      <th>4</th>\n",
       "      <td>2</td>\n",
       "      <td>1316</td>\n",
       "      <td>273</td>\n",
       "      <td>85</td>\n",
       "      <td>19</td>\n",
       "      <td>chr1</td>\n",
       "      <td>100663164</td>\n",
       "      <td>100663479</td>\n",
       "      <td>-94490800</td>\n",
       "      <td>+</td>\n",
       "      <td>MLTR14</td>\n",
       "      <td>LTR</td>\n",
       "      <td>ERV1</td>\n",
       "      <td>161</td>\n",
       "      <td>505</td>\n",
       "      <td>-38</td>\n",
       "      <td>1</td>\n",
       "    </tr>\n",
       "  </tbody>\n",
       "</table>\n",
       "</div>"
      ],
      "text/plain": [
       "   #bin  swScore  milliDiv  milliDel  milliIns genoName  genoStart    genoEnd   \n",
       "0     1     3777       194       105        11     chr1    8387806    8388657  \\\n",
       "1     1      595       269        47        47     chr1   41942994   41943142   \n",
       "2     1     1796       281        48        69     chr1   50331618   50332377   \n",
       "3     1     5180        80        29        11     chr1   58720077   58721182   \n",
       "4     2     1316       273        85        19     chr1  100663164  100663479   \n",
       "\n",
       "    genoLeft strand    repName repClass repFamily  repStart  repEnd  repLeft   \n",
       "0 -186765622      +      Lx2B2     LINE        L1      5997    7041       -8  \\\n",
       "1 -153211137      +         B3     SINE        B2         4     151      -65   \n",
       "2 -144821902      -        Lx7     LINE        L1     -1163    6533     5801   \n",
       "3 -136433097      +  L1MdV_III     LINE        L1       681    1770    -2002   \n",
       "4  -94490800      +     MLTR14      LTR      ERV1       161     505      -38   \n",
       "\n",
       "   id  \n",
       "0   7  \n",
       "1   6  \n",
       "2   7  \n",
       "3   8  \n",
       "4   1  "
      ]
     },
     "execution_count": 3,
     "metadata": {},
     "output_type": "execute_result"
    }
   ],
   "source": [
    "rmsk = pd.read_csv(\"./mm39_rmsk_full.tsv\", delimiter='\\t', header = 0, index_col = False )\n",
    "rmsk.head()"
   ]
  },
  {
   "cell_type": "code",
   "execution_count": 4,
   "id": "c2183d94-46fd-462c-a6e3-2327f1917456",
   "metadata": {},
   "outputs": [],
   "source": [
    "transcript_id_col = [ rmsk.loc[i, 'repName'] + '_' + str( rmsk.loc[i, 'swScore'] ) for i in rmsk.index ] "
   ]
  },
  {
   "cell_type": "code",
   "execution_count": 5,
   "id": "7212e98f-bbbd-48fc-afb8-df73bee8d9e3",
   "metadata": {},
   "outputs": [
    {
     "data": {
      "text/plain": [
       "'Lx2B2_3777'"
      ]
     },
     "execution_count": 5,
     "metadata": {},
     "output_type": "execute_result"
    }
   ],
   "source": [
    "transcript_id_col[0]"
   ]
  },
  {
   "cell_type": "code",
   "execution_count": 6,
   "id": "b90faa7e-7146-4193-9e88-eed3e1e5afc1",
   "metadata": {},
   "outputs": [
    {
     "data": {
      "text/plain": [
       "(5320771, 17)"
      ]
     },
     "execution_count": 6,
     "metadata": {},
     "output_type": "execute_result"
    }
   ],
   "source": [
    "rmsk.shape"
   ]
  },
  {
   "cell_type": "code",
   "execution_count": null,
   "id": "1b2316b3-8d42-4219-baab-0c736bd3b49a",
   "metadata": {},
   "outputs": [],
   "source": []
  },
  {
   "cell_type": "code",
   "execution_count": null,
   "id": "13be0e51-0b73-4d40-bc94-0e2a737c2ca4",
   "metadata": {},
   "outputs": [],
   "source": []
  },
  {
   "cell_type": "markdown",
   "id": "3fc7ca49-7738-4904-9af9-0fa661a1ce6e",
   "metadata": {},
   "source": [
    "### load KO results"
   ]
  },
  {
   "cell_type": "code",
   "execution_count": 7,
   "id": "06858324-c003-4d05-b6de-0c4442ef1d31",
   "metadata": {},
   "outputs": [
    {
     "data": {
      "text/plain": [
       "['KO_1-telescope_report.tsv',\n",
       " 'KO_2-telescope_report.tsv',\n",
       " 'KO_3-telescope_report.tsv',\n",
       " 'KO_4-telescope_report.tsv']"
      ]
     },
     "execution_count": 7,
     "metadata": {},
     "output_type": "execute_result"
    }
   ],
   "source": [
    "KO_fnmaes = [ f'KO_{i+1}-telescope_report.tsv' for i in range(0,4) ] \n",
    "KO_fnmaes"
   ]
  },
  {
   "cell_type": "code",
   "execution_count": null,
   "id": "5e86aa0d-f18a-4649-ad65-859fc7aa091c",
   "metadata": {},
   "outputs": [],
   "source": []
  },
  {
   "cell_type": "markdown",
   "id": "04758068-c097-41e3-8a1d-660fcd766ae5",
   "metadata": {},
   "source": [
    "#### test data format"
   ]
  },
  {
   "cell_type": "code",
   "execution_count": 12,
   "id": "92fce280-7556-4816-879e-bf552bdc165e",
   "metadata": {
    "collapsed": true,
    "jupyter": {
     "outputs_hidden": true
    }
   },
   "outputs": [
    {
     "data": {
      "text/html": [
       "<div>\n",
       "<style scoped>\n",
       "    .dataframe tbody tr th:only-of-type {\n",
       "        vertical-align: middle;\n",
       "    }\n",
       "\n",
       "    .dataframe tbody tr th {\n",
       "        vertical-align: top;\n",
       "    }\n",
       "\n",
       "    .dataframe thead th {\n",
       "        text-align: right;\n",
       "    }\n",
       "</style>\n",
       "<table border=\"1\" class=\"dataframe\">\n",
       "  <thead>\n",
       "    <tr style=\"text-align: right;\">\n",
       "      <th></th>\n",
       "      <th>transcript_length</th>\n",
       "      <th>final_count</th>\n",
       "      <th>final_conf</th>\n",
       "      <th>final_prop</th>\n",
       "      <th>init_aligned</th>\n",
       "      <th>unique_count</th>\n",
       "      <th>init_best</th>\n",
       "      <th>init_best_random</th>\n",
       "      <th>init_best_avg</th>\n",
       "      <th>init_prop</th>\n",
       "    </tr>\n",
       "    <tr>\n",
       "      <th>transcript</th>\n",
       "      <th></th>\n",
       "      <th></th>\n",
       "      <th></th>\n",
       "      <th></th>\n",
       "      <th></th>\n",
       "      <th></th>\n",
       "      <th></th>\n",
       "      <th></th>\n",
       "      <th></th>\n",
       "      <th></th>\n",
       "    </tr>\n",
       "  </thead>\n",
       "  <tbody>\n",
       "    <tr>\n",
       "      <th>RLTR4_MM-int_19866</th>\n",
       "      <td>2582</td>\n",
       "      <td>66221</td>\n",
       "      <td>2825.0</td>\n",
       "      <td>0.02180</td>\n",
       "      <td>66242</td>\n",
       "      <td>2822</td>\n",
       "      <td>2894</td>\n",
       "      <td>28342</td>\n",
       "      <td>28284.92</td>\n",
       "      <td>0.01220</td>\n",
       "    </tr>\n",
       "    <tr>\n",
       "      <th>SSU-rRNA_Hsa_15330</th>\n",
       "      <td>1849</td>\n",
       "      <td>65772</td>\n",
       "      <td>65765.0</td>\n",
       "      <td>0.01870</td>\n",
       "      <td>65774</td>\n",
       "      <td>62815</td>\n",
       "      <td>63694</td>\n",
       "      <td>64462</td>\n",
       "      <td>64440.50</td>\n",
       "      <td>0.01860</td>\n",
       "    </tr>\n",
       "    <tr>\n",
       "      <th>RLTR4_MM-int_11275</th>\n",
       "      <td>1839</td>\n",
       "      <td>64587</td>\n",
       "      <td>21.0</td>\n",
       "      <td>0.01890</td>\n",
       "      <td>64608</td>\n",
       "      <td>18</td>\n",
       "      <td>21</td>\n",
       "      <td>27985</td>\n",
       "      <td>27988.57</td>\n",
       "      <td>0.01330</td>\n",
       "    </tr>\n",
       "    <tr>\n",
       "      <th>RLTR4_MM-int_12911</th>\n",
       "      <td>1863</td>\n",
       "      <td>21171</td>\n",
       "      <td>21104.0</td>\n",
       "      <td>0.00913</td>\n",
       "      <td>21173</td>\n",
       "      <td>19845</td>\n",
       "      <td>19866</td>\n",
       "      <td>20484</td>\n",
       "      <td>20473.83</td>\n",
       "      <td>0.00887</td>\n",
       "    </tr>\n",
       "    <tr>\n",
       "      <th>RLTR4_MM-int_17371</th>\n",
       "      <td>2370</td>\n",
       "      <td>17955</td>\n",
       "      <td>17191.0</td>\n",
       "      <td>0.00752</td>\n",
       "      <td>17986</td>\n",
       "      <td>14556</td>\n",
       "      <td>14686</td>\n",
       "      <td>15998</td>\n",
       "      <td>15985.99</td>\n",
       "      <td>0.00686</td>\n",
       "    </tr>\n",
       "  </tbody>\n",
       "</table>\n",
       "</div>"
      ],
      "text/plain": [
       "                    transcript_length  final_count  final_conf  final_prop   \n",
       "transcript                                                                   \n",
       "RLTR4_MM-int_19866               2582        66221      2825.0     0.02180  \\\n",
       "SSU-rRNA_Hsa_15330               1849        65772     65765.0     0.01870   \n",
       "RLTR4_MM-int_11275               1839        64587        21.0     0.01890   \n",
       "RLTR4_MM-int_12911               1863        21171     21104.0     0.00913   \n",
       "RLTR4_MM-int_17371               2370        17955     17191.0     0.00752   \n",
       "\n",
       "                    init_aligned  unique_count  init_best  init_best_random   \n",
       "transcript                                                                    \n",
       "RLTR4_MM-int_19866         66242          2822       2894             28342  \\\n",
       "SSU-rRNA_Hsa_15330         65774         62815      63694             64462   \n",
       "RLTR4_MM-int_11275         64608            18         21             27985   \n",
       "RLTR4_MM-int_12911         21173         19845      19866             20484   \n",
       "RLTR4_MM-int_17371         17986         14556      14686             15998   \n",
       "\n",
       "                    init_best_avg  init_prop  \n",
       "transcript                                    \n",
       "RLTR4_MM-int_19866       28284.92    0.01220  \n",
       "SSU-rRNA_Hsa_15330       64440.50    0.01860  \n",
       "RLTR4_MM-int_11275       27988.57    0.01330  \n",
       "RLTR4_MM-int_12911       20473.83    0.00887  \n",
       "RLTR4_MM-int_17371       15985.99    0.00686  "
      ]
     },
     "execution_count": 12,
     "metadata": {},
     "output_type": "execute_result"
    }
   ],
   "source": [
    "test1 = pd.read_csv(KO_fnmaes[0], header = 1, index_col = 0, delimiter='\\t' )\n",
    "test1.head()"
   ]
  },
  {
   "cell_type": "code",
   "execution_count": 19,
   "id": "b4a41384-1c7d-440a-88dc-5f6f3b0e72af",
   "metadata": {
    "collapsed": true,
    "jupyter": {
     "outputs_hidden": true
    }
   },
   "outputs": [
    {
     "data": {
      "text/plain": [
       "transcript\n",
       "RLTR4_MM-int_19866     66221\n",
       "SSU-rRNA_Hsa_15330     65772\n",
       "RLTR4_MM-int_11275     64587\n",
       "RLTR4_MM-int_12911     21171\n",
       "RLTR4_MM-int_17371     17955\n",
       "                       ...  \n",
       "L1MdTf_I_34972             0\n",
       "L1MdA_VI_6625              0\n",
       "ERVB7_1-LTR_MM_2674        0\n",
       "MMERGLN_LTR_3779           0\n",
       "MMERGLN_LTR_3790           0\n",
       "Name: final_count, Length: 93672, dtype: int64"
      ]
     },
     "execution_count": 19,
     "metadata": {},
     "output_type": "execute_result"
    }
   ],
   "source": []
  },
  {
   "cell_type": "code",
   "execution_count": 32,
   "id": "4fd96935-b036-4baa-9de8-f8f37584bd35",
   "metadata": {},
   "outputs": [
    {
     "data": {
      "text/html": [
       "<div>\n",
       "<style scoped>\n",
       "    .dataframe tbody tr th:only-of-type {\n",
       "        vertical-align: middle;\n",
       "    }\n",
       "\n",
       "    .dataframe tbody tr th {\n",
       "        vertical-align: top;\n",
       "    }\n",
       "\n",
       "    .dataframe thead th {\n",
       "        text-align: right;\n",
       "    }\n",
       "</style>\n",
       "<table border=\"1\" class=\"dataframe\">\n",
       "  <thead>\n",
       "    <tr style=\"text-align: right;\">\n",
       "      <th></th>\n",
       "      <th>transcript_length</th>\n",
       "      <th>final_count</th>\n",
       "      <th>final_conf</th>\n",
       "      <th>final_prop</th>\n",
       "      <th>init_aligned</th>\n",
       "      <th>unique_count</th>\n",
       "      <th>init_best</th>\n",
       "      <th>init_best_random</th>\n",
       "      <th>init_best_avg</th>\n",
       "      <th>init_prop</th>\n",
       "    </tr>\n",
       "    <tr>\n",
       "      <th>transcript</th>\n",
       "      <th></th>\n",
       "      <th></th>\n",
       "      <th></th>\n",
       "      <th></th>\n",
       "      <th></th>\n",
       "      <th></th>\n",
       "      <th></th>\n",
       "      <th></th>\n",
       "      <th></th>\n",
       "      <th></th>\n",
       "    </tr>\n",
       "  </thead>\n",
       "  <tbody>\n",
       "    <tr>\n",
       "      <th>RLTR4_MM-int_19866</th>\n",
       "      <td>2582</td>\n",
       "      <td>63911</td>\n",
       "      <td>2389.0</td>\n",
       "      <td>0.02100</td>\n",
       "      <td>63938</td>\n",
       "      <td>2388</td>\n",
       "      <td>2460</td>\n",
       "      <td>27034</td>\n",
       "      <td>27031.58</td>\n",
       "      <td>0.01200</td>\n",
       "    </tr>\n",
       "    <tr>\n",
       "      <th>RLTR4_MM-int_11275</th>\n",
       "      <td>1839</td>\n",
       "      <td>62434</td>\n",
       "      <td>24.0</td>\n",
       "      <td>0.01900</td>\n",
       "      <td>62446</td>\n",
       "      <td>22</td>\n",
       "      <td>24</td>\n",
       "      <td>27477</td>\n",
       "      <td>27229.47</td>\n",
       "      <td>0.01320</td>\n",
       "    </tr>\n",
       "    <tr>\n",
       "      <th>SSU-rRNA_Hsa_15330</th>\n",
       "      <td>1849</td>\n",
       "      <td>52553</td>\n",
       "      <td>52547.0</td>\n",
       "      <td>0.01560</td>\n",
       "      <td>52554</td>\n",
       "      <td>50280</td>\n",
       "      <td>50969</td>\n",
       "      <td>51503</td>\n",
       "      <td>51516.00</td>\n",
       "      <td>0.01550</td>\n",
       "    </tr>\n",
       "    <tr>\n",
       "      <th>RLTR4_MM-int_12911</th>\n",
       "      <td>1863</td>\n",
       "      <td>21387</td>\n",
       "      <td>21344.0</td>\n",
       "      <td>0.00975</td>\n",
       "      <td>21389</td>\n",
       "      <td>20003</td>\n",
       "      <td>20029</td>\n",
       "      <td>20688</td>\n",
       "      <td>20677.82</td>\n",
       "      <td>0.00947</td>\n",
       "    </tr>\n",
       "    <tr>\n",
       "      <th>RLTR4_MM-int_17371</th>\n",
       "      <td>2370</td>\n",
       "      <td>17466</td>\n",
       "      <td>16721.0</td>\n",
       "      <td>0.00771</td>\n",
       "      <td>17497</td>\n",
       "      <td>14158</td>\n",
       "      <td>14276</td>\n",
       "      <td>15545</td>\n",
       "      <td>15549.01</td>\n",
       "      <td>0.00701</td>\n",
       "    </tr>\n",
       "  </tbody>\n",
       "</table>\n",
       "</div>"
      ],
      "text/plain": [
       "                    transcript_length  final_count  final_conf  final_prop   \n",
       "transcript                                                                   \n",
       "RLTR4_MM-int_19866               2582        63911      2389.0     0.02100  \\\n",
       "RLTR4_MM-int_11275               1839        62434        24.0     0.01900   \n",
       "SSU-rRNA_Hsa_15330               1849        52553     52547.0     0.01560   \n",
       "RLTR4_MM-int_12911               1863        21387     21344.0     0.00975   \n",
       "RLTR4_MM-int_17371               2370        17466     16721.0     0.00771   \n",
       "\n",
       "                    init_aligned  unique_count  init_best  init_best_random   \n",
       "transcript                                                                    \n",
       "RLTR4_MM-int_19866         63938          2388       2460             27034  \\\n",
       "RLTR4_MM-int_11275         62446            22         24             27477   \n",
       "SSU-rRNA_Hsa_15330         52554         50280      50969             51503   \n",
       "RLTR4_MM-int_12911         21389         20003      20029             20688   \n",
       "RLTR4_MM-int_17371         17497         14158      14276             15545   \n",
       "\n",
       "                    init_best_avg  init_prop  \n",
       "transcript                                    \n",
       "RLTR4_MM-int_19866       27031.58    0.01200  \n",
       "RLTR4_MM-int_11275       27229.47    0.01320  \n",
       "SSU-rRNA_Hsa_15330       51516.00    0.01550  \n",
       "RLTR4_MM-int_12911       20677.82    0.00947  \n",
       "RLTR4_MM-int_17371       15549.01    0.00701  "
      ]
     },
     "execution_count": 32,
     "metadata": {},
     "output_type": "execute_result"
    }
   ],
   "source": [
    "test2 = pd.read_csv(KO_fnmaes[1], header = 1, index_col = 0, delimiter='\\t' )\n",
    "test2.head()"
   ]
  },
  {
   "cell_type": "code",
   "execution_count": 33,
   "id": "856aa939-bab0-48ab-8e77-1876127652f8",
   "metadata": {
    "collapsed": true,
    "jupyter": {
     "outputs_hidden": true
    }
   },
   "outputs": [
    {
     "data": {
      "text/html": [
       "<div>\n",
       "<style scoped>\n",
       "    .dataframe tbody tr th:only-of-type {\n",
       "        vertical-align: middle;\n",
       "    }\n",
       "\n",
       "    .dataframe tbody tr th {\n",
       "        vertical-align: top;\n",
       "    }\n",
       "\n",
       "    .dataframe thead th {\n",
       "        text-align: right;\n",
       "    }\n",
       "</style>\n",
       "<table border=\"1\" class=\"dataframe\">\n",
       "  <thead>\n",
       "    <tr style=\"text-align: right;\">\n",
       "      <th></th>\n",
       "      <th>test1</th>\n",
       "      <th>final_count</th>\n",
       "    </tr>\n",
       "    <tr>\n",
       "      <th>transcript</th>\n",
       "      <th></th>\n",
       "      <th></th>\n",
       "    </tr>\n",
       "  </thead>\n",
       "  <tbody>\n",
       "    <tr>\n",
       "      <th>(A)n_15</th>\n",
       "      <td>22.0</td>\n",
       "      <td>18.0</td>\n",
       "    </tr>\n",
       "    <tr>\n",
       "      <th>(A)n_16</th>\n",
       "      <td>44.0</td>\n",
       "      <td>54.0</td>\n",
       "    </tr>\n",
       "    <tr>\n",
       "      <th>(A)n_17</th>\n",
       "      <td>75.0</td>\n",
       "      <td>51.0</td>\n",
       "    </tr>\n",
       "    <tr>\n",
       "      <th>(A)n_18</th>\n",
       "      <td>112.0</td>\n",
       "      <td>112.0</td>\n",
       "    </tr>\n",
       "    <tr>\n",
       "      <th>(A)n_19</th>\n",
       "      <td>210.0</td>\n",
       "      <td>208.0</td>\n",
       "    </tr>\n",
       "    <tr>\n",
       "      <th>...</th>\n",
       "      <td>...</td>\n",
       "      <td>...</td>\n",
       "    </tr>\n",
       "    <tr>\n",
       "      <th>tRNA-Trp-TGG_617</th>\n",
       "      <td>3.0</td>\n",
       "      <td>1.0</td>\n",
       "    </tr>\n",
       "    <tr>\n",
       "      <th>tRNA-Trp-TGG_646</th>\n",
       "      <td>2.0</td>\n",
       "      <td>NaN</td>\n",
       "    </tr>\n",
       "    <tr>\n",
       "      <th>tRNA-Trp-TGG_662</th>\n",
       "      <td>1.0</td>\n",
       "      <td>NaN</td>\n",
       "    </tr>\n",
       "    <tr>\n",
       "      <th>tRNA-Tyr-TAC_480</th>\n",
       "      <td>NaN</td>\n",
       "      <td>3.0</td>\n",
       "    </tr>\n",
       "    <tr>\n",
       "      <th>tRNA-Val-GTA_589</th>\n",
       "      <td>NaN</td>\n",
       "      <td>2.0</td>\n",
       "    </tr>\n",
       "  </tbody>\n",
       "</table>\n",
       "<p>123737 rows × 2 columns</p>\n",
       "</div>"
      ],
      "text/plain": [
       "                  test1  final_count\n",
       "transcript                          \n",
       "(A)n_15            22.0         18.0\n",
       "(A)n_16            44.0         54.0\n",
       "(A)n_17            75.0         51.0\n",
       "(A)n_18           112.0        112.0\n",
       "(A)n_19           210.0        208.0\n",
       "...                 ...          ...\n",
       "tRNA-Trp-TGG_617    3.0          1.0\n",
       "tRNA-Trp-TGG_646    2.0          NaN\n",
       "tRNA-Trp-TGG_662    1.0          NaN\n",
       "tRNA-Tyr-TAC_480    NaN          3.0\n",
       "tRNA-Val-GTA_589    NaN          2.0\n",
       "\n",
       "[123737 rows x 2 columns]"
      ]
     },
     "execution_count": 33,
     "metadata": {},
     "output_type": "execute_result"
    }
   ],
   "source": [
    "KO_df = pd.DataFrame()\n",
    "KO_df.loc[:, 'test1' ] = test1['final_count'] \n",
    "\n",
    "KO_df.merge( test2['final_count'], left_index= True,  right_index= True, how = 'outer' , suffixes=['', '_' + 'test2'] ) "
   ]
  },
  {
   "cell_type": "code",
   "execution_count": null,
   "id": "63f593d5-9c1e-4d0b-9a04-3f51073f61f5",
   "metadata": {},
   "outputs": [],
   "source": []
  },
  {
   "cell_type": "markdown",
   "id": "eabbcaf8-8324-4e2c-a7d8-8ac5ea7d8763",
   "metadata": {},
   "source": [
    "#### a function to get all counts from KO samples"
   ]
  },
  {
   "cell_type": "code",
   "execution_count": 8,
   "id": "c6c2ed97-8895-449f-bec2-c201c82a7e1d",
   "metadata": {},
   "outputs": [],
   "source": [
    "KO_ids = [ f'KO_{i+1}' for i in range(0,4) ] "
   ]
  },
  {
   "cell_type": "code",
   "execution_count": 34,
   "id": "f15b5774-1c4c-4b05-930a-ee8929fa0707",
   "metadata": {},
   "outputs": [],
   "source": [
    "KO_df = pd.DataFrame()"
   ]
  },
  {
   "cell_type": "code",
   "execution_count": 35,
   "id": "ac0df4e1-8a4c-4b3f-9082-c634aced4e64",
   "metadata": {},
   "outputs": [
    {
     "name": "stdout",
     "output_type": "stream",
     "text": [
      "KO_1-telescope_report.tsv\n",
      "KO_2-telescope_report.tsv\n",
      "KO_3-telescope_report.tsv\n",
      "KO_4-telescope_report.tsv\n"
     ]
    }
   ],
   "source": [
    "for i,kf in enumerate( KO_fnmaes):\n",
    "    print( kf) \n",
    "    dat = pd.read_csv(kf, header = 1, index_col = 0, delimiter='\\t' )\n",
    "    if( KO_df.shape[1] == 0 ):\n",
    "        KO_df.loc[:, KO_ids[i] ] = dat['final_count'] \n",
    "        continue\n",
    "    else:\n",
    "        #print( 'at merge' )\n",
    "        KO_df = KO_df.merge( dat['final_count'], left_index= True,  right_index= True, how = 'outer' , suffixes=['', '_' + KO_ids[i]] ) "
   ]
  },
  {
   "cell_type": "code",
   "execution_count": 36,
   "id": "9208ce5b-3356-4c8b-af3f-ebc63c5dbd06",
   "metadata": {},
   "outputs": [
    {
     "data": {
      "text/html": [
       "<div>\n",
       "<style scoped>\n",
       "    .dataframe tbody tr th:only-of-type {\n",
       "        vertical-align: middle;\n",
       "    }\n",
       "\n",
       "    .dataframe tbody tr th {\n",
       "        vertical-align: top;\n",
       "    }\n",
       "\n",
       "    .dataframe thead th {\n",
       "        text-align: right;\n",
       "    }\n",
       "</style>\n",
       "<table border=\"1\" class=\"dataframe\">\n",
       "  <thead>\n",
       "    <tr style=\"text-align: right;\">\n",
       "      <th></th>\n",
       "      <th>KO_1</th>\n",
       "      <th>final_count</th>\n",
       "      <th>final_count_KO_3</th>\n",
       "      <th>final_count_KO_4</th>\n",
       "    </tr>\n",
       "    <tr>\n",
       "      <th>transcript</th>\n",
       "      <th></th>\n",
       "      <th></th>\n",
       "      <th></th>\n",
       "      <th></th>\n",
       "    </tr>\n",
       "  </thead>\n",
       "  <tbody>\n",
       "    <tr>\n",
       "      <th>(A)n_15</th>\n",
       "      <td>22.0</td>\n",
       "      <td>18.0</td>\n",
       "      <td>20.0</td>\n",
       "      <td>18.0</td>\n",
       "    </tr>\n",
       "    <tr>\n",
       "      <th>(A)n_16</th>\n",
       "      <td>44.0</td>\n",
       "      <td>54.0</td>\n",
       "      <td>53.0</td>\n",
       "      <td>50.0</td>\n",
       "    </tr>\n",
       "    <tr>\n",
       "      <th>(A)n_17</th>\n",
       "      <td>75.0</td>\n",
       "      <td>51.0</td>\n",
       "      <td>76.0</td>\n",
       "      <td>64.0</td>\n",
       "    </tr>\n",
       "    <tr>\n",
       "      <th>(A)n_18</th>\n",
       "      <td>112.0</td>\n",
       "      <td>112.0</td>\n",
       "      <td>113.0</td>\n",
       "      <td>121.0</td>\n",
       "    </tr>\n",
       "    <tr>\n",
       "      <th>(A)n_19</th>\n",
       "      <td>210.0</td>\n",
       "      <td>208.0</td>\n",
       "      <td>170.0</td>\n",
       "      <td>185.0</td>\n",
       "    </tr>\n",
       "  </tbody>\n",
       "</table>\n",
       "</div>"
      ],
      "text/plain": [
       "             KO_1  final_count  final_count_KO_3  final_count_KO_4\n",
       "transcript                                                        \n",
       "(A)n_15      22.0         18.0              20.0              18.0\n",
       "(A)n_16      44.0         54.0              53.0              50.0\n",
       "(A)n_17      75.0         51.0              76.0              64.0\n",
       "(A)n_18     112.0        112.0             113.0             121.0\n",
       "(A)n_19     210.0        208.0             170.0             185.0"
      ]
     },
     "execution_count": 36,
     "metadata": {},
     "output_type": "execute_result"
    }
   ],
   "source": [
    "KO_df.head()"
   ]
  },
  {
   "cell_type": "code",
   "execution_count": 44,
   "id": "18ee3fb5-407c-4e23-844b-db8c9653ee93",
   "metadata": {},
   "outputs": [],
   "source": [
    "KO_df.columns = KO_ids"
   ]
  },
  {
   "cell_type": "code",
   "execution_count": null,
   "id": "f177e364-920b-4651-af35-2bc10adba7f7",
   "metadata": {},
   "outputs": [],
   "source": []
  },
  {
   "cell_type": "markdown",
   "id": "4b8ce8cd-ff6a-4ae2-a850-8b8a681dbdee",
   "metadata": {},
   "source": [
    "### load WT resutls"
   ]
  },
  {
   "cell_type": "code",
   "execution_count": null,
   "id": "4142e886-8a23-4fe7-b91e-f3bf44f6d53c",
   "metadata": {},
   "outputs": [],
   "source": []
  },
  {
   "cell_type": "code",
   "execution_count": 37,
   "id": "5e28d4ec-c56d-4a99-9f63-261168b784b0",
   "metadata": {},
   "outputs": [
    {
     "data": {
      "text/plain": [
       "['WT_1-telescope_report.tsv',\n",
       " 'WT_2-telescope_report.tsv',\n",
       " 'WT_3-telescope_report.tsv',\n",
       " 'WT_4-telescope_report.tsv']"
      ]
     },
     "execution_count": 37,
     "metadata": {},
     "output_type": "execute_result"
    }
   ],
   "source": [
    "WT_fnmaes = [ f'WT_{i+1}-telescope_report.tsv' for i in range(0,4) ] \n",
    "WT_fnmaes"
   ]
  },
  {
   "cell_type": "code",
   "execution_count": 38,
   "id": "762c3077-db99-4bb4-8570-55b84b910642",
   "metadata": {},
   "outputs": [],
   "source": [
    "WT_ids = [ f'WT_{i+1}' for i in range(0,4) ] "
   ]
  },
  {
   "cell_type": "code",
   "execution_count": 39,
   "id": "0f61eef9-0654-4974-b7c6-db2c5683d979",
   "metadata": {},
   "outputs": [],
   "source": [
    "WT_df = pd.DataFrame()"
   ]
  },
  {
   "cell_type": "code",
   "execution_count": 40,
   "id": "d184b0fa-1fd4-4fa9-a049-e9397494ad70",
   "metadata": {},
   "outputs": [
    {
     "name": "stdout",
     "output_type": "stream",
     "text": [
      "WT_1-telescope_report.tsv\n",
      "WT_2-telescope_report.tsv\n",
      "WT_3-telescope_report.tsv\n",
      "WT_4-telescope_report.tsv\n"
     ]
    }
   ],
   "source": [
    "for i,kf in enumerate( WT_fnmaes):\n",
    "    print( kf) \n",
    "    dat = pd.read_csv(kf, header = 1, index_col = 0, delimiter='\\t' )\n",
    "    if( WT_df.shape[1] == 0 ):\n",
    "        WT_df.loc[:, WT_ids[i] ] = dat['final_count'] \n",
    "        continue\n",
    "    else:\n",
    "        #print( 'at merge' )\n",
    "        WT_df = WT_df.merge( dat['final_count'], left_index= True,  right_index= True, how = 'outer' , suffixes=['', '_' + KO_ids[i]] ) "
   ]
  },
  {
   "cell_type": "code",
   "execution_count": 41,
   "id": "05e286a1-aaa5-4a97-8b90-58a304bd375f",
   "metadata": {},
   "outputs": [
    {
     "data": {
      "text/html": [
       "<div>\n",
       "<style scoped>\n",
       "    .dataframe tbody tr th:only-of-type {\n",
       "        vertical-align: middle;\n",
       "    }\n",
       "\n",
       "    .dataframe tbody tr th {\n",
       "        vertical-align: top;\n",
       "    }\n",
       "\n",
       "    .dataframe thead th {\n",
       "        text-align: right;\n",
       "    }\n",
       "</style>\n",
       "<table border=\"1\" class=\"dataframe\">\n",
       "  <thead>\n",
       "    <tr style=\"text-align: right;\">\n",
       "      <th></th>\n",
       "      <th>WT_1</th>\n",
       "      <th>final_count</th>\n",
       "      <th>final_count_KO_3</th>\n",
       "      <th>final_count_KO_4</th>\n",
       "    </tr>\n",
       "    <tr>\n",
       "      <th>transcript</th>\n",
       "      <th></th>\n",
       "      <th></th>\n",
       "      <th></th>\n",
       "      <th></th>\n",
       "    </tr>\n",
       "  </thead>\n",
       "  <tbody>\n",
       "    <tr>\n",
       "      <th>(A)n_15</th>\n",
       "      <td>31.0</td>\n",
       "      <td>26.0</td>\n",
       "      <td>31.0</td>\n",
       "      <td>31.0</td>\n",
       "    </tr>\n",
       "    <tr>\n",
       "      <th>(A)n_16</th>\n",
       "      <td>45.0</td>\n",
       "      <td>65.0</td>\n",
       "      <td>54.0</td>\n",
       "      <td>56.0</td>\n",
       "    </tr>\n",
       "    <tr>\n",
       "      <th>(A)n_17</th>\n",
       "      <td>79.0</td>\n",
       "      <td>67.0</td>\n",
       "      <td>105.0</td>\n",
       "      <td>73.0</td>\n",
       "    </tr>\n",
       "    <tr>\n",
       "      <th>(A)n_18</th>\n",
       "      <td>93.0</td>\n",
       "      <td>137.0</td>\n",
       "      <td>125.0</td>\n",
       "      <td>119.0</td>\n",
       "    </tr>\n",
       "    <tr>\n",
       "      <th>(A)n_19</th>\n",
       "      <td>174.0</td>\n",
       "      <td>212.0</td>\n",
       "      <td>178.0</td>\n",
       "      <td>176.0</td>\n",
       "    </tr>\n",
       "  </tbody>\n",
       "</table>\n",
       "</div>"
      ],
      "text/plain": [
       "             WT_1  final_count  final_count_KO_3  final_count_KO_4\n",
       "transcript                                                        \n",
       "(A)n_15      31.0         26.0              31.0              31.0\n",
       "(A)n_16      45.0         65.0              54.0              56.0\n",
       "(A)n_17      79.0         67.0             105.0              73.0\n",
       "(A)n_18      93.0        137.0             125.0             119.0\n",
       "(A)n_19     174.0        212.0             178.0             176.0"
      ]
     },
     "execution_count": 41,
     "metadata": {},
     "output_type": "execute_result"
    }
   ],
   "source": [
    "WT_df.head()"
   ]
  },
  {
   "cell_type": "code",
   "execution_count": 42,
   "id": "7ca2935a-bfbd-469a-848a-cc8baa4e8a0e",
   "metadata": {
    "collapsed": true,
    "jupyter": {
     "outputs_hidden": true
    }
   },
   "outputs": [
    {
     "data": {
      "text/plain": [
       "(143660, 4)"
      ]
     },
     "execution_count": 42,
     "metadata": {},
     "output_type": "execute_result"
    }
   ],
   "source": [
    "WT_df.shape"
   ]
  },
  {
   "cell_type": "code",
   "execution_count": 43,
   "id": "7faf89d9-eba0-4af7-85b5-2e87851ceab1",
   "metadata": {
    "collapsed": true,
    "jupyter": {
     "outputs_hidden": true
    }
   },
   "outputs": [
    {
     "data": {
      "text/html": [
       "<div>\n",
       "<style scoped>\n",
       "    .dataframe tbody tr th:only-of-type {\n",
       "        vertical-align: middle;\n",
       "    }\n",
       "\n",
       "    .dataframe tbody tr th {\n",
       "        vertical-align: top;\n",
       "    }\n",
       "\n",
       "    .dataframe thead th {\n",
       "        text-align: right;\n",
       "    }\n",
       "</style>\n",
       "<table border=\"1\" class=\"dataframe\">\n",
       "  <thead>\n",
       "    <tr style=\"text-align: right;\">\n",
       "      <th></th>\n",
       "      <th>WT_1</th>\n",
       "      <th>final_count</th>\n",
       "      <th>final_count_KO_3</th>\n",
       "      <th>final_count_KO_4</th>\n",
       "    </tr>\n",
       "    <tr>\n",
       "      <th>transcript</th>\n",
       "      <th></th>\n",
       "      <th></th>\n",
       "      <th></th>\n",
       "      <th></th>\n",
       "    </tr>\n",
       "  </thead>\n",
       "  <tbody>\n",
       "    <tr>\n",
       "      <th>Lx2B2_1024</th>\n",
       "      <td>15.0</td>\n",
       "      <td>18.0</td>\n",
       "      <td>10.0</td>\n",
       "      <td>6.0</td>\n",
       "    </tr>\n",
       "    <tr>\n",
       "      <th>Lx2B2_1033</th>\n",
       "      <td>NaN</td>\n",
       "      <td>NaN</td>\n",
       "      <td>NaN</td>\n",
       "      <td>1.0</td>\n",
       "    </tr>\n",
       "    <tr>\n",
       "      <th>Lx2B2_1036</th>\n",
       "      <td>NaN</td>\n",
       "      <td>7.0</td>\n",
       "      <td>NaN</td>\n",
       "      <td>NaN</td>\n",
       "    </tr>\n",
       "    <tr>\n",
       "      <th>Lx2B2_10485</th>\n",
       "      <td>NaN</td>\n",
       "      <td>1.0</td>\n",
       "      <td>NaN</td>\n",
       "      <td>NaN</td>\n",
       "    </tr>\n",
       "    <tr>\n",
       "      <th>Lx2B2_1054</th>\n",
       "      <td>16.0</td>\n",
       "      <td>20.0</td>\n",
       "      <td>9.0</td>\n",
       "      <td>4.0</td>\n",
       "    </tr>\n",
       "    <tr>\n",
       "      <th>...</th>\n",
       "      <td>...</td>\n",
       "      <td>...</td>\n",
       "      <td>...</td>\n",
       "      <td>...</td>\n",
       "    </tr>\n",
       "    <tr>\n",
       "      <th>Lx2B2_944</th>\n",
       "      <td>NaN</td>\n",
       "      <td>3.0</td>\n",
       "      <td>NaN</td>\n",
       "      <td>NaN</td>\n",
       "    </tr>\n",
       "    <tr>\n",
       "      <th>Lx2B2_950</th>\n",
       "      <td>NaN</td>\n",
       "      <td>2.0</td>\n",
       "      <td>NaN</td>\n",
       "      <td>1.0</td>\n",
       "    </tr>\n",
       "    <tr>\n",
       "      <th>Lx2B2_962</th>\n",
       "      <td>NaN</td>\n",
       "      <td>1.0</td>\n",
       "      <td>NaN</td>\n",
       "      <td>NaN</td>\n",
       "    </tr>\n",
       "    <tr>\n",
       "      <th>Lx2B2_9753</th>\n",
       "      <td>7.0</td>\n",
       "      <td>20.0</td>\n",
       "      <td>24.0</td>\n",
       "      <td>6.0</td>\n",
       "    </tr>\n",
       "    <tr>\n",
       "      <th>Lx2B2_994</th>\n",
       "      <td>NaN</td>\n",
       "      <td>NaN</td>\n",
       "      <td>1.0</td>\n",
       "      <td>NaN</td>\n",
       "    </tr>\n",
       "  </tbody>\n",
       "</table>\n",
       "<p>194 rows × 4 columns</p>\n",
       "</div>"
      ],
      "text/plain": [
       "             WT_1  final_count  final_count_KO_3  final_count_KO_4\n",
       "transcript                                                        \n",
       "Lx2B2_1024   15.0         18.0              10.0               6.0\n",
       "Lx2B2_1033    NaN          NaN               NaN               1.0\n",
       "Lx2B2_1036    NaN          7.0               NaN               NaN\n",
       "Lx2B2_10485   NaN          1.0               NaN               NaN\n",
       "Lx2B2_1054   16.0         20.0               9.0               4.0\n",
       "...           ...          ...               ...               ...\n",
       "Lx2B2_944     NaN          3.0               NaN               NaN\n",
       "Lx2B2_950     NaN          2.0               NaN               1.0\n",
       "Lx2B2_962     NaN          1.0               NaN               NaN\n",
       "Lx2B2_9753    7.0         20.0              24.0               6.0\n",
       "Lx2B2_994     NaN          NaN               1.0               NaN\n",
       "\n",
       "[194 rows x 4 columns]"
      ]
     },
     "execution_count": 43,
     "metadata": {},
     "output_type": "execute_result"
    }
   ],
   "source": [
    "WT_df[ WT_df.index.str.startswith('Lx2B2') ]"
   ]
  },
  {
   "cell_type": "code",
   "execution_count": 45,
   "id": "1a174d2e-71d1-45d5-bc3d-a964d93105a5",
   "metadata": {},
   "outputs": [],
   "source": [
    "WT_df.columns = WT_ids"
   ]
  },
  {
   "cell_type": "code",
   "execution_count": 46,
   "id": "d9cee313-26f9-4c43-8aef-78dc8c0d3556",
   "metadata": {},
   "outputs": [
    {
     "data": {
      "text/html": [
       "<div>\n",
       "<style scoped>\n",
       "    .dataframe tbody tr th:only-of-type {\n",
       "        vertical-align: middle;\n",
       "    }\n",
       "\n",
       "    .dataframe tbody tr th {\n",
       "        vertical-align: top;\n",
       "    }\n",
       "\n",
       "    .dataframe thead th {\n",
       "        text-align: right;\n",
       "    }\n",
       "</style>\n",
       "<table border=\"1\" class=\"dataframe\">\n",
       "  <thead>\n",
       "    <tr style=\"text-align: right;\">\n",
       "      <th></th>\n",
       "      <th>WT_1</th>\n",
       "      <th>WT_2</th>\n",
       "      <th>WT_3</th>\n",
       "      <th>WT_4</th>\n",
       "    </tr>\n",
       "    <tr>\n",
       "      <th>transcript</th>\n",
       "      <th></th>\n",
       "      <th></th>\n",
       "      <th></th>\n",
       "      <th></th>\n",
       "    </tr>\n",
       "  </thead>\n",
       "  <tbody>\n",
       "    <tr>\n",
       "      <th>(A)n_15</th>\n",
       "      <td>31.0</td>\n",
       "      <td>26.0</td>\n",
       "      <td>31.0</td>\n",
       "      <td>31.0</td>\n",
       "    </tr>\n",
       "    <tr>\n",
       "      <th>(A)n_16</th>\n",
       "      <td>45.0</td>\n",
       "      <td>65.0</td>\n",
       "      <td>54.0</td>\n",
       "      <td>56.0</td>\n",
       "    </tr>\n",
       "    <tr>\n",
       "      <th>(A)n_17</th>\n",
       "      <td>79.0</td>\n",
       "      <td>67.0</td>\n",
       "      <td>105.0</td>\n",
       "      <td>73.0</td>\n",
       "    </tr>\n",
       "    <tr>\n",
       "      <th>(A)n_18</th>\n",
       "      <td>93.0</td>\n",
       "      <td>137.0</td>\n",
       "      <td>125.0</td>\n",
       "      <td>119.0</td>\n",
       "    </tr>\n",
       "    <tr>\n",
       "      <th>(A)n_19</th>\n",
       "      <td>174.0</td>\n",
       "      <td>212.0</td>\n",
       "      <td>178.0</td>\n",
       "      <td>176.0</td>\n",
       "    </tr>\n",
       "  </tbody>\n",
       "</table>\n",
       "</div>"
      ],
      "text/plain": [
       "             WT_1   WT_2   WT_3   WT_4\n",
       "transcript                            \n",
       "(A)n_15      31.0   26.0   31.0   31.0\n",
       "(A)n_16      45.0   65.0   54.0   56.0\n",
       "(A)n_17      79.0   67.0  105.0   73.0\n",
       "(A)n_18      93.0  137.0  125.0  119.0\n",
       "(A)n_19     174.0  212.0  178.0  176.0"
      ]
     },
     "execution_count": 46,
     "metadata": {},
     "output_type": "execute_result"
    }
   ],
   "source": [
    "WT_df.head()"
   ]
  },
  {
   "cell_type": "code",
   "execution_count": null,
   "id": "83e4b191-484e-456a-b05f-47be61834bbe",
   "metadata": {},
   "outputs": [],
   "source": []
  },
  {
   "cell_type": "markdown",
   "id": "6fa4153e-fd79-45bf-9238-93566599e174",
   "metadata": {},
   "source": [
    "## Get individual loci result"
   ]
  },
  {
   "cell_type": "code",
   "execution_count": 48,
   "id": "45e7ac98-4254-4786-bd52-407e7d6c1f84",
   "metadata": {},
   "outputs": [
    {
     "name": "stdout",
     "output_type": "stream",
     "text": [
      "(155300, 4)\n",
      "(143660, 4)\n"
     ]
    }
   ],
   "source": [
    "print( KO_df.shape)\n",
    "print( WT_df.shape)"
   ]
  },
  {
   "cell_type": "code",
   "execution_count": 56,
   "id": "1ac2a638-7b05-4931-8c14-a20b8235d4d4",
   "metadata": {},
   "outputs": [
    {
     "data": {
      "text/plain": [
       "(186775, 8)"
      ]
     },
     "execution_count": 56,
     "metadata": {},
     "output_type": "execute_result"
    }
   ],
   "source": [
    "indiv_df = WT_df.merge( KO_df, left_index=True, right_index= True, how = 'outer' )\n",
    "indiv_df.shape"
   ]
  },
  {
   "cell_type": "code",
   "execution_count": 57,
   "id": "ececf965-3e1b-4d96-82af-198add761fb5",
   "metadata": {},
   "outputs": [
    {
     "data": {
      "text/html": [
       "<div>\n",
       "<style scoped>\n",
       "    .dataframe tbody tr th:only-of-type {\n",
       "        vertical-align: middle;\n",
       "    }\n",
       "\n",
       "    .dataframe tbody tr th {\n",
       "        vertical-align: top;\n",
       "    }\n",
       "\n",
       "    .dataframe thead th {\n",
       "        text-align: right;\n",
       "    }\n",
       "</style>\n",
       "<table border=\"1\" class=\"dataframe\">\n",
       "  <thead>\n",
       "    <tr style=\"text-align: right;\">\n",
       "      <th></th>\n",
       "      <th>WT_1</th>\n",
       "      <th>WT_2</th>\n",
       "      <th>WT_3</th>\n",
       "      <th>WT_4</th>\n",
       "      <th>KO_1</th>\n",
       "      <th>KO_2</th>\n",
       "      <th>KO_3</th>\n",
       "      <th>KO_4</th>\n",
       "    </tr>\n",
       "    <tr>\n",
       "      <th>transcript</th>\n",
       "      <th></th>\n",
       "      <th></th>\n",
       "      <th></th>\n",
       "      <th></th>\n",
       "      <th></th>\n",
       "      <th></th>\n",
       "      <th></th>\n",
       "      <th></th>\n",
       "    </tr>\n",
       "  </thead>\n",
       "  <tbody>\n",
       "    <tr>\n",
       "      <th>(A)n_15</th>\n",
       "      <td>31.0</td>\n",
       "      <td>26.0</td>\n",
       "      <td>31.0</td>\n",
       "      <td>31.0</td>\n",
       "      <td>22.0</td>\n",
       "      <td>18.0</td>\n",
       "      <td>20.0</td>\n",
       "      <td>18.0</td>\n",
       "    </tr>\n",
       "    <tr>\n",
       "      <th>(A)n_16</th>\n",
       "      <td>45.0</td>\n",
       "      <td>65.0</td>\n",
       "      <td>54.0</td>\n",
       "      <td>56.0</td>\n",
       "      <td>44.0</td>\n",
       "      <td>54.0</td>\n",
       "      <td>53.0</td>\n",
       "      <td>50.0</td>\n",
       "    </tr>\n",
       "    <tr>\n",
       "      <th>(A)n_17</th>\n",
       "      <td>79.0</td>\n",
       "      <td>67.0</td>\n",
       "      <td>105.0</td>\n",
       "      <td>73.0</td>\n",
       "      <td>75.0</td>\n",
       "      <td>51.0</td>\n",
       "      <td>76.0</td>\n",
       "      <td>64.0</td>\n",
       "    </tr>\n",
       "    <tr>\n",
       "      <th>(A)n_18</th>\n",
       "      <td>93.0</td>\n",
       "      <td>137.0</td>\n",
       "      <td>125.0</td>\n",
       "      <td>119.0</td>\n",
       "      <td>112.0</td>\n",
       "      <td>112.0</td>\n",
       "      <td>113.0</td>\n",
       "      <td>121.0</td>\n",
       "    </tr>\n",
       "    <tr>\n",
       "      <th>(A)n_19</th>\n",
       "      <td>174.0</td>\n",
       "      <td>212.0</td>\n",
       "      <td>178.0</td>\n",
       "      <td>176.0</td>\n",
       "      <td>210.0</td>\n",
       "      <td>208.0</td>\n",
       "      <td>170.0</td>\n",
       "      <td>185.0</td>\n",
       "    </tr>\n",
       "  </tbody>\n",
       "</table>\n",
       "</div>"
      ],
      "text/plain": [
       "             WT_1   WT_2   WT_3   WT_4   KO_1   KO_2   KO_3   KO_4\n",
       "transcript                                                        \n",
       "(A)n_15      31.0   26.0   31.0   31.0   22.0   18.0   20.0   18.0\n",
       "(A)n_16      45.0   65.0   54.0   56.0   44.0   54.0   53.0   50.0\n",
       "(A)n_17      79.0   67.0  105.0   73.0   75.0   51.0   76.0   64.0\n",
       "(A)n_18      93.0  137.0  125.0  119.0  112.0  112.0  113.0  121.0\n",
       "(A)n_19     174.0  212.0  178.0  176.0  210.0  208.0  170.0  185.0"
      ]
     },
     "execution_count": 57,
     "metadata": {},
     "output_type": "execute_result"
    }
   ],
   "source": [
    "indiv_df.head()"
   ]
  },
  {
   "cell_type": "code",
   "execution_count": 52,
   "id": "e8f85255-dbfa-4cbe-875f-90bb51d98ab0",
   "metadata": {},
   "outputs": [],
   "source": [
    "#indiv_df.fillna( 0 , inplace= True)"
   ]
  },
  {
   "cell_type": "code",
   "execution_count": null,
   "id": "c0ae3d2a-24b1-4a14-a1de-8f3325096f28",
   "metadata": {},
   "outputs": [],
   "source": []
  },
  {
   "cell_type": "code",
   "execution_count": null,
   "id": "1bb0b1ce-f2fe-422c-a626-afe404d82a5b",
   "metadata": {},
   "outputs": [],
   "source": []
  },
  {
   "cell_type": "markdown",
   "id": "fb3586cb-fb5f-42a4-be35-561b113c0211",
   "metadata": {},
   "source": [
    "## get subF result"
   ]
  },
  {
   "cell_type": "code",
   "execution_count": 58,
   "id": "0713f6a0-04ae-4eb6-b635-2a48b16e33a0",
   "metadata": {},
   "outputs": [],
   "source": [
    "subF = indiv_df.copy()"
   ]
  },
  {
   "cell_type": "code",
   "execution_count": 62,
   "id": "6707a654-85a4-41bd-b489-2b3e899bb2e7",
   "metadata": {},
   "outputs": [],
   "source": [
    "repnames = [ \"_\".join( s.split(\"_\")[0:-1]) for s in indiv_df.index ]\n",
    "#repnames"
   ]
  },
  {
   "cell_type": "code",
   "execution_count": 66,
   "id": "259651dc-294c-4188-84bb-49ac8d609a20",
   "metadata": {},
   "outputs": [],
   "source": [
    "#repnames[-500: -490]"
   ]
  },
  {
   "cell_type": "code",
   "execution_count": 68,
   "id": "118c422e-fd83-4ab8-b846-2e1765f7c7ba",
   "metadata": {},
   "outputs": [],
   "source": [
    "subF.loc[: ,'repName'] = repnames"
   ]
  },
  {
   "cell_type": "code",
   "execution_count": 69,
   "id": "804fc294-ad2a-46df-a333-9ee507ef38c6",
   "metadata": {},
   "outputs": [
    {
     "data": {
      "text/html": [
       "<div>\n",
       "<style scoped>\n",
       "    .dataframe tbody tr th:only-of-type {\n",
       "        vertical-align: middle;\n",
       "    }\n",
       "\n",
       "    .dataframe tbody tr th {\n",
       "        vertical-align: top;\n",
       "    }\n",
       "\n",
       "    .dataframe thead th {\n",
       "        text-align: right;\n",
       "    }\n",
       "</style>\n",
       "<table border=\"1\" class=\"dataframe\">\n",
       "  <thead>\n",
       "    <tr style=\"text-align: right;\">\n",
       "      <th></th>\n",
       "      <th>WT_1</th>\n",
       "      <th>WT_2</th>\n",
       "      <th>WT_3</th>\n",
       "      <th>WT_4</th>\n",
       "      <th>KO_1</th>\n",
       "      <th>KO_2</th>\n",
       "      <th>KO_3</th>\n",
       "      <th>KO_4</th>\n",
       "      <th>repName</th>\n",
       "    </tr>\n",
       "    <tr>\n",
       "      <th>transcript</th>\n",
       "      <th></th>\n",
       "      <th></th>\n",
       "      <th></th>\n",
       "      <th></th>\n",
       "      <th></th>\n",
       "      <th></th>\n",
       "      <th></th>\n",
       "      <th></th>\n",
       "      <th></th>\n",
       "    </tr>\n",
       "  </thead>\n",
       "  <tbody>\n",
       "    <tr>\n",
       "      <th>(A)n_15</th>\n",
       "      <td>31.0</td>\n",
       "      <td>26.0</td>\n",
       "      <td>31.0</td>\n",
       "      <td>31.0</td>\n",
       "      <td>22.0</td>\n",
       "      <td>18.0</td>\n",
       "      <td>20.0</td>\n",
       "      <td>18.0</td>\n",
       "      <td>(A)n</td>\n",
       "    </tr>\n",
       "    <tr>\n",
       "      <th>(A)n_16</th>\n",
       "      <td>45.0</td>\n",
       "      <td>65.0</td>\n",
       "      <td>54.0</td>\n",
       "      <td>56.0</td>\n",
       "      <td>44.0</td>\n",
       "      <td>54.0</td>\n",
       "      <td>53.0</td>\n",
       "      <td>50.0</td>\n",
       "      <td>(A)n</td>\n",
       "    </tr>\n",
       "    <tr>\n",
       "      <th>(A)n_17</th>\n",
       "      <td>79.0</td>\n",
       "      <td>67.0</td>\n",
       "      <td>105.0</td>\n",
       "      <td>73.0</td>\n",
       "      <td>75.0</td>\n",
       "      <td>51.0</td>\n",
       "      <td>76.0</td>\n",
       "      <td>64.0</td>\n",
       "      <td>(A)n</td>\n",
       "    </tr>\n",
       "    <tr>\n",
       "      <th>(A)n_18</th>\n",
       "      <td>93.0</td>\n",
       "      <td>137.0</td>\n",
       "      <td>125.0</td>\n",
       "      <td>119.0</td>\n",
       "      <td>112.0</td>\n",
       "      <td>112.0</td>\n",
       "      <td>113.0</td>\n",
       "      <td>121.0</td>\n",
       "      <td>(A)n</td>\n",
       "    </tr>\n",
       "    <tr>\n",
       "      <th>(A)n_19</th>\n",
       "      <td>174.0</td>\n",
       "      <td>212.0</td>\n",
       "      <td>178.0</td>\n",
       "      <td>176.0</td>\n",
       "      <td>210.0</td>\n",
       "      <td>208.0</td>\n",
       "      <td>170.0</td>\n",
       "      <td>185.0</td>\n",
       "      <td>(A)n</td>\n",
       "    </tr>\n",
       "  </tbody>\n",
       "</table>\n",
       "</div>"
      ],
      "text/plain": [
       "             WT_1   WT_2   WT_3   WT_4   KO_1   KO_2   KO_3   KO_4 repName\n",
       "transcript                                                                \n",
       "(A)n_15      31.0   26.0   31.0   31.0   22.0   18.0   20.0   18.0    (A)n\n",
       "(A)n_16      45.0   65.0   54.0   56.0   44.0   54.0   53.0   50.0    (A)n\n",
       "(A)n_17      79.0   67.0  105.0   73.0   75.0   51.0   76.0   64.0    (A)n\n",
       "(A)n_18      93.0  137.0  125.0  119.0  112.0  112.0  113.0  121.0    (A)n\n",
       "(A)n_19     174.0  212.0  178.0  176.0  210.0  208.0  170.0  185.0    (A)n"
      ]
     },
     "execution_count": 69,
     "metadata": {},
     "output_type": "execute_result"
    }
   ],
   "source": [
    "subF.head()"
   ]
  },
  {
   "cell_type": "code",
   "execution_count": 70,
   "id": "dac1112a-d2af-41bb-b2b3-770efd334cf8",
   "metadata": {},
   "outputs": [],
   "source": [
    "subF = subF.groupby(\"repName\").sum()"
   ]
  },
  {
   "cell_type": "code",
   "execution_count": 71,
   "id": "cefcf9bd-c279-4a35-a928-bcecedb84173",
   "metadata": {},
   "outputs": [
    {
     "data": {
      "text/html": [
       "<div>\n",
       "<style scoped>\n",
       "    .dataframe tbody tr th:only-of-type {\n",
       "        vertical-align: middle;\n",
       "    }\n",
       "\n",
       "    .dataframe tbody tr th {\n",
       "        vertical-align: top;\n",
       "    }\n",
       "\n",
       "    .dataframe thead th {\n",
       "        text-align: right;\n",
       "    }\n",
       "</style>\n",
       "<table border=\"1\" class=\"dataframe\">\n",
       "  <thead>\n",
       "    <tr style=\"text-align: right;\">\n",
       "      <th></th>\n",
       "      <th>WT_1</th>\n",
       "      <th>WT_2</th>\n",
       "      <th>WT_3</th>\n",
       "      <th>WT_4</th>\n",
       "      <th>KO_1</th>\n",
       "      <th>KO_2</th>\n",
       "      <th>KO_3</th>\n",
       "      <th>KO_4</th>\n",
       "    </tr>\n",
       "    <tr>\n",
       "      <th>repName</th>\n",
       "      <th></th>\n",
       "      <th></th>\n",
       "      <th></th>\n",
       "      <th></th>\n",
       "      <th></th>\n",
       "      <th></th>\n",
       "      <th></th>\n",
       "      <th></th>\n",
       "    </tr>\n",
       "  </thead>\n",
       "  <tbody>\n",
       "    <tr>\n",
       "      <th>(A)n</th>\n",
       "      <td>4258.0</td>\n",
       "      <td>4761.0</td>\n",
       "      <td>4701.0</td>\n",
       "      <td>4254.0</td>\n",
       "      <td>4281.0</td>\n",
       "      <td>4280.0</td>\n",
       "      <td>4587.0</td>\n",
       "      <td>4142.0</td>\n",
       "    </tr>\n",
       "    <tr>\n",
       "      <th>(AAAAAAC)n</th>\n",
       "      <td>16.0</td>\n",
       "      <td>14.0</td>\n",
       "      <td>8.0</td>\n",
       "      <td>10.0</td>\n",
       "      <td>13.0</td>\n",
       "      <td>7.0</td>\n",
       "      <td>6.0</td>\n",
       "      <td>7.0</td>\n",
       "    </tr>\n",
       "    <tr>\n",
       "      <th>(AAAAAAG)n</th>\n",
       "      <td>5.0</td>\n",
       "      <td>8.0</td>\n",
       "      <td>4.0</td>\n",
       "      <td>1.0</td>\n",
       "      <td>5.0</td>\n",
       "      <td>4.0</td>\n",
       "      <td>6.0</td>\n",
       "      <td>7.0</td>\n",
       "    </tr>\n",
       "    <tr>\n",
       "      <th>(AAAAAC)n</th>\n",
       "      <td>177.0</td>\n",
       "      <td>210.0</td>\n",
       "      <td>210.0</td>\n",
       "      <td>188.0</td>\n",
       "      <td>200.0</td>\n",
       "      <td>169.0</td>\n",
       "      <td>162.0</td>\n",
       "      <td>151.0</td>\n",
       "    </tr>\n",
       "    <tr>\n",
       "      <th>(AAAAACA)n</th>\n",
       "      <td>1.0</td>\n",
       "      <td>2.0</td>\n",
       "      <td>0.0</td>\n",
       "      <td>0.0</td>\n",
       "      <td>0.0</td>\n",
       "      <td>0.0</td>\n",
       "      <td>1.0</td>\n",
       "      <td>0.0</td>\n",
       "    </tr>\n",
       "  </tbody>\n",
       "</table>\n",
       "</div>"
      ],
      "text/plain": [
       "              WT_1    WT_2    WT_3    WT_4    KO_1    KO_2    KO_3    KO_4\n",
       "repName                                                                   \n",
       "(A)n        4258.0  4761.0  4701.0  4254.0  4281.0  4280.0  4587.0  4142.0\n",
       "(AAAAAAC)n    16.0    14.0     8.0    10.0    13.0     7.0     6.0     7.0\n",
       "(AAAAAAG)n     5.0     8.0     4.0     1.0     5.0     4.0     6.0     7.0\n",
       "(AAAAAC)n    177.0   210.0   210.0   188.0   200.0   169.0   162.0   151.0\n",
       "(AAAAACA)n     1.0     2.0     0.0     0.0     0.0     0.0     1.0     0.0"
      ]
     },
     "execution_count": 71,
     "metadata": {},
     "output_type": "execute_result"
    }
   ],
   "source": [
    "subF.head()"
   ]
  },
  {
   "cell_type": "code",
   "execution_count": null,
   "id": "23640de0-8514-4619-b5d8-f0721d30acd5",
   "metadata": {},
   "outputs": [],
   "source": []
  },
  {
   "cell_type": "code",
   "execution_count": null,
   "id": "da4f9f3d-0ccf-45c8-8ccb-c0d9f4c57227",
   "metadata": {},
   "outputs": [],
   "source": []
  },
  {
   "cell_type": "markdown",
   "id": "db4016b6-8c47-4b34-9532-cbebf1d334bd",
   "metadata": {},
   "source": [
    "## save data"
   ]
  },
  {
   "cell_type": "code",
   "execution_count": 77,
   "id": "ce621cd6-24ff-49f0-add4-ac13e6f97814",
   "metadata": {},
   "outputs": [],
   "source": [
    "logi = pd.DataFrame( index = ['nb_created' , 'nb_updated' , 'explain'] )"
   ]
  },
  {
   "cell_type": "code",
   "execution_count": 73,
   "id": "5ee3e0ff-276e-467a-8ae9-cc239d58f942",
   "metadata": {},
   "outputs": [],
   "source": [
    "indiv_df.to_csv(\"./count_table_indiv.csv\", header = True, index = True )"
   ]
  },
  {
   "cell_type": "code",
   "execution_count": 74,
   "id": "e571508b-214a-44cc-ab25-8d85c0f7536c",
   "metadata": {},
   "outputs": [],
   "source": [
    "subF.to_csv(\"./count_table_subF.csv\", header = True, index = True )"
   ]
  },
  {
   "cell_type": "code",
   "execution_count": 75,
   "id": "ace5e430-08f8-46a0-8d4d-cc75673ec4a6",
   "metadata": {},
   "outputs": [],
   "source": [
    "rmsk.to_csv(\"./mm39_rmsk_full.tsv\", sep='\\t', header = True, index = False )"
   ]
  },
  {
   "cell_type": "code",
   "execution_count": 78,
   "id": "55211465-a8d5-45d1-9df8-41717c349cca",
   "metadata": {},
   "outputs": [],
   "source": [
    "logi['count_table_indiv.csv'] = [ '1' , 'NA' , 'count table obtained from combining the final_count column from each sample s telescope report']\n",
    "\n",
    "logi['count_table_subF.csv'] = [ '1' , 'NA' , 'count table obtained from the indiv count table. Summed up all elements with the same repName']\n",
    "\n",
    "logi['mm39_rmsk_full.tsv'] = [ 'downloaded from ucsc table browser' , '1' , 'added the column of transcript_id, which is the ID used to run individual locus for telescope']\n"
   ]
  },
  {
   "cell_type": "code",
   "execution_count": 79,
   "id": "f8fe295a-9a48-4be5-9653-0ec5ef2c3094",
   "metadata": {},
   "outputs": [
    {
     "data": {
      "text/html": [
       "<div>\n",
       "<style scoped>\n",
       "    .dataframe tbody tr th:only-of-type {\n",
       "        vertical-align: middle;\n",
       "    }\n",
       "\n",
       "    .dataframe tbody tr th {\n",
       "        vertical-align: top;\n",
       "    }\n",
       "\n",
       "    .dataframe thead th {\n",
       "        text-align: right;\n",
       "    }\n",
       "</style>\n",
       "<table border=\"1\" class=\"dataframe\">\n",
       "  <thead>\n",
       "    <tr style=\"text-align: right;\">\n",
       "      <th></th>\n",
       "      <th>count_table_indiv.csv</th>\n",
       "      <th>count_table_subF.csv</th>\n",
       "      <th>mm39_rmsk_full.tsv</th>\n",
       "    </tr>\n",
       "  </thead>\n",
       "  <tbody>\n",
       "    <tr>\n",
       "      <th>nb_created</th>\n",
       "      <td>1</td>\n",
       "      <td>1</td>\n",
       "      <td>downloaded from ucsc table browser</td>\n",
       "    </tr>\n",
       "    <tr>\n",
       "      <th>nb_updated</th>\n",
       "      <td>NA</td>\n",
       "      <td>NA</td>\n",
       "      <td>1</td>\n",
       "    </tr>\n",
       "    <tr>\n",
       "      <th>explain</th>\n",
       "      <td>count table obtained from combining the final_...</td>\n",
       "      <td>count table obtained from the indiv count tabl...</td>\n",
       "      <td>added the column of transcript_id, which is th...</td>\n",
       "    </tr>\n",
       "  </tbody>\n",
       "</table>\n",
       "</div>"
      ],
      "text/plain": [
       "                                        count_table_indiv.csv   \n",
       "nb_created                                                  1  \\\n",
       "nb_updated                                                 NA   \n",
       "explain     count table obtained from combining the final_...   \n",
       "\n",
       "                                         count_table_subF.csv   \n",
       "nb_created                                                  1  \\\n",
       "nb_updated                                                 NA   \n",
       "explain     count table obtained from the indiv count tabl...   \n",
       "\n",
       "                                           mm39_rmsk_full.tsv  \n",
       "nb_created                 downloaded from ucsc table browser  \n",
       "nb_updated                                                  1  \n",
       "explain     added the column of transcript_id, which is th...  "
      ]
     },
     "execution_count": 79,
     "metadata": {},
     "output_type": "execute_result"
    }
   ],
   "source": [
    "logi.head()"
   ]
  },
  {
   "cell_type": "code",
   "execution_count": null,
   "id": "21c3a8ba-b814-4413-ab34-b00e37f3d6e5",
   "metadata": {},
   "outputs": [],
   "source": []
  },
  {
   "cell_type": "code",
   "execution_count": null,
   "id": "ce5ab474-c6c2-4dd5-95c6-0c87568e73ed",
   "metadata": {},
   "outputs": [],
   "source": []
  },
  {
   "cell_type": "code",
   "execution_count": 80,
   "id": "f709ca78-ae7d-4ffa-ad7f-06bcd1b347fd",
   "metadata": {},
   "outputs": [],
   "source": [
    "logi.to_csv(\"./OUTPUT_EXPLAIN.csv\", header = True, index = True )"
   ]
  },
  {
   "cell_type": "code",
   "execution_count": 2,
   "id": "a84ff971-6f71-4faa-ae74-9019e776d583",
   "metadata": {},
   "outputs": [],
   "source": [
    "#logi"
   ]
  },
  {
   "cell_type": "code",
   "execution_count": 4,
   "id": "e0798129-f54d-4af4-8846-cf8a417766e1",
   "metadata": {},
   "outputs": [],
   "source": [
    "deseq_coldata = [ f'WT_{i+1}' for i in range(4)] + [ f'KO_{i+1}' for i in range(4)]"
   ]
  },
  {
   "cell_type": "code",
   "execution_count": 5,
   "id": "ff79bb0b-02e8-4e6e-b31f-85fd710c8437",
   "metadata": {},
   "outputs": [
    {
     "data": {
      "text/plain": [
       "['WT_1', 'WT_2', 'WT_3', 'WT_4', 'KO_1', 'KO_2', 'KO_3', 'KO_4']"
      ]
     },
     "execution_count": 5,
     "metadata": {},
     "output_type": "execute_result"
    }
   ],
   "source": [
    "deseq_coldata"
   ]
  },
  {
   "cell_type": "code",
   "execution_count": 6,
   "id": "d8c5e7d1-db6d-4311-af81-42efd95c53b0",
   "metadata": {},
   "outputs": [],
   "source": [
    "deseq_coldata_condition = [ f'WT' for i in range(4)] + [ f'KO' for i in range(4)]"
   ]
  },
  {
   "cell_type": "code",
   "execution_count": 7,
   "id": "04e9da33-c4c2-4e88-94c7-f71cbc828bca",
   "metadata": {},
   "outputs": [],
   "source": [
    "coldata_df = pd.DataFrame()\n",
    "coldata_df['samples'] = deseq_coldata\n",
    "coldata_df['conditions'] = deseq_coldata_condition"
   ]
  },
  {
   "cell_type": "code",
   "execution_count": 8,
   "id": "cbb75143-d5e5-4333-92d1-d85548d3fef9",
   "metadata": {},
   "outputs": [
    {
     "data": {
      "text/html": [
       "<div>\n",
       "<style scoped>\n",
       "    .dataframe tbody tr th:only-of-type {\n",
       "        vertical-align: middle;\n",
       "    }\n",
       "\n",
       "    .dataframe tbody tr th {\n",
       "        vertical-align: top;\n",
       "    }\n",
       "\n",
       "    .dataframe thead th {\n",
       "        text-align: right;\n",
       "    }\n",
       "</style>\n",
       "<table border=\"1\" class=\"dataframe\">\n",
       "  <thead>\n",
       "    <tr style=\"text-align: right;\">\n",
       "      <th></th>\n",
       "      <th>samples</th>\n",
       "      <th>conditions</th>\n",
       "    </tr>\n",
       "  </thead>\n",
       "  <tbody>\n",
       "    <tr>\n",
       "      <th>0</th>\n",
       "      <td>WT_1</td>\n",
       "      <td>WT</td>\n",
       "    </tr>\n",
       "    <tr>\n",
       "      <th>1</th>\n",
       "      <td>WT_2</td>\n",
       "      <td>WT</td>\n",
       "    </tr>\n",
       "    <tr>\n",
       "      <th>2</th>\n",
       "      <td>WT_3</td>\n",
       "      <td>WT</td>\n",
       "    </tr>\n",
       "    <tr>\n",
       "      <th>3</th>\n",
       "      <td>WT_4</td>\n",
       "      <td>WT</td>\n",
       "    </tr>\n",
       "    <tr>\n",
       "      <th>4</th>\n",
       "      <td>KO_1</td>\n",
       "      <td>KO</td>\n",
       "    </tr>\n",
       "    <tr>\n",
       "      <th>5</th>\n",
       "      <td>KO_2</td>\n",
       "      <td>KO</td>\n",
       "    </tr>\n",
       "    <tr>\n",
       "      <th>6</th>\n",
       "      <td>KO_3</td>\n",
       "      <td>KO</td>\n",
       "    </tr>\n",
       "    <tr>\n",
       "      <th>7</th>\n",
       "      <td>KO_4</td>\n",
       "      <td>KO</td>\n",
       "    </tr>\n",
       "  </tbody>\n",
       "</table>\n",
       "</div>"
      ],
      "text/plain": [
       "  samples conditions\n",
       "0    WT_1         WT\n",
       "1    WT_2         WT\n",
       "2    WT_3         WT\n",
       "3    WT_4         WT\n",
       "4    KO_1         KO\n",
       "5    KO_2         KO\n",
       "6    KO_3         KO\n",
       "7    KO_4         KO"
      ]
     },
     "execution_count": 8,
     "metadata": {},
     "output_type": "execute_result"
    }
   ],
   "source": [
    "coldata_df"
   ]
  },
  {
   "cell_type": "code",
   "execution_count": 9,
   "id": "e6656c3b-11ee-4055-a270-f720b0ad39f1",
   "metadata": {},
   "outputs": [],
   "source": [
    "coldata_df.to_csv(\"./deseq_coldata.csv\", header = True, index = False )"
   ]
  },
  {
   "cell_type": "code",
   "execution_count": null,
   "id": "d3706179-031d-496d-8111-10ad93d4ba2a",
   "metadata": {},
   "outputs": [],
   "source": []
  }
 ],
 "metadata": {
  "kernelspec": {
   "display_name": "qc_pipe",
   "language": "python",
   "name": "qc_pipe"
  },
  "language_info": {
   "codemirror_mode": {
    "name": "ipython",
    "version": 3
   },
   "file_extension": ".py",
   "mimetype": "text/x-python",
   "name": "python",
   "nbconvert_exporter": "python",
   "pygments_lexer": "ipython3",
   "version": "3.8.5"
  }
 },
 "nbformat": 4,
 "nbformat_minor": 5
}
