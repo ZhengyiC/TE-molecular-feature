{
 "cells": [
  {
   "cell_type": "markdown",
   "id": "a4078342-1dbb-410b-9499-57c4d9baa4f8",
   "metadata": {},
   "source": [
    "# This notebook compares sequence similarity between groups of TEs\n",
    "- follow the same procedure with 4a\n",
    "- computed the similarity scores for the top certain numbers up regulated elements in turner WT organoids data\n",
    "- compute the score for randomly selected elements that might not be differential"
   ]
  },
  {
   "cell_type": "code",
   "execution_count": null,
   "id": "3d01569f-229b-4136-b01e-8008119b3593",
   "metadata": {},
   "outputs": [],
   "source": []
  },
  {
   "cell_type": "code",
   "execution_count": 1,
   "id": "400d8e17-10a2-4b20-9aeb-b17cebe2f613",
   "metadata": {},
   "outputs": [],
   "source": [
    "from pyfaidx import Fasta\n",
    "import pandas as pd\n",
    "from Bio.Seq import Seq\n",
    "from pathlib import Path"
   ]
  },
  {
   "cell_type": "code",
   "execution_count": 2,
   "id": "7e83c424-01a3-49a3-8b7d-8bda18f49def",
   "metadata": {},
   "outputs": [
    {
     "name": "stderr",
     "output_type": "stream",
     "text": [
      "/home/lucy/anaconda3/envs/qc_pipe/lib/python3.8/site-packages/Bio/pairwise2.py:278: BiopythonDeprecationWarning: Bio.pairwise2 has been deprecated, and we intend to remove it in a future release of Biopython. As an alternative, please consider using Bio.Align.PairwiseAligner as a replacement, and contact the Biopython developers if you still need the Bio.pairwise2 module.\n",
      "  warnings.warn(\n"
     ]
    }
   ],
   "source": [
    "import pandas as pd\n",
    "import numpy as np\n",
    "import seaborn as sns\n",
    "import matplotlib.pyplot as plt\n",
    "from Bio import SeqIO, pairwise2\n",
    "from itertools import combinations\n",
    "from multiprocessing import Pool, cpu_count\n",
    "from pathlib import Path"
   ]
  },
  {
   "cell_type": "code",
   "execution_count": 38,
   "id": "102ecb05-fe9a-4dcc-8f13-fb4df776b42e",
   "metadata": {},
   "outputs": [],
   "source": [
    "import os"
   ]
  },
  {
   "cell_type": "code",
   "execution_count": 3,
   "id": "0650bb12-381d-48e1-8e5d-41b290a7a564",
   "metadata": {},
   "outputs": [],
   "source": [
    "#from pairwise2 import format_alignment"
   ]
  },
  {
   "cell_type": "code",
   "execution_count": 4,
   "id": "afc86a97-f185-4f22-990b-57cd0468fc1d",
   "metadata": {},
   "outputs": [],
   "source": [
    "import time"
   ]
  },
  {
   "cell_type": "code",
   "execution_count": 5,
   "id": "29d77431-d5ca-4d17-afce-2777ff0f7790",
   "metadata": {},
   "outputs": [],
   "source": [
    "import sequence_comparison as seqComp"
   ]
  },
  {
   "cell_type": "code",
   "execution_count": null,
   "id": "eac8bb6e-40e0-4d81-942a-d09b45c7c6fa",
   "metadata": {},
   "outputs": [],
   "source": []
  },
  {
   "cell_type": "code",
   "execution_count": null,
   "id": "fcd91fff-711f-424e-8cd2-736c84d4e22a",
   "metadata": {},
   "outputs": [],
   "source": []
  },
  {
   "cell_type": "code",
   "execution_count": null,
   "id": "d52d567d-bdff-4a77-ab0f-0a823d94ec35",
   "metadata": {},
   "outputs": [],
   "source": []
  },
  {
   "cell_type": "markdown",
   "id": "89606987-0e5a-49ec-b536-f638d3be1bc0",
   "metadata": {},
   "source": [
    "## load data"
   ]
  },
  {
   "cell_type": "code",
   "execution_count": 7,
   "id": "3e230178-8c98-4043-86eb-b5ac78255e8a",
   "metadata": {},
   "outputs": [],
   "source": [
    "wt_up = pd.read_csv(\"./compare_dTE_overlap/squire_sig_down.csv\",header = 0, index_col = 0 )"
   ]
  },
  {
   "cell_type": "code",
   "execution_count": 19,
   "id": "ad947061-4e3e-4266-9c3c-e28c53487ea8",
   "metadata": {},
   "outputs": [],
   "source": [
    "wt_up['df_index_repName'] = wt_up.index.astype(str) + \"_\" + wt_up['repName']"
   ]
  },
  {
   "cell_type": "code",
   "execution_count": 15,
   "id": "cbdcfd12-0617-499a-acc0-1229c9d4caf7",
   "metadata": {},
   "outputs": [
    {
     "data": {
      "text/plain": [
       "(33, 18)"
      ]
     },
     "execution_count": 15,
     "metadata": {},
     "output_type": "execute_result"
    }
   ],
   "source": [
    "wt_up.shape"
   ]
  },
  {
   "cell_type": "code",
   "execution_count": 9,
   "id": "23ff90cf-c3b8-4f22-86d8-0cd6df04a292",
   "metadata": {},
   "outputs": [],
   "source": [
    "squire_indiv = pd.read_csv(\"/home/lucy/Dropbox/turner_organoid_bulk_RNA_local/Deseq_indiv_dTE_results.csv\", header = 0, index_col = 0 )"
   ]
  },
  {
   "cell_type": "code",
   "execution_count": 10,
   "id": "1897b725-6d5a-41a8-96ad-f48badd4c037",
   "metadata": {},
   "outputs": [
    {
     "data": {
      "text/html": [
       "<div>\n",
       "<style scoped>\n",
       "    .dataframe tbody tr th:only-of-type {\n",
       "        vertical-align: middle;\n",
       "    }\n",
       "\n",
       "    .dataframe tbody tr th {\n",
       "        vertical-align: top;\n",
       "    }\n",
       "\n",
       "    .dataframe thead th {\n",
       "        text-align: right;\n",
       "    }\n",
       "</style>\n",
       "<table border=\"1\" class=\"dataframe\">\n",
       "  <thead>\n",
       "    <tr style=\"text-align: right;\">\n",
       "      <th></th>\n",
       "      <th>TE_ID</th>\n",
       "      <th>baseMean</th>\n",
       "      <th>log2FoldChange</th>\n",
       "      <th>lfcSE</th>\n",
       "      <th>stat</th>\n",
       "      <th>pvalue</th>\n",
       "      <th>padj</th>\n",
       "      <th>element_type</th>\n",
       "      <th>TE_name</th>\n",
       "      <th>TE_index</th>\n",
       "      <th>repName</th>\n",
       "      <th>repFamily</th>\n",
       "      <th>repClass</th>\n",
       "      <th>genoName</th>\n",
       "      <th>genoStart</th>\n",
       "      <th>genoEnd</th>\n",
       "      <th>strand</th>\n",
       "    </tr>\n",
       "  </thead>\n",
       "  <tbody>\n",
       "    <tr>\n",
       "      <th>0</th>\n",
       "      <td>chr13|73480020|73480091|PB1D9:Alu:SINE|268|-,.</td>\n",
       "      <td>9.000885</td>\n",
       "      <td>-0.489762</td>\n",
       "      <td>0.629289</td>\n",
       "      <td>-0.778278</td>\n",
       "      <td>0.800222</td>\n",
       "      <td>1.0</td>\n",
       "      <td>TE</td>\n",
       "      <td>PB1D9:Alu:SINE</td>\n",
       "      <td>PB1D9:Alu:SINE_268</td>\n",
       "      <td>PB1D9</td>\n",
       "      <td>Alu</td>\n",
       "      <td>SINE</td>\n",
       "      <td>chr13</td>\n",
       "      <td>73480020</td>\n",
       "      <td>73480091</td>\n",
       "      <td>-</td>\n",
       "    </tr>\n",
       "    <tr>\n",
       "      <th>1</th>\n",
       "      <td>chr5|117467874|117468005|RSINE1:B4:SINE|183|-,.</td>\n",
       "      <td>0.730917</td>\n",
       "      <td>-2.916743</td>\n",
       "      <td>3.081604</td>\n",
       "      <td>-0.946502</td>\n",
       "      <td>0.368835</td>\n",
       "      <td>1.0</td>\n",
       "      <td>TE</td>\n",
       "      <td>RSINE1:B4:SINE</td>\n",
       "      <td>RSINE1:B4:SINE_183</td>\n",
       "      <td>RSINE1</td>\n",
       "      <td>B4</td>\n",
       "      <td>SINE</td>\n",
       "      <td>chr5</td>\n",
       "      <td>117467874</td>\n",
       "      <td>117468005</td>\n",
       "      <td>-</td>\n",
       "    </tr>\n",
       "    <tr>\n",
       "      <th>2</th>\n",
       "      <td>chr3|96619212|96619284|ID4:ID:SINE|194|+,.</td>\n",
       "      <td>5.772588</td>\n",
       "      <td>0.121464</td>\n",
       "      <td>0.852163</td>\n",
       "      <td>0.142536</td>\n",
       "      <td>0.942801</td>\n",
       "      <td>1.0</td>\n",
       "      <td>TE</td>\n",
       "      <td>ID4:ID:SINE</td>\n",
       "      <td>ID4:ID:SINE_194</td>\n",
       "      <td>ID4</td>\n",
       "      <td>ID</td>\n",
       "      <td>SINE</td>\n",
       "      <td>chr3</td>\n",
       "      <td>96619212</td>\n",
       "      <td>96619284</td>\n",
       "      <td>+</td>\n",
       "    </tr>\n",
       "    <tr>\n",
       "      <th>3</th>\n",
       "      <td>chr15|93388865|93388965|PB1:Alu:SINE|227|-,.</td>\n",
       "      <td>32.028966</td>\n",
       "      <td>-0.216654</td>\n",
       "      <td>0.390147</td>\n",
       "      <td>-0.555314</td>\n",
       "      <td>0.978578</td>\n",
       "      <td>1.0</td>\n",
       "      <td>TE</td>\n",
       "      <td>PB1:Alu:SINE</td>\n",
       "      <td>PB1:Alu:SINE_227</td>\n",
       "      <td>PB1</td>\n",
       "      <td>Alu</td>\n",
       "      <td>SINE</td>\n",
       "      <td>chr15</td>\n",
       "      <td>93388865</td>\n",
       "      <td>93388965</td>\n",
       "      <td>-</td>\n",
       "    </tr>\n",
       "    <tr>\n",
       "      <th>4</th>\n",
       "      <td>chr11|94175967|94176153|B2_Mm2:B2:SINE|98|-,.</td>\n",
       "      <td>7.127690</td>\n",
       "      <td>0.305487</td>\n",
       "      <td>0.591882</td>\n",
       "      <td>0.516129</td>\n",
       "      <td>0.893386</td>\n",
       "      <td>1.0</td>\n",
       "      <td>TE</td>\n",
       "      <td>B2_Mm2:B2:SINE</td>\n",
       "      <td>B2_Mm2:B2:SINE_98</td>\n",
       "      <td>B2_Mm2</td>\n",
       "      <td>B2</td>\n",
       "      <td>SINE</td>\n",
       "      <td>chr11</td>\n",
       "      <td>94175967</td>\n",
       "      <td>94176153</td>\n",
       "      <td>-</td>\n",
       "    </tr>\n",
       "  </tbody>\n",
       "</table>\n",
       "</div>"
      ],
      "text/plain": [
       "                                             TE_ID   baseMean  log2FoldChange   \n",
       "0   chr13|73480020|73480091|PB1D9:Alu:SINE|268|-,.   9.000885       -0.489762  \\\n",
       "1  chr5|117467874|117468005|RSINE1:B4:SINE|183|-,.   0.730917       -2.916743   \n",
       "2       chr3|96619212|96619284|ID4:ID:SINE|194|+,.   5.772588        0.121464   \n",
       "3     chr15|93388865|93388965|PB1:Alu:SINE|227|-,.  32.028966       -0.216654   \n",
       "4    chr11|94175967|94176153|B2_Mm2:B2:SINE|98|-,.   7.127690        0.305487   \n",
       "\n",
       "      lfcSE      stat    pvalue  padj element_type         TE_name   \n",
       "0  0.629289 -0.778278  0.800222   1.0           TE  PB1D9:Alu:SINE  \\\n",
       "1  3.081604 -0.946502  0.368835   1.0           TE  RSINE1:B4:SINE   \n",
       "2  0.852163  0.142536  0.942801   1.0           TE     ID4:ID:SINE   \n",
       "3  0.390147 -0.555314  0.978578   1.0           TE    PB1:Alu:SINE   \n",
       "4  0.591882  0.516129  0.893386   1.0           TE  B2_Mm2:B2:SINE   \n",
       "\n",
       "             TE_index repName repFamily repClass genoName  genoStart   \n",
       "0  PB1D9:Alu:SINE_268   PB1D9       Alu     SINE    chr13   73480020  \\\n",
       "1  RSINE1:B4:SINE_183  RSINE1        B4     SINE     chr5  117467874   \n",
       "2     ID4:ID:SINE_194     ID4        ID     SINE     chr3   96619212   \n",
       "3    PB1:Alu:SINE_227     PB1       Alu     SINE    chr15   93388865   \n",
       "4   B2_Mm2:B2:SINE_98  B2_Mm2        B2     SINE    chr11   94175967   \n",
       "\n",
       "     genoEnd strand  \n",
       "0   73480091      -  \n",
       "1  117468005      -  \n",
       "2   96619284      +  \n",
       "3   93388965      -  \n",
       "4   94176153      -  "
      ]
     },
     "execution_count": 10,
     "metadata": {},
     "output_type": "execute_result"
    }
   ],
   "source": [
    "squire_indiv.head()"
   ]
  },
  {
   "cell_type": "code",
   "execution_count": 11,
   "id": "946b8356-9652-435b-8687-f0bae590af13",
   "metadata": {},
   "outputs": [],
   "source": [
    "squire_df_ind = squire_indiv.index.astype(str) + \"_\" + squire_indiv['repName']"
   ]
  },
  {
   "cell_type": "code",
   "execution_count": 12,
   "id": "ea78f31a-e8cf-4aad-8ce1-45e75630d06f",
   "metadata": {},
   "outputs": [],
   "source": [
    "squire_indiv['df_index_repName'] = squire_df_ind"
   ]
  },
  {
   "cell_type": "code",
   "execution_count": 13,
   "id": "0a436c94-79a7-476a-87b2-466baea18c60",
   "metadata": {
    "collapsed": true,
    "jupyter": {
     "outputs_hidden": true
    }
   },
   "outputs": [
    {
     "data": {
      "text/html": [
       "<div>\n",
       "<style scoped>\n",
       "    .dataframe tbody tr th:only-of-type {\n",
       "        vertical-align: middle;\n",
       "    }\n",
       "\n",
       "    .dataframe tbody tr th {\n",
       "        vertical-align: top;\n",
       "    }\n",
       "\n",
       "    .dataframe thead th {\n",
       "        text-align: right;\n",
       "    }\n",
       "</style>\n",
       "<table border=\"1\" class=\"dataframe\">\n",
       "  <thead>\n",
       "    <tr style=\"text-align: right;\">\n",
       "      <th></th>\n",
       "      <th>TE_ID</th>\n",
       "      <th>baseMean</th>\n",
       "      <th>log2FoldChange</th>\n",
       "      <th>lfcSE</th>\n",
       "      <th>stat</th>\n",
       "      <th>pvalue</th>\n",
       "      <th>padj</th>\n",
       "      <th>element_type</th>\n",
       "      <th>TE_name</th>\n",
       "      <th>TE_index</th>\n",
       "      <th>repName</th>\n",
       "      <th>repFamily</th>\n",
       "      <th>repClass</th>\n",
       "      <th>genoName</th>\n",
       "      <th>genoStart</th>\n",
       "      <th>genoEnd</th>\n",
       "      <th>strand</th>\n",
       "      <th>df_index_repName</th>\n",
       "    </tr>\n",
       "  </thead>\n",
       "  <tbody>\n",
       "    <tr>\n",
       "      <th>0</th>\n",
       "      <td>chr13|73480020|73480091|PB1D9:Alu:SINE|268|-,.</td>\n",
       "      <td>9.000885</td>\n",
       "      <td>-0.489762</td>\n",
       "      <td>0.629289</td>\n",
       "      <td>-0.778278</td>\n",
       "      <td>0.800222</td>\n",
       "      <td>1.0</td>\n",
       "      <td>TE</td>\n",
       "      <td>PB1D9:Alu:SINE</td>\n",
       "      <td>PB1D9:Alu:SINE_268</td>\n",
       "      <td>PB1D9</td>\n",
       "      <td>Alu</td>\n",
       "      <td>SINE</td>\n",
       "      <td>chr13</td>\n",
       "      <td>73480020</td>\n",
       "      <td>73480091</td>\n",
       "      <td>-</td>\n",
       "      <td>0_PB1D9</td>\n",
       "    </tr>\n",
       "    <tr>\n",
       "      <th>1</th>\n",
       "      <td>chr5|117467874|117468005|RSINE1:B4:SINE|183|-,.</td>\n",
       "      <td>0.730917</td>\n",
       "      <td>-2.916743</td>\n",
       "      <td>3.081604</td>\n",
       "      <td>-0.946502</td>\n",
       "      <td>0.368835</td>\n",
       "      <td>1.0</td>\n",
       "      <td>TE</td>\n",
       "      <td>RSINE1:B4:SINE</td>\n",
       "      <td>RSINE1:B4:SINE_183</td>\n",
       "      <td>RSINE1</td>\n",
       "      <td>B4</td>\n",
       "      <td>SINE</td>\n",
       "      <td>chr5</td>\n",
       "      <td>117467874</td>\n",
       "      <td>117468005</td>\n",
       "      <td>-</td>\n",
       "      <td>1_RSINE1</td>\n",
       "    </tr>\n",
       "  </tbody>\n",
       "</table>\n",
       "</div>"
      ],
      "text/plain": [
       "                                             TE_ID  baseMean  log2FoldChange   \n",
       "0   chr13|73480020|73480091|PB1D9:Alu:SINE|268|-,.  9.000885       -0.489762  \\\n",
       "1  chr5|117467874|117468005|RSINE1:B4:SINE|183|-,.  0.730917       -2.916743   \n",
       "\n",
       "      lfcSE      stat    pvalue  padj element_type         TE_name   \n",
       "0  0.629289 -0.778278  0.800222   1.0           TE  PB1D9:Alu:SINE  \\\n",
       "1  3.081604 -0.946502  0.368835   1.0           TE  RSINE1:B4:SINE   \n",
       "\n",
       "             TE_index repName repFamily repClass genoName  genoStart   \n",
       "0  PB1D9:Alu:SINE_268   PB1D9       Alu     SINE    chr13   73480020  \\\n",
       "1  RSINE1:B4:SINE_183  RSINE1        B4     SINE     chr5  117467874   \n",
       "\n",
       "     genoEnd strand df_index_repName  \n",
       "0   73480091      -          0_PB1D9  \n",
       "1  117468005      -         1_RSINE1  "
      ]
     },
     "execution_count": 13,
     "metadata": {},
     "output_type": "execute_result"
    }
   ],
   "source": [
    "squire_indiv.head(2)"
   ]
  },
  {
   "cell_type": "code",
   "execution_count": 14,
   "id": "9002366f-c78f-4d09-8ef9-ed2d06edcc14",
   "metadata": {},
   "outputs": [],
   "source": [
    "mm39_ref_path = '/home/lucy/Dropbox/mouse_ref_genome_mm39/mm39.fa'"
   ]
  },
  {
   "cell_type": "code",
   "execution_count": null,
   "id": "4e5007ac-041f-4a7e-ab0f-cd96641dd56f",
   "metadata": {},
   "outputs": [],
   "source": []
  },
  {
   "cell_type": "code",
   "execution_count": null,
   "id": "3f54bf81-bb19-4be4-9e24-1ae097ff3838",
   "metadata": {},
   "outputs": [],
   "source": []
  },
  {
   "cell_type": "markdown",
   "id": "cf24801d-46cd-4d97-a4bd-e0aef9e3a3ea",
   "metadata": {},
   "source": [
    "## Get similarity score for WT up sequences\n",
    "- top 10, 20, and all (33)"
   ]
  },
  {
   "cell_type": "markdown",
   "id": "dff561f1-acf1-45e9-85be-bfdf6f7842d6",
   "metadata": {},
   "source": [
    "### get sequences"
   ]
  },
  {
   "cell_type": "code",
   "execution_count": 20,
   "id": "c63a04bb-ae90-440a-b008-d1732b2149aa",
   "metadata": {},
   "outputs": [
    {
     "data": {
      "text/html": [
       "<div>\n",
       "<style scoped>\n",
       "    .dataframe tbody tr th:only-of-type {\n",
       "        vertical-align: middle;\n",
       "    }\n",
       "\n",
       "    .dataframe tbody tr th {\n",
       "        vertical-align: top;\n",
       "    }\n",
       "\n",
       "    .dataframe thead th {\n",
       "        text-align: right;\n",
       "    }\n",
       "</style>\n",
       "<table border=\"1\" class=\"dataframe\">\n",
       "  <thead>\n",
       "    <tr style=\"text-align: right;\">\n",
       "      <th></th>\n",
       "      <th>TE_ID</th>\n",
       "      <th>baseMean</th>\n",
       "      <th>log2FoldChange</th>\n",
       "      <th>lfcSE</th>\n",
       "      <th>stat</th>\n",
       "      <th>pvalue</th>\n",
       "      <th>padj</th>\n",
       "      <th>element_type</th>\n",
       "      <th>TE_name</th>\n",
       "      <th>TE_index</th>\n",
       "      <th>repName</th>\n",
       "      <th>repFamily</th>\n",
       "      <th>repClass</th>\n",
       "      <th>genoName</th>\n",
       "      <th>genoStart</th>\n",
       "      <th>genoEnd</th>\n",
       "      <th>strand</th>\n",
       "      <th>df_index_repName</th>\n",
       "    </tr>\n",
       "  </thead>\n",
       "  <tbody>\n",
       "    <tr>\n",
       "      <th>4485</th>\n",
       "      <td>chrY|1046951|1048785|Lx2B2:L1:LINE|166|+,.</td>\n",
       "      <td>41.184881</td>\n",
       "      <td>-8.735873</td>\n",
       "      <td>1.051304</td>\n",
       "      <td>-8.309562</td>\n",
       "      <td>9.309039e-14</td>\n",
       "      <td>1.761051e-11</td>\n",
       "      <td>TE</td>\n",
       "      <td>Lx2B2:L1:LINE</td>\n",
       "      <td>Lx2B2:L1:LINE_166</td>\n",
       "      <td>Lx2B2</td>\n",
       "      <td>L1</td>\n",
       "      <td>LINE</td>\n",
       "      <td>chrY</td>\n",
       "      <td>1046951</td>\n",
       "      <td>1048785</td>\n",
       "      <td>+</td>\n",
       "      <td>4485_Lx2B2</td>\n",
       "    </tr>\n",
       "    <tr>\n",
       "      <th>6115</th>\n",
       "      <td>chr19|36949092|36949293|ORR1B1-int:ERVL-MaLR:L...</td>\n",
       "      <td>37.460687</td>\n",
       "      <td>-8.598821</td>\n",
       "      <td>1.054039</td>\n",
       "      <td>-8.157969</td>\n",
       "      <td>2.813290e-13</td>\n",
       "      <td>5.170024e-11</td>\n",
       "      <td>TE</td>\n",
       "      <td>ORR1B1-int:ERVL-MaLR:LTR</td>\n",
       "      <td>ORR1B1-int:ERVL-MaLR:LTR_203</td>\n",
       "      <td>ORR1B1-int</td>\n",
       "      <td>ERVL-MaLR</td>\n",
       "      <td>LTR</td>\n",
       "      <td>chr19</td>\n",
       "      <td>36949092</td>\n",
       "      <td>36949293</td>\n",
       "      <td>+</td>\n",
       "      <td>6115_ORR1B1-int</td>\n",
       "    </tr>\n",
       "    <tr>\n",
       "      <th>249</th>\n",
       "      <td>chr13|68590731|68597820|RLTR4_MM-int:LTR:LTR|3...</td>\n",
       "      <td>33.623029</td>\n",
       "      <td>-8.445261</td>\n",
       "      <td>1.049767</td>\n",
       "      <td>-8.044888</td>\n",
       "      <td>6.595240e-13</td>\n",
       "      <td>1.134240e-10</td>\n",
       "      <td>TE</td>\n",
       "      <td>RLTR4_MM-int:LTR:LTR</td>\n",
       "      <td>RLTR4_MM-int:LTR:LTR_321</td>\n",
       "      <td>RLTR4_MM-int</td>\n",
       "      <td>LTR</td>\n",
       "      <td>LTR</td>\n",
       "      <td>chr13</td>\n",
       "      <td>68590731</td>\n",
       "      <td>68597820</td>\n",
       "      <td>-</td>\n",
       "      <td>249_RLTR4_MM-int</td>\n",
       "    </tr>\n",
       "    <tr>\n",
       "      <th>5703</th>\n",
       "      <td>chr19|36948880|36949059|B3:B2:SINE|210|+,.</td>\n",
       "      <td>33.652405</td>\n",
       "      <td>-8.443296</td>\n",
       "      <td>1.066800</td>\n",
       "      <td>-7.914598</td>\n",
       "      <td>1.505438e-12</td>\n",
       "      <td>2.495612e-10</td>\n",
       "      <td>TE</td>\n",
       "      <td>B3:B2:SINE</td>\n",
       "      <td>B3:B2:SINE_210</td>\n",
       "      <td>B3</td>\n",
       "      <td>B2</td>\n",
       "      <td>SINE</td>\n",
       "      <td>chr19</td>\n",
       "      <td>36948880</td>\n",
       "      <td>36949059</td>\n",
       "      <td>+</td>\n",
       "      <td>5703_B3</td>\n",
       "    </tr>\n",
       "    <tr>\n",
       "      <th>10291</th>\n",
       "      <td>chr19|37212352|37212822|Lx8:L1:LINE|254|+,.</td>\n",
       "      <td>33.476036</td>\n",
       "      <td>-8.439185</td>\n",
       "      <td>1.050746</td>\n",
       "      <td>-8.031615</td>\n",
       "      <td>7.212397e-13</td>\n",
       "      <td>1.233780e-10</td>\n",
       "      <td>TE</td>\n",
       "      <td>Lx8:L1:LINE</td>\n",
       "      <td>Lx8:L1:LINE_254</td>\n",
       "      <td>Lx8</td>\n",
       "      <td>L1</td>\n",
       "      <td>LINE</td>\n",
       "      <td>chr19</td>\n",
       "      <td>37212352</td>\n",
       "      <td>37212822</td>\n",
       "      <td>+</td>\n",
       "      <td>10291_Lx8</td>\n",
       "    </tr>\n",
       "  </tbody>\n",
       "</table>\n",
       "</div>"
      ],
      "text/plain": [
       "                                                   TE_ID   baseMean   \n",
       "4485          chrY|1046951|1048785|Lx2B2:L1:LINE|166|+,.  41.184881  \\\n",
       "6115   chr19|36949092|36949293|ORR1B1-int:ERVL-MaLR:L...  37.460687   \n",
       "249    chr13|68590731|68597820|RLTR4_MM-int:LTR:LTR|3...  33.623029   \n",
       "5703          chr19|36948880|36949059|B3:B2:SINE|210|+,.  33.652405   \n",
       "10291        chr19|37212352|37212822|Lx8:L1:LINE|254|+,.  33.476036   \n",
       "\n",
       "       log2FoldChange     lfcSE      stat        pvalue          padj   \n",
       "4485        -8.735873  1.051304 -8.309562  9.309039e-14  1.761051e-11  \\\n",
       "6115        -8.598821  1.054039 -8.157969  2.813290e-13  5.170024e-11   \n",
       "249         -8.445261  1.049767 -8.044888  6.595240e-13  1.134240e-10   \n",
       "5703        -8.443296  1.066800 -7.914598  1.505438e-12  2.495612e-10   \n",
       "10291       -8.439185  1.050746 -8.031615  7.212397e-13  1.233780e-10   \n",
       "\n",
       "      element_type                   TE_name                      TE_index   \n",
       "4485            TE             Lx2B2:L1:LINE             Lx2B2:L1:LINE_166  \\\n",
       "6115            TE  ORR1B1-int:ERVL-MaLR:LTR  ORR1B1-int:ERVL-MaLR:LTR_203   \n",
       "249             TE      RLTR4_MM-int:LTR:LTR      RLTR4_MM-int:LTR:LTR_321   \n",
       "5703            TE                B3:B2:SINE                B3:B2:SINE_210   \n",
       "10291           TE               Lx8:L1:LINE               Lx8:L1:LINE_254   \n",
       "\n",
       "            repName  repFamily repClass genoName  genoStart   genoEnd strand   \n",
       "4485          Lx2B2         L1     LINE     chrY    1046951   1048785      +  \\\n",
       "6115     ORR1B1-int  ERVL-MaLR      LTR    chr19   36949092  36949293      +   \n",
       "249    RLTR4_MM-int        LTR      LTR    chr13   68590731  68597820      -   \n",
       "5703             B3         B2     SINE    chr19   36948880  36949059      +   \n",
       "10291           Lx8         L1     LINE    chr19   37212352  37212822      +   \n",
       "\n",
       "       df_index_repName  \n",
       "4485         4485_Lx2B2  \n",
       "6115    6115_ORR1B1-int  \n",
       "249    249_RLTR4_MM-int  \n",
       "5703            5703_B3  \n",
       "10291         10291_Lx8  "
      ]
     },
     "execution_count": 20,
     "metadata": {},
     "output_type": "execute_result"
    }
   ],
   "source": [
    "wt_up.sort_values( by = 'log2FoldChange', ascending = True , inplace= True )\n",
    "wt_up.head()"
   ]
  },
  {
   "cell_type": "code",
   "execution_count": 21,
   "id": "b39bc56e-4275-4e58-9d79-c444ccdcb15e",
   "metadata": {},
   "outputs": [],
   "source": [
    "wt_top10_df = wt_up.iloc[0:10][[ 'genoName', 'genoStart', 'genoEnd', 'strand', 'df_index_repName'] ] \n",
    "wt_top20_df = wt_up.iloc[0:20][[ 'genoName', 'genoStart', 'genoEnd', 'strand', 'df_index_repName'] ]\n",
    "wt_top_all = wt_up[[ 'genoName', 'genoStart', 'genoEnd', 'strand', 'df_index_repName'] ]"
   ]
  },
  {
   "cell_type": "code",
   "execution_count": 26,
   "id": "8e57d28e-229b-457b-b804-37058b9c1153",
   "metadata": {},
   "outputs": [
    {
     "data": {
      "text/html": [
       "<div>\n",
       "<style scoped>\n",
       "    .dataframe tbody tr th:only-of-type {\n",
       "        vertical-align: middle;\n",
       "    }\n",
       "\n",
       "    .dataframe tbody tr th {\n",
       "        vertical-align: top;\n",
       "    }\n",
       "\n",
       "    .dataframe thead th {\n",
       "        text-align: right;\n",
       "    }\n",
       "</style>\n",
       "<table border=\"1\" class=\"dataframe\">\n",
       "  <thead>\n",
       "    <tr style=\"text-align: right;\">\n",
       "      <th></th>\n",
       "      <th>genoName</th>\n",
       "      <th>genoStart</th>\n",
       "      <th>genoEnd</th>\n",
       "      <th>strand</th>\n",
       "      <th>df_index_repName</th>\n",
       "    </tr>\n",
       "  </thead>\n",
       "  <tbody>\n",
       "    <tr>\n",
       "      <th>4485</th>\n",
       "      <td>chrY</td>\n",
       "      <td>1046951</td>\n",
       "      <td>1048785</td>\n",
       "      <td>+</td>\n",
       "      <td>4485_Lx2B2</td>\n",
       "    </tr>\n",
       "    <tr>\n",
       "      <th>6115</th>\n",
       "      <td>chr19</td>\n",
       "      <td>36949092</td>\n",
       "      <td>36949293</td>\n",
       "      <td>+</td>\n",
       "      <td>6115_ORR1B1-int</td>\n",
       "    </tr>\n",
       "    <tr>\n",
       "      <th>249</th>\n",
       "      <td>chr13</td>\n",
       "      <td>68590731</td>\n",
       "      <td>68597820</td>\n",
       "      <td>-</td>\n",
       "      <td>249_RLTR4_MM-int</td>\n",
       "    </tr>\n",
       "    <tr>\n",
       "      <th>5703</th>\n",
       "      <td>chr19</td>\n",
       "      <td>36948880</td>\n",
       "      <td>36949059</td>\n",
       "      <td>+</td>\n",
       "      <td>5703_B3</td>\n",
       "    </tr>\n",
       "    <tr>\n",
       "      <th>10291</th>\n",
       "      <td>chr19</td>\n",
       "      <td>37212352</td>\n",
       "      <td>37212822</td>\n",
       "      <td>+</td>\n",
       "      <td>10291_Lx8</td>\n",
       "    </tr>\n",
       "  </tbody>\n",
       "</table>\n",
       "</div>"
      ],
      "text/plain": [
       "      genoName  genoStart   genoEnd strand  df_index_repName\n",
       "4485      chrY    1046951   1048785      +        4485_Lx2B2\n",
       "6115     chr19   36949092  36949293      +   6115_ORR1B1-int\n",
       "249      chr13   68590731  68597820      -  249_RLTR4_MM-int\n",
       "5703     chr19   36948880  36949059      +           5703_B3\n",
       "10291    chr19   37212352  37212822      +         10291_Lx8"
      ]
     },
     "execution_count": 26,
     "metadata": {},
     "output_type": "execute_result"
    }
   ],
   "source": [
    "wt_top10_df.head()"
   ]
  },
  {
   "cell_type": "code",
   "execution_count": 23,
   "id": "3a214e92-6c65-4457-a0e8-6f01573b7128",
   "metadata": {},
   "outputs": [
    {
     "name": "stdout",
     "output_type": "stream",
     "text": [
      "✅ Extracted sequences saved to: sequence_similarity_input/wt_top10_df.fasta\n"
     ]
    }
   ],
   "source": [
    "# top 10 df\n",
    "mm39_ref_path = '/home/lucy/Dropbox/mouse_ref_genome_mm39/mm39.fa'\n",
    "seqComp.extract_ucsc_bedlike_regions( \n",
    "    genome_fasta= mm39_ref_path,     \n",
    "    regions_df= wt_top10_df,      \n",
    "    output_fasta= \"sequence_similarity_input/\" + \"wt_top10_df.fasta\",\n",
    ")"
   ]
  },
  {
   "cell_type": "code",
   "execution_count": 24,
   "id": "ac10e05d-5f50-48b1-83a5-7b7f312785e2",
   "metadata": {},
   "outputs": [
    {
     "name": "stdout",
     "output_type": "stream",
     "text": [
      "✅ Extracted sequences saved to: sequence_similarity_input/wt_top20_df.fasta\n"
     ]
    }
   ],
   "source": [
    "seqComp.extract_ucsc_bedlike_regions( \n",
    "    genome_fasta= mm39_ref_path,     \n",
    "    regions_df= wt_top20_df,      \n",
    "    output_fasta= \"sequence_similarity_input/\" + \"wt_top20_df.fasta\",\n",
    ")"
   ]
  },
  {
   "cell_type": "code",
   "execution_count": 25,
   "id": "0b7b91ae-7ed4-48be-b859-09c049fc6fc1",
   "metadata": {},
   "outputs": [
    {
     "name": "stdout",
     "output_type": "stream",
     "text": [
      "✅ Extracted sequences saved to: sequence_similarity_input/wt_top_all_df.fasta\n"
     ]
    }
   ],
   "source": [
    "seqComp.extract_ucsc_bedlike_regions( \n",
    "    genome_fasta= mm39_ref_path,     \n",
    "    regions_df= wt_top_all,      \n",
    "    output_fasta= \"sequence_similarity_input/\" + \"wt_top_all_df.fasta\",\n",
    ")"
   ]
  },
  {
   "cell_type": "code",
   "execution_count": null,
   "id": "fbb137f1-07c8-4457-a31a-cd6ed5261604",
   "metadata": {},
   "outputs": [],
   "source": []
  },
  {
   "cell_type": "code",
   "execution_count": null,
   "id": "9ee95a60-0c70-4238-9403-67239da2dee1",
   "metadata": {},
   "outputs": [],
   "source": []
  },
  {
   "cell_type": "markdown",
   "id": "92edfedc-1bd3-4745-8c21-6444586ac23f",
   "metadata": {},
   "source": [
    "### compute similarity scores"
   ]
  },
  {
   "cell_type": "code",
   "execution_count": 27,
   "id": "cbf4294a-32cc-45f1-b722-6af9aef0a76e",
   "metadata": {},
   "outputs": [],
   "source": [
    "save_path = \"./sequence_similarity_results/\"\n",
    "input_path = \"./sequence_similarity_input/\""
   ]
  },
  {
   "cell_type": "code",
   "execution_count": 28,
   "id": "5086aaea-a921-4ad6-b08f-abae0684b6e8",
   "metadata": {},
   "outputs": [],
   "source": [
    "fnames = [ 'wt_top10_df.fasta' , 'wt_top20_df.fasta', 'wt_top_all_df.fasta' ]"
   ]
  },
  {
   "cell_type": "code",
   "execution_count": 29,
   "id": "d9d30108-8a7f-4b2d-b2c9-99641ea5f48b",
   "metadata": {},
   "outputs": [
    {
     "name": "stdout",
     "output_type": "stream",
     "text": [
      "Starting file wt_top10_df.fasta\n",
      "Loaded 10 sequences from ./sequence_similarity_input/wt_top10_df.fasta\n",
      "Average identity: 24.43% ± 18.15%\n",
      "File wt_top10_df.fasta time used: 0.1 min\n",
      "Starting file wt_top20_df.fasta\n",
      "Loaded 20 sequences from ./sequence_similarity_input/wt_top20_df.fasta\n",
      "Average identity: 27.33% ± 19.27%\n",
      "File wt_top20_df.fasta time used: 0.2 min\n",
      "Starting file wt_top_all_df.fasta\n",
      "Loaded 33 sequences from ./sequence_similarity_input/wt_top_all_df.fasta\n",
      "Average identity: 29.44% ± 19.74%\n",
      "File wt_top_all_df.fasta time used: 0.4 min\n"
     ]
    }
   ],
   "source": [
    "for f in fnames:\n",
    "    print(f\"Starting file {f}\")\n",
    "    \n",
    "    TIME_S = time.time()\n",
    "    \n",
    "    seqComp.process_group(input_path + f, out_dir= save_path, n_jobs=4,plot_heatmap=True )\n",
    "    TIME_E = time.time()\n",
    "    \n",
    "    TOTAL_TIME = (TIME_E - TIME_S)/60\n",
    "    print( f\"File {f} time used: {TOTAL_TIME:.1f} min\" )"
   ]
  },
  {
   "cell_type": "code",
   "execution_count": null,
   "id": "c7dd8ca7-8e25-4548-8381-89db933507e7",
   "metadata": {},
   "outputs": [],
   "source": []
  },
  {
   "cell_type": "code",
   "execution_count": null,
   "id": "7033aa8e-f704-4fe5-a0d3-09f372d1c1a7",
   "metadata": {},
   "outputs": [],
   "source": []
  },
  {
   "cell_type": "markdown",
   "id": "57c53975-bd3b-4673-95c2-1b1114e7777c",
   "metadata": {},
   "source": [
    "## randomly selected elements\n",
    "- 10, 20, 50, two selections each"
   ]
  },
  {
   "cell_type": "code",
   "execution_count": 35,
   "id": "751122a3-cc3e-4b66-a6cf-09941b8228f6",
   "metadata": {},
   "outputs": [],
   "source": [
    "num_selection = [10, 20, 33, 50 ]\n",
    "rand_state = [608, 504, 2, 10 ]"
   ]
  },
  {
   "cell_type": "code",
   "execution_count": null,
   "id": "f497cf59-f339-4151-bb23-b94346a6494f",
   "metadata": {},
   "outputs": [],
   "source": []
  },
  {
   "cell_type": "code",
   "execution_count": 33,
   "id": "11416d77-ca43-46f3-b339-25339167e29d",
   "metadata": {
    "collapsed": true,
    "jupyter": {
     "outputs_hidden": true
    }
   },
   "outputs": [
    {
     "data": {
      "text/html": [
       "<div>\n",
       "<style scoped>\n",
       "    .dataframe tbody tr th:only-of-type {\n",
       "        vertical-align: middle;\n",
       "    }\n",
       "\n",
       "    .dataframe tbody tr th {\n",
       "        vertical-align: top;\n",
       "    }\n",
       "\n",
       "    .dataframe thead th {\n",
       "        text-align: right;\n",
       "    }\n",
       "</style>\n",
       "<table border=\"1\" class=\"dataframe\">\n",
       "  <thead>\n",
       "    <tr style=\"text-align: right;\">\n",
       "      <th></th>\n",
       "      <th>TE_ID</th>\n",
       "      <th>baseMean</th>\n",
       "      <th>log2FoldChange</th>\n",
       "      <th>lfcSE</th>\n",
       "      <th>stat</th>\n",
       "      <th>pvalue</th>\n",
       "      <th>padj</th>\n",
       "      <th>element_type</th>\n",
       "      <th>TE_name</th>\n",
       "      <th>TE_index</th>\n",
       "      <th>repName</th>\n",
       "      <th>repFamily</th>\n",
       "      <th>repClass</th>\n",
       "      <th>genoName</th>\n",
       "      <th>genoStart</th>\n",
       "      <th>genoEnd</th>\n",
       "      <th>strand</th>\n",
       "      <th>df_index_repName</th>\n",
       "    </tr>\n",
       "  </thead>\n",
       "  <tbody>\n",
       "    <tr>\n",
       "      <th>0</th>\n",
       "      <td>chr13|73480020|73480091|PB1D9:Alu:SINE|268|-,.</td>\n",
       "      <td>9.000885</td>\n",
       "      <td>-0.489762</td>\n",
       "      <td>0.629289</td>\n",
       "      <td>-0.778278</td>\n",
       "      <td>0.800222</td>\n",
       "      <td>1.0</td>\n",
       "      <td>TE</td>\n",
       "      <td>PB1D9:Alu:SINE</td>\n",
       "      <td>PB1D9:Alu:SINE_268</td>\n",
       "      <td>PB1D9</td>\n",
       "      <td>Alu</td>\n",
       "      <td>SINE</td>\n",
       "      <td>chr13</td>\n",
       "      <td>73480020</td>\n",
       "      <td>73480091</td>\n",
       "      <td>-</td>\n",
       "      <td>0_PB1D9</td>\n",
       "    </tr>\n",
       "    <tr>\n",
       "      <th>1</th>\n",
       "      <td>chr5|117467874|117468005|RSINE1:B4:SINE|183|-,.</td>\n",
       "      <td>0.730917</td>\n",
       "      <td>-2.916743</td>\n",
       "      <td>3.081604</td>\n",
       "      <td>-0.946502</td>\n",
       "      <td>0.368835</td>\n",
       "      <td>1.0</td>\n",
       "      <td>TE</td>\n",
       "      <td>RSINE1:B4:SINE</td>\n",
       "      <td>RSINE1:B4:SINE_183</td>\n",
       "      <td>RSINE1</td>\n",
       "      <td>B4</td>\n",
       "      <td>SINE</td>\n",
       "      <td>chr5</td>\n",
       "      <td>117467874</td>\n",
       "      <td>117468005</td>\n",
       "      <td>-</td>\n",
       "      <td>1_RSINE1</td>\n",
       "    </tr>\n",
       "    <tr>\n",
       "      <th>2</th>\n",
       "      <td>chr3|96619212|96619284|ID4:ID:SINE|194|+,.</td>\n",
       "      <td>5.772588</td>\n",
       "      <td>0.121464</td>\n",
       "      <td>0.852163</td>\n",
       "      <td>0.142536</td>\n",
       "      <td>0.942801</td>\n",
       "      <td>1.0</td>\n",
       "      <td>TE</td>\n",
       "      <td>ID4:ID:SINE</td>\n",
       "      <td>ID4:ID:SINE_194</td>\n",
       "      <td>ID4</td>\n",
       "      <td>ID</td>\n",
       "      <td>SINE</td>\n",
       "      <td>chr3</td>\n",
       "      <td>96619212</td>\n",
       "      <td>96619284</td>\n",
       "      <td>+</td>\n",
       "      <td>2_ID4</td>\n",
       "    </tr>\n",
       "    <tr>\n",
       "      <th>3</th>\n",
       "      <td>chr15|93388865|93388965|PB1:Alu:SINE|227|-,.</td>\n",
       "      <td>32.028966</td>\n",
       "      <td>-0.216654</td>\n",
       "      <td>0.390147</td>\n",
       "      <td>-0.555314</td>\n",
       "      <td>0.978578</td>\n",
       "      <td>1.0</td>\n",
       "      <td>TE</td>\n",
       "      <td>PB1:Alu:SINE</td>\n",
       "      <td>PB1:Alu:SINE_227</td>\n",
       "      <td>PB1</td>\n",
       "      <td>Alu</td>\n",
       "      <td>SINE</td>\n",
       "      <td>chr15</td>\n",
       "      <td>93388865</td>\n",
       "      <td>93388965</td>\n",
       "      <td>-</td>\n",
       "      <td>3_PB1</td>\n",
       "    </tr>\n",
       "    <tr>\n",
       "      <th>4</th>\n",
       "      <td>chr11|94175967|94176153|B2_Mm2:B2:SINE|98|-,.</td>\n",
       "      <td>7.127690</td>\n",
       "      <td>0.305487</td>\n",
       "      <td>0.591882</td>\n",
       "      <td>0.516129</td>\n",
       "      <td>0.893386</td>\n",
       "      <td>1.0</td>\n",
       "      <td>TE</td>\n",
       "      <td>B2_Mm2:B2:SINE</td>\n",
       "      <td>B2_Mm2:B2:SINE_98</td>\n",
       "      <td>B2_Mm2</td>\n",
       "      <td>B2</td>\n",
       "      <td>SINE</td>\n",
       "      <td>chr11</td>\n",
       "      <td>94175967</td>\n",
       "      <td>94176153</td>\n",
       "      <td>-</td>\n",
       "      <td>4_B2_Mm2</td>\n",
       "    </tr>\n",
       "  </tbody>\n",
       "</table>\n",
       "</div>"
      ],
      "text/plain": [
       "                                             TE_ID   baseMean  log2FoldChange   \n",
       "0   chr13|73480020|73480091|PB1D9:Alu:SINE|268|-,.   9.000885       -0.489762  \\\n",
       "1  chr5|117467874|117468005|RSINE1:B4:SINE|183|-,.   0.730917       -2.916743   \n",
       "2       chr3|96619212|96619284|ID4:ID:SINE|194|+,.   5.772588        0.121464   \n",
       "3     chr15|93388865|93388965|PB1:Alu:SINE|227|-,.  32.028966       -0.216654   \n",
       "4    chr11|94175967|94176153|B2_Mm2:B2:SINE|98|-,.   7.127690        0.305487   \n",
       "\n",
       "      lfcSE      stat    pvalue  padj element_type         TE_name   \n",
       "0  0.629289 -0.778278  0.800222   1.0           TE  PB1D9:Alu:SINE  \\\n",
       "1  3.081604 -0.946502  0.368835   1.0           TE  RSINE1:B4:SINE   \n",
       "2  0.852163  0.142536  0.942801   1.0           TE     ID4:ID:SINE   \n",
       "3  0.390147 -0.555314  0.978578   1.0           TE    PB1:Alu:SINE   \n",
       "4  0.591882  0.516129  0.893386   1.0           TE  B2_Mm2:B2:SINE   \n",
       "\n",
       "             TE_index repName repFamily repClass genoName  genoStart   \n",
       "0  PB1D9:Alu:SINE_268   PB1D9       Alu     SINE    chr13   73480020  \\\n",
       "1  RSINE1:B4:SINE_183  RSINE1        B4     SINE     chr5  117467874   \n",
       "2     ID4:ID:SINE_194     ID4        ID     SINE     chr3   96619212   \n",
       "3    PB1:Alu:SINE_227     PB1       Alu     SINE    chr15   93388865   \n",
       "4   B2_Mm2:B2:SINE_98  B2_Mm2        B2     SINE    chr11   94175967   \n",
       "\n",
       "     genoEnd strand df_index_repName  \n",
       "0   73480091      -          0_PB1D9  \n",
       "1  117468005      -         1_RSINE1  \n",
       "2   96619284      +            2_ID4  \n",
       "3   93388965      -            3_PB1  \n",
       "4   94176153      -         4_B2_Mm2  "
      ]
     },
     "execution_count": 33,
     "metadata": {},
     "output_type": "execute_result"
    }
   ],
   "source": [
    "squire_indiv.head()"
   ]
  },
  {
   "cell_type": "code",
   "execution_count": 37,
   "id": "9cdb0060-c6a2-496e-80cd-694a9058fa58",
   "metadata": {},
   "outputs": [
    {
     "name": "stdout",
     "output_type": "stream",
     "text": [
      "✅ Extracted sequences saved to: sequence_similarity_input/rand10_1.fasta\n",
      "✅ Extracted sequences saved to: sequence_similarity_input/rand10_2.fasta\n",
      "✅ Extracted sequences saved to: sequence_similarity_input/rand10_3.fasta\n",
      "✅ Extracted sequences saved to: sequence_similarity_input/rand20_1.fasta\n",
      "✅ Extracted sequences saved to: sequence_similarity_input/rand20_2.fasta\n",
      "✅ Extracted sequences saved to: sequence_similarity_input/rand20_3.fasta\n",
      "✅ Extracted sequences saved to: sequence_similarity_input/rand33_1.fasta\n",
      "✅ Extracted sequences saved to: sequence_similarity_input/rand33_2.fasta\n",
      "✅ Extracted sequences saved to: sequence_similarity_input/rand33_3.fasta\n",
      "✅ Extracted sequences saved to: sequence_similarity_input/rand50_1.fasta\n",
      "✅ Extracted sequences saved to: sequence_similarity_input/rand50_2.fasta\n",
      "✅ Extracted sequences saved to: sequence_similarity_input/rand50_3.fasta\n"
     ]
    }
   ],
   "source": [
    "# save fasta\n",
    "for i, num_s in enumerate( num_selection ):\n",
    "\n",
    "    squire_subset = squire_indiv[[ 'genoName', 'genoStart', 'genoEnd', 'strand', 'df_index_repName'] ] \n",
    "    rand_df1 = squire_subset.sample( n = num_s, random_state= rand_state[i] )\n",
    "    rand_df2 = squire_subset.sample( n = num_s, random_state= rand_state[i]*2 )\n",
    "    rand_df3 = squire_subset.sample( n = num_s, random_state= rand_state[i]*3 )\n",
    "\n",
    "    save_name = [ f\"rand{num_s}_{rep}.fasta\" for rep in [1,2,3 ] ]\n",
    "    rand_df_ls = [rand_df1, rand_df2, rand_df3 ] \n",
    "\n",
    "    for j in range(len(save_name)):\n",
    "        #print( \"sequence_similarity_input/\" + save_name[j] )\n",
    "        seqComp.extract_ucsc_bedlike_regions( \n",
    "            genome_fasta= mm39_ref_path,     \n",
    "            regions_df= rand_df_ls[j],      \n",
    "            output_fasta= \"sequence_similarity_input/\" + save_name[j]\n",
    "        )\n",
    "        \n",
    "\n",
    "    "
   ]
  },
  {
   "cell_type": "code",
   "execution_count": 40,
   "id": "940cf789-f2d4-474d-b637-1285e4c58557",
   "metadata": {},
   "outputs": [
    {
     "data": {
      "text/plain": [
       "1     rand10_2.fasta\n",
       "3     rand20_1.fasta\n",
       "5     rand20_2.fasta\n",
       "6     rand33_1.fasta\n",
       "7     rand33_2.fasta\n",
       "8     rand50_2.fasta\n",
       "10    rand50_3.fasta\n",
       "11    rand50_1.fasta\n",
       "15    rand10_1.fasta\n",
       "17    rand33_3.fasta\n",
       "18    rand10_3.fasta\n",
       "19    rand20_3.fasta\n",
       "dtype: object"
      ]
     },
     "execution_count": 40,
     "metadata": {},
     "output_type": "execute_result"
    }
   ],
   "source": [
    "rand_fnames = pd.Series( os.listdir(\"./sequence_similarity_input\") )\n",
    "rand_fnames= rand_fnames[rand_fnames.str.startswith('rand') ]\n",
    "rand_fnames"
   ]
  },
  {
   "cell_type": "code",
   "execution_count": 41,
   "id": "2f680dfe-e2cb-4ef5-b13a-e8c21460f123",
   "metadata": {
    "collapsed": true,
    "jupyter": {
     "outputs_hidden": true
    }
   },
   "outputs": [
    {
     "name": "stdout",
     "output_type": "stream",
     "text": [
      "Starting file rand10_2.fasta\n",
      "Loaded 10 sequences from ./sequence_similarity_input/rand10_2.fasta\n",
      "Average identity: 33.86% ± 19.78%\n",
      "File rand10_2.fasta time used: 0.0 min\n",
      "\n",
      "Starting file rand20_1.fasta\n",
      "Loaded 20 sequences from ./sequence_similarity_input/rand20_1.fasta\n",
      "Average identity: 39.61% ± 17.91%\n",
      "File rand20_1.fasta time used: 0.0 min\n",
      "\n",
      "Starting file rand20_2.fasta\n",
      "Loaded 20 sequences from ./sequence_similarity_input/rand20_2.fasta\n",
      "Average identity: 34.87% ± 20.68%\n",
      "File rand20_2.fasta time used: 0.1 min\n",
      "\n",
      "Starting file rand33_1.fasta\n",
      "Loaded 33 sequences from ./sequence_similarity_input/rand33_1.fasta\n",
      "Average identity: 39.72% ± 15.24%\n",
      "File rand33_1.fasta time used: 0.0 min\n",
      "\n",
      "Starting file rand33_2.fasta\n",
      "Loaded 33 sequences from ./sequence_similarity_input/rand33_2.fasta\n",
      "Average identity: 36.28% ± 17.40%\n",
      "File rand33_2.fasta time used: 0.1 min\n",
      "\n",
      "Starting file rand50_2.fasta\n",
      "Loaded 50 sequences from ./sequence_similarity_input/rand50_2.fasta\n",
      "Average identity: 38.69% ± 17.97%\n",
      "File rand50_2.fasta time used: 0.1 min\n",
      "\n",
      "Starting file rand50_3.fasta\n",
      "Loaded 50 sequences from ./sequence_similarity_input/rand50_3.fasta\n",
      "Average identity: 38.68% ± 18.69%\n",
      "File rand50_3.fasta time used: 0.1 min\n",
      "\n",
      "Starting file rand50_1.fasta\n",
      "Loaded 50 sequences from ./sequence_similarity_input/rand50_1.fasta\n",
      "Average identity: 37.75% ± 17.93%\n",
      "File rand50_1.fasta time used: 0.2 min\n",
      "\n",
      "Starting file rand10_1.fasta\n",
      "Loaded 10 sequences from ./sequence_similarity_input/rand10_1.fasta\n",
      "Average identity: 41.57% ± 18.90%\n",
      "File rand10_1.fasta time used: 0.0 min\n",
      "\n",
      "Starting file rand33_3.fasta\n",
      "Loaded 33 sequences from ./sequence_similarity_input/rand33_3.fasta\n",
      "Average identity: 37.97% ± 18.98%\n",
      "File rand33_3.fasta time used: 0.1 min\n",
      "\n",
      "Starting file rand10_3.fasta\n",
      "Loaded 10 sequences from ./sequence_similarity_input/rand10_3.fasta\n",
      "Average identity: 52.90% ± 15.16%\n",
      "File rand10_3.fasta time used: 0.0 min\n",
      "\n",
      "Starting file rand20_3.fasta\n",
      "Loaded 20 sequences from ./sequence_similarity_input/rand20_3.fasta\n",
      "Average identity: 40.55% ± 16.92%\n",
      "File rand20_3.fasta time used: 0.0 min\n",
      "\n"
     ]
    }
   ],
   "source": [
    "for f in rand_fnames:\n",
    "    print(f\"Starting file {f}\")\n",
    "    \n",
    "    TIME_S = time.time()\n",
    "    \n",
    "    seqComp.process_group(input_path + f, out_dir= save_path, n_jobs=4,plot_heatmap=True )\n",
    "    TIME_E = time.time()\n",
    "    \n",
    "    TOTAL_TIME = (TIME_E - TIME_S)/60\n",
    "    print( f\"File {f} time used: {TOTAL_TIME:.1f} min\\n\" )"
   ]
  },
  {
   "cell_type": "code",
   "execution_count": null,
   "id": "b55d9e2b-d1ec-4b3f-8829-3d4bce7be6f4",
   "metadata": {},
   "outputs": [],
   "source": []
  }
 ],
 "metadata": {
  "kernelspec": {
   "display_name": "qc_pipe",
   "language": "python",
   "name": "qc_pipe"
  },
  "language_info": {
   "codemirror_mode": {
    "name": "ipython",
    "version": 3
   },
   "file_extension": ".py",
   "mimetype": "text/x-python",
   "name": "python",
   "nbconvert_exporter": "python",
   "pygments_lexer": "ipython3",
   "version": "3.8.5"
  }
 },
 "nbformat": 4,
 "nbformat_minor": 5
}
