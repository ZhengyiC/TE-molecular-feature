{
 "cells": [
  {
   "cell_type": "markdown",
   "id": "7b6fe1b0-3bf5-4b8e-a9dc-1e3da877e94c",
   "metadata": {},
   "source": [
    "# This notebook plot the similarity scores as barplots for the TCPS dataset SER vs AD dTE"
   ]
  },
  {
   "cell_type": "code",
   "execution_count": null,
   "id": "bf906940-c7ad-4abc-bb99-62f8d0c82ae5",
   "metadata": {},
   "outputs": [],
   "source": []
  },
  {
   "cell_type": "code",
   "execution_count": 1,
   "id": "74ec548d-783c-4e81-bf35-7973148c40b1",
   "metadata": {},
   "outputs": [],
   "source": [
    "import pandas as pd\n",
    "import numpy as np\n",
    "import seaborn as sn\n",
    "import matplotlib.pyplot as plt\n",
    "import os"
   ]
  },
  {
   "cell_type": "code",
   "execution_count": 2,
   "id": "5a676203-a4de-453e-a03e-73f0284a9cdc",
   "metadata": {},
   "outputs": [],
   "source": [
    "from matplotlib.patches import Patch"
   ]
  },
  {
   "cell_type": "code",
   "execution_count": 3,
   "id": "2c3460f6-0a69-4889-827e-3edda109ca8c",
   "metadata": {},
   "outputs": [
    {
     "name": "stderr",
     "output_type": "stream",
     "text": [
      "/home/lucy/anaconda3/envs/qc_pipe/lib/python3.8/site-packages/Bio/pairwise2.py:278: BiopythonDeprecationWarning: Bio.pairwise2 has been deprecated, and we intend to remove it in a future release of Biopython. As an alternative, please consider using Bio.Align.PairwiseAligner as a replacement, and contact the Biopython developers if you still need the Bio.pairwise2 module.\n",
      "  warnings.warn(\n"
     ]
    }
   ],
   "source": [
    "import sequence_comparison as seqComp"
   ]
  },
  {
   "cell_type": "code",
   "execution_count": null,
   "id": "34135cfb-b6c1-4582-9bbf-8fb08015fc43",
   "metadata": {},
   "outputs": [],
   "source": []
  },
  {
   "cell_type": "code",
   "execution_count": null,
   "id": "bb6da9d5-6a8a-40ce-8e9c-cc1c26b51be7",
   "metadata": {},
   "outputs": [],
   "source": []
  },
  {
   "cell_type": "code",
   "execution_count": null,
   "id": "6fbc64f9-4cf2-40e5-ab6e-cf0bc473f77e",
   "metadata": {},
   "outputs": [],
   "source": []
  },
  {
   "cell_type": "markdown",
   "id": "258c1d32-3f27-4cd5-a6cc-c7586b4765a1",
   "metadata": {},
   "source": [
    "## load data and make sumamry report"
   ]
  },
  {
   "cell_type": "code",
   "execution_count": 5,
   "id": "89c9d511-58bd-4c33-87a3-beddfe919a90",
   "metadata": {},
   "outputs": [],
   "source": [
    "tcps_files =pd.Series( os.listdir(\"./sequence_similarity_results/\") )\n",
    "tcps_files = tcps_files[tcps_files.str.startswith(\"tcps\") & tcps_files.str.endswith( 'identity.csv')  ]"
   ]
  },
  {
   "cell_type": "code",
   "execution_count": 6,
   "id": "1e89590c-2705-4acb-87a3-24c0cdefcfef",
   "metadata": {},
   "outputs": [
    {
     "data": {
      "text/plain": [
       "0      tcps_ser_up_top50_pairwise_identity.csv\n",
       "3      tcps_ser_up_top20_pairwise_identity.csv\n",
       "13        tcps_ad_up_all_pairwise_identity.csv\n",
       "20    tcps_ser_up_last50_pairwise_identity.csv\n",
       "22     tcps_ser_up_top10_pairwise_identity.csv\n",
       "dtype: object"
      ]
     },
     "execution_count": 6,
     "metadata": {},
     "output_type": "execute_result"
    }
   ],
   "source": [
    "tcps_files"
   ]
  },
  {
   "cell_type": "code",
   "execution_count": 14,
   "id": "b0f60f6c-7080-45de-8693-d6284fef3b25",
   "metadata": {},
   "outputs": [],
   "source": [
    "num_elements = [50,20,9, 50, 10 ]"
   ]
  },
  {
   "cell_type": "code",
   "execution_count": 7,
   "id": "a257db88-0444-460b-9d64-d7f35a7f046b",
   "metadata": {},
   "outputs": [
    {
     "data": {
      "text/plain": [
       "['tcps', 'ser', 'up', 'top50', 'pairwise', 'identity.csv']"
      ]
     },
     "execution_count": 7,
     "metadata": {},
     "output_type": "execute_result"
    }
   ],
   "source": [
    "\"tcps_ser_up_top50_pairwise_identity.csv\".split(\"_\")"
   ]
  },
  {
   "cell_type": "code",
   "execution_count": 18,
   "id": "d9197bba-8104-479b-8253-c552fab15095",
   "metadata": {},
   "outputs": [],
   "source": [
    "summary_df = pd.DataFrame(index = ['avg_pctIdentity', 'std_pctIdentity', 'num_element'])\n",
    "df_ls = []\n",
    "\n",
    "for i,tf in enumerate( tcps_files):\n",
    "    # get data meta information\n",
    "    f_info = tf.split(\"_\")[1:4] \n",
    "    f_id = \"_\".join( f_info)\n",
    "    num = num_elements[i]\n",
    "    \n",
    "    # load df\n",
    "    df = pd.read_csv(\"./sequence_similarity_results/\" + tf, header = 0, index_col = None )\n",
    "    \n",
    "    #get avg and std score\n",
    "    avg_score = df['PercentIdentity'].mean()\n",
    "    std_score = df['PercentIdentity'].std()\n",
    "\n",
    "    # add result to the result df\n",
    "    summary_df[ f_id ] = [ avg_score, std_score, num ]\n",
    "    df_ls.append( df )\n",
    "    \n",
    "    \n",
    "    "
   ]
  },
  {
   "cell_type": "code",
   "execution_count": 19,
   "id": "e340b8c9-53be-49df-a0cb-77674c0cf877",
   "metadata": {},
   "outputs": [],
   "source": [
    "#df_ls[0]"
   ]
  },
  {
   "cell_type": "code",
   "execution_count": 20,
   "id": "2cb7abc0-223a-43d2-9813-03973dd8b7da",
   "metadata": {},
   "outputs": [
    {
     "data": {
      "text/html": [
       "<div>\n",
       "<style scoped>\n",
       "    .dataframe tbody tr th:only-of-type {\n",
       "        vertical-align: middle;\n",
       "    }\n",
       "\n",
       "    .dataframe tbody tr th {\n",
       "        vertical-align: top;\n",
       "    }\n",
       "\n",
       "    .dataframe thead th {\n",
       "        text-align: right;\n",
       "    }\n",
       "</style>\n",
       "<table border=\"1\" class=\"dataframe\">\n",
       "  <thead>\n",
       "    <tr style=\"text-align: right;\">\n",
       "      <th></th>\n",
       "      <th>ser_up_top50</th>\n",
       "      <th>ser_up_top20</th>\n",
       "      <th>ad_up_all</th>\n",
       "      <th>ser_up_last50</th>\n",
       "      <th>ser_up_top10</th>\n",
       "    </tr>\n",
       "  </thead>\n",
       "  <tbody>\n",
       "    <tr>\n",
       "      <th>avg_pctIdentity</th>\n",
       "      <td>41.474347</td>\n",
       "      <td>45.151830</td>\n",
       "      <td>37.398733</td>\n",
       "      <td>34.316269</td>\n",
       "      <td>37.022470</td>\n",
       "    </tr>\n",
       "    <tr>\n",
       "      <th>std_pctIdentity</th>\n",
       "      <td>16.967143</td>\n",
       "      <td>19.354933</td>\n",
       "      <td>14.883727</td>\n",
       "      <td>18.567237</td>\n",
       "      <td>17.734659</td>\n",
       "    </tr>\n",
       "    <tr>\n",
       "      <th>num_element</th>\n",
       "      <td>50.000000</td>\n",
       "      <td>20.000000</td>\n",
       "      <td>9.000000</td>\n",
       "      <td>50.000000</td>\n",
       "      <td>10.000000</td>\n",
       "    </tr>\n",
       "  </tbody>\n",
       "</table>\n",
       "</div>"
      ],
      "text/plain": [
       "                 ser_up_top50  ser_up_top20  ad_up_all  ser_up_last50   \n",
       "avg_pctIdentity     41.474347     45.151830  37.398733      34.316269  \\\n",
       "std_pctIdentity     16.967143     19.354933  14.883727      18.567237   \n",
       "num_element         50.000000     20.000000   9.000000      50.000000   \n",
       "\n",
       "                 ser_up_top10  \n",
       "avg_pctIdentity     37.022470  \n",
       "std_pctIdentity     17.734659  \n",
       "num_element         10.000000  "
      ]
     },
     "execution_count": 20,
     "metadata": {},
     "output_type": "execute_result"
    }
   ],
   "source": [
    "summary_df"
   ]
  },
  {
   "cell_type": "code",
   "execution_count": 21,
   "id": "37954caf-da8d-429b-b03d-e32f63068524",
   "metadata": {},
   "outputs": [],
   "source": [
    "summary_df.loc['condition'] = ['SER_UP' , 'SER_UP' , 'AD_UP' , 'SER_UP', 'SER_UP']"
   ]
  },
  {
   "cell_type": "code",
   "execution_count": 22,
   "id": "fa3bbcc8-36e4-44a8-aeb6-0fbb683988fb",
   "metadata": {},
   "outputs": [],
   "source": [
    "summary_df = summary_df.T"
   ]
  },
  {
   "cell_type": "code",
   "execution_count": 23,
   "id": "99209d44-3d61-4ba2-9b3f-bc5a1ae8d571",
   "metadata": {},
   "outputs": [
    {
     "data": {
      "text/html": [
       "<div>\n",
       "<style scoped>\n",
       "    .dataframe tbody tr th:only-of-type {\n",
       "        vertical-align: middle;\n",
       "    }\n",
       "\n",
       "    .dataframe tbody tr th {\n",
       "        vertical-align: top;\n",
       "    }\n",
       "\n",
       "    .dataframe thead th {\n",
       "        text-align: right;\n",
       "    }\n",
       "</style>\n",
       "<table border=\"1\" class=\"dataframe\">\n",
       "  <thead>\n",
       "    <tr style=\"text-align: right;\">\n",
       "      <th></th>\n",
       "      <th>avg_pctIdentity</th>\n",
       "      <th>std_pctIdentity</th>\n",
       "      <th>num_element</th>\n",
       "      <th>condition</th>\n",
       "    </tr>\n",
       "  </thead>\n",
       "  <tbody>\n",
       "    <tr>\n",
       "      <th>ser_up_top50</th>\n",
       "      <td>41.474347</td>\n",
       "      <td>16.967143</td>\n",
       "      <td>50.0</td>\n",
       "      <td>SER_UP</td>\n",
       "    </tr>\n",
       "    <tr>\n",
       "      <th>ser_up_top20</th>\n",
       "      <td>45.15183</td>\n",
       "      <td>19.354933</td>\n",
       "      <td>20.0</td>\n",
       "      <td>SER_UP</td>\n",
       "    </tr>\n",
       "    <tr>\n",
       "      <th>ad_up_all</th>\n",
       "      <td>37.398733</td>\n",
       "      <td>14.883727</td>\n",
       "      <td>9.0</td>\n",
       "      <td>AD_UP</td>\n",
       "    </tr>\n",
       "    <tr>\n",
       "      <th>ser_up_last50</th>\n",
       "      <td>34.316269</td>\n",
       "      <td>18.567237</td>\n",
       "      <td>50.0</td>\n",
       "      <td>SER_UP</td>\n",
       "    </tr>\n",
       "    <tr>\n",
       "      <th>ser_up_top10</th>\n",
       "      <td>37.02247</td>\n",
       "      <td>17.734659</td>\n",
       "      <td>10.0</td>\n",
       "      <td>SER_UP</td>\n",
       "    </tr>\n",
       "  </tbody>\n",
       "</table>\n",
       "</div>"
      ],
      "text/plain": [
       "              avg_pctIdentity std_pctIdentity num_element condition\n",
       "ser_up_top50        41.474347       16.967143        50.0    SER_UP\n",
       "ser_up_top20         45.15183       19.354933        20.0    SER_UP\n",
       "ad_up_all           37.398733       14.883727         9.0     AD_UP\n",
       "ser_up_last50       34.316269       18.567237        50.0    SER_UP\n",
       "ser_up_top10         37.02247       17.734659        10.0    SER_UP"
      ]
     },
     "execution_count": 23,
     "metadata": {},
     "output_type": "execute_result"
    }
   ],
   "source": [
    "summary_df"
   ]
  },
  {
   "cell_type": "code",
   "execution_count": null,
   "id": "4db5801c-c21f-4fad-b0e0-42523e51c012",
   "metadata": {},
   "outputs": [],
   "source": []
  },
  {
   "cell_type": "markdown",
   "id": "db31658c-728a-4de4-a596-05edec3145b3",
   "metadata": {},
   "source": [
    "## Visualize summary for AD and SER samples"
   ]
  },
  {
   "cell_type": "code",
   "execution_count": 27,
   "id": "35d07444-e790-43c3-918b-2795993cdfd8",
   "metadata": {},
   "outputs": [
    {
     "data": {
      "text/plain": [
       "Index(['ad_up_all', 'ser_up_top10', 'ser_up_top20', 'ser_up_top50',\n",
       "       'ser_up_last50'],\n",
       "      dtype='object')"
      ]
     },
     "execution_count": 27,
     "metadata": {},
     "output_type": "execute_result"
    }
   ],
   "source": [
    "summary_df.sort_values( by = 'num_element', ascending= True, inplace= True )\n",
    "summary_df.index"
   ]
  },
  {
   "cell_type": "code",
   "execution_count": 29,
   "id": "b2de416b-28d7-4f08-8f4c-343980702404",
   "metadata": {},
   "outputs": [],
   "source": [
    "summary_df = summary_df.loc[ ['ser_up_top10', 'ser_up_top20', 'ser_up_top50', 'ser_up_last50','ad_up_all']]"
   ]
  },
  {
   "cell_type": "code",
   "execution_count": 30,
   "id": "c693ca88-c74d-46a8-a8db-afe279eadf94",
   "metadata": {},
   "outputs": [
    {
     "data": {
      "image/png": "[encoded data removed]",
      "text/plain": [
       "<Figure size 800x600 with 1 Axes>"
      ]
     },
     "metadata": {},
     "output_type": "display_data"
    }
   ],
   "source": [
    "condition_colors = {\n",
    "    #'control': 'gray',\n",
    "    'SER_UP': 'salmon',\n",
    "    'AD_UP':'cornflowerblue'\n",
    "}\n",
    "\n",
    "bar_colors = [condition_colors[cond] for cond in summary_df['condition'] ]\n",
    "\n",
    "plt.figure(figsize=(8, 6))\n",
    "\n",
    "\n",
    "plt.bar(summary_df.index, summary_df['avg_pctIdentity'] , yerr=summary_df['std_pctIdentity'], capsize=5, color=bar_colors, edgecolor='black')\n",
    "\n",
    "plt.xticks(rotation=45, ha='right') \n",
    "\n",
    "legend_elements = [Patch(facecolor=color, label=cond) for cond, color in condition_colors.items()]\n",
    "plt.legend(handles=legend_elements, title='dTE Groups ')\n",
    "\n",
    "plt.ylabel('Average Similarity Score')\n",
    "plt.title('Sequence Similarity across differential TE groups')\n",
    "plt.grid(axis='y', linestyle='--', alpha=0.7)\n",
    "\n",
    "# Show plot\n",
    "plt.tight_layout()\n",
    "plt.show()\n"
   ]
  },
  {
   "cell_type": "code",
   "execution_count": 50,
   "id": "bed45f96-f973-483c-a2b0-a62ff0290b4c",
   "metadata": {},
   "outputs": [
    {
     "data": {
      "text/html": [
       "<div>\n",
       "<style scoped>\n",
       "    .dataframe tbody tr th:only-of-type {\n",
       "        vertical-align: middle;\n",
       "    }\n",
       "\n",
       "    .dataframe tbody tr th {\n",
       "        vertical-align: top;\n",
       "    }\n",
       "\n",
       "    .dataframe thead th {\n",
       "        text-align: right;\n",
       "    }\n",
       "</style>\n",
       "<table border=\"1\" class=\"dataframe\">\n",
       "  <thead>\n",
       "    <tr style=\"text-align: right;\">\n",
       "      <th></th>\n",
       "      <th>avg_pctIdentity</th>\n",
       "      <th>std_pctIdentity</th>\n",
       "      <th>num_element</th>\n",
       "      <th>condition</th>\n",
       "    </tr>\n",
       "  </thead>\n",
       "  <tbody>\n",
       "    <tr>\n",
       "      <th>ser_up_top10</th>\n",
       "      <td>37.02247</td>\n",
       "      <td>17.734659</td>\n",
       "      <td>10.0</td>\n",
       "      <td>SER_UP</td>\n",
       "    </tr>\n",
       "    <tr>\n",
       "      <th>ser_up_top20</th>\n",
       "      <td>45.15183</td>\n",
       "      <td>19.354933</td>\n",
       "      <td>20.0</td>\n",
       "      <td>SER_UP</td>\n",
       "    </tr>\n",
       "    <tr>\n",
       "      <th>ser_up_top50</th>\n",
       "      <td>41.474347</td>\n",
       "      <td>16.967143</td>\n",
       "      <td>50.0</td>\n",
       "      <td>SER_UP</td>\n",
       "    </tr>\n",
       "    <tr>\n",
       "      <th>ser_up_last50</th>\n",
       "      <td>34.316269</td>\n",
       "      <td>18.567237</td>\n",
       "      <td>50.0</td>\n",
       "      <td>SER_UP</td>\n",
       "    </tr>\n",
       "    <tr>\n",
       "      <th>ad_up_all</th>\n",
       "      <td>37.398733</td>\n",
       "      <td>14.883727</td>\n",
       "      <td>9.0</td>\n",
       "      <td>AD_UP</td>\n",
       "    </tr>\n",
       "  </tbody>\n",
       "</table>\n",
       "</div>"
      ],
      "text/plain": [
       "              avg_pctIdentity std_pctIdentity num_element condition\n",
       "ser_up_top10         37.02247       17.734659        10.0    SER_UP\n",
       "ser_up_top20         45.15183       19.354933        20.0    SER_UP\n",
       "ser_up_top50        41.474347       16.967143        50.0    SER_UP\n",
       "ser_up_last50       34.316269       18.567237        50.0    SER_UP\n",
       "ad_up_all           37.398733       14.883727         9.0     AD_UP"
      ]
     },
     "execution_count": 50,
     "metadata": {},
     "output_type": "execute_result"
    }
   ],
   "source": [
    "summary_df"
   ]
  },
  {
   "cell_type": "code",
   "execution_count": null,
   "id": "9c149453-220d-4c4a-b02e-e0ecdc2117ef",
   "metadata": {},
   "outputs": [],
   "source": []
  },
  {
   "cell_type": "markdown",
   "id": "3f8bacd6-af68-4d77-a2d7-bbaad045b032",
   "metadata": {},
   "source": [
    "## make randomly selected samples as control to compare the scores\n",
    "- rand10x3, rand20x3, rand50 x3"
   ]
  },
  {
   "cell_type": "markdown",
   "id": "dc8c4568-00e9-4936-9c2e-47f5cba739c8",
   "metadata": {},
   "source": [
    "### make fasta "
   ]
  },
  {
   "cell_type": "code",
   "execution_count": 34,
   "id": "60fc3e1a-6244-4e78-814d-8db9268040ce",
   "metadata": {},
   "outputs": [
    {
     "data": {
      "text/html": [
       "<div>\n",
       "<style scoped>\n",
       "    .dataframe tbody tr th:only-of-type {\n",
       "        vertical-align: middle;\n",
       "    }\n",
       "\n",
       "    .dataframe tbody tr th {\n",
       "        vertical-align: top;\n",
       "    }\n",
       "\n",
       "    .dataframe thead th {\n",
       "        text-align: right;\n",
       "    }\n",
       "</style>\n",
       "<table border=\"1\" class=\"dataframe\">\n",
       "  <thead>\n",
       "    <tr style=\"text-align: right;\">\n",
       "      <th></th>\n",
       "      <th>TE name</th>\n",
       "      <th>baseMean</th>\n",
       "      <th>log2FoldChange</th>\n",
       "      <th>lfcSE</th>\n",
       "      <th>stat</th>\n",
       "      <th>pvalue</th>\n",
       "      <th>padj</th>\n",
       "      <th>genoName</th>\n",
       "      <th>genoStart</th>\n",
       "      <th>genoEnd</th>\n",
       "      <th>strand</th>\n",
       "      <th>seqLen</th>\n",
       "      <th>absolute_LFC</th>\n",
       "    </tr>\n",
       "  </thead>\n",
       "  <tbody>\n",
       "    <tr>\n",
       "      <th>36886</th>\n",
       "      <td>MIRc_22786</td>\n",
       "      <td>0.066390</td>\n",
       "      <td>1.682504</td>\n",
       "      <td>4.531276</td>\n",
       "      <td>0.371309</td>\n",
       "      <td>0.710407</td>\n",
       "      <td>0.999991</td>\n",
       "      <td>chr3</td>\n",
       "      <td>131001128</td>\n",
       "      <td>131001156</td>\n",
       "      <td>+</td>\n",
       "      <td>28</td>\n",
       "      <td>1.682504</td>\n",
       "    </tr>\n",
       "    <tr>\n",
       "      <th>53559</th>\n",
       "      <td>L1ME1_10466</td>\n",
       "      <td>0.043117</td>\n",
       "      <td>0.617888</td>\n",
       "      <td>4.538229</td>\n",
       "      <td>0.136152</td>\n",
       "      <td>0.891701</td>\n",
       "      <td>0.999991</td>\n",
       "      <td>chr5</td>\n",
       "      <td>133979389</td>\n",
       "      <td>133979415</td>\n",
       "      <td>-</td>\n",
       "      <td>26</td>\n",
       "      <td>0.617888</td>\n",
       "    </tr>\n",
       "    <tr>\n",
       "      <th>131270</th>\n",
       "      <td>L1ME4a_28134</td>\n",
       "      <td>0.085216</td>\n",
       "      <td>0.737378</td>\n",
       "      <td>3.899024</td>\n",
       "      <td>0.189119</td>\n",
       "      <td>0.850000</td>\n",
       "      <td>0.999991</td>\n",
       "      <td>chr15</td>\n",
       "      <td>52291703</td>\n",
       "      <td>52291731</td>\n",
       "      <td>-</td>\n",
       "      <td>28</td>\n",
       "      <td>0.737378</td>\n",
       "    </tr>\n",
       "    <tr>\n",
       "      <th>46781</th>\n",
       "      <td>LTR6A_51</td>\n",
       "      <td>1.789616</td>\n",
       "      <td>0.056481</td>\n",
       "      <td>0.671609</td>\n",
       "      <td>0.084098</td>\n",
       "      <td>0.932979</td>\n",
       "      <td>0.999991</td>\n",
       "      <td>chr4</td>\n",
       "      <td>143425059</td>\n",
       "      <td>143425087</td>\n",
       "      <td>-</td>\n",
       "      <td>28</td>\n",
       "      <td>0.056481</td>\n",
       "    </tr>\n",
       "    <tr>\n",
       "      <th>100591</th>\n",
       "      <td>L2c_90080</td>\n",
       "      <td>2.784909</td>\n",
       "      <td>3.665215</td>\n",
       "      <td>1.451265</td>\n",
       "      <td>2.525531</td>\n",
       "      <td>0.011552</td>\n",
       "      <td>0.455554</td>\n",
       "      <td>chr10</td>\n",
       "      <td>104039148</td>\n",
       "      <td>104039173</td>\n",
       "      <td>+</td>\n",
       "      <td>25</td>\n",
       "      <td>3.665215</td>\n",
       "    </tr>\n",
       "  </tbody>\n",
       "</table>\n",
       "</div>"
      ],
      "text/plain": [
       "             TE name  baseMean  log2FoldChange     lfcSE      stat    pvalue   \n",
       "36886     MIRc_22786  0.066390        1.682504  4.531276  0.371309  0.710407  \\\n",
       "53559    L1ME1_10466  0.043117        0.617888  4.538229  0.136152  0.891701   \n",
       "131270  L1ME4a_28134  0.085216        0.737378  3.899024  0.189119  0.850000   \n",
       "46781       LTR6A_51  1.789616        0.056481  0.671609  0.084098  0.932979   \n",
       "100591     L2c_90080  2.784909        3.665215  1.451265  2.525531  0.011552   \n",
       "\n",
       "            padj genoName  genoStart    genoEnd strand  seqLen  absolute_LFC  \n",
       "36886   0.999991     chr3  131001128  131001156      +      28      1.682504  \n",
       "53559   0.999991     chr5  133979389  133979415      -      26      0.617888  \n",
       "131270  0.999991    chr15   52291703   52291731      -      28      0.737378  \n",
       "46781   0.999991     chr4  143425059  143425087      -      28      0.056481  \n",
       "100591  0.455554    chr10  104039148  104039173      +      25      3.665215  "
      ]
     },
     "execution_count": 34,
     "metadata": {},
     "output_type": "execute_result"
    }
   ],
   "source": [
    "resampled_df = pd.read_csv(\"./resampled_TCPS_all_TE_indi.csv\", header = 0, index_col= 0 )\n",
    "resampled_df.head()"
   ]
  },
  {
   "cell_type": "code",
   "execution_count": 38,
   "id": "29c9f271-0e45-42e9-82b9-2fd9cfdbbe8e",
   "metadata": {},
   "outputs": [
    {
     "name": "stdout",
     "output_type": "stream",
     "text": [
      "rand10_1\n",
      "rand10_2\n",
      "rand10_3\n",
      "rand20_1\n",
      "rand20_2\n",
      "rand20_3\n",
      "rand50_1\n",
      "rand50_2\n",
      "rand50_3\n"
     ]
    }
   ],
   "source": [
    "rand_df_ls = []\n",
    "rand_df_names = [] # rand{n_element}_{rep}\n",
    "\n",
    "n_elements = [ 10, 20, 50 ]\n",
    "nreps = 3\n",
    "\n",
    "for ele in n_elements:\n",
    "    for rep in range(nreps):\n",
    "        subdf = resampled_df.sample( n = ele, random_state= 250+rep ) #my number when I do research @_@\n",
    "        rand_name = f\"rand{ele}_{rep+1}\"\n",
    "        print( rand_name )\n",
    "\n",
    "        rand_df_ls.append( subdf )\n",
    "        rand_df_names.append( rand_name )\n"
   ]
  },
  {
   "cell_type": "code",
   "execution_count": 40,
   "id": "aa99e56f-d607-4545-9bc6-d46aba0596d4",
   "metadata": {
    "collapsed": true,
    "jupyter": {
     "outputs_hidden": true
    }
   },
   "outputs": [
    {
     "data": {
      "text/html": [
       "<div>\n",
       "<style scoped>\n",
       "    .dataframe tbody tr th:only-of-type {\n",
       "        vertical-align: middle;\n",
       "    }\n",
       "\n",
       "    .dataframe tbody tr th {\n",
       "        vertical-align: top;\n",
       "    }\n",
       "\n",
       "    .dataframe thead th {\n",
       "        text-align: right;\n",
       "    }\n",
       "</style>\n",
       "<table border=\"1\" class=\"dataframe\">\n",
       "  <thead>\n",
       "    <tr style=\"text-align: right;\">\n",
       "      <th></th>\n",
       "      <th>TE name</th>\n",
       "      <th>baseMean</th>\n",
       "      <th>log2FoldChange</th>\n",
       "      <th>lfcSE</th>\n",
       "      <th>stat</th>\n",
       "      <th>pvalue</th>\n",
       "      <th>padj</th>\n",
       "      <th>genoName</th>\n",
       "      <th>genoStart</th>\n",
       "      <th>genoEnd</th>\n",
       "      <th>strand</th>\n",
       "      <th>seqLen</th>\n",
       "      <th>absolute_LFC</th>\n",
       "    </tr>\n",
       "  </thead>\n",
       "  <tbody>\n",
       "    <tr>\n",
       "      <th>13516</th>\n",
       "      <td>HAL1b_255</td>\n",
       "      <td>0.036374</td>\n",
       "      <td>0.505906</td>\n",
       "      <td>3.740935</td>\n",
       "      <td>0.135235</td>\n",
       "      <td>0.892426</td>\n",
       "      <td>0.999991</td>\n",
       "      <td>chr1</td>\n",
       "      <td>186341832</td>\n",
       "      <td>186341972</td>\n",
       "      <td>-</td>\n",
       "      <td>140</td>\n",
       "      <td>0.505906</td>\n",
       "    </tr>\n",
       "    <tr>\n",
       "      <th>91773</th>\n",
       "      <td>L1P1_1954</td>\n",
       "      <td>0.411412</td>\n",
       "      <td>0.551971</td>\n",
       "      <td>1.038788</td>\n",
       "      <td>0.531361</td>\n",
       "      <td>0.595169</td>\n",
       "      <td>0.999991</td>\n",
       "      <td>chrX</td>\n",
       "      <td>77843843</td>\n",
       "      <td>77847573</td>\n",
       "      <td>-</td>\n",
       "      <td>3730</td>\n",
       "      <td>0.551971</td>\n",
       "    </tr>\n",
       "    <tr>\n",
       "      <th>72707</th>\n",
       "      <td>LTR78_2442</td>\n",
       "      <td>0.054661</td>\n",
       "      <td>0.588301</td>\n",
       "      <td>4.538197</td>\n",
       "      <td>0.129633</td>\n",
       "      <td>0.896857</td>\n",
       "      <td>0.999991</td>\n",
       "      <td>chr7</td>\n",
       "      <td>123148490</td>\n",
       "      <td>123149274</td>\n",
       "      <td>-</td>\n",
       "      <td>784</td>\n",
       "      <td>0.588301</td>\n",
       "    </tr>\n",
       "    <tr>\n",
       "      <th>84785</th>\n",
       "      <td>MIRb_114810</td>\n",
       "      <td>0.152713</td>\n",
       "      <td>0.992725</td>\n",
       "      <td>1.635417</td>\n",
       "      <td>0.607016</td>\n",
       "      <td>0.543840</td>\n",
       "      <td>0.999991</td>\n",
       "      <td>chr9</td>\n",
       "      <td>93108033</td>\n",
       "      <td>93108118</td>\n",
       "      <td>+</td>\n",
       "      <td>85</td>\n",
       "      <td>0.992725</td>\n",
       "    </tr>\n",
       "    <tr>\n",
       "      <th>26610</th>\n",
       "      <td>L1HS_219</td>\n",
       "      <td>0.041962</td>\n",
       "      <td>1.068264</td>\n",
       "      <td>4.534804</td>\n",
       "      <td>0.235570</td>\n",
       "      <td>0.813766</td>\n",
       "      <td>0.999991</td>\n",
       "      <td>chr2</td>\n",
       "      <td>197062487</td>\n",
       "      <td>197068374</td>\n",
       "      <td>+</td>\n",
       "      <td>5887</td>\n",
       "      <td>1.068264</td>\n",
       "    </tr>\n",
       "  </tbody>\n",
       "</table>\n",
       "</div>"
      ],
      "text/plain": [
       "           TE name  baseMean  log2FoldChange     lfcSE      stat    pvalue   \n",
       "13516    HAL1b_255  0.036374        0.505906  3.740935  0.135235  0.892426  \\\n",
       "91773    L1P1_1954  0.411412        0.551971  1.038788  0.531361  0.595169   \n",
       "72707   LTR78_2442  0.054661        0.588301  4.538197  0.129633  0.896857   \n",
       "84785  MIRb_114810  0.152713        0.992725  1.635417  0.607016  0.543840   \n",
       "26610     L1HS_219  0.041962        1.068264  4.534804  0.235570  0.813766   \n",
       "\n",
       "           padj genoName  genoStart    genoEnd strand  seqLen  absolute_LFC  \n",
       "13516  0.999991     chr1  186341832  186341972      -     140      0.505906  \n",
       "91773  0.999991     chrX   77843843   77847573      -    3730      0.551971  \n",
       "72707  0.999991     chr7  123148490  123149274      -     784      0.588301  \n",
       "84785  0.999991     chr9   93108033   93108118      +      85      0.992725  \n",
       "26610  0.999991     chr2  197062487  197068374      +    5887      1.068264  "
      ]
     },
     "execution_count": 40,
     "metadata": {},
     "output_type": "execute_result"
    }
   ],
   "source": [
    "rand_df_ls[0].head()"
   ]
  },
  {
   "cell_type": "code",
   "execution_count": 41,
   "id": "01858f4f-8423-4fb5-8708-7f8d2ea667e3",
   "metadata": {},
   "outputs": [
    {
     "data": {
      "text/html": [
       "<div>\n",
       "<style scoped>\n",
       "    .dataframe tbody tr th:only-of-type {\n",
       "        vertical-align: middle;\n",
       "    }\n",
       "\n",
       "    .dataframe tbody tr th {\n",
       "        vertical-align: top;\n",
       "    }\n",
       "\n",
       "    .dataframe thead th {\n",
       "        text-align: right;\n",
       "    }\n",
       "</style>\n",
       "<table border=\"1\" class=\"dataframe\">\n",
       "  <thead>\n",
       "    <tr style=\"text-align: right;\">\n",
       "      <th></th>\n",
       "      <th>TE name</th>\n",
       "      <th>baseMean</th>\n",
       "      <th>log2FoldChange</th>\n",
       "      <th>lfcSE</th>\n",
       "      <th>stat</th>\n",
       "      <th>pvalue</th>\n",
       "      <th>padj</th>\n",
       "      <th>genoName</th>\n",
       "      <th>genoStart</th>\n",
       "      <th>genoEnd</th>\n",
       "      <th>strand</th>\n",
       "      <th>seqLen</th>\n",
       "      <th>absolute_LFC</th>\n",
       "    </tr>\n",
       "  </thead>\n",
       "  <tbody>\n",
       "    <tr>\n",
       "      <th>138302</th>\n",
       "      <td>L1ME4c_7460</td>\n",
       "      <td>0.172153</td>\n",
       "      <td>0.847717</td>\n",
       "      <td>1.181313</td>\n",
       "      <td>0.717605</td>\n",
       "      <td>0.473001</td>\n",
       "      <td>0.999991</td>\n",
       "      <td>chr16</td>\n",
       "      <td>27233162</td>\n",
       "      <td>27233376</td>\n",
       "      <td>+</td>\n",
       "      <td>214</td>\n",
       "      <td>0.847717</td>\n",
       "    </tr>\n",
       "    <tr>\n",
       "      <th>13679</th>\n",
       "      <td>THE1D-int_101</td>\n",
       "      <td>0.056834</td>\n",
       "      <td>0.389958</td>\n",
       "      <td>3.120303</td>\n",
       "      <td>0.124974</td>\n",
       "      <td>0.900544</td>\n",
       "      <td>0.999991</td>\n",
       "      <td>chr1</td>\n",
       "      <td>195384306</td>\n",
       "      <td>195385932</td>\n",
       "      <td>+</td>\n",
       "      <td>1626</td>\n",
       "      <td>0.389958</td>\n",
       "    </tr>\n",
       "    <tr>\n",
       "      <th>82054</th>\n",
       "      <td>AluJb_59205</td>\n",
       "      <td>0.125744</td>\n",
       "      <td>0.005216</td>\n",
       "      <td>1.622701</td>\n",
       "      <td>0.003215</td>\n",
       "      <td>0.997435</td>\n",
       "      <td>0.999991</td>\n",
       "      <td>chr9</td>\n",
       "      <td>19088962</td>\n",
       "      <td>19089278</td>\n",
       "      <td>+</td>\n",
       "      <td>316</td>\n",
       "      <td>0.005216</td>\n",
       "    </tr>\n",
       "    <tr>\n",
       "      <th>10678</th>\n",
       "      <td>AluSx1_5792</td>\n",
       "      <td>2.353492</td>\n",
       "      <td>0.202707</td>\n",
       "      <td>0.560155</td>\n",
       "      <td>0.361876</td>\n",
       "      <td>0.717444</td>\n",
       "      <td>0.999991</td>\n",
       "      <td>chr1</td>\n",
       "      <td>150693849</td>\n",
       "      <td>150694151</td>\n",
       "      <td>-</td>\n",
       "      <td>302</td>\n",
       "      <td>0.202707</td>\n",
       "    </tr>\n",
       "    <tr>\n",
       "      <th>118886</th>\n",
       "      <td>L2b_70244</td>\n",
       "      <td>0.102661</td>\n",
       "      <td>0.108647</td>\n",
       "      <td>1.584876</td>\n",
       "      <td>0.068553</td>\n",
       "      <td>0.945346</td>\n",
       "      <td>0.999991</td>\n",
       "      <td>chr12</td>\n",
       "      <td>121908541</td>\n",
       "      <td>121909224</td>\n",
       "      <td>-</td>\n",
       "      <td>683</td>\n",
       "      <td>0.108647</td>\n",
       "    </tr>\n",
       "  </tbody>\n",
       "</table>\n",
       "</div>"
      ],
      "text/plain": [
       "              TE name  baseMean  log2FoldChange     lfcSE      stat    pvalue   \n",
       "138302    L1ME4c_7460  0.172153        0.847717  1.181313  0.717605  0.473001  \\\n",
       "13679   THE1D-int_101  0.056834        0.389958  3.120303  0.124974  0.900544   \n",
       "82054     AluJb_59205  0.125744        0.005216  1.622701  0.003215  0.997435   \n",
       "10678     AluSx1_5792  2.353492        0.202707  0.560155  0.361876  0.717444   \n",
       "118886      L2b_70244  0.102661        0.108647  1.584876  0.068553  0.945346   \n",
       "\n",
       "            padj genoName  genoStart    genoEnd strand  seqLen  absolute_LFC  \n",
       "138302  0.999991    chr16   27233162   27233376      +     214      0.847717  \n",
       "13679   0.999991     chr1  195384306  195385932      +    1626      0.389958  \n",
       "82054   0.999991     chr9   19088962   19089278      +     316      0.005216  \n",
       "10678   0.999991     chr1  150693849  150694151      -     302      0.202707  \n",
       "118886  0.999991    chr12  121908541  121909224      -     683      0.108647  "
      ]
     },
     "execution_count": 41,
     "metadata": {},
     "output_type": "execute_result"
    }
   ],
   "source": [
    "rand_df_ls[1].head()"
   ]
  },
  {
   "cell_type": "code",
   "execution_count": null,
   "id": "56c42a36-43e9-4ccc-a9ce-3b66dee515ec",
   "metadata": {},
   "outputs": [],
   "source": []
  },
  {
   "cell_type": "code",
   "execution_count": 42,
   "id": "a0d60ab3-1c67-4efe-b77f-8f9de48138d4",
   "metadata": {},
   "outputs": [],
   "source": [
    "region_df_cols = ['genoName', 'genoStart', 'genoEnd', 'strand', 'TE name' ]"
   ]
  },
  {
   "cell_type": "code",
   "execution_count": 43,
   "id": "b23f2759-d4d4-4192-85a7-3d650f75672a",
   "metadata": {},
   "outputs": [],
   "source": [
    "hg38_ref_path = '/home/lucy/Dropbox/human_ref_genome/hg38_grch38/hg38.fa'"
   ]
  },
  {
   "cell_type": "code",
   "execution_count": 44,
   "id": "fa242682-5cb8-4f5e-b46f-61e82dd60d16",
   "metadata": {},
   "outputs": [
    {
     "name": "stdout",
     "output_type": "stream",
     "text": [
      "✅ Extracted sequences saved to: ./sequence_similarity_input/tcps_rand10_1.fasta\n",
      "✅ Extracted sequences saved to: ./sequence_similarity_input/tcps_rand10_2.fasta\n",
      "✅ Extracted sequences saved to: ./sequence_similarity_input/tcps_rand10_3.fasta\n",
      "✅ Extracted sequences saved to: ./sequence_similarity_input/tcps_rand20_1.fasta\n",
      "✅ Extracted sequences saved to: ./sequence_similarity_input/tcps_rand20_2.fasta\n",
      "✅ Extracted sequences saved to: ./sequence_similarity_input/tcps_rand20_3.fasta\n",
      "✅ Extracted sequences saved to: ./sequence_similarity_input/tcps_rand50_1.fasta\n",
      "✅ Extracted sequences saved to: ./sequence_similarity_input/tcps_rand50_2.fasta\n",
      "✅ Extracted sequences saved to: ./sequence_similarity_input/tcps_rand50_3.fasta\n"
     ]
    }
   ],
   "source": [
    "for i,d in enumerate( rand_df_ls):\n",
    "    seqComp.extract_ucsc_bedlike_regions( genome_fasta= hg38_ref_path,\n",
    "                                         regions_df= d[region_df_cols ], \n",
    "                                         output_fasta='./sequence_similarity_input/' + 'tcps_' + rand_df_names[i] +'.fasta') "
   ]
  },
  {
   "cell_type": "code",
   "execution_count": null,
   "id": "143ba4ef-abdd-4345-af69-599bf5aace2a",
   "metadata": {},
   "outputs": [],
   "source": []
  },
  {
   "cell_type": "markdown",
   "id": "81b3a01c-0a18-4515-8661-7f5abf9de111",
   "metadata": {},
   "source": [
    "### calculate scores for the random samples"
   ]
  },
  {
   "cell_type": "code",
   "execution_count": 48,
   "id": "8e14cdd9-4dd8-4600-b960-afcaaf52b452",
   "metadata": {},
   "outputs": [],
   "source": [
    "import time"
   ]
  },
  {
   "cell_type": "code",
   "execution_count": 45,
   "id": "e050cc65-cde2-4e7f-a5b8-0d184875632c",
   "metadata": {},
   "outputs": [],
   "source": [
    "input_dir = './sequence_similarity_input/'"
   ]
  },
  {
   "cell_type": "code",
   "execution_count": 46,
   "id": "8a374239-1589-40dc-a511-8130272caf1a",
   "metadata": {},
   "outputs": [
    {
     "data": {
      "text/plain": [
       "8     tcps_rand10_3.fasta\n",
       "11    tcps_rand10_2.fasta\n",
       "19    tcps_rand20_3.fasta\n",
       "20    tcps_rand20_1.fasta\n",
       "21    tcps_rand50_1.fasta\n",
       "28    tcps_rand10_1.fasta\n",
       "29    tcps_rand50_2.fasta\n",
       "30    tcps_rand20_2.fasta\n",
       "34    tcps_rand50_3.fasta\n",
       "dtype: object"
      ]
     },
     "execution_count": 46,
     "metadata": {},
     "output_type": "execute_result"
    }
   ],
   "source": [
    "fnames = pd.Series( os.listdir( input_dir ) )\n",
    "fnames = fnames[ fnames.str.startswith( 'tcps_rand') ]\n",
    "fnames"
   ]
  },
  {
   "cell_type": "code",
   "execution_count": 49,
   "id": "55c2773d-68af-4b07-ba04-90cbc821095e",
   "metadata": {},
   "outputs": [
    {
     "name": "stdout",
     "output_type": "stream",
     "text": [
      "Processing tcps_rand10_3.fasta\n",
      "Loaded 10 sequences from ./sequence_similarity_input/tcps_rand10_3.fasta\n",
      "Average identity: 32.55% ± 19.05%\n",
      "Time used: 0.0 min\n",
      "Processing tcps_rand10_2.fasta\n",
      "Loaded 10 sequences from ./sequence_similarity_input/tcps_rand10_2.fasta\n",
      "Average identity: 38.27% ± 19.04%\n",
      "Time used: 0.0 min\n",
      "Processing tcps_rand20_3.fasta\n",
      "Loaded 20 sequences from ./sequence_similarity_input/tcps_rand20_3.fasta\n",
      "Average identity: 28.37% ± 20.57%\n",
      "Time used: 0.1 min\n",
      "Processing tcps_rand20_1.fasta\n",
      "Loaded 20 sequences from ./sequence_similarity_input/tcps_rand20_1.fasta\n",
      "Average identity: 28.52% ± 19.07%\n",
      "Time used: 0.1 min\n",
      "Processing tcps_rand50_1.fasta\n",
      "Loaded 50 sequences from ./sequence_similarity_input/tcps_rand50_1.fasta\n",
      "Average identity: 31.66% ± 19.24%\n",
      "Time used: 0.3 min\n",
      "Processing tcps_rand10_1.fasta\n",
      "Loaded 10 sequences from ./sequence_similarity_input/tcps_rand10_1.fasta\n",
      "Average identity: 24.64% ± 18.86%\n",
      "Time used: 0.0 min\n",
      "Processing tcps_rand50_2.fasta\n",
      "Loaded 50 sequences from ./sequence_similarity_input/tcps_rand50_2.fasta\n",
      "Average identity: 34.09% ± 19.62%\n",
      "Time used: 0.3 min\n",
      "Processing tcps_rand20_2.fasta\n",
      "Loaded 20 sequences from ./sequence_similarity_input/tcps_rand20_2.fasta\n",
      "Average identity: 34.23% ± 19.57%\n",
      "Time used: 0.1 min\n",
      "Processing tcps_rand50_3.fasta\n",
      "Loaded 50 sequences from ./sequence_similarity_input/tcps_rand50_3.fasta\n",
      "Average identity: 31.45% ± 19.36%\n",
      "Time used: 0.3 min\n"
     ]
    }
   ],
   "source": [
    "for f in fnames:\n",
    "    print( f'Processing {f}')\n",
    "    TIME_S = time.time()\n",
    "    seqComp.process_group(input_dir + f, out_dir=\"sequence_similarity_results\", n_jobs=4,plot_heatmap=True )\n",
    "    TIME_E = time.time()\n",
    "    TOTAL_TIME = (TIME_E - TIME_S)/60\n",
    "    print( f\"Time used: {TOTAL_TIME:.1f} min\" )"
   ]
  },
  {
   "cell_type": "code",
   "execution_count": null,
   "id": "f6ebeeef-01d0-4c83-8be0-cc49c06472b5",
   "metadata": {},
   "outputs": [],
   "source": []
  },
  {
   "cell_type": "markdown",
   "id": "793fff61-a7c4-4d78-9157-25120cee26e2",
   "metadata": {},
   "source": [
    "### load result df and make summary df"
   ]
  },
  {
   "cell_type": "code",
   "execution_count": null,
   "id": "39e44849-b168-438b-acba-577b68e71ff6",
   "metadata": {},
   "outputs": [],
   "source": []
  },
  {
   "cell_type": "code",
   "execution_count": 53,
   "id": "d8465f59-0eec-4dd8-bd4f-9e6cbfee48ae",
   "metadata": {},
   "outputs": [],
   "source": [
    "tcps_rand_files =pd.Series( os.listdir(\"./sequence_similarity_results/\") )\n",
    "tcps_rand_files = tcps_rand_files[tcps_rand_files.str.startswith(\"tcps_rand\") & tcps_rand_files.str.endswith( 'identity.csv')  ]"
   ]
  },
  {
   "cell_type": "code",
   "execution_count": 56,
   "id": "1f57a847-eeb1-45d7-a176-ca7fb06bad77",
   "metadata": {},
   "outputs": [
    {
     "data": {
      "text/plain": [
       "2     tcps_rand10_1_pairwise_identity.csv\n",
       "7     tcps_rand20_1_pairwise_identity.csv\n",
       "8     tcps_rand20_2_pairwise_identity.csv\n",
       "11    tcps_rand20_3_pairwise_identity.csv\n",
       "15    tcps_rand50_3_pairwise_identity.csv\n",
       "27    tcps_rand50_2_pairwise_identity.csv\n",
       "37    tcps_rand50_1_pairwise_identity.csv\n",
       "40    tcps_rand10_2_pairwise_identity.csv\n",
       "45    tcps_rand10_3_pairwise_identity.csv\n",
       "dtype: object"
      ]
     },
     "execution_count": 56,
     "metadata": {},
     "output_type": "execute_result"
    }
   ],
   "source": [
    "tcps_rand_files"
   ]
  },
  {
   "cell_type": "code",
   "execution_count": 58,
   "id": "25b772fe-8e81-47fb-8036-86f83ce2bb1c",
   "metadata": {},
   "outputs": [
    {
     "name": "stdout",
     "output_type": "stream",
     "text": [
      "['10', '20', '20', '20', '50', '50', '50', '10', '10']\n",
      "['rand10_1', 'rand20_1', 'rand20_2', 'rand20_3', 'rand50_3', 'rand50_2', 'rand50_1', 'rand10_2', 'rand10_3']\n"
     ]
    }
   ],
   "source": [
    "num_elements = [f.split(\"_\")[1].split('d')[1] for f in tcps_rand_files ]\n",
    "print( num_elements )\n",
    "f_ids = [ \"_\".join( f.split(\"_\")[1:3] ) for f in tcps_rand_files ]\n",
    "print( f_ids )"
   ]
  },
  {
   "cell_type": "code",
   "execution_count": 75,
   "id": "c6043ef0-53e9-4340-8039-35111ffd9da5",
   "metadata": {},
   "outputs": [],
   "source": [
    "rand_summary_df = pd.DataFrame(index = ['avg_pctIdentity', 'std_pctIdentity', 'num_element'])\n",
    "rand_df_ls = []\n",
    "\n",
    "for i,tf in enumerate( tcps_rand_files):\n",
    "    # get data meta information\n",
    "    f_id = f_ids[i]\n",
    "    num = int( num_elements[i] )\n",
    "    \n",
    "    # load df\n",
    "    df = pd.read_csv(\"./sequence_similarity_results/\" + tf, header = 0, index_col = None )\n",
    "    \n",
    "    #get avg and std score\n",
    "    avg_score = df['PercentIdentity'].mean()\n",
    "    std_score = df['PercentIdentity'].std()\n",
    "\n",
    "    # add result to the result df\n",
    "    rand_summary_df[ f_id ] = [ avg_score, std_score, num ]\n",
    "    rand_df_ls.append( df )\n",
    "    \n",
    "    \n",
    "    "
   ]
  },
  {
   "cell_type": "code",
   "execution_count": 19,
   "id": "0a88ae12-2230-4f59-a0ca-7a663b95f536",
   "metadata": {},
   "outputs": [],
   "source": [
    "#df_ls[0]"
   ]
  },
  {
   "cell_type": "code",
   "execution_count": 76,
   "id": "5e4d672a-7982-4d07-8f18-6399b8150c39",
   "metadata": {},
   "outputs": [
    {
     "data": {
      "text/html": [
       "<div>\n",
       "<style scoped>\n",
       "    .dataframe tbody tr th:only-of-type {\n",
       "        vertical-align: middle;\n",
       "    }\n",
       "\n",
       "    .dataframe tbody tr th {\n",
       "        vertical-align: top;\n",
       "    }\n",
       "\n",
       "    .dataframe thead th {\n",
       "        text-align: right;\n",
       "    }\n",
       "</style>\n",
       "<table border=\"1\" class=\"dataframe\">\n",
       "  <thead>\n",
       "    <tr style=\"text-align: right;\">\n",
       "      <th></th>\n",
       "      <th>rand10_1</th>\n",
       "      <th>rand20_1</th>\n",
       "      <th>rand20_2</th>\n",
       "      <th>rand20_3</th>\n",
       "      <th>rand50_3</th>\n",
       "      <th>rand50_2</th>\n",
       "      <th>rand50_1</th>\n",
       "      <th>rand10_2</th>\n",
       "      <th>rand10_3</th>\n",
       "    </tr>\n",
       "  </thead>\n",
       "  <tbody>\n",
       "    <tr>\n",
       "      <th>avg_pctIdentity</th>\n",
       "      <td>24.643343</td>\n",
       "      <td>28.515882</td>\n",
       "      <td>34.233956</td>\n",
       "      <td>28.367169</td>\n",
       "      <td>31.454366</td>\n",
       "      <td>34.088045</td>\n",
       "      <td>31.655378</td>\n",
       "      <td>38.265915</td>\n",
       "      <td>32.546280</td>\n",
       "    </tr>\n",
       "    <tr>\n",
       "      <th>std_pctIdentity</th>\n",
       "      <td>19.075596</td>\n",
       "      <td>19.120074</td>\n",
       "      <td>19.617284</td>\n",
       "      <td>20.623324</td>\n",
       "      <td>19.369896</td>\n",
       "      <td>19.630821</td>\n",
       "      <td>19.250411</td>\n",
       "      <td>19.259667</td>\n",
       "      <td>19.269663</td>\n",
       "    </tr>\n",
       "    <tr>\n",
       "      <th>num_element</th>\n",
       "      <td>10.000000</td>\n",
       "      <td>20.000000</td>\n",
       "      <td>20.000000</td>\n",
       "      <td>20.000000</td>\n",
       "      <td>50.000000</td>\n",
       "      <td>50.000000</td>\n",
       "      <td>50.000000</td>\n",
       "      <td>10.000000</td>\n",
       "      <td>10.000000</td>\n",
       "    </tr>\n",
       "  </tbody>\n",
       "</table>\n",
       "</div>"
      ],
      "text/plain": [
       "                  rand10_1   rand20_1   rand20_2   rand20_3   rand50_3   \n",
       "avg_pctIdentity  24.643343  28.515882  34.233956  28.367169  31.454366  \\\n",
       "std_pctIdentity  19.075596  19.120074  19.617284  20.623324  19.369896   \n",
       "num_element      10.000000  20.000000  20.000000  20.000000  50.000000   \n",
       "\n",
       "                  rand50_2   rand50_1   rand10_2   rand10_3  \n",
       "avg_pctIdentity  34.088045  31.655378  38.265915  32.546280  \n",
       "std_pctIdentity  19.630821  19.250411  19.259667  19.269663  \n",
       "num_element      50.000000  50.000000  10.000000  10.000000  "
      ]
     },
     "execution_count": 76,
     "metadata": {},
     "output_type": "execute_result"
    }
   ],
   "source": [
    "rand_summary_df"
   ]
  },
  {
   "cell_type": "code",
   "execution_count": 77,
   "id": "df11c929-e5b7-4266-8dab-3f70121005e1",
   "metadata": {},
   "outputs": [],
   "source": [
    "rand_summary_df.loc['condition'] = ['control' for i in range( rand_summary_df.shape[1]) ]"
   ]
  },
  {
   "cell_type": "code",
   "execution_count": 78,
   "id": "8c8f7c99-c8fa-493a-93a0-d46346e46c45",
   "metadata": {},
   "outputs": [],
   "source": [
    "rand_summary_df = rand_summary_df.T"
   ]
  },
  {
   "cell_type": "code",
   "execution_count": 79,
   "id": "7876767f-adc7-439f-bf9a-e7a262e4371e",
   "metadata": {},
   "outputs": [
    {
     "data": {
      "text/html": [
       "<div>\n",
       "<style scoped>\n",
       "    .dataframe tbody tr th:only-of-type {\n",
       "        vertical-align: middle;\n",
       "    }\n",
       "\n",
       "    .dataframe tbody tr th {\n",
       "        vertical-align: top;\n",
       "    }\n",
       "\n",
       "    .dataframe thead th {\n",
       "        text-align: right;\n",
       "    }\n",
       "</style>\n",
       "<table border=\"1\" class=\"dataframe\">\n",
       "  <thead>\n",
       "    <tr style=\"text-align: right;\">\n",
       "      <th></th>\n",
       "      <th>avg_pctIdentity</th>\n",
       "      <th>std_pctIdentity</th>\n",
       "      <th>num_element</th>\n",
       "      <th>condition</th>\n",
       "    </tr>\n",
       "  </thead>\n",
       "  <tbody>\n",
       "    <tr>\n",
       "      <th>rand10_1</th>\n",
       "      <td>24.643343</td>\n",
       "      <td>19.075596</td>\n",
       "      <td>10.0</td>\n",
       "      <td>control</td>\n",
       "    </tr>\n",
       "    <tr>\n",
       "      <th>rand20_1</th>\n",
       "      <td>28.515882</td>\n",
       "      <td>19.120074</td>\n",
       "      <td>20.0</td>\n",
       "      <td>control</td>\n",
       "    </tr>\n",
       "    <tr>\n",
       "      <th>rand20_2</th>\n",
       "      <td>34.233956</td>\n",
       "      <td>19.617284</td>\n",
       "      <td>20.0</td>\n",
       "      <td>control</td>\n",
       "    </tr>\n",
       "    <tr>\n",
       "      <th>rand20_3</th>\n",
       "      <td>28.367169</td>\n",
       "      <td>20.623324</td>\n",
       "      <td>20.0</td>\n",
       "      <td>control</td>\n",
       "    </tr>\n",
       "    <tr>\n",
       "      <th>rand50_3</th>\n",
       "      <td>31.454366</td>\n",
       "      <td>19.369896</td>\n",
       "      <td>50.0</td>\n",
       "      <td>control</td>\n",
       "    </tr>\n",
       "  </tbody>\n",
       "</table>\n",
       "</div>"
      ],
      "text/plain": [
       "         avg_pctIdentity std_pctIdentity num_element condition\n",
       "rand10_1       24.643343       19.075596        10.0   control\n",
       "rand20_1       28.515882       19.120074        20.0   control\n",
       "rand20_2       34.233956       19.617284        20.0   control\n",
       "rand20_3       28.367169       20.623324        20.0   control\n",
       "rand50_3       31.454366       19.369896        50.0   control"
      ]
     },
     "execution_count": 79,
     "metadata": {},
     "output_type": "execute_result"
    }
   ],
   "source": [
    "rand_summary_df.head()"
   ]
  },
  {
   "cell_type": "code",
   "execution_count": 80,
   "id": "000b025d-7aaa-4cd3-b38d-ab8d11cad326",
   "metadata": {},
   "outputs": [],
   "source": [
    "rand_summary_df.sort_values( by = 'num_element', ascending= True , inplace= True )"
   ]
  },
  {
   "cell_type": "code",
   "execution_count": 81,
   "id": "54c3e57b-8cc3-4eea-a038-aa3233d06c38",
   "metadata": {},
   "outputs": [
    {
     "data": {
      "text/html": [
       "<div>\n",
       "<style scoped>\n",
       "    .dataframe tbody tr th:only-of-type {\n",
       "        vertical-align: middle;\n",
       "    }\n",
       "\n",
       "    .dataframe tbody tr th {\n",
       "        vertical-align: top;\n",
       "    }\n",
       "\n",
       "    .dataframe thead th {\n",
       "        text-align: right;\n",
       "    }\n",
       "</style>\n",
       "<table border=\"1\" class=\"dataframe\">\n",
       "  <thead>\n",
       "    <tr style=\"text-align: right;\">\n",
       "      <th></th>\n",
       "      <th>avg_pctIdentity</th>\n",
       "      <th>std_pctIdentity</th>\n",
       "      <th>num_element</th>\n",
       "      <th>condition</th>\n",
       "    </tr>\n",
       "  </thead>\n",
       "  <tbody>\n",
       "    <tr>\n",
       "      <th>ser_up_top10</th>\n",
       "      <td>37.02247</td>\n",
       "      <td>17.734659</td>\n",
       "      <td>10.0</td>\n",
       "      <td>SER_UP</td>\n",
       "    </tr>\n",
       "    <tr>\n",
       "      <th>ser_up_top20</th>\n",
       "      <td>45.15183</td>\n",
       "      <td>19.354933</td>\n",
       "      <td>20.0</td>\n",
       "      <td>SER_UP</td>\n",
       "    </tr>\n",
       "    <tr>\n",
       "      <th>ser_up_top50</th>\n",
       "      <td>41.474347</td>\n",
       "      <td>16.967143</td>\n",
       "      <td>50.0</td>\n",
       "      <td>SER_UP</td>\n",
       "    </tr>\n",
       "    <tr>\n",
       "      <th>ser_up_last50</th>\n",
       "      <td>34.316269</td>\n",
       "      <td>18.567237</td>\n",
       "      <td>50.0</td>\n",
       "      <td>SER_UP</td>\n",
       "    </tr>\n",
       "    <tr>\n",
       "      <th>ad_up_all</th>\n",
       "      <td>37.398733</td>\n",
       "      <td>14.883727</td>\n",
       "      <td>9.0</td>\n",
       "      <td>AD_UP</td>\n",
       "    </tr>\n",
       "  </tbody>\n",
       "</table>\n",
       "</div>"
      ],
      "text/plain": [
       "              avg_pctIdentity std_pctIdentity num_element condition\n",
       "ser_up_top10         37.02247       17.734659        10.0    SER_UP\n",
       "ser_up_top20         45.15183       19.354933        20.0    SER_UP\n",
       "ser_up_top50        41.474347       16.967143        50.0    SER_UP\n",
       "ser_up_last50       34.316269       18.567237        50.0    SER_UP\n",
       "ad_up_all           37.398733       14.883727         9.0     AD_UP"
      ]
     },
     "execution_count": 81,
     "metadata": {},
     "output_type": "execute_result"
    }
   ],
   "source": [
    "summary_df.head()"
   ]
  },
  {
   "cell_type": "code",
   "execution_count": 82,
   "id": "e10c4063-e378-4f15-ab9e-3183688f19d7",
   "metadata": {},
   "outputs": [],
   "source": [
    "total_sum_df = pd.concat( [  rand_summary_df, summary_df, ] , axis = 0 , ignore_index= False)"
   ]
  },
  {
   "cell_type": "code",
   "execution_count": 83,
   "id": "b14fe497-b3a2-4b99-b6f5-ce20d3de7578",
   "metadata": {},
   "outputs": [
    {
     "data": {
      "text/html": [
       "<div>\n",
       "<style scoped>\n",
       "    .dataframe tbody tr th:only-of-type {\n",
       "        vertical-align: middle;\n",
       "    }\n",
       "\n",
       "    .dataframe tbody tr th {\n",
       "        vertical-align: top;\n",
       "    }\n",
       "\n",
       "    .dataframe thead th {\n",
       "        text-align: right;\n",
       "    }\n",
       "</style>\n",
       "<table border=\"1\" class=\"dataframe\">\n",
       "  <thead>\n",
       "    <tr style=\"text-align: right;\">\n",
       "      <th></th>\n",
       "      <th>avg_pctIdentity</th>\n",
       "      <th>std_pctIdentity</th>\n",
       "      <th>num_element</th>\n",
       "      <th>condition</th>\n",
       "    </tr>\n",
       "  </thead>\n",
       "  <tbody>\n",
       "    <tr>\n",
       "      <th>rand10_1</th>\n",
       "      <td>24.643343</td>\n",
       "      <td>19.075596</td>\n",
       "      <td>10.0</td>\n",
       "      <td>control</td>\n",
       "    </tr>\n",
       "    <tr>\n",
       "      <th>rand10_2</th>\n",
       "      <td>38.265915</td>\n",
       "      <td>19.259667</td>\n",
       "      <td>10.0</td>\n",
       "      <td>control</td>\n",
       "    </tr>\n",
       "    <tr>\n",
       "      <th>rand10_3</th>\n",
       "      <td>32.54628</td>\n",
       "      <td>19.269663</td>\n",
       "      <td>10.0</td>\n",
       "      <td>control</td>\n",
       "    </tr>\n",
       "    <tr>\n",
       "      <th>rand20_1</th>\n",
       "      <td>28.515882</td>\n",
       "      <td>19.120074</td>\n",
       "      <td>20.0</td>\n",
       "      <td>control</td>\n",
       "    </tr>\n",
       "    <tr>\n",
       "      <th>rand20_2</th>\n",
       "      <td>34.233956</td>\n",
       "      <td>19.617284</td>\n",
       "      <td>20.0</td>\n",
       "      <td>control</td>\n",
       "    </tr>\n",
       "  </tbody>\n",
       "</table>\n",
       "</div>"
      ],
      "text/plain": [
       "         avg_pctIdentity std_pctIdentity num_element condition\n",
       "rand10_1       24.643343       19.075596        10.0   control\n",
       "rand10_2       38.265915       19.259667        10.0   control\n",
       "rand10_3        32.54628       19.269663        10.0   control\n",
       "rand20_1       28.515882       19.120074        20.0   control\n",
       "rand20_2       34.233956       19.617284        20.0   control"
      ]
     },
     "execution_count": 83,
     "metadata": {},
     "output_type": "execute_result"
    }
   ],
   "source": [
    "total_sum_df.head()"
   ]
  },
  {
   "cell_type": "code",
   "execution_count": null,
   "id": "311c1d45-c273-437b-8f85-82c6af93f73c",
   "metadata": {},
   "outputs": [],
   "source": []
  },
  {
   "cell_type": "code",
   "execution_count": null,
   "id": "8e683605-b3a6-424d-b144-7758f1386c58",
   "metadata": {},
   "outputs": [],
   "source": []
  },
  {
   "cell_type": "markdown",
   "id": "4c6e6404-b3a6-4456-802c-95cbcbf9440d",
   "metadata": {},
   "source": [
    "### plot the summary df"
   ]
  },
  {
   "cell_type": "code",
   "execution_count": 4,
   "id": "3abac82f-7f8e-4beb-bd06-77dc8390c4c2",
   "metadata": {},
   "outputs": [],
   "source": [
    "total_sum_df = pd.read_csv(\"./TCPS_seq_similarity_summary_df.csv\", header = 0, index_col = 0 )"
   ]
  },
  {
   "cell_type": "code",
   "execution_count": 5,
   "id": "9f42adb9-cb35-41df-972b-3a6dd3f06fdc",
   "metadata": {},
   "outputs": [],
   "source": [
    "condition_colors = {\n",
    "    'control': 'gray',\n",
    "    'SER_UP': 'salmon',\n",
    "    'AD_UP':'cornflowerblue'\n",
    "}"
   ]
  },
  {
   "cell_type": "code",
   "execution_count": 84,
   "id": "5360c2f5-a67b-4a1c-b532-f335e441d869",
   "metadata": {},
   "outputs": [
    {
     "data": {
      "image/png": "[encoded data removed]",
      "text/plain": [
       "<Figure size 800x600 with 1 Axes>"
      ]
     },
     "metadata": {},
     "output_type": "display_data"
    }
   ],
   "source": [
    "\n",
    "\n",
    "bar_colors = [condition_colors[cond] for cond in total_sum_df['condition'] ]\n",
    "\n",
    "plt.figure(figsize=(8, 6))\n",
    "\n",
    "\n",
    "plt.bar(total_sum_df.index, total_sum_df['avg_pctIdentity'] , yerr=total_sum_df['std_pctIdentity'], capsize=5, color=bar_colors, edgecolor='black')\n",
    "\n",
    "plt.xticks(rotation=45, ha='right') \n",
    "\n",
    "legend_elements = [Patch(facecolor=color, label=cond) for cond, color in condition_colors.items()]\n",
    "plt.legend(handles=legend_elements, title='dTE Groups ')\n",
    "\n",
    "plt.ylabel('Average Similarity Score')\n",
    "plt.title('Sequence Similarity across differential TE groups')\n",
    "plt.grid(axis='y', linestyle='--', alpha=0.7)\n",
    "\n",
    "# Show plot\n",
    "plt.tight_layout()\n",
    "plt.show()\n"
   ]
  },
  {
   "cell_type": "code",
   "execution_count": 85,
   "id": "48811627-ef86-47c1-83d6-dd6c4b960c3f",
   "metadata": {},
   "outputs": [],
   "source": [
    "sum_of_sum_df = total_sum_df.groupby('condition').mean()"
   ]
  },
  {
   "cell_type": "code",
   "execution_count": 86,
   "id": "13692e89-1d73-40f8-928a-7aa1d2dc5590",
   "metadata": {},
   "outputs": [
    {
     "data": {
      "text/html": [
       "<div>\n",
       "<style scoped>\n",
       "    .dataframe tbody tr th:only-of-type {\n",
       "        vertical-align: middle;\n",
       "    }\n",
       "\n",
       "    .dataframe tbody tr th {\n",
       "        vertical-align: top;\n",
       "    }\n",
       "\n",
       "    .dataframe thead th {\n",
       "        text-align: right;\n",
       "    }\n",
       "</style>\n",
       "<table border=\"1\" class=\"dataframe\">\n",
       "  <thead>\n",
       "    <tr style=\"text-align: right;\">\n",
       "      <th></th>\n",
       "      <th>avg_pctIdentity</th>\n",
       "      <th>std_pctIdentity</th>\n",
       "      <th>num_element</th>\n",
       "    </tr>\n",
       "    <tr>\n",
       "      <th>condition</th>\n",
       "      <th></th>\n",
       "      <th></th>\n",
       "      <th></th>\n",
       "    </tr>\n",
       "  </thead>\n",
       "  <tbody>\n",
       "    <tr>\n",
       "      <th>AD_UP</th>\n",
       "      <td>37.398733</td>\n",
       "      <td>14.883727</td>\n",
       "      <td>9.0</td>\n",
       "    </tr>\n",
       "    <tr>\n",
       "      <th>SER_UP</th>\n",
       "      <td>39.491229</td>\n",
       "      <td>18.155993</td>\n",
       "      <td>32.5</td>\n",
       "    </tr>\n",
       "    <tr>\n",
       "      <th>control</th>\n",
       "      <td>31.530037</td>\n",
       "      <td>19.468526</td>\n",
       "      <td>26.666667</td>\n",
       "    </tr>\n",
       "  </tbody>\n",
       "</table>\n",
       "</div>"
      ],
      "text/plain": [
       "          avg_pctIdentity std_pctIdentity num_element\n",
       "condition                                            \n",
       "AD_UP           37.398733       14.883727         9.0\n",
       "SER_UP          39.491229       18.155993        32.5\n",
       "control         31.530037       19.468526   26.666667"
      ]
     },
     "execution_count": 86,
     "metadata": {},
     "output_type": "execute_result"
    }
   ],
   "source": [
    "sum_of_sum_df"
   ]
  },
  {
   "cell_type": "code",
   "execution_count": 91,
   "id": "cb511d9d-cb12-41e9-a62b-7efdc2fceb0d",
   "metadata": {},
   "outputs": [
    {
     "data": {
      "image/png": "[encoded data removed]",
      "text/plain": [
       "<Figure size 640x480 with 1 Axes>"
      ]
     },
     "metadata": {},
     "output_type": "display_data"
    }
   ],
   "source": [
    "plt.bar( x = sum_of_sum_df.index, height= sum_of_sum_df['avg_pctIdentity'],\n",
    "        yerr=sum_of_sum_df['std_pctIdentity'], capsize = 5, edgecolor='black', \n",
    "        color = ['cornflowerblue' , 'salmon' ,'grey'] )\n",
    "plt.title( 'Avg. Pct Sequence Identity across Conditions')\n",
    "plt.show()"
   ]
  },
  {
   "cell_type": "code",
   "execution_count": null,
   "id": "cefed459-60cd-45a6-b215-0d25667c9c61",
   "metadata": {},
   "outputs": [],
   "source": []
  },
  {
   "cell_type": "code",
   "execution_count": 7,
   "id": "8f6045c6-afce-4e96-a4db-c39c025c6ed5",
   "metadata": {},
   "outputs": [
    {
     "data": {
      "image/png": "[encoded data removed]",
      "text/plain": [
       "<Figure size 640x480 with 1 Axes>"
      ]
     },
     "metadata": {},
     "output_type": "display_data"
    }
   ],
   "source": [
    "sn.barplot( total_sum_df, y ='avg_pctIdentity' , x = 'condition' , hue= 'condition', palette= condition_colors, edgecolor = 'black', capsize = 0.05 )\n",
    "plt.title( 'Avg. Pct Sequence Identity across Conditions')\n",
    "plt.show()"
   ]
  },
  {
   "cell_type": "code",
   "execution_count": null,
   "id": "7b118195-88f6-48b6-909a-704ddb0b90cf",
   "metadata": {},
   "outputs": [],
   "source": []
  },
  {
   "cell_type": "code",
   "execution_count": 99,
   "id": "c8cd6a1e-f87d-4dbb-9b7a-f9aecb864c26",
   "metadata": {},
   "outputs": [
    {
     "data": {
      "text/plain": [
       "<Axes: xlabel='condition', ylabel='avg_pctIdentity'>"
      ]
     },
     "execution_count": 99,
     "metadata": {},
     "output_type": "execute_result"
    },
    {
     "data": {
      "image/png": "[encoded data removed]",
      "text/plain": [
       "<Figure size 640x480 with 1 Axes>"
      ]
     },
     "metadata": {},
     "output_type": "display_data"
    }
   ],
   "source": [
    "sn.boxplot( total_sum_df, y ='avg_pctIdentity' , x = 'condition' , hue= 'condition', palette= condition_colors )"
   ]
  },
  {
   "cell_type": "code",
   "execution_count": null,
   "id": "e7f877ad-3b1c-47e4-ab2d-c01cf1fe9bc1",
   "metadata": {},
   "outputs": [],
   "source": []
  },
  {
   "cell_type": "code",
   "execution_count": null,
   "id": "99f80e9d-a1f9-47a6-82f5-9708d6aa21c4",
   "metadata": {},
   "outputs": [],
   "source": []
  },
  {
   "cell_type": "markdown",
   "id": "8e7c7641-510a-48d1-afa8-8aef7d5eb117",
   "metadata": {},
   "source": [
    "## calculate p-values"
   ]
  },
  {
   "cell_type": "code",
   "execution_count": 9,
   "id": "44ffe5fd-2d52-42f8-94e7-54e4e982e1cd",
   "metadata": {},
   "outputs": [],
   "source": [
    "from scipy import stats\n",
    "\n",
    "ctrl = total_sum_df['avg_pctIdentity'][total_sum_df['condition'] == 'control']\n",
    "mut = total_sum_df['avg_pctIdentity'][total_sum_df['condition'] == 'SER_UP']\n",
    "ad = total_sum_df['avg_pctIdentity'][total_sum_df['condition'] == 'AD_UP']\n",
    "# Assuming equal variances (default)\n",
    "t_statistic, p_value = stats.ttest_ind(list(mut), list( ctrl) )"
   ]
  },
  {
   "cell_type": "code",
   "execution_count": 8,
   "id": "3933e4a5-911b-4f8a-b4f1-812293f33b88",
   "metadata": {},
   "outputs": [
    {
     "data": {
      "text/plain": [
       "[3.1413628745710165, 0.009385572939053337]"
      ]
     },
     "execution_count": 8,
     "metadata": {},
     "output_type": "execute_result"
    }
   ],
   "source": [
    "[t_statistic, p_value]"
   ]
  },
  {
   "cell_type": "code",
   "execution_count": 10,
   "id": "f2412afd-3968-4863-a980-6c485bb4c554",
   "metadata": {
    "collapsed": true,
    "jupyter": {
     "outputs_hidden": true
    }
   },
   "outputs": [
    {
     "name": "stderr",
     "output_type": "stream",
     "text": [
      "/tmp/ipykernel_267860/2158571102.py:1: RuntimeWarning: Precision loss occurred in moment calculation due to catastrophic cancellation. This occurs when the data are nearly identical. Results may be unreliable.\n",
      "  t_ser_ad, ser_ad = stats.ttest_ind(list(mut), list( ad) )\n",
      "/home/lucy/.local/lib/python3.8/site-packages/scipy/stats/_stats_py.py:1214: RuntimeWarning: divide by zero encountered in divide\n",
      "  var *= np.divide(n, n-ddof)  # to avoid error on division by zero\n",
      "/home/lucy/.local/lib/python3.8/site-packages/scipy/stats/_stats_py.py:1214: RuntimeWarning: invalid value encountered in scalar multiply\n",
      "  var *= np.divide(n, n-ddof)  # to avoid error on division by zero\n"
     ]
    }
   ],
   "source": [
    "t_ser_ad, ser_ad = stats.ttest_ind(list(mut), list( ad) )"
   ]
  },
  {
   "cell_type": "code",
   "execution_count": 11,
   "id": "7c128fd8-135f-41f8-a217-192298769643",
   "metadata": {},
   "outputs": [
    {
     "data": {
      "text/plain": [
       "(nan, nan)"
      ]
     },
     "execution_count": 11,
     "metadata": {},
     "output_type": "execute_result"
    }
   ],
   "source": [
    "t_ser_ad, ser_ad "
   ]
  },
  {
   "cell_type": "markdown",
   "id": "8792d274-3d68-4c32-b805-37fee4990fe3",
   "metadata": {},
   "source": [
    "## save data"
   ]
  },
  {
   "cell_type": "code",
   "execution_count": 100,
   "id": "2aa1d2f3-6654-43b4-8d36-bf43a3239535",
   "metadata": {},
   "outputs": [],
   "source": [
    "logi = pd.read_csv(\"./OUTPUT_EXPLAIN.csv\", header = 0, index_col = 0 )"
   ]
  },
  {
   "cell_type": "code",
   "execution_count": null,
   "id": "061dffe8-9565-4653-b5c3-b92093b898c9",
   "metadata": {},
   "outputs": [],
   "source": []
  },
  {
   "cell_type": "code",
   "execution_count": 101,
   "id": "f54099da-0a04-4b8b-b5a0-78aae688c560",
   "metadata": {},
   "outputs": [],
   "source": [
    "total_sum_df.to_csv(\"./TCPS_seq_similarity_summary_df.csv\", header = True, index = True )"
   ]
  },
  {
   "cell_type": "code",
   "execution_count": 102,
   "id": "206f1481-60dc-4fc9-990e-06049632325c",
   "metadata": {},
   "outputs": [],
   "source": [
    "logi['TCPS_seq_similarity_summary_df.csv']  = ['5b' , 'NA' , 'Sequence similarity summary df including all conditions including controls']"
   ]
  },
  {
   "cell_type": "code",
   "execution_count": 103,
   "id": "aa2949fe-5415-41a8-b341-1d7371b4b771",
   "metadata": {},
   "outputs": [],
   "source": [
    "logi.to_csv(\"./OUTPUT_EXPLAIN.csv\", header = True, index = True )"
   ]
  },
  {
   "cell_type": "code",
   "execution_count": null,
   "id": "825d957a-de90-4ba9-b6a4-9ed00068a855",
   "metadata": {},
   "outputs": [],
   "source": []
  }
 ],
 "metadata": {
  "kernelspec": {
   "display_name": "qc_pipe",
   "language": "python",
   "name": "qc_pipe"
  },
  "language_info": {
   "codemirror_mode": {
    "name": "ipython",
    "version": 3
   },
   "file_extension": ".py",
   "mimetype": "text/x-python",
   "name": "python",
   "nbconvert_exporter": "python",
   "pygments_lexer": "ipython3",
   "version": "3.8.5"
  }
 },
 "nbformat": 4,
 "nbformat_minor": 5
}
