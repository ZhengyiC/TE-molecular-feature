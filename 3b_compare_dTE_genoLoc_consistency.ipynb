{
 "cells": [
  {
   "cell_type": "markdown",
   "id": "d207742e-b83d-4b92-8762-e740535bb4b1",
   "metadata": {},
   "source": [
    "## compare overlap between squire and telescope dTE results"
   ]
  },
  {
   "cell_type": "code",
   "execution_count": null,
   "id": "20fb79f8-0593-4ac9-9202-be5a671fc8d2",
   "metadata": {},
   "outputs": [],
   "source": []
  },
  {
   "cell_type": "code",
   "execution_count": 1,
   "id": "86e9da78-9482-475f-b3fb-5e5bd6bb9afa",
   "metadata": {},
   "outputs": [],
   "source": [
    "# import packages\n",
    "import pandas as pd\n",
    "import numpy as np\n",
    "import scanpy as sc\n",
    "import sys\n",
    "import os\n",
    "import seaborn as sn\n",
    "\n",
    "from matplotlib import pyplot as plt\n",
    "from matplotlib_venn import venn2"
   ]
  },
  {
   "cell_type": "code",
   "execution_count": 2,
   "id": "5a053e30-e6a7-46d2-9fd0-3c7bfd20992b",
   "metadata": {},
   "outputs": [],
   "source": [
    "sys.path.append(\"/home/lucy/Dropbox/turner_organoid_bulk_RNA_local/\")\n",
    "import zc_volcano"
   ]
  },
  {
   "cell_type": "code",
   "execution_count": 3,
   "id": "01005b73-e9b2-443e-8db5-ced31e5ee435",
   "metadata": {},
   "outputs": [],
   "source": [
    "import warnings\n",
    "warnings.filterwarnings( 'ignore' )"
   ]
  },
  {
   "cell_type": "code",
   "execution_count": 7,
   "id": "3e1529f4-be32-4d0a-ab4e-53947d8f3e75",
   "metadata": {},
   "outputs": [],
   "source": [
    "import pickle"
   ]
  },
  {
   "cell_type": "code",
   "execution_count": null,
   "id": "97447a8f-bd23-4dfe-8fbb-758a2c784251",
   "metadata": {},
   "outputs": [],
   "source": []
  },
  {
   "cell_type": "markdown",
   "id": "f6fcf628-15ab-4786-9df6-148d5a3e1afa",
   "metadata": {},
   "source": [
    "## load data"
   ]
  },
  {
   "cell_type": "code",
   "execution_count": 4,
   "id": "bd376884-e0bb-4c01-aede-744bcf1fc863",
   "metadata": {},
   "outputs": [],
   "source": [
    "squire_sig_up = pd.read_csv(\"./compare_dTE_overlap/squire_sig_up.csv\", header = 0, index_col= 0 )\n",
    "tele_sig_up = pd.read_csv(\"./compare_dTE_overlap/tele_sig_up.csv\", header=0, index_col = 0 )"
   ]
  },
  {
   "cell_type": "code",
   "execution_count": 5,
   "id": "355e3b4a-2404-41e4-940c-bfbbdb5bdf07",
   "metadata": {},
   "outputs": [
    {
     "data": {
      "text/html": [
       "<div>\n",
       "<style scoped>\n",
       "    .dataframe tbody tr th:only-of-type {\n",
       "        vertical-align: middle;\n",
       "    }\n",
       "\n",
       "    .dataframe tbody tr th {\n",
       "        vertical-align: top;\n",
       "    }\n",
       "\n",
       "    .dataframe thead th {\n",
       "        text-align: right;\n",
       "    }\n",
       "</style>\n",
       "<table border=\"1\" class=\"dataframe\">\n",
       "  <thead>\n",
       "    <tr style=\"text-align: right;\">\n",
       "      <th></th>\n",
       "      <th>TE_ID</th>\n",
       "      <th>baseMean</th>\n",
       "      <th>log2FoldChange</th>\n",
       "      <th>lfcSE</th>\n",
       "      <th>stat</th>\n",
       "      <th>pvalue</th>\n",
       "      <th>padj</th>\n",
       "      <th>element_type</th>\n",
       "      <th>TE_name</th>\n",
       "      <th>TE_index</th>\n",
       "      <th>repName</th>\n",
       "      <th>repFamily</th>\n",
       "      <th>repClass</th>\n",
       "      <th>genoName</th>\n",
       "      <th>genoStart</th>\n",
       "      <th>genoEnd</th>\n",
       "      <th>strand</th>\n",
       "    </tr>\n",
       "  </thead>\n",
       "  <tbody>\n",
       "    <tr>\n",
       "      <th>279_RLTR4_MM-int</th>\n",
       "      <td>chr7|116034016|116036134|RLTR4_MM-int:LTR:LTR|...</td>\n",
       "      <td>13.232138</td>\n",
       "      <td>7.261792</td>\n",
       "      <td>1.103073</td>\n",
       "      <td>6.583238</td>\n",
       "      <td>6.866753e-09</td>\n",
       "      <td>8.559487e-07</td>\n",
       "      <td>TE</td>\n",
       "      <td>RLTR4_MM-int:LTR:LTR</td>\n",
       "      <td>RLTR4_MM-int:LTR:LTR_33</td>\n",
       "      <td>RLTR4_MM-int</td>\n",
       "      <td>LTR</td>\n",
       "      <td>LTR</td>\n",
       "      <td>chr7</td>\n",
       "      <td>116034016</td>\n",
       "      <td>116036134</td>\n",
       "      <td>+</td>\n",
       "    </tr>\n",
       "    <tr>\n",
       "      <th>845_L1MC2</th>\n",
       "      <td>chr5|96975368|96975991|L1MC2:L1:LINE|284|-,.</td>\n",
       "      <td>84.993681</td>\n",
       "      <td>2.143785</td>\n",
       "      <td>0.213613</td>\n",
       "      <td>10.035838</td>\n",
       "      <td>4.290302e-08</td>\n",
       "      <td>4.946900e-06</td>\n",
       "      <td>TE</td>\n",
       "      <td>L1MC2:L1:LINE</td>\n",
       "      <td>L1MC2:L1:LINE_284</td>\n",
       "      <td>L1MC2</td>\n",
       "      <td>L1</td>\n",
       "      <td>LINE</td>\n",
       "      <td>chr5</td>\n",
       "      <td>96975368</td>\n",
       "      <td>96975991</td>\n",
       "      <td>-</td>\n",
       "    </tr>\n",
       "  </tbody>\n",
       "</table>\n",
       "</div>"
      ],
      "text/plain": [
       "                                                              TE_ID   \n",
       "279_RLTR4_MM-int  chr7|116034016|116036134|RLTR4_MM-int:LTR:LTR|...  \\\n",
       "845_L1MC2              chr5|96975368|96975991|L1MC2:L1:LINE|284|-,.   \n",
       "\n",
       "                   baseMean  log2FoldChange     lfcSE       stat   \n",
       "279_RLTR4_MM-int  13.232138        7.261792  1.103073   6.583238  \\\n",
       "845_L1MC2         84.993681        2.143785  0.213613  10.035838   \n",
       "\n",
       "                        pvalue          padj element_type   \n",
       "279_RLTR4_MM-int  6.866753e-09  8.559487e-07           TE  \\\n",
       "845_L1MC2         4.290302e-08  4.946900e-06           TE   \n",
       "\n",
       "                               TE_name                 TE_index       repName   \n",
       "279_RLTR4_MM-int  RLTR4_MM-int:LTR:LTR  RLTR4_MM-int:LTR:LTR_33  RLTR4_MM-int  \\\n",
       "845_L1MC2                L1MC2:L1:LINE        L1MC2:L1:LINE_284         L1MC2   \n",
       "\n",
       "                 repFamily repClass genoName  genoStart    genoEnd strand  \n",
       "279_RLTR4_MM-int       LTR      LTR     chr7  116034016  116036134      +  \n",
       "845_L1MC2               L1     LINE     chr5   96975368   96975991      -  "
      ]
     },
     "execution_count": 5,
     "metadata": {},
     "output_type": "execute_result"
    }
   ],
   "source": [
    "squire_sig_up.head(2)"
   ]
  },
  {
   "cell_type": "code",
   "execution_count": 6,
   "id": "f88035f8-91d0-4ab2-8cb8-332303558279",
   "metadata": {},
   "outputs": [
    {
     "data": {
      "text/html": [
       "<div>\n",
       "<style scoped>\n",
       "    .dataframe tbody tr th:only-of-type {\n",
       "        vertical-align: middle;\n",
       "    }\n",
       "\n",
       "    .dataframe tbody tr th {\n",
       "        vertical-align: top;\n",
       "    }\n",
       "\n",
       "    .dataframe thead th {\n",
       "        text-align: right;\n",
       "    }\n",
       "</style>\n",
       "<table border=\"1\" class=\"dataframe\">\n",
       "  <thead>\n",
       "    <tr style=\"text-align: right;\">\n",
       "      <th></th>\n",
       "      <th>transcript_id</th>\n",
       "      <th>baseMean</th>\n",
       "      <th>log2FoldChange</th>\n",
       "      <th>lfcSE</th>\n",
       "      <th>stat</th>\n",
       "      <th>pvalue</th>\n",
       "      <th>padj</th>\n",
       "      <th>repClass</th>\n",
       "      <th>repFamily</th>\n",
       "      <th>repName</th>\n",
       "      <th>name_fam</th>\n",
       "      <th>name_fam_class</th>\n",
       "      <th>genoName</th>\n",
       "      <th>genoStart</th>\n",
       "      <th>genoEnd</th>\n",
       "      <th>strand</th>\n",
       "    </tr>\n",
       "  </thead>\n",
       "  <tbody>\n",
       "    <tr>\n",
       "      <th>56475_B1F</th>\n",
       "      <td>B1F_354</td>\n",
       "      <td>33.036745</td>\n",
       "      <td>2.129803</td>\n",
       "      <td>0.305731</td>\n",
       "      <td>6.966267</td>\n",
       "      <td>3.254608e-12</td>\n",
       "      <td>4.160732e-10</td>\n",
       "      <td>SINE</td>\n",
       "      <td>Alu</td>\n",
       "      <td>B1F</td>\n",
       "      <td>B1F|Alu</td>\n",
       "      <td>B1F|Alu|SINE</td>\n",
       "      <td>chr1</td>\n",
       "      <td>36709993</td>\n",
       "      <td>36710089</td>\n",
       "      <td>+</td>\n",
       "    </tr>\n",
       "    <tr>\n",
       "      <th>56476_B1F</th>\n",
       "      <td>B1F_354</td>\n",
       "      <td>33.036745</td>\n",
       "      <td>2.129803</td>\n",
       "      <td>0.305731</td>\n",
       "      <td>6.966267</td>\n",
       "      <td>3.254608e-12</td>\n",
       "      <td>4.160732e-10</td>\n",
       "      <td>SINE</td>\n",
       "      <td>Alu</td>\n",
       "      <td>B1F</td>\n",
       "      <td>B1F|Alu</td>\n",
       "      <td>B1F|Alu|SINE</td>\n",
       "      <td>chr1</td>\n",
       "      <td>44956646</td>\n",
       "      <td>44956789</td>\n",
       "      <td>-</td>\n",
       "    </tr>\n",
       "  </tbody>\n",
       "</table>\n",
       "</div>"
      ],
      "text/plain": [
       "          transcript_id   baseMean  log2FoldChange     lfcSE      stat   \n",
       "56475_B1F       B1F_354  33.036745        2.129803  0.305731  6.966267  \\\n",
       "56476_B1F       B1F_354  33.036745        2.129803  0.305731  6.966267   \n",
       "\n",
       "                 pvalue          padj repClass repFamily repName name_fam   \n",
       "56475_B1F  3.254608e-12  4.160732e-10     SINE       Alu     B1F  B1F|Alu  \\\n",
       "56476_B1F  3.254608e-12  4.160732e-10     SINE       Alu     B1F  B1F|Alu   \n",
       "\n",
       "          name_fam_class genoName  genoStart   genoEnd strand  \n",
       "56475_B1F   B1F|Alu|SINE     chr1   36709993  36710089      +  \n",
       "56476_B1F   B1F|Alu|SINE     chr1   44956646  44956789      -  "
      ]
     },
     "execution_count": 6,
     "metadata": {},
     "output_type": "execute_result"
    }
   ],
   "source": [
    "tele_sig_up.head(2)"
   ]
  },
  {
   "cell_type": "code",
   "execution_count": 9,
   "id": "e14527e1-1f0b-43e6-a7ad-22f98ca79ae7",
   "metadata": {},
   "outputs": [],
   "source": [
    "with open( \"./compare_dTE_overlap/sig_up_hit_dict.pkl\", 'rb') as f:\n",
    "    hit_dict = pickle.load(f)"
   ]
  },
  {
   "cell_type": "code",
   "execution_count": 10,
   "id": "b55e9c78-23df-4135-b3ea-39c0ac66f970",
   "metadata": {
    "collapsed": true,
    "jupyter": {
     "outputs_hidden": true
    }
   },
   "outputs": [
    {
     "data": {
      "text/plain": [
       "{'279_RLTR4_MM-int': ['2320117_RLTR4_MM-int'],\n",
       " '1028_RMER17B2': ['2356998_RMER17B2'],\n",
       " '1604_RLTR4_MM-int': ['2320303_RLTR4_MM-int'],\n",
       " '1762_RLTR4_MM-int': ['2319979_RLTR4_MM-int'],\n",
       " '1780_RLTR4_MM-int': ['2325657_RLTR4_MM-int'],\n",
       " '1837_RLTR4_MM-int': ['2320089_RLTR4_MM-int'],\n",
       " '1891_RLTR4_MM-int': ['2319751_RLTR4_MM-int'],\n",
       " '1936_RLTR4_MM-int': ['2325652_RLTR4_MM-int'],\n",
       " '2187_RLTR4_MM-int': ['2320293_RLTR4_MM-int'],\n",
       " '2240_IAPEz-int': ['966380_IAPEz-int'],\n",
       " '2730_MMVL30-int': ['1739788_MMVL30-int'],\n",
       " '3348_RLTR4_MM-int': ['2319919_RLTR4_MM-int'],\n",
       " '3390_MMVL30-int': ['1739409_MMVL30-int'],\n",
       " '4128_RLTR4_MM-int': ['2320408_RLTR4_MM-int'],\n",
       " '4915_RLTR4_MM-int': ['2320016_RLTR4_MM-int'],\n",
       " '5525_IAPLTR1_Mm': ['970991_IAPLTR1_Mm'],\n",
       " '5634_RLTR4_Mm': ['2326647_RLTR4_Mm'],\n",
       " '5858_RLTR4_MM-int': ['2320166_RLTR4_MM-int'],\n",
       " '5984_RLTR4_MM-int': ['2320306_RLTR4_MM-int'],\n",
       " '6106_RLTR4_Mm': ['2326648_RLTR4_Mm'],\n",
       " '6228_RLTR4_MM-int': ['2324932_RLTR4_MM-int'],\n",
       " '6296_IAPEY4_I': ['963904_IAPEY4_I'],\n",
       " '6894_L1MC5a': ['1241523_L1MC5a'],\n",
       " '7047_RLTR4_MM-int': ['2325809_RLTR4_MM-int'],\n",
       " '7138_RLTR4_MM-int': ['2319513_RLTR4_MM-int'],\n",
       " '7290_RLTR4_MM-int': ['2325648_RLTR4_MM-int'],\n",
       " '7627_IAPEY4_I': ['963903_IAPEY4_I'],\n",
       " '7895_RLTR4_MM-int': ['2321363_RLTR4_MM-int'],\n",
       " '8033_RLTR4_MM-int': ['2325620_RLTR4_MM-int'],\n",
       " '8370_L1MdA_III': ['1262112_L1MdA_III'],\n",
       " '8373_RLTR4_MM-int': ['2319763_RLTR4_MM-int'],\n",
       " '8873_IAPLTR1a_Mm': ['973748_IAPLTR1a_Mm'],\n",
       " '9145_RLTR4_Mm': ['2326618_RLTR4_Mm'],\n",
       " '9437_RLTR4_MM-int': ['2322673_RLTR4_MM-int'],\n",
       " '9492_B2_Mm2': ['496411_B2_Mm2'],\n",
       " '9629_RLTR6_Mm': ['2330685_RLTR6_Mm'],\n",
       " '10869_RLTR4_MM-int': ['2325680_RLTR4_MM-int'],\n",
       " '11074_RLTR4_MM-int': ['2319924_RLTR4_MM-int'],\n",
       " '11081_L1MdGf_II': ['1300865_L1MdGf_II'],\n",
       " '11292_RLTR4_Mm': ['2326667_RLTR4_Mm'],\n",
       " '12019_Tigger18a': ['2485060_Tigger18a'],\n",
       " '12106_MT2B1': ['1744187_MT2B1'],\n",
       " '12235_RLTR4_MM-int': ['2319921_RLTR4_MM-int'],\n",
       " '12455_RLTR4_Mm': ['2326666_RLTR4_Mm'],\n",
       " '12535_IAPEz-int': ['966553_IAPEz-int'],\n",
       " '12794_MMVL30-int': ['1739626_MMVL30-int'],\n",
       " '12940_RLTR6_Mm': ['2330549_RLTR6_Mm'],\n",
       " '13050_RLTR4_MM-int': ['2325005_RLTR4_MM-int'],\n",
       " '13166_IAPLTR1_Mm': ['970990_IAPLTR1_Mm'],\n",
       " '13909_IAPEz-int': ['970277_IAPEz-int'],\n",
       " '14539_RLTR4_Mm': ['2326598_RLTR4_Mm'],\n",
       " '15085_RLTR4_MM-int': ['2322949_RLTR4_MM-int']}"
      ]
     },
     "execution_count": 10,
     "metadata": {},
     "output_type": "execute_result"
    }
   ],
   "source": [
    "hit_dict"
   ]
  },
  {
   "cell_type": "code",
   "execution_count": null,
   "id": "a9f597d2-91dd-4a76-9225-393da3945abb",
   "metadata": {},
   "outputs": [],
   "source": []
  },
  {
   "cell_type": "code",
   "execution_count": null,
   "id": "e9f0fa36-4949-4fe9-9786-bb2c80833a74",
   "metadata": {},
   "outputs": [],
   "source": []
  },
  {
   "cell_type": "markdown",
   "id": "7d4bc202-21e4-43b4-a7f6-8cb0d7ff9257",
   "metadata": {},
   "source": [
    "## label overlapped sequences in the sig up dfs"
   ]
  },
  {
   "cell_type": "code",
   "execution_count": null,
   "id": "9b06fa24-0906-4b6b-9695-553a61d0f624",
   "metadata": {},
   "outputs": [],
   "source": []
  }
 ],
 "metadata": {
  "kernelspec": {
   "display_name": "qc_pipe",
   "language": "python",
   "name": "qc_pipe"
  },
  "language_info": {
   "codemirror_mode": {
    "name": "ipython",
    "version": 3
   },
   "file_extension": ".py",
   "mimetype": "text/x-python",
   "name": "python",
   "nbconvert_exporter": "python",
   "pygments_lexer": "ipython3",
   "version": "3.8.5"
  }
 },
 "nbformat": 4,
 "nbformat_minor": 5
}
