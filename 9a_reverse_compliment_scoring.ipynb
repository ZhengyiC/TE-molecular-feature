{
 "cells": [
  {
   "cell_type": "markdown",
   "id": "5b07453b-b750-400c-bf68-57c9c37d09d8",
   "metadata": {},
   "source": [
    "# This notebook tests the implement of reverse compliment and reverse sequence similarity score and generate new fasta files with the rv and rv-comp sequences"
   ]
  },
  {
   "cell_type": "code",
   "execution_count": 1,
   "id": "852db2a2-743e-4511-9c95-f8249200e1e8",
   "metadata": {},
   "outputs": [
    {
     "name": "stderr",
     "output_type": "stream",
     "text": [
      "/home/lucy/anaconda3/envs/qc_pipe/lib/python3.8/site-packages/Bio/pairwise2.py:278: BiopythonDeprecationWarning: Bio.pairwise2 has been deprecated, and we intend to remove it in a future release of Biopython. As an alternative, please consider using Bio.Align.PairwiseAligner as a replacement, and contact the Biopython developers if you still need the Bio.pairwise2 module.\n",
      "  warnings.warn(\n"
     ]
    }
   ],
   "source": [
    "# sequence analysis\n",
    "from pyfaidx import Fasta\n",
    "from Bio.Seq import Seq\n",
    "from Bio import SeqIO, pairwise2"
   ]
  },
  {
   "cell_type": "code",
   "execution_count": 2,
   "id": "a9a3945e-573b-4940-8cde-f1813c9e8b25",
   "metadata": {},
   "outputs": [],
   "source": [
    "import Bio"
   ]
  },
  {
   "cell_type": "code",
   "execution_count": 3,
   "id": "b597f162-6643-4b53-a2eb-52e07e599017",
   "metadata": {},
   "outputs": [],
   "source": [
    "import pandas as pd\n",
    "import numpy as np\n",
    "import seaborn as sn\n",
    "import matplotlib.pyplot as plt\n",
    "import os"
   ]
  },
  {
   "cell_type": "code",
   "execution_count": 4,
   "id": "844a07a3-d6d7-4004-b775-a1529c047530",
   "metadata": {},
   "outputs": [],
   "source": [
    "from matplotlib.patches import Patch"
   ]
  },
  {
   "cell_type": "code",
   "execution_count": 5,
   "id": "8e0aac45-21fe-4c3f-83b4-86eedc00d07a",
   "metadata": {},
   "outputs": [],
   "source": [
    "import sequence_comparison as seqComp"
   ]
  },
  {
   "cell_type": "code",
   "execution_count": 6,
   "id": "841b4f44-094d-4f06-9d37-aa5f3d5c43c3",
   "metadata": {},
   "outputs": [],
   "source": [
    "from math import comb"
   ]
  },
  {
   "cell_type": "code",
   "execution_count": 7,
   "id": "46e4fd51-77c2-403c-9546-1346b9e9480e",
   "metadata": {},
   "outputs": [
    {
     "data": {
      "text/plain": [
       "'1.83'"
      ]
     },
     "execution_count": 7,
     "metadata": {},
     "output_type": "execute_result"
    }
   ],
   "source": [
    "Bio.__version__"
   ]
  },
  {
   "cell_type": "code",
   "execution_count": 8,
   "id": "d0e95aec-c7f1-4b4c-b2f3-bf56694a434d",
   "metadata": {},
   "outputs": [],
   "source": [
    "import time\n",
    "import gc"
   ]
  },
  {
   "cell_type": "markdown",
   "id": "a379002b-64fb-4850-9c2b-b2961be137b6",
   "metadata": {},
   "source": [
    "## load data"
   ]
  },
  {
   "cell_type": "code",
   "execution_count": 9,
   "id": "ac11497d-d61b-4825-a947-08120e973920",
   "metadata": {},
   "outputs": [],
   "source": [
    "genome_fasta = \"/home/lucy/Dropbox/human_ref_genome/hg38_grch38/hg38.fa\""
   ]
  },
  {
   "cell_type": "code",
   "execution_count": 26,
   "id": "555842ac-34f5-4a9b-a8d8-d7107d79dffa",
   "metadata": {},
   "outputs": [],
   "source": [
    "extract_fasta_result_dir = './sequence_similarity_input/'"
   ]
  },
  {
   "cell_type": "code",
   "execution_count": 11,
   "id": "0cf9279a-3730-473c-97d5-29f3f52c101d",
   "metadata": {},
   "outputs": [],
   "source": [
    "tcps_indiv = pd.read_csv(\"./genoLoc_TCPS_Deseq_indiv_locus_result.csv\" , header = 0, index_col = 0 )"
   ]
  },
  {
   "cell_type": "code",
   "execution_count": null,
   "id": "22aec936-f95e-4b5d-af5f-2bad4be6250a",
   "metadata": {},
   "outputs": [],
   "source": []
  },
  {
   "cell_type": "markdown",
   "id": "2f31d8b3-62fa-4230-ad28-991709f11016",
   "metadata": {
    "jp-MarkdownHeadingCollapsed": true
   },
   "source": [
    "## test small sequences\n",
    "- pass the test"
   ]
  },
  {
   "cell_type": "code",
   "execution_count": 10,
   "id": "433ec8f2-65f1-42a5-9632-1fc8f9cbb72d",
   "metadata": {},
   "outputs": [
    {
     "data": {
      "text/plain": [
       "4.222222222222222"
      ]
     },
     "execution_count": 10,
     "metadata": {},
     "output_type": "execute_result"
    }
   ],
   "source": [
    "ncr_10 = comb( 10, 2)\n",
    "ncr_20 = comb( 20, 2)\n",
    "\n",
    "ncr_20 / ncr_10"
   ]
  },
  {
   "cell_type": "code",
   "execution_count": 54,
   "id": "d5696371-bfd7-47fa-8074-4fdfdf6884b9",
   "metadata": {},
   "outputs": [],
   "source": [
    "seq0 = 'ATTTCGGAAAATTTGG'\n",
    "seq0b = Seq(seq0)"
   ]
  },
  {
   "cell_type": "code",
   "execution_count": 55,
   "id": "465929f0-d5b7-4c91-b44a-0356a025867c",
   "metadata": {},
   "outputs": [],
   "source": [
    "seq1 = seq0b.complement()\n",
    "seq2 = seq0b.reverse_complement()"
   ]
  },
  {
   "cell_type": "code",
   "execution_count": 56,
   "id": "a4a95065-727a-4186-ae3c-a4263c8948ce",
   "metadata": {},
   "outputs": [
    {
     "name": "stdout",
     "output_type": "stream",
     "text": [
      "ATTTCGGAAAATTTGG\n",
      "TAAAGCCTTTTAAACC\n",
      "CCAAATTTTCCGAAAT\n"
     ]
    }
   ],
   "source": [
    "print( seq0b)\n",
    "print( seq1)\n",
    "print( seq2)"
   ]
  },
  {
   "cell_type": "code",
   "execution_count": null,
   "id": "9c8d57dd-2476-48ca-b109-24f170ea3d89",
   "metadata": {},
   "outputs": [],
   "source": []
  },
  {
   "cell_type": "markdown",
   "id": "270c3085-b821-4182-86c5-7bb3824ef928",
   "metadata": {},
   "source": [
    "make compliment but not rerverse"
   ]
  },
  {
   "cell_type": "code",
   "execution_count": 35,
   "id": "0cce7d9f-d436-4846-a9ca-03454397e630",
   "metadata": {},
   "outputs": [
    {
     "data": {
      "text/plain": [
       "Seq('TAAAGCCTTTTAAACC')"
      ]
     },
     "execution_count": 35,
     "metadata": {},
     "output_type": "execute_result"
    }
   ],
   "source": [
    "seq2 = Seq( seq0).complement()\n",
    "seq2"
   ]
  },
  {
   "cell_type": "code",
   "execution_count": null,
   "id": "198bd0e0-827e-4a63-af4f-2b95bf71f396",
   "metadata": {},
   "outputs": [],
   "source": []
  },
  {
   "cell_type": "markdown",
   "id": "14671fbc-36b6-403d-bc22-da73eb554286",
   "metadata": {},
   "source": [
    "make reverse but not compliment"
   ]
  },
  {
   "cell_type": "code",
   "execution_count": 36,
   "id": "88cb8c51-c012-446b-a1dc-7332e9762b14",
   "metadata": {},
   "outputs": [
    {
     "data": {
      "text/plain": [
       "Seq('GGTTTAAAAGGCTTTA')"
      ]
     },
     "execution_count": 36,
     "metadata": {},
     "output_type": "execute_result"
    }
   ],
   "source": [
    "seq3 = seq2.reverse_complement()\n",
    "seq3"
   ]
  },
  {
   "cell_type": "code",
   "execution_count": null,
   "id": "ec5197e2-48ec-4048-aefb-152c91ec83ab",
   "metadata": {},
   "outputs": [],
   "source": []
  },
  {
   "cell_type": "markdown",
   "id": "6b38e305-2d78-40a3-8573-b6fcec94f9c4",
   "metadata": {
    "jp-MarkdownHeadingCollapsed": true
   },
   "source": [
    "## test seq from genome"
   ]
  },
  {
   "cell_type": "code",
   "execution_count": 7,
   "id": "c6d3d983-b52e-43d3-8627-15b081323e28",
   "metadata": {},
   "outputs": [],
   "source": [
    "genome_fasta = \"/home/lucy/Dropbox/human_ref_genome/hg38_grch38/hg38.fa\""
   ]
  },
  {
   "cell_type": "code",
   "execution_count": 40,
   "id": "4f1c2a0a-56f6-45a1-afd7-2d7ddb018e3c",
   "metadata": {},
   "outputs": [],
   "source": [
    "genome = Fasta(genome_fasta)"
   ]
  },
  {
   "cell_type": "code",
   "execution_count": 45,
   "id": "8adde886-f5ae-4f95-b0db-198bb5cf5d69",
   "metadata": {},
   "outputs": [],
   "source": [
    "seq0 = genome[1][28335030:28335040].seq"
   ]
  },
  {
   "cell_type": "code",
   "execution_count": 46,
   "id": "f0a8a9d2-c2b7-4f5d-a481-4160eb045320",
   "metadata": {},
   "outputs": [
    {
     "data": {
      "text/plain": [
       "'ctgtcatccg'"
      ]
     },
     "execution_count": 46,
     "metadata": {},
     "output_type": "execute_result"
    }
   ],
   "source": [
    "seq0"
   ]
  },
  {
   "cell_type": "code",
   "execution_count": null,
   "id": "72d8749a-fd24-40c8-bed7-c38686ff1cf3",
   "metadata": {},
   "outputs": [],
   "source": []
  },
  {
   "cell_type": "markdown",
   "id": "2bd44379-77f5-4a0a-b2a9-0bb31b1139cd",
   "metadata": {},
   "source": [
    "## test the updated seqComp function for sequence extraction\n",
    "- pass the test"
   ]
  },
  {
   "cell_type": "code",
   "execution_count": null,
   "id": "5d0aa6c4-a52d-40f9-9e78-e08ec0dd6ce4",
   "metadata": {},
   "outputs": [],
   "source": []
  },
  {
   "cell_type": "code",
   "execution_count": null,
   "id": "e8e0d738-88db-47b8-88c4-20d76c0a03e5",
   "metadata": {},
   "outputs": [],
   "source": []
  },
  {
   "cell_type": "code",
   "execution_count": 12,
   "id": "48b44673-5991-43c4-9621-ee161c7a1f17",
   "metadata": {},
   "outputs": [
    {
     "data": {
      "text/html": [
       "<div>\n",
       "<style scoped>\n",
       "    .dataframe tbody tr th:only-of-type {\n",
       "        vertical-align: middle;\n",
       "    }\n",
       "\n",
       "    .dataframe tbody tr th {\n",
       "        vertical-align: top;\n",
       "    }\n",
       "\n",
       "    .dataframe thead th {\n",
       "        text-align: right;\n",
       "    }\n",
       "</style>\n",
       "<table border=\"1\" class=\"dataframe\">\n",
       "  <thead>\n",
       "    <tr style=\"text-align: right;\">\n",
       "      <th></th>\n",
       "      <th>TE name</th>\n",
       "      <th>baseMean</th>\n",
       "      <th>log2FoldChange</th>\n",
       "      <th>lfcSE</th>\n",
       "      <th>stat</th>\n",
       "      <th>pvalue</th>\n",
       "      <th>padj</th>\n",
       "      <th>genoName</th>\n",
       "      <th>genoStart</th>\n",
       "      <th>genoEnd</th>\n",
       "      <th>strand</th>\n",
       "      <th>seqLen</th>\n",
       "      <th>absolute_LFC</th>\n",
       "    </tr>\n",
       "  </thead>\n",
       "  <tbody>\n",
       "    <tr>\n",
       "      <th>2361</th>\n",
       "      <td>MIRb_2591</td>\n",
       "      <td>21.977249</td>\n",
       "      <td>2.001854</td>\n",
       "      <td>0.495015</td>\n",
       "      <td>4.044027</td>\n",
       "      <td>0.000053</td>\n",
       "      <td>0.008073</td>\n",
       "      <td>chr1</td>\n",
       "      <td>21875471</td>\n",
       "      <td>21875616</td>\n",
       "      <td>-</td>\n",
       "      <td>145.0</td>\n",
       "      <td>2.001854</td>\n",
       "    </tr>\n",
       "    <tr>\n",
       "      <th>2983</th>\n",
       "      <td>MIRb_3645</td>\n",
       "      <td>10.310570</td>\n",
       "      <td>2.238395</td>\n",
       "      <td>0.535974</td>\n",
       "      <td>4.176310</td>\n",
       "      <td>0.000030</td>\n",
       "      <td>0.005203</td>\n",
       "      <td>chr1</td>\n",
       "      <td>26188068</td>\n",
       "      <td>26188211</td>\n",
       "      <td>+</td>\n",
       "      <td>143.0</td>\n",
       "      <td>2.238395</td>\n",
       "    </tr>\n",
       "    <tr>\n",
       "      <th>2992</th>\n",
       "      <td>LTR10A_6</td>\n",
       "      <td>7.215176</td>\n",
       "      <td>4.566861</td>\n",
       "      <td>1.173587</td>\n",
       "      <td>3.891371</td>\n",
       "      <td>0.000100</td>\n",
       "      <td>0.013165</td>\n",
       "      <td>chr1</td>\n",
       "      <td>26268832</td>\n",
       "      <td>26269405</td>\n",
       "      <td>+</td>\n",
       "      <td>573.0</td>\n",
       "      <td>4.566861</td>\n",
       "    </tr>\n",
       "    <tr>\n",
       "      <th>3068</th>\n",
       "      <td>MIR_2537</td>\n",
       "      <td>1.101041</td>\n",
       "      <td>3.860287</td>\n",
       "      <td>1.037415</td>\n",
       "      <td>3.721063</td>\n",
       "      <td>0.000198</td>\n",
       "      <td>0.022386</td>\n",
       "      <td>chr1</td>\n",
       "      <td>26554369</td>\n",
       "      <td>26554498</td>\n",
       "      <td>+</td>\n",
       "      <td>129.0</td>\n",
       "      <td>3.860287</td>\n",
       "    </tr>\n",
       "    <tr>\n",
       "      <th>3286</th>\n",
       "      <td>AluSp_907</td>\n",
       "      <td>2.735933</td>\n",
       "      <td>3.134858</td>\n",
       "      <td>0.762647</td>\n",
       "      <td>4.110499</td>\n",
       "      <td>0.000039</td>\n",
       "      <td>0.006472</td>\n",
       "      <td>chr1</td>\n",
       "      <td>27730174</td>\n",
       "      <td>27730485</td>\n",
       "      <td>-</td>\n",
       "      <td>311.0</td>\n",
       "      <td>3.134858</td>\n",
       "    </tr>\n",
       "  </tbody>\n",
       "</table>\n",
       "</div>"
      ],
      "text/plain": [
       "        TE name   baseMean  log2FoldChange     lfcSE      stat    pvalue   \n",
       "2361  MIRb_2591  21.977249        2.001854  0.495015  4.044027  0.000053  \\\n",
       "2983  MIRb_3645  10.310570        2.238395  0.535974  4.176310  0.000030   \n",
       "2992   LTR10A_6   7.215176        4.566861  1.173587  3.891371  0.000100   \n",
       "3068   MIR_2537   1.101041        3.860287  1.037415  3.721063  0.000198   \n",
       "3286  AluSp_907   2.735933        3.134858  0.762647  4.110499  0.000039   \n",
       "\n",
       "          padj genoName  genoStart   genoEnd strand  seqLen  absolute_LFC  \n",
       "2361  0.008073     chr1   21875471  21875616      -   145.0      2.001854  \n",
       "2983  0.005203     chr1   26188068  26188211      +   143.0      2.238395  \n",
       "2992  0.013165     chr1   26268832  26269405      +   573.0      4.566861  \n",
       "3068  0.022386     chr1   26554369  26554498      +   129.0      3.860287  \n",
       "3286  0.006472     chr1   27730174  27730485      -   311.0      3.134858  "
      ]
     },
     "execution_count": 12,
     "metadata": {},
     "output_type": "execute_result"
    }
   ],
   "source": [
    "tcps_indiv.head()"
   ]
  },
  {
   "cell_type": "code",
   "execution_count": 13,
   "id": "c8492c4d-9a3e-4709-912b-f6944b2a4c75",
   "metadata": {},
   "outputs": [],
   "source": [
    "region_df_cols = [ 'genoName', 'genoStart', 'genoEnd', 'strand', 'TE name'] "
   ]
  },
  {
   "cell_type": "code",
   "execution_count": null,
   "id": "bfc169c3-942c-4868-a08c-2b0777dbe83b",
   "metadata": {},
   "outputs": [],
   "source": []
  },
  {
   "cell_type": "code",
   "execution_count": 14,
   "id": "907e6885-bcba-40b9-bfe6-af33de057e68",
   "metadata": {},
   "outputs": [
    {
     "name": "stdout",
     "output_type": "stream",
     "text": [
      "✅ Extracted sequences saved to: ./sequence_similarity_input/test_rv_com_self.fasta\n"
     ]
    }
   ],
   "source": [
    "seqComp.extract_ucsc_bedlike_regions( genome_fasta= genome_fasta,\n",
    "                                     regions_df=tcps_indiv[region_df_cols].head(),\n",
    "                                     output_fasta= extract_fasta_result_dir + 'test_rv_com_self.fasta' ,\n",
    "                                     score_reverse_compliment= True ) "
   ]
  },
  {
   "cell_type": "code",
   "execution_count": null,
   "id": "b2e8c55a-a542-4aa0-9e47-f486019f9c53",
   "metadata": {},
   "outputs": [],
   "source": []
  },
  {
   "cell_type": "code",
   "execution_count": null,
   "id": "e742ef8f-90fa-4b87-ab9b-56f9588c1ef1",
   "metadata": {},
   "outputs": [],
   "source": []
  },
  {
   "cell_type": "markdown",
   "id": "c373bbaf-0a02-4ec3-9612-a1994098170c",
   "metadata": {},
   "source": [
    "### score the test case"
   ]
  },
  {
   "cell_type": "code",
   "execution_count": 15,
   "id": "d6cbd864-b4e8-4885-8df4-193af0302f08",
   "metadata": {},
   "outputs": [],
   "source": [
    "f = extract_fasta_result_dir + 'test_rv_com_self.fasta'"
   ]
  },
  {
   "cell_type": "code",
   "execution_count": 16,
   "id": "98965a92-e70c-4ad4-9209-5f64a1471740",
   "metadata": {},
   "outputs": [
    {
     "name": "stdout",
     "output_type": "stream",
     "text": [
      "Loaded 15 sequences from ./sequence_similarity_input/test_rv_com_self.fasta\n",
      "Average identity: 43.52% ± 14.57%\n",
      "Time used: 0.0 min\n"
     ]
    }
   ],
   "source": [
    "TIME_S = time.time()\n",
    "seqComp.process_group(f, out_dir=\"sequence_similarity_results\", n_jobs=4,plot_heatmap=True )\n",
    "TIME_E = time.time()\n",
    "TOTAL_TIME = (TIME_E - TIME_S)/60\n",
    "print( f\"Time used: {TOTAL_TIME:.1f} min\" )"
   ]
  },
  {
   "cell_type": "code",
   "execution_count": 18,
   "id": "eaaac762-94e8-42c6-a71c-8e833ee9116c",
   "metadata": {},
   "outputs": [
    {
     "data": {
      "text/plain": [
       "435"
      ]
     },
     "execution_count": 18,
     "metadata": {},
     "output_type": "execute_result"
    }
   ],
   "source": [
    "comb( 30, 2)"
   ]
  },
  {
   "cell_type": "code",
   "execution_count": null,
   "id": "e30b9715-d4f7-404a-bfe8-10ac9b8ffc0b",
   "metadata": {},
   "outputs": [],
   "source": []
  },
  {
   "cell_type": "code",
   "execution_count": null,
   "id": "f13828bf-6d5f-4b90-94e2-298a2c588563",
   "metadata": {},
   "outputs": [],
   "source": []
  },
  {
   "cell_type": "code",
   "execution_count": null,
   "id": "7d9541b3-dcbb-4dab-928b-256e10e4b528",
   "metadata": {},
   "outputs": [],
   "source": []
  },
  {
   "cell_type": "code",
   "execution_count": null,
   "id": "9d60c98b-a419-4213-acc7-b793ccbae12e",
   "metadata": {},
   "outputs": [],
   "source": []
  },
  {
   "cell_type": "markdown",
   "id": "6ababc43-acd7-440d-951a-bd51e6d17fef",
   "metadata": {},
   "source": [
    "## generate new fastqs from mouse data ( squire quantified)"
   ]
  },
  {
   "cell_type": "markdown",
   "id": "c9cb8562-b8a9-44c8-b923-ef592b1dc317",
   "metadata": {},
   "source": [
    "### load and prepare input data"
   ]
  },
  {
   "cell_type": "code",
   "execution_count": null,
   "id": "3d3a441e-2ae6-4bd1-8ad3-7b4dc14d97d9",
   "metadata": {},
   "outputs": [],
   "source": []
  },
  {
   "cell_type": "code",
   "execution_count": 9,
   "id": "743b91a4-3c36-4b9c-9169-eae06dedfaf7",
   "metadata": {},
   "outputs": [],
   "source": [
    "squire_indiv = pd.read_csv(\"/home/lucy/Dropbox/turner_organoid_bulk_RNA_local/Deseq_indiv_dTE_results.csv\", header = 0, index_col = 0 )"
   ]
  },
  {
   "cell_type": "code",
   "execution_count": 10,
   "id": "0ff339c2-bb41-486c-be7a-92eda1288fbd",
   "metadata": {},
   "outputs": [
    {
     "data": {
      "text/html": [
       "<div>\n",
       "<style scoped>\n",
       "    .dataframe tbody tr th:only-of-type {\n",
       "        vertical-align: middle;\n",
       "    }\n",
       "\n",
       "    .dataframe tbody tr th {\n",
       "        vertical-align: top;\n",
       "    }\n",
       "\n",
       "    .dataframe thead th {\n",
       "        text-align: right;\n",
       "    }\n",
       "</style>\n",
       "<table border=\"1\" class=\"dataframe\">\n",
       "  <thead>\n",
       "    <tr style=\"text-align: right;\">\n",
       "      <th></th>\n",
       "      <th>TE_ID</th>\n",
       "      <th>baseMean</th>\n",
       "      <th>log2FoldChange</th>\n",
       "      <th>lfcSE</th>\n",
       "      <th>stat</th>\n",
       "      <th>pvalue</th>\n",
       "      <th>padj</th>\n",
       "      <th>element_type</th>\n",
       "      <th>TE_name</th>\n",
       "      <th>TE_index</th>\n",
       "      <th>repName</th>\n",
       "      <th>repFamily</th>\n",
       "      <th>repClass</th>\n",
       "      <th>genoName</th>\n",
       "      <th>genoStart</th>\n",
       "      <th>genoEnd</th>\n",
       "      <th>strand</th>\n",
       "    </tr>\n",
       "  </thead>\n",
       "  <tbody>\n",
       "    <tr>\n",
       "      <th>0</th>\n",
       "      <td>chr13|73480020|73480091|PB1D9:Alu:SINE|268|-,.</td>\n",
       "      <td>9.000885</td>\n",
       "      <td>-0.489762</td>\n",
       "      <td>0.629289</td>\n",
       "      <td>-0.778278</td>\n",
       "      <td>0.800222</td>\n",
       "      <td>1.0</td>\n",
       "      <td>TE</td>\n",
       "      <td>PB1D9:Alu:SINE</td>\n",
       "      <td>PB1D9:Alu:SINE_268</td>\n",
       "      <td>PB1D9</td>\n",
       "      <td>Alu</td>\n",
       "      <td>SINE</td>\n",
       "      <td>chr13</td>\n",
       "      <td>73480020</td>\n",
       "      <td>73480091</td>\n",
       "      <td>-</td>\n",
       "    </tr>\n",
       "    <tr>\n",
       "      <th>1</th>\n",
       "      <td>chr5|117467874|117468005|RSINE1:B4:SINE|183|-,.</td>\n",
       "      <td>0.730917</td>\n",
       "      <td>-2.916743</td>\n",
       "      <td>3.081604</td>\n",
       "      <td>-0.946502</td>\n",
       "      <td>0.368835</td>\n",
       "      <td>1.0</td>\n",
       "      <td>TE</td>\n",
       "      <td>RSINE1:B4:SINE</td>\n",
       "      <td>RSINE1:B4:SINE_183</td>\n",
       "      <td>RSINE1</td>\n",
       "      <td>B4</td>\n",
       "      <td>SINE</td>\n",
       "      <td>chr5</td>\n",
       "      <td>117467874</td>\n",
       "      <td>117468005</td>\n",
       "      <td>-</td>\n",
       "    </tr>\n",
       "    <tr>\n",
       "      <th>2</th>\n",
       "      <td>chr3|96619212|96619284|ID4:ID:SINE|194|+,.</td>\n",
       "      <td>5.772588</td>\n",
       "      <td>0.121464</td>\n",
       "      <td>0.852163</td>\n",
       "      <td>0.142536</td>\n",
       "      <td>0.942801</td>\n",
       "      <td>1.0</td>\n",
       "      <td>TE</td>\n",
       "      <td>ID4:ID:SINE</td>\n",
       "      <td>ID4:ID:SINE_194</td>\n",
       "      <td>ID4</td>\n",
       "      <td>ID</td>\n",
       "      <td>SINE</td>\n",
       "      <td>chr3</td>\n",
       "      <td>96619212</td>\n",
       "      <td>96619284</td>\n",
       "      <td>+</td>\n",
       "    </tr>\n",
       "    <tr>\n",
       "      <th>3</th>\n",
       "      <td>chr15|93388865|93388965|PB1:Alu:SINE|227|-,.</td>\n",
       "      <td>32.028966</td>\n",
       "      <td>-0.216654</td>\n",
       "      <td>0.390147</td>\n",
       "      <td>-0.555314</td>\n",
       "      <td>0.978578</td>\n",
       "      <td>1.0</td>\n",
       "      <td>TE</td>\n",
       "      <td>PB1:Alu:SINE</td>\n",
       "      <td>PB1:Alu:SINE_227</td>\n",
       "      <td>PB1</td>\n",
       "      <td>Alu</td>\n",
       "      <td>SINE</td>\n",
       "      <td>chr15</td>\n",
       "      <td>93388865</td>\n",
       "      <td>93388965</td>\n",
       "      <td>-</td>\n",
       "    </tr>\n",
       "    <tr>\n",
       "      <th>4</th>\n",
       "      <td>chr11|94175967|94176153|B2_Mm2:B2:SINE|98|-,.</td>\n",
       "      <td>7.127690</td>\n",
       "      <td>0.305487</td>\n",
       "      <td>0.591882</td>\n",
       "      <td>0.516129</td>\n",
       "      <td>0.893386</td>\n",
       "      <td>1.0</td>\n",
       "      <td>TE</td>\n",
       "      <td>B2_Mm2:B2:SINE</td>\n",
       "      <td>B2_Mm2:B2:SINE_98</td>\n",
       "      <td>B2_Mm2</td>\n",
       "      <td>B2</td>\n",
       "      <td>SINE</td>\n",
       "      <td>chr11</td>\n",
       "      <td>94175967</td>\n",
       "      <td>94176153</td>\n",
       "      <td>-</td>\n",
       "    </tr>\n",
       "  </tbody>\n",
       "</table>\n",
       "</div>"
      ],
      "text/plain": [
       "                                             TE_ID   baseMean  log2FoldChange   \n",
       "0   chr13|73480020|73480091|PB1D9:Alu:SINE|268|-,.   9.000885       -0.489762  \\\n",
       "1  chr5|117467874|117468005|RSINE1:B4:SINE|183|-,.   0.730917       -2.916743   \n",
       "2       chr3|96619212|96619284|ID4:ID:SINE|194|+,.   5.772588        0.121464   \n",
       "3     chr15|93388865|93388965|PB1:Alu:SINE|227|-,.  32.028966       -0.216654   \n",
       "4    chr11|94175967|94176153|B2_Mm2:B2:SINE|98|-,.   7.127690        0.305487   \n",
       "\n",
       "      lfcSE      stat    pvalue  padj element_type         TE_name   \n",
       "0  0.629289 -0.778278  0.800222   1.0           TE  PB1D9:Alu:SINE  \\\n",
       "1  3.081604 -0.946502  0.368835   1.0           TE  RSINE1:B4:SINE   \n",
       "2  0.852163  0.142536  0.942801   1.0           TE     ID4:ID:SINE   \n",
       "3  0.390147 -0.555314  0.978578   1.0           TE    PB1:Alu:SINE   \n",
       "4  0.591882  0.516129  0.893386   1.0           TE  B2_Mm2:B2:SINE   \n",
       "\n",
       "             TE_index repName repFamily repClass genoName  genoStart   \n",
       "0  PB1D9:Alu:SINE_268   PB1D9       Alu     SINE    chr13   73480020  \\\n",
       "1  RSINE1:B4:SINE_183  RSINE1        B4     SINE     chr5  117467874   \n",
       "2     ID4:ID:SINE_194     ID4        ID     SINE     chr3   96619212   \n",
       "3    PB1:Alu:SINE_227     PB1       Alu     SINE    chr15   93388865   \n",
       "4   B2_Mm2:B2:SINE_98  B2_Mm2        B2     SINE    chr11   94175967   \n",
       "\n",
       "     genoEnd strand  \n",
       "0   73480091      -  \n",
       "1  117468005      -  \n",
       "2   96619284      +  \n",
       "3   93388965      -  \n",
       "4   94176153      -  "
      ]
     },
     "execution_count": 10,
     "metadata": {},
     "output_type": "execute_result"
    }
   ],
   "source": [
    "squire_indiv.head()"
   ]
  },
  {
   "cell_type": "code",
   "execution_count": null,
   "id": "3194ca56-b13c-420e-bb27-b7eac0175e9d",
   "metadata": {},
   "outputs": [],
   "source": []
  },
  {
   "cell_type": "code",
   "execution_count": 11,
   "id": "8052b2c7-30f5-4a06-8d74-070a00539d7f",
   "metadata": {},
   "outputs": [],
   "source": [
    "squire_df_ind = squire_indiv.index.astype(str) + \"_\" + squire_indiv['repName']\n",
    "squire_indiv['df_index_repName'] = squire_df_ind"
   ]
  },
  {
   "cell_type": "code",
   "execution_count": 12,
   "id": "3e3afd93-696f-448c-adae-fa3fb40f6744",
   "metadata": {},
   "outputs": [],
   "source": [
    "#squire_indiv.set_index( 'df_index_repName', inplace=True)"
   ]
  },
  {
   "cell_type": "code",
   "execution_count": null,
   "id": "023b0a9e-db4c-4734-8236-a2046a025bf1",
   "metadata": {},
   "outputs": [],
   "source": []
  },
  {
   "cell_type": "code",
   "execution_count": 13,
   "id": "e688c587-96df-4ef9-b76f-f12925ed11ed",
   "metadata": {},
   "outputs": [],
   "source": [
    "seqlen = squire_indiv['genoEnd'] - squire_indiv['genoStart']\n",
    "squire_indiv['seqLen'] = seqlen"
   ]
  },
  {
   "cell_type": "code",
   "execution_count": 14,
   "id": "16cfdac3-1651-4835-80d1-e0a171fd0bc3",
   "metadata": {},
   "outputs": [
    {
     "data": {
      "text/plain": [
       "(15235, 19)"
      ]
     },
     "execution_count": 14,
     "metadata": {},
     "output_type": "execute_result"
    }
   ],
   "source": [
    "squire_indiv.shape"
   ]
  },
  {
   "cell_type": "code",
   "execution_count": 15,
   "id": "3d156f52-b150-470b-928b-2b4b9ea0ec37",
   "metadata": {},
   "outputs": [
    {
     "data": {
      "text/plain": [
       "(114, 19)"
      ]
     },
     "execution_count": 15,
     "metadata": {},
     "output_type": "execute_result"
    }
   ],
   "source": [
    "squire_sig = squire_indiv[squire_indiv['padj']< 1e-5] \n",
    "squire_sig.shape"
   ]
  },
  {
   "cell_type": "code",
   "execution_count": null,
   "id": "adacd8ca-5e08-433b-a4f4-14f9a5f3d8e3",
   "metadata": {},
   "outputs": [],
   "source": []
  },
  {
   "cell_type": "code",
   "execution_count": null,
   "id": "37f2d01b-288f-40d0-9ffc-308568287528",
   "metadata": {},
   "outputs": [],
   "source": []
  },
  {
   "cell_type": "markdown",
   "id": "fcd10ff8-c993-490f-973c-5f38bc96c5d7",
   "metadata": {},
   "source": [
    "re-sampling step here"
   ]
  },
  {
   "cell_type": "code",
   "execution_count": 24,
   "id": "e78fe6d8-874c-461b-a577-74aff9f8ece3",
   "metadata": {},
   "outputs": [
    {
     "name": "stdout",
     "output_type": "stream",
     "text": [
      "smooth start set True\n",
      "smooth end set True\n"
     ]
    },
    {
     "name": "stderr",
     "output_type": "stream",
     "text": [
      "/home/lucy/VU Basic Sciences Dropbox/Lucy Chen/telescope_run/sequence_comparison.py:286: SettingWithCopyWarning: \n",
      "A value is trying to be set on a copy of a slice from a DataFrame.\n",
      "Try using .loc[row_indexer,col_indexer] = value instead\n",
      "\n",
      "See the caveats in the documentation: https://pandas.pydata.org/pandas-docs/stable/user_guide/indexing.html#returning-a-view-versus-a-copy\n",
      "  target_df[target_col_name] = target_df[target_col_name].astype(float)\n"
     ]
    }
   ],
   "source": [
    "dTE_bs2, dTE_bp2, dTE_be2 = seqComp.get_target_distribution_bins( squire_sig, 'seqLen' , binw_constant= 0.2)\n",
    "\n",
    "ret_df_ls2, smooth_s2, smooth_e2 = seqComp.match_bins( target_bin_starts = dTE_bs2 , target_bin_end = dTE_be2,\n",
    "               pool_df = squire_indiv, pool_df_col_name = 'seqLen' )"
   ]
  },
  {
   "cell_type": "code",
   "execution_count": 25,
   "id": "9ad4cd4a-46f8-4ad2-8f67-7e97714b9eb0",
   "metadata": {},
   "outputs": [
    {
     "name": "stdout",
     "output_type": "stream",
     "text": [
      "20\n",
      "||||| Testting: Pre-adjustment probability list for the pool data is \n",
      "[0.009556624626186451, 0.8019763359771162, 0.08431933428682876, 0.03731634377844233, 0.013262254583279157, 0.010531790404368743, 0.005135873098426733, 0.0036406189052138865, 0.0062410609803666625, 0.0014302431413340268, 0.0016902873488493044, 0.0026654531270315952, 0.0015602652450916656, 0.006891171499154856, 0.00214536471200104, 0.0033155636458197892, 0.0031855415420621504, 0.001300221037576388, 0.0009101547263034716, 0.0013652320894552074, 0.0015602652450916656]\n",
      "||||| Testting: Target probability list for the pool data is \n",
      "[0.001, 0.31484493886760767, 0.2273880114043833, 0.05247415647793461, 0.043728463731612176, 0.07871123471690192, 0.05247415647793461, 0.026237078238967305, 0.05247415647793461, 0.01749138549264487, 0.026237078238967305, 0.0009970089730807576, 0.008745692746322435, 0.008745692746322435, 0.008745692746322435, 0.008745692746322435, 0.0009970089730807576, 0.0009970089730807576, 0.008745692746322435, 0.06121984922425704, 0.001]\n",
      "||||| Testting: Post-adjustment sample size list for the pool data is [1, 316, 228, 52, 44, 79, 52, 26, 52, 17, 26, 1, 8, 8, 8, 8, 1, 1, 8, 61, 1]\n"
     ]
    }
   ],
   "source": [
    "bw2_resampled_df = seqComp.re_sample_pool_df( ret_df_ls2, smooth_s2, smooth_e2, dTE_bp2 , verbose=True) "
   ]
  },
  {
   "cell_type": "code",
   "execution_count": null,
   "id": "27e66b4d-6fbc-430c-825f-cf9340ef6966",
   "metadata": {},
   "outputs": [],
   "source": []
  },
  {
   "cell_type": "code",
   "execution_count": 26,
   "id": "4aa45407-0593-4260-87bd-8404988dd531",
   "metadata": {},
   "outputs": [
    {
     "data": {
      "text/plain": [
       "(958, 19)"
      ]
     },
     "execution_count": 26,
     "metadata": {},
     "output_type": "execute_result"
    }
   ],
   "source": [
    "bw2_resampled_df.shape"
   ]
  },
  {
   "cell_type": "code",
   "execution_count": null,
   "id": "b5cacead-aa27-4b18-bfda-80b70772b36d",
   "metadata": {},
   "outputs": [],
   "source": []
  },
  {
   "cell_type": "code",
   "execution_count": 27,
   "id": "c81dc324-eea0-4789-815e-e4252c1a2703",
   "metadata": {},
   "outputs": [
    {
     "data": {
      "text/html": [
       "<svg  width=\"550\" height=\"55\"><rect x=\"0\" y=\"0\" width=\"55\" height=\"55\" style=\"fill:#0173b2;stroke-width:2;stroke:rgb(255,255,255)\"/><rect x=\"55\" y=\"0\" width=\"55\" height=\"55\" style=\"fill:#de8f05;stroke-width:2;stroke:rgb(255,255,255)\"/><rect x=\"110\" y=\"0\" width=\"55\" height=\"55\" style=\"fill:#029e73;stroke-width:2;stroke:rgb(255,255,255)\"/><rect x=\"165\" y=\"0\" width=\"55\" height=\"55\" style=\"fill:#d55e00;stroke-width:2;stroke:rgb(255,255,255)\"/><rect x=\"220\" y=\"0\" width=\"55\" height=\"55\" style=\"fill:#cc78bc;stroke-width:2;stroke:rgb(255,255,255)\"/><rect x=\"275\" y=\"0\" width=\"55\" height=\"55\" style=\"fill:#ca9161;stroke-width:2;stroke:rgb(255,255,255)\"/><rect x=\"330\" y=\"0\" width=\"55\" height=\"55\" style=\"fill:#fbafe4;stroke-width:2;stroke:rgb(255,255,255)\"/><rect x=\"385\" y=\"0\" width=\"55\" height=\"55\" style=\"fill:#949494;stroke-width:2;stroke:rgb(255,255,255)\"/><rect x=\"440\" y=\"0\" width=\"55\" height=\"55\" style=\"fill:#ece133;stroke-width:2;stroke:rgb(255,255,255)\"/><rect x=\"495\" y=\"0\" width=\"55\" height=\"55\" style=\"fill:#56b4e9;stroke-width:2;stroke:rgb(255,255,255)\"/></svg>"
      ],
      "text/plain": [
       "[(0.00392156862745098, 0.45098039215686275, 0.6980392156862745),\n",
       " (0.8705882352941177, 0.5607843137254902, 0.0196078431372549),\n",
       " (0.00784313725490196, 0.6196078431372549, 0.45098039215686275),\n",
       " (0.8352941176470589, 0.3686274509803922, 0.0),\n",
       " (0.8, 0.47058823529411764, 0.7372549019607844),\n",
       " (0.792156862745098, 0.5686274509803921, 0.3803921568627451),\n",
       " (0.984313725490196, 0.6862745098039216, 0.8941176470588236),\n",
       " (0.5803921568627451, 0.5803921568627451, 0.5803921568627451),\n",
       " (0.9254901960784314, 0.8823529411764706, 0.2),\n",
       " (0.33725490196078434, 0.7058823529411765, 0.9137254901960784)]"
      ]
     },
     "execution_count": 27,
     "metadata": {},
     "output_type": "execute_result"
    }
   ],
   "source": [
    "cp = sn.color_palette(\"colorblind\")\n",
    "cp"
   ]
  },
  {
   "cell_type": "code",
   "execution_count": 28,
   "id": "10cc2821-8f17-41a9-bb8d-6556f74c454e",
   "metadata": {},
   "outputs": [
    {
     "data": {
      "image/png": "[encoded data removed]",
      "text/plain": [
       "<Figure size 1200x500 with 3 Axes>"
      ]
     },
     "metadata": {},
     "output_type": "display_data"
    }
   ],
   "source": [
    "f,axes = plt.subplots( ncols=3, nrows = 1, figsize = [12,5])\n",
    "sn.violinplot( squire_indiv['seqLen'], ax = axes[0], color = cp[3] )\n",
    "axes[0].set_title(\"ALL TE\")\n",
    "\n",
    "sn.violinplot( bw2_resampled_df['seqLen'], ax = axes[1], color = cp[1] )\n",
    "axes[1].set_title(\"Re-sampled all TE\")\n",
    "\n",
    "sn.violinplot( squire_sig['seqLen'], ax = axes[2], color = cp[2] )\n",
    "axes[2].set_title(\"Significant dTE\")\n",
    "\n",
    "\n",
    "axes[0].set_ylim([-1000, 12000] )\n",
    "axes[1].set_ylim( [-1000,12000])\n",
    "axes[2].set_ylim( [-1000,12000])\n",
    "\n",
    "plt.show()"
   ]
  },
  {
   "cell_type": "code",
   "execution_count": null,
   "id": "632bc388-68b7-46c4-b5fc-2e0d587ac95a",
   "metadata": {},
   "outputs": [],
   "source": []
  },
  {
   "cell_type": "markdown",
   "id": "b204f838-2266-4be8-9a9b-ca6e7e04d708",
   "metadata": {},
   "source": [
    "### save new fasta"
   ]
  },
  {
   "cell_type": "code",
   "execution_count": null,
   "id": "9cb4e2a2-478d-4bcb-bcc2-9e2037077248",
   "metadata": {},
   "outputs": [],
   "source": []
  },
  {
   "cell_type": "code",
   "execution_count": 16,
   "id": "9dba72ff-4736-4c9c-8a66-45571ad0c8f6",
   "metadata": {},
   "outputs": [],
   "source": [
    "mm39_path = '/home/lucy/Dropbox/mouse_ref_genome_mm39/mm39.fa'"
   ]
  },
  {
   "cell_type": "code",
   "execution_count": 30,
   "id": "d047183b-84cc-42bd-b95c-be3b20cb5dd5",
   "metadata": {},
   "outputs": [],
   "source": [
    "resampled_df = bw2_resampled_df"
   ]
  },
  {
   "cell_type": "code",
   "execution_count": 31,
   "id": "24cf3579-f9e3-43ed-adf6-32f08f46a599",
   "metadata": {},
   "outputs": [
    {
     "name": "stdout",
     "output_type": "stream",
     "text": [
      "rand10_1\n",
      "rand10_2\n",
      "rand10_3\n",
      "rand20_1\n",
      "rand20_2\n",
      "rand20_3\n",
      "rand50_1\n",
      "rand50_2\n",
      "rand50_3\n"
     ]
    }
   ],
   "source": [
    "rand_df_ls = []\n",
    "rand_df_names = [] # rand{n_element}_{rep}\n",
    "\n",
    "n_elements = [ 10, 20, 50 ]\n",
    "nreps = 3\n",
    "\n",
    "for ele in n_elements:\n",
    "    for rep in range(nreps):\n",
    "        subdf = resampled_df.sample( n = ele, random_state= 250+rep+ele ) #my number when I do research @_@\n",
    "        rand_name = f\"rand{ele}_{rep+1}\"\n",
    "        print( rand_name )\n",
    "\n",
    "        rand_df_ls.append( subdf )\n",
    "        rand_df_names.append( rand_name )\n"
   ]
  },
  {
   "cell_type": "code",
   "execution_count": 32,
   "id": "e7fbb8b1-0888-4272-9ea7-8a26b3dc1071",
   "metadata": {},
   "outputs": [
    {
     "data": {
      "text/html": [
       "<div>\n",
       "<style scoped>\n",
       "    .dataframe tbody tr th:only-of-type {\n",
       "        vertical-align: middle;\n",
       "    }\n",
       "\n",
       "    .dataframe tbody tr th {\n",
       "        vertical-align: top;\n",
       "    }\n",
       "\n",
       "    .dataframe thead th {\n",
       "        text-align: right;\n",
       "    }\n",
       "</style>\n",
       "<table border=\"1\" class=\"dataframe\">\n",
       "  <thead>\n",
       "    <tr style=\"text-align: right;\">\n",
       "      <th></th>\n",
       "      <th>TE_ID</th>\n",
       "      <th>baseMean</th>\n",
       "      <th>log2FoldChange</th>\n",
       "      <th>lfcSE</th>\n",
       "      <th>stat</th>\n",
       "      <th>pvalue</th>\n",
       "      <th>padj</th>\n",
       "      <th>element_type</th>\n",
       "      <th>TE_name</th>\n",
       "      <th>TE_index</th>\n",
       "      <th>repName</th>\n",
       "      <th>repFamily</th>\n",
       "      <th>repClass</th>\n",
       "      <th>genoName</th>\n",
       "      <th>genoStart</th>\n",
       "      <th>genoEnd</th>\n",
       "      <th>strand</th>\n",
       "      <th>df_index_repName</th>\n",
       "      <th>seqLen</th>\n",
       "    </tr>\n",
       "  </thead>\n",
       "  <tbody>\n",
       "    <tr>\n",
       "      <th>14860</th>\n",
       "      <td>chr7|125060668|125061385|RMER13A2:ERVK:LTR|171...</td>\n",
       "      <td>54.368612</td>\n",
       "      <td>-0.036847</td>\n",
       "      <td>0.234673</td>\n",
       "      <td>-0.157014</td>\n",
       "      <td>0.999985</td>\n",
       "      <td>1.0</td>\n",
       "      <td>TE</td>\n",
       "      <td>RMER13A2:ERVK:LTR</td>\n",
       "      <td>RMER13A2:ERVK:LTR_171</td>\n",
       "      <td>RMER13A2</td>\n",
       "      <td>ERVK</td>\n",
       "      <td>LTR</td>\n",
       "      <td>chr7</td>\n",
       "      <td>125060668</td>\n",
       "      <td>125061385</td>\n",
       "      <td>-</td>\n",
       "      <td>14860_RMER13A2</td>\n",
       "      <td>717</td>\n",
       "    </tr>\n",
       "    <tr>\n",
       "      <th>13184</th>\n",
       "      <td>chr19|45044416|45044531|PB1D9:Alu:SINE|202|-,.</td>\n",
       "      <td>10.168657</td>\n",
       "      <td>0.794385</td>\n",
       "      <td>0.649654</td>\n",
       "      <td>1.222780</td>\n",
       "      <td>0.627060</td>\n",
       "      <td>1.0</td>\n",
       "      <td>TE</td>\n",
       "      <td>PB1D9:Alu:SINE</td>\n",
       "      <td>PB1D9:Alu:SINE_202</td>\n",
       "      <td>PB1D9</td>\n",
       "      <td>Alu</td>\n",
       "      <td>SINE</td>\n",
       "      <td>chr19</td>\n",
       "      <td>45044416</td>\n",
       "      <td>45044531</td>\n",
       "      <td>-</td>\n",
       "      <td>13184_PB1D9</td>\n",
       "      <td>115</td>\n",
       "    </tr>\n",
       "    <tr>\n",
       "      <th>8565</th>\n",
       "      <td>chr1|131951767|131951893|PB1D7:Alu:SINE|246|+,.</td>\n",
       "      <td>12.656917</td>\n",
       "      <td>-0.304976</td>\n",
       "      <td>0.468746</td>\n",
       "      <td>-0.650621</td>\n",
       "      <td>0.933612</td>\n",
       "      <td>1.0</td>\n",
       "      <td>TE</td>\n",
       "      <td>PB1D7:Alu:SINE</td>\n",
       "      <td>PB1D7:Alu:SINE_246</td>\n",
       "      <td>PB1D7</td>\n",
       "      <td>Alu</td>\n",
       "      <td>SINE</td>\n",
       "      <td>chr1</td>\n",
       "      <td>131951767</td>\n",
       "      <td>131951893</td>\n",
       "      <td>+</td>\n",
       "      <td>8565_PB1D7</td>\n",
       "      <td>126</td>\n",
       "    </tr>\n",
       "    <tr>\n",
       "      <th>14799</th>\n",
       "      <td>chr7|128044931|128045034|PB1D7:Alu:SINE|268|+,.</td>\n",
       "      <td>7.120295</td>\n",
       "      <td>0.291715</td>\n",
       "      <td>0.666571</td>\n",
       "      <td>0.437636</td>\n",
       "      <td>0.882334</td>\n",
       "      <td>1.0</td>\n",
       "      <td>TE</td>\n",
       "      <td>PB1D7:Alu:SINE</td>\n",
       "      <td>PB1D7:Alu:SINE_268</td>\n",
       "      <td>PB1D7</td>\n",
       "      <td>Alu</td>\n",
       "      <td>SINE</td>\n",
       "      <td>chr7</td>\n",
       "      <td>128044931</td>\n",
       "      <td>128045034</td>\n",
       "      <td>+</td>\n",
       "      <td>14799_PB1D7</td>\n",
       "      <td>103</td>\n",
       "    </tr>\n",
       "    <tr>\n",
       "      <th>4513</th>\n",
       "      <td>chr10|81017517|81017609|B1_Mus2:Alu:SINE|181|+,.</td>\n",
       "      <td>22.984322</td>\n",
       "      <td>0.475297</td>\n",
       "      <td>0.376509</td>\n",
       "      <td>1.262379</td>\n",
       "      <td>0.918325</td>\n",
       "      <td>1.0</td>\n",
       "      <td>TE</td>\n",
       "      <td>B1_Mus2:Alu:SINE</td>\n",
       "      <td>B1_Mus2:Alu:SINE_181</td>\n",
       "      <td>B1_Mus2</td>\n",
       "      <td>Alu</td>\n",
       "      <td>SINE</td>\n",
       "      <td>chr10</td>\n",
       "      <td>81017517</td>\n",
       "      <td>81017609</td>\n",
       "      <td>+</td>\n",
       "      <td>4513_B1_Mus2</td>\n",
       "      <td>92</td>\n",
       "    </tr>\n",
       "  </tbody>\n",
       "</table>\n",
       "</div>"
      ],
      "text/plain": [
       "                                                   TE_ID   baseMean   \n",
       "14860  chr7|125060668|125061385|RMER13A2:ERVK:LTR|171...  54.368612  \\\n",
       "13184     chr19|45044416|45044531|PB1D9:Alu:SINE|202|-,.  10.168657   \n",
       "8565     chr1|131951767|131951893|PB1D7:Alu:SINE|246|+,.  12.656917   \n",
       "14799    chr7|128044931|128045034|PB1D7:Alu:SINE|268|+,.   7.120295   \n",
       "4513    chr10|81017517|81017609|B1_Mus2:Alu:SINE|181|+,.  22.984322   \n",
       "\n",
       "       log2FoldChange     lfcSE      stat    pvalue  padj element_type   \n",
       "14860       -0.036847  0.234673 -0.157014  0.999985   1.0           TE  \\\n",
       "13184        0.794385  0.649654  1.222780  0.627060   1.0           TE   \n",
       "8565        -0.304976  0.468746 -0.650621  0.933612   1.0           TE   \n",
       "14799        0.291715  0.666571  0.437636  0.882334   1.0           TE   \n",
       "4513         0.475297  0.376509  1.262379  0.918325   1.0           TE   \n",
       "\n",
       "                 TE_name               TE_index   repName repFamily repClass   \n",
       "14860  RMER13A2:ERVK:LTR  RMER13A2:ERVK:LTR_171  RMER13A2      ERVK      LTR  \\\n",
       "13184     PB1D9:Alu:SINE     PB1D9:Alu:SINE_202     PB1D9       Alu     SINE   \n",
       "8565      PB1D7:Alu:SINE     PB1D7:Alu:SINE_246     PB1D7       Alu     SINE   \n",
       "14799     PB1D7:Alu:SINE     PB1D7:Alu:SINE_268     PB1D7       Alu     SINE   \n",
       "4513    B1_Mus2:Alu:SINE   B1_Mus2:Alu:SINE_181   B1_Mus2       Alu     SINE   \n",
       "\n",
       "      genoName  genoStart    genoEnd strand df_index_repName  seqLen  \n",
       "14860     chr7  125060668  125061385      -   14860_RMER13A2     717  \n",
       "13184    chr19   45044416   45044531      -      13184_PB1D9     115  \n",
       "8565      chr1  131951767  131951893      +       8565_PB1D7     126  \n",
       "14799     chr7  128044931  128045034      +      14799_PB1D7     103  \n",
       "4513     chr10   81017517   81017609      +     4513_B1_Mus2      92  "
      ]
     },
     "execution_count": 32,
     "metadata": {},
     "output_type": "execute_result"
    }
   ],
   "source": [
    "rand_df_ls[0].head()"
   ]
  },
  {
   "cell_type": "code",
   "execution_count": null,
   "id": "2b2c7f75-ffb7-4fee-97c3-ecafaecb373e",
   "metadata": {},
   "outputs": [],
   "source": []
  },
  {
   "cell_type": "code",
   "execution_count": 24,
   "id": "e39123e8-370e-4469-9ee7-3e661bf5e35f",
   "metadata": {},
   "outputs": [],
   "source": [
    "region_df_cols = ['genoName', 'genoStart', 'genoEnd', 'strand', 'df_index_repName' ]"
   ]
  },
  {
   "cell_type": "code",
   "execution_count": 28,
   "id": "5ada1671-696d-40bc-8023-f05c048d167e",
   "metadata": {},
   "outputs": [],
   "source": [
    "output_fasta_folder = './sequence_similarity_input/score_rv_comple_trial/'"
   ]
  },
  {
   "cell_type": "code",
   "execution_count": 35,
   "id": "4495724f-09c8-471e-84d8-c84b28d0a9a2",
   "metadata": {},
   "outputs": [
    {
     "name": "stdout",
     "output_type": "stream",
     "text": [
      "✅ Extracted sequences saved to: ./sequence_similarity_input/score_rv_comple_trial/squire_rand10_1.fasta\n",
      "✅ Extracted sequences saved to: ./sequence_similarity_input/score_rv_comple_trial/squire_rand10_2.fasta\n",
      "✅ Extracted sequences saved to: ./sequence_similarity_input/score_rv_comple_trial/squire_rand10_3.fasta\n",
      "✅ Extracted sequences saved to: ./sequence_similarity_input/score_rv_comple_trial/squire_rand20_1.fasta\n",
      "✅ Extracted sequences saved to: ./sequence_similarity_input/score_rv_comple_trial/squire_rand20_2.fasta\n",
      "✅ Extracted sequences saved to: ./sequence_similarity_input/score_rv_comple_trial/squire_rand20_3.fasta\n",
      "✅ Extracted sequences saved to: ./sequence_similarity_input/score_rv_comple_trial/squire_rand50_1.fasta\n",
      "✅ Extracted sequences saved to: ./sequence_similarity_input/score_rv_comple_trial/squire_rand50_2.fasta\n",
      "✅ Extracted sequences saved to: ./sequence_similarity_input/score_rv_comple_trial/squire_rand50_3.fasta\n"
     ]
    }
   ],
   "source": [
    "for i,d in enumerate( rand_df_ls):\n",
    "    seqComp.extract_ucsc_bedlike_regions( genome_fasta= mm39_path,\n",
    "                                         regions_df= d[region_df_cols ], \n",
    "                                         output_fasta=output_fasta_folder + 'squire_' + rand_df_names[i] +'.fasta',\n",
    "                                        score_reverse_compliment = True) "
   ]
  },
  {
   "cell_type": "code",
   "execution_count": null,
   "id": "30cd5200-2031-4ce0-9721-1866bc6f8407",
   "metadata": {},
   "outputs": [],
   "source": []
  },
  {
   "cell_type": "code",
   "execution_count": 36,
   "id": "1f0cae33-3fcf-47c6-af32-1999386a73ee",
   "metadata": {},
   "outputs": [],
   "source": [
    "wt_up = pd.read_csv(\"./compare_dTE_overlap/squire_sig_down.csv\",header = 0, index_col = 0 )"
   ]
  },
  {
   "cell_type": "code",
   "execution_count": 37,
   "id": "6df4559a-9c5f-46fd-a2c2-12ecbce9e4d2",
   "metadata": {},
   "outputs": [],
   "source": [
    "wt_up['df_index_repName'] = wt_up.index.astype(str) + \"_\" + wt_up['repName']"
   ]
  },
  {
   "cell_type": "code",
   "execution_count": 38,
   "id": "7f9b433b-be82-4edf-a7a5-c9cf67e4e325",
   "metadata": {},
   "outputs": [
    {
     "data": {
      "text/plain": [
       "(33, 18)"
      ]
     },
     "execution_count": 38,
     "metadata": {},
     "output_type": "execute_result"
    }
   ],
   "source": [
    "wt_up.shape"
   ]
  },
  {
   "cell_type": "code",
   "execution_count": null,
   "id": "6302f088-6c2b-45b8-ae36-3aeb588fd1b1",
   "metadata": {},
   "outputs": [],
   "source": []
  },
  {
   "cell_type": "code",
   "execution_count": null,
   "id": "b4c42a16-4b53-4abf-b5b4-3b0fd3e5741a",
   "metadata": {},
   "outputs": [],
   "source": []
  },
  {
   "cell_type": "code",
   "execution_count": 39,
   "id": "98b96cc5-df2d-436e-b1d9-cb101daa0f97",
   "metadata": {},
   "outputs": [
    {
     "data": {
      "text/html": [
       "<div>\n",
       "<style scoped>\n",
       "    .dataframe tbody tr th:only-of-type {\n",
       "        vertical-align: middle;\n",
       "    }\n",
       "\n",
       "    .dataframe tbody tr th {\n",
       "        vertical-align: top;\n",
       "    }\n",
       "\n",
       "    .dataframe thead th {\n",
       "        text-align: right;\n",
       "    }\n",
       "</style>\n",
       "<table border=\"1\" class=\"dataframe\">\n",
       "  <thead>\n",
       "    <tr style=\"text-align: right;\">\n",
       "      <th></th>\n",
       "      <th>TE_ID</th>\n",
       "      <th>baseMean</th>\n",
       "      <th>log2FoldChange</th>\n",
       "      <th>lfcSE</th>\n",
       "      <th>stat</th>\n",
       "      <th>pvalue</th>\n",
       "      <th>padj</th>\n",
       "      <th>element_type</th>\n",
       "      <th>TE_name</th>\n",
       "      <th>TE_index</th>\n",
       "      <th>repName</th>\n",
       "      <th>repFamily</th>\n",
       "      <th>repClass</th>\n",
       "      <th>genoName</th>\n",
       "      <th>genoStart</th>\n",
       "      <th>genoEnd</th>\n",
       "      <th>strand</th>\n",
       "      <th>df_index_repName</th>\n",
       "    </tr>\n",
       "  </thead>\n",
       "  <tbody>\n",
       "    <tr>\n",
       "      <th>4485</th>\n",
       "      <td>chrY|1046951|1048785|Lx2B2:L1:LINE|166|+,.</td>\n",
       "      <td>41.184881</td>\n",
       "      <td>-8.735873</td>\n",
       "      <td>1.051304</td>\n",
       "      <td>-8.309562</td>\n",
       "      <td>9.309039e-14</td>\n",
       "      <td>1.761051e-11</td>\n",
       "      <td>TE</td>\n",
       "      <td>Lx2B2:L1:LINE</td>\n",
       "      <td>Lx2B2:L1:LINE_166</td>\n",
       "      <td>Lx2B2</td>\n",
       "      <td>L1</td>\n",
       "      <td>LINE</td>\n",
       "      <td>chrY</td>\n",
       "      <td>1046951</td>\n",
       "      <td>1048785</td>\n",
       "      <td>+</td>\n",
       "      <td>4485_Lx2B2</td>\n",
       "    </tr>\n",
       "    <tr>\n",
       "      <th>6115</th>\n",
       "      <td>chr19|36949092|36949293|ORR1B1-int:ERVL-MaLR:L...</td>\n",
       "      <td>37.460687</td>\n",
       "      <td>-8.598821</td>\n",
       "      <td>1.054039</td>\n",
       "      <td>-8.157969</td>\n",
       "      <td>2.813290e-13</td>\n",
       "      <td>5.170024e-11</td>\n",
       "      <td>TE</td>\n",
       "      <td>ORR1B1-int:ERVL-MaLR:LTR</td>\n",
       "      <td>ORR1B1-int:ERVL-MaLR:LTR_203</td>\n",
       "      <td>ORR1B1-int</td>\n",
       "      <td>ERVL-MaLR</td>\n",
       "      <td>LTR</td>\n",
       "      <td>chr19</td>\n",
       "      <td>36949092</td>\n",
       "      <td>36949293</td>\n",
       "      <td>+</td>\n",
       "      <td>6115_ORR1B1-int</td>\n",
       "    </tr>\n",
       "    <tr>\n",
       "      <th>249</th>\n",
       "      <td>chr13|68590731|68597820|RLTR4_MM-int:LTR:LTR|3...</td>\n",
       "      <td>33.623029</td>\n",
       "      <td>-8.445261</td>\n",
       "      <td>1.049767</td>\n",
       "      <td>-8.044888</td>\n",
       "      <td>6.595240e-13</td>\n",
       "      <td>1.134240e-10</td>\n",
       "      <td>TE</td>\n",
       "      <td>RLTR4_MM-int:LTR:LTR</td>\n",
       "      <td>RLTR4_MM-int:LTR:LTR_321</td>\n",
       "      <td>RLTR4_MM-int</td>\n",
       "      <td>LTR</td>\n",
       "      <td>LTR</td>\n",
       "      <td>chr13</td>\n",
       "      <td>68590731</td>\n",
       "      <td>68597820</td>\n",
       "      <td>-</td>\n",
       "      <td>249_RLTR4_MM-int</td>\n",
       "    </tr>\n",
       "    <tr>\n",
       "      <th>5703</th>\n",
       "      <td>chr19|36948880|36949059|B3:B2:SINE|210|+,.</td>\n",
       "      <td>33.652405</td>\n",
       "      <td>-8.443296</td>\n",
       "      <td>1.066800</td>\n",
       "      <td>-7.914598</td>\n",
       "      <td>1.505438e-12</td>\n",
       "      <td>2.495612e-10</td>\n",
       "      <td>TE</td>\n",
       "      <td>B3:B2:SINE</td>\n",
       "      <td>B3:B2:SINE_210</td>\n",
       "      <td>B3</td>\n",
       "      <td>B2</td>\n",
       "      <td>SINE</td>\n",
       "      <td>chr19</td>\n",
       "      <td>36948880</td>\n",
       "      <td>36949059</td>\n",
       "      <td>+</td>\n",
       "      <td>5703_B3</td>\n",
       "    </tr>\n",
       "    <tr>\n",
       "      <th>10291</th>\n",
       "      <td>chr19|37212352|37212822|Lx8:L1:LINE|254|+,.</td>\n",
       "      <td>33.476036</td>\n",
       "      <td>-8.439185</td>\n",
       "      <td>1.050746</td>\n",
       "      <td>-8.031615</td>\n",
       "      <td>7.212397e-13</td>\n",
       "      <td>1.233780e-10</td>\n",
       "      <td>TE</td>\n",
       "      <td>Lx8:L1:LINE</td>\n",
       "      <td>Lx8:L1:LINE_254</td>\n",
       "      <td>Lx8</td>\n",
       "      <td>L1</td>\n",
       "      <td>LINE</td>\n",
       "      <td>chr19</td>\n",
       "      <td>37212352</td>\n",
       "      <td>37212822</td>\n",
       "      <td>+</td>\n",
       "      <td>10291_Lx8</td>\n",
       "    </tr>\n",
       "  </tbody>\n",
       "</table>\n",
       "</div>"
      ],
      "text/plain": [
       "                                                   TE_ID   baseMean   \n",
       "4485          chrY|1046951|1048785|Lx2B2:L1:LINE|166|+,.  41.184881  \\\n",
       "6115   chr19|36949092|36949293|ORR1B1-int:ERVL-MaLR:L...  37.460687   \n",
       "249    chr13|68590731|68597820|RLTR4_MM-int:LTR:LTR|3...  33.623029   \n",
       "5703          chr19|36948880|36949059|B3:B2:SINE|210|+,.  33.652405   \n",
       "10291        chr19|37212352|37212822|Lx8:L1:LINE|254|+,.  33.476036   \n",
       "\n",
       "       log2FoldChange     lfcSE      stat        pvalue          padj   \n",
       "4485        -8.735873  1.051304 -8.309562  9.309039e-14  1.761051e-11  \\\n",
       "6115        -8.598821  1.054039 -8.157969  2.813290e-13  5.170024e-11   \n",
       "249         -8.445261  1.049767 -8.044888  6.595240e-13  1.134240e-10   \n",
       "5703        -8.443296  1.066800 -7.914598  1.505438e-12  2.495612e-10   \n",
       "10291       -8.439185  1.050746 -8.031615  7.212397e-13  1.233780e-10   \n",
       "\n",
       "      element_type                   TE_name                      TE_index   \n",
       "4485            TE             Lx2B2:L1:LINE             Lx2B2:L1:LINE_166  \\\n",
       "6115            TE  ORR1B1-int:ERVL-MaLR:LTR  ORR1B1-int:ERVL-MaLR:LTR_203   \n",
       "249             TE      RLTR4_MM-int:LTR:LTR      RLTR4_MM-int:LTR:LTR_321   \n",
       "5703            TE                B3:B2:SINE                B3:B2:SINE_210   \n",
       "10291           TE               Lx8:L1:LINE               Lx8:L1:LINE_254   \n",
       "\n",
       "            repName  repFamily repClass genoName  genoStart   genoEnd strand   \n",
       "4485          Lx2B2         L1     LINE     chrY    1046951   1048785      +  \\\n",
       "6115     ORR1B1-int  ERVL-MaLR      LTR    chr19   36949092  36949293      +   \n",
       "249    RLTR4_MM-int        LTR      LTR    chr13   68590731  68597820      -   \n",
       "5703             B3         B2     SINE    chr19   36948880  36949059      +   \n",
       "10291           Lx8         L1     LINE    chr19   37212352  37212822      +   \n",
       "\n",
       "       df_index_repName  \n",
       "4485         4485_Lx2B2  \n",
       "6115    6115_ORR1B1-int  \n",
       "249    249_RLTR4_MM-int  \n",
       "5703            5703_B3  \n",
       "10291         10291_Lx8  "
      ]
     },
     "execution_count": 39,
     "metadata": {},
     "output_type": "execute_result"
    }
   ],
   "source": [
    "wt_up.sort_values( by = 'log2FoldChange', ascending = True , inplace= True )\n",
    "wt_up.head()"
   ]
  },
  {
   "cell_type": "code",
   "execution_count": 40,
   "id": "76d5afa1-8d33-4c2e-9774-21b108ba03d8",
   "metadata": {},
   "outputs": [],
   "source": [
    "wt_top10_df = wt_up.iloc[0:10][[ 'genoName', 'genoStart', 'genoEnd', 'strand', 'df_index_repName'] ] \n",
    "wt_top20_df = wt_up.iloc[0:20][[ 'genoName', 'genoStart', 'genoEnd', 'strand', 'df_index_repName'] ]\n",
    "wt_top_all = wt_up[[ 'genoName', 'genoStart', 'genoEnd', 'strand', 'df_index_repName'] ]"
   ]
  },
  {
   "cell_type": "code",
   "execution_count": 41,
   "id": "d207dd53-9e49-406b-a576-b8b78e3a8b14",
   "metadata": {},
   "outputs": [
    {
     "data": {
      "text/plain": [
       "['wt_up_top10', 'wt_up_top20', 'wt_up_top33']"
      ]
     },
     "execution_count": 41,
     "metadata": {},
     "output_type": "execute_result"
    }
   ],
   "source": [
    "wt_df_ls = [ wt_top10_df, wt_top20_df,wt_top_all ] \n",
    "wt_df_names = [ f'wt_up_top{x}' for x in [10, 20, 33] ]\n",
    "wt_df_names"
   ]
  },
  {
   "cell_type": "code",
   "execution_count": 42,
   "id": "7cb9c20d-bfeb-400a-ad30-a16fc660c860",
   "metadata": {},
   "outputs": [
    {
     "name": "stdout",
     "output_type": "stream",
     "text": [
      "✅ Extracted sequences saved to: ./sequence_similarity_input/score_rv_comple_trial/squire_wt_up_top10.fasta\n",
      "✅ Extracted sequences saved to: ./sequence_similarity_input/score_rv_comple_trial/squire_wt_up_top20.fasta\n",
      "✅ Extracted sequences saved to: ./sequence_similarity_input/score_rv_comple_trial/squire_wt_up_top33.fasta\n"
     ]
    }
   ],
   "source": [
    "for i,d in enumerate( wt_df_ls):\n",
    "    seqComp.extract_ucsc_bedlike_regions( genome_fasta= mm39_path,\n",
    "                                         regions_df= d[region_df_cols ], \n",
    "                                         output_fasta=output_fasta_folder + 'squire_' + wt_df_names[i] +'.fasta',\n",
    "                                        score_reverse_compliment = True) "
   ]
  },
  {
   "cell_type": "code",
   "execution_count": null,
   "id": "32b9a794-b400-43a0-9a81-fdd6b38d0595",
   "metadata": {},
   "outputs": [],
   "source": []
  },
  {
   "cell_type": "code",
   "execution_count": null,
   "id": "5472ffae-50d4-42da-8df4-b34ad6ef12bd",
   "metadata": {},
   "outputs": [],
   "source": []
  },
  {
   "cell_type": "code",
   "execution_count": 17,
   "id": "f6f2c5f5-0422-4f05-971b-27be9395767c",
   "metadata": {},
   "outputs": [
    {
     "data": {
      "text/html": [
       "<div>\n",
       "<style scoped>\n",
       "    .dataframe tbody tr th:only-of-type {\n",
       "        vertical-align: middle;\n",
       "    }\n",
       "\n",
       "    .dataframe tbody tr th {\n",
       "        vertical-align: top;\n",
       "    }\n",
       "\n",
       "    .dataframe thead th {\n",
       "        text-align: right;\n",
       "    }\n",
       "</style>\n",
       "<table border=\"1\" class=\"dataframe\">\n",
       "  <thead>\n",
       "    <tr style=\"text-align: right;\">\n",
       "      <th></th>\n",
       "      <th>TE_ID</th>\n",
       "      <th>baseMean</th>\n",
       "      <th>log2FoldChange</th>\n",
       "      <th>lfcSE</th>\n",
       "      <th>stat</th>\n",
       "      <th>pvalue</th>\n",
       "      <th>padj</th>\n",
       "      <th>element_type</th>\n",
       "      <th>TE_name</th>\n",
       "      <th>TE_index</th>\n",
       "      <th>repName</th>\n",
       "      <th>repFamily</th>\n",
       "      <th>repClass</th>\n",
       "      <th>genoName</th>\n",
       "      <th>genoStart</th>\n",
       "      <th>genoEnd</th>\n",
       "      <th>strand</th>\n",
       "    </tr>\n",
       "  </thead>\n",
       "  <tbody>\n",
       "    <tr>\n",
       "      <th>279_RLTR4_MM-int</th>\n",
       "      <td>chr7|116034016|116036134|RLTR4_MM-int:LTR:LTR|...</td>\n",
       "      <td>13.232138</td>\n",
       "      <td>7.261792</td>\n",
       "      <td>1.103073</td>\n",
       "      <td>6.583238</td>\n",
       "      <td>6.866753e-09</td>\n",
       "      <td>8.559487e-07</td>\n",
       "      <td>TE</td>\n",
       "      <td>RLTR4_MM-int:LTR:LTR</td>\n",
       "      <td>RLTR4_MM-int:LTR:LTR_33</td>\n",
       "      <td>RLTR4_MM-int</td>\n",
       "      <td>LTR</td>\n",
       "      <td>LTR</td>\n",
       "      <td>chr7</td>\n",
       "      <td>116034016</td>\n",
       "      <td>116036134</td>\n",
       "      <td>+</td>\n",
       "    </tr>\n",
       "    <tr>\n",
       "      <th>845_L1MC2</th>\n",
       "      <td>chr5|96975368|96975991|L1MC2:L1:LINE|284|-,.</td>\n",
       "      <td>84.993681</td>\n",
       "      <td>2.143785</td>\n",
       "      <td>0.213613</td>\n",
       "      <td>10.035838</td>\n",
       "      <td>4.290302e-08</td>\n",
       "      <td>4.946900e-06</td>\n",
       "      <td>TE</td>\n",
       "      <td>L1MC2:L1:LINE</td>\n",
       "      <td>L1MC2:L1:LINE_284</td>\n",
       "      <td>L1MC2</td>\n",
       "      <td>L1</td>\n",
       "      <td>LINE</td>\n",
       "      <td>chr5</td>\n",
       "      <td>96975368</td>\n",
       "      <td>96975991</td>\n",
       "      <td>-</td>\n",
       "    </tr>\n",
       "    <tr>\n",
       "      <th>1028_RMER17B2</th>\n",
       "      <td>chr13|4307360|4308212|RMER17B2:ERVK:LTR|222|+,.</td>\n",
       "      <td>57.907641</td>\n",
       "      <td>2.313474</td>\n",
       "      <td>0.250347</td>\n",
       "      <td>9.241055</td>\n",
       "      <td>7.746373e-08</td>\n",
       "      <td>8.620185e-06</td>\n",
       "      <td>TE</td>\n",
       "      <td>RMER17B2:ERVK:LTR</td>\n",
       "      <td>RMER17B2:ERVK:LTR_222</td>\n",
       "      <td>RMER17B2</td>\n",
       "      <td>ERVK</td>\n",
       "      <td>LTR</td>\n",
       "      <td>chr13</td>\n",
       "      <td>4307360</td>\n",
       "      <td>4308212</td>\n",
       "      <td>+</td>\n",
       "    </tr>\n",
       "    <tr>\n",
       "      <th>1229_IAPLTR1_Mm</th>\n",
       "      <td>chr6|28924173|28924528|IAPLTR1_Mm:ERVK:LTR|92|-,.</td>\n",
       "      <td>22.575679</td>\n",
       "      <td>7.303348</td>\n",
       "      <td>1.085208</td>\n",
       "      <td>6.729908</td>\n",
       "      <td>3.153163e-09</td>\n",
       "      <td>4.008132e-07</td>\n",
       "      <td>TE</td>\n",
       "      <td>IAPLTR1_Mm:ERVK:LTR</td>\n",
       "      <td>IAPLTR1_Mm:ERVK:LTR_92</td>\n",
       "      <td>IAPLTR1_Mm</td>\n",
       "      <td>ERVK</td>\n",
       "      <td>LTR</td>\n",
       "      <td>chr6</td>\n",
       "      <td>28924173</td>\n",
       "      <td>28924528</td>\n",
       "      <td>-</td>\n",
       "    </tr>\n",
       "    <tr>\n",
       "      <th>1401_RLTR4_Mm</th>\n",
       "      <td>chr15|76450505|76451202|RLTR4_Mm:ERV1:LTR|14|-,.</td>\n",
       "      <td>49.190795</td>\n",
       "      <td>7.103274</td>\n",
       "      <td>1.107265</td>\n",
       "      <td>6.415154</td>\n",
       "      <td>1.773626e-08</td>\n",
       "      <td>2.128352e-06</td>\n",
       "      <td>TE</td>\n",
       "      <td>RLTR4_Mm:ERV1:LTR</td>\n",
       "      <td>RLTR4_Mm:ERV1:LTR_14</td>\n",
       "      <td>RLTR4_Mm</td>\n",
       "      <td>ERV1</td>\n",
       "      <td>LTR</td>\n",
       "      <td>chr15</td>\n",
       "      <td>76450505</td>\n",
       "      <td>76451202</td>\n",
       "      <td>-</td>\n",
       "    </tr>\n",
       "  </tbody>\n",
       "</table>\n",
       "</div>"
      ],
      "text/plain": [
       "                                                              TE_ID   \n",
       "279_RLTR4_MM-int  chr7|116034016|116036134|RLTR4_MM-int:LTR:LTR|...  \\\n",
       "845_L1MC2              chr5|96975368|96975991|L1MC2:L1:LINE|284|-,.   \n",
       "1028_RMER17B2       chr13|4307360|4308212|RMER17B2:ERVK:LTR|222|+,.   \n",
       "1229_IAPLTR1_Mm   chr6|28924173|28924528|IAPLTR1_Mm:ERVK:LTR|92|-,.   \n",
       "1401_RLTR4_Mm      chr15|76450505|76451202|RLTR4_Mm:ERV1:LTR|14|-,.   \n",
       "\n",
       "                   baseMean  log2FoldChange     lfcSE       stat   \n",
       "279_RLTR4_MM-int  13.232138        7.261792  1.103073   6.583238  \\\n",
       "845_L1MC2         84.993681        2.143785  0.213613  10.035838   \n",
       "1028_RMER17B2     57.907641        2.313474  0.250347   9.241055   \n",
       "1229_IAPLTR1_Mm   22.575679        7.303348  1.085208   6.729908   \n",
       "1401_RLTR4_Mm     49.190795        7.103274  1.107265   6.415154   \n",
       "\n",
       "                        pvalue          padj element_type   \n",
       "279_RLTR4_MM-int  6.866753e-09  8.559487e-07           TE  \\\n",
       "845_L1MC2         4.290302e-08  4.946900e-06           TE   \n",
       "1028_RMER17B2     7.746373e-08  8.620185e-06           TE   \n",
       "1229_IAPLTR1_Mm   3.153163e-09  4.008132e-07           TE   \n",
       "1401_RLTR4_Mm     1.773626e-08  2.128352e-06           TE   \n",
       "\n",
       "                               TE_name                 TE_index       repName   \n",
       "279_RLTR4_MM-int  RLTR4_MM-int:LTR:LTR  RLTR4_MM-int:LTR:LTR_33  RLTR4_MM-int  \\\n",
       "845_L1MC2                L1MC2:L1:LINE        L1MC2:L1:LINE_284         L1MC2   \n",
       "1028_RMER17B2        RMER17B2:ERVK:LTR    RMER17B2:ERVK:LTR_222      RMER17B2   \n",
       "1229_IAPLTR1_Mm    IAPLTR1_Mm:ERVK:LTR   IAPLTR1_Mm:ERVK:LTR_92    IAPLTR1_Mm   \n",
       "1401_RLTR4_Mm        RLTR4_Mm:ERV1:LTR     RLTR4_Mm:ERV1:LTR_14      RLTR4_Mm   \n",
       "\n",
       "                 repFamily repClass genoName  genoStart    genoEnd strand  \n",
       "279_RLTR4_MM-int       LTR      LTR     chr7  116034016  116036134      +  \n",
       "845_L1MC2               L1     LINE     chr5   96975368   96975991      -  \n",
       "1028_RMER17B2         ERVK      LTR    chr13    4307360    4308212      +  \n",
       "1229_IAPLTR1_Mm       ERVK      LTR     chr6   28924173   28924528      -  \n",
       "1401_RLTR4_Mm         ERV1      LTR    chr15   76450505   76451202      -  "
      ]
     },
     "execution_count": 17,
     "metadata": {},
     "output_type": "execute_result"
    }
   ],
   "source": [
    "squire_sig_up = pd.read_csv(\"./compare_dTE_overlap/squire_sig_up.csv\", header = 0, index_col = 0 )\n",
    "squire_sig_up.head()"
   ]
  },
  {
   "cell_type": "code",
   "execution_count": 18,
   "id": "c3c401cf-c3e4-4d1f-bfbe-a71cabfc3662",
   "metadata": {},
   "outputs": [
    {
     "data": {
      "text/plain": [
       "Index(['TE_ID', 'baseMean', 'log2FoldChange', 'lfcSE', 'stat', 'pvalue',\n",
       "       'padj', 'element_type', 'TE_name', 'TE_index', 'repName', 'repFamily',\n",
       "       'repClass', 'genoName', 'genoStart', 'genoEnd', 'strand'],\n",
       "      dtype='object')"
      ]
     },
     "execution_count": 18,
     "metadata": {},
     "output_type": "execute_result"
    }
   ],
   "source": [
    "squire_sig_up.columns"
   ]
  },
  {
   "cell_type": "code",
   "execution_count": 19,
   "id": "3b086db0-94d1-45ab-a10d-bee70bd6f98c",
   "metadata": {},
   "outputs": [],
   "source": [
    "squire_sig_up['df_index_repName'] = squire_sig_up.index"
   ]
  },
  {
   "cell_type": "code",
   "execution_count": null,
   "id": "cae951f7-ddb4-4bf4-8bac-5f69a8a7f065",
   "metadata": {},
   "outputs": [],
   "source": []
  },
  {
   "cell_type": "code",
   "execution_count": 20,
   "id": "0df91f2e-e582-467b-9c60-a318edffa90d",
   "metadata": {},
   "outputs": [],
   "source": [
    "squire_sig_up.sort_values( by= 'log2FoldChange', ascending= False , inplace= True )"
   ]
  },
  {
   "cell_type": "code",
   "execution_count": 21,
   "id": "01df3450-d56f-44f8-9009-336277afe4ef",
   "metadata": {},
   "outputs": [
    {
     "data": {
      "text/html": [
       "<div>\n",
       "<style scoped>\n",
       "    .dataframe tbody tr th:only-of-type {\n",
       "        vertical-align: middle;\n",
       "    }\n",
       "\n",
       "    .dataframe tbody tr th {\n",
       "        vertical-align: top;\n",
       "    }\n",
       "\n",
       "    .dataframe thead th {\n",
       "        text-align: right;\n",
       "    }\n",
       "</style>\n",
       "<table border=\"1\" class=\"dataframe\">\n",
       "  <thead>\n",
       "    <tr style=\"text-align: right;\">\n",
       "      <th></th>\n",
       "      <th>TE_ID</th>\n",
       "      <th>baseMean</th>\n",
       "      <th>log2FoldChange</th>\n",
       "      <th>lfcSE</th>\n",
       "      <th>stat</th>\n",
       "      <th>pvalue</th>\n",
       "      <th>padj</th>\n",
       "      <th>element_type</th>\n",
       "      <th>TE_name</th>\n",
       "      <th>TE_index</th>\n",
       "      <th>repName</th>\n",
       "      <th>repFamily</th>\n",
       "      <th>repClass</th>\n",
       "      <th>genoName</th>\n",
       "      <th>genoStart</th>\n",
       "      <th>genoEnd</th>\n",
       "      <th>strand</th>\n",
       "      <th>df_index_repName</th>\n",
       "    </tr>\n",
       "  </thead>\n",
       "  <tbody>\n",
       "    <tr>\n",
       "      <th>9437_RLTR4_MM-int</th>\n",
       "      <td>chr13|22000000|22003430|RLTR4_MM-int:LTR:LTR|2...</td>\n",
       "      <td>2133.943181</td>\n",
       "      <td>14.594942</td>\n",
       "      <td>1.021194</td>\n",
       "      <td>14.292037</td>\n",
       "      <td>9.752864e-41</td>\n",
       "      <td>4.978605e-38</td>\n",
       "      <td>TE</td>\n",
       "      <td>RLTR4_MM-int:LTR:LTR</td>\n",
       "      <td>RLTR4_MM-int:LTR:LTR_23</td>\n",
       "      <td>RLTR4_MM-int</td>\n",
       "      <td>LTR</td>\n",
       "      <td>LTR</td>\n",
       "      <td>chr13</td>\n",
       "      <td>22000000</td>\n",
       "      <td>22003430</td>\n",
       "      <td>+</td>\n",
       "      <td>9437_RLTR4_MM-int</td>\n",
       "    </tr>\n",
       "    <tr>\n",
       "      <th>11292_RLTR4_Mm</th>\n",
       "      <td>chr13|22003625|22004366|RLTR4_Mm:ERV1:LTR|32|+,.</td>\n",
       "      <td>571.993187</td>\n",
       "      <td>12.694959</td>\n",
       "      <td>1.026310</td>\n",
       "      <td>12.369514</td>\n",
       "      <td>2.210350e-30</td>\n",
       "      <td>8.998084e-28</td>\n",
       "      <td>TE</td>\n",
       "      <td>RLTR4_Mm:ERV1:LTR</td>\n",
       "      <td>RLTR4_Mm:ERV1:LTR_32</td>\n",
       "      <td>RLTR4_Mm</td>\n",
       "      <td>ERV1</td>\n",
       "      <td>LTR</td>\n",
       "      <td>chr13</td>\n",
       "      <td>22003625</td>\n",
       "      <td>22004366</td>\n",
       "      <td>+</td>\n",
       "      <td>11292_RLTR4_Mm</td>\n",
       "    </tr>\n",
       "    <tr>\n",
       "      <th>12455_RLTR4_Mm</th>\n",
       "      <td>chr13|21996579|21997320|RLTR4_Mm:ERV1:LTR|32|+,.</td>\n",
       "      <td>440.726573</td>\n",
       "      <td>12.319839</td>\n",
       "      <td>1.027687</td>\n",
       "      <td>11.987932</td>\n",
       "      <td>1.619963e-28</td>\n",
       "      <td>5.988278e-26</td>\n",
       "      <td>TE</td>\n",
       "      <td>RLTR4_Mm:ERV1:LTR</td>\n",
       "      <td>RLTR4_Mm:ERV1:LTR_32</td>\n",
       "      <td>RLTR4_Mm</td>\n",
       "      <td>ERV1</td>\n",
       "      <td>LTR</td>\n",
       "      <td>chr13</td>\n",
       "      <td>21996579</td>\n",
       "      <td>21997320</td>\n",
       "      <td>+</td>\n",
       "      <td>12455_RLTR4_Mm</td>\n",
       "    </tr>\n",
       "    <tr>\n",
       "      <th>4915_RLTR4_MM-int</th>\n",
       "      <td>chr13|22003422|22003625|RLTR4_MM-int:LTR:LTR|5...</td>\n",
       "      <td>321.002608</td>\n",
       "      <td>11.862092</td>\n",
       "      <td>1.023460</td>\n",
       "      <td>11.590188</td>\n",
       "      <td>1.294914e-26</td>\n",
       "      <td>4.430260e-24</td>\n",
       "      <td>TE</td>\n",
       "      <td>RLTR4_MM-int:LTR:LTR</td>\n",
       "      <td>RLTR4_MM-int:LTR:LTR_5</td>\n",
       "      <td>RLTR4_MM-int</td>\n",
       "      <td>LTR</td>\n",
       "      <td>LTR</td>\n",
       "      <td>chr13</td>\n",
       "      <td>22003422</td>\n",
       "      <td>22003625</td>\n",
       "      <td>+</td>\n",
       "      <td>4915_RLTR4_MM-int</td>\n",
       "    </tr>\n",
       "    <tr>\n",
       "      <th>4128_RLTR4_MM-int</th>\n",
       "      <td>chr13|21997320|22000000|RLTR4_MM-int:LTR:LTR|1...</td>\n",
       "      <td>977.486167</td>\n",
       "      <td>9.566972</td>\n",
       "      <td>0.438444</td>\n",
       "      <td>21.820302</td>\n",
       "      <td>2.533456e-85</td>\n",
       "      <td>2.628257e-82</td>\n",
       "      <td>TE</td>\n",
       "      <td>RLTR4_MM-int:LTR:LTR</td>\n",
       "      <td>RLTR4_MM-int:LTR:LTR_13</td>\n",
       "      <td>RLTR4_MM-int</td>\n",
       "      <td>LTR</td>\n",
       "      <td>LTR</td>\n",
       "      <td>chr13</td>\n",
       "      <td>21997320</td>\n",
       "      <td>22000000</td>\n",
       "      <td>+</td>\n",
       "      <td>4128_RLTR4_MM-int</td>\n",
       "    </tr>\n",
       "  </tbody>\n",
       "</table>\n",
       "</div>"
      ],
      "text/plain": [
       "                                                               TE_ID   \n",
       "9437_RLTR4_MM-int  chr13|22000000|22003430|RLTR4_MM-int:LTR:LTR|2...  \\\n",
       "11292_RLTR4_Mm      chr13|22003625|22004366|RLTR4_Mm:ERV1:LTR|32|+,.   \n",
       "12455_RLTR4_Mm      chr13|21996579|21997320|RLTR4_Mm:ERV1:LTR|32|+,.   \n",
       "4915_RLTR4_MM-int  chr13|22003422|22003625|RLTR4_MM-int:LTR:LTR|5...   \n",
       "4128_RLTR4_MM-int  chr13|21997320|22000000|RLTR4_MM-int:LTR:LTR|1...   \n",
       "\n",
       "                      baseMean  log2FoldChange     lfcSE       stat   \n",
       "9437_RLTR4_MM-int  2133.943181       14.594942  1.021194  14.292037  \\\n",
       "11292_RLTR4_Mm      571.993187       12.694959  1.026310  12.369514   \n",
       "12455_RLTR4_Mm      440.726573       12.319839  1.027687  11.987932   \n",
       "4915_RLTR4_MM-int   321.002608       11.862092  1.023460  11.590188   \n",
       "4128_RLTR4_MM-int   977.486167        9.566972  0.438444  21.820302   \n",
       "\n",
       "                         pvalue          padj element_type   \n",
       "9437_RLTR4_MM-int  9.752864e-41  4.978605e-38           TE  \\\n",
       "11292_RLTR4_Mm     2.210350e-30  8.998084e-28           TE   \n",
       "12455_RLTR4_Mm     1.619963e-28  5.988278e-26           TE   \n",
       "4915_RLTR4_MM-int  1.294914e-26  4.430260e-24           TE   \n",
       "4128_RLTR4_MM-int  2.533456e-85  2.628257e-82           TE   \n",
       "\n",
       "                                TE_name                 TE_index   \n",
       "9437_RLTR4_MM-int  RLTR4_MM-int:LTR:LTR  RLTR4_MM-int:LTR:LTR_23  \\\n",
       "11292_RLTR4_Mm        RLTR4_Mm:ERV1:LTR     RLTR4_Mm:ERV1:LTR_32   \n",
       "12455_RLTR4_Mm        RLTR4_Mm:ERV1:LTR     RLTR4_Mm:ERV1:LTR_32   \n",
       "4915_RLTR4_MM-int  RLTR4_MM-int:LTR:LTR   RLTR4_MM-int:LTR:LTR_5   \n",
       "4128_RLTR4_MM-int  RLTR4_MM-int:LTR:LTR  RLTR4_MM-int:LTR:LTR_13   \n",
       "\n",
       "                        repName repFamily repClass genoName  genoStart   \n",
       "9437_RLTR4_MM-int  RLTR4_MM-int       LTR      LTR    chr13   22000000  \\\n",
       "11292_RLTR4_Mm         RLTR4_Mm      ERV1      LTR    chr13   22003625   \n",
       "12455_RLTR4_Mm         RLTR4_Mm      ERV1      LTR    chr13   21996579   \n",
       "4915_RLTR4_MM-int  RLTR4_MM-int       LTR      LTR    chr13   22003422   \n",
       "4128_RLTR4_MM-int  RLTR4_MM-int       LTR      LTR    chr13   21997320   \n",
       "\n",
       "                    genoEnd strand   df_index_repName  \n",
       "9437_RLTR4_MM-int  22003430      +  9437_RLTR4_MM-int  \n",
       "11292_RLTR4_Mm     22004366      +     11292_RLTR4_Mm  \n",
       "12455_RLTR4_Mm     21997320      +     12455_RLTR4_Mm  \n",
       "4915_RLTR4_MM-int  22003625      +  4915_RLTR4_MM-int  \n",
       "4128_RLTR4_MM-int  22000000      +  4128_RLTR4_MM-int  "
      ]
     },
     "execution_count": 21,
     "metadata": {},
     "output_type": "execute_result"
    }
   ],
   "source": [
    "squire_sig_up.head()"
   ]
  },
  {
   "cell_type": "code",
   "execution_count": 48,
   "id": "f1adc9d3-64ad-4e40-b1e2-061ef7ea389e",
   "metadata": {},
   "outputs": [],
   "source": [
    "squire_top10_df = squire_sig_up.iloc[0:10][[ 'genoName', 'genoStart', 'genoEnd', 'strand', 'df_index_repName'] ] \n",
    "squire_top20_df = squire_sig_up.iloc[0:20][[ 'genoName', 'genoStart', 'genoEnd', 'strand', 'df_index_repName'] ]\n",
    "squire_last50_df = squire_sig_up.iloc[-50::][[ 'genoName', 'genoStart', 'genoEnd', 'strand', 'df_index_repName'] ] "
   ]
  },
  {
   "cell_type": "code",
   "execution_count": 22,
   "id": "4e3509d8-8c68-4a0a-93d4-ca1e6da7c148",
   "metadata": {},
   "outputs": [],
   "source": [
    "squire_top50_df = squire_sig_up.iloc[0:50][[ 'genoName', 'genoStart', 'genoEnd', 'strand', 'df_index_repName'] ] "
   ]
  },
  {
   "cell_type": "code",
   "execution_count": 49,
   "id": "c3f55156-c32b-46fe-9025-6d2d75a36d1f",
   "metadata": {},
   "outputs": [
    {
     "data": {
      "text/plain": [
       "['mut_up_top10', 'mut_up_top20', 'mut_up_last50']"
      ]
     },
     "execution_count": 49,
     "metadata": {},
     "output_type": "execute_result"
    }
   ],
   "source": [
    "mut_df_ls = [ squire_top10_df, squire_top20_df,squire_last50_df ] \n",
    "mut_df_names = [ f'mut_up_top{x}' for x in [10, 20] ] + ['mut_up_last50']\n",
    "mut_df_names"
   ]
  },
  {
   "cell_type": "code",
   "execution_count": 50,
   "id": "4ebaba36-7ec0-4603-a565-5c21e9cc4923",
   "metadata": {},
   "outputs": [
    {
     "name": "stdout",
     "output_type": "stream",
     "text": [
      "✅ Extracted sequences saved to: ./sequence_similarity_input/score_rv_comple_trial/squire_mut_up_top10.fasta\n",
      "✅ Extracted sequences saved to: ./sequence_similarity_input/score_rv_comple_trial/squire_mut_up_top20.fasta\n",
      "✅ Extracted sequences saved to: ./sequence_similarity_input/score_rv_comple_trial/squire_mut_up_last50.fasta\n"
     ]
    }
   ],
   "source": [
    "for i,d in enumerate( mut_df_ls):\n",
    "    seqComp.extract_ucsc_bedlike_regions( genome_fasta= mm39_path,\n",
    "                                         regions_df= d[region_df_cols ], \n",
    "                                         output_fasta=output_fasta_folder + 'squire_' + mut_df_names[i] +'.fasta',\n",
    "                                        score_reverse_compliment = True) "
   ]
  },
  {
   "cell_type": "code",
   "execution_count": 29,
   "id": "c20fd610-6f30-4cd1-98ad-0fb0a3d12248",
   "metadata": {},
   "outputs": [
    {
     "name": "stdout",
     "output_type": "stream",
     "text": [
      "✅ Extracted sequences saved to: ./sequence_similarity_input/score_rv_comple_trial/squire_mut_up_top50.fasta\n"
     ]
    }
   ],
   "source": [
    "seqComp.extract_ucsc_bedlike_regions( genome_fasta= mm39_path,\n",
    "                                         regions_df= squire_top50_df[region_df_cols ], \n",
    "                                         output_fasta=output_fasta_folder + 'squire_' + 'mut_up_top50' +'.fasta',\n",
    "                                        score_reverse_compliment = True) "
   ]
  },
  {
   "cell_type": "code",
   "execution_count": null,
   "id": "04b9225d-1d92-46cc-83a6-fee01ad34aee",
   "metadata": {},
   "outputs": [],
   "source": []
  },
  {
   "cell_type": "code",
   "execution_count": null,
   "id": "d30f30a2-d06a-4787-a687-8d302966673a",
   "metadata": {},
   "outputs": [],
   "source": []
  },
  {
   "cell_type": "markdown",
   "id": "f6084e81-7d29-4689-8fae-8537204751e6",
   "metadata": {},
   "source": [
    "## Generate new fasta from human TCPS"
   ]
  },
  {
   "cell_type": "markdown",
   "id": "d446ebe5-46a1-4f9f-b74d-ede38e12dd8f",
   "metadata": {},
   "source": [
    "### load deseq table and prepare data"
   ]
  },
  {
   "cell_type": "code",
   "execution_count": 51,
   "id": "f70825c9-4cd1-410c-b520-c6d883f8b471",
   "metadata": {},
   "outputs": [
    {
     "data": {
      "text/html": [
       "<div>\n",
       "<style scoped>\n",
       "    .dataframe tbody tr th:only-of-type {\n",
       "        vertical-align: middle;\n",
       "    }\n",
       "\n",
       "    .dataframe tbody tr th {\n",
       "        vertical-align: top;\n",
       "    }\n",
       "\n",
       "    .dataframe thead th {\n",
       "        text-align: right;\n",
       "    }\n",
       "</style>\n",
       "<table border=\"1\" class=\"dataframe\">\n",
       "  <thead>\n",
       "    <tr style=\"text-align: right;\">\n",
       "      <th></th>\n",
       "      <th>TE name</th>\n",
       "      <th>baseMean</th>\n",
       "      <th>log2FoldChange</th>\n",
       "      <th>lfcSE</th>\n",
       "      <th>stat</th>\n",
       "      <th>pvalue</th>\n",
       "      <th>padj</th>\n",
       "      <th>genoName</th>\n",
       "      <th>genoStart</th>\n",
       "      <th>genoEnd</th>\n",
       "      <th>strand</th>\n",
       "      <th>seqLen</th>\n",
       "      <th>absolute_LFC</th>\n",
       "    </tr>\n",
       "  </thead>\n",
       "  <tbody>\n",
       "    <tr>\n",
       "      <th>166553</th>\n",
       "      <td>Alu_4200</td>\n",
       "      <td>0.228317</td>\n",
       "      <td>0.402569</td>\n",
       "      <td>1.563272</td>\n",
       "      <td>0.257517</td>\n",
       "      <td>0.796780</td>\n",
       "      <td>0.999991</td>\n",
       "      <td>chr20</td>\n",
       "      <td>49158505</td>\n",
       "      <td>49158527</td>\n",
       "      <td>+</td>\n",
       "      <td>22</td>\n",
       "      <td>0.402569</td>\n",
       "    </tr>\n",
       "    <tr>\n",
       "      <th>133439</th>\n",
       "      <td>MIR1_Amn_9014</td>\n",
       "      <td>0.594186</td>\n",
       "      <td>-1.274058</td>\n",
       "      <td>1.028602</td>\n",
       "      <td>-1.238630</td>\n",
       "      <td>0.215482</td>\n",
       "      <td>0.999991</td>\n",
       "      <td>chr15</td>\n",
       "      <td>75639564</td>\n",
       "      <td>75639587</td>\n",
       "      <td>+</td>\n",
       "      <td>23</td>\n",
       "      <td>1.274058</td>\n",
       "    </tr>\n",
       "    <tr>\n",
       "      <th>156965</th>\n",
       "      <td>MIRb_204437</td>\n",
       "      <td>0.804711</td>\n",
       "      <td>-0.309917</td>\n",
       "      <td>1.389233</td>\n",
       "      <td>-0.223085</td>\n",
       "      <td>0.823469</td>\n",
       "      <td>0.999991</td>\n",
       "      <td>chr19</td>\n",
       "      <td>13799682</td>\n",
       "      <td>13799706</td>\n",
       "      <td>-</td>\n",
       "      <td>24</td>\n",
       "      <td>0.309917</td>\n",
       "    </tr>\n",
       "    <tr>\n",
       "      <th>100591</th>\n",
       "      <td>L2c_90080</td>\n",
       "      <td>2.784909</td>\n",
       "      <td>3.665215</td>\n",
       "      <td>1.451265</td>\n",
       "      <td>2.525531</td>\n",
       "      <td>0.011552</td>\n",
       "      <td>0.455554</td>\n",
       "      <td>chr10</td>\n",
       "      <td>104039148</td>\n",
       "      <td>104039173</td>\n",
       "      <td>+</td>\n",
       "      <td>25</td>\n",
       "      <td>3.665215</td>\n",
       "    </tr>\n",
       "    <tr>\n",
       "      <th>126084</th>\n",
       "      <td>L2c_113491</td>\n",
       "      <td>0.034266</td>\n",
       "      <td>0.511230</td>\n",
       "      <td>3.833625</td>\n",
       "      <td>0.133354</td>\n",
       "      <td>0.893913</td>\n",
       "      <td>0.999991</td>\n",
       "      <td>chr14</td>\n",
       "      <td>68067960</td>\n",
       "      <td>68067985</td>\n",
       "      <td>-</td>\n",
       "      <td>25</td>\n",
       "      <td>0.511230</td>\n",
       "    </tr>\n",
       "  </tbody>\n",
       "</table>\n",
       "</div>"
      ],
      "text/plain": [
       "              TE name  baseMean  log2FoldChange     lfcSE      stat    pvalue   \n",
       "166553       Alu_4200  0.228317        0.402569  1.563272  0.257517  0.796780  \\\n",
       "133439  MIR1_Amn_9014  0.594186       -1.274058  1.028602 -1.238630  0.215482   \n",
       "156965    MIRb_204437  0.804711       -0.309917  1.389233 -0.223085  0.823469   \n",
       "100591      L2c_90080  2.784909        3.665215  1.451265  2.525531  0.011552   \n",
       "126084     L2c_113491  0.034266        0.511230  3.833625  0.133354  0.893913   \n",
       "\n",
       "            padj genoName  genoStart    genoEnd strand  seqLen  absolute_LFC  \n",
       "166553  0.999991    chr20   49158505   49158527      +      22      0.402569  \n",
       "133439  0.999991    chr15   75639564   75639587      +      23      1.274058  \n",
       "156965  0.999991    chr19   13799682   13799706      -      24      0.309917  \n",
       "100591  0.455554    chr10  104039148  104039173      +      25      3.665215  \n",
       "126084  0.999991    chr14   68067960   68067985      -      25      0.511230  "
      ]
     },
     "execution_count": 51,
     "metadata": {},
     "output_type": "execute_result"
    }
   ],
   "source": [
    "tcps_indiv = pd.read_csv(\"./TCPS_all_Deseq_indiv_locus.csv\", header = 0, index_col = 0 )\n",
    "tcps_indiv.head()"
   ]
  },
  {
   "cell_type": "code",
   "execution_count": null,
   "id": "e0e718a3-fe57-4347-9b01-b07343c4fb42",
   "metadata": {},
   "outputs": [],
   "source": []
  },
  {
   "cell_type": "code",
   "execution_count": 52,
   "id": "510b441f-214a-42b6-a10a-da7a52d6a8ef",
   "metadata": {},
   "outputs": [],
   "source": [
    "indiv_dTE_sig = tcps_indiv[tcps_indiv['padj'] < 0.05 ]"
   ]
  },
  {
   "cell_type": "code",
   "execution_count": null,
   "id": "c56c98a1-fe3f-4e20-880d-4196f771969f",
   "metadata": {},
   "outputs": [],
   "source": []
  },
  {
   "cell_type": "code",
   "execution_count": 53,
   "id": "a71468e5-3b65-4c68-b3b0-b37dd220e47c",
   "metadata": {},
   "outputs": [
    {
     "name": "stdout",
     "output_type": "stream",
     "text": [
      "(133, 13)\n",
      "(9, 13)\n"
     ]
    }
   ],
   "source": [
    "ser_up = indiv_dTE_sig[ indiv_dTE_sig['log2FoldChange'] > 2 ] \n",
    "ad_up = indiv_dTE_sig[ indiv_dTE_sig['log2FoldChange'] < -2  ] \n",
    "\n",
    "print( ser_up.shape)\n",
    "print( ad_up.shape)"
   ]
  },
  {
   "cell_type": "code",
   "execution_count": 54,
   "id": "fed11b96-49a4-46c1-aaa3-99d8477682c2",
   "metadata": {
    "scrolled": true
   },
   "outputs": [
    {
     "name": "stderr",
     "output_type": "stream",
     "text": [
      "/tmp/ipykernel_47072/774895865.py:1: SettingWithCopyWarning: \n",
      "A value is trying to be set on a copy of a slice from a DataFrame\n",
      "\n",
      "See the caveats in the documentation: https://pandas.pydata.org/pandas-docs/stable/user_guide/indexing.html#returning-a-view-versus-a-copy\n",
      "  ser_up.sort_values( by = 'log2FoldChange', ascending= False, inplace= True )\n",
      "/tmp/ipykernel_47072/774895865.py:2: SettingWithCopyWarning: \n",
      "A value is trying to be set on a copy of a slice from a DataFrame\n",
      "\n",
      "See the caveats in the documentation: https://pandas.pydata.org/pandas-docs/stable/user_guide/indexing.html#returning-a-view-versus-a-copy\n",
      "  ad_up.sort_values( by = 'log2FoldChange', ascending= True, inplace= True )\n"
     ]
    }
   ],
   "source": [
    "ser_up.sort_values( by = 'log2FoldChange', ascending= False, inplace= True )\n",
    "ad_up.sort_values( by = 'log2FoldChange', ascending= True, inplace= True )"
   ]
  },
  {
   "cell_type": "code",
   "execution_count": null,
   "id": "7a99234b-d08f-403c-b3c4-ebecf7d08491",
   "metadata": {},
   "outputs": [],
   "source": []
  },
  {
   "cell_type": "code",
   "execution_count": 55,
   "id": "4c77d32c-8ce7-44f1-9001-2d0589d89871",
   "metadata": {},
   "outputs": [
    {
     "data": {
      "text/html": [
       "<div>\n",
       "<style scoped>\n",
       "    .dataframe tbody tr th:only-of-type {\n",
       "        vertical-align: middle;\n",
       "    }\n",
       "\n",
       "    .dataframe tbody tr th {\n",
       "        vertical-align: top;\n",
       "    }\n",
       "\n",
       "    .dataframe thead th {\n",
       "        text-align: right;\n",
       "    }\n",
       "</style>\n",
       "<table border=\"1\" class=\"dataframe\">\n",
       "  <thead>\n",
       "    <tr style=\"text-align: right;\">\n",
       "      <th></th>\n",
       "      <th>TE name</th>\n",
       "      <th>baseMean</th>\n",
       "      <th>log2FoldChange</th>\n",
       "      <th>lfcSE</th>\n",
       "      <th>stat</th>\n",
       "      <th>pvalue</th>\n",
       "      <th>padj</th>\n",
       "      <th>genoName</th>\n",
       "      <th>genoStart</th>\n",
       "      <th>genoEnd</th>\n",
       "      <th>strand</th>\n",
       "      <th>seqLen</th>\n",
       "      <th>absolute_LFC</th>\n",
       "    </tr>\n",
       "  </thead>\n",
       "  <tbody>\n",
       "    <tr>\n",
       "      <th>36886</th>\n",
       "      <td>MIRc_22786</td>\n",
       "      <td>0.066390</td>\n",
       "      <td>1.682504</td>\n",
       "      <td>4.531276</td>\n",
       "      <td>0.371309</td>\n",
       "      <td>0.710407</td>\n",
       "      <td>0.999991</td>\n",
       "      <td>chr3</td>\n",
       "      <td>131001128</td>\n",
       "      <td>131001156</td>\n",
       "      <td>+</td>\n",
       "      <td>28</td>\n",
       "      <td>1.682504</td>\n",
       "    </tr>\n",
       "    <tr>\n",
       "      <th>53559</th>\n",
       "      <td>L1ME1_10466</td>\n",
       "      <td>0.043117</td>\n",
       "      <td>0.617888</td>\n",
       "      <td>4.538229</td>\n",
       "      <td>0.136152</td>\n",
       "      <td>0.891701</td>\n",
       "      <td>0.999991</td>\n",
       "      <td>chr5</td>\n",
       "      <td>133979389</td>\n",
       "      <td>133979415</td>\n",
       "      <td>-</td>\n",
       "      <td>26</td>\n",
       "      <td>0.617888</td>\n",
       "    </tr>\n",
       "    <tr>\n",
       "      <th>131270</th>\n",
       "      <td>L1ME4a_28134</td>\n",
       "      <td>0.085216</td>\n",
       "      <td>0.737378</td>\n",
       "      <td>3.899024</td>\n",
       "      <td>0.189119</td>\n",
       "      <td>0.850000</td>\n",
       "      <td>0.999991</td>\n",
       "      <td>chr15</td>\n",
       "      <td>52291703</td>\n",
       "      <td>52291731</td>\n",
       "      <td>-</td>\n",
       "      <td>28</td>\n",
       "      <td>0.737378</td>\n",
       "    </tr>\n",
       "    <tr>\n",
       "      <th>46781</th>\n",
       "      <td>LTR6A_51</td>\n",
       "      <td>1.789616</td>\n",
       "      <td>0.056481</td>\n",
       "      <td>0.671609</td>\n",
       "      <td>0.084098</td>\n",
       "      <td>0.932979</td>\n",
       "      <td>0.999991</td>\n",
       "      <td>chr4</td>\n",
       "      <td>143425059</td>\n",
       "      <td>143425087</td>\n",
       "      <td>-</td>\n",
       "      <td>28</td>\n",
       "      <td>0.056481</td>\n",
       "    </tr>\n",
       "    <tr>\n",
       "      <th>100591</th>\n",
       "      <td>L2c_90080</td>\n",
       "      <td>2.784909</td>\n",
       "      <td>3.665215</td>\n",
       "      <td>1.451265</td>\n",
       "      <td>2.525531</td>\n",
       "      <td>0.011552</td>\n",
       "      <td>0.455554</td>\n",
       "      <td>chr10</td>\n",
       "      <td>104039148</td>\n",
       "      <td>104039173</td>\n",
       "      <td>+</td>\n",
       "      <td>25</td>\n",
       "      <td>3.665215</td>\n",
       "    </tr>\n",
       "  </tbody>\n",
       "</table>\n",
       "</div>"
      ],
      "text/plain": [
       "             TE name  baseMean  log2FoldChange     lfcSE      stat    pvalue   \n",
       "36886     MIRc_22786  0.066390        1.682504  4.531276  0.371309  0.710407  \\\n",
       "53559    L1ME1_10466  0.043117        0.617888  4.538229  0.136152  0.891701   \n",
       "131270  L1ME4a_28134  0.085216        0.737378  3.899024  0.189119  0.850000   \n",
       "46781       LTR6A_51  1.789616        0.056481  0.671609  0.084098  0.932979   \n",
       "100591     L2c_90080  2.784909        3.665215  1.451265  2.525531  0.011552   \n",
       "\n",
       "            padj genoName  genoStart    genoEnd strand  seqLen  absolute_LFC  \n",
       "36886   0.999991     chr3  131001128  131001156      +      28      1.682504  \n",
       "53559   0.999991     chr5  133979389  133979415      -      26      0.617888  \n",
       "131270  0.999991    chr15   52291703   52291731      -      28      0.737378  \n",
       "46781   0.999991     chr4  143425059  143425087      -      28      0.056481  \n",
       "100591  0.455554    chr10  104039148  104039173      +      25      3.665215  "
      ]
     },
     "execution_count": 55,
     "metadata": {},
     "output_type": "execute_result"
    }
   ],
   "source": [
    "tcps_resampled_all = pd.read_csv(\"./resampled_TCPS_all_TE_indi.csv\", header = 0, index_col = 0 )\n",
    "tcps_resampled_all.head()"
   ]
  },
  {
   "cell_type": "code",
   "execution_count": null,
   "id": "5fefbd06-0792-48c6-ad0c-183bb3b0f43c",
   "metadata": {},
   "outputs": [],
   "source": []
  },
  {
   "cell_type": "code",
   "execution_count": null,
   "id": "87eec7d5-23a3-41c6-8224-aff214e453c1",
   "metadata": {},
   "outputs": [],
   "source": []
  },
  {
   "cell_type": "code",
   "execution_count": 56,
   "id": "414c82b0-4498-44c1-a7f8-8966b6df1a0d",
   "metadata": {},
   "outputs": [],
   "source": [
    "resampled_df = tcps_resampled_all"
   ]
  },
  {
   "cell_type": "code",
   "execution_count": 57,
   "id": "51b3c05c-5430-41a2-9727-96c54d6a4c95",
   "metadata": {},
   "outputs": [
    {
     "name": "stdout",
     "output_type": "stream",
     "text": [
      "rand10_1\n",
      "rand10_2\n",
      "rand10_3\n",
      "rand20_1\n",
      "rand20_2\n",
      "rand20_3\n",
      "rand50_1\n",
      "rand50_2\n",
      "rand50_3\n"
     ]
    }
   ],
   "source": [
    "rand_df_ls = []\n",
    "rand_df_names = [] # rand{n_element}_{rep}\n",
    "\n",
    "n_elements = [ 10, 20, 50 ]\n",
    "nreps = 3\n",
    "\n",
    "for ele in n_elements:\n",
    "    for rep in range(nreps):\n",
    "        subdf = resampled_df.sample( n = ele, random_state= 250+rep+ele ) #my number when I do research @_@\n",
    "        rand_name = f\"rand{ele}_{rep+1}\"\n",
    "        print( rand_name )\n",
    "\n",
    "        rand_df_ls.append( subdf )\n",
    "        rand_df_names.append( rand_name )\n"
   ]
  },
  {
   "cell_type": "code",
   "execution_count": 58,
   "id": "2a8441a0-3827-4818-9835-f7f92a65ed2f",
   "metadata": {},
   "outputs": [
    {
     "data": {
      "text/html": [
       "<div>\n",
       "<style scoped>\n",
       "    .dataframe tbody tr th:only-of-type {\n",
       "        vertical-align: middle;\n",
       "    }\n",
       "\n",
       "    .dataframe tbody tr th {\n",
       "        vertical-align: top;\n",
       "    }\n",
       "\n",
       "    .dataframe thead th {\n",
       "        text-align: right;\n",
       "    }\n",
       "</style>\n",
       "<table border=\"1\" class=\"dataframe\">\n",
       "  <thead>\n",
       "    <tr style=\"text-align: right;\">\n",
       "      <th></th>\n",
       "      <th>TE name</th>\n",
       "      <th>baseMean</th>\n",
       "      <th>log2FoldChange</th>\n",
       "      <th>lfcSE</th>\n",
       "      <th>stat</th>\n",
       "      <th>pvalue</th>\n",
       "      <th>padj</th>\n",
       "      <th>genoName</th>\n",
       "      <th>genoStart</th>\n",
       "      <th>genoEnd</th>\n",
       "      <th>strand</th>\n",
       "      <th>seqLen</th>\n",
       "      <th>absolute_LFC</th>\n",
       "    </tr>\n",
       "  </thead>\n",
       "  <tbody>\n",
       "    <tr>\n",
       "      <th>148109</th>\n",
       "      <td>AluJb_108243</td>\n",
       "      <td>0.056482</td>\n",
       "      <td>0.436968</td>\n",
       "      <td>3.232050</td>\n",
       "      <td>0.135198</td>\n",
       "      <td>0.892455</td>\n",
       "      <td>0.999991</td>\n",
       "      <td>chr17</td>\n",
       "      <td>46160309</td>\n",
       "      <td>46160589</td>\n",
       "      <td>-</td>\n",
       "      <td>280</td>\n",
       "      <td>0.436968</td>\n",
       "    </tr>\n",
       "    <tr>\n",
       "      <th>91011</th>\n",
       "      <td>HERVK9-int_374</td>\n",
       "      <td>0.966568</td>\n",
       "      <td>-0.335473</td>\n",
       "      <td>0.681052</td>\n",
       "      <td>-0.492581</td>\n",
       "      <td>0.622309</td>\n",
       "      <td>0.999991</td>\n",
       "      <td>chrX</td>\n",
       "      <td>65438942</td>\n",
       "      <td>65440050</td>\n",
       "      <td>-</td>\n",
       "      <td>1108</td>\n",
       "      <td>0.335473</td>\n",
       "    </tr>\n",
       "    <tr>\n",
       "      <th>83540</th>\n",
       "      <td>L2a_91503</td>\n",
       "      <td>0.082886</td>\n",
       "      <td>0.902089</td>\n",
       "      <td>1.892725</td>\n",
       "      <td>0.476609</td>\n",
       "      <td>0.633641</td>\n",
       "      <td>0.999991</td>\n",
       "      <td>chr9</td>\n",
       "      <td>68793125</td>\n",
       "      <td>68794216</td>\n",
       "      <td>-</td>\n",
       "      <td>1091</td>\n",
       "      <td>0.902089</td>\n",
       "    </tr>\n",
       "    <tr>\n",
       "      <th>1895</th>\n",
       "      <td>MIRb_2079</td>\n",
       "      <td>0.335510</td>\n",
       "      <td>-0.184742</td>\n",
       "      <td>1.306959</td>\n",
       "      <td>-0.141353</td>\n",
       "      <td>0.887591</td>\n",
       "      <td>0.999991</td>\n",
       "      <td>chr1</td>\n",
       "      <td>19242550</td>\n",
       "      <td>19242629</td>\n",
       "      <td>+</td>\n",
       "      <td>79</td>\n",
       "      <td>0.184742</td>\n",
       "    </tr>\n",
       "    <tr>\n",
       "      <th>87077</th>\n",
       "      <td>AluSp_24880</td>\n",
       "      <td>0.053832</td>\n",
       "      <td>0.238539</td>\n",
       "      <td>4.537840</td>\n",
       "      <td>0.052567</td>\n",
       "      <td>0.958077</td>\n",
       "      <td>0.999991</td>\n",
       "      <td>chr9</td>\n",
       "      <td>124892651</td>\n",
       "      <td>124892951</td>\n",
       "      <td>+</td>\n",
       "      <td>300</td>\n",
       "      <td>0.238539</td>\n",
       "    </tr>\n",
       "  </tbody>\n",
       "</table>\n",
       "</div>"
      ],
      "text/plain": [
       "               TE name  baseMean  log2FoldChange     lfcSE      stat   \n",
       "148109    AluJb_108243  0.056482        0.436968  3.232050  0.135198  \\\n",
       "91011   HERVK9-int_374  0.966568       -0.335473  0.681052 -0.492581   \n",
       "83540        L2a_91503  0.082886        0.902089  1.892725  0.476609   \n",
       "1895         MIRb_2079  0.335510       -0.184742  1.306959 -0.141353   \n",
       "87077      AluSp_24880  0.053832        0.238539  4.537840  0.052567   \n",
       "\n",
       "          pvalue      padj genoName  genoStart    genoEnd strand  seqLen   \n",
       "148109  0.892455  0.999991    chr17   46160309   46160589      -     280  \\\n",
       "91011   0.622309  0.999991     chrX   65438942   65440050      -    1108   \n",
       "83540   0.633641  0.999991     chr9   68793125   68794216      -    1091   \n",
       "1895    0.887591  0.999991     chr1   19242550   19242629      +      79   \n",
       "87077   0.958077  0.999991     chr9  124892651  124892951      +     300   \n",
       "\n",
       "        absolute_LFC  \n",
       "148109      0.436968  \n",
       "91011       0.335473  \n",
       "83540       0.902089  \n",
       "1895        0.184742  \n",
       "87077       0.238539  "
      ]
     },
     "execution_count": 58,
     "metadata": {},
     "output_type": "execute_result"
    }
   ],
   "source": [
    "rand_df_ls[0].head()"
   ]
  },
  {
   "cell_type": "code",
   "execution_count": null,
   "id": "54b0496e-f1ff-4c97-bbfb-7940723503eb",
   "metadata": {},
   "outputs": [],
   "source": []
  },
  {
   "cell_type": "code",
   "execution_count": 59,
   "id": "68137241-1b17-45d1-8cac-c99bd75f4d87",
   "metadata": {},
   "outputs": [],
   "source": [
    "region_df_cols = ['genoName', 'genoStart', 'genoEnd', 'strand', 'TE name' ]"
   ]
  },
  {
   "cell_type": "code",
   "execution_count": 60,
   "id": "2a68938c-1d97-49f9-9e59-17160dc2776c",
   "metadata": {},
   "outputs": [],
   "source": [
    "output_fasta_folder = './sequence_similarity_input/score_rv_comple_trial/'"
   ]
  },
  {
   "cell_type": "code",
   "execution_count": null,
   "id": "e33b9293-c734-439a-a381-59a4ec8a2058",
   "metadata": {},
   "outputs": [],
   "source": []
  },
  {
   "cell_type": "markdown",
   "id": "19ca16a1-967e-4114-b4a9-7869ff43eb52",
   "metadata": {},
   "source": [
    "### save new fasta"
   ]
  },
  {
   "cell_type": "code",
   "execution_count": 61,
   "id": "bf4bd532-470d-4f50-a988-874502ddd13b",
   "metadata": {},
   "outputs": [],
   "source": [
    "region_df_cols = ['genoName', 'genoStart', 'genoEnd', 'strand', 'TE name' ]"
   ]
  },
  {
   "cell_type": "code",
   "execution_count": 62,
   "id": "9912f88c-3ece-45bd-963f-39a1be7e0138",
   "metadata": {},
   "outputs": [],
   "source": [
    "hg38_ref_path = '/home/lucy/Dropbox/human_ref_genome/hg38_grch38/hg38.fa'"
   ]
  },
  {
   "cell_type": "code",
   "execution_count": null,
   "id": "4bb9f707-c95d-4c70-ba88-927ae2a8830c",
   "metadata": {},
   "outputs": [],
   "source": []
  },
  {
   "cell_type": "code",
   "execution_count": 63,
   "id": "81b0af3c-f97b-4bd2-85e9-7b6d866078b1",
   "metadata": {},
   "outputs": [],
   "source": [
    "element_ranks = [ [0,10], [0,20], [0,50] , [-50, ser_up.shape[0]] ]\n",
    "save_file_names = [ f'tcps_ser_up_top{x}.fasta' for x in [10,20,50] ] + ['tcps_ser_up_last50.fasta']"
   ]
  },
  {
   "cell_type": "code",
   "execution_count": 64,
   "id": "ebd51ace-7961-4cc9-a7ac-299e70ccd012",
   "metadata": {},
   "outputs": [
    {
     "data": {
      "text/plain": [
       "[-50, 133]"
      ]
     },
     "execution_count": 64,
     "metadata": {},
     "output_type": "execute_result"
    }
   ],
   "source": [
    "element_ranks[-1]"
   ]
  },
  {
   "cell_type": "code",
   "execution_count": 65,
   "id": "5b74274a-961c-4543-9cf4-0ee475348b6b",
   "metadata": {},
   "outputs": [
    {
     "data": {
      "text/plain": [
       "['tcps_ser_up_top10.fasta',\n",
       " 'tcps_ser_up_top20.fasta',\n",
       " 'tcps_ser_up_top50.fasta',\n",
       " 'tcps_ser_up_last50.fasta']"
      ]
     },
     "execution_count": 65,
     "metadata": {},
     "output_type": "execute_result"
    }
   ],
   "source": [
    "save_file_names"
   ]
  },
  {
   "cell_type": "code",
   "execution_count": 66,
   "id": "2503d5ec-a51b-4cfe-a558-3d2fdaae4e92",
   "metadata": {},
   "outputs": [
    {
     "name": "stdout",
     "output_type": "stream",
     "text": [
      "✅ Extracted sequences saved to: ./sequence_similarity_input/score_rv_comple_trial/tcps_ser_up_top10.fasta\n",
      "✅ Extracted sequences saved to: ./sequence_similarity_input/score_rv_comple_trial/tcps_ser_up_top20.fasta\n",
      "✅ Extracted sequences saved to: ./sequence_similarity_input/score_rv_comple_trial/tcps_ser_up_top50.fasta\n",
      "✅ Extracted sequences saved to: ./sequence_similarity_input/score_rv_comple_trial/tcps_ser_up_last50.fasta\n"
     ]
    }
   ],
   "source": [
    "for i,e in enumerate( element_ranks):\n",
    "    seqComp.extract_ucsc_bedlike_regions( genome_fasta= hg38_ref_path,\n",
    "                                     regions_df= ser_up[region_df_cols ].iloc[e[0]: e[1]], \n",
    "                                     output_fasta= output_fasta_folder + save_file_names[i], score_reverse_compliment= True) "
   ]
  },
  {
   "cell_type": "code",
   "execution_count": null,
   "id": "e0039741-0b0e-43ef-bff8-b187968c15d5",
   "metadata": {},
   "outputs": [],
   "source": []
  },
  {
   "cell_type": "code",
   "execution_count": 67,
   "id": "23bfe8c3-981a-45a8-9d25-e50ddb25c126",
   "metadata": {},
   "outputs": [
    {
     "name": "stdout",
     "output_type": "stream",
     "text": [
      "✅ Extracted sequences saved to: ./sequence_similarity_input/score_rv_comple_trial/tcps_ad_up_all.fasta\n"
     ]
    }
   ],
   "source": [
    "seqComp.extract_ucsc_bedlike_regions( genome_fasta= hg38_ref_path,\n",
    "                                     regions_df= ad_up[region_df_cols ], \n",
    "                                     output_fasta= output_fasta_folder + 'tcps_ad_up_all.fasta', score_reverse_compliment=True) "
   ]
  },
  {
   "cell_type": "code",
   "execution_count": null,
   "id": "ef703861-7ca7-49f5-af6c-3c1f3f9152bf",
   "metadata": {},
   "outputs": [],
   "source": []
  },
  {
   "cell_type": "code",
   "execution_count": 68,
   "id": "af7b9dfb-17db-4c88-8f50-b60109d58b59",
   "metadata": {},
   "outputs": [
    {
     "name": "stdout",
     "output_type": "stream",
     "text": [
      "✅ Extracted sequences saved to: ./sequence_similarity_input/score_rv_comple_trial/tcps_rand10_1.fasta\n",
      "✅ Extracted sequences saved to: ./sequence_similarity_input/score_rv_comple_trial/tcps_rand10_2.fasta\n",
      "✅ Extracted sequences saved to: ./sequence_similarity_input/score_rv_comple_trial/tcps_rand10_3.fasta\n",
      "✅ Extracted sequences saved to: ./sequence_similarity_input/score_rv_comple_trial/tcps_rand20_1.fasta\n",
      "✅ Extracted sequences saved to: ./sequence_similarity_input/score_rv_comple_trial/tcps_rand20_2.fasta\n",
      "✅ Extracted sequences saved to: ./sequence_similarity_input/score_rv_comple_trial/tcps_rand20_3.fasta\n",
      "✅ Extracted sequences saved to: ./sequence_similarity_input/score_rv_comple_trial/tcps_rand50_1.fasta\n",
      "✅ Extracted sequences saved to: ./sequence_similarity_input/score_rv_comple_trial/tcps_rand50_2.fasta\n",
      "✅ Extracted sequences saved to: ./sequence_similarity_input/score_rv_comple_trial/tcps_rand50_3.fasta\n"
     ]
    }
   ],
   "source": [
    "for i,d in enumerate( rand_df_ls):\n",
    "    seqComp.extract_ucsc_bedlike_regions( genome_fasta= hg38_ref_path,\n",
    "                                         regions_df= d[region_df_cols ], \n",
    "                                         output_fasta=output_fasta_folder + 'tcps_' + rand_df_names[i] +'.fasta',\n",
    "                                        score_reverse_compliment = True) "
   ]
  },
  {
   "cell_type": "code",
   "execution_count": null,
   "id": "50c5467f-567f-4f3e-877e-b5fe22fc20a1",
   "metadata": {},
   "outputs": [],
   "source": []
  },
  {
   "cell_type": "code",
   "execution_count": null,
   "id": "06e88f35-122a-4c83-826b-d7a9a5cbc3a5",
   "metadata": {},
   "outputs": [],
   "source": []
  },
  {
   "cell_type": "markdown",
   "id": "58c842f7-a421-4a57-b85d-9f80045b0738",
   "metadata": {},
   "source": [
    "## Calculate identity scores"
   ]
  },
  {
   "cell_type": "code",
   "execution_count": 69,
   "id": "972875ff-3419-4cd9-b09f-27e7104e65ed",
   "metadata": {},
   "outputs": [
    {
     "data": {
      "text/plain": [
       "['squire_rand50_1.fasta',\n",
       " 'tcps_ser_up_top10.fasta',\n",
       " 'squire_wt_up_top10.fasta',\n",
       " 'tcps_rand10_3.fasta',\n",
       " 'tcps_rand10_2.fasta',\n",
       " 'squire_mut_up_last50.fasta',\n",
       " 'squire_rand10_1.fasta',\n",
       " 'squire_rand20_2.fasta',\n",
       " 'squire_wt_up_top33.fasta',\n",
       " 'tcps_ad_up_all.fasta',\n",
       " 'tcps_ser_up_last50.fasta',\n",
       " 'tcps_rand20_3.fasta',\n",
       " 'tcps_rand20_1.fasta',\n",
       " 'squire_rand10_2.fasta',\n",
       " 'squire_rand50_2.fasta',\n",
       " 'squire_rand20_1.fasta',\n",
       " 'tcps_rand50_1.fasta',\n",
       " 'squire_rand10_3.fasta',\n",
       " 'tcps_ser_up_top20.fasta',\n",
       " 'squire_wt_up_top20.fasta',\n",
       " 'tcps_rand10_1.fasta',\n",
       " 'tcps_rand50_2.fasta',\n",
       " 'tcps_rand20_2.fasta',\n",
       " 'tcps_ser_up_top50.fasta',\n",
       " 'squire_mut_up_top20.fasta',\n",
       " 'squire_rand20_3.fasta',\n",
       " 'squire_mut_up_top10.fasta',\n",
       " 'squire_rand50_3.fasta',\n",
       " 'tcps_rand50_3.fasta']"
      ]
     },
     "execution_count": 69,
     "metadata": {},
     "output_type": "execute_result"
    }
   ],
   "source": [
    "fnames = os.listdir(\"./sequence_similarity_input/score_rv_comple_trial/\")\n",
    "fnames"
   ]
  },
  {
   "cell_type": "code",
   "execution_count": 30,
   "id": "b38fd448-f531-4261-b28d-acb4437ce5d0",
   "metadata": {},
   "outputs": [],
   "source": [
    "input_dir = \"./sequence_similarity_input/score_rv_comple_trial/\""
   ]
  },
  {
   "cell_type": "code",
   "execution_count": null,
   "id": "d65373dc-e164-435a-a602-8e42daffc2d7",
   "metadata": {},
   "outputs": [],
   "source": []
  },
  {
   "cell_type": "code",
   "execution_count": null,
   "id": "58d25596-a785-418f-8734-4c94bc202977",
   "metadata": {},
   "outputs": [
    {
     "name": "stdout",
     "output_type": "stream",
     "text": [
      "Processing squire_rand50_1.fasta\n",
      "Loaded 150 sequences from ./sequence_similarity_input/score_rv_comple_trial/squire_rand50_1.fasta\n",
      "Average identity: 30.87% ± 19.13%\n",
      "Time used: 5.2 min\n",
      "Processing tcps_ser_up_top10.fasta\n",
      "Loaded 30 sequences from ./sequence_similarity_input/score_rv_comple_trial/tcps_ser_up_top10.fasta\n",
      "Average identity: 37.99% ± 16.65%\n",
      "Time used: 0.0 min\n",
      "Processing squire_wt_up_top10.fasta\n",
      "Loaded 30 sequences from ./sequence_similarity_input/score_rv_comple_trial/squire_wt_up_top10.fasta\n",
      "Average identity: 26.94% ± 19.85%\n",
      "Time used: 0.4 min\n",
      "Processing tcps_rand10_3.fasta\n",
      "Loaded 30 sequences from ./sequence_similarity_input/score_rv_comple_trial/tcps_rand10_3.fasta\n",
      "Average identity: 49.33% ± 17.36%\n",
      "Time used: 0.0 min\n",
      "Processing tcps_rand10_2.fasta\n",
      "Loaded 30 sequences from ./sequence_similarity_input/score_rv_comple_trial/tcps_rand10_2.fasta\n",
      "Average identity: 36.56% ± 18.15%\n",
      "Time used: 0.0 min\n",
      "Processing squire_mut_up_last50.fasta\n",
      "Loaded 150 sequences from ./sequence_similarity_input/score_rv_comple_trial/squire_mut_up_last50.fasta\n",
      "Average identity: 30.50% ± 19.52%\n",
      "Time used: 5.7 min\n",
      "Processing squire_rand10_1.fasta\n",
      "Loaded 30 sequences from ./sequence_similarity_input/score_rv_comple_trial/squire_rand10_1.fasta\n",
      "Average identity: 37.35% ± 18.95%\n",
      "Time used: 0.0 min\n",
      "Processing squire_rand20_2.fasta\n",
      "Loaded 60 sequences from ./sequence_similarity_input/score_rv_comple_trial/squire_rand20_2.fasta\n",
      "Average identity: 30.70% ± 21.13%\n",
      "Time used: 0.4 min\n",
      "Processing squire_wt_up_top33.fasta\n",
      "Loaded 99 sequences from ./sequence_similarity_input/score_rv_comple_trial/squire_wt_up_top33.fasta\n"
     ]
    }
   ],
   "source": [
    "for f in fnames:\n",
    "    print( f'Processing {f}')\n",
    "    TIME_S = time.time()\n",
    "    seqComp.process_group(input_dir + f, out_dir=\"sequence_similarity_results/score_rv_comple_result/\", n_jobs=12,plot_heatmap=False )\n",
    "    TIME_E = time.time()\n",
    "    TOTAL_TIME = (TIME_E - TIME_S)/60\n",
    "    print( f\"Time used: {TOTAL_TIME:.1f} min\" )"
   ]
  },
  {
   "cell_type": "code",
   "execution_count": null,
   "id": "2a393547-4079-4928-b929-a9129745b474",
   "metadata": {},
   "outputs": [],
   "source": []
  },
  {
   "cell_type": "code",
   "execution_count": 31,
   "id": "d7712999-ae32-431e-b6a9-4d4f1090fed0",
   "metadata": {},
   "outputs": [
    {
     "name": "stdout",
     "output_type": "stream",
     "text": [
      "Loaded 150 sequences from ./sequence_similarity_input/score_rv_comple_trial/squire_mut_up_top50.fasta\n",
      "Average identity: 30.27% ± 20.93%\n"
     ]
    },
    {
     "data": {
      "text/plain": [
       "(30.274115730462867, 20.934979764834537)"
      ]
     },
     "execution_count": 31,
     "metadata": {},
     "output_type": "execute_result"
    }
   ],
   "source": [
    "seqComp.process_group(input_dir + 'squire_mut_up_top50.fasta', out_dir=\"sequence_similarity_results/score_rv_comple_result/\", n_jobs=12,plot_heatmap=False )"
   ]
  },
  {
   "cell_type": "code",
   "execution_count": null,
   "id": "25e37cc0-bab5-4d13-b97f-8e0e0df435e4",
   "metadata": {},
   "outputs": [],
   "source": []
  },
  {
   "cell_type": "code",
   "execution_count": null,
   "id": "6dfb29dc-d559-4834-9700-30f0ee87c1f0",
   "metadata": {},
   "outputs": [],
   "source": []
  },
  {
   "cell_type": "code",
   "execution_count": null,
   "id": "a220de48-f4d9-4dde-8a7d-47ddf067b7d7",
   "metadata": {},
   "outputs": [],
   "source": []
  },
  {
   "cell_type": "markdown",
   "id": "eba16445-3a2a-4c8a-93c6-9be1cf425c3d",
   "metadata": {},
   "source": [
    "## save data"
   ]
  },
  {
   "cell_type": "code",
   "execution_count": null,
   "id": "8885f548-06b8-4c27-b8c4-df1293b233ca",
   "metadata": {},
   "outputs": [],
   "source": [
    "squire_indiv # squire dTE table that has many useful annotation added\n",
    "bw2_resampled_df # re-sampled all TE for squire quantified TEs"
   ]
  },
  {
   "cell_type": "code",
   "execution_count": 80,
   "id": "2fa4b386-8fcd-4561-8540-14912a01bd50",
   "metadata": {},
   "outputs": [
    {
     "data": {
      "text/plain": [
       "Index(['count_table_indiv.csv', 'count_table_subF.csv', 'mm39_rmsk_full.tsv',\n",
       "       'Deseq_indiv_locus_results.csv', 'genoLoc_Deseq_indiv_locus_result.csv',\n",
       "       'compare_dTE_overlap/', 'genoLoc_TCPS_Deseq_indiv_locus_result.csv',\n",
       "       'TCPS_all_Deseq_indiv_locus.csv', 'resampled_TCPS_all_TE_indi.csv',\n",
       "       'TCPS_seq_similarity_summary_df.csv',\n",
       "       'squire_tjp2_mut_seq_similarity_summary_df.csv',\n",
       "       'squire_tjp2_wt_seq_similarity_summary_df.csv',\n",
       "       'squire_tjp2_total_seq_similarity_summary_df.csv',\n",
       "       'mouse_human_combined_similarity_suammry_df.csv',\n",
       "       'squire_tjp2_total_seq_similarity_grouped_repClass_summary_df.csv',\n",
       "       'TCPS_total_seq_similarity_grouped_repClass_summary_df.csv'],\n",
       "      dtype='object')"
      ]
     },
     "execution_count": 80,
     "metadata": {},
     "output_type": "execute_result"
    }
   ],
   "source": [
    "logi = pd.read_csv(\"./OUTPUT_EXPLAIN.csv\", header = 0, index_col = 0 )\n",
    "logi.columns"
   ]
  },
  {
   "cell_type": "code",
   "execution_count": 81,
   "id": "ab0fd089-d297-4f65-b0c6-378201373740",
   "metadata": {},
   "outputs": [],
   "source": [
    "squire_indiv.to_csv(\"./squire_all_Deseq_indiv_locus.csv\", header = True, index = True )"
   ]
  },
  {
   "cell_type": "code",
   "execution_count": 83,
   "id": "6b1b6a79-f1eb-4d5e-9662-79904bb8c270",
   "metadata": {},
   "outputs": [],
   "source": [
    "bw2_resampled_df.to_csv(\"./resampled_squire_all_TE_indi.csv\", header = True, index = True)"
   ]
  },
  {
   "cell_type": "code",
   "execution_count": 84,
   "id": "cab2744b-38ba-42aa-94d3-86b24218e811",
   "metadata": {},
   "outputs": [],
   "source": [
    "logi['squire_all_Deseq_indiv_locus.csv'] = ['9' , 'NA' , 'squire all indiv deseq table with genoLoc and other related annotation']"
   ]
  },
  {
   "cell_type": "code",
   "execution_count": 86,
   "id": "75eb0b89-7140-45c8-8ab4-4d457950e277",
   "metadata": {},
   "outputs": [],
   "source": [
    "logi['resampled_squire_all_TE_indi.csv'] = ['9' ,'NA', 're-sampled TEs from the all indiv deseq table that match the seqLen distribution from significant dTEs from squire Deseq result ( pajd < 1e-5 threshold used)' ]"
   ]
  },
  {
   "cell_type": "code",
   "execution_count": 87,
   "id": "9566ad36-8499-4d65-9dfa-ab8b35db4d58",
   "metadata": {},
   "outputs": [],
   "source": [
    "logi.to_csv(\"./OUTPUT_EXPLAIN.csv\", header = True, index = True )"
   ]
  },
  {
   "cell_type": "code",
   "execution_count": null,
   "id": "28569d3d-bf3e-4b7b-bf81-ab6b65834169",
   "metadata": {},
   "outputs": [],
   "source": []
  }
 ],
 "metadata": {
  "kernelspec": {
   "display_name": "qc_pipe",
   "language": "python",
   "name": "qc_pipe"
  },
  "language_info": {
   "codemirror_mode": {
    "name": "ipython",
    "version": 3
   },
   "file_extension": ".py",
   "mimetype": "text/x-python",
   "name": "python",
   "nbconvert_exporter": "python",
   "pygments_lexer": "ipython3",
   "version": "3.8.5"
  }
 },
 "nbformat": 4,
 "nbformat_minor": 5
}
