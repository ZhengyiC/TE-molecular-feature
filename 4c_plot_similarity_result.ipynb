{
 "cells": [
  {
   "cell_type": "markdown",
   "id": "7920d76a-9ed6-4700-aed9-09a3fe910173",
   "metadata": {},
   "source": [
    "# This notebook visualize the similarity result across different conditions for turner mouse organoids dTE analysis"
   ]
  },
  {
   "cell_type": "code",
   "execution_count": 1,
   "id": "e5d792d8-99f4-4d6b-a179-5aefc902fa45",
   "metadata": {},
   "outputs": [],
   "source": [
    "import pandas as pd\n",
    "import numpy as np\n",
    "import seaborn as sn\n",
    "import matplotlib.pyplot as plt\n",
    "import os"
   ]
  },
  {
   "cell_type": "code",
   "execution_count": 2,
   "id": "a09144de-ba22-42f5-9734-31b89ab21f06",
   "metadata": {},
   "outputs": [],
   "source": [
    "from matplotlib.patches import Patch"
   ]
  },
  {
   "cell_type": "code",
   "execution_count": 3,
   "id": "df559a0f-073b-4e7d-8371-4ddf93d766c1",
   "metadata": {},
   "outputs": [
    {
     "name": "stderr",
     "output_type": "stream",
     "text": [
      "/home/lucy/anaconda3/envs/qc_pipe/lib/python3.8/site-packages/Bio/pairwise2.py:278: BiopythonDeprecationWarning: Bio.pairwise2 has been deprecated, and we intend to remove it in a future release of Biopython. As an alternative, please consider using Bio.Align.PairwiseAligner as a replacement, and contact the Biopython developers if you still need the Bio.pairwise2 module.\n",
      "  warnings.warn(\n"
     ]
    }
   ],
   "source": [
    "import sequence_comparison as seqComp"
   ]
  },
  {
   "cell_type": "markdown",
   "id": "d0c5e5bb-7251-4eab-abd3-e554e953651c",
   "metadata": {},
   "source": [
    "## load data and get result summary for randomly selected samples"
   ]
  },
  {
   "cell_type": "code",
   "execution_count": 83,
   "id": "d763a6d0-163e-4f6f-b2fa-a988b73fb08f",
   "metadata": {},
   "outputs": [],
   "source": [
    "squire_indiv = pd.read_csv(\"/home/lucy/Dropbox/turner_organoid_bulk_RNA_local/Deseq_indiv_dTE_results.csv\", header = 0, index_col = 0 )"
   ]
  },
  {
   "cell_type": "code",
   "execution_count": 84,
   "id": "c3445072-b11d-45d0-838d-8e2b36b40644",
   "metadata": {},
   "outputs": [],
   "source": [
    "squire_df_ind = squire_indiv.index.astype(str) + \"_\" + squire_indiv['repName']\n",
    "squire_indiv['df_index_repName'] = squire_df_ind"
   ]
  },
  {
   "cell_type": "code",
   "execution_count": null,
   "id": "9469ba8e-2f73-4dc0-91f9-ab9b58bd5bbf",
   "metadata": {},
   "outputs": [],
   "source": []
  },
  {
   "cell_type": "code",
   "execution_count": 9,
   "id": "2aee0346-0596-473c-8c9c-767fdf7fe245",
   "metadata": {},
   "outputs": [],
   "source": [
    "rand_fnames = pd.Series( os.listdir(\"./sequence_similarity_results/\") )\n",
    "rand_fnames= rand_fnames[rand_fnames.str.startswith('rand') ]"
   ]
  },
  {
   "cell_type": "code",
   "execution_count": 10,
   "id": "1986be4b-41ff-4f9e-9070-3fcb8c0becb2",
   "metadata": {},
   "outputs": [
    {
     "data": {
      "text/plain": [
       "'rand33_1_pairwise_identity.csv'"
      ]
     },
     "execution_count": 10,
     "metadata": {},
     "output_type": "execute_result"
    }
   ],
   "source": [
    "rand_fnames.iloc[0]"
   ]
  },
  {
   "cell_type": "code",
   "execution_count": 11,
   "id": "f9eb9b56-5f5d-4d29-8630-a45ee0e52249",
   "metadata": {},
   "outputs": [],
   "source": [
    "res1 = pd.read_csv(\"./sequence_similarity_results/\" + rand_fnames.iloc[0], header = 0, index_col = None )"
   ]
  },
  {
   "cell_type": "code",
   "execution_count": 12,
   "id": "22d60a30-dd32-4f4e-abd7-5b3f4a2d9961",
   "metadata": {},
   "outputs": [
    {
     "data": {
      "text/html": [
       "<div>\n",
       "<style scoped>\n",
       "    .dataframe tbody tr th:only-of-type {\n",
       "        vertical-align: middle;\n",
       "    }\n",
       "\n",
       "    .dataframe tbody tr th {\n",
       "        vertical-align: top;\n",
       "    }\n",
       "\n",
       "    .dataframe thead th {\n",
       "        text-align: right;\n",
       "    }\n",
       "</style>\n",
       "<table border=\"1\" class=\"dataframe\">\n",
       "  <thead>\n",
       "    <tr style=\"text-align: right;\">\n",
       "      <th></th>\n",
       "      <th>ID1</th>\n",
       "      <th>ID2</th>\n",
       "      <th>PercentIdentity</th>\n",
       "      <th>Alignment_str</th>\n",
       "    </tr>\n",
       "  </thead>\n",
       "  <tbody>\n",
       "    <tr>\n",
       "      <th>0</th>\n",
       "      <td>12547_B3</td>\n",
       "      <td>13548_ID_B1</td>\n",
       "      <td>49.390244</td>\n",
       "      <td>gctggagggatggcttggtggt-taa-a-ctattgctgagaacct-...</td>\n",
       "    </tr>\n",
       "    <tr>\n",
       "      <th>1</th>\n",
       "      <td>12547_B3</td>\n",
       "      <td>5803_RLTRETN_Mm</td>\n",
       "      <td>42.056075</td>\n",
       "      <td>gctgg-ag--------------g---ga----tggcttg---g---...</td>\n",
       "    </tr>\n",
       "    <tr>\n",
       "      <th>2</th>\n",
       "      <td>12547_B3</td>\n",
       "      <td>3385_PB1D7</td>\n",
       "      <td>50.609756</td>\n",
       "      <td>-gctgg-aggg-atggcttgg-tg-g-ttaaactat-tgc-tgaga...</td>\n",
       "    </tr>\n",
       "    <tr>\n",
       "      <th>3</th>\n",
       "      <td>12547_B3</td>\n",
       "      <td>1971_ID4</td>\n",
       "      <td>43.292683</td>\n",
       "      <td>g--ctggagggatggcttggtggttaaactattgctg-agaacctg...</td>\n",
       "    </tr>\n",
       "    <tr>\n",
       "      <th>4</th>\n",
       "      <td>12547_B3</td>\n",
       "      <td>1387_B4A</td>\n",
       "      <td>51.931330</td>\n",
       "      <td>-gctggagggatggcttggtggtta-aactattg-ctga-g-aacc...</td>\n",
       "    </tr>\n",
       "  </tbody>\n",
       "</table>\n",
       "</div>"
      ],
      "text/plain": [
       "        ID1              ID2  PercentIdentity   \n",
       "0  12547_B3      13548_ID_B1        49.390244  \\\n",
       "1  12547_B3  5803_RLTRETN_Mm        42.056075   \n",
       "2  12547_B3       3385_PB1D7        50.609756   \n",
       "3  12547_B3         1971_ID4        43.292683   \n",
       "4  12547_B3         1387_B4A        51.931330   \n",
       "\n",
       "                                       Alignment_str  \n",
       "0  gctggagggatggcttggtggt-taa-a-ctattgctgagaacct-...  \n",
       "1  gctgg-ag--------------g---ga----tggcttg---g---...  \n",
       "2  -gctgg-aggg-atggcttgg-tg-g-ttaaactat-tgc-tgaga...  \n",
       "3  g--ctggagggatggcttggtggttaaactattgctg-agaacctg...  \n",
       "4  -gctggagggatggcttggtggtta-aactattg-ctga-g-aacc...  "
      ]
     },
     "execution_count": 12,
     "metadata": {},
     "output_type": "execute_result"
    }
   ],
   "source": [
    "res1.head()"
   ]
  },
  {
   "cell_type": "code",
   "execution_count": 49,
   "id": "b3c3054d-f583-4acf-a55c-0c357dfafff2",
   "metadata": {},
   "outputs": [],
   "source": [
    "rand_summary_df = pd.DataFrame(index = ['avg_pctIdentity', 'std_pctIdentity', 'num_element'])\n",
    "rand_df_ls = []\n",
    "\n",
    "for f in rand_fnames:\n",
    "    # get data meta information\n",
    "    f_info = f.split(\"_\")[0:2]\n",
    "    f_id = \"_\".join( f_info)\n",
    "    num_elements = int( f_info[0][4::] )\n",
    "    \n",
    "    # load df\n",
    "    df = pd.read_csv(\"./sequence_similarity_results/\" + f, header = 0, index_col = None )\n",
    "    \n",
    "    #get avg and std score\n",
    "    avg_score = df['PercentIdentity'].mean()\n",
    "    std_score = df['PercentIdentity'].std()\n",
    "\n",
    "    # add result to the result df\n",
    "    rand_summary_df[ f_id ] = [ avg_score, std_score, num_elements ]\n",
    "    rand_df_ls.append( df)\n",
    "    \n",
    "    \n",
    "    "
   ]
  },
  {
   "cell_type": "code",
   "execution_count": 50,
   "id": "9b647e77-50a1-4cb6-97b4-28a0819b6ba5",
   "metadata": {},
   "outputs": [
    {
     "data": {
      "text/plain": [
       "(528, 4)"
      ]
     },
     "execution_count": 50,
     "metadata": {},
     "output_type": "execute_result"
    }
   ],
   "source": [
    "rand_df_ls[0].shape"
   ]
  },
  {
   "cell_type": "code",
   "execution_count": 51,
   "id": "30b0bead-96c9-41ba-9424-65dcec6483b1",
   "metadata": {},
   "outputs": [
    {
     "data": {
      "text/html": [
       "<div>\n",
       "<style scoped>\n",
       "    .dataframe tbody tr th:only-of-type {\n",
       "        vertical-align: middle;\n",
       "    }\n",
       "\n",
       "    .dataframe tbody tr th {\n",
       "        vertical-align: top;\n",
       "    }\n",
       "\n",
       "    .dataframe thead th {\n",
       "        text-align: right;\n",
       "    }\n",
       "</style>\n",
       "<table border=\"1\" class=\"dataframe\">\n",
       "  <thead>\n",
       "    <tr style=\"text-align: right;\">\n",
       "      <th></th>\n",
       "      <th>avg_pctIdentity</th>\n",
       "      <th>std_pctIdentity</th>\n",
       "      <th>num_element</th>\n",
       "    </tr>\n",
       "  </thead>\n",
       "  <tbody>\n",
       "    <tr>\n",
       "      <th>rand33_1</th>\n",
       "      <td>39.721155</td>\n",
       "      <td>15.251149</td>\n",
       "      <td>33.0</td>\n",
       "    </tr>\n",
       "    <tr>\n",
       "      <th>rand50_3</th>\n",
       "      <td>38.677348</td>\n",
       "      <td>18.699925</td>\n",
       "      <td>50.0</td>\n",
       "    </tr>\n",
       "    <tr>\n",
       "      <th>rand10_1</th>\n",
       "      <td>41.573370</td>\n",
       "      <td>19.112320</td>\n",
       "      <td>10.0</td>\n",
       "    </tr>\n",
       "    <tr>\n",
       "      <th>rand20_1</th>\n",
       "      <td>39.613405</td>\n",
       "      <td>17.956531</td>\n",
       "      <td>20.0</td>\n",
       "    </tr>\n",
       "    <tr>\n",
       "      <th>rand20_3</th>\n",
       "      <td>40.549803</td>\n",
       "      <td>16.959709</td>\n",
       "      <td>20.0</td>\n",
       "    </tr>\n",
       "  </tbody>\n",
       "</table>\n",
       "</div>"
      ],
      "text/plain": [
       "          avg_pctIdentity  std_pctIdentity  num_element\n",
       "rand33_1        39.721155        15.251149         33.0\n",
       "rand50_3        38.677348        18.699925         50.0\n",
       "rand10_1        41.573370        19.112320         10.0\n",
       "rand20_1        39.613405        17.956531         20.0\n",
       "rand20_3        40.549803        16.959709         20.0"
      ]
     },
     "execution_count": 51,
     "metadata": {},
     "output_type": "execute_result"
    }
   ],
   "source": [
    "rand_summary_df = rand_summary_df.T\n",
    "rand_summary_df.head()"
   ]
  },
  {
   "cell_type": "code",
   "execution_count": 28,
   "id": "b67645a0-d9c3-4d57-86e2-6c7ac7e69881",
   "metadata": {},
   "outputs": [
    {
     "data": {
      "text/plain": [
       "<Axes: xlabel='num_element', ylabel='avg_pctIdentity'>"
      ]
     },
     "execution_count": 28,
     "metadata": {},
     "output_type": "execute_result"
    },
    {
     "data": {
      "image/png": "[encoded data removed]",
      "text/plain": [
       "<Figure size 640x480 with 1 Axes>"
      ]
     },
     "metadata": {},
     "output_type": "display_data"
    }
   ],
   "source": [
    "sn.pointplot( data = rand_summary_df, x = 'num_element', y = 'avg_pctIdentity', markers = 'o')"
   ]
  },
  {
   "cell_type": "code",
   "execution_count": 34,
   "id": "d0d1736c-9308-4de4-99c1-8fc2883e0e57",
   "metadata": {},
   "outputs": [],
   "source": [
    "rand_summary_df['condition'] = ['control' for i in rand_summary_df.index ]"
   ]
  },
  {
   "cell_type": "code",
   "execution_count": null,
   "id": "7c036f1a-f152-49de-bce5-3d98a789f34d",
   "metadata": {},
   "outputs": [],
   "source": []
  },
  {
   "cell_type": "markdown",
   "id": "051c1f11-3622-44bb-8f5e-ac8c6b16dd30",
   "metadata": {},
   "source": [
    "## load result and get summary for mutant up condition"
   ]
  },
  {
   "cell_type": "code",
   "execution_count": 4,
   "id": "0b436c3a-a9bf-4ccf-848f-bb1d2631b04a",
   "metadata": {},
   "outputs": [
    {
     "data": {
      "text/plain": [
       "6      squire_top20_df_pairwise_identity.csv\n",
       "15     squire_top10_df_pairwise_identity.csv\n",
       "16    squire_last50_df_pairwise_identity.csv\n",
       "40     squire_top50_df_pairwise_identity.csv\n",
       "dtype: object"
      ]
     },
     "execution_count": 4,
     "metadata": {},
     "output_type": "execute_result"
    }
   ],
   "source": [
    "mutf = pd.Series( os.listdir(\"./sequence_similarity_results/\") )\n",
    "mutf = mutf[ mutf.str.startswith('squire')]\n",
    "mutf"
   ]
  },
  {
   "cell_type": "code",
   "execution_count": 5,
   "id": "e83d027b-831e-4f1f-936a-03828a23e677",
   "metadata": {},
   "outputs": [],
   "source": [
    "mut_summary_df = pd.DataFrame(index = ['avg_pctIdentity', 'std_pctIdentity', 'num_element'])\n",
    "mut_df_ls = []\n",
    "\n",
    "for mf in mutf:\n",
    "    # get data meta information\n",
    "    f_info = mf.split(\"_\")[1]\n",
    "    f_id = 'mut_up_' + f_info\n",
    "    num_elements = int( f_info[-2::] )\n",
    "    \n",
    "    # load df\n",
    "    df = pd.read_csv(\"./sequence_similarity_results/\" + mf, header = 0, index_col = None )\n",
    "    \n",
    "    #get avg and std score\n",
    "    avg_score = df['PercentIdentity'].mean()\n",
    "    std_score = df['PercentIdentity'].std()\n",
    "\n",
    "    # add result to the result df\n",
    "    mut_summary_df[ f_id ] = [ avg_score, std_score, num_elements ]\n",
    "    mut_df_ls.append( df )\n",
    "    \n",
    "    \n",
    "    "
   ]
  },
  {
   "cell_type": "code",
   "execution_count": 6,
   "id": "8eaaf39b-ff20-4838-a331-18d21a68cd3b",
   "metadata": {},
   "outputs": [
    {
     "data": {
      "text/plain": [
       "(190, 4)"
      ]
     },
     "execution_count": 6,
     "metadata": {},
     "output_type": "execute_result"
    }
   ],
   "source": [
    "mut_df_ls[0].shape"
   ]
  },
  {
   "cell_type": "code",
   "execution_count": 7,
   "id": "3ff4fcfc-b38e-48fc-bfd1-964794f084b9",
   "metadata": {},
   "outputs": [
    {
     "data": {
      "text/html": [
       "<div>\n",
       "<style scoped>\n",
       "    .dataframe tbody tr th:only-of-type {\n",
       "        vertical-align: middle;\n",
       "    }\n",
       "\n",
       "    .dataframe tbody tr th {\n",
       "        vertical-align: top;\n",
       "    }\n",
       "\n",
       "    .dataframe thead th {\n",
       "        text-align: right;\n",
       "    }\n",
       "</style>\n",
       "<table border=\"1\" class=\"dataframe\">\n",
       "  <thead>\n",
       "    <tr style=\"text-align: right;\">\n",
       "      <th></th>\n",
       "      <th>mut_up_top20</th>\n",
       "      <th>mut_up_top10</th>\n",
       "      <th>mut_up_last50</th>\n",
       "      <th>mut_up_top50</th>\n",
       "    </tr>\n",
       "  </thead>\n",
       "  <tbody>\n",
       "    <tr>\n",
       "      <th>avg_pctIdentity</th>\n",
       "      <td>30.920809</td>\n",
       "      <td>29.135368</td>\n",
       "      <td>30.864983</td>\n",
       "      <td>31.567832</td>\n",
       "    </tr>\n",
       "    <tr>\n",
       "      <th>std_pctIdentity</th>\n",
       "      <td>26.255202</td>\n",
       "      <td>23.714132</td>\n",
       "      <td>20.974193</td>\n",
       "      <td>24.140729</td>\n",
       "    </tr>\n",
       "    <tr>\n",
       "      <th>num_element</th>\n",
       "      <td>20.000000</td>\n",
       "      <td>10.000000</td>\n",
       "      <td>50.000000</td>\n",
       "      <td>50.000000</td>\n",
       "    </tr>\n",
       "  </tbody>\n",
       "</table>\n",
       "</div>"
      ],
      "text/plain": [
       "                 mut_up_top20  mut_up_top10  mut_up_last50  mut_up_top50\n",
       "avg_pctIdentity     30.920809     29.135368      30.864983     31.567832\n",
       "std_pctIdentity     26.255202     23.714132      20.974193     24.140729\n",
       "num_element         20.000000     10.000000      50.000000     50.000000"
      ]
     },
     "execution_count": 7,
     "metadata": {},
     "output_type": "execute_result"
    }
   ],
   "source": [
    "mut_summary_df"
   ]
  },
  {
   "cell_type": "code",
   "execution_count": 8,
   "id": "6736c719-68a0-47bf-ac5e-22c5d5d97fbe",
   "metadata": {},
   "outputs": [
    {
     "data": {
      "text/html": [
       "<div>\n",
       "<style scoped>\n",
       "    .dataframe tbody tr th:only-of-type {\n",
       "        vertical-align: middle;\n",
       "    }\n",
       "\n",
       "    .dataframe tbody tr th {\n",
       "        vertical-align: top;\n",
       "    }\n",
       "\n",
       "    .dataframe thead th {\n",
       "        text-align: right;\n",
       "    }\n",
       "</style>\n",
       "<table border=\"1\" class=\"dataframe\">\n",
       "  <thead>\n",
       "    <tr style=\"text-align: right;\">\n",
       "      <th></th>\n",
       "      <th>avg_pctIdentity</th>\n",
       "      <th>std_pctIdentity</th>\n",
       "      <th>num_element</th>\n",
       "      <th>condition</th>\n",
       "    </tr>\n",
       "  </thead>\n",
       "  <tbody>\n",
       "    <tr>\n",
       "      <th>mut_up_top20</th>\n",
       "      <td>30.920809</td>\n",
       "      <td>26.255202</td>\n",
       "      <td>20.0</td>\n",
       "      <td>mutant_up</td>\n",
       "    </tr>\n",
       "    <tr>\n",
       "      <th>mut_up_top10</th>\n",
       "      <td>29.135368</td>\n",
       "      <td>23.714132</td>\n",
       "      <td>10.0</td>\n",
       "      <td>mutant_up</td>\n",
       "    </tr>\n",
       "    <tr>\n",
       "      <th>mut_up_last50</th>\n",
       "      <td>30.864983</td>\n",
       "      <td>20.974193</td>\n",
       "      <td>50.0</td>\n",
       "      <td>mutant_up</td>\n",
       "    </tr>\n",
       "    <tr>\n",
       "      <th>mut_up_top50</th>\n",
       "      <td>31.567832</td>\n",
       "      <td>24.140729</td>\n",
       "      <td>50.0</td>\n",
       "      <td>mutant_up</td>\n",
       "    </tr>\n",
       "  </tbody>\n",
       "</table>\n",
       "</div>"
      ],
      "text/plain": [
       "               avg_pctIdentity  std_pctIdentity  num_element  condition\n",
       "mut_up_top20         30.920809        26.255202         20.0  mutant_up\n",
       "mut_up_top10         29.135368        23.714132         10.0  mutant_up\n",
       "mut_up_last50        30.864983        20.974193         50.0  mutant_up\n",
       "mut_up_top50         31.567832        24.140729         50.0  mutant_up"
      ]
     },
     "execution_count": 8,
     "metadata": {},
     "output_type": "execute_result"
    }
   ],
   "source": [
    "mut_summary_df =mut_summary_df.T\n",
    "mut_summary_df['condition'] = ['mutant_up' for i in  mut_summary_df.index]\n",
    "mut_summary_df"
   ]
  },
  {
   "cell_type": "code",
   "execution_count": null,
   "id": "7f2142a1-056c-407a-96b1-7363ebede166",
   "metadata": {},
   "outputs": [],
   "source": []
  },
  {
   "cell_type": "markdown",
   "id": "ec1677c6-0328-4c4a-b0b0-b13d0c26750b",
   "metadata": {},
   "source": [
    "## load result and get summary for WT conditon"
   ]
  },
  {
   "cell_type": "code",
   "execution_count": null,
   "id": "993934eb-b007-48da-bf89-fc1f263a8812",
   "metadata": {},
   "outputs": [],
   "source": []
  },
  {
   "cell_type": "code",
   "execution_count": 9,
   "id": "a7367cdf-db24-4bf2-8950-68dc9f2a31d8",
   "metadata": {},
   "outputs": [
    {
     "data": {
      "text/plain": [
       "11    wt_top_all_df_pairwise_identity.csv\n",
       "42      wt_top20_df_pairwise_identity.csv\n",
       "47      wt_top10_df_pairwise_identity.csv\n",
       "dtype: object"
      ]
     },
     "execution_count": 9,
     "metadata": {},
     "output_type": "execute_result"
    }
   ],
   "source": [
    "wf = pd.Series( os.listdir(\"./sequence_similarity_results/\") )\n",
    "wf = wf[ wf.str.startswith('wt')]\n",
    "wf"
   ]
  },
  {
   "cell_type": "code",
   "execution_count": 10,
   "id": "8e216672-9e1f-44c1-bab4-b6a907dd3413",
   "metadata": {},
   "outputs": [
    {
     "name": "stdout",
     "output_type": "stream",
     "text": [
      "reading wt_top_all_df_pairwise_identity.csv\n",
      "reading wt_top20_df_pairwise_identity.csv\n",
      "reading wt_top10_df_pairwise_identity.csv\n"
     ]
    }
   ],
   "source": [
    "w_summary_df = pd.DataFrame(index = ['avg_pctIdentity', 'std_pctIdentity', 'num_element'])\n",
    "wt_nums = [33,20,10]\n",
    "wt_ids = [ f'wt_up_{i}' for i in wt_nums ]\n",
    "wt_df_ls = []\n",
    "\n",
    "for i,w in enumerate(wf):\n",
    "    # get data meta information\n",
    "    f_id = wt_ids[i]\n",
    "    num_elements = wt_nums[i]\n",
    "    \n",
    "    # load df\n",
    "    print( 'reading ' + w )\n",
    "    df = pd.read_csv(\"./sequence_similarity_results/\" + w, header = 0, index_col = None )\n",
    "    \n",
    "    #get avg and std score\n",
    "    avg_score = df['PercentIdentity'].mean()\n",
    "    std_score = df['PercentIdentity'].std()\n",
    "\n",
    "    # add result to the result df\n",
    "    w_summary_df[ f_id ] = [ avg_score, std_score, num_elements ]\n",
    "    wt_df_ls.append( df )\n",
    "    \n",
    "    \n",
    "    "
   ]
  },
  {
   "cell_type": "code",
   "execution_count": 11,
   "id": "46361314-a231-4f86-b564-a0c24211a377",
   "metadata": {},
   "outputs": [
    {
     "data": {
      "text/plain": [
       "(528, 4)"
      ]
     },
     "execution_count": 11,
     "metadata": {},
     "output_type": "execute_result"
    }
   ],
   "source": [
    "wt_df_ls[0].shape"
   ]
  },
  {
   "cell_type": "code",
   "execution_count": 12,
   "id": "15e8986a-2014-4961-950d-3ab2cea54b36",
   "metadata": {},
   "outputs": [
    {
     "data": {
      "text/html": [
       "<div>\n",
       "<style scoped>\n",
       "    .dataframe tbody tr th:only-of-type {\n",
       "        vertical-align: middle;\n",
       "    }\n",
       "\n",
       "    .dataframe tbody tr th {\n",
       "        vertical-align: top;\n",
       "    }\n",
       "\n",
       "    .dataframe thead th {\n",
       "        text-align: right;\n",
       "    }\n",
       "</style>\n",
       "<table border=\"1\" class=\"dataframe\">\n",
       "  <thead>\n",
       "    <tr style=\"text-align: right;\">\n",
       "      <th></th>\n",
       "      <th>wt_up_33</th>\n",
       "      <th>wt_up_20</th>\n",
       "      <th>wt_up_10</th>\n",
       "    </tr>\n",
       "  </thead>\n",
       "  <tbody>\n",
       "    <tr>\n",
       "      <th>avg_pctIdentity</th>\n",
       "      <td>29.435993</td>\n",
       "      <td>27.326824</td>\n",
       "      <td>24.427313</td>\n",
       "    </tr>\n",
       "    <tr>\n",
       "      <th>std_pctIdentity</th>\n",
       "      <td>19.757601</td>\n",
       "      <td>19.316601</td>\n",
       "      <td>18.360094</td>\n",
       "    </tr>\n",
       "    <tr>\n",
       "      <th>num_element</th>\n",
       "      <td>33.000000</td>\n",
       "      <td>20.000000</td>\n",
       "      <td>10.000000</td>\n",
       "    </tr>\n",
       "  </tbody>\n",
       "</table>\n",
       "</div>"
      ],
      "text/plain": [
       "                  wt_up_33   wt_up_20   wt_up_10\n",
       "avg_pctIdentity  29.435993  27.326824  24.427313\n",
       "std_pctIdentity  19.757601  19.316601  18.360094\n",
       "num_element      33.000000  20.000000  10.000000"
      ]
     },
     "execution_count": 12,
     "metadata": {},
     "output_type": "execute_result"
    }
   ],
   "source": [
    "w_summary_df"
   ]
  },
  {
   "cell_type": "code",
   "execution_count": 13,
   "id": "4877e503-4fde-43f8-9ebe-c97b494101e9",
   "metadata": {},
   "outputs": [
    {
     "data": {
      "text/html": [
       "<div>\n",
       "<style scoped>\n",
       "    .dataframe tbody tr th:only-of-type {\n",
       "        vertical-align: middle;\n",
       "    }\n",
       "\n",
       "    .dataframe tbody tr th {\n",
       "        vertical-align: top;\n",
       "    }\n",
       "\n",
       "    .dataframe thead th {\n",
       "        text-align: right;\n",
       "    }\n",
       "</style>\n",
       "<table border=\"1\" class=\"dataframe\">\n",
       "  <thead>\n",
       "    <tr style=\"text-align: right;\">\n",
       "      <th></th>\n",
       "      <th>avg_pctIdentity</th>\n",
       "      <th>std_pctIdentity</th>\n",
       "      <th>num_element</th>\n",
       "      <th>condition</th>\n",
       "    </tr>\n",
       "  </thead>\n",
       "  <tbody>\n",
       "    <tr>\n",
       "      <th>wt_up_33</th>\n",
       "      <td>29.435993</td>\n",
       "      <td>19.757601</td>\n",
       "      <td>33.0</td>\n",
       "      <td>wt_up</td>\n",
       "    </tr>\n",
       "    <tr>\n",
       "      <th>wt_up_20</th>\n",
       "      <td>27.326824</td>\n",
       "      <td>19.316601</td>\n",
       "      <td>20.0</td>\n",
       "      <td>wt_up</td>\n",
       "    </tr>\n",
       "    <tr>\n",
       "      <th>wt_up_10</th>\n",
       "      <td>24.427313</td>\n",
       "      <td>18.360094</td>\n",
       "      <td>10.0</td>\n",
       "      <td>wt_up</td>\n",
       "    </tr>\n",
       "  </tbody>\n",
       "</table>\n",
       "</div>"
      ],
      "text/plain": [
       "          avg_pctIdentity  std_pctIdentity  num_element condition\n",
       "wt_up_33        29.435993        19.757601         33.0     wt_up\n",
       "wt_up_20        27.326824        19.316601         20.0     wt_up\n",
       "wt_up_10        24.427313        18.360094         10.0     wt_up"
      ]
     },
     "execution_count": 13,
     "metadata": {},
     "output_type": "execute_result"
    }
   ],
   "source": [
    "w_summary_df =w_summary_df.T\n",
    "w_summary_df['condition'] = ['wt_up' for i in  w_summary_df.index]\n",
    "w_summary_df"
   ]
  },
  {
   "cell_type": "code",
   "execution_count": null,
   "id": "0cc64b37-aa95-4101-8067-64cdb89d9148",
   "metadata": {},
   "outputs": [],
   "source": []
  },
  {
   "cell_type": "markdown",
   "id": "24adc1b2-e7bf-4a11-88c7-f93cad5a0e59",
   "metadata": {},
   "source": [
    "## plot combined result"
   ]
  },
  {
   "cell_type": "code",
   "execution_count": 41,
   "id": "af314ecd-3ab3-4e99-8a33-d34e10610b54",
   "metadata": {},
   "outputs": [
    {
     "data": {
      "text/plain": [
       "(19, 4)"
      ]
     },
     "execution_count": 41,
     "metadata": {},
     "output_type": "execute_result"
    }
   ],
   "source": [
    "comb_df = pd.concat( [ rand_summary_df, mut_summary_df, w_summary_df ], axis = 0,)\n",
    "comb_df.shape"
   ]
  },
  {
   "cell_type": "code",
   "execution_count": 42,
   "id": "b4166602-0cd4-4ce9-9462-a3297c320037",
   "metadata": {},
   "outputs": [
    {
     "data": {
      "text/html": [
       "<div>\n",
       "<style scoped>\n",
       "    .dataframe tbody tr th:only-of-type {\n",
       "        vertical-align: middle;\n",
       "    }\n",
       "\n",
       "    .dataframe tbody tr th {\n",
       "        vertical-align: top;\n",
       "    }\n",
       "\n",
       "    .dataframe thead th {\n",
       "        text-align: right;\n",
       "    }\n",
       "</style>\n",
       "<table border=\"1\" class=\"dataframe\">\n",
       "  <thead>\n",
       "    <tr style=\"text-align: right;\">\n",
       "      <th></th>\n",
       "      <th>avg_pctIdentity</th>\n",
       "      <th>std_pctIdentity</th>\n",
       "      <th>num_element</th>\n",
       "      <th>condition</th>\n",
       "    </tr>\n",
       "  </thead>\n",
       "  <tbody>\n",
       "    <tr>\n",
       "      <th>rand33_1</th>\n",
       "      <td>39.721155</td>\n",
       "      <td>15.251149</td>\n",
       "      <td>33.0</td>\n",
       "      <td>control</td>\n",
       "    </tr>\n",
       "    <tr>\n",
       "      <th>rand50_3</th>\n",
       "      <td>38.677348</td>\n",
       "      <td>18.699925</td>\n",
       "      <td>50.0</td>\n",
       "      <td>control</td>\n",
       "    </tr>\n",
       "    <tr>\n",
       "      <th>rand10_1</th>\n",
       "      <td>41.573370</td>\n",
       "      <td>19.112320</td>\n",
       "      <td>10.0</td>\n",
       "      <td>control</td>\n",
       "    </tr>\n",
       "    <tr>\n",
       "      <th>rand20_1</th>\n",
       "      <td>39.613405</td>\n",
       "      <td>17.956531</td>\n",
       "      <td>20.0</td>\n",
       "      <td>control</td>\n",
       "    </tr>\n",
       "    <tr>\n",
       "      <th>rand20_3</th>\n",
       "      <td>40.549803</td>\n",
       "      <td>16.959709</td>\n",
       "      <td>20.0</td>\n",
       "      <td>control</td>\n",
       "    </tr>\n",
       "    <tr>\n",
       "      <th>rand20_2</th>\n",
       "      <td>34.869574</td>\n",
       "      <td>20.738495</td>\n",
       "      <td>20.0</td>\n",
       "      <td>control</td>\n",
       "    </tr>\n",
       "    <tr>\n",
       "      <th>rand10_2</th>\n",
       "      <td>33.855872</td>\n",
       "      <td>20.000627</td>\n",
       "      <td>10.0</td>\n",
       "      <td>control</td>\n",
       "    </tr>\n",
       "    <tr>\n",
       "      <th>rand10_3</th>\n",
       "      <td>52.896826</td>\n",
       "      <td>15.333028</td>\n",
       "      <td>10.0</td>\n",
       "      <td>control</td>\n",
       "    </tr>\n",
       "    <tr>\n",
       "      <th>rand33_2</th>\n",
       "      <td>36.283183</td>\n",
       "      <td>17.413158</td>\n",
       "      <td>33.0</td>\n",
       "      <td>control</td>\n",
       "    </tr>\n",
       "    <tr>\n",
       "      <th>rand50_1</th>\n",
       "      <td>37.752105</td>\n",
       "      <td>17.934334</td>\n",
       "      <td>50.0</td>\n",
       "      <td>control</td>\n",
       "    </tr>\n",
       "    <tr>\n",
       "      <th>rand50_2</th>\n",
       "      <td>38.688278</td>\n",
       "      <td>17.974333</td>\n",
       "      <td>50.0</td>\n",
       "      <td>control</td>\n",
       "    </tr>\n",
       "    <tr>\n",
       "      <th>rand33_3</th>\n",
       "      <td>37.970343</td>\n",
       "      <td>18.998045</td>\n",
       "      <td>33.0</td>\n",
       "      <td>control</td>\n",
       "    </tr>\n",
       "    <tr>\n",
       "      <th>mut_up_top20</th>\n",
       "      <td>30.920809</td>\n",
       "      <td>26.255202</td>\n",
       "      <td>20.0</td>\n",
       "      <td>mutant_up</td>\n",
       "    </tr>\n",
       "    <tr>\n",
       "      <th>mut_up_top10</th>\n",
       "      <td>29.135368</td>\n",
       "      <td>23.714132</td>\n",
       "      <td>10.0</td>\n",
       "      <td>mutant_up</td>\n",
       "    </tr>\n",
       "    <tr>\n",
       "      <th>mut_up_last50</th>\n",
       "      <td>30.864983</td>\n",
       "      <td>20.974193</td>\n",
       "      <td>50.0</td>\n",
       "      <td>mutant_up</td>\n",
       "    </tr>\n",
       "    <tr>\n",
       "      <th>mut_up_top50</th>\n",
       "      <td>31.567832</td>\n",
       "      <td>24.140729</td>\n",
       "      <td>50.0</td>\n",
       "      <td>mutant_up</td>\n",
       "    </tr>\n",
       "    <tr>\n",
       "      <th>wt_up_33</th>\n",
       "      <td>29.435993</td>\n",
       "      <td>19.757601</td>\n",
       "      <td>33.0</td>\n",
       "      <td>wt_up</td>\n",
       "    </tr>\n",
       "    <tr>\n",
       "      <th>wt_up_20</th>\n",
       "      <td>27.326824</td>\n",
       "      <td>19.316601</td>\n",
       "      <td>20.0</td>\n",
       "      <td>wt_up</td>\n",
       "    </tr>\n",
       "    <tr>\n",
       "      <th>wt_up_10</th>\n",
       "      <td>24.427313</td>\n",
       "      <td>18.360094</td>\n",
       "      <td>10.0</td>\n",
       "      <td>wt_up</td>\n",
       "    </tr>\n",
       "  </tbody>\n",
       "</table>\n",
       "</div>"
      ],
      "text/plain": [
       "               avg_pctIdentity  std_pctIdentity  num_element  condition\n",
       "rand33_1             39.721155        15.251149         33.0    control\n",
       "rand50_3             38.677348        18.699925         50.0    control\n",
       "rand10_1             41.573370        19.112320         10.0    control\n",
       "rand20_1             39.613405        17.956531         20.0    control\n",
       "rand20_3             40.549803        16.959709         20.0    control\n",
       "rand20_2             34.869574        20.738495         20.0    control\n",
       "rand10_2             33.855872        20.000627         10.0    control\n",
       "rand10_3             52.896826        15.333028         10.0    control\n",
       "rand33_2             36.283183        17.413158         33.0    control\n",
       "rand50_1             37.752105        17.934334         50.0    control\n",
       "rand50_2             38.688278        17.974333         50.0    control\n",
       "rand33_3             37.970343        18.998045         33.0    control\n",
       "mut_up_top20         30.920809        26.255202         20.0  mutant_up\n",
       "mut_up_top10         29.135368        23.714132         10.0  mutant_up\n",
       "mut_up_last50        30.864983        20.974193         50.0  mutant_up\n",
       "mut_up_top50         31.567832        24.140729         50.0  mutant_up\n",
       "wt_up_33             29.435993        19.757601         33.0      wt_up\n",
       "wt_up_20             27.326824        19.316601         20.0      wt_up\n",
       "wt_up_10             24.427313        18.360094         10.0      wt_up"
      ]
     },
     "execution_count": 42,
     "metadata": {},
     "output_type": "execute_result"
    }
   ],
   "source": [
    "comb_df"
   ]
  },
  {
   "cell_type": "code",
   "execution_count": 48,
   "id": "630e4c40-9eb1-40ce-9c96-51ac0b93e275",
   "metadata": {},
   "outputs": [
    {
     "data": {
      "text/plain": [
       "<Axes: xlabel='num_element', ylabel='avg_pctIdentity'>"
      ]
     },
     "execution_count": 48,
     "metadata": {},
     "output_type": "execute_result"
    },
    {
     "data": {
      "image/png": "[encoded data removed]",
      "text/plain": [
       "<Figure size 640x480 with 1 Axes>"
      ]
     },
     "metadata": {},
     "output_type": "display_data"
    }
   ],
   "source": [
    "sn.pointplot( data = comb_df, x = 'num_element', y = 'avg_pctIdentity', markers = 'o', hue = 'condition',linewidth=0.5,)"
   ]
  },
  {
   "cell_type": "code",
   "execution_count": 59,
   "id": "9c72668d-8b92-4f27-8cef-838a09757617",
   "metadata": {},
   "outputs": [
    {
     "data": {
      "text/plain": [
       "<Axes: xlabel='num_element', ylabel='std_pctIdentity'>"
      ]
     },
     "execution_count": 59,
     "metadata": {},
     "output_type": "execute_result"
    },
    {
     "data": {
      "image/png": "[encoded data removed]",
      "text/plain": [
       "<Figure size 640x480 with 1 Axes>"
      ]
     },
     "metadata": {},
     "output_type": "display_data"
    }
   ],
   "source": [
    "sn.pointplot( data = comb_df, x = 'num_element', y = 'std_pctIdentity', markers = 'd', hue = 'condition',linewidth=1,)"
   ]
  },
  {
   "cell_type": "code",
   "execution_count": 68,
   "id": "d7da19d1-e33d-484f-b993-841718ecdaa2",
   "metadata": {},
   "outputs": [],
   "source": [
    "comb_df.sort_values( by = ['condition' , 'num_element'], inplace=True)"
   ]
  },
  {
   "cell_type": "code",
   "execution_count": 70,
   "id": "6330a4ea-6d89-406c-9876-9263595e4e73",
   "metadata": {
    "collapsed": true,
    "jupyter": {
     "outputs_hidden": true
    }
   },
   "outputs": [
    {
     "data": {
      "text/html": [
       "<div>\n",
       "<style scoped>\n",
       "    .dataframe tbody tr th:only-of-type {\n",
       "        vertical-align: middle;\n",
       "    }\n",
       "\n",
       "    .dataframe tbody tr th {\n",
       "        vertical-align: top;\n",
       "    }\n",
       "\n",
       "    .dataframe thead th {\n",
       "        text-align: right;\n",
       "    }\n",
       "</style>\n",
       "<table border=\"1\" class=\"dataframe\">\n",
       "  <thead>\n",
       "    <tr style=\"text-align: right;\">\n",
       "      <th></th>\n",
       "      <th>avg_pctIdentity</th>\n",
       "      <th>std_pctIdentity</th>\n",
       "      <th>num_element</th>\n",
       "      <th>condition</th>\n",
       "    </tr>\n",
       "  </thead>\n",
       "  <tbody>\n",
       "    <tr>\n",
       "      <th>rand10_1</th>\n",
       "      <td>41.573370</td>\n",
       "      <td>19.112320</td>\n",
       "      <td>10.0</td>\n",
       "      <td>control</td>\n",
       "    </tr>\n",
       "    <tr>\n",
       "      <th>rand10_2</th>\n",
       "      <td>33.855872</td>\n",
       "      <td>20.000627</td>\n",
       "      <td>10.0</td>\n",
       "      <td>control</td>\n",
       "    </tr>\n",
       "    <tr>\n",
       "      <th>rand10_3</th>\n",
       "      <td>52.896826</td>\n",
       "      <td>15.333028</td>\n",
       "      <td>10.0</td>\n",
       "      <td>control</td>\n",
       "    </tr>\n",
       "    <tr>\n",
       "      <th>rand20_1</th>\n",
       "      <td>39.613405</td>\n",
       "      <td>17.956531</td>\n",
       "      <td>20.0</td>\n",
       "      <td>control</td>\n",
       "    </tr>\n",
       "    <tr>\n",
       "      <th>rand20_3</th>\n",
       "      <td>40.549803</td>\n",
       "      <td>16.959709</td>\n",
       "      <td>20.0</td>\n",
       "      <td>control</td>\n",
       "    </tr>\n",
       "    <tr>\n",
       "      <th>rand20_2</th>\n",
       "      <td>34.869574</td>\n",
       "      <td>20.738495</td>\n",
       "      <td>20.0</td>\n",
       "      <td>control</td>\n",
       "    </tr>\n",
       "    <tr>\n",
       "      <th>rand33_1</th>\n",
       "      <td>39.721155</td>\n",
       "      <td>15.251149</td>\n",
       "      <td>33.0</td>\n",
       "      <td>control</td>\n",
       "    </tr>\n",
       "    <tr>\n",
       "      <th>rand33_2</th>\n",
       "      <td>36.283183</td>\n",
       "      <td>17.413158</td>\n",
       "      <td>33.0</td>\n",
       "      <td>control</td>\n",
       "    </tr>\n",
       "    <tr>\n",
       "      <th>rand33_3</th>\n",
       "      <td>37.970343</td>\n",
       "      <td>18.998045</td>\n",
       "      <td>33.0</td>\n",
       "      <td>control</td>\n",
       "    </tr>\n",
       "    <tr>\n",
       "      <th>rand50_3</th>\n",
       "      <td>38.677348</td>\n",
       "      <td>18.699925</td>\n",
       "      <td>50.0</td>\n",
       "      <td>control</td>\n",
       "    </tr>\n",
       "    <tr>\n",
       "      <th>rand50_1</th>\n",
       "      <td>37.752105</td>\n",
       "      <td>17.934334</td>\n",
       "      <td>50.0</td>\n",
       "      <td>control</td>\n",
       "    </tr>\n",
       "    <tr>\n",
       "      <th>rand50_2</th>\n",
       "      <td>38.688278</td>\n",
       "      <td>17.974333</td>\n",
       "      <td>50.0</td>\n",
       "      <td>control</td>\n",
       "    </tr>\n",
       "    <tr>\n",
       "      <th>mut_up_top10</th>\n",
       "      <td>29.135368</td>\n",
       "      <td>23.714132</td>\n",
       "      <td>10.0</td>\n",
       "      <td>mutant_up</td>\n",
       "    </tr>\n",
       "    <tr>\n",
       "      <th>mut_up_top20</th>\n",
       "      <td>30.920809</td>\n",
       "      <td>26.255202</td>\n",
       "      <td>20.0</td>\n",
       "      <td>mutant_up</td>\n",
       "    </tr>\n",
       "    <tr>\n",
       "      <th>mut_up_last50</th>\n",
       "      <td>30.864983</td>\n",
       "      <td>20.974193</td>\n",
       "      <td>50.0</td>\n",
       "      <td>mutant_up</td>\n",
       "    </tr>\n",
       "    <tr>\n",
       "      <th>mut_up_top50</th>\n",
       "      <td>31.567832</td>\n",
       "      <td>24.140729</td>\n",
       "      <td>50.0</td>\n",
       "      <td>mutant_up</td>\n",
       "    </tr>\n",
       "    <tr>\n",
       "      <th>wt_up_10</th>\n",
       "      <td>24.427313</td>\n",
       "      <td>18.360094</td>\n",
       "      <td>10.0</td>\n",
       "      <td>wt_up</td>\n",
       "    </tr>\n",
       "    <tr>\n",
       "      <th>wt_up_20</th>\n",
       "      <td>27.326824</td>\n",
       "      <td>19.316601</td>\n",
       "      <td>20.0</td>\n",
       "      <td>wt_up</td>\n",
       "    </tr>\n",
       "    <tr>\n",
       "      <th>wt_up_33</th>\n",
       "      <td>29.435993</td>\n",
       "      <td>19.757601</td>\n",
       "      <td>33.0</td>\n",
       "      <td>wt_up</td>\n",
       "    </tr>\n",
       "  </tbody>\n",
       "</table>\n",
       "</div>"
      ],
      "text/plain": [
       "               avg_pctIdentity  std_pctIdentity  num_element  condition\n",
       "rand10_1             41.573370        19.112320         10.0    control\n",
       "rand10_2             33.855872        20.000627         10.0    control\n",
       "rand10_3             52.896826        15.333028         10.0    control\n",
       "rand20_1             39.613405        17.956531         20.0    control\n",
       "rand20_3             40.549803        16.959709         20.0    control\n",
       "rand20_2             34.869574        20.738495         20.0    control\n",
       "rand33_1             39.721155        15.251149         33.0    control\n",
       "rand33_2             36.283183        17.413158         33.0    control\n",
       "rand33_3             37.970343        18.998045         33.0    control\n",
       "rand50_3             38.677348        18.699925         50.0    control\n",
       "rand50_1             37.752105        17.934334         50.0    control\n",
       "rand50_2             38.688278        17.974333         50.0    control\n",
       "mut_up_top10         29.135368        23.714132         10.0  mutant_up\n",
       "mut_up_top20         30.920809        26.255202         20.0  mutant_up\n",
       "mut_up_last50        30.864983        20.974193         50.0  mutant_up\n",
       "mut_up_top50         31.567832        24.140729         50.0  mutant_up\n",
       "wt_up_10             24.427313        18.360094         10.0      wt_up\n",
       "wt_up_20             27.326824        19.316601         20.0      wt_up\n",
       "wt_up_33             29.435993        19.757601         33.0      wt_up"
      ]
     },
     "execution_count": 70,
     "metadata": {},
     "output_type": "execute_result"
    }
   ],
   "source": [
    "comb_df"
   ]
  },
  {
   "cell_type": "code",
   "execution_count": 72,
   "id": "746e96ae-1443-4f02-88ed-1baa74a94fd1",
   "metadata": {},
   "outputs": [
    {
     "data": {
      "image/png": "[encoded data removed]",
      "text/plain": [
       "<Figure size 800x600 with 1 Axes>"
      ]
     },
     "metadata": {},
     "output_type": "display_data"
    }
   ],
   "source": [
    "condition_colors = {\n",
    "    'control': 'gray',\n",
    "    'mutant_up': 'salmon',\n",
    "    'wt_up':'cornflowerblue'\n",
    "}\n",
    "bar_colors = [condition_colors[cond] for cond in comb_df['condition'] ]\n",
    "\n",
    "plt.figure(figsize=(8, 6))\n",
    "\n",
    "\n",
    "plt.bar(comb_df.index, comb_df['avg_pctIdentity'] , yerr=comb_df['std_pctIdentity'], capsize=5, color=bar_colors, edgecolor='black')\n",
    "\n",
    "plt.xticks(rotation=45, ha='right') \n",
    "\n",
    "legend_elements = [Patch(facecolor=color, label=cond) for cond, color in condition_colors.items()]\n",
    "plt.legend(handles=legend_elements, title='dTE Groups ')\n",
    "\n",
    "plt.ylabel('Average Similarity Score')\n",
    "plt.title('Sequence Similarity across differential TE groups')\n",
    "plt.grid(axis='y', linestyle='--', alpha=0.7)\n",
    "\n",
    "# Show plot\n",
    "plt.tight_layout()\n",
    "plt.show()\n",
    "\n",
    "\n"
   ]
  },
  {
   "cell_type": "markdown",
   "id": "a49f6be6-17f5-4e7a-8368-94bff6caaa9f",
   "metadata": {},
   "source": [
    "## print sequence alignment"
   ]
  },
  {
   "cell_type": "code",
   "execution_count": 74,
   "id": "5ec6e63a-fbd8-49fa-ab56-c4a1e45d80d8",
   "metadata": {},
   "outputs": [
    {
     "data": {
      "text/plain": [
       "Index(['rand33_1', 'rand50_3', 'rand10_1', 'rand20_1', 'rand20_3', 'rand20_2',\n",
       "       'rand10_2', 'rand10_3', 'rand33_2', 'rand50_1', 'rand50_2', 'rand33_3'],\n",
       "      dtype='object')"
      ]
     },
     "execution_count": 74,
     "metadata": {},
     "output_type": "execute_result"
    }
   ],
   "source": [
    "rand_summary_df.index"
   ]
  },
  {
   "cell_type": "code",
   "execution_count": null,
   "id": "764cd6ea-b49c-4f9b-85fc-c325d573bed9",
   "metadata": {},
   "outputs": [],
   "source": [
    "rand_df_ls"
   ]
  },
  {
   "cell_type": "code",
   "execution_count": 75,
   "id": "c881ca5d-7f25-425a-ae90-5da24c9533fd",
   "metadata": {},
   "outputs": [
    {
     "data": {
      "text/plain": [
       "(45, 4)"
      ]
     },
     "execution_count": 75,
     "metadata": {},
     "output_type": "execute_result"
    }
   ],
   "source": [
    "rand_10_1_df = rand_df_ls[2]\n",
    "rand_10_1_df.shape"
   ]
  },
  {
   "cell_type": "code",
   "execution_count": 76,
   "id": "c3722477-fdc8-4f47-8832-8dc1167dc2c9",
   "metadata": {},
   "outputs": [
    {
     "data": {
      "text/html": [
       "<div>\n",
       "<style scoped>\n",
       "    .dataframe tbody tr th:only-of-type {\n",
       "        vertical-align: middle;\n",
       "    }\n",
       "\n",
       "    .dataframe tbody tr th {\n",
       "        vertical-align: top;\n",
       "    }\n",
       "\n",
       "    .dataframe thead th {\n",
       "        text-align: right;\n",
       "    }\n",
       "</style>\n",
       "<table border=\"1\" class=\"dataframe\">\n",
       "  <thead>\n",
       "    <tr style=\"text-align: right;\">\n",
       "      <th></th>\n",
       "      <th>ID1</th>\n",
       "      <th>ID2</th>\n",
       "      <th>PercentIdentity</th>\n",
       "      <th>Alignment_str</th>\n",
       "    </tr>\n",
       "  </thead>\n",
       "  <tbody>\n",
       "    <tr>\n",
       "      <th>0</th>\n",
       "      <td>10253_RSINE1</td>\n",
       "      <td>10764_PB1D7</td>\n",
       "      <td>62.601626</td>\n",
       "      <td>--c---t--gg-a-gagatggctcag-cag-gtaaagtcctt-gc-...</td>\n",
       "    </tr>\n",
       "    <tr>\n",
       "      <th>1</th>\n",
       "      <td>10253_RSINE1</td>\n",
       "      <td>2914_B1_Mur2</td>\n",
       "      <td>56.643357</td>\n",
       "      <td>-ctggagaga--tggct--cagca------g-gta---a---agtc...</td>\n",
       "    </tr>\n",
       "    <tr>\n",
       "      <th>2</th>\n",
       "      <td>10253_RSINE1</td>\n",
       "      <td>7794_Lx9</td>\n",
       "      <td>21.291449</td>\n",
       "      <td>-c----t-------------g--ga---------g-a---------...</td>\n",
       "    </tr>\n",
       "    <tr>\n",
       "      <th>3</th>\n",
       "      <td>10253_RSINE1</td>\n",
       "      <td>10913_L1MB5</td>\n",
       "      <td>51.250000</td>\n",
       "      <td>ctggagag-atggctcag-caggtaaa--g---tc-ct-t---gcc...</td>\n",
       "    </tr>\n",
       "    <tr>\n",
       "      <th>4</th>\n",
       "      <td>10253_RSINE1</td>\n",
       "      <td>12556_PB1D10</td>\n",
       "      <td>57.377049</td>\n",
       "      <td>ctggag--a-g-atggctcagcaggtaaagtc-cttgccatgaaag...</td>\n",
       "    </tr>\n",
       "  </tbody>\n",
       "</table>\n",
       "</div>"
      ],
      "text/plain": [
       "            ID1           ID2  PercentIdentity   \n",
       "0  10253_RSINE1   10764_PB1D7        62.601626  \\\n",
       "1  10253_RSINE1  2914_B1_Mur2        56.643357   \n",
       "2  10253_RSINE1      7794_Lx9        21.291449   \n",
       "3  10253_RSINE1   10913_L1MB5        51.250000   \n",
       "4  10253_RSINE1  12556_PB1D10        57.377049   \n",
       "\n",
       "                                       Alignment_str  \n",
       "0  --c---t--gg-a-gagatggctcag-cag-gtaaagtcctt-gc-...  \n",
       "1  -ctggagaga--tggct--cagca------g-gta---a---agtc...  \n",
       "2  -c----t-------------g--ga---------g-a---------...  \n",
       "3  ctggagag-atggctcag-caggtaaa--g---tc-ct-t---gcc...  \n",
       "4  ctggag--a-g-atggctcagcaggtaaagtc-cttgccatgaaag...  "
      ]
     },
     "execution_count": 76,
     "metadata": {},
     "output_type": "execute_result"
    }
   ],
   "source": [
    "rand_10_1_df.head()"
   ]
  },
  {
   "cell_type": "code",
   "execution_count": 77,
   "id": "c84354da-a3b2-41bc-a944-fe84618c0cfa",
   "metadata": {},
   "outputs": [],
   "source": [
    "rand_10_1_df.sort_values( by = 'PercentIdentity', ascending= False, inplace=True )"
   ]
  },
  {
   "cell_type": "code",
   "execution_count": 78,
   "id": "c5046d8e-8160-42b1-bf4a-ede9379210b5",
   "metadata": {},
   "outputs": [
    {
     "data": {
      "text/html": [
       "<div>\n",
       "<style scoped>\n",
       "    .dataframe tbody tr th:only-of-type {\n",
       "        vertical-align: middle;\n",
       "    }\n",
       "\n",
       "    .dataframe tbody tr th {\n",
       "        vertical-align: top;\n",
       "    }\n",
       "\n",
       "    .dataframe thead th {\n",
       "        text-align: right;\n",
       "    }\n",
       "</style>\n",
       "<table border=\"1\" class=\"dataframe\">\n",
       "  <thead>\n",
       "    <tr style=\"text-align: right;\">\n",
       "      <th></th>\n",
       "      <th>ID1</th>\n",
       "      <th>ID2</th>\n",
       "      <th>PercentIdentity</th>\n",
       "      <th>Alignment_str</th>\n",
       "    </tr>\n",
       "  </thead>\n",
       "  <tbody>\n",
       "    <tr>\n",
       "      <th>22</th>\n",
       "      <td>2914_B1_Mur2</td>\n",
       "      <td>13967_ID_B1</td>\n",
       "      <td>64.516129</td>\n",
       "      <td>-gct---ggg-----cctg--g--tga-c--acacaccttgagtc-...</td>\n",
       "    </tr>\n",
       "    <tr>\n",
       "      <th>6</th>\n",
       "      <td>10253_RSINE1</td>\n",
       "      <td>6170_RSINE1</td>\n",
       "      <td>63.909774</td>\n",
       "      <td>ct-ggaga-g----a--tgg--ctcagcaggtaaagtccttgccat...</td>\n",
       "    </tr>\n",
       "    <tr>\n",
       "      <th>9</th>\n",
       "      <td>10764_PB1D7</td>\n",
       "      <td>2914_B1_Mur2</td>\n",
       "      <td>63.636364</td>\n",
       "      <td>agccgatctgg-ca-tggtgg-ct-cagtc---tgta-a-tct---...</td>\n",
       "    </tr>\n",
       "    <tr>\n",
       "      <th>0</th>\n",
       "      <td>10253_RSINE1</td>\n",
       "      <td>10764_PB1D7</td>\n",
       "      <td>62.601626</td>\n",
       "      <td>--c---t--gg-a-gagatggctcag-cag-gtaaagtcctt-gc-...</td>\n",
       "    </tr>\n",
       "    <tr>\n",
       "      <th>33</th>\n",
       "      <td>10913_L1MB5</td>\n",
       "      <td>13967_ID_B1</td>\n",
       "      <td>62.500000</td>\n",
       "      <td>tatat-cttc-a---taaactgga--ata-ctat---ttagc-ca-...</td>\n",
       "    </tr>\n",
       "  </tbody>\n",
       "</table>\n",
       "</div>"
      ],
      "text/plain": [
       "             ID1           ID2  PercentIdentity   \n",
       "22  2914_B1_Mur2   13967_ID_B1        64.516129  \\\n",
       "6   10253_RSINE1   6170_RSINE1        63.909774   \n",
       "9    10764_PB1D7  2914_B1_Mur2        63.636364   \n",
       "0   10253_RSINE1   10764_PB1D7        62.601626   \n",
       "33   10913_L1MB5   13967_ID_B1        62.500000   \n",
       "\n",
       "                                        Alignment_str  \n",
       "22  -gct---ggg-----cctg--g--tga-c--acacaccttgagtc-...  \n",
       "6   ct-ggaga-g----a--tgg--ctcagcaggtaaagtccttgccat...  \n",
       "9   agccgatctgg-ca-tggtgg-ct-cagtc---tgta-a-tct---...  \n",
       "0   --c---t--gg-a-gagatggctcag-cag-gtaaagtcctt-gc-...  \n",
       "33  tatat-cttc-a---taaactgga--ata-ctat---ttagc-ca-...  "
      ]
     },
     "execution_count": 78,
     "metadata": {},
     "output_type": "execute_result"
    }
   ],
   "source": [
    "rand_10_1_df.head()"
   ]
  },
  {
   "cell_type": "code",
   "execution_count": null,
   "id": "f37697ad-8c8e-45be-9229-0df5d41a8789",
   "metadata": {},
   "outputs": [],
   "source": []
  },
  {
   "cell_type": "code",
   "execution_count": null,
   "id": "dfc2996c-16e9-49b4-a786-787b6e0db1fb",
   "metadata": {},
   "outputs": [],
   "source": []
  },
  {
   "cell_type": "code",
   "execution_count": null,
   "id": "7d785a25-93ce-463b-b5a6-536f328b4d1c",
   "metadata": {},
   "outputs": [],
   "source": []
  },
  {
   "cell_type": "code",
   "execution_count": 124,
   "id": "7e9978a5-7610-461d-aa02-fb40b1929690",
   "metadata": {},
   "outputs": [],
   "source": [
    "%%capture output_rand10_head\n",
    "for id1, id2, score, aln in rand_10_1_df.head(10).values:\n",
    "    print( f\"Comparing sequences of score {score:.2f}:\\n\\t{id1}\\n\\t{id2}\")\n",
    "    aln_ls = aln.split(\"\\n\")\n",
    "    seqComp.alignment_str_parser( aln_ls, line_width = 100, )"
   ]
  },
  {
   "cell_type": "code",
   "execution_count": 126,
   "id": "353a3dc4-677d-4c10-87af-447f37f87c24",
   "metadata": {},
   "outputs": [],
   "source": [
    "with open('./sequence_similarity_results/rand10_1_head_alignment.txt', 'w') as f:\n",
    "        f.write(output_rand10_head.stdout)"
   ]
  },
  {
   "cell_type": "code",
   "execution_count": null,
   "id": "85272cc1-9e2d-485f-a333-af0a939c1ab5",
   "metadata": {},
   "outputs": [],
   "source": []
  },
  {
   "cell_type": "code",
   "execution_count": 128,
   "id": "09742d80-27bf-4d76-a60f-fbdc7c1f3c15",
   "metadata": {},
   "outputs": [],
   "source": [
    "%%capture output_rand10_tail\n",
    "for id1, id2, score, aln in rand_10_1_df.tail(10).values:\n",
    "    print( f\"Comparing sequences of score {score:.2f}:\\n\\t{id1}\\n\\t{id2}\")\n",
    "    aln_ls = aln.split(\"\\n\")\n",
    "    seqComp.alignment_str_parser( aln_ls, line_width = 100, )"
   ]
  },
  {
   "cell_type": "code",
   "execution_count": 129,
   "id": "49467b1c-2a4f-46de-8e4f-9565b0e8a89a",
   "metadata": {},
   "outputs": [],
   "source": [
    "with open('./sequence_similarity_results/rand10_1_tail_alignment.txt', 'w') as f:\n",
    "        f.write(output_rand10_tail.stdout)"
   ]
  },
  {
   "cell_type": "code",
   "execution_count": null,
   "id": "65cc1c1c-ba81-409f-9d25-37d8e930366b",
   "metadata": {},
   "outputs": [],
   "source": []
  },
  {
   "cell_type": "markdown",
   "id": "cae514ec-b5cf-4ff8-97ab-d7bd5a8129fe",
   "metadata": {},
   "source": [
    "## Plot seq-len vs similarity score"
   ]
  },
  {
   "cell_type": "code",
   "execution_count": 87,
   "id": "d7db4dd7-bc0d-4c65-8b21-4287eb5b7d24",
   "metadata": {},
   "outputs": [],
   "source": [
    "squire_indiv.set_index('df_index_repName', inplace=True )"
   ]
  },
  {
   "cell_type": "code",
   "execution_count": 88,
   "id": "3da66dfd-a634-4525-9455-6fb40a6fa515",
   "metadata": {},
   "outputs": [],
   "source": [
    "adj_rand_50_3 = seqComp.add_seq_comparison_info( rand_df_ls[1], squire_indiv, merged_result= True )"
   ]
  },
  {
   "cell_type": "code",
   "execution_count": 89,
   "id": "0b863752-8a86-4cd0-a741-a80c9f12da2c",
   "metadata": {},
   "outputs": [
    {
     "data": {
      "text/html": [
       "<div>\n",
       "<style scoped>\n",
       "    .dataframe tbody tr th:only-of-type {\n",
       "        vertical-align: middle;\n",
       "    }\n",
       "\n",
       "    .dataframe tbody tr th {\n",
       "        vertical-align: top;\n",
       "    }\n",
       "\n",
       "    .dataframe thead th {\n",
       "        text-align: right;\n",
       "    }\n",
       "</style>\n",
       "<table border=\"1\" class=\"dataframe\">\n",
       "  <thead>\n",
       "    <tr style=\"text-align: right;\">\n",
       "      <th></th>\n",
       "      <th>ID1</th>\n",
       "      <th>ID2</th>\n",
       "      <th>PercentIdentity</th>\n",
       "      <th>Alignment_str</th>\n",
       "      <th>seq1_len</th>\n",
       "      <th>seq2_len</th>\n",
       "      <th>total_match</th>\n",
       "      <th>adj_percentIdentity</th>\n",
       "    </tr>\n",
       "  </thead>\n",
       "  <tbody>\n",
       "    <tr>\n",
       "      <th>0</th>\n",
       "      <td>2365_B1F2</td>\n",
       "      <td>556_PB1D10</td>\n",
       "      <td>51.898734</td>\n",
       "      <td>agct--ggata-tggt--gctat-acacctttagt--cctggca-c...</td>\n",
       "      <td>158</td>\n",
       "      <td>101</td>\n",
       "      <td>82</td>\n",
       "      <td>63.320463</td>\n",
       "    </tr>\n",
       "    <tr>\n",
       "      <th>1</th>\n",
       "      <td>2365_B1F2</td>\n",
       "      <td>3923_Lx9</td>\n",
       "      <td>59.782609</td>\n",
       "      <td>ag--ctgga-tatggt--gcta-tacacct-ttagt-cctgg---c...</td>\n",
       "      <td>158</td>\n",
       "      <td>184</td>\n",
       "      <td>110</td>\n",
       "      <td>64.327485</td>\n",
       "    </tr>\n",
       "    <tr>\n",
       "      <th>2</th>\n",
       "      <td>2365_B1F2</td>\n",
       "      <td>8797_MMVL30-int</td>\n",
       "      <td>63.291139</td>\n",
       "      <td>agctg--gata-tg--g-tg-ctatacacctt-ta---gtcct--g...</td>\n",
       "      <td>158</td>\n",
       "      <td>158</td>\n",
       "      <td>100</td>\n",
       "      <td>63.291139</td>\n",
       "    </tr>\n",
       "    <tr>\n",
       "      <th>3</th>\n",
       "      <td>2365_B1F2</td>\n",
       "      <td>14257_RNERVK23-int</td>\n",
       "      <td>34.889435</td>\n",
       "      <td>ag-ctg-----gatatg----g-t-gct---------a-t-aca-c...</td>\n",
       "      <td>158</td>\n",
       "      <td>407</td>\n",
       "      <td>142</td>\n",
       "      <td>50.265487</td>\n",
       "    </tr>\n",
       "    <tr>\n",
       "      <th>4</th>\n",
       "      <td>2365_B1F2</td>\n",
       "      <td>2300_LSU-rRNA_Hsa</td>\n",
       "      <td>31.506849</td>\n",
       "      <td>agct-gga---t------a-t-gg-t-gctat---a---ca-cc--...</td>\n",
       "      <td>158</td>\n",
       "      <td>438</td>\n",
       "      <td>138</td>\n",
       "      <td>46.308725</td>\n",
       "    </tr>\n",
       "  </tbody>\n",
       "</table>\n",
       "</div>"
      ],
      "text/plain": [
       "         ID1                 ID2  PercentIdentity   \n",
       "0  2365_B1F2          556_PB1D10        51.898734  \\\n",
       "1  2365_B1F2            3923_Lx9        59.782609   \n",
       "2  2365_B1F2     8797_MMVL30-int        63.291139   \n",
       "3  2365_B1F2  14257_RNERVK23-int        34.889435   \n",
       "4  2365_B1F2   2300_LSU-rRNA_Hsa        31.506849   \n",
       "\n",
       "                                       Alignment_str seq1_len seq2_len   \n",
       "0  agct--ggata-tggt--gctat-acacctttagt--cctggca-c...      158      101  \\\n",
       "1  ag--ctgga-tatggt--gcta-tacacct-ttagt-cctgg---c...      158      184   \n",
       "2  agctg--gata-tg--g-tg-ctatacacctt-ta---gtcct--g...      158      158   \n",
       "3  ag-ctg-----gatatg----g-t-gct---------a-t-aca-c...      158      407   \n",
       "4  agct-gga---t------a-t-gg-t-gctat---a---ca-cc--...      158      438   \n",
       "\n",
       "  total_match adj_percentIdentity  \n",
       "0          82           63.320463  \n",
       "1         110           64.327485  \n",
       "2         100           63.291139  \n",
       "3         142           50.265487  \n",
       "4         138           46.308725  "
      ]
     },
     "execution_count": 89,
     "metadata": {},
     "output_type": "execute_result"
    }
   ],
   "source": [
    "adj_rand_50_3.head()"
   ]
  },
  {
   "cell_type": "code",
   "execution_count": 96,
   "id": "78b74372-4c7d-4076-b76d-4514e9df6715",
   "metadata": {},
   "outputs": [],
   "source": [
    "adj_rand_50_3['avg_seq_len'] = adj_rand_50_3[[ 'seq1_len' ,'seq2_len' ]].mean( axis = 1)"
   ]
  },
  {
   "cell_type": "code",
   "execution_count": 97,
   "id": "cf4beeae-8af7-4cef-9b28-bbb3db6d27e7",
   "metadata": {},
   "outputs": [
    {
     "data": {
      "text/html": [
       "<div>\n",
       "<style scoped>\n",
       "    .dataframe tbody tr th:only-of-type {\n",
       "        vertical-align: middle;\n",
       "    }\n",
       "\n",
       "    .dataframe tbody tr th {\n",
       "        vertical-align: top;\n",
       "    }\n",
       "\n",
       "    .dataframe thead th {\n",
       "        text-align: right;\n",
       "    }\n",
       "</style>\n",
       "<table border=\"1\" class=\"dataframe\">\n",
       "  <thead>\n",
       "    <tr style=\"text-align: right;\">\n",
       "      <th></th>\n",
       "      <th>ID1</th>\n",
       "      <th>ID2</th>\n",
       "      <th>PercentIdentity</th>\n",
       "      <th>Alignment_str</th>\n",
       "      <th>seq1_len</th>\n",
       "      <th>seq2_len</th>\n",
       "      <th>total_match</th>\n",
       "      <th>adj_percentIdentity</th>\n",
       "      <th>avg_seq_len</th>\n",
       "    </tr>\n",
       "  </thead>\n",
       "  <tbody>\n",
       "    <tr>\n",
       "      <th>0</th>\n",
       "      <td>2365_B1F2</td>\n",
       "      <td>556_PB1D10</td>\n",
       "      <td>51.898734</td>\n",
       "      <td>agct--ggata-tggt--gctat-acacctttagt--cctggca-c...</td>\n",
       "      <td>158</td>\n",
       "      <td>101</td>\n",
       "      <td>82</td>\n",
       "      <td>63.320463</td>\n",
       "      <td>129.5</td>\n",
       "    </tr>\n",
       "    <tr>\n",
       "      <th>1</th>\n",
       "      <td>2365_B1F2</td>\n",
       "      <td>3923_Lx9</td>\n",
       "      <td>59.782609</td>\n",
       "      <td>ag--ctgga-tatggt--gcta-tacacct-ttagt-cctgg---c...</td>\n",
       "      <td>158</td>\n",
       "      <td>184</td>\n",
       "      <td>110</td>\n",
       "      <td>64.327485</td>\n",
       "      <td>171.0</td>\n",
       "    </tr>\n",
       "    <tr>\n",
       "      <th>2</th>\n",
       "      <td>2365_B1F2</td>\n",
       "      <td>8797_MMVL30-int</td>\n",
       "      <td>63.291139</td>\n",
       "      <td>agctg--gata-tg--g-tg-ctatacacctt-ta---gtcct--g...</td>\n",
       "      <td>158</td>\n",
       "      <td>158</td>\n",
       "      <td>100</td>\n",
       "      <td>63.291139</td>\n",
       "      <td>158.0</td>\n",
       "    </tr>\n",
       "    <tr>\n",
       "      <th>3</th>\n",
       "      <td>2365_B1F2</td>\n",
       "      <td>14257_RNERVK23-int</td>\n",
       "      <td>34.889435</td>\n",
       "      <td>ag-ctg-----gatatg----g-t-gct---------a-t-aca-c...</td>\n",
       "      <td>158</td>\n",
       "      <td>407</td>\n",
       "      <td>142</td>\n",
       "      <td>50.265487</td>\n",
       "      <td>282.5</td>\n",
       "    </tr>\n",
       "    <tr>\n",
       "      <th>4</th>\n",
       "      <td>2365_B1F2</td>\n",
       "      <td>2300_LSU-rRNA_Hsa</td>\n",
       "      <td>31.506849</td>\n",
       "      <td>agct-gga---t------a-t-gg-t-gctat---a---ca-cc--...</td>\n",
       "      <td>158</td>\n",
       "      <td>438</td>\n",
       "      <td>138</td>\n",
       "      <td>46.308725</td>\n",
       "      <td>298.0</td>\n",
       "    </tr>\n",
       "  </tbody>\n",
       "</table>\n",
       "</div>"
      ],
      "text/plain": [
       "         ID1                 ID2  PercentIdentity   \n",
       "0  2365_B1F2          556_PB1D10        51.898734  \\\n",
       "1  2365_B1F2            3923_Lx9        59.782609   \n",
       "2  2365_B1F2     8797_MMVL30-int        63.291139   \n",
       "3  2365_B1F2  14257_RNERVK23-int        34.889435   \n",
       "4  2365_B1F2   2300_LSU-rRNA_Hsa        31.506849   \n",
       "\n",
       "                                       Alignment_str seq1_len seq2_len   \n",
       "0  agct--ggata-tggt--gctat-acacctttagt--cctggca-c...      158      101  \\\n",
       "1  ag--ctgga-tatggt--gcta-tacacct-ttagt-cctgg---c...      158      184   \n",
       "2  agctg--gata-tg--g-tg-ctatacacctt-ta---gtcct--g...      158      158   \n",
       "3  ag-ctg-----gatatg----g-t-gct---------a-t-aca-c...      158      407   \n",
       "4  agct-gga---t------a-t-gg-t-gctat---a---ca-cc--...      158      438   \n",
       "\n",
       "  total_match adj_percentIdentity avg_seq_len  \n",
       "0          82           63.320463       129.5  \n",
       "1         110           64.327485       171.0  \n",
       "2         100           63.291139       158.0  \n",
       "3         142           50.265487       282.5  \n",
       "4         138           46.308725       298.0  "
      ]
     },
     "execution_count": 97,
     "metadata": {},
     "output_type": "execute_result"
    }
   ],
   "source": [
    "adj_rand_50_3.head()"
   ]
  },
  {
   "cell_type": "code",
   "execution_count": 115,
   "id": "96748ef7-3986-4d35-a156-c5359c578aef",
   "metadata": {},
   "outputs": [
    {
     "data": {
      "image/png": "[encoded data removed]",
      "text/plain": [
       "<Figure size 550x450 with 1 Axes>"
      ]
     },
     "metadata": {},
     "output_type": "display_data"
    }
   ],
   "source": [
    "plt.figure( figsize=[5.5, 4.5])\n",
    "sn.scatterplot( data = adj_rand_50_3, x = 'avg_seq_len' , y = 'PercentIdentity', c = 'gray' )\n",
    "plt.title(\"Correlation between Sequence Length and Percent Identity\\nfrom Random Selections\")\n",
    "plt.tight_layout()\n",
    "plt.show()"
   ]
  },
  {
   "cell_type": "code",
   "execution_count": null,
   "id": "b8a24cdc-8489-435a-8cd1-d57031b4c427",
   "metadata": {},
   "outputs": [],
   "source": []
  },
  {
   "cell_type": "code",
   "execution_count": null,
   "id": "11a1f50e-7690-4872-8863-53bf3dfbb9c3",
   "metadata": {},
   "outputs": [],
   "source": []
  },
  {
   "cell_type": "code",
   "execution_count": 113,
   "id": "094ab8eb-689a-4b7e-95d5-991578e8041d",
   "metadata": {},
   "outputs": [],
   "source": [
    "adj_mut_top50 = seqComp.add_seq_comparison_info( mut_df_ls[3], squire_indiv, merged_result= True )"
   ]
  },
  {
   "cell_type": "code",
   "execution_count": 117,
   "id": "a66f2a87-ab41-4bb9-be30-44b21284391c",
   "metadata": {},
   "outputs": [],
   "source": [
    "adj_mut_top50['avg_seq_len'] = adj_mut_top50[[ 'seq1_len' ,'seq2_len' ]].mean( axis = 1)"
   ]
  },
  {
   "cell_type": "code",
   "execution_count": 110,
   "id": "b8fca9c6-c80a-4d55-8728-c874116ee38f",
   "metadata": {},
   "outputs": [
    {
     "data": {
      "text/html": [
       "<div>\n",
       "<style scoped>\n",
       "    .dataframe tbody tr th:only-of-type {\n",
       "        vertical-align: middle;\n",
       "    }\n",
       "\n",
       "    .dataframe tbody tr th {\n",
       "        vertical-align: top;\n",
       "    }\n",
       "\n",
       "    .dataframe thead th {\n",
       "        text-align: right;\n",
       "    }\n",
       "</style>\n",
       "<table border=\"1\" class=\"dataframe\">\n",
       "  <thead>\n",
       "    <tr style=\"text-align: right;\">\n",
       "      <th></th>\n",
       "      <th>mut_up_top20</th>\n",
       "      <th>mut_up_top10</th>\n",
       "      <th>mut_up_last50</th>\n",
       "      <th>mut_up_top50</th>\n",
       "    </tr>\n",
       "  </thead>\n",
       "  <tbody>\n",
       "    <tr>\n",
       "      <th>avg_pctIdentity</th>\n",
       "      <td>30.920809</td>\n",
       "      <td>29.135368</td>\n",
       "      <td>30.864983</td>\n",
       "      <td>31.567832</td>\n",
       "    </tr>\n",
       "    <tr>\n",
       "      <th>std_pctIdentity</th>\n",
       "      <td>26.255202</td>\n",
       "      <td>23.714132</td>\n",
       "      <td>20.974193</td>\n",
       "      <td>24.140729</td>\n",
       "    </tr>\n",
       "    <tr>\n",
       "      <th>num_element</th>\n",
       "      <td>20.000000</td>\n",
       "      <td>10.000000</td>\n",
       "      <td>50.000000</td>\n",
       "      <td>50.000000</td>\n",
       "    </tr>\n",
       "  </tbody>\n",
       "</table>\n",
       "</div>"
      ],
      "text/plain": [
       "                 mut_up_top20  mut_up_top10  mut_up_last50  mut_up_top50\n",
       "avg_pctIdentity     30.920809     29.135368      30.864983     31.567832\n",
       "std_pctIdentity     26.255202     23.714132      20.974193     24.140729\n",
       "num_element         20.000000     10.000000      50.000000     50.000000"
      ]
     },
     "execution_count": 110,
     "metadata": {},
     "output_type": "execute_result"
    }
   ],
   "source": [
    "mut_summary_df"
   ]
  },
  {
   "cell_type": "code",
   "execution_count": null,
   "id": "59d76512-614e-4962-a77f-c56dc857a3aa",
   "metadata": {},
   "outputs": [],
   "source": [
    "#mut_df_ls[3] #mut_up_top50"
   ]
  },
  {
   "cell_type": "code",
   "execution_count": 118,
   "id": "8af5083d-593f-450b-9aef-fd021a70cbd4",
   "metadata": {},
   "outputs": [
    {
     "data": {
      "image/png": "[encoded data removed]",
      "text/plain": [
       "<Figure size 550x450 with 1 Axes>"
      ]
     },
     "metadata": {},
     "output_type": "display_data"
    }
   ],
   "source": [
    "plt.figure( figsize=[5.5, 4.5])\n",
    "sn.scatterplot( data = adj_mut_top50, x = 'avg_seq_len' , y = 'PercentIdentity', c = 'salmon' )\n",
    "plt.title(\"Correlation between Sequence Length and Percent Identity\\nfrom Mutant-UP\")\n",
    "plt.tight_layout()\n",
    "plt.show()"
   ]
  },
  {
   "cell_type": "code",
   "execution_count": 114,
   "id": "c98eb32a-2e6a-4e6e-b182-cd8fd6221669",
   "metadata": {},
   "outputs": [],
   "source": [
    "adj_wt_top33 = seqComp.add_seq_comparison_info( wt_df_ls[0], squire_indiv, merged_result= True )"
   ]
  },
  {
   "cell_type": "code",
   "execution_count": 119,
   "id": "d82523df-8e27-479c-b597-dda81b392040",
   "metadata": {},
   "outputs": [],
   "source": [
    "adj_wt_top33['avg_seq_len'] = adj_wt_top33[[ 'seq1_len' ,'seq2_len' ]].mean( axis = 1)"
   ]
  },
  {
   "cell_type": "code",
   "execution_count": 111,
   "id": "59a721a7-a694-4981-bc2c-d5033f19e537",
   "metadata": {
    "collapsed": true,
    "jupyter": {
     "outputs_hidden": true
    }
   },
   "outputs": [
    {
     "data": {
      "text/html": [
       "<div>\n",
       "<style scoped>\n",
       "    .dataframe tbody tr th:only-of-type {\n",
       "        vertical-align: middle;\n",
       "    }\n",
       "\n",
       "    .dataframe tbody tr th {\n",
       "        vertical-align: top;\n",
       "    }\n",
       "\n",
       "    .dataframe thead th {\n",
       "        text-align: right;\n",
       "    }\n",
       "</style>\n",
       "<table border=\"1\" class=\"dataframe\">\n",
       "  <thead>\n",
       "    <tr style=\"text-align: right;\">\n",
       "      <th></th>\n",
       "      <th>wt_up_33</th>\n",
       "      <th>wt_up_20</th>\n",
       "      <th>wt_up_10</th>\n",
       "    </tr>\n",
       "  </thead>\n",
       "  <tbody>\n",
       "    <tr>\n",
       "      <th>avg_pctIdentity</th>\n",
       "      <td>29.435993</td>\n",
       "      <td>27.326824</td>\n",
       "      <td>24.427313</td>\n",
       "    </tr>\n",
       "    <tr>\n",
       "      <th>std_pctIdentity</th>\n",
       "      <td>19.757601</td>\n",
       "      <td>19.316601</td>\n",
       "      <td>18.360094</td>\n",
       "    </tr>\n",
       "    <tr>\n",
       "      <th>num_element</th>\n",
       "      <td>33.000000</td>\n",
       "      <td>20.000000</td>\n",
       "      <td>10.000000</td>\n",
       "    </tr>\n",
       "  </tbody>\n",
       "</table>\n",
       "</div>"
      ],
      "text/plain": [
       "                  wt_up_33   wt_up_20   wt_up_10\n",
       "avg_pctIdentity  29.435993  27.326824  24.427313\n",
       "std_pctIdentity  19.757601  19.316601  18.360094\n",
       "num_element      33.000000  20.000000  10.000000"
      ]
     },
     "execution_count": 111,
     "metadata": {},
     "output_type": "execute_result"
    }
   ],
   "source": [
    "w_summary_df"
   ]
  },
  {
   "cell_type": "code",
   "execution_count": 112,
   "id": "117ac9d4-d05f-44a5-9008-468d2be0a8fe",
   "metadata": {
    "collapsed": true,
    "jupyter": {
     "outputs_hidden": true
    }
   },
   "outputs": [
    {
     "data": {
      "text/html": [
       "<div>\n",
       "<style scoped>\n",
       "    .dataframe tbody tr th:only-of-type {\n",
       "        vertical-align: middle;\n",
       "    }\n",
       "\n",
       "    .dataframe tbody tr th {\n",
       "        vertical-align: top;\n",
       "    }\n",
       "\n",
       "    .dataframe thead th {\n",
       "        text-align: right;\n",
       "    }\n",
       "</style>\n",
       "<table border=\"1\" class=\"dataframe\">\n",
       "  <thead>\n",
       "    <tr style=\"text-align: right;\">\n",
       "      <th></th>\n",
       "      <th>ID1</th>\n",
       "      <th>ID2</th>\n",
       "      <th>PercentIdentity</th>\n",
       "      <th>Alignment_str</th>\n",
       "    </tr>\n",
       "  </thead>\n",
       "  <tbody>\n",
       "    <tr>\n",
       "      <th>0</th>\n",
       "      <td>4485_Lx2B2</td>\n",
       "      <td>6115_ORR1B1-int</td>\n",
       "      <td>10.959651</td>\n",
       "      <td>ccatgcaatggaaagaaggaagcatcttcaacatatggtgctggtt...</td>\n",
       "    </tr>\n",
       "    <tr>\n",
       "      <th>1</th>\n",
       "      <td>4485_Lx2B2</td>\n",
       "      <td>249_RLTR4_MM-int</td>\n",
       "      <td>25.800536</td>\n",
       "      <td>ccat--g---c----a--------------a-------t-g--g--...</td>\n",
       "    </tr>\n",
       "    <tr>\n",
       "      <th>2</th>\n",
       "      <td>4485_Lx2B2</td>\n",
       "      <td>5703_B3</td>\n",
       "      <td>9.760087</td>\n",
       "      <td>ccatgcaatggaaagaaggaagcatcttcaacatatggtgctggtt...</td>\n",
       "    </tr>\n",
       "    <tr>\n",
       "      <th>3</th>\n",
       "      <td>4485_Lx2B2</td>\n",
       "      <td>10291_Lx8</td>\n",
       "      <td>25.408942</td>\n",
       "      <td>ccatgcaatggaaagaaggaagcatcttcaacatatggtgctggtt...</td>\n",
       "    </tr>\n",
       "    <tr>\n",
       "      <th>4</th>\n",
       "      <td>4485_Lx2B2</td>\n",
       "      <td>4937_MMERVK9E_I</td>\n",
       "      <td>42.080624</td>\n",
       "      <td>----c--c---a--tgca-atggaaa-g-a----a------g----...</td>\n",
       "    </tr>\n",
       "    <tr>\n",
       "      <th>...</th>\n",
       "      <td>...</td>\n",
       "      <td>...</td>\n",
       "      <td>...</td>\n",
       "      <td>...</td>\n",
       "    </tr>\n",
       "    <tr>\n",
       "      <th>523</th>\n",
       "      <td>9204_IAPEz-int</td>\n",
       "      <td>8898_IAPEz-int</td>\n",
       "      <td>19.553244</td>\n",
       "      <td>-----tg----g---t------g------c---c----g--aat-t...</td>\n",
       "    </tr>\n",
       "    <tr>\n",
       "      <th>524</th>\n",
       "      <td>9204_IAPEz-int</td>\n",
       "      <td>8191_B3</td>\n",
       "      <td>29.733959</td>\n",
       "      <td>tggtgccgaattccgggacgagaaattccgggacgagaaaaaatcc...</td>\n",
       "    </tr>\n",
       "    <tr>\n",
       "      <th>525</th>\n",
       "      <td>14670_IAPEz-int</td>\n",
       "      <td>8898_IAPEz-int</td>\n",
       "      <td>99.173807</td>\n",
       "      <td>gaacctgataagaggtatcaatggaagatcttaccacagggaatgt...</td>\n",
       "    </tr>\n",
       "    <tr>\n",
       "      <th>526</th>\n",
       "      <td>14670_IAPEz-int</td>\n",
       "      <td>8191_B3</td>\n",
       "      <td>6.215554</td>\n",
       "      <td>gaacctgataagaggtatcaatggaagatcttaccacagggaatgt...</td>\n",
       "    </tr>\n",
       "    <tr>\n",
       "      <th>527</th>\n",
       "      <td>8898_IAPEz-int</td>\n",
       "      <td>8191_B3</td>\n",
       "      <td>6.211750</td>\n",
       "      <td>gaacctgataagaggtatcaatggaagatcttaccacagggaatgt...</td>\n",
       "    </tr>\n",
       "  </tbody>\n",
       "</table>\n",
       "<p>528 rows × 4 columns</p>\n",
       "</div>"
      ],
      "text/plain": [
       "                 ID1               ID2  PercentIdentity   \n",
       "0         4485_Lx2B2   6115_ORR1B1-int        10.959651  \\\n",
       "1         4485_Lx2B2  249_RLTR4_MM-int        25.800536   \n",
       "2         4485_Lx2B2           5703_B3         9.760087   \n",
       "3         4485_Lx2B2         10291_Lx8        25.408942   \n",
       "4         4485_Lx2B2   4937_MMERVK9E_I        42.080624   \n",
       "..               ...               ...              ...   \n",
       "523   9204_IAPEz-int    8898_IAPEz-int        19.553244   \n",
       "524   9204_IAPEz-int           8191_B3        29.733959   \n",
       "525  14670_IAPEz-int    8898_IAPEz-int        99.173807   \n",
       "526  14670_IAPEz-int           8191_B3         6.215554   \n",
       "527   8898_IAPEz-int           8191_B3         6.211750   \n",
       "\n",
       "                                         Alignment_str  \n",
       "0    ccatgcaatggaaagaaggaagcatcttcaacatatggtgctggtt...  \n",
       "1    ccat--g---c----a--------------a-------t-g--g--...  \n",
       "2    ccatgcaatggaaagaaggaagcatcttcaacatatggtgctggtt...  \n",
       "3    ccatgcaatggaaagaaggaagcatcttcaacatatggtgctggtt...  \n",
       "4    ----c--c---a--tgca-atggaaa-g-a----a------g----...  \n",
       "..                                                 ...  \n",
       "523  -----tg----g---t------g------c---c----g--aat-t...  \n",
       "524  tggtgccgaattccgggacgagaaattccgggacgagaaaaaatcc...  \n",
       "525  gaacctgataagaggtatcaatggaagatcttaccacagggaatgt...  \n",
       "526  gaacctgataagaggtatcaatggaagatcttaccacagggaatgt...  \n",
       "527  gaacctgataagaggtatcaatggaagatcttaccacagggaatgt...  \n",
       "\n",
       "[528 rows x 4 columns]"
      ]
     },
     "execution_count": 112,
     "metadata": {},
     "output_type": "execute_result"
    }
   ],
   "source": [
    "#wt_df_ls[0] # wt top 33"
   ]
  },
  {
   "cell_type": "code",
   "execution_count": 122,
   "id": "590d9337-c074-47ba-8d80-37630cf7eb33",
   "metadata": {},
   "outputs": [
    {
     "data": {
      "image/png": "[encoded data removed]",
      "text/plain": [
       "<Figure size 550x450 with 1 Axes>"
      ]
     },
     "metadata": {},
     "output_type": "display_data"
    }
   ],
   "source": [
    "plt.figure( figsize=[5.5, 4.5])\n",
    "sn.scatterplot( data = adj_wt_top33, x = 'avg_seq_len' , y = 'PercentIdentity', c = 'cornflowerblue' )\n",
    "plt.title(\"Correlation between Sequence Length and Percent Identity\\nfrom WT-UP\")\n",
    "plt.tight_layout()\n",
    "plt.show()"
   ]
  },
  {
   "cell_type": "code",
   "execution_count": null,
   "id": "39f8a821-2f5a-410c-8aec-36eed49cac26",
   "metadata": {},
   "outputs": [],
   "source": []
  },
  {
   "cell_type": "code",
   "execution_count": null,
   "id": "8e0673fd-7ef1-454e-a11e-d16b30cb7bbc",
   "metadata": {},
   "outputs": [],
   "source": []
  },
  {
   "cell_type": "markdown",
   "id": "2f919671-374b-44ab-86b7-c582283abe96",
   "metadata": {},
   "source": [
    "## save data"
   ]
  },
  {
   "cell_type": "code",
   "execution_count": 14,
   "id": "838ca337-714c-440b-8450-971bc1d1cdbb",
   "metadata": {},
   "outputs": [],
   "source": [
    "logi = pd.read_csv(\"./OUTPUT_EXPLAIN.csv\", header = 0, index_col= 0 )"
   ]
  },
  {
   "cell_type": "code",
   "execution_count": 15,
   "id": "8a3082d3-b5bb-480e-bcc8-fe7532e19ea9",
   "metadata": {},
   "outputs": [],
   "source": [
    "mut_summary_df.to_csv(\"squire_tjp2_mut_seq_similarity_summary_df.csv\", header = True, index = True)\n",
    "w_summary_df.to_csv(\"squire_tjp2_wt_seq_similarity_summary_df.csv\", header = True, index = True)"
   ]
  },
  {
   "cell_type": "code",
   "execution_count": 16,
   "id": "bca9ef11-0e40-4cc8-9999-95bad5437eb4",
   "metadata": {},
   "outputs": [],
   "source": [
    "logi['squire_tjp2_mut_seq_similarity_summary_df.csv'] = ['4c' , 'NA' , 'seq similarity summary df for turner mouse TJP2 KO organoids TE, where the TE counts are quantified by squire pipeline']"
   ]
  },
  {
   "cell_type": "code",
   "execution_count": 17,
   "id": "29cc2ecd-a4e6-41f8-bf29-931e1a86a6d3",
   "metadata": {},
   "outputs": [],
   "source": [
    "logi['squire_tjp2_wt_seq_similarity_summary_df.csv'] = ['4c' , 'NA' , 'seq similarity summary df for turner mouse TJP2 WT organoids TE, where the TE counts are quantified by squire pipeline']"
   ]
  },
  {
   "cell_type": "code",
   "execution_count": 18,
   "id": "553586a9-71fe-489c-843d-c8f8c098bf83",
   "metadata": {},
   "outputs": [],
   "source": [
    "logi.to_csv(\"./OUTPUT_EXPLAIN.csv\", header = True , index = True )"
   ]
  },
  {
   "cell_type": "code",
   "execution_count": null,
   "id": "c1fb4081-35df-4816-b568-7cf70a19927d",
   "metadata": {},
   "outputs": [],
   "source": []
  }
 ],
 "metadata": {
  "kernelspec": {
   "display_name": "qc_pipe",
   "language": "python",
   "name": "qc_pipe"
  },
  "language_info": {
   "codemirror_mode": {
    "name": "ipython",
    "version": 3
   },
   "file_extension": ".py",
   "mimetype": "text/x-python",
   "name": "python",
   "nbconvert_exporter": "python",
   "pygments_lexer": "ipython3",
   "version": "3.8.5"
  }
 },
 "nbformat": 4,
 "nbformat_minor": 5
}
