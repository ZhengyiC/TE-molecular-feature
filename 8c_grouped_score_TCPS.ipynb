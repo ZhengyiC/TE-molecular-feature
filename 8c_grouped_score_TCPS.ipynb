{
 "cells": [
  {
   "cell_type": "markdown",
   "id": "9c5718eb-21b2-474e-bfef-73dfab437c1b",
   "metadata": {},
   "source": [
    "# This notebook aims to recalculate the similarity score by only comparing same-class TEs for each condition\n",
    "- use human TCPS data"
   ]
  },
  {
   "cell_type": "code",
   "execution_count": 38,
   "id": "e7acaf31-14bb-42c7-aaea-a1f0c31e217a",
   "metadata": {},
   "outputs": [],
   "source": [
    "import math"
   ]
  },
  {
   "cell_type": "code",
   "execution_count": 5,
   "id": "2dfdb810-5d61-4999-ac48-e1b596230916",
   "metadata": {},
   "outputs": [],
   "source": [
    "import pandas as pd\n",
    "import numpy as np\n",
    "import seaborn as sns\n",
    "import matplotlib.pyplot as plt\n",
    "from Bio import SeqIO, pairwise2\n",
    "from itertools import combinations"
   ]
  },
  {
   "cell_type": "code",
   "execution_count": 6,
   "id": "933d3209-d51b-4449-8444-8d5a0cecf5b6",
   "metadata": {},
   "outputs": [],
   "source": [
    "from scipy import stats"
   ]
  },
  {
   "cell_type": "code",
   "execution_count": 7,
   "id": "6d6e1eaa-62bb-4c39-953b-18e1dbe7461e",
   "metadata": {},
   "outputs": [],
   "source": [
    "from matplotlib.patches import Patch"
   ]
  },
  {
   "cell_type": "code",
   "execution_count": 8,
   "id": "1c73b94f-e161-4e90-beea-5ea31471afec",
   "metadata": {},
   "outputs": [],
   "source": [
    "import os"
   ]
  },
  {
   "cell_type": "markdown",
   "id": "72c39e45-77bd-4328-a24b-200cb780df56",
   "metadata": {},
   "source": [
    "## load all result df"
   ]
  },
  {
   "cell_type": "code",
   "execution_count": 9,
   "id": "04271cfc-4e7d-4174-9363-4e84c239b168",
   "metadata": {},
   "outputs": [],
   "source": [
    "squire_result_path = \"./sequence_similarity_results/TCPS_result/\""
   ]
  },
  {
   "cell_type": "code",
   "execution_count": 10,
   "id": "02918b06-5f50-4ceb-b9dd-22a49694795a",
   "metadata": {},
   "outputs": [],
   "source": [
    "fnames = os.listdir(squire_result_path)"
   ]
  },
  {
   "cell_type": "code",
   "execution_count": 13,
   "id": "0e79c682-6ab7-40e5-8934-3e67ddf091fd",
   "metadata": {},
   "outputs": [],
   "source": [
    "fnames = pd.Series( fnames)\n",
    "fnames = fnames[fnames.str.endswith(\"identity.csv\")]"
   ]
  },
  {
   "cell_type": "code",
   "execution_count": 14,
   "id": "71c9925f-a2c2-4822-b9f3-fbf72373ed5d",
   "metadata": {},
   "outputs": [
    {
     "data": {
      "text/plain": [
       "7         tcps_ad_up_all_pairwise_identity.csv\n",
       "1          tcps_rand10_1_pairwise_identity.csv\n",
       "13         tcps_rand10_2_pairwise_identity.csv\n",
       "14         tcps_rand10_3_pairwise_identity.csv\n",
       "2          tcps_rand20_1_pairwise_identity.csv\n",
       "3          tcps_rand20_2_pairwise_identity.csv\n",
       "5          tcps_rand20_3_pairwise_identity.csv\n",
       "12         tcps_rand50_1_pairwise_identity.csv\n",
       "8          tcps_rand50_2_pairwise_identity.csv\n",
       "6          tcps_rand50_3_pairwise_identity.csv\n",
       "10    tcps_ser_up_last50_pairwise_identity.csv\n",
       "11     tcps_ser_up_top10_pairwise_identity.csv\n",
       "4      tcps_ser_up_top20_pairwise_identity.csv\n",
       "0      tcps_ser_up_top50_pairwise_identity.csv\n",
       "dtype: object"
      ]
     },
     "execution_count": 14,
     "metadata": {},
     "output_type": "execute_result"
    }
   ],
   "source": [
    "fnames.sort_values( inplace = True )\n",
    "fnames"
   ]
  },
  {
   "cell_type": "code",
   "execution_count": null,
   "id": "c25a33e1-3aad-4a89-8795-2d70c1a83070",
   "metadata": {},
   "outputs": [],
   "source": []
  },
  {
   "cell_type": "code",
   "execution_count": 15,
   "id": "c405a1fe-814b-4069-bbe3-d1dba391ea0c",
   "metadata": {},
   "outputs": [],
   "source": [
    "basenames1 = [ f'rand{i}_{j}' for i in [10, 20, 50] for j in [1,2,3] ]\n",
    "#basenames1"
   ]
  },
  {
   "cell_type": "code",
   "execution_count": 16,
   "id": "6aefe98c-e2a1-4195-91a0-35838c7ce6de",
   "metadata": {},
   "outputs": [
    {
     "data": {
      "text/plain": [
       "['SER_last50', 'SER_top10', 'SER_top20', 'SER_top50']"
      ]
     },
     "execution_count": 16,
     "metadata": {},
     "output_type": "execute_result"
    }
   ],
   "source": [
    "basenames2 =  [ 'SER_last50'] + [f'SER_top{i}' for i in [10, 20, 50 ] ] \n",
    "basenames2 "
   ]
  },
  {
   "cell_type": "code",
   "execution_count": 17,
   "id": "21b6413b-cb60-44cd-9cf0-6703dea4fe43",
   "metadata": {},
   "outputs": [],
   "source": [
    "basenames3 = [ f'AD_top9']"
   ]
  },
  {
   "cell_type": "code",
   "execution_count": 18,
   "id": "e9e7349d-d5e6-4af7-9540-a9d2dfc406ed",
   "metadata": {},
   "outputs": [],
   "source": [
    "base_all = basenames3 + basenames1 + basenames2\n",
    "assert( len( base_all ) == len( fnames ) )"
   ]
  },
  {
   "cell_type": "code",
   "execution_count": 19,
   "id": "c4e63f13-e2ec-407c-9ade-4a6879bdb3b8",
   "metadata": {},
   "outputs": [
    {
     "data": {
      "text/plain": [
       "['AD_top9',\n",
       " 'rand10_1',\n",
       " 'rand10_2',\n",
       " 'rand10_3',\n",
       " 'rand20_1',\n",
       " 'rand20_2',\n",
       " 'rand20_3',\n",
       " 'rand50_1',\n",
       " 'rand50_2',\n",
       " 'rand50_3',\n",
       " 'SER_last50',\n",
       " 'SER_top10',\n",
       " 'SER_top20',\n",
       " 'SER_top50']"
      ]
     },
     "execution_count": 19,
     "metadata": {},
     "output_type": "execute_result"
    }
   ],
   "source": [
    "base_all"
   ]
  },
  {
   "cell_type": "code",
   "execution_count": null,
   "id": "e4630943-a7f0-4a39-aafe-9c693d6586f9",
   "metadata": {},
   "outputs": [],
   "source": []
  },
  {
   "cell_type": "code",
   "execution_count": 20,
   "id": "5a853f3d-23e5-420b-b968-5a0c98c8acd9",
   "metadata": {},
   "outputs": [],
   "source": [
    "df_ls = []\n",
    "for f in fnames:\n",
    "    d = pd.read_csv( squire_result_path + f, header = 0, index_col = None )\n",
    "    df_ls.append( d )"
   ]
  },
  {
   "cell_type": "code",
   "execution_count": 21,
   "id": "68290927-0f5b-4af5-b94b-c95e4a9efef8",
   "metadata": {},
   "outputs": [
    {
     "data": {
      "text/html": [
       "<div>\n",
       "<style scoped>\n",
       "    .dataframe tbody tr th:only-of-type {\n",
       "        vertical-align: middle;\n",
       "    }\n",
       "\n",
       "    .dataframe tbody tr th {\n",
       "        vertical-align: top;\n",
       "    }\n",
       "\n",
       "    .dataframe thead th {\n",
       "        text-align: right;\n",
       "    }\n",
       "</style>\n",
       "<table border=\"1\" class=\"dataframe\">\n",
       "  <thead>\n",
       "    <tr style=\"text-align: right;\">\n",
       "      <th></th>\n",
       "      <th>ID1</th>\n",
       "      <th>ID2</th>\n",
       "      <th>PercentIdentity</th>\n",
       "      <th>Alignment_str</th>\n",
       "    </tr>\n",
       "  </thead>\n",
       "  <tbody>\n",
       "    <tr>\n",
       "      <th>0</th>\n",
       "      <td>L2c_97668</td>\n",
       "      <td>L2b_80878</td>\n",
       "      <td>32.629108</td>\n",
       "      <td>a-----g---c------a-ctgt-tcct----cc--a--ctcca-t...</td>\n",
       "    </tr>\n",
       "    <tr>\n",
       "      <th>1</th>\n",
       "      <td>L2c_97668</td>\n",
       "      <td>AluJo_63739</td>\n",
       "      <td>56.790123</td>\n",
       "      <td>-agca----ctgttcctcca-ctc---catt--tagcaat-t--a-...</td>\n",
       "    </tr>\n",
       "    <tr>\n",
       "      <th>2</th>\n",
       "      <td>L2c_97668</td>\n",
       "      <td>MSTB1_4089</td>\n",
       "      <td>37.662338</td>\n",
       "      <td>-agcactgttcctccactccatttagcaattatgtcaccctttttt...</td>\n",
       "    </tr>\n",
       "    <tr>\n",
       "      <th>3</th>\n",
       "      <td>L2c_97668</td>\n",
       "      <td>AluSz_5511</td>\n",
       "      <td>37.764350</td>\n",
       "      <td>a-g-ca-c-tg----t--tcctc--c------a----ct----c--...</td>\n",
       "    </tr>\n",
       "    <tr>\n",
       "      <th>4</th>\n",
       "      <td>L2c_97668</td>\n",
       "      <td>MIR_109129</td>\n",
       "      <td>64.331210</td>\n",
       "      <td>agcactgttcctccactccatttagc-aattatgtca-cc-c--tt...</td>\n",
       "    </tr>\n",
       "  </tbody>\n",
       "</table>\n",
       "</div>"
      ],
      "text/plain": [
       "         ID1          ID2  PercentIdentity   \n",
       "0  L2c_97668    L2b_80878        32.629108  \\\n",
       "1  L2c_97668  AluJo_63739        56.790123   \n",
       "2  L2c_97668   MSTB1_4089        37.662338   \n",
       "3  L2c_97668   AluSz_5511        37.764350   \n",
       "4  L2c_97668   MIR_109129        64.331210   \n",
       "\n",
       "                                       Alignment_str  \n",
       "0  a-----g---c------a-ctgt-tcct----cc--a--ctcca-t...  \n",
       "1  -agca----ctgttcctcca-ctc---catt--tagcaat-t--a-...  \n",
       "2  -agcactgttcctccactccatttagcaattatgtcaccctttttt...  \n",
       "3  a-g-ca-c-tg----t--tcctc--c------a----ct----c--...  \n",
       "4  agcactgttcctccactccatttagc-aattatgtca-cc-c--tt...  "
      ]
     },
     "execution_count": 21,
     "metadata": {},
     "output_type": "execute_result"
    }
   ],
   "source": [
    "df_ls[0].head()"
   ]
  },
  {
   "cell_type": "code",
   "execution_count": 24,
   "id": "e0988978-4b4d-437b-ae0e-8c293a98d945",
   "metadata": {},
   "outputs": [],
   "source": [
    "squire_indiv = pd.read_csv(\"/home/lucy/Dropbox/telescope_run/genoLoc_TCPS_Deseq_indiv_locus_result.csv\", header = 0, index_col = 0 )"
   ]
  },
  {
   "cell_type": "code",
   "execution_count": 26,
   "id": "d4cfcbee-5f62-4c4d-bc49-742b81d87ac3",
   "metadata": {},
   "outputs": [
    {
     "data": {
      "text/html": [
       "<div>\n",
       "<style scoped>\n",
       "    .dataframe tbody tr th:only-of-type {\n",
       "        vertical-align: middle;\n",
       "    }\n",
       "\n",
       "    .dataframe tbody tr th {\n",
       "        vertical-align: top;\n",
       "    }\n",
       "\n",
       "    .dataframe thead th {\n",
       "        text-align: right;\n",
       "    }\n",
       "</style>\n",
       "<table border=\"1\" class=\"dataframe\">\n",
       "  <thead>\n",
       "    <tr style=\"text-align: right;\">\n",
       "      <th></th>\n",
       "      <th>TE name</th>\n",
       "      <th>baseMean</th>\n",
       "      <th>log2FoldChange</th>\n",
       "      <th>lfcSE</th>\n",
       "      <th>stat</th>\n",
       "      <th>pvalue</th>\n",
       "      <th>padj</th>\n",
       "      <th>genoName</th>\n",
       "      <th>genoStart</th>\n",
       "      <th>genoEnd</th>\n",
       "      <th>strand</th>\n",
       "      <th>seqLen</th>\n",
       "      <th>absolute_LFC</th>\n",
       "    </tr>\n",
       "  </thead>\n",
       "  <tbody>\n",
       "    <tr>\n",
       "      <th>2361</th>\n",
       "      <td>MIRb_2591</td>\n",
       "      <td>21.977249</td>\n",
       "      <td>2.001854</td>\n",
       "      <td>0.495015</td>\n",
       "      <td>4.044027</td>\n",
       "      <td>0.000053</td>\n",
       "      <td>0.008073</td>\n",
       "      <td>chr1</td>\n",
       "      <td>21875471</td>\n",
       "      <td>21875616</td>\n",
       "      <td>-</td>\n",
       "      <td>145.0</td>\n",
       "      <td>2.001854</td>\n",
       "    </tr>\n",
       "    <tr>\n",
       "      <th>2983</th>\n",
       "      <td>MIRb_3645</td>\n",
       "      <td>10.310570</td>\n",
       "      <td>2.238395</td>\n",
       "      <td>0.535974</td>\n",
       "      <td>4.176310</td>\n",
       "      <td>0.000030</td>\n",
       "      <td>0.005203</td>\n",
       "      <td>chr1</td>\n",
       "      <td>26188068</td>\n",
       "      <td>26188211</td>\n",
       "      <td>+</td>\n",
       "      <td>143.0</td>\n",
       "      <td>2.238395</td>\n",
       "    </tr>\n",
       "    <tr>\n",
       "      <th>2992</th>\n",
       "      <td>LTR10A_6</td>\n",
       "      <td>7.215176</td>\n",
       "      <td>4.566861</td>\n",
       "      <td>1.173587</td>\n",
       "      <td>3.891371</td>\n",
       "      <td>0.000100</td>\n",
       "      <td>0.013165</td>\n",
       "      <td>chr1</td>\n",
       "      <td>26268832</td>\n",
       "      <td>26269405</td>\n",
       "      <td>+</td>\n",
       "      <td>573.0</td>\n",
       "      <td>4.566861</td>\n",
       "    </tr>\n",
       "    <tr>\n",
       "      <th>3068</th>\n",
       "      <td>MIR_2537</td>\n",
       "      <td>1.101041</td>\n",
       "      <td>3.860287</td>\n",
       "      <td>1.037415</td>\n",
       "      <td>3.721063</td>\n",
       "      <td>0.000198</td>\n",
       "      <td>0.022386</td>\n",
       "      <td>chr1</td>\n",
       "      <td>26554369</td>\n",
       "      <td>26554498</td>\n",
       "      <td>+</td>\n",
       "      <td>129.0</td>\n",
       "      <td>3.860287</td>\n",
       "    </tr>\n",
       "    <tr>\n",
       "      <th>3286</th>\n",
       "      <td>AluSp_907</td>\n",
       "      <td>2.735933</td>\n",
       "      <td>3.134858</td>\n",
       "      <td>0.762647</td>\n",
       "      <td>4.110499</td>\n",
       "      <td>0.000039</td>\n",
       "      <td>0.006472</td>\n",
       "      <td>chr1</td>\n",
       "      <td>27730174</td>\n",
       "      <td>27730485</td>\n",
       "      <td>-</td>\n",
       "      <td>311.0</td>\n",
       "      <td>3.134858</td>\n",
       "    </tr>\n",
       "  </tbody>\n",
       "</table>\n",
       "</div>"
      ],
      "text/plain": [
       "        TE name   baseMean  log2FoldChange     lfcSE      stat    pvalue   \n",
       "2361  MIRb_2591  21.977249        2.001854  0.495015  4.044027  0.000053  \\\n",
       "2983  MIRb_3645  10.310570        2.238395  0.535974  4.176310  0.000030   \n",
       "2992   LTR10A_6   7.215176        4.566861  1.173587  3.891371  0.000100   \n",
       "3068   MIR_2537   1.101041        3.860287  1.037415  3.721063  0.000198   \n",
       "3286  AluSp_907   2.735933        3.134858  0.762647  4.110499  0.000039   \n",
       "\n",
       "          padj genoName  genoStart   genoEnd strand  seqLen  absolute_LFC  \n",
       "2361  0.008073     chr1   21875471  21875616      -   145.0      2.001854  \n",
       "2983  0.005203     chr1   26188068  26188211      +   143.0      2.238395  \n",
       "2992  0.013165     chr1   26268832  26269405      +   573.0      4.566861  \n",
       "3068  0.022386     chr1   26554369  26554498      +   129.0      3.860287  \n",
       "3286  0.006472     chr1   27730174  27730485      -   311.0      3.134858  "
      ]
     },
     "execution_count": 26,
     "metadata": {},
     "output_type": "execute_result"
    }
   ],
   "source": [
    "squire_indiv.head()"
   ]
  },
  {
   "cell_type": "code",
   "execution_count": null,
   "id": "c16c9e7e-3645-455d-b95f-1ce9f2736990",
   "metadata": {},
   "outputs": [],
   "source": []
  },
  {
   "cell_type": "markdown",
   "id": "c7a685f3-395e-44a3-a774-c48d317ea9c7",
   "metadata": {},
   "source": [
    "## add class information to the dfs"
   ]
  },
  {
   "cell_type": "code",
   "execution_count": 27,
   "id": "5057ad25-54b6-4788-af02-a19bdf4947f7",
   "metadata": {},
   "outputs": [],
   "source": [
    "deseq_df = pd.read_csv(\"/home/lucy/Dropbox/TCPS_TE_results/TE_indi_deseq_zc.csv\", header = 0,index_col =  0)"
   ]
  },
  {
   "cell_type": "code",
   "execution_count": 28,
   "id": "19915437-ec7f-4cad-855e-472d0025a71f",
   "metadata": {},
   "outputs": [
    {
     "data": {
      "text/html": [
       "<div>\n",
       "<style scoped>\n",
       "    .dataframe tbody tr th:only-of-type {\n",
       "        vertical-align: middle;\n",
       "    }\n",
       "\n",
       "    .dataframe tbody tr th {\n",
       "        vertical-align: top;\n",
       "    }\n",
       "\n",
       "    .dataframe thead th {\n",
       "        text-align: right;\n",
       "    }\n",
       "</style>\n",
       "<table border=\"1\" class=\"dataframe\">\n",
       "  <thead>\n",
       "    <tr style=\"text-align: right;\">\n",
       "      <th></th>\n",
       "      <th>TE name</th>\n",
       "      <th>baseMean</th>\n",
       "      <th>log2FoldChange</th>\n",
       "      <th>lfcSE</th>\n",
       "      <th>stat</th>\n",
       "      <th>pvalue</th>\n",
       "      <th>padj</th>\n",
       "      <th>repName</th>\n",
       "      <th>repClass</th>\n",
       "      <th>repFamily</th>\n",
       "    </tr>\n",
       "  </thead>\n",
       "  <tbody>\n",
       "    <tr>\n",
       "      <th>0</th>\n",
       "      <td>L2</td>\n",
       "      <td>0.097405</td>\n",
       "      <td>0.197787</td>\n",
       "      <td>1.457064</td>\n",
       "      <td>0.135744</td>\n",
       "      <td>0.892024</td>\n",
       "      <td>0.999991</td>\n",
       "      <td>L2</td>\n",
       "      <td>LINE</td>\n",
       "      <td>L2</td>\n",
       "    </tr>\n",
       "    <tr>\n",
       "      <th>1</th>\n",
       "      <td>AluSg</td>\n",
       "      <td>0.493240</td>\n",
       "      <td>1.038439</td>\n",
       "      <td>0.909837</td>\n",
       "      <td>1.141346</td>\n",
       "      <td>0.253726</td>\n",
       "      <td>0.999991</td>\n",
       "      <td>AluSg</td>\n",
       "      <td>SINE</td>\n",
       "      <td>Alu</td>\n",
       "    </tr>\n",
       "    <tr>\n",
       "      <th>2</th>\n",
       "      <td>L1PA8A</td>\n",
       "      <td>1.504698</td>\n",
       "      <td>-0.263127</td>\n",
       "      <td>0.834217</td>\n",
       "      <td>-0.315418</td>\n",
       "      <td>0.752444</td>\n",
       "      <td>0.999991</td>\n",
       "      <td>L1PA8A</td>\n",
       "      <td>LINE</td>\n",
       "      <td>L1</td>\n",
       "    </tr>\n",
       "    <tr>\n",
       "      <th>3</th>\n",
       "      <td>L1MDb</td>\n",
       "      <td>0.179092</td>\n",
       "      <td>0.166453</td>\n",
       "      <td>1.381934</td>\n",
       "      <td>0.120449</td>\n",
       "      <td>0.904127</td>\n",
       "      <td>0.999991</td>\n",
       "      <td>L1MDb</td>\n",
       "      <td>LINE</td>\n",
       "      <td>L1</td>\n",
       "    </tr>\n",
       "    <tr>\n",
       "      <th>4</th>\n",
       "      <td>AluSp</td>\n",
       "      <td>0.033562</td>\n",
       "      <td>0.514654</td>\n",
       "      <td>3.312685</td>\n",
       "      <td>0.155358</td>\n",
       "      <td>0.876539</td>\n",
       "      <td>0.999991</td>\n",
       "      <td>AluSp</td>\n",
       "      <td>SINE</td>\n",
       "      <td>Alu</td>\n",
       "    </tr>\n",
       "  </tbody>\n",
       "</table>\n",
       "</div>"
      ],
      "text/plain": [
       "  TE name  baseMean  log2FoldChange     lfcSE      stat    pvalue      padj   \n",
       "0      L2  0.097405        0.197787  1.457064  0.135744  0.892024  0.999991  \\\n",
       "1   AluSg  0.493240        1.038439  0.909837  1.141346  0.253726  0.999991   \n",
       "2  L1PA8A  1.504698       -0.263127  0.834217 -0.315418  0.752444  0.999991   \n",
       "3   L1MDb  0.179092        0.166453  1.381934  0.120449  0.904127  0.999991   \n",
       "4   AluSp  0.033562        0.514654  3.312685  0.155358  0.876539  0.999991   \n",
       "\n",
       "  repName repClass repFamily  \n",
       "0      L2     LINE        L2  \n",
       "1   AluSg     SINE       Alu  \n",
       "2  L1PA8A     LINE        L1  \n",
       "3   L1MDb     LINE        L1  \n",
       "4   AluSp     SINE       Alu  "
      ]
     },
     "execution_count": 28,
     "metadata": {},
     "output_type": "execute_result"
    }
   ],
   "source": [
    "deseq_df.head()"
   ]
  },
  {
   "cell_type": "code",
   "execution_count": 32,
   "id": "1b117a62-beaf-46cc-b140-a46be4e828c6",
   "metadata": {},
   "outputs": [
    {
     "data": {
      "text/plain": [
       "0"
      ]
     },
     "execution_count": 32,
     "metadata": {},
     "output_type": "execute_result"
    }
   ],
   "source": [
    "deseq_df['TE name'].duplicated().sum()"
   ]
  },
  {
   "cell_type": "code",
   "execution_count": 33,
   "id": "d094bfa7-a2db-4411-bf0f-deba3d8e92cf",
   "metadata": {},
   "outputs": [],
   "source": [
    "repClass_dict = dict( zip( deseq_df['TE name'], deseq_df['repClass'] ))\n",
    "repFamily_dict = dict( zip( deseq_df['TE name'], deseq_df['repFamily'] ))"
   ]
  },
  {
   "cell_type": "code",
   "execution_count": 34,
   "id": "c2f5a5cd-4974-461c-a607-2e129740ad12",
   "metadata": {},
   "outputs": [],
   "source": [
    "def add_class_info( identity_df, repClass_dict ):\n",
    "    identity_df['repClass1'] = [ repClass_dict[k] for k in identity_df['ID1'] ]\n",
    "    identity_df['repClass2'] = [ repClass_dict[k] for k in identity_df['ID2'] ]\n",
    "    return identity_df\n",
    "    "
   ]
  },
  {
   "cell_type": "code",
   "execution_count": 35,
   "id": "7a3a9618-03bc-432a-9408-050a0c3dcccb",
   "metadata": {},
   "outputs": [],
   "source": [
    "for d in df_ls:\n",
    "    d = add_class_info( d, repClass_dict )"
   ]
  },
  {
   "cell_type": "code",
   "execution_count": 91,
   "id": "14b53e8a-ffc4-4ba3-8bb4-de64303e1561",
   "metadata": {},
   "outputs": [
    {
     "data": {
      "text/html": [
       "<div>\n",
       "<style scoped>\n",
       "    .dataframe tbody tr th:only-of-type {\n",
       "        vertical-align: middle;\n",
       "    }\n",
       "\n",
       "    .dataframe tbody tr th {\n",
       "        vertical-align: top;\n",
       "    }\n",
       "\n",
       "    .dataframe thead th {\n",
       "        text-align: right;\n",
       "    }\n",
       "</style>\n",
       "<table border=\"1\" class=\"dataframe\">\n",
       "  <thead>\n",
       "    <tr style=\"text-align: right;\">\n",
       "      <th></th>\n",
       "      <th>ID1</th>\n",
       "      <th>ID2</th>\n",
       "      <th>PercentIdentity</th>\n",
       "      <th>Alignment_str</th>\n",
       "      <th>repClass1</th>\n",
       "      <th>repClass2</th>\n",
       "    </tr>\n",
       "  </thead>\n",
       "  <tbody>\n",
       "    <tr>\n",
       "      <th>0</th>\n",
       "      <td>L2c_97668</td>\n",
       "      <td>L2b_80878</td>\n",
       "      <td>32.629108</td>\n",
       "      <td>a-----g---c------a-ctgt-tcct----cc--a--ctcca-t...</td>\n",
       "      <td>LINE</td>\n",
       "      <td>LINE</td>\n",
       "    </tr>\n",
       "    <tr>\n",
       "      <th>1</th>\n",
       "      <td>L2c_97668</td>\n",
       "      <td>AluJo_63739</td>\n",
       "      <td>56.790123</td>\n",
       "      <td>-agca----ctgttcctcca-ctc---catt--tagcaat-t--a-...</td>\n",
       "      <td>LINE</td>\n",
       "      <td>SINE</td>\n",
       "    </tr>\n",
       "    <tr>\n",
       "      <th>2</th>\n",
       "      <td>L2c_97668</td>\n",
       "      <td>MSTB1_4089</td>\n",
       "      <td>37.662338</td>\n",
       "      <td>-agcactgttcctccactccatttagcaattatgtcaccctttttt...</td>\n",
       "      <td>LINE</td>\n",
       "      <td>LTR</td>\n",
       "    </tr>\n",
       "    <tr>\n",
       "      <th>3</th>\n",
       "      <td>L2c_97668</td>\n",
       "      <td>AluSz_5511</td>\n",
       "      <td>37.764350</td>\n",
       "      <td>a-g-ca-c-tg----t--tcctc--c------a----ct----c--...</td>\n",
       "      <td>LINE</td>\n",
       "      <td>SINE</td>\n",
       "    </tr>\n",
       "    <tr>\n",
       "      <th>4</th>\n",
       "      <td>L2c_97668</td>\n",
       "      <td>MIR_109129</td>\n",
       "      <td>64.331210</td>\n",
       "      <td>agcactgttcctccactccatttagc-aattatgtca-cc-c--tt...</td>\n",
       "      <td>LINE</td>\n",
       "      <td>SINE</td>\n",
       "    </tr>\n",
       "  </tbody>\n",
       "</table>\n",
       "</div>"
      ],
      "text/plain": [
       "         ID1          ID2  PercentIdentity   \n",
       "0  L2c_97668    L2b_80878        32.629108  \\\n",
       "1  L2c_97668  AluJo_63739        56.790123   \n",
       "2  L2c_97668   MSTB1_4089        37.662338   \n",
       "3  L2c_97668   AluSz_5511        37.764350   \n",
       "4  L2c_97668   MIR_109129        64.331210   \n",
       "\n",
       "                                       Alignment_str repClass1 repClass2  \n",
       "0  a-----g---c------a-ctgt-tcct----cc--a--ctcca-t...      LINE      LINE  \n",
       "1  -agca----ctgttcctcca-ctc---catt--tagcaat-t--a-...      LINE      SINE  \n",
       "2  -agcactgttcctccactccatttagcaattatgtcaccctttttt...      LINE       LTR  \n",
       "3  a-g-ca-c-tg----t--tcctc--c------a----ct----c--...      LINE      SINE  \n",
       "4  agcactgttcctccactccatttagc-aattatgtca-cc-c--tt...      LINE      SINE  "
      ]
     },
     "execution_count": 91,
     "metadata": {},
     "output_type": "execute_result"
    }
   ],
   "source": [
    "df_ls[0].head()"
   ]
  },
  {
   "cell_type": "markdown",
   "id": "bbbd0c0f-2c85-45d0-8b2b-26451606166e",
   "metadata": {},
   "source": [
    "## filter out different-class TEs"
   ]
  },
  {
   "cell_type": "code",
   "execution_count": 39,
   "id": "7ced9bd9-2b23-44bc-af2d-12f63ce083ae",
   "metadata": {},
   "outputs": [
    {
     "data": {
      "text/plain": [
       "36"
      ]
     },
     "execution_count": 39,
     "metadata": {},
     "output_type": "execute_result"
    }
   ],
   "source": [
    "math.comb( 9, 2)"
   ]
  },
  {
   "cell_type": "code",
   "execution_count": 37,
   "id": "7ca3dc78-6ce8-4544-a7ff-55a5a72809de",
   "metadata": {},
   "outputs": [
    {
     "name": "stdout",
     "output_type": "stream",
     "text": [
      "AD_top9\n",
      "Original df has 36 elements\n",
      "Filtered df has 13 elements\n",
      "0.3611111111111111 left\n",
      "\n",
      "rand10_1\n",
      "Original df has 45 elements\n",
      "Filtered df has 10 elements\n",
      "0.2222222222222222 left\n",
      "\n",
      "rand10_2\n",
      "Original df has 45 elements\n",
      "Filtered df has 16 elements\n",
      "0.35555555555555557 left\n",
      "\n",
      "rand10_3\n",
      "Original df has 45 elements\n",
      "Filtered df has 17 elements\n",
      "0.37777777777777777 left\n",
      "\n",
      "rand20_1\n",
      "Original df has 190 elements\n",
      "Filtered df has 60 elements\n",
      "0.3157894736842105 left\n",
      "\n",
      "rand20_2\n",
      "Original df has 190 elements\n",
      "Filtered df has 57 elements\n",
      "0.3 left\n",
      "\n",
      "rand20_3\n",
      "Original df has 190 elements\n",
      "Filtered df has 73 elements\n",
      "0.38421052631578945 left\n",
      "\n",
      "rand50_1\n",
      "Original df has 1225 elements\n",
      "Filtered df has 385 elements\n",
      "0.3142857142857143 left\n",
      "\n",
      "rand50_2\n",
      "Original df has 1225 elements\n",
      "Filtered df has 413 elements\n",
      "0.33714285714285713 left\n",
      "\n",
      "rand50_3\n",
      "Original df has 1225 elements\n",
      "Filtered df has 441 elements\n",
      "0.36 left\n",
      "\n",
      "SER_last50\n",
      "Original df has 1225 elements\n",
      "Filtered df has 373 elements\n",
      "0.30448979591836733 left\n",
      "\n",
      "SER_top10\n",
      "Original df has 45 elements\n",
      "Filtered df has 14 elements\n",
      "0.3111111111111111 left\n",
      "\n",
      "SER_top20\n",
      "Original df has 190 elements\n",
      "Filtered df has 79 elements\n",
      "0.41578947368421054 left\n",
      "\n",
      "SER_top50\n",
      "Original df has 1225 elements\n",
      "Filtered df has 449 elements\n",
      "0.36653061224489797 left\n",
      "\n"
     ]
    }
   ],
   "source": [
    "same_class_df_ls = []\n",
    "\n",
    "for i,d in enumerate( df_ls):\n",
    "    print( base_all[i] )\n",
    "    print( f\"Original df has {d.shape[0]} elements\")\n",
    "    \n",
    "    d2 = d[ d['repClass1'] == d['repClass2'] ]\n",
    "    same_class_df_ls.append( d2)\n",
    "\n",
    "    print( f\"Filtered df has { d2.shape[0]} elements\")\n",
    "    pct_left = d2.shape[0] / d.shape[0]\n",
    "    print( f\"{pct_left} left\\n\")"
   ]
  },
  {
   "cell_type": "code",
   "execution_count": null,
   "id": "021b2111-4aaf-4c59-9d24-e908da916e79",
   "metadata": {},
   "outputs": [],
   "source": []
  },
  {
   "cell_type": "code",
   "execution_count": 40,
   "id": "84d9943b-d3ff-47f8-a78c-f89cbd32640a",
   "metadata": {
    "collapsed": true,
    "jupyter": {
     "outputs_hidden": true
    }
   },
   "outputs": [
    {
     "data": {
      "text/html": [
       "<div>\n",
       "<style scoped>\n",
       "    .dataframe tbody tr th:only-of-type {\n",
       "        vertical-align: middle;\n",
       "    }\n",
       "\n",
       "    .dataframe tbody tr th {\n",
       "        vertical-align: top;\n",
       "    }\n",
       "\n",
       "    .dataframe thead th {\n",
       "        text-align: right;\n",
       "    }\n",
       "</style>\n",
       "<table border=\"1\" class=\"dataframe\">\n",
       "  <thead>\n",
       "    <tr style=\"text-align: right;\">\n",
       "      <th></th>\n",
       "      <th>ID1</th>\n",
       "      <th>ID2</th>\n",
       "      <th>PercentIdentity</th>\n",
       "      <th>Alignment_str</th>\n",
       "      <th>repClass1</th>\n",
       "      <th>repClass2</th>\n",
       "    </tr>\n",
       "  </thead>\n",
       "  <tbody>\n",
       "    <tr>\n",
       "      <th>0</th>\n",
       "      <td>L2c_97668</td>\n",
       "      <td>L2b_80878</td>\n",
       "      <td>32.629108</td>\n",
       "      <td>a-----g---c------a-ctgt-tcct----cc--a--ctcca-t...</td>\n",
       "      <td>LINE</td>\n",
       "      <td>LINE</td>\n",
       "    </tr>\n",
       "    <tr>\n",
       "      <th>5</th>\n",
       "      <td>L2c_97668</td>\n",
       "      <td>L1MD_2803</td>\n",
       "      <td>47.982063</td>\n",
       "      <td>ag-----------c--act-gt---tcctcca-c----tc-cattt...</td>\n",
       "      <td>LINE</td>\n",
       "      <td>LINE</td>\n",
       "    </tr>\n",
       "    <tr>\n",
       "      <th>6</th>\n",
       "      <td>L2c_97668</td>\n",
       "      <td>L1ME1_20262</td>\n",
       "      <td>13.949275</td>\n",
       "      <td>---------a-g----ca-------c--t--------gt-t---c-...</td>\n",
       "      <td>LINE</td>\n",
       "      <td>LINE</td>\n",
       "    </tr>\n",
       "    <tr>\n",
       "      <th>7</th>\n",
       "      <td>L2c_97668</td>\n",
       "      <td>L2b_88933</td>\n",
       "      <td>47.037037</td>\n",
       "      <td>ag-ca-ctg-tt-cctcca--c-t---c-----c-att-tag-c--...</td>\n",
       "      <td>LINE</td>\n",
       "      <td>LINE</td>\n",
       "    </tr>\n",
       "    <tr>\n",
       "      <th>12</th>\n",
       "      <td>L2b_80878</td>\n",
       "      <td>L1MD_2803</td>\n",
       "      <td>41.784038</td>\n",
       "      <td>----tc-----t-ctgttt-cttgccc--aactgc-tccttgaacc...</td>\n",
       "      <td>LINE</td>\n",
       "      <td>LINE</td>\n",
       "    </tr>\n",
       "    <tr>\n",
       "      <th>13</th>\n",
       "      <td>L2b_80878</td>\n",
       "      <td>L1ME1_20262</td>\n",
       "      <td>33.786232</td>\n",
       "      <td>-tctc--t---gt-ttc-----t-t-g-----c-c---------c-...</td>\n",
       "      <td>LINE</td>\n",
       "      <td>LINE</td>\n",
       "    </tr>\n",
       "    <tr>\n",
       "      <th>14</th>\n",
       "      <td>L2b_80878</td>\n",
       "      <td>L2b_88933</td>\n",
       "      <td>49.295775</td>\n",
       "      <td>tctctgtttcttg-cc-c-aactgctccttgaaccccaagctccaa...</td>\n",
       "      <td>LINE</td>\n",
       "      <td>LINE</td>\n",
       "    </tr>\n",
       "    <tr>\n",
       "      <th>16</th>\n",
       "      <td>AluJo_63739</td>\n",
       "      <td>AluSz_5511</td>\n",
       "      <td>42.296073</td>\n",
       "      <td>ta-----a----a--aa----a-c--tt--ag---ctg-g------...</td>\n",
       "      <td>SINE</td>\n",
       "      <td>SINE</td>\n",
       "    </tr>\n",
       "    <tr>\n",
       "      <th>17</th>\n",
       "      <td>AluJo_63739</td>\n",
       "      <td>MIR_109129</td>\n",
       "      <td>59.259259</td>\n",
       "      <td>--taaaaaac-tt-ag-ctggtca-tggtgatgtgcacctgcagtc...</td>\n",
       "      <td>SINE</td>\n",
       "      <td>SINE</td>\n",
       "    </tr>\n",
       "    <tr>\n",
       "      <th>26</th>\n",
       "      <td>AluSz_5511</td>\n",
       "      <td>MIR_109129</td>\n",
       "      <td>38.368580</td>\n",
       "      <td>tggctcatgccagtaatcccagccctttgagaggctgaggcgggcg...</td>\n",
       "      <td>SINE</td>\n",
       "      <td>SINE</td>\n",
       "    </tr>\n",
       "    <tr>\n",
       "      <th>33</th>\n",
       "      <td>L1MD_2803</td>\n",
       "      <td>L1ME1_20262</td>\n",
       "      <td>20.199275</td>\n",
       "      <td>---------aa--a---a----t----a--aa-a-at---------...</td>\n",
       "      <td>LINE</td>\n",
       "      <td>LINE</td>\n",
       "    </tr>\n",
       "    <tr>\n",
       "      <th>34</th>\n",
       "      <td>L1MD_2803</td>\n",
       "      <td>L2b_88933</td>\n",
       "      <td>52.962963</td>\n",
       "      <td>aaaataaaaa-tact-t-actcgta--aat-c-t-aacaaaata--...</td>\n",
       "      <td>LINE</td>\n",
       "      <td>LINE</td>\n",
       "    </tr>\n",
       "    <tr>\n",
       "      <th>35</th>\n",
       "      <td>L1ME1_20262</td>\n",
       "      <td>L2b_88933</td>\n",
       "      <td>24.003623</td>\n",
       "      <td>gtctccctcaagtattcaagagtgtcgattaacacatgtgtgtgct...</td>\n",
       "      <td>LINE</td>\n",
       "      <td>LINE</td>\n",
       "    </tr>\n",
       "  </tbody>\n",
       "</table>\n",
       "</div>"
      ],
      "text/plain": [
       "            ID1          ID2  PercentIdentity   \n",
       "0     L2c_97668    L2b_80878        32.629108  \\\n",
       "5     L2c_97668    L1MD_2803        47.982063   \n",
       "6     L2c_97668  L1ME1_20262        13.949275   \n",
       "7     L2c_97668    L2b_88933        47.037037   \n",
       "12    L2b_80878    L1MD_2803        41.784038   \n",
       "13    L2b_80878  L1ME1_20262        33.786232   \n",
       "14    L2b_80878    L2b_88933        49.295775   \n",
       "16  AluJo_63739   AluSz_5511        42.296073   \n",
       "17  AluJo_63739   MIR_109129        59.259259   \n",
       "26   AluSz_5511   MIR_109129        38.368580   \n",
       "33    L1MD_2803  L1ME1_20262        20.199275   \n",
       "34    L1MD_2803    L2b_88933        52.962963   \n",
       "35  L1ME1_20262    L2b_88933        24.003623   \n",
       "\n",
       "                                        Alignment_str repClass1 repClass2  \n",
       "0   a-----g---c------a-ctgt-tcct----cc--a--ctcca-t...      LINE      LINE  \n",
       "5   ag-----------c--act-gt---tcctcca-c----tc-cattt...      LINE      LINE  \n",
       "6   ---------a-g----ca-------c--t--------gt-t---c-...      LINE      LINE  \n",
       "7   ag-ca-ctg-tt-cctcca--c-t---c-----c-att-tag-c--...      LINE      LINE  \n",
       "12  ----tc-----t-ctgttt-cttgccc--aactgc-tccttgaacc...      LINE      LINE  \n",
       "13  -tctc--t---gt-ttc-----t-t-g-----c-c---------c-...      LINE      LINE  \n",
       "14  tctctgtttcttg-cc-c-aactgctccttgaaccccaagctccaa...      LINE      LINE  \n",
       "16  ta-----a----a--aa----a-c--tt--ag---ctg-g------...      SINE      SINE  \n",
       "17  --taaaaaac-tt-ag-ctggtca-tggtgatgtgcacctgcagtc...      SINE      SINE  \n",
       "26  tggctcatgccagtaatcccagccctttgagaggctgaggcgggcg...      SINE      SINE  \n",
       "33  ---------aa--a---a----t----a--aa-a-at---------...      LINE      LINE  \n",
       "34  aaaataaaaa-tact-t-actcgta--aat-c-t-aacaaaata--...      LINE      LINE  \n",
       "35  gtctccctcaagtattcaagagtgtcgattaacacatgtgtgtgct...      LINE      LINE  "
      ]
     },
     "execution_count": 40,
     "metadata": {},
     "output_type": "execute_result"
    }
   ],
   "source": [
    "same_class_df_ls[0]"
   ]
  },
  {
   "cell_type": "code",
   "execution_count": null,
   "id": "d71e5975-7b42-4705-98a9-1d087c329b1d",
   "metadata": {},
   "outputs": [],
   "source": []
  },
  {
   "cell_type": "code",
   "execution_count": null,
   "id": "03a9c9f7-248b-4c09-af8e-037212ae67b0",
   "metadata": {},
   "outputs": [],
   "source": []
  },
  {
   "cell_type": "markdown",
   "id": "27260374-e24c-43b4-8fca-e42d1b600131",
   "metadata": {},
   "source": [
    "## make new summary df"
   ]
  },
  {
   "cell_type": "markdown",
   "id": "624d82a0-807d-4e2b-9653-d41bc5051fcb",
   "metadata": {},
   "source": [
    "### get related values"
   ]
  },
  {
   "cell_type": "code",
   "execution_count": 41,
   "id": "8c1c60b6-98a7-49ea-9343-1f0425c8b03f",
   "metadata": {},
   "outputs": [
    {
     "data": {
      "text/plain": [
       "['AD_top9',\n",
       " 'rand10_1',\n",
       " 'rand10_2',\n",
       " 'rand10_3',\n",
       " 'rand20_1',\n",
       " 'rand20_2',\n",
       " 'rand20_3',\n",
       " 'rand50_1',\n",
       " 'rand50_2',\n",
       " 'rand50_3',\n",
       " 'SER_last50',\n",
       " 'SER_top10',\n",
       " 'SER_top20',\n",
       " 'SER_top50']"
      ]
     },
     "execution_count": 41,
     "metadata": {},
     "output_type": "execute_result"
    }
   ],
   "source": [
    "base_all"
   ]
  },
  {
   "cell_type": "code",
   "execution_count": 42,
   "id": "a003fea0-3cb3-4ad1-8f1d-384618036901",
   "metadata": {},
   "outputs": [
    {
     "data": {
      "text/plain": [
       "[10, 10, 10, 20, 20, 20, 50, 50, 50]"
      ]
     },
     "execution_count": 42,
     "metadata": {},
     "output_type": "execute_result"
    }
   ],
   "source": [
    "num_elements = [ i for i in [10,20,50] for j in [1,2,3] ] # for the random controls\n",
    "num_elements"
   ]
  },
  {
   "cell_type": "code",
   "execution_count": 43,
   "id": "636a317d-6b86-4f67-a52a-e36c361e56c7",
   "metadata": {},
   "outputs": [],
   "source": [
    "# for AD and SER\n",
    "num_elements = [9] + num_elements + [ 50, 10, 20, 50 ]"
   ]
  },
  {
   "cell_type": "code",
   "execution_count": 44,
   "id": "dd97f821-ebf4-4a65-934b-2a95ec7ab866",
   "metadata": {},
   "outputs": [],
   "source": [
    "assert( len( num_elements) == len( same_class_df_ls ) )"
   ]
  },
  {
   "cell_type": "code",
   "execution_count": 45,
   "id": "5b9b9d2b-e8d3-47af-89bd-690ca04233e1",
   "metadata": {},
   "outputs": [
    {
     "data": {
      "text/plain": [
       "20"
      ]
     },
     "execution_count": 45,
     "metadata": {},
     "output_type": "execute_result"
    }
   ],
   "source": [
    "len( set( df_ls[5]['ID2']).union(set( df_ls[5]['ID1'] )  ) )"
   ]
  },
  {
   "cell_type": "code",
   "execution_count": 97,
   "id": "1f93b14a-6a5b-4561-a219-e3dfd973182d",
   "metadata": {},
   "outputs": [
    {
     "data": {
      "text/plain": [
       "7"
      ]
     },
     "execution_count": 97,
     "metadata": {},
     "output_type": "execute_result"
    }
   ],
   "source": [
    "len( same_class_df_ls[0]['ID1'].unique() )"
   ]
  },
  {
   "cell_type": "code",
   "execution_count": 46,
   "id": "2f44ca9b-aeb9-4ce2-bcc1-0e3e48d153ea",
   "metadata": {},
   "outputs": [],
   "source": [
    "summary_df = pd.DataFrame(index = \n",
    "                          ['avg_pctIdentity', 'std_pctIdentity', 'sum_pctIdentity',\n",
    "                           'num_element_sampled' , 'num_combination_all',  'num_combination_left',\n",
    "                           'adjusted_avg_pctIdentity'])\n",
    "\n",
    "\n",
    "for i,df in enumerate( same_class_df_ls):\n",
    "    # get data meta information\n",
    "    f_id = base_all[i]\n",
    "    num_e = num_elements[i]\n",
    "    num_combination_all = df_ls[i].shape[0]\n",
    "    num_combination_left = df.shape[0]\n",
    "    \n",
    "    #get avg and std score\n",
    "    avg_score = df['PercentIdentity'].mean()\n",
    "    std_score = df['PercentIdentity'].std()\n",
    "    sum_score = df['PercentIdentity'].sum()\n",
    "    adj_avg_score = sum_score / num_combination_all\n",
    "    \n",
    "\n",
    "    # add result to the result df\n",
    "    summary_df[ f_id ] = [ avg_score, std_score, sum_score, num_e,  num_combination_all, num_combination_left,  adj_avg_score ]\n",
    "    \n",
    "    \n",
    "    \n",
    "    "
   ]
  },
  {
   "cell_type": "code",
   "execution_count": null,
   "id": "422f15ad-3fcb-4524-8d1a-f3011ee54631",
   "metadata": {},
   "outputs": [],
   "source": []
  },
  {
   "cell_type": "markdown",
   "id": "8adec497-e230-41e0-90ec-4d9225ae686c",
   "metadata": {},
   "source": [
    "### make summary df function"
   ]
  },
  {
   "cell_type": "code",
   "execution_count": 93,
   "id": "937780c5-3c4e-4c92-9bb6-4c2eb25eb71d",
   "metadata": {},
   "outputs": [],
   "source": [
    "def keep_within_class_TE_pairs( df_ls, df_index_names,  verbose = True):\n",
    "    \"\"\"This is a helper function to filter out pair-wis comparisons that are not within the same TE repClass\n",
    "    @param df_ls: a list of pair-wise indentity score dfs\n",
    "    @param df_index_names: index name for each df in the df_ls\n",
    "    @param verbose: set true if to print out how many combination left after filtering\n",
    "\n",
    "    @return same_class_df_ls\n",
    "    \"\"\"\n",
    "    same_class_df_ls = []\n",
    "    for i,d in enumerate( df_ls):\n",
    "                \n",
    "        d2 = d[ d['repClass1'] == d['repClass2'] ]\n",
    "        same_class_df_ls.append( d2)\n",
    "\n",
    "        if( verbose): \n",
    "            print( df_index_names[i] )\n",
    "            print( f\"Original df has {d.shape[0]} elements\")\n",
    "            \n",
    "            print( f\"Filtered df has { d2.shape[0]} elements\")\n",
    "            pct_left = d2.shape[0] / d.shape[0]\n",
    "            \n",
    "            print( f\"{pct_left} left\\n\")\n",
    "\n",
    "    return same_class_df_ls"
   ]
  },
  {
   "cell_type": "code",
   "execution_count": 96,
   "id": "739c9567-a97f-43ba-b840-186298bf3daa",
   "metadata": {},
   "outputs": [],
   "source": [
    "def get_summary_df( df_ls, df_index_names, conditions, num_elements_sampled, verbose = True):\n",
    "    \"\"\" This function calculate a summary statistics from a list of  pair-wise similarity comparison result dfs. \n",
    "    It will output a summary df that includes avg. similarity scores, its std and also scores after sample-size adjustment.\n",
    "    The avg. score is the avg. similarity score across all TE pairs that are WITHIN the same group ( total score / num of combinations),\n",
    "    whereas the adjusted score are ( total score / number of combination for all sampled TEs ( before within-group filter)\n",
    "\n",
    "    @param df_ls: a list of result data frames ( the pair-wise identity csvs). Note it must contains repClass information to filter out diff-class TE pairs\n",
    "    @param df_index_names: the data frame index used for the summary df, usually a short of condition&sample size( eg. Rand_50 or MUT_UP_top50)\n",
    "    @param conditions: experiment conditoins\n",
    "    @param num_element samples: number of elements initially compared in the pair-wise comparison\n",
    "    @param verbose: set True if to print out how many pair-wise combination left after filtering out diff-class TE pairs\n",
    "\n",
    "    @return: a summary df with avg identity scores, adjusted identity scores, their std values and other related information\"\"\"\n",
    "\n",
    "    # declare the result df\n",
    "    summary_df = pd.DataFrame(index = \n",
    "                              ['avg_pctIdentity', 'std_pctIdentity', 'sum_pctIdentity',\n",
    "                               'num_element_sampled' , 'num_combination_all',  'num_combination_left',\n",
    "                               'adjusted_avg_pctIdentity', 'adjusted_std_pctIdentity', 'condition'])\n",
    "\n",
    "    # filter the result df to contain only same-class TEs\n",
    "    same_class_df_ls = keep_within_class_TE_pairs( df_ls, df_index_names,  verbose = verbose)\n",
    "    print( len( same_class_df_ls))\n",
    "\n",
    "\n",
    "    for i,df in enumerate( same_class_df_ls):\n",
    "        # get data meta information\n",
    "        f_id = df_index_names[i]\n",
    "        num_e = num_elements_sampled[i]\n",
    "        num_combination_all = math.comb( num_e, 2 )\n",
    "        num_combination_left = df.shape[0]\n",
    "        \n",
    "        #get avg and std score\n",
    "        avg_score = df['PercentIdentity'].mean()\n",
    "        std_score = df['PercentIdentity'].std()\n",
    "        sum_score = df['PercentIdentity'].sum()\n",
    "    \n",
    "        # get adjusted score information\n",
    "        adj_avg_score = sum_score / num_combination_all\n",
    "        adj_std = std_score * ( num_combination_left/num_combination_all ) # original std * fraction of combination remained\n",
    "        \n",
    "    \n",
    "        # add result to the result df\n",
    "        summary_df[ f_id ] = [ avg_score, std_score, sum_score, \n",
    "                              num_e,  num_combination_all, num_combination_left, \n",
    "                              adj_avg_score, adj_std, conditions[i] ]\n",
    "        #print( summary_df.shape)\n",
    "    \n",
    "    return summary_df\n",
    "    \n",
    "    \n",
    "    \n",
    "    "
   ]
  },
  {
   "cell_type": "code",
   "execution_count": 99,
   "id": "f9a1f24c-c3d8-4cc4-91f8-1d3e9afd7838",
   "metadata": {},
   "outputs": [
    {
     "data": {
      "text/html": [
       "<div>\n",
       "<style scoped>\n",
       "    .dataframe tbody tr th:only-of-type {\n",
       "        vertical-align: middle;\n",
       "    }\n",
       "\n",
       "    .dataframe tbody tr th {\n",
       "        vertical-align: top;\n",
       "    }\n",
       "\n",
       "    .dataframe thead th {\n",
       "        text-align: right;\n",
       "    }\n",
       "</style>\n",
       "<table border=\"1\" class=\"dataframe\">\n",
       "  <thead>\n",
       "    <tr style=\"text-align: right;\">\n",
       "      <th></th>\n",
       "      <th>avg_pctIdentity</th>\n",
       "      <th>std_pctIdentity</th>\n",
       "      <th>sum_pctIdentity</th>\n",
       "      <th>num_element_sampled</th>\n",
       "      <th>num_combination_all</th>\n",
       "      <th>num_combination_left</th>\n",
       "      <th>adjusted_avg_pctIdentity</th>\n",
       "      <th>condition</th>\n",
       "      <th>adj_std_pctIdentity</th>\n",
       "    </tr>\n",
       "  </thead>\n",
       "  <tbody>\n",
       "    <tr>\n",
       "      <th>AD_top9</th>\n",
       "      <td>38.734869</td>\n",
       "      <td>13.380474</td>\n",
       "      <td>503.553301</td>\n",
       "      <td>9.0</td>\n",
       "      <td>36.0</td>\n",
       "      <td>13.0</td>\n",
       "      <td>13.987592</td>\n",
       "      <td>AD_up</td>\n",
       "      <td>4.831838</td>\n",
       "    </tr>\n",
       "    <tr>\n",
       "      <th>rand10_1</th>\n",
       "      <td>25.040546</td>\n",
       "      <td>22.356585</td>\n",
       "      <td>250.405464</td>\n",
       "      <td>10.0</td>\n",
       "      <td>45.0</td>\n",
       "      <td>10.0</td>\n",
       "      <td>5.564566</td>\n",
       "      <td>control</td>\n",
       "      <td>4.968130</td>\n",
       "    </tr>\n",
       "    <tr>\n",
       "      <th>rand10_2</th>\n",
       "      <td>45.852660</td>\n",
       "      <td>24.000154</td>\n",
       "      <td>733.642553</td>\n",
       "      <td>10.0</td>\n",
       "      <td>45.0</td>\n",
       "      <td>16.0</td>\n",
       "      <td>16.303168</td>\n",
       "      <td>control</td>\n",
       "      <td>8.533388</td>\n",
       "    </tr>\n",
       "    <tr>\n",
       "      <th>rand10_3</th>\n",
       "      <td>29.605851</td>\n",
       "      <td>18.835619</td>\n",
       "      <td>503.299468</td>\n",
       "      <td>10.0</td>\n",
       "      <td>45.0</td>\n",
       "      <td>17.0</td>\n",
       "      <td>11.184433</td>\n",
       "      <td>control</td>\n",
       "      <td>7.115678</td>\n",
       "    </tr>\n",
       "    <tr>\n",
       "      <th>SER_top10</th>\n",
       "      <td>43.108842</td>\n",
       "      <td>22.412413</td>\n",
       "      <td>603.523788</td>\n",
       "      <td>10.0</td>\n",
       "      <td>45.0</td>\n",
       "      <td>14.0</td>\n",
       "      <td>13.411640</td>\n",
       "      <td>SER_up</td>\n",
       "      <td>6.972751</td>\n",
       "    </tr>\n",
       "  </tbody>\n",
       "</table>\n",
       "</div>"
      ],
      "text/plain": [
       "           avg_pctIdentity  std_pctIdentity  sum_pctIdentity   \n",
       "AD_top9          38.734869        13.380474       503.553301  \\\n",
       "rand10_1         25.040546        22.356585       250.405464   \n",
       "rand10_2         45.852660        24.000154       733.642553   \n",
       "rand10_3         29.605851        18.835619       503.299468   \n",
       "SER_top10        43.108842        22.412413       603.523788   \n",
       "\n",
       "           num_element_sampled  num_combination_all  num_combination_left   \n",
       "AD_top9                    9.0                 36.0                  13.0  \\\n",
       "rand10_1                  10.0                 45.0                  10.0   \n",
       "rand10_2                  10.0                 45.0                  16.0   \n",
       "rand10_3                  10.0                 45.0                  17.0   \n",
       "SER_top10                 10.0                 45.0                  14.0   \n",
       "\n",
       "           adjusted_avg_pctIdentity condition  adj_std_pctIdentity  \n",
       "AD_top9                   13.987592     AD_up             4.831838  \n",
       "rand10_1                   5.564566   control             4.968130  \n",
       "rand10_2                  16.303168   control             8.533388  \n",
       "rand10_3                  11.184433   control             7.115678  \n",
       "SER_top10                 13.411640    SER_up             6.972751  "
      ]
     },
     "execution_count": 99,
     "metadata": {},
     "output_type": "execute_result"
    }
   ],
   "source": [
    "summary_df.head()"
   ]
  },
  {
   "cell_type": "code",
   "execution_count": null,
   "id": "2dbd4042-8a60-43fd-987c-05e260eb8f62",
   "metadata": {},
   "outputs": [],
   "source": [
    "conditions = ['AD_up'] + [ 'control' for i in range( 9) ] + [ 'SER_up' for i in range( 4)] \n",
    "len( conditions )"
   ]
  },
  {
   "cell_type": "code",
   "execution_count": 97,
   "id": "0185df3f-0d4c-4d01-83d0-b9747d2dcffa",
   "metadata": {},
   "outputs": [
    {
     "name": "stdout",
     "output_type": "stream",
     "text": [
      "14\n"
     ]
    }
   ],
   "source": [
    "summary_df2 = get_summary_df( df_ls= df_ls, df_index_names= base_all, conditions=conditions, \n",
    "                             num_elements_sampled=num_elements, verbose= False) "
   ]
  },
  {
   "cell_type": "code",
   "execution_count": 100,
   "id": "422eead2-2b8a-472c-8397-4486aa91839e",
   "metadata": {},
   "outputs": [
    {
     "data": {
      "text/html": [
       "<div>\n",
       "<style scoped>\n",
       "    .dataframe tbody tr th:only-of-type {\n",
       "        vertical-align: middle;\n",
       "    }\n",
       "\n",
       "    .dataframe tbody tr th {\n",
       "        vertical-align: top;\n",
       "    }\n",
       "\n",
       "    .dataframe thead th {\n",
       "        text-align: right;\n",
       "    }\n",
       "</style>\n",
       "<table border=\"1\" class=\"dataframe\">\n",
       "  <thead>\n",
       "    <tr style=\"text-align: right;\">\n",
       "      <th></th>\n",
       "      <th>avg_pctIdentity</th>\n",
       "      <th>std_pctIdentity</th>\n",
       "      <th>sum_pctIdentity</th>\n",
       "      <th>num_element_sampled</th>\n",
       "      <th>num_combination_all</th>\n",
       "      <th>num_combination_left</th>\n",
       "      <th>adjusted_avg_pctIdentity</th>\n",
       "      <th>adjusted_std_pctIdentity</th>\n",
       "      <th>condition</th>\n",
       "    </tr>\n",
       "  </thead>\n",
       "  <tbody>\n",
       "    <tr>\n",
       "      <th>AD_top9</th>\n",
       "      <td>38.734869</td>\n",
       "      <td>13.380474</td>\n",
       "      <td>503.553301</td>\n",
       "      <td>9</td>\n",
       "      <td>36</td>\n",
       "      <td>13</td>\n",
       "      <td>13.987592</td>\n",
       "      <td>4.831838</td>\n",
       "      <td>AD_up</td>\n",
       "    </tr>\n",
       "    <tr>\n",
       "      <th>rand10_1</th>\n",
       "      <td>25.040546</td>\n",
       "      <td>22.356585</td>\n",
       "      <td>250.405464</td>\n",
       "      <td>10</td>\n",
       "      <td>45</td>\n",
       "      <td>10</td>\n",
       "      <td>5.564566</td>\n",
       "      <td>4.96813</td>\n",
       "      <td>control</td>\n",
       "    </tr>\n",
       "    <tr>\n",
       "      <th>rand10_2</th>\n",
       "      <td>45.85266</td>\n",
       "      <td>24.000154</td>\n",
       "      <td>733.642553</td>\n",
       "      <td>10</td>\n",
       "      <td>45</td>\n",
       "      <td>16</td>\n",
       "      <td>16.303168</td>\n",
       "      <td>8.533388</td>\n",
       "      <td>control</td>\n",
       "    </tr>\n",
       "    <tr>\n",
       "      <th>rand10_3</th>\n",
       "      <td>29.605851</td>\n",
       "      <td>18.835619</td>\n",
       "      <td>503.299468</td>\n",
       "      <td>10</td>\n",
       "      <td>45</td>\n",
       "      <td>17</td>\n",
       "      <td>11.184433</td>\n",
       "      <td>7.115678</td>\n",
       "      <td>control</td>\n",
       "    </tr>\n",
       "    <tr>\n",
       "      <th>rand20_1</th>\n",
       "      <td>30.529265</td>\n",
       "      <td>21.327788</td>\n",
       "      <td>1831.755884</td>\n",
       "      <td>20</td>\n",
       "      <td>190</td>\n",
       "      <td>60</td>\n",
       "      <td>9.64082</td>\n",
       "      <td>6.735091</td>\n",
       "      <td>control</td>\n",
       "    </tr>\n",
       "  </tbody>\n",
       "</table>\n",
       "</div>"
      ],
      "text/plain": [
       "         avg_pctIdentity std_pctIdentity sum_pctIdentity num_element_sampled   \n",
       "AD_top9        38.734869       13.380474      503.553301                   9  \\\n",
       "rand10_1       25.040546       22.356585      250.405464                  10   \n",
       "rand10_2        45.85266       24.000154      733.642553                  10   \n",
       "rand10_3       29.605851       18.835619      503.299468                  10   \n",
       "rand20_1       30.529265       21.327788     1831.755884                  20   \n",
       "\n",
       "         num_combination_all num_combination_left adjusted_avg_pctIdentity   \n",
       "AD_top9                   36                   13                13.987592  \\\n",
       "rand10_1                  45                   10                 5.564566   \n",
       "rand10_2                  45                   16                16.303168   \n",
       "rand10_3                  45                   17                11.184433   \n",
       "rand20_1                 190                   60                  9.64082   \n",
       "\n",
       "         adjusted_std_pctIdentity condition  \n",
       "AD_top9                  4.831838     AD_up  \n",
       "rand10_1                  4.96813   control  \n",
       "rand10_2                 8.533388   control  \n",
       "rand10_3                 7.115678   control  \n",
       "rand20_1                 6.735091   control  "
      ]
     },
     "execution_count": 100,
     "metadata": {},
     "output_type": "execute_result"
    }
   ],
   "source": [
    "summary_df2.T.head()"
   ]
  },
  {
   "cell_type": "code",
   "execution_count": null,
   "id": "ed398077-9680-4770-bb85-62689e1dcb0c",
   "metadata": {},
   "outputs": [],
   "source": []
  },
  {
   "cell_type": "markdown",
   "id": "6ea0b883-9b3f-447d-93f5-1073499bd7e0",
   "metadata": {},
   "source": [
    "### format the summary df"
   ]
  },
  {
   "cell_type": "code",
   "execution_count": 48,
   "id": "9171fdc6-94f0-4773-80e8-165c2c47673f",
   "metadata": {},
   "outputs": [
    {
     "data": {
      "text/plain": [
       "14"
      ]
     },
     "execution_count": 48,
     "metadata": {},
     "output_type": "execute_result"
    }
   ],
   "source": [
    "conditions = ['AD_up'] + [ 'control' for i in range( 9) ] + [ 'SER_up' for i in range( 4)] \n",
    "len( conditions )"
   ]
  },
  {
   "cell_type": "code",
   "execution_count": 49,
   "id": "1adfe3f7-4da6-4b12-9f79-657f6a1f28c5",
   "metadata": {},
   "outputs": [
    {
     "data": {
      "text/plain": [
       "(7, 14)"
      ]
     },
     "execution_count": 49,
     "metadata": {},
     "output_type": "execute_result"
    }
   ],
   "source": [
    "summary_df.shape"
   ]
  },
  {
   "cell_type": "code",
   "execution_count": 50,
   "id": "be01cf1d-7800-48f8-b033-501ee9bfa576",
   "metadata": {},
   "outputs": [],
   "source": [
    "summary_df = summary_df.T"
   ]
  },
  {
   "cell_type": "code",
   "execution_count": 51,
   "id": "27d69304-1617-45fb-b4cf-dd0f0cafab83",
   "metadata": {},
   "outputs": [],
   "source": [
    "summary_df['condition'] = conditions "
   ]
  },
  {
   "cell_type": "code",
   "execution_count": 52,
   "id": "8f575d09-0f1f-4a7b-8ec6-7acc85926973",
   "metadata": {},
   "outputs": [
    {
     "data": {
      "text/html": [
       "<div>\n",
       "<style scoped>\n",
       "    .dataframe tbody tr th:only-of-type {\n",
       "        vertical-align: middle;\n",
       "    }\n",
       "\n",
       "    .dataframe tbody tr th {\n",
       "        vertical-align: top;\n",
       "    }\n",
       "\n",
       "    .dataframe thead th {\n",
       "        text-align: right;\n",
       "    }\n",
       "</style>\n",
       "<table border=\"1\" class=\"dataframe\">\n",
       "  <thead>\n",
       "    <tr style=\"text-align: right;\">\n",
       "      <th></th>\n",
       "      <th>avg_pctIdentity</th>\n",
       "      <th>std_pctIdentity</th>\n",
       "      <th>sum_pctIdentity</th>\n",
       "      <th>num_element_sampled</th>\n",
       "      <th>num_combination_all</th>\n",
       "      <th>num_combination_left</th>\n",
       "      <th>adjusted_avg_pctIdentity</th>\n",
       "      <th>condition</th>\n",
       "    </tr>\n",
       "  </thead>\n",
       "  <tbody>\n",
       "    <tr>\n",
       "      <th>AD_top9</th>\n",
       "      <td>38.734869</td>\n",
       "      <td>13.380474</td>\n",
       "      <td>503.553301</td>\n",
       "      <td>9.0</td>\n",
       "      <td>36.0</td>\n",
       "      <td>13.0</td>\n",
       "      <td>13.987592</td>\n",
       "      <td>AD_up</td>\n",
       "    </tr>\n",
       "    <tr>\n",
       "      <th>rand10_1</th>\n",
       "      <td>25.040546</td>\n",
       "      <td>22.356585</td>\n",
       "      <td>250.405464</td>\n",
       "      <td>10.0</td>\n",
       "      <td>45.0</td>\n",
       "      <td>10.0</td>\n",
       "      <td>5.564566</td>\n",
       "      <td>control</td>\n",
       "    </tr>\n",
       "  </tbody>\n",
       "</table>\n",
       "</div>"
      ],
      "text/plain": [
       "          avg_pctIdentity  std_pctIdentity  sum_pctIdentity   \n",
       "AD_top9         38.734869        13.380474       503.553301  \\\n",
       "rand10_1        25.040546        22.356585       250.405464   \n",
       "\n",
       "          num_element_sampled  num_combination_all  num_combination_left   \n",
       "AD_top9                   9.0                 36.0                  13.0  \\\n",
       "rand10_1                 10.0                 45.0                  10.0   \n",
       "\n",
       "          adjusted_avg_pctIdentity condition  \n",
       "AD_top9                  13.987592     AD_up  \n",
       "rand10_1                  5.564566   control  "
      ]
     },
     "execution_count": 52,
     "metadata": {},
     "output_type": "execute_result"
    }
   ],
   "source": [
    "summary_df.head(2)"
   ]
  },
  {
   "cell_type": "code",
   "execution_count": 53,
   "id": "40c756de-516a-4186-b76f-4c231b765335",
   "metadata": {},
   "outputs": [],
   "source": [
    "summary_df['condition'] = pd.Categorical( summary_df['condition'], categories=['control' , 'AD_up' , 'SER_up' ] )"
   ]
  },
  {
   "cell_type": "code",
   "execution_count": 54,
   "id": "8f28659b-047e-493a-977b-f266505db287",
   "metadata": {},
   "outputs": [],
   "source": [
    "summary_df.sort_values( by = ['num_element_sampled' ,'condition'], inplace= True )"
   ]
  },
  {
   "cell_type": "code",
   "execution_count": 55,
   "id": "c9c9016e-a4b7-4142-b750-03b6f21d823f",
   "metadata": {},
   "outputs": [
    {
     "data": {
      "text/plain": [
       "Index(['AD_top9', 'rand10_1', 'rand10_2', 'rand10_3', 'SER_top10', 'rand20_1',\n",
       "       'rand20_2', 'rand20_3', 'SER_top20', 'rand50_1', 'rand50_2', 'rand50_3',\n",
       "       'SER_last50', 'SER_top50'],\n",
       "      dtype='object')"
      ]
     },
     "execution_count": 55,
     "metadata": {},
     "output_type": "execute_result"
    }
   ],
   "source": [
    "summary_df.index"
   ]
  },
  {
   "cell_type": "code",
   "execution_count": 56,
   "id": "10576d10-35da-4a56-bcbc-cf288898e692",
   "metadata": {},
   "outputs": [],
   "source": [
    "# reordered_index = ['rand10_1', 'rand10_2', 'rand10_3', 'wt_top10', 'mut_top10', 'rand20_1',\n",
    "#        'rand20_2', 'rand20_3', 'wt_top20', 'mut_top20', 'rand50_1',\n",
    "#        'rand50_2', 'rand50_3', 'wt_top33', 'mut_last50', 'mut_top50']"
   ]
  },
  {
   "cell_type": "code",
   "execution_count": 57,
   "id": "1d56bb2c-99e6-406f-b84b-45369ef45a92",
   "metadata": {},
   "outputs": [],
   "source": [
    "#summary_df = summary_df.loc[ reordered_index ]"
   ]
  },
  {
   "cell_type": "code",
   "execution_count": 58,
   "id": "3a8b784e-7553-4e52-acae-ff4fefb6ca22",
   "metadata": {},
   "outputs": [
    {
     "data": {
      "text/html": [
       "<div>\n",
       "<style scoped>\n",
       "    .dataframe tbody tr th:only-of-type {\n",
       "        vertical-align: middle;\n",
       "    }\n",
       "\n",
       "    .dataframe tbody tr th {\n",
       "        vertical-align: top;\n",
       "    }\n",
       "\n",
       "    .dataframe thead th {\n",
       "        text-align: right;\n",
       "    }\n",
       "</style>\n",
       "<table border=\"1\" class=\"dataframe\">\n",
       "  <thead>\n",
       "    <tr style=\"text-align: right;\">\n",
       "      <th></th>\n",
       "      <th>avg_pctIdentity</th>\n",
       "      <th>std_pctIdentity</th>\n",
       "      <th>sum_pctIdentity</th>\n",
       "      <th>num_element_sampled</th>\n",
       "      <th>num_combination_all</th>\n",
       "      <th>num_combination_left</th>\n",
       "      <th>adjusted_avg_pctIdentity</th>\n",
       "      <th>condition</th>\n",
       "    </tr>\n",
       "  </thead>\n",
       "  <tbody>\n",
       "    <tr>\n",
       "      <th>AD_top9</th>\n",
       "      <td>38.734869</td>\n",
       "      <td>13.380474</td>\n",
       "      <td>503.553301</td>\n",
       "      <td>9.0</td>\n",
       "      <td>36.0</td>\n",
       "      <td>13.0</td>\n",
       "      <td>13.987592</td>\n",
       "      <td>AD_up</td>\n",
       "    </tr>\n",
       "    <tr>\n",
       "      <th>rand10_1</th>\n",
       "      <td>25.040546</td>\n",
       "      <td>22.356585</td>\n",
       "      <td>250.405464</td>\n",
       "      <td>10.0</td>\n",
       "      <td>45.0</td>\n",
       "      <td>10.0</td>\n",
       "      <td>5.564566</td>\n",
       "      <td>control</td>\n",
       "    </tr>\n",
       "    <tr>\n",
       "      <th>rand10_2</th>\n",
       "      <td>45.852660</td>\n",
       "      <td>24.000154</td>\n",
       "      <td>733.642553</td>\n",
       "      <td>10.0</td>\n",
       "      <td>45.0</td>\n",
       "      <td>16.0</td>\n",
       "      <td>16.303168</td>\n",
       "      <td>control</td>\n",
       "    </tr>\n",
       "    <tr>\n",
       "      <th>rand10_3</th>\n",
       "      <td>29.605851</td>\n",
       "      <td>18.835619</td>\n",
       "      <td>503.299468</td>\n",
       "      <td>10.0</td>\n",
       "      <td>45.0</td>\n",
       "      <td>17.0</td>\n",
       "      <td>11.184433</td>\n",
       "      <td>control</td>\n",
       "    </tr>\n",
       "    <tr>\n",
       "      <th>SER_top10</th>\n",
       "      <td>43.108842</td>\n",
       "      <td>22.412413</td>\n",
       "      <td>603.523788</td>\n",
       "      <td>10.0</td>\n",
       "      <td>45.0</td>\n",
       "      <td>14.0</td>\n",
       "      <td>13.411640</td>\n",
       "      <td>SER_up</td>\n",
       "    </tr>\n",
       "  </tbody>\n",
       "</table>\n",
       "</div>"
      ],
      "text/plain": [
       "           avg_pctIdentity  std_pctIdentity  sum_pctIdentity   \n",
       "AD_top9          38.734869        13.380474       503.553301  \\\n",
       "rand10_1         25.040546        22.356585       250.405464   \n",
       "rand10_2         45.852660        24.000154       733.642553   \n",
       "rand10_3         29.605851        18.835619       503.299468   \n",
       "SER_top10        43.108842        22.412413       603.523788   \n",
       "\n",
       "           num_element_sampled  num_combination_all  num_combination_left   \n",
       "AD_top9                    9.0                 36.0                  13.0  \\\n",
       "rand10_1                  10.0                 45.0                  10.0   \n",
       "rand10_2                  10.0                 45.0                  16.0   \n",
       "rand10_3                  10.0                 45.0                  17.0   \n",
       "SER_top10                 10.0                 45.0                  14.0   \n",
       "\n",
       "           adjusted_avg_pctIdentity condition  \n",
       "AD_top9                   13.987592     AD_up  \n",
       "rand10_1                   5.564566   control  \n",
       "rand10_2                  16.303168   control  \n",
       "rand10_3                  11.184433   control  \n",
       "SER_top10                 13.411640    SER_up  "
      ]
     },
     "execution_count": 58,
     "metadata": {},
     "output_type": "execute_result"
    }
   ],
   "source": [
    "summary_df.head()"
   ]
  },
  {
   "cell_type": "code",
   "execution_count": 59,
   "id": "16879595-a039-4288-965a-86fbbbe9793f",
   "metadata": {},
   "outputs": [],
   "source": [
    "adjusted_std = summary_df['std_pctIdentity'] * (summary_df['num_combination_left'] / summary_df['num_combination_all']  )"
   ]
  },
  {
   "cell_type": "code",
   "execution_count": 60,
   "id": "165c692d-4cdc-4eb0-9989-63ecb70890f8",
   "metadata": {},
   "outputs": [],
   "source": [
    "summary_df['adj_std_pctIdentity'] = adjusted_std"
   ]
  },
  {
   "cell_type": "code",
   "execution_count": null,
   "id": "ca3d7436-0045-4fd0-aa32-660ce5ded18c",
   "metadata": {},
   "outputs": [],
   "source": []
  },
  {
   "cell_type": "code",
   "execution_count": null,
   "id": "5cceb29d-493f-4087-b892-207208e0aa0e",
   "metadata": {},
   "outputs": [],
   "source": []
  },
  {
   "cell_type": "markdown",
   "id": "185f9c57-ca02-4083-a227-13f0fd54df95",
   "metadata": {},
   "source": [
    "## make the new bar plots"
   ]
  },
  {
   "cell_type": "markdown",
   "id": "43376671-f9ad-439c-b04b-a0a21f98f42c",
   "metadata": {},
   "source": [
    "### compare number of element sampled and left after filtering"
   ]
  },
  {
   "cell_type": "code",
   "execution_count": null,
   "id": "abcd6056-ab2a-49d0-a561-8f83254f9192",
   "metadata": {},
   "outputs": [],
   "source": []
  },
  {
   "cell_type": "code",
   "execution_count": 61,
   "id": "e30eb049-d7a8-43d9-a8a0-7f300434df2e",
   "metadata": {},
   "outputs": [],
   "source": [
    "condition_colors = {\n",
    "    'control': 'gray',\n",
    "    'SER_up': 'salmon',\n",
    "    'AD_up':'cornflowerblue'\n",
    "}"
   ]
  },
  {
   "cell_type": "code",
   "execution_count": 62,
   "id": "9e0f7e2a-da0f-42c8-b6e0-ffaaeb1b3fd2",
   "metadata": {},
   "outputs": [
    {
     "data": {
      "image/png": "[encoded data removed]",
      "text/plain": [
       "<Figure size 640x480 with 1 Axes>"
      ]
     },
     "metadata": {},
     "output_type": "display_data"
    }
   ],
   "source": [
    "# Example data\n",
    "x_pos = np.arange(len(summary_df.index))\n",
    "heights1 = summary_df['num_combination_all']  # dataset 1\n",
    "heights2 = summary_df['num_combination_left' ]   # dataset 2\n",
    "\n",
    "all_pair_colors = [condition_colors[cond] for cond in summary_df['condition'] ]\n",
    "\n",
    "\n",
    "bar_width = 1 # need to adjust\n",
    "\n",
    "# Plot side-by-side histograms\n",
    "plt.bar(x_pos , heights1, width=bar_width, label='# all pairs', alpha=0.8, edgecolor=all_pair_colors, facecolor='none',)\n",
    "plt.bar(x_pos , heights2, width=bar_width, label='# within-class pairs', alpha=0.5, color =all_pair_colors)\n",
    "\n",
    "# Add labels and legend\n",
    "plt.xticks(x_pos, summary_df.index, rotation = 45)\n",
    "plt.xlabel('Condition')\n",
    "plt.ylabel('Count')\n",
    "plt.title('Number of Pair-wise Combination of TEs\\nacross Comparison Conditions')\n",
    "plt.legend()\n",
    "plt.tight_layout()\n",
    "plt.show()\n"
   ]
  },
  {
   "cell_type": "code",
   "execution_count": null,
   "id": "0ca5ae9b-8b67-48d3-96b1-1dc635b2c7dc",
   "metadata": {},
   "outputs": [],
   "source": []
  },
  {
   "cell_type": "markdown",
   "id": "422bc62e-e4fe-4697-8727-2c425581fa04",
   "metadata": {},
   "source": [
    "### only avg similarity score"
   ]
  },
  {
   "cell_type": "code",
   "execution_count": 63,
   "id": "91f0b0d0-efd5-423b-925b-767b091be884",
   "metadata": {},
   "outputs": [],
   "source": [
    "# condition_colors = {\n",
    "#     'control': 'gray',\n",
    "#     'mutant_up': 'salmon',\n",
    "#     'wt_up':'cornflowerblue'\n",
    "# }"
   ]
  },
  {
   "cell_type": "code",
   "execution_count": 66,
   "id": "12ec1c23-5438-4f19-89d8-24756fa81f99",
   "metadata": {},
   "outputs": [
    {
     "data": {
      "image/png": "[encoded data removed]",
      "text/plain": [
       "<Figure size 800x600 with 1 Axes>"
      ]
     },
     "metadata": {},
     "output_type": "display_data"
    }
   ],
   "source": [
    "bar_colors = [condition_colors[cond] for cond in summary_df['condition'] ]\n",
    "\n",
    "plt.figure(figsize=(8, 6))\n",
    "\n",
    "\n",
    "plt.bar(summary_df.index, summary_df['avg_pctIdentity'] , yerr=summary_df['std_pctIdentity'], capsize=5, color=bar_colors, edgecolor='black')\n",
    "\n",
    "plt.xticks(rotation=45, ha='right') \n",
    "\n",
    "legend_elements = [Patch(facecolor=color, label=cond) for cond, color in condition_colors.items()]\n",
    "plt.legend(handles=legend_elements, title='dTE Groups ')\n",
    "\n",
    "\n",
    "plt.ylabel('Average Similarity Score')\n",
    "plt.title('Within-class Sequence Similarity across differential TE groups')\n",
    "plt.grid(axis='y', linestyle='--', alpha=0.7)\n",
    "\n",
    "# Show plot\n",
    "plt.tight_layout()\n",
    "plt.show()\n"
   ]
  },
  {
   "cell_type": "code",
   "execution_count": null,
   "id": "77e2d049-7a21-4e84-8856-126f6a3554b7",
   "metadata": {},
   "outputs": [],
   "source": []
  },
  {
   "cell_type": "code",
   "execution_count": 65,
   "id": "2265a2aa-79b2-4aff-8c66-3dcc974c8b99",
   "metadata": {},
   "outputs": [
    {
     "data": {
      "image/png": "[encoded data removed]",
      "text/plain": [
       "<Figure size 800x600 with 1 Axes>"
      ]
     },
     "metadata": {},
     "output_type": "display_data"
    }
   ],
   "source": [
    "bar_colors = [condition_colors[cond] for cond in summary_df['condition'] ]\n",
    "\n",
    "plt.figure(figsize=(8, 6))\n",
    "\n",
    "\n",
    "plt.bar(summary_df.index, summary_df['adjusted_avg_pctIdentity'] , yerr=summary_df['adj_std_pctIdentity'], capsize=5, color=bar_colors, edgecolor='black')\n",
    "\n",
    "plt.xticks(rotation=45, ha='right') \n",
    "\n",
    "legend_elements = [Patch(facecolor=color, label=cond) for cond, color in condition_colors.items()]\n",
    "plt.legend(handles=legend_elements, title='dTE Groups ')\n",
    "\n",
    "plt.ylabel('Adjusted Avg. Similarity Score')\n",
    "plt.title('Within-class Sequence Similarity across differential TE groups')\n",
    "plt.grid(axis='y', linestyle='--', alpha=0.7)\n",
    "\n",
    "# Show plot\n",
    "plt.tight_layout()\n",
    "plt.show()\n"
   ]
  },
  {
   "cell_type": "code",
   "execution_count": null,
   "id": "701948e5-285e-4485-89ad-3b678c0bd3d3",
   "metadata": {},
   "outputs": [],
   "source": []
  },
  {
   "cell_type": "markdown",
   "id": "a308ba7c-a589-41f1-9c29-85d66aaf1f2f",
   "metadata": {
    "jp-MarkdownHeadingCollapsed": true
   },
   "source": [
    "## summary of summary ( may not be reflective to real differences though)"
   ]
  },
  {
   "cell_type": "code",
   "execution_count": 60,
   "id": "abd6812f-9140-4d87-b5fd-8352e7225e47",
   "metadata": {},
   "outputs": [
    {
     "data": {
      "image/png": "[encoded data removed]",
      "text/plain": [
       "<Figure size 640x480 with 1 Axes>"
      ]
     },
     "metadata": {},
     "output_type": "display_data"
    }
   ],
   "source": [
    "sns.barplot( summary_df, y ='adjusted_avg_pctIdentity' , x = 'condition' , hue= 'condition', palette= condition_colors, edgecolor = 'black', capsize = 0.05 )\n",
    "plt.title( 'Avg. Adjusted Pct Sequence Identity across Conditions')\n",
    "plt.show()"
   ]
  },
  {
   "cell_type": "code",
   "execution_count": null,
   "id": "0350f2f0-fa98-4937-823f-b74bb949724c",
   "metadata": {},
   "outputs": [],
   "source": []
  },
  {
   "cell_type": "code",
   "execution_count": 91,
   "id": "553aec26-2202-4c33-a315-662d21d921ea",
   "metadata": {},
   "outputs": [
    {
     "data": {
      "image/png": "[encoded data removed]",
      "text/plain": [
       "<Figure size 640x480 with 1 Axes>"
      ]
     },
     "metadata": {},
     "output_type": "display_data"
    }
   ],
   "source": [
    "sns.barplot( summary_df, y ='avg_pctIdentity' , x = 'condition' , hue= 'condition', palette= condition_colors, edgecolor = 'black', capsize = 0.05 )\n",
    "plt.title( 'Avg. Pct Sequence Identity across Conditions')\n",
    "plt.show()"
   ]
  },
  {
   "cell_type": "code",
   "execution_count": null,
   "id": "ebf5861b-28f7-48ac-8636-a240bda16817",
   "metadata": {},
   "outputs": [],
   "source": []
  },
  {
   "cell_type": "code",
   "execution_count": null,
   "id": "3494c178-174e-4a65-afa4-00d680f28911",
   "metadata": {},
   "outputs": [],
   "source": []
  },
  {
   "cell_type": "code",
   "execution_count": null,
   "id": "c5888404-7081-44d5-a329-7d757c071249",
   "metadata": {},
   "outputs": [],
   "source": []
  },
  {
   "cell_type": "code",
   "execution_count": null,
   "id": "47292ea9-bf59-4bba-8828-0e1145f9eddf",
   "metadata": {},
   "outputs": [],
   "source": []
  },
  {
   "cell_type": "code",
   "execution_count": 62,
   "id": "99a97b99-d618-4254-801a-a5e405349f29",
   "metadata": {},
   "outputs": [],
   "source": [
    "ctrl = summary_df['adjusted_avg_pctIdentity'][summary_df['condition'] == 'control']\n",
    "mut = summary_df['adjusted_avg_pctIdentity'][summary_df['condition'] == 'mutant_up']\n",
    "wt = summary_df['adjusted_avg_pctIdentity'][summary_df['condition'] == 'wt_up']"
   ]
  },
  {
   "cell_type": "code",
   "execution_count": 63,
   "id": "f87eabda-3718-4714-a710-38a52c931214",
   "metadata": {},
   "outputs": [],
   "source": [
    "# Assuming equal variances (default)\n",
    "t_mut_ctrl, p_mut_ctrl = stats.ttest_ind(list(mut), list( ctrl) )\n",
    "t_wt_ctrl, p_wt_ctrl = stats.ttest_ind(list(wt), list( ctrl) )\n",
    "t_mmut_wt, p_mut_wt = stats.ttest_ind(list(mut), list( wt) )"
   ]
  },
  {
   "cell_type": "code",
   "execution_count": 64,
   "id": "3eb4e796-16a4-4c4b-96f3-cf3d59c167b7",
   "metadata": {},
   "outputs": [
    {
     "name": "stdout",
     "output_type": "stream",
     "text": [
      "Mut vs control\n",
      "[2.2167227323288476, 0.04864342607119224]\n",
      "\n",
      "WT vs control\n",
      "[-0.44934238259016424, 0.6627665327656052]\n",
      "\n",
      "Mut vs WT\n",
      "[1.6590349022026594, 0.1580047507077214]\n"
     ]
    }
   ],
   "source": [
    "print( 'Mut vs control')\n",
    "print( [t_mut_ctrl, p_mut_ctrl ] )\n",
    "\n",
    "print( '\\nWT vs control' )\n",
    "print( [t_wt_ctrl, p_wt_ctrl ])\n",
    "\n",
    "print( '\\nMut vs WT' )\n",
    "print( [t_mmut_wt, p_mut_wt ])"
   ]
  },
  {
   "cell_type": "code",
   "execution_count": null,
   "id": "92e04ba7-0847-4f97-ae30-e8da47331b1e",
   "metadata": {},
   "outputs": [],
   "source": []
  },
  {
   "cell_type": "code",
   "execution_count": 93,
   "id": "6a00a97b-6252-4d1a-80bf-b9f97db71fd5",
   "metadata": {},
   "outputs": [],
   "source": [
    "ctrl0 = summary_df['avg_pctIdentity'][summary_df['condition'] == 'control']\n",
    "mut0 = summary_df['avg_pctIdentity'][summary_df['condition'] == 'mutant_up']\n",
    "wt0 = summary_df['avg_pctIdentity'][summary_df['condition'] == 'wt_up']"
   ]
  },
  {
   "cell_type": "code",
   "execution_count": 94,
   "id": "a101ab68-b79f-4c4e-b25f-6af3fa5e835f",
   "metadata": {},
   "outputs": [],
   "source": [
    "# Assuming equal variances (default)\n",
    "t_mut_ctrl, p_mut_ctrl = stats.ttest_ind(list(mut0), list( ctrl0) )\n",
    "t_wt_ctrl, p_wt_ctrl = stats.ttest_ind(list(wt0), list( ctrl0) )\n",
    "t_mmut_wt, p_mut_wt = stats.ttest_ind(list(mut0), list( wt0) )"
   ]
  },
  {
   "cell_type": "code",
   "execution_count": 95,
   "id": "ce304c38-6a9b-4ce4-b71b-0a785a6a8375",
   "metadata": {},
   "outputs": [
    {
     "name": "stdout",
     "output_type": "stream",
     "text": [
      "Mut vs control\n",
      "[-0.6345261059316291, 0.5387103077583725]\n",
      "\n",
      "WT vs control\n",
      "[-0.767479381517707, 0.4605336537923542]\n",
      "\n",
      "Mut vs WT\n",
      "[0.35876917708338585, 0.7344194308076961]\n"
     ]
    }
   ],
   "source": [
    "print( 'Mut vs control')\n",
    "print( [t_mut_ctrl, p_mut_ctrl ] )\n",
    "\n",
    "print( '\\nWT vs control' )\n",
    "print( [t_wt_ctrl, p_wt_ctrl ])\n",
    "\n",
    "print( '\\nMut vs WT' )\n",
    "print( [t_mmut_wt, p_mut_wt ])"
   ]
  },
  {
   "cell_type": "code",
   "execution_count": null,
   "id": "d065f5b5-74b3-4bc3-a0bf-e3a3fe3e3eac",
   "metadata": {},
   "outputs": [],
   "source": []
  },
  {
   "cell_type": "code",
   "execution_count": null,
   "id": "40ec24b2-1190-45a6-9d5c-7f614693463a",
   "metadata": {},
   "outputs": [],
   "source": []
  },
  {
   "cell_type": "code",
   "execution_count": null,
   "id": "ec026998-541c-415b-9252-c681b4b7d553",
   "metadata": {},
   "outputs": [],
   "source": []
  },
  {
   "cell_type": "markdown",
   "id": "22c41d9f-6af3-40a1-8a50-f857ffaa2cd7",
   "metadata": {},
   "source": [
    "## save data"
   ]
  },
  {
   "cell_type": "code",
   "execution_count": 67,
   "id": "5b18b23e-e93e-4fa3-ae8a-decaded94984",
   "metadata": {},
   "outputs": [
    {
     "data": {
      "text/html": [
       "<div>\n",
       "<style scoped>\n",
       "    .dataframe tbody tr th:only-of-type {\n",
       "        vertical-align: middle;\n",
       "    }\n",
       "\n",
       "    .dataframe tbody tr th {\n",
       "        vertical-align: top;\n",
       "    }\n",
       "\n",
       "    .dataframe thead th {\n",
       "        text-align: right;\n",
       "    }\n",
       "</style>\n",
       "<table border=\"1\" class=\"dataframe\">\n",
       "  <thead>\n",
       "    <tr style=\"text-align: right;\">\n",
       "      <th></th>\n",
       "      <th>avg_pctIdentity</th>\n",
       "      <th>std_pctIdentity</th>\n",
       "      <th>sum_pctIdentity</th>\n",
       "      <th>num_element_sampled</th>\n",
       "      <th>num_combination_all</th>\n",
       "      <th>num_combination_left</th>\n",
       "      <th>adjusted_avg_pctIdentity</th>\n",
       "      <th>condition</th>\n",
       "      <th>adj_std_pctIdentity</th>\n",
       "    </tr>\n",
       "  </thead>\n",
       "  <tbody>\n",
       "    <tr>\n",
       "      <th>AD_top9</th>\n",
       "      <td>38.734869</td>\n",
       "      <td>13.380474</td>\n",
       "      <td>503.553301</td>\n",
       "      <td>9.0</td>\n",
       "      <td>36.0</td>\n",
       "      <td>13.0</td>\n",
       "      <td>13.987592</td>\n",
       "      <td>AD_up</td>\n",
       "      <td>4.831838</td>\n",
       "    </tr>\n",
       "    <tr>\n",
       "      <th>rand10_1</th>\n",
       "      <td>25.040546</td>\n",
       "      <td>22.356585</td>\n",
       "      <td>250.405464</td>\n",
       "      <td>10.0</td>\n",
       "      <td>45.0</td>\n",
       "      <td>10.0</td>\n",
       "      <td>5.564566</td>\n",
       "      <td>control</td>\n",
       "      <td>4.968130</td>\n",
       "    </tr>\n",
       "    <tr>\n",
       "      <th>rand10_2</th>\n",
       "      <td>45.852660</td>\n",
       "      <td>24.000154</td>\n",
       "      <td>733.642553</td>\n",
       "      <td>10.0</td>\n",
       "      <td>45.0</td>\n",
       "      <td>16.0</td>\n",
       "      <td>16.303168</td>\n",
       "      <td>control</td>\n",
       "      <td>8.533388</td>\n",
       "    </tr>\n",
       "    <tr>\n",
       "      <th>rand10_3</th>\n",
       "      <td>29.605851</td>\n",
       "      <td>18.835619</td>\n",
       "      <td>503.299468</td>\n",
       "      <td>10.0</td>\n",
       "      <td>45.0</td>\n",
       "      <td>17.0</td>\n",
       "      <td>11.184433</td>\n",
       "      <td>control</td>\n",
       "      <td>7.115678</td>\n",
       "    </tr>\n",
       "    <tr>\n",
       "      <th>SER_top10</th>\n",
       "      <td>43.108842</td>\n",
       "      <td>22.412413</td>\n",
       "      <td>603.523788</td>\n",
       "      <td>10.0</td>\n",
       "      <td>45.0</td>\n",
       "      <td>14.0</td>\n",
       "      <td>13.411640</td>\n",
       "      <td>SER_up</td>\n",
       "      <td>6.972751</td>\n",
       "    </tr>\n",
       "  </tbody>\n",
       "</table>\n",
       "</div>"
      ],
      "text/plain": [
       "           avg_pctIdentity  std_pctIdentity  sum_pctIdentity   \n",
       "AD_top9          38.734869        13.380474       503.553301  \\\n",
       "rand10_1         25.040546        22.356585       250.405464   \n",
       "rand10_2         45.852660        24.000154       733.642553   \n",
       "rand10_3         29.605851        18.835619       503.299468   \n",
       "SER_top10        43.108842        22.412413       603.523788   \n",
       "\n",
       "           num_element_sampled  num_combination_all  num_combination_left   \n",
       "AD_top9                    9.0                 36.0                  13.0  \\\n",
       "rand10_1                  10.0                 45.0                  10.0   \n",
       "rand10_2                  10.0                 45.0                  16.0   \n",
       "rand10_3                  10.0                 45.0                  17.0   \n",
       "SER_top10                 10.0                 45.0                  14.0   \n",
       "\n",
       "           adjusted_avg_pctIdentity condition  adj_std_pctIdentity  \n",
       "AD_top9                   13.987592     AD_up             4.831838  \n",
       "rand10_1                   5.564566   control             4.968130  \n",
       "rand10_2                  16.303168   control             8.533388  \n",
       "rand10_3                  11.184433   control             7.115678  \n",
       "SER_top10                 13.411640    SER_up             6.972751  "
      ]
     },
     "execution_count": 67,
     "metadata": {},
     "output_type": "execute_result"
    }
   ],
   "source": [
    "summary_df.head()"
   ]
  },
  {
   "cell_type": "code",
   "execution_count": 68,
   "id": "5d335e2a-877d-4686-9745-8297849dc882",
   "metadata": {},
   "outputs": [],
   "source": [
    "logi = pd.read_csv(\"./OUTPUT_EXPLAIN.csv\", header = 0, index_col= 0)"
   ]
  },
  {
   "cell_type": "code",
   "execution_count": 69,
   "id": "b8b8c3c4-bb53-47bd-a182-3ffd2e4875a4",
   "metadata": {},
   "outputs": [
    {
     "data": {
      "text/plain": [
       "Index(['count_table_indiv.csv', 'count_table_subF.csv', 'mm39_rmsk_full.tsv',\n",
       "       'Deseq_indiv_locus_results.csv', 'genoLoc_Deseq_indiv_locus_result.csv',\n",
       "       'compare_dTE_overlap/', 'genoLoc_TCPS_Deseq_indiv_locus_result.csv',\n",
       "       'TCPS_all_Deseq_indiv_locus.csv', 'resampled_TCPS_all_TE_indi.csv',\n",
       "       'TCPS_seq_similarity_summary_df.csv',\n",
       "       'squire_tjp2_mut_seq_similarity_summary_df.csv',\n",
       "       'squire_tjp2_wt_seq_similarity_summary_df.csv',\n",
       "       'squire_tjp2_total_seq_similarity_summary_df.csv',\n",
       "       'mouse_human_combined_similarity_suammry_df.csv',\n",
       "       'squire_tjp2_total_seq_similarity_grouped_repClass_summary_df.csv'],\n",
       "      dtype='object')"
      ]
     },
     "execution_count": 69,
     "metadata": {},
     "output_type": "execute_result"
    }
   ],
   "source": [
    "logi.columns"
   ]
  },
  {
   "cell_type": "code",
   "execution_count": 71,
   "id": "f237919a-1016-45d5-ac84-f6bd5d6a7fcd",
   "metadata": {},
   "outputs": [],
   "source": [
    "logi['TCPS_total_seq_similarity_grouped_repClass_summary_df.csv'] = ['8c' , 'NA' , 'seq similarity score compared between only TEs within the same repClass for human TCPS data']"
   ]
  },
  {
   "cell_type": "code",
   "execution_count": 70,
   "id": "e8a20f70-5440-4be0-bac9-b4d2284a18ec",
   "metadata": {},
   "outputs": [],
   "source": [
    "summary_df.to_csv(\"./TCPS_total_seq_similarity_grouped_repClass_summary_df.csv\", header = True, index = True )"
   ]
  },
  {
   "cell_type": "code",
   "execution_count": 72,
   "id": "2dcb9fa8-1872-40bc-b416-870b2702cd50",
   "metadata": {},
   "outputs": [
    {
     "data": {
      "text/plain": [
       "Index(['count_table_indiv.csv', 'count_table_subF.csv', 'mm39_rmsk_full.tsv',\n",
       "       'Deseq_indiv_locus_results.csv', 'genoLoc_Deseq_indiv_locus_result.csv',\n",
       "       'compare_dTE_overlap/', 'genoLoc_TCPS_Deseq_indiv_locus_result.csv',\n",
       "       'TCPS_all_Deseq_indiv_locus.csv', 'resampled_TCPS_all_TE_indi.csv',\n",
       "       'TCPS_seq_similarity_summary_df.csv',\n",
       "       'squire_tjp2_mut_seq_similarity_summary_df.csv',\n",
       "       'squire_tjp2_wt_seq_similarity_summary_df.csv',\n",
       "       'squire_tjp2_total_seq_similarity_summary_df.csv',\n",
       "       'mouse_human_combined_similarity_suammry_df.csv',\n",
       "       'squire_tjp2_total_seq_similarity_grouped_repClass_summary_df.csv',\n",
       "       'TCPS_total_seq_similarity_grouped_repClass_summary_df.csv'],\n",
       "      dtype='object')"
      ]
     },
     "execution_count": 72,
     "metadata": {},
     "output_type": "execute_result"
    }
   ],
   "source": [
    "logi.columns"
   ]
  },
  {
   "cell_type": "code",
   "execution_count": 73,
   "id": "903b840d-b4ab-482b-83ae-ff4b5304a152",
   "metadata": {},
   "outputs": [],
   "source": [
    "logi.to_csv(\"OUTPUT_EXPLAIN.csv\", header = True, index = True )"
   ]
  },
  {
   "cell_type": "code",
   "execution_count": null,
   "id": "1cc6870e-791b-459e-94a8-c301a5a15a80",
   "metadata": {},
   "outputs": [],
   "source": []
  }
 ],
 "metadata": {
  "kernelspec": {
   "display_name": "qc_pipe",
   "language": "python",
   "name": "qc_pipe"
  },
  "language_info": {
   "codemirror_mode": {
    "name": "ipython",
    "version": 3
   },
   "file_extension": ".py",
   "mimetype": "text/x-python",
   "name": "python",
   "nbconvert_exporter": "python",
   "pygments_lexer": "ipython3",
   "version": "3.8.5"
  }
 },
 "nbformat": 4,
 "nbformat_minor": 5
}
