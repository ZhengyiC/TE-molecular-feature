{
 "cells": [
  {
   "cell_type": "markdown",
   "id": "0c37b63b-54f7-4b53-865a-3c2620cd3941",
   "metadata": {},
   "source": [
    "# This notebook compares if there are sequnce convergence between human and mouse up-regulated TEs \n",
    "- if ( human SER up + mouse TJP2 KO ) has higher sequence similarity than ( human AD + mouse WT)\n",
    "- use combined mouse and human TE randomly selected sequences as control"
   ]
  },
  {
   "cell_type": "code",
   "execution_count": null,
   "id": "4b4de856-add8-4463-9980-13ea3735c5b6",
   "metadata": {},
   "outputs": [],
   "source": []
  },
  {
   "cell_type": "code",
   "execution_count": 2,
   "id": "38e2c6f0-80bf-429a-90e6-1b7ba5d71eaa",
   "metadata": {},
   "outputs": [],
   "source": [
    "import pandas as pd\n",
    "import numpy as np\n",
    "import seaborn as sn\n",
    "import matplotlib.pyplot as plt\n",
    "import os"
   ]
  },
  {
   "cell_type": "code",
   "execution_count": 2,
   "id": "d57b7f99-e4e6-4f5c-a967-f1c78b42a162",
   "metadata": {},
   "outputs": [],
   "source": [
    "from matplotlib.patches import Patch"
   ]
  },
  {
   "cell_type": "code",
   "execution_count": 3,
   "id": "67749c9a-bd45-479b-9ace-df278641442f",
   "metadata": {},
   "outputs": [
    {
     "name": "stderr",
     "output_type": "stream",
     "text": [
      "/home/lucy/anaconda3/envs/qc_pipe/lib/python3.8/site-packages/Bio/pairwise2.py:278: BiopythonDeprecationWarning: Bio.pairwise2 has been deprecated, and we intend to remove it in a future release of Biopython. As an alternative, please consider using Bio.Align.PairwiseAligner as a replacement, and contact the Biopython developers if you still need the Bio.pairwise2 module.\n",
      "  warnings.warn(\n"
     ]
    }
   ],
   "source": [
    "import sequence_comparison as seqComp"
   ]
  },
  {
   "cell_type": "code",
   "execution_count": 15,
   "id": "78b2866f-7b06-4534-9c18-df20d8d8d45f",
   "metadata": {},
   "outputs": [],
   "source": [
    "import time"
   ]
  },
  {
   "cell_type": "code",
   "execution_count": null,
   "id": "543581fa-2f6b-4b99-be10-5a10caf17235",
   "metadata": {},
   "outputs": [],
   "source": []
  },
  {
   "cell_type": "markdown",
   "id": "a76eda71-83ab-4909-866e-947a5e917688",
   "metadata": {},
   "source": [
    "## calculate similarity scores for the mouse-human combined fastas"
   ]
  },
  {
   "cell_type": "code",
   "execution_count": 6,
   "id": "4f4ef154-0ae6-4323-80e3-c75c73230d4f",
   "metadata": {},
   "outputs": [],
   "source": [
    "fnames = os.listdir(\"./sequence_similarity_input/concatenated_fasta/\")\n",
    "fnames  =pd.Series( fnames)\n",
    "fnames.sort_values( inplace= True)"
   ]
  },
  {
   "cell_type": "code",
   "execution_count": 7,
   "id": "9ff5523f-baf2-425c-b5e7-dd46d1816637",
   "metadata": {
    "collapsed": true,
    "jupyter": {
     "outputs_hidden": true
    }
   },
   "outputs": [
    {
     "data": {
      "text/plain": [
       "6     mh_resampledSquire_rand10_1.fasta\n",
       "0     mh_resampledSquire_rand10_2.fasta\n",
       "10    mh_resampledSquire_rand10_3.fasta\n",
       "11    mh_resampledSquire_rand20_1.fasta\n",
       "1     mh_resampledSquire_rand20_2.fasta\n",
       "4     mh_resampledSquire_rand20_3.fasta\n",
       "9     mh_resampledSquire_rand50_1.fasta\n",
       "2     mh_resampledSquire_rand50_2.fasta\n",
       "13    mh_resampledSquire_rand50_3.fasta\n",
       "7         mh_squire_mut_last50_df.fasta\n",
       "12         mh_squire_mut_top10_df.fasta\n",
       "5          mh_squire_mut_top20_df.fasta\n",
       "3          mh_squire_mut_top50_df.fasta\n",
       "8               mh_tcps_ad_up_all.fasta\n",
       "dtype: object"
      ]
     },
     "execution_count": 7,
     "metadata": {},
     "output_type": "execute_result"
    }
   ],
   "source": [
    "fnames"
   ]
  },
  {
   "cell_type": "code",
   "execution_count": 8,
   "id": "6d4f5ec6-1902-4ada-8df3-c3fa6dc5ca27",
   "metadata": {},
   "outputs": [],
   "source": [
    "num_elements = [ 10, 10, 10, 20, 20, 20, 50, 50, 50, 50, 10, 20, 50, 19 ]\n",
    "assert( len( num_elements) == len( fnames) )"
   ]
  },
  {
   "cell_type": "code",
   "execution_count": 10,
   "id": "debc42f3-0f70-470f-a8fd-73aa66eb9fb5",
   "metadata": {},
   "outputs": [],
   "source": [
    "f_ind = [ f\"rand{n}_{r}\" for n in [10, 20, 50] for r in [1,2,3] ]"
   ]
  },
  {
   "cell_type": "code",
   "execution_count": 12,
   "id": "f0f0c72c-d48c-4b8f-8674-452bdade4452",
   "metadata": {},
   "outputs": [],
   "source": [
    "f_ind = f_ind + [ 'mut_ser_last50', 'mut_ser_top10', 'mut_ser_top20', 'mut_ser_top50' , 'wt_ad_10']"
   ]
  },
  {
   "cell_type": "code",
   "execution_count": 13,
   "id": "1257c7ef-de34-4ead-9582-841343f71520",
   "metadata": {},
   "outputs": [],
   "source": [
    "assert( len( num_elements) == len( f_ind) )"
   ]
  },
  {
   "cell_type": "code",
   "execution_count": null,
   "id": "30e84ef9-c432-4993-b594-fc1d874031ce",
   "metadata": {},
   "outputs": [],
   "source": []
  },
  {
   "cell_type": "code",
   "execution_count": 16,
   "id": "7e739821-95e7-42c2-b1cc-4ecdc8c72bde",
   "metadata": {},
   "outputs": [
    {
     "name": "stdout",
     "output_type": "stream",
     "text": [
      "Processing mh_resampledSquire_rand10_1.fasta\n",
      "Loaded 20 sequences from ./sequence_similarity_input/concatenated_fasta/mh_resampledSquire_rand10_1.fasta\n",
      "Average identity: 31.61% ± 17.94%\n",
      "Time used: 0.1 min\n",
      "Processing mh_resampledSquire_rand10_2.fasta\n",
      "Loaded 20 sequences from ./sequence_similarity_input/concatenated_fasta/mh_resampledSquire_rand10_2.fasta\n",
      "Average identity: 28.80% ± 19.58%\n",
      "Time used: 0.1 min\n",
      "Processing mh_resampledSquire_rand10_3.fasta\n",
      "Loaded 20 sequences from ./sequence_similarity_input/concatenated_fasta/mh_resampledSquire_rand10_3.fasta\n",
      "Average identity: 28.39% ± 19.09%\n",
      "Time used: 0.1 min\n",
      "Processing mh_resampledSquire_rand20_1.fasta\n",
      "Loaded 40 sequences from ./sequence_similarity_input/concatenated_fasta/mh_resampledSquire_rand20_1.fasta\n",
      "Average identity: 26.88% ± 19.44%\n",
      "Time used: 0.5 min\n",
      "Processing mh_resampledSquire_rand20_2.fasta\n",
      "Loaded 40 sequences from ./sequence_similarity_input/concatenated_fasta/mh_resampledSquire_rand20_2.fasta\n",
      "Average identity: 29.76% ± 19.36%\n",
      "Time used: 0.3 min\n",
      "Processing mh_resampledSquire_rand20_3.fasta\n",
      "Loaded 40 sequences from ./sequence_similarity_input/concatenated_fasta/mh_resampledSquire_rand20_3.fasta\n",
      "Average identity: 27.65% ± 19.24%\n",
      "Time used: 0.4 min\n",
      "Processing mh_resampledSquire_rand50_1.fasta\n",
      "Loaded 100 sequences from ./sequence_similarity_input/concatenated_fasta/mh_resampledSquire_rand50_1.fasta\n",
      "Average identity: 28.39% ± 19.12%\n",
      "Time used: 2.4 min\n",
      "Processing mh_resampledSquire_rand50_2.fasta\n",
      "Loaded 100 sequences from ./sequence_similarity_input/concatenated_fasta/mh_resampledSquire_rand50_2.fasta\n",
      "Average identity: 29.29% ± 19.36%\n",
      "Time used: 2.2 min\n",
      "Processing mh_resampledSquire_rand50_3.fasta\n",
      "Loaded 100 sequences from ./sequence_similarity_input/concatenated_fasta/mh_resampledSquire_rand50_3.fasta\n",
      "Average identity: 30.01% ± 18.52%\n",
      "Time used: 1.7 min\n",
      "Processing mh_squire_mut_last50_df.fasta\n",
      "Loaded 100 sequences from ./sequence_similarity_input/concatenated_fasta/mh_squire_mut_last50_df.fasta\n",
      "Average identity: 29.66% ± 19.16%\n",
      "Time used: 2.2 min\n",
      "Processing mh_squire_mut_top10_df.fasta\n",
      "Loaded 20 sequences from ./sequence_similarity_input/concatenated_fasta/mh_squire_mut_top10_df.fasta\n",
      "Average identity: 26.25% ± 20.55%\n",
      "Time used: 0.2 min\n",
      "Processing mh_squire_mut_top20_df.fasta\n",
      "Loaded 40 sequences from ./sequence_similarity_input/concatenated_fasta/mh_squire_mut_top20_df.fasta\n",
      "Average identity: 32.12% ± 22.07%\n",
      "Time used: 0.4 min\n",
      "Processing mh_squire_mut_top50_df.fasta\n",
      "Loaded 100 sequences from ./sequence_similarity_input/concatenated_fasta/mh_squire_mut_top50_df.fasta\n",
      "Average identity: 30.17% ± 20.89%\n",
      "Time used: 3.1 min\n",
      "Processing mh_tcps_ad_up_all.fasta\n",
      "Loaded 19 sequences from ./sequence_similarity_input/concatenated_fasta/mh_tcps_ad_up_all.fasta\n",
      "Average identity: 28.38% ± 19.10%\n",
      "Time used: 0.1 min\n"
     ]
    }
   ],
   "source": [
    "input_dir = './sequence_similarity_input/concatenated_fasta/'\n",
    "\n",
    "for f in fnames:\n",
    "    print( f'Processing {f}')\n",
    "    TIME_S = time.time()\n",
    "    seqComp.process_group(input_dir + f, out_dir=\"sequence_similarity_results\", n_jobs=4,plot_heatmap=False )\n",
    "    TIME_E = time.time()\n",
    "    TOTAL_TIME = (TIME_E - TIME_S)/60\n",
    "    print( f\"Time used: {TOTAL_TIME:.1f} min\" )"
   ]
  },
  {
   "cell_type": "code",
   "execution_count": null,
   "id": "3daae678-f881-4a73-aa38-1692ceaae7fe",
   "metadata": {},
   "outputs": [],
   "source": []
  },
  {
   "cell_type": "markdown",
   "id": "b5cd870f-3e2a-4734-9a4c-689ac8cd9812",
   "metadata": {},
   "source": [
    "## make summary df "
   ]
  },
  {
   "cell_type": "code",
   "execution_count": 17,
   "id": "027cf612-f6bc-40af-a9f2-77bdf684f24b",
   "metadata": {},
   "outputs": [],
   "source": [
    "score_files =pd.Series( os.listdir(\"./sequence_similarity_results/\") )\n",
    "score_files = score_files[score_files.str.startswith(\"mh\")  ]"
   ]
  },
  {
   "cell_type": "code",
   "execution_count": 18,
   "id": "4a0df761-5f8c-41cc-8be7-cf563a918fd2",
   "metadata": {},
   "outputs": [
    {
     "data": {
      "text/plain": [
       "9     mh_resampledSquire_rand10_1_pairwise_identity.csv\n",
       "19    mh_resampledSquire_rand10_2_pairwise_identity.csv\n",
       "29    mh_resampledSquire_rand10_3_pairwise_identity.csv\n",
       "2     mh_resampledSquire_rand20_1_pairwise_identity.csv\n",
       "18    mh_resampledSquire_rand20_2_pairwise_identity.csv\n",
       "41    mh_resampledSquire_rand20_3_pairwise_identity.csv\n",
       "7     mh_resampledSquire_rand50_1_pairwise_identity.csv\n",
       "4     mh_resampledSquire_rand50_2_pairwise_identity.csv\n",
       "12    mh_resampledSquire_rand50_3_pairwise_identity.csv\n",
       "35        mh_squire_mut_last50_df_pairwise_identity.csv\n",
       "32         mh_squire_mut_top10_df_pairwise_identity.csv\n",
       "50         mh_squire_mut_top20_df_pairwise_identity.csv\n",
       "20         mh_squire_mut_top50_df_pairwise_identity.csv\n",
       "31              mh_tcps_ad_up_all_pairwise_identity.csv\n",
       "dtype: object"
      ]
     },
     "execution_count": 18,
     "metadata": {},
     "output_type": "execute_result"
    }
   ],
   "source": [
    "score_files.sort_values( inplace = True )\n",
    "score_files"
   ]
  },
  {
   "cell_type": "code",
   "execution_count": 19,
   "id": "c1148430-59b7-46ab-81fc-9bbabbfe4440",
   "metadata": {},
   "outputs": [
    {
     "data": {
      "text/plain": [
       "[10, 10, 10, 20, 20, 20, 50, 50, 50, 50, 10, 20, 50, 19]"
      ]
     },
     "execution_count": 19,
     "metadata": {},
     "output_type": "execute_result"
    }
   ],
   "source": [
    "num_elements"
   ]
  },
  {
   "cell_type": "code",
   "execution_count": 20,
   "id": "b6032ee1-0b0a-441f-acaf-a975267581db",
   "metadata": {},
   "outputs": [
    {
     "data": {
      "text/plain": [
       "['rand10_1',\n",
       " 'rand10_2',\n",
       " 'rand10_3',\n",
       " 'rand20_1',\n",
       " 'rand20_2',\n",
       " 'rand20_3',\n",
       " 'rand50_1',\n",
       " 'rand50_2',\n",
       " 'rand50_3',\n",
       " 'mut_ser_last50',\n",
       " 'mut_ser_top10',\n",
       " 'mut_ser_top20',\n",
       " 'mut_ser_top50',\n",
       " 'wt_ad_10']"
      ]
     },
     "execution_count": 20,
     "metadata": {},
     "output_type": "execute_result"
    }
   ],
   "source": [
    "f_ind"
   ]
  },
  {
   "cell_type": "code",
   "execution_count": 21,
   "id": "f69577ba-069f-408c-99f2-be6b3c7cb56e",
   "metadata": {},
   "outputs": [],
   "source": [
    "summary_df = pd.DataFrame(index = ['avg_pctIdentity', 'std_pctIdentity', 'num_element'])\n",
    "df_ls = []\n",
    "\n",
    "for i,tf in enumerate( score_files):\n",
    "    # get data meta information\n",
    "    f_id = f_ind[i]\n",
    "    num = int( num_elements[i] )\n",
    "    \n",
    "    # load df\n",
    "    df = pd.read_csv(\"./sequence_similarity_results/\" + tf, header = 0, index_col = None )\n",
    "    \n",
    "    #get avg and std score\n",
    "    avg_score = df['PercentIdentity'].mean()\n",
    "    std_score = df['PercentIdentity'].std()\n",
    "\n",
    "    # add result to the result df\n",
    "    summary_df[ f_id ] = [ avg_score, std_score, num ]\n",
    "    df_ls.append( df )\n",
    "    \n",
    "    \n",
    "    "
   ]
  },
  {
   "cell_type": "code",
   "execution_count": 19,
   "id": "d660d775-64dd-4f56-9e6b-4dc70726c898",
   "metadata": {},
   "outputs": [],
   "source": [
    "#df_ls[0]"
   ]
  },
  {
   "cell_type": "code",
   "execution_count": 22,
   "id": "1e504aad-881c-490f-a6b1-69b40c39189c",
   "metadata": {},
   "outputs": [
    {
     "data": {
      "text/html": [
       "<div>\n",
       "<style scoped>\n",
       "    .dataframe tbody tr th:only-of-type {\n",
       "        vertical-align: middle;\n",
       "    }\n",
       "\n",
       "    .dataframe tbody tr th {\n",
       "        vertical-align: top;\n",
       "    }\n",
       "\n",
       "    .dataframe thead th {\n",
       "        text-align: right;\n",
       "    }\n",
       "</style>\n",
       "<table border=\"1\" class=\"dataframe\">\n",
       "  <thead>\n",
       "    <tr style=\"text-align: right;\">\n",
       "      <th></th>\n",
       "      <th>rand10_1</th>\n",
       "      <th>rand10_2</th>\n",
       "      <th>rand10_3</th>\n",
       "      <th>rand20_1</th>\n",
       "      <th>rand20_2</th>\n",
       "      <th>rand20_3</th>\n",
       "      <th>rand50_1</th>\n",
       "      <th>rand50_2</th>\n",
       "      <th>rand50_3</th>\n",
       "      <th>mut_ser_last50</th>\n",
       "      <th>mut_ser_top10</th>\n",
       "      <th>mut_ser_top20</th>\n",
       "      <th>mut_ser_top50</th>\n",
       "      <th>wt_ad_10</th>\n",
       "    </tr>\n",
       "  </thead>\n",
       "  <tbody>\n",
       "    <tr>\n",
       "      <th>avg_pctIdentity</th>\n",
       "      <td>31.611626</td>\n",
       "      <td>28.797935</td>\n",
       "      <td>28.386119</td>\n",
       "      <td>26.877344</td>\n",
       "      <td>29.756147</td>\n",
       "      <td>27.648782</td>\n",
       "      <td>28.393928</td>\n",
       "      <td>29.294346</td>\n",
       "      <td>30.006535</td>\n",
       "      <td>29.659948</td>\n",
       "      <td>26.246414</td>\n",
       "      <td>32.116095</td>\n",
       "      <td>30.168912</td>\n",
       "      <td>28.378882</td>\n",
       "    </tr>\n",
       "    <tr>\n",
       "      <th>std_pctIdentity</th>\n",
       "      <td>17.984393</td>\n",
       "      <td>19.631838</td>\n",
       "      <td>19.141579</td>\n",
       "      <td>19.453937</td>\n",
       "      <td>19.367504</td>\n",
       "      <td>19.250621</td>\n",
       "      <td>19.125763</td>\n",
       "      <td>19.361867</td>\n",
       "      <td>18.521960</td>\n",
       "      <td>19.157885</td>\n",
       "      <td>20.605537</td>\n",
       "      <td>22.080023</td>\n",
       "      <td>20.893336</td>\n",
       "      <td>19.152495</td>\n",
       "    </tr>\n",
       "    <tr>\n",
       "      <th>num_element</th>\n",
       "      <td>10.000000</td>\n",
       "      <td>10.000000</td>\n",
       "      <td>10.000000</td>\n",
       "      <td>20.000000</td>\n",
       "      <td>20.000000</td>\n",
       "      <td>20.000000</td>\n",
       "      <td>50.000000</td>\n",
       "      <td>50.000000</td>\n",
       "      <td>50.000000</td>\n",
       "      <td>50.000000</td>\n",
       "      <td>10.000000</td>\n",
       "      <td>20.000000</td>\n",
       "      <td>50.000000</td>\n",
       "      <td>19.000000</td>\n",
       "    </tr>\n",
       "  </tbody>\n",
       "</table>\n",
       "</div>"
      ],
      "text/plain": [
       "                  rand10_1   rand10_2   rand10_3   rand20_1   rand20_2   \n",
       "avg_pctIdentity  31.611626  28.797935  28.386119  26.877344  29.756147  \\\n",
       "std_pctIdentity  17.984393  19.631838  19.141579  19.453937  19.367504   \n",
       "num_element      10.000000  10.000000  10.000000  20.000000  20.000000   \n",
       "\n",
       "                  rand20_3   rand50_1   rand50_2   rand50_3  mut_ser_last50   \n",
       "avg_pctIdentity  27.648782  28.393928  29.294346  30.006535       29.659948  \\\n",
       "std_pctIdentity  19.250621  19.125763  19.361867  18.521960       19.157885   \n",
       "num_element      20.000000  50.000000  50.000000  50.000000       50.000000   \n",
       "\n",
       "                 mut_ser_top10  mut_ser_top20  mut_ser_top50   wt_ad_10  \n",
       "avg_pctIdentity      26.246414      32.116095      30.168912  28.378882  \n",
       "std_pctIdentity      20.605537      22.080023      20.893336  19.152495  \n",
       "num_element          10.000000      20.000000      50.000000  19.000000  "
      ]
     },
     "execution_count": 22,
     "metadata": {},
     "output_type": "execute_result"
    }
   ],
   "source": [
    "summary_df"
   ]
  },
  {
   "cell_type": "code",
   "execution_count": 27,
   "id": "ea605c7e-32f7-458b-ac2a-c0f4d858ac73",
   "metadata": {},
   "outputs": [],
   "source": [
    "conditions = []\n",
    "for c in summary_df.columns:\n",
    "    if( c.startswith( 'rand')):\n",
    "        conditions.append( 'control')\n",
    "    else:\n",
    "        cond = \"_\".join( c.split(\"_\")[0:2] )\n",
    "        conditions.append( cond) "
   ]
  },
  {
   "cell_type": "code",
   "execution_count": 28,
   "id": "d340d987-91c9-40cf-b385-c82596c8e223",
   "metadata": {},
   "outputs": [
    {
     "data": {
      "text/plain": [
       "['control',\n",
       " 'control',\n",
       " 'control',\n",
       " 'control',\n",
       " 'control',\n",
       " 'control',\n",
       " 'control',\n",
       " 'control',\n",
       " 'control',\n",
       " 'mut_ser',\n",
       " 'mut_ser',\n",
       " 'mut_ser',\n",
       " 'mut_ser',\n",
       " 'wt_ad']"
      ]
     },
     "execution_count": 28,
     "metadata": {},
     "output_type": "execute_result"
    }
   ],
   "source": [
    "conditions"
   ]
  },
  {
   "cell_type": "code",
   "execution_count": 29,
   "id": "05e38d42-e178-42d0-90de-0197799b1097",
   "metadata": {},
   "outputs": [],
   "source": [
    "summary_df.loc['condition'] = conditions"
   ]
  },
  {
   "cell_type": "code",
   "execution_count": 30,
   "id": "7c808398-987f-452a-be93-7e11517b48b9",
   "metadata": {},
   "outputs": [],
   "source": [
    "summary_df = summary_df.T"
   ]
  },
  {
   "cell_type": "code",
   "execution_count": 31,
   "id": "6e2f3504-7f48-492c-9cf9-e561f3f02adc",
   "metadata": {},
   "outputs": [
    {
     "data": {
      "text/html": [
       "<div>\n",
       "<style scoped>\n",
       "    .dataframe tbody tr th:only-of-type {\n",
       "        vertical-align: middle;\n",
       "    }\n",
       "\n",
       "    .dataframe tbody tr th {\n",
       "        vertical-align: top;\n",
       "    }\n",
       "\n",
       "    .dataframe thead th {\n",
       "        text-align: right;\n",
       "    }\n",
       "</style>\n",
       "<table border=\"1\" class=\"dataframe\">\n",
       "  <thead>\n",
       "    <tr style=\"text-align: right;\">\n",
       "      <th></th>\n",
       "      <th>avg_pctIdentity</th>\n",
       "      <th>std_pctIdentity</th>\n",
       "      <th>num_element</th>\n",
       "      <th>condition</th>\n",
       "    </tr>\n",
       "  </thead>\n",
       "  <tbody>\n",
       "    <tr>\n",
       "      <th>rand10_1</th>\n",
       "      <td>31.611626</td>\n",
       "      <td>17.984393</td>\n",
       "      <td>10.0</td>\n",
       "      <td>control</td>\n",
       "    </tr>\n",
       "    <tr>\n",
       "      <th>rand10_2</th>\n",
       "      <td>28.797935</td>\n",
       "      <td>19.631838</td>\n",
       "      <td>10.0</td>\n",
       "      <td>control</td>\n",
       "    </tr>\n",
       "    <tr>\n",
       "      <th>rand10_3</th>\n",
       "      <td>28.386119</td>\n",
       "      <td>19.141579</td>\n",
       "      <td>10.0</td>\n",
       "      <td>control</td>\n",
       "    </tr>\n",
       "    <tr>\n",
       "      <th>rand20_1</th>\n",
       "      <td>26.877344</td>\n",
       "      <td>19.453937</td>\n",
       "      <td>20.0</td>\n",
       "      <td>control</td>\n",
       "    </tr>\n",
       "    <tr>\n",
       "      <th>rand20_2</th>\n",
       "      <td>29.756147</td>\n",
       "      <td>19.367504</td>\n",
       "      <td>20.0</td>\n",
       "      <td>control</td>\n",
       "    </tr>\n",
       "  </tbody>\n",
       "</table>\n",
       "</div>"
      ],
      "text/plain": [
       "         avg_pctIdentity std_pctIdentity num_element condition\n",
       "rand10_1       31.611626       17.984393        10.0   control\n",
       "rand10_2       28.797935       19.631838        10.0   control\n",
       "rand10_3       28.386119       19.141579        10.0   control\n",
       "rand20_1       26.877344       19.453937        20.0   control\n",
       "rand20_2       29.756147       19.367504        20.0   control"
      ]
     },
     "execution_count": 31,
     "metadata": {},
     "output_type": "execute_result"
    }
   ],
   "source": [
    "summary_df.head()"
   ]
  },
  {
   "cell_type": "code",
   "execution_count": 34,
   "id": "5d84af3d-d28d-4930-9382-116fde13d7a9",
   "metadata": {},
   "outputs": [],
   "source": [
    "summary_df.sort_values( by = ['condition', 'num_element'], ascending= True , inplace= True )"
   ]
  },
  {
   "cell_type": "code",
   "execution_count": 35,
   "id": "5db48544-4dff-40cd-846f-28b1ef9d836b",
   "metadata": {},
   "outputs": [
    {
     "data": {
      "text/html": [
       "<div>\n",
       "<style scoped>\n",
       "    .dataframe tbody tr th:only-of-type {\n",
       "        vertical-align: middle;\n",
       "    }\n",
       "\n",
       "    .dataframe tbody tr th {\n",
       "        vertical-align: top;\n",
       "    }\n",
       "\n",
       "    .dataframe thead th {\n",
       "        text-align: right;\n",
       "    }\n",
       "</style>\n",
       "<table border=\"1\" class=\"dataframe\">\n",
       "  <thead>\n",
       "    <tr style=\"text-align: right;\">\n",
       "      <th></th>\n",
       "      <th>avg_pctIdentity</th>\n",
       "      <th>std_pctIdentity</th>\n",
       "      <th>num_element</th>\n",
       "      <th>condition</th>\n",
       "    </tr>\n",
       "  </thead>\n",
       "  <tbody>\n",
       "    <tr>\n",
       "      <th>rand10_1</th>\n",
       "      <td>31.611626</td>\n",
       "      <td>17.984393</td>\n",
       "      <td>10.0</td>\n",
       "      <td>control</td>\n",
       "    </tr>\n",
       "    <tr>\n",
       "      <th>rand10_2</th>\n",
       "      <td>28.797935</td>\n",
       "      <td>19.631838</td>\n",
       "      <td>10.0</td>\n",
       "      <td>control</td>\n",
       "    </tr>\n",
       "    <tr>\n",
       "      <th>rand10_3</th>\n",
       "      <td>28.386119</td>\n",
       "      <td>19.141579</td>\n",
       "      <td>10.0</td>\n",
       "      <td>control</td>\n",
       "    </tr>\n",
       "    <tr>\n",
       "      <th>rand20_1</th>\n",
       "      <td>26.877344</td>\n",
       "      <td>19.453937</td>\n",
       "      <td>20.0</td>\n",
       "      <td>control</td>\n",
       "    </tr>\n",
       "    <tr>\n",
       "      <th>rand20_2</th>\n",
       "      <td>29.756147</td>\n",
       "      <td>19.367504</td>\n",
       "      <td>20.0</td>\n",
       "      <td>control</td>\n",
       "    </tr>\n",
       "  </tbody>\n",
       "</table>\n",
       "</div>"
      ],
      "text/plain": [
       "         avg_pctIdentity std_pctIdentity num_element condition\n",
       "rand10_1       31.611626       17.984393        10.0   control\n",
       "rand10_2       28.797935       19.631838        10.0   control\n",
       "rand10_3       28.386119       19.141579        10.0   control\n",
       "rand20_1       26.877344       19.453937        20.0   control\n",
       "rand20_2       29.756147       19.367504        20.0   control"
      ]
     },
     "execution_count": 35,
     "metadata": {},
     "output_type": "execute_result"
    }
   ],
   "source": [
    "summary_df.head()"
   ]
  },
  {
   "cell_type": "code",
   "execution_count": null,
   "id": "ca390585-0995-454b-8656-d7d79852a269",
   "metadata": {},
   "outputs": [],
   "source": []
  },
  {
   "cell_type": "markdown",
   "id": "c9b888b2-047f-42ad-b747-7577febf0100",
   "metadata": {},
   "source": [
    "## plot summary df"
   ]
  },
  {
   "cell_type": "code",
   "execution_count": null,
   "id": "3763cf47-0b84-4cac-8818-0b8fb9afdc17",
   "metadata": {},
   "outputs": [],
   "source": []
  },
  {
   "cell_type": "code",
   "execution_count": 36,
   "id": "4f36d9f8-8ff1-4ba8-baa1-5dc1d7e59710",
   "metadata": {},
   "outputs": [],
   "source": [
    "condition_colors = {\n",
    "    'control': 'gray',\n",
    "    'mut_ser': 'salmon',\n",
    "    'wt_ad':'cornflowerblue'\n",
    "}"
   ]
  },
  {
   "cell_type": "code",
   "execution_count": 45,
   "id": "7911919a-6d15-433e-9e4d-e5bc6ba7f332",
   "metadata": {},
   "outputs": [
    {
     "name": "stderr",
     "output_type": "stream",
     "text": [
      "No artists with labels found to put in legend.  Note that artists whose label start with an underscore are ignored when legend() is called with no argument.\n"
     ]
    },
    {
     "data": {
      "image/png": "[encoded data removed]",
      "text/plain": [
       "<Figure size 800x600 with 1 Axes>"
      ]
     },
     "metadata": {},
     "output_type": "display_data"
    }
   ],
   "source": [
    "bar_colors = [condition_colors[cond] for cond in summary_df['condition'] ]\n",
    "\n",
    "plt.figure(figsize=(8, 6))\n",
    "\n",
    "\n",
    "plt.bar(summary_df.index, summary_df['avg_pctIdentity'] , yerr=summary_df['std_pctIdentity'], capsize=5, color=bar_colors, edgecolor='black')\n",
    "\n",
    "plt.xticks(rotation=45, ha='right') \n",
    "\n",
    "legend_elements = [Patch(facecolor=color, label=cond) for cond, color in condition_colors.items()]\n",
    "plt.legend(handles=legend_elements, title='dTE Groups ')\n",
    "\n",
    "plt.ylabel('Average Similarity Score')\n",
    "plt.title('Sequence Similarity across differential TE groups')\n",
    "plt.grid(axis='y', linestyle='--', alpha=0.7)\n",
    "plt.legend( loc = [0.9,0.5])\n",
    "\n",
    "# Show plot\n",
    "plt.tight_layout()\n",
    "plt.show()\n"
   ]
  },
  {
   "cell_type": "code",
   "execution_count": null,
   "id": "1970b768-b59e-4985-b824-85ae2c20bd43",
   "metadata": {},
   "outputs": [],
   "source": []
  },
  {
   "cell_type": "code",
   "execution_count": 46,
   "id": "023f4d62-3cb9-45a1-ba38-cfa463c38900",
   "metadata": {},
   "outputs": [
    {
     "data": {
      "image/png": "[encoded data removed]",
      "text/plain": [
       "<Figure size 640x480 with 1 Axes>"
      ]
     },
     "metadata": {},
     "output_type": "display_data"
    }
   ],
   "source": [
    "sn.barplot( summary_df, y ='avg_pctIdentity' , x = 'condition' , hue= 'condition', palette= condition_colors, edgecolor = 'black', capsize = 0.05 )\n",
    "plt.title( 'Avg. Pct Sequence Identity across Conditions')\n",
    "plt.show()"
   ]
  },
  {
   "cell_type": "code",
   "execution_count": null,
   "id": "24f88cf1-147c-4226-ab77-47163f3692c8",
   "metadata": {},
   "outputs": [],
   "source": []
  },
  {
   "cell_type": "code",
   "execution_count": null,
   "id": "776be56a-b1de-4e07-82a6-2929b40caec4",
   "metadata": {},
   "outputs": [],
   "source": []
  },
  {
   "cell_type": "code",
   "execution_count": null,
   "id": "3bd0c53b-02da-4b13-bf98-478759776387",
   "metadata": {},
   "outputs": [],
   "source": []
  },
  {
   "cell_type": "code",
   "execution_count": null,
   "id": "47f87a74-a273-4633-9013-db4d32f0fced",
   "metadata": {},
   "outputs": [],
   "source": []
  },
  {
   "cell_type": "code",
   "execution_count": 47,
   "id": "956035b6-a976-41fc-bd3b-fdd426bd49c0",
   "metadata": {},
   "outputs": [
    {
     "data": {
      "text/plain": [
       "<Axes: xlabel='condition', ylabel='avg_pctIdentity'>"
      ]
     },
     "execution_count": 47,
     "metadata": {},
     "output_type": "execute_result"
    },
    {
     "data": {
      "image/png": "[encoded data removed]",
      "text/plain": [
       "<Figure size 640x480 with 1 Axes>"
      ]
     },
     "metadata": {},
     "output_type": "display_data"
    }
   ],
   "source": [
    "sn.boxplot( summary_df, y ='avg_pctIdentity' , x = 'condition' , hue= 'condition', palette= condition_colors )"
   ]
  },
  {
   "cell_type": "code",
   "execution_count": null,
   "id": "4fdc99a8-5cd6-419c-86be-6c0e979e0d42",
   "metadata": {},
   "outputs": [],
   "source": []
  },
  {
   "cell_type": "code",
   "execution_count": null,
   "id": "6f2344e7-93cd-4984-9cc3-9e43da4dbea6",
   "metadata": {},
   "outputs": [],
   "source": []
  },
  {
   "cell_type": "markdown",
   "id": "0d988abe-b2d7-4586-845e-2cc72b8a0b40",
   "metadata": {},
   "source": [
    "## calculate p-values"
   ]
  },
  {
   "cell_type": "code",
   "execution_count": 51,
   "id": "e7daa508-b563-41c8-8d57-62fb8ecd3631",
   "metadata": {},
   "outputs": [],
   "source": [
    "from scipy import stats\n",
    "\n",
    "ctrl = summary_df['avg_pctIdentity'][summary_df['condition'] == 'control']\n",
    "mut = summary_df['avg_pctIdentity'][summary_df['condition'] == 'mut_ser']\n",
    "# Assuming equal variances (default)\n",
    "t_statistic, p_value = stats.ttest_ind(list(mut), list( ctrl) )"
   ]
  },
  {
   "cell_type": "code",
   "execution_count": 52,
   "id": "84c35318-0d33-4c6a-96df-fef22290b30a",
   "metadata": {},
   "outputs": [
    {
     "data": {
      "text/plain": [
       "[0.5465122768196964, 0.5956252240411097]"
      ]
     },
     "execution_count": 52,
     "metadata": {},
     "output_type": "execute_result"
    }
   ],
   "source": [
    "[t_statistic, p_value]"
   ]
  },
  {
   "cell_type": "code",
   "execution_count": null,
   "id": "075aab3c-aef7-4b22-92b8-0a67fa986f1a",
   "metadata": {},
   "outputs": [],
   "source": []
  },
  {
   "cell_type": "markdown",
   "id": "cdb3ba94-1c21-459b-aeb5-55159de31d08",
   "metadata": {},
   "source": [
    "## save data"
   ]
  },
  {
   "cell_type": "code",
   "execution_count": 3,
   "id": "760fb89e-fb42-4585-abbc-b69e5f8eedd6",
   "metadata": {},
   "outputs": [
    {
     "data": {
      "text/plain": [
       "Index(['count_table_indiv.csv', 'count_table_subF.csv', 'mm39_rmsk_full.tsv',\n",
       "       'Deseq_indiv_locus_results.csv', 'genoLoc_Deseq_indiv_locus_result.csv',\n",
       "       'compare_dTE_overlap/', 'genoLoc_TCPS_Deseq_indiv_locus_result.csv',\n",
       "       'TCPS_all_Deseq_indiv_locus.csv', 'resampled_TCPS_all_TE_indi.csv',\n",
       "       'TCPS_seq_similarity_summary_df.csv',\n",
       "       'squire_tjp2_mut_seq_similarity_summary_df.csv',\n",
       "       'squire_tjp2_wt_seq_similarity_summary_df.csv',\n",
       "       'squire_tjp2_total_seq_similarity_summary_df.csv'],\n",
       "      dtype='object')"
      ]
     },
     "execution_count": 3,
     "metadata": {},
     "output_type": "execute_result"
    }
   ],
   "source": [
    "logi = pd.read_csv(\"./OUTPUT_EXPLAIN.csv\", header = 0, index_col= 0 )\n",
    "logi.columns"
   ]
  },
  {
   "cell_type": "code",
   "execution_count": 5,
   "id": "26cc75c4-5769-4ba9-a1aa-2bd57ad24244",
   "metadata": {},
   "outputs": [],
   "source": [
    "summary_df.to_csv(\"./mouse_human_combined_similarity_suammry_df.csv\", header= True, index = True )"
   ]
  },
  {
   "cell_type": "code",
   "execution_count": null,
   "id": "bbdf36e5-8db7-4c91-8e2f-2e0855c5f400",
   "metadata": {},
   "outputs": [],
   "source": []
  },
  {
   "cell_type": "code",
   "execution_count": 6,
   "id": "561ddbc2-6aee-415c-af32-c7f36effe51b",
   "metadata": {},
   "outputs": [],
   "source": [
    "logi['mouse_human_combined_similarity_suammry_df.csv'] = ['7' , 'NA', 'sequence similarity summary df when combining (mouse TJP2 KO + human SER) vs ( mouse WT and human AD) vs control ( randomly selected TEs from combined TE list) ']"
   ]
  },
  {
   "cell_type": "code",
   "execution_count": 7,
   "id": "46b0e67f-98ee-48ce-a759-c60e83906eb0",
   "metadata": {},
   "outputs": [],
   "source": [
    "logi.to_csv(\"./OUTPUT_EXPLAIN.csv\", header = True, index = True )"
   ]
  },
  {
   "cell_type": "code",
   "execution_count": null,
   "id": "e2bc4f01-82aa-4a61-ad73-34b1bd96587b",
   "metadata": {},
   "outputs": [],
   "source": []
  }
 ],
 "metadata": {
  "kernelspec": {
   "display_name": "qc_pipe",
   "language": "python",
   "name": "qc_pipe"
  },
  "language_info": {
   "codemirror_mode": {
    "name": "ipython",
    "version": 3
   },
   "file_extension": ".py",
   "mimetype": "text/x-python",
   "name": "python",
   "nbconvert_exporter": "python",
   "pygments_lexer": "ipython3",
   "version": "3.8.5"
  }
 },
 "nbformat": 4,
 "nbformat_minor": 5
}
