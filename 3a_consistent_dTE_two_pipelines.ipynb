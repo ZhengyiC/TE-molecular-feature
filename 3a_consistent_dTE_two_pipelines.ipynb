{
 "cells": [
  {
   "cell_type": "markdown",
   "id": "22483256-747a-4f04-9450-5b70cafe6b4c",
   "metadata": {},
   "source": [
    "# This notebook check how much consistency can we see between squire and telescope results\n",
    "- top dTEs shows good overlap at subFam level"
   ]
  },
  {
   "cell_type": "code",
   "execution_count": null,
   "id": "8ca8bedc-6f4c-41d2-946a-da2f11729cb5",
   "metadata": {},
   "outputs": [],
   "source": []
  },
  {
   "cell_type": "code",
   "execution_count": 1,
   "id": "3a4843cd-05cd-4d07-ac96-0f067a510927",
   "metadata": {},
   "outputs": [],
   "source": [
    "# import packages\n",
    "import pandas as pd\n",
    "import numpy as np\n",
    "import scanpy as sc\n",
    "import sys\n",
    "import os\n",
    "import seaborn as sn\n",
    "\n",
    "from matplotlib import pyplot as plt\n",
    "from matplotlib_venn import venn2"
   ]
  },
  {
   "cell_type": "code",
   "execution_count": 2,
   "id": "068a9f38-0561-4a9b-af26-9f9363fb4b3f",
   "metadata": {},
   "outputs": [],
   "source": [
    "sys.path.append(\"/home/lucy/Dropbox/turner_organoid_bulk_RNA_local/\")\n",
    "import zc_volcano"
   ]
  },
  {
   "cell_type": "code",
   "execution_count": 3,
   "id": "c222a9f5-ef94-4b62-85b3-ca976e642f62",
   "metadata": {},
   "outputs": [],
   "source": [
    "import warnings\n",
    "warnings.filterwarnings( 'ignore' )"
   ]
  },
  {
   "cell_type": "code",
   "execution_count": 4,
   "id": "0e8882f3-6b77-47aa-9b24-e37b73e30184",
   "metadata": {},
   "outputs": [],
   "source": [
    "from tqdm import tqdm_notebook as tqnb\n",
    "from tqdm import tqdm"
   ]
  },
  {
   "cell_type": "markdown",
   "id": "86f25e89-db7e-41a9-901c-2015cad683b3",
   "metadata": {},
   "source": [
    "## functions"
   ]
  },
  {
   "cell_type": "code",
   "execution_count": 25,
   "id": "d0b36c06-9ce3-4057-9f2b-6e257472a042",
   "metadata": {},
   "outputs": [],
   "source": [
    "#getting venn diagram\n",
    "def zc_venn_diagram( list1, list2, name1, name2, \n",
    "                    title = None, ax = None,\n",
    "                    print_elements = False, \n",
    "                    show_fig = True, save_fig = False, save_file_name = 'curr_venn.png'):\n",
    "    \"\"\"This function makes a venn diagram with some basic customized properties\n",
    "    @param list1, list2: the two lists of elements to make venn diagram from. Can be in python list, or pd.Series or np array etc list-like objects\n",
    "    @param name1, name2: the names for each list of elements that will be plotted on the diagram circle\n",
    "    @param title: title of the plot\n",
    "    @param ax: can pass-in an matplotlib Axes object, if not, will create one here\n",
    "    @param show_fig, save_fig: boolean flags to set\n",
    "    @param save_file_name: if save_fig is set True, need to pass-in a FULL file name to save (eg. venn1.png). If not, will use the defaul curr_venn.png in the current dir\n",
    "    @return the ax for this plot\"\"\"\n",
    "\n",
    "    # create ax \n",
    "    if( not ax):\n",
    "        f, a = plt.subplots()\n",
    "    else:\n",
    "        a = ax\n",
    "\n",
    "    # plot the venn diagram\n",
    "    s1 = set(list1)\n",
    "    s2 = set( list2)\n",
    "    venn2( [ s1, s2 ], (name1, name2), ax= a)\n",
    "\n",
    "    if( print_elements):\n",
    "        intersection_ls = s1.intersection( s2)\n",
    "        \n",
    "        s1_only = s1- intersection_ls\n",
    "        s2_only = s2 - intersection_ls\n",
    "\n",
    "        print( f\"intersection: {intersection_ls}\")\n",
    "        \n",
    "        print( f\"{name1} has: \")\n",
    "        print( f\"{s1_only }\" )\n",
    "        \n",
    "        print( f\"{name2} has: \")\n",
    "        print( f\"{s2_only}\" )        \n",
    "        \n",
    "\n",
    "    # customize plotting \n",
    "    if( title ):\n",
    "        t = a.set_title(title )\n",
    "\n",
    "    if( save_fig):\n",
    "        plt.savefig( save_file_name, bbox_inches='tight' )\n",
    "        \n",
    "    if( show_fig):\n",
    "        plt.show()\n",
    "\n",
    "    return a"
   ]
  },
  {
   "cell_type": "code",
   "execution_count": null,
   "id": "4112e4c9-9b53-4506-b92c-225d145e05e7",
   "metadata": {},
   "outputs": [],
   "source": []
  },
  {
   "cell_type": "code",
   "execution_count": 27,
   "id": "1a1ee6f9-d760-435b-85d9-0aab07b235cb",
   "metadata": {},
   "outputs": [],
   "source": [
    "def get_overlap( pd_col1 , pd_col2, col1_name = 'list 1', col2_name = 'list 2',  verbo = True ):\n",
    "    s1 = set( pd_col1)\n",
    "    s2 = set( pd_col2 )\n",
    "    intersection_ls = s1.intersection( s2)\n",
    "\n",
    "    if( verbo):\n",
    "        print( f'{col1_name} has {len(s1)} unique elements')\n",
    "        print( f'{col2_name} has {len(s2)} unique elements')\n",
    "        print( f'Intersection has {len( intersection_ls)} elements')\n",
    "\n",
    "    return intersection_ls\n",
    "    "
   ]
  },
  {
   "cell_type": "code",
   "execution_count": null,
   "id": "53f0d362-5762-48ec-8eae-9a5bace13144",
   "metadata": {},
   "outputs": [],
   "source": []
  },
  {
   "cell_type": "code",
   "execution_count": null,
   "id": "f2d1d434-e4cb-4f57-b414-136da11ac3d4",
   "metadata": {},
   "outputs": [],
   "source": []
  },
  {
   "cell_type": "markdown",
   "id": "ecdb859e-b8cd-406d-9fd2-e88f08520ddc",
   "metadata": {},
   "source": [
    "## load data"
   ]
  },
  {
   "cell_type": "code",
   "execution_count": 34,
   "id": "15445c78-a69a-4d97-b110-7823228987bf",
   "metadata": {
    "collapsed": true,
    "jupyter": {
     "outputs_hidden": true
    }
   },
   "outputs": [
    {
     "data": {
      "text/html": [
       "<div>\n",
       "<style scoped>\n",
       "    .dataframe tbody tr th:only-of-type {\n",
       "        vertical-align: middle;\n",
       "    }\n",
       "\n",
       "    .dataframe tbody tr th {\n",
       "        vertical-align: top;\n",
       "    }\n",
       "\n",
       "    .dataframe thead th {\n",
       "        text-align: right;\n",
       "    }\n",
       "</style>\n",
       "<table border=\"1\" class=\"dataframe\">\n",
       "  <thead>\n",
       "    <tr style=\"text-align: right;\">\n",
       "      <th></th>\n",
       "      <th>transcript_id</th>\n",
       "      <th>baseMean</th>\n",
       "      <th>log2FoldChange</th>\n",
       "      <th>lfcSE</th>\n",
       "      <th>stat</th>\n",
       "      <th>pvalue</th>\n",
       "      <th>padj</th>\n",
       "      <th>repClass</th>\n",
       "      <th>repFamily</th>\n",
       "      <th>repName</th>\n",
       "      <th>name_fam</th>\n",
       "      <th>name_fam_class</th>\n",
       "    </tr>\n",
       "  </thead>\n",
       "  <tbody>\n",
       "    <tr>\n",
       "      <th>0</th>\n",
       "      <td>(A)n_15</td>\n",
       "      <td>24.106309</td>\n",
       "      <td>-0.599525</td>\n",
       "      <td>0.288728</td>\n",
       "      <td>-2.076435</td>\n",
       "      <td>0.037854</td>\n",
       "      <td>0.279189</td>\n",
       "      <td>Simple_repeat</td>\n",
       "      <td>Simple_repeat</td>\n",
       "      <td>(A)n</td>\n",
       "      <td>(A)n|Simple_repeat</td>\n",
       "      <td>(A)n|Simple_repeat|Simple_repeat</td>\n",
       "    </tr>\n",
       "    <tr>\n",
       "      <th>1</th>\n",
       "      <td>(A)n_16</td>\n",
       "      <td>51.369320</td>\n",
       "      <td>-0.115342</td>\n",
       "      <td>0.200885</td>\n",
       "      <td>-0.574169</td>\n",
       "      <td>0.565853</td>\n",
       "      <td>0.863508</td>\n",
       "      <td>Simple_repeat</td>\n",
       "      <td>Simple_repeat</td>\n",
       "      <td>(A)n</td>\n",
       "      <td>(A)n|Simple_repeat</td>\n",
       "      <td>(A)n|Simple_repeat|Simple_repeat</td>\n",
       "    </tr>\n",
       "    <tr>\n",
       "      <th>2</th>\n",
       "      <td>(A)n_17</td>\n",
       "      <td>72.183100</td>\n",
       "      <td>-0.273901</td>\n",
       "      <td>0.190399</td>\n",
       "      <td>-1.438564</td>\n",
       "      <td>0.150274</td>\n",
       "      <td>0.540315</td>\n",
       "      <td>Simple_repeat</td>\n",
       "      <td>Simple_repeat</td>\n",
       "      <td>(A)n</td>\n",
       "      <td>(A)n|Simple_repeat</td>\n",
       "      <td>(A)n|Simple_repeat|Simple_repeat</td>\n",
       "    </tr>\n",
       "    <tr>\n",
       "      <th>3</th>\n",
       "      <td>(A)n_18</td>\n",
       "      <td>113.898323</td>\n",
       "      <td>-0.033522</td>\n",
       "      <td>0.146842</td>\n",
       "      <td>-0.228286</td>\n",
       "      <td>0.819424</td>\n",
       "      <td>0.954895</td>\n",
       "      <td>Simple_repeat</td>\n",
       "      <td>Simple_repeat</td>\n",
       "      <td>(A)n</td>\n",
       "      <td>(A)n|Simple_repeat</td>\n",
       "      <td>(A)n|Simple_repeat|Simple_repeat</td>\n",
       "    </tr>\n",
       "    <tr>\n",
       "      <th>4</th>\n",
       "      <td>(A)n_19</td>\n",
       "      <td>184.535379</td>\n",
       "      <td>0.079692</td>\n",
       "      <td>0.117803</td>\n",
       "      <td>0.676481</td>\n",
       "      <td>0.498735</td>\n",
       "      <td>0.831150</td>\n",
       "      <td>Simple_repeat</td>\n",
       "      <td>Simple_repeat</td>\n",
       "      <td>(A)n</td>\n",
       "      <td>(A)n|Simple_repeat</td>\n",
       "      <td>(A)n|Simple_repeat|Simple_repeat</td>\n",
       "    </tr>\n",
       "  </tbody>\n",
       "</table>\n",
       "</div>"
      ],
      "text/plain": [
       "  transcript_id    baseMean  log2FoldChange     lfcSE      stat    pvalue   \n",
       "0       (A)n_15   24.106309       -0.599525  0.288728 -2.076435  0.037854  \\\n",
       "1       (A)n_16   51.369320       -0.115342  0.200885 -0.574169  0.565853   \n",
       "2       (A)n_17   72.183100       -0.273901  0.190399 -1.438564  0.150274   \n",
       "3       (A)n_18  113.898323       -0.033522  0.146842 -0.228286  0.819424   \n",
       "4       (A)n_19  184.535379        0.079692  0.117803  0.676481  0.498735   \n",
       "\n",
       "       padj       repClass      repFamily repName            name_fam   \n",
       "0  0.279189  Simple_repeat  Simple_repeat    (A)n  (A)n|Simple_repeat  \\\n",
       "1  0.863508  Simple_repeat  Simple_repeat    (A)n  (A)n|Simple_repeat   \n",
       "2  0.540315  Simple_repeat  Simple_repeat    (A)n  (A)n|Simple_repeat   \n",
       "3  0.954895  Simple_repeat  Simple_repeat    (A)n  (A)n|Simple_repeat   \n",
       "4  0.831150  Simple_repeat  Simple_repeat    (A)n  (A)n|Simple_repeat   \n",
       "\n",
       "                     name_fam_class  \n",
       "0  (A)n|Simple_repeat|Simple_repeat  \n",
       "1  (A)n|Simple_repeat|Simple_repeat  \n",
       "2  (A)n|Simple_repeat|Simple_repeat  \n",
       "3  (A)n|Simple_repeat|Simple_repeat  \n",
       "4  (A)n|Simple_repeat|Simple_repeat  "
      ]
     },
     "execution_count": 34,
     "metadata": {},
     "output_type": "execute_result"
    }
   ],
   "source": [
    "tele_indiv = pd.read_csv(\"./Deseq_indiv_locus_results.csv\", header = 0 , index_col = None)\n",
    "tele_indiv.head()"
   ]
  },
  {
   "cell_type": "code",
   "execution_count": 35,
   "id": "59228237-3e73-49cf-b22d-aa5a77526b91",
   "metadata": {
    "scrolled": true
   },
   "outputs": [
    {
     "data": {
      "text/html": [
       "<div>\n",
       "<style scoped>\n",
       "    .dataframe tbody tr th:only-of-type {\n",
       "        vertical-align: middle;\n",
       "    }\n",
       "\n",
       "    .dataframe tbody tr th {\n",
       "        vertical-align: top;\n",
       "    }\n",
       "\n",
       "    .dataframe thead th {\n",
       "        text-align: right;\n",
       "    }\n",
       "</style>\n",
       "<table border=\"1\" class=\"dataframe\">\n",
       "  <thead>\n",
       "    <tr style=\"text-align: right;\">\n",
       "      <th></th>\n",
       "      <th>repName</th>\n",
       "      <th>baseMean</th>\n",
       "      <th>log2FoldChange</th>\n",
       "      <th>lfcSE</th>\n",
       "      <th>stat</th>\n",
       "      <th>pvalue</th>\n",
       "      <th>padj</th>\n",
       "      <th>repClass</th>\n",
       "      <th>repFamily</th>\n",
       "      <th>name_class</th>\n",
       "    </tr>\n",
       "  </thead>\n",
       "  <tbody>\n",
       "    <tr>\n",
       "      <th>0</th>\n",
       "      <td>(A)n</td>\n",
       "      <td>4362.645444</td>\n",
       "      <td>0.030317</td>\n",
       "      <td>0.036694</td>\n",
       "      <td>0.826220</td>\n",
       "      <td>0.408680</td>\n",
       "      <td>0.701451</td>\n",
       "      <td>Simple_repeat</td>\n",
       "      <td>Simple_repeat</td>\n",
       "      <td>(A)n|Simple_repeat</td>\n",
       "    </tr>\n",
       "    <tr>\n",
       "      <th>1</th>\n",
       "      <td>(AAAAAAC)n</td>\n",
       "      <td>9.968577</td>\n",
       "      <td>-0.454688</td>\n",
       "      <td>0.514517</td>\n",
       "      <td>-0.883718</td>\n",
       "      <td>0.376848</td>\n",
       "      <td>0.681218</td>\n",
       "      <td>Simple_repeat</td>\n",
       "      <td>Simple_repeat</td>\n",
       "      <td>(AAAAAAC)n|Simple_repeat</td>\n",
       "    </tr>\n",
       "    <tr>\n",
       "      <th>2</th>\n",
       "      <td>(AAAAAAG)n</td>\n",
       "      <td>4.921180</td>\n",
       "      <td>0.401779</td>\n",
       "      <td>0.727247</td>\n",
       "      <td>0.552465</td>\n",
       "      <td>0.580630</td>\n",
       "      <td>NaN</td>\n",
       "      <td>Simple_repeat</td>\n",
       "      <td>Simple_repeat</td>\n",
       "      <td>(AAAAAAG)n|Simple_repeat</td>\n",
       "    </tr>\n",
       "    <tr>\n",
       "      <th>3</th>\n",
       "      <td>(AAAAAC)n</td>\n",
       "      <td>181.129230</td>\n",
       "      <td>-0.116781</td>\n",
       "      <td>0.124346</td>\n",
       "      <td>-0.939161</td>\n",
       "      <td>0.347648</td>\n",
       "      <td>0.656107</td>\n",
       "      <td>Simple_repeat</td>\n",
       "      <td>Simple_repeat</td>\n",
       "      <td>(AAAAAC)n|Simple_repeat</td>\n",
       "    </tr>\n",
       "    <tr>\n",
       "      <th>4</th>\n",
       "      <td>(AAAAACA)n</td>\n",
       "      <td>0.469283</td>\n",
       "      <td>-1.177608</td>\n",
       "      <td>2.426971</td>\n",
       "      <td>-0.485217</td>\n",
       "      <td>0.627522</td>\n",
       "      <td>NaN</td>\n",
       "      <td>Simple_repeat</td>\n",
       "      <td>Simple_repeat</td>\n",
       "      <td>(AAAAACA)n|Simple_repeat</td>\n",
       "    </tr>\n",
       "  </tbody>\n",
       "</table>\n",
       "</div>"
      ],
      "text/plain": [
       "      repName     baseMean  log2FoldChange     lfcSE      stat    pvalue   \n",
       "0        (A)n  4362.645444        0.030317  0.036694  0.826220  0.408680  \\\n",
       "1  (AAAAAAC)n     9.968577       -0.454688  0.514517 -0.883718  0.376848   \n",
       "2  (AAAAAAG)n     4.921180        0.401779  0.727247  0.552465  0.580630   \n",
       "3   (AAAAAC)n   181.129230       -0.116781  0.124346 -0.939161  0.347648   \n",
       "4  (AAAAACA)n     0.469283       -1.177608  2.426971 -0.485217  0.627522   \n",
       "\n",
       "       padj       repClass      repFamily                name_class  \n",
       "0  0.701451  Simple_repeat  Simple_repeat        (A)n|Simple_repeat  \n",
       "1  0.681218  Simple_repeat  Simple_repeat  (AAAAAAC)n|Simple_repeat  \n",
       "2       NaN  Simple_repeat  Simple_repeat  (AAAAAAG)n|Simple_repeat  \n",
       "3  0.656107  Simple_repeat  Simple_repeat   (AAAAAC)n|Simple_repeat  \n",
       "4       NaN  Simple_repeat  Simple_repeat  (AAAAACA)n|Simple_repeat  "
      ]
     },
     "execution_count": 35,
     "metadata": {},
     "output_type": "execute_result"
    }
   ],
   "source": [
    "tele_subf = pd.read_csv(\"./Deseq_subF_results.csv\", header = 0, index_col = None)\n",
    "tele_subf.head()"
   ]
  },
  {
   "cell_type": "code",
   "execution_count": 36,
   "id": "979db573-67bc-4823-aa46-dbd3e7a4dd4e",
   "metadata": {},
   "outputs": [
    {
     "data": {
      "text/html": [
       "<div>\n",
       "<style scoped>\n",
       "    .dataframe tbody tr th:only-of-type {\n",
       "        vertical-align: middle;\n",
       "    }\n",
       "\n",
       "    .dataframe tbody tr th {\n",
       "        vertical-align: top;\n",
       "    }\n",
       "\n",
       "    .dataframe thead th {\n",
       "        text-align: right;\n",
       "    }\n",
       "</style>\n",
       "<table border=\"1\" class=\"dataframe\">\n",
       "  <thead>\n",
       "    <tr style=\"text-align: right;\">\n",
       "      <th></th>\n",
       "      <th>TE_ID</th>\n",
       "      <th>baseMean</th>\n",
       "      <th>log2FoldChange</th>\n",
       "      <th>lfcSE</th>\n",
       "      <th>stat</th>\n",
       "      <th>pvalue</th>\n",
       "      <th>padj</th>\n",
       "      <th>element_type</th>\n",
       "      <th>TE_name</th>\n",
       "      <th>TE_index</th>\n",
       "    </tr>\n",
       "  </thead>\n",
       "  <tbody>\n",
       "    <tr>\n",
       "      <th>0</th>\n",
       "      <td>chr13|73480020|73480091|PB1D9:Alu:SINE|268|-,.</td>\n",
       "      <td>9.000885</td>\n",
       "      <td>-0.489762</td>\n",
       "      <td>0.629289</td>\n",
       "      <td>-0.778278</td>\n",
       "      <td>0.800222</td>\n",
       "      <td>1.0</td>\n",
       "      <td>TE</td>\n",
       "      <td>PB1D9:Alu:SINE</td>\n",
       "      <td>PB1D9:Alu:SINE_268</td>\n",
       "    </tr>\n",
       "    <tr>\n",
       "      <th>1</th>\n",
       "      <td>chr5|117467874|117468005|RSINE1:B4:SINE|183|-,.</td>\n",
       "      <td>0.730917</td>\n",
       "      <td>-2.916743</td>\n",
       "      <td>3.081604</td>\n",
       "      <td>-0.946502</td>\n",
       "      <td>0.368835</td>\n",
       "      <td>1.0</td>\n",
       "      <td>TE</td>\n",
       "      <td>RSINE1:B4:SINE</td>\n",
       "      <td>RSINE1:B4:SINE_183</td>\n",
       "    </tr>\n",
       "    <tr>\n",
       "      <th>2</th>\n",
       "      <td>chr3|96619212|96619284|ID4:ID:SINE|194|+,.</td>\n",
       "      <td>5.772588</td>\n",
       "      <td>0.121464</td>\n",
       "      <td>0.852163</td>\n",
       "      <td>0.142536</td>\n",
       "      <td>0.942801</td>\n",
       "      <td>1.0</td>\n",
       "      <td>TE</td>\n",
       "      <td>ID4:ID:SINE</td>\n",
       "      <td>ID4:ID:SINE_194</td>\n",
       "    </tr>\n",
       "    <tr>\n",
       "      <th>3</th>\n",
       "      <td>chr15|93388865|93388965|PB1:Alu:SINE|227|-,.</td>\n",
       "      <td>32.028966</td>\n",
       "      <td>-0.216654</td>\n",
       "      <td>0.390147</td>\n",
       "      <td>-0.555314</td>\n",
       "      <td>0.978578</td>\n",
       "      <td>1.0</td>\n",
       "      <td>TE</td>\n",
       "      <td>PB1:Alu:SINE</td>\n",
       "      <td>PB1:Alu:SINE_227</td>\n",
       "    </tr>\n",
       "    <tr>\n",
       "      <th>4</th>\n",
       "      <td>chr11|94175967|94176153|B2_Mm2:B2:SINE|98|-,.</td>\n",
       "      <td>7.127690</td>\n",
       "      <td>0.305487</td>\n",
       "      <td>0.591882</td>\n",
       "      <td>0.516129</td>\n",
       "      <td>0.893386</td>\n",
       "      <td>1.0</td>\n",
       "      <td>TE</td>\n",
       "      <td>B2_Mm2:B2:SINE</td>\n",
       "      <td>B2_Mm2:B2:SINE_98</td>\n",
       "    </tr>\n",
       "  </tbody>\n",
       "</table>\n",
       "</div>"
      ],
      "text/plain": [
       "                                             TE_ID   baseMean  log2FoldChange   \n",
       "0   chr13|73480020|73480091|PB1D9:Alu:SINE|268|-,.   9.000885       -0.489762  \\\n",
       "1  chr5|117467874|117468005|RSINE1:B4:SINE|183|-,.   0.730917       -2.916743   \n",
       "2       chr3|96619212|96619284|ID4:ID:SINE|194|+,.   5.772588        0.121464   \n",
       "3     chr15|93388865|93388965|PB1:Alu:SINE|227|-,.  32.028966       -0.216654   \n",
       "4    chr11|94175967|94176153|B2_Mm2:B2:SINE|98|-,.   7.127690        0.305487   \n",
       "\n",
       "      lfcSE      stat    pvalue  padj element_type         TE_name   \n",
       "0  0.629289 -0.778278  0.800222   1.0           TE  PB1D9:Alu:SINE  \\\n",
       "1  3.081604 -0.946502  0.368835   1.0           TE  RSINE1:B4:SINE   \n",
       "2  0.852163  0.142536  0.942801   1.0           TE     ID4:ID:SINE   \n",
       "3  0.390147 -0.555314  0.978578   1.0           TE    PB1:Alu:SINE   \n",
       "4  0.591882  0.516129  0.893386   1.0           TE  B2_Mm2:B2:SINE   \n",
       "\n",
       "             TE_index  \n",
       "0  PB1D9:Alu:SINE_268  \n",
       "1  RSINE1:B4:SINE_183  \n",
       "2     ID4:ID:SINE_194  \n",
       "3    PB1:Alu:SINE_227  \n",
       "4   B2_Mm2:B2:SINE_98  "
      ]
     },
     "execution_count": 36,
     "metadata": {},
     "output_type": "execute_result"
    }
   ],
   "source": [
    "squire_indiv = pd.read_csv(\"/home/lucy/Dropbox/turner_organoid_bulk_RNA_local/Deseq_indiv_dTE_results.csv\", header = 0, index_col = 0 )\n",
    "squire_indiv.head()"
   ]
  },
  {
   "cell_type": "code",
   "execution_count": 37,
   "id": "7e8768b2-305f-4968-8c2c-94869546a95d",
   "metadata": {},
   "outputs": [],
   "source": [
    "squire_subf = pd.read_csv(\"/home/lucy/Dropbox/turner_organoid_bulk_RNA_local/Deseq_subF_dTE_results.csv\", header= 0, index_col = 0 )"
   ]
  },
  {
   "cell_type": "code",
   "execution_count": 38,
   "id": "0b5c5636-d36f-4038-a23a-7a768f5cc2b7",
   "metadata": {},
   "outputs": [
    {
     "data": {
      "text/plain": [
       "(1186, 11)"
      ]
     },
     "execution_count": 38,
     "metadata": {},
     "output_type": "execute_result"
    }
   ],
   "source": [
    "squire_subf.shape"
   ]
  },
  {
   "cell_type": "markdown",
   "id": "de3c5c3a-faac-4dd9-8068-e6a3cd75f968",
   "metadata": {},
   "source": [
    "## unify names\n",
    "- all level of names are compatible, no need to make adjustment "
   ]
  },
  {
   "cell_type": "markdown",
   "id": "99f5f051-e3f4-4a01-aaea-47339253f9e1",
   "metadata": {},
   "source": [
    "### get family and class name for squire data"
   ]
  },
  {
   "cell_type": "code",
   "execution_count": 39,
   "id": "9e9b18c6-9292-4a67-9bb2-846d62a066a0",
   "metadata": {},
   "outputs": [
    {
     "data": {
      "text/html": [
       "<div>\n",
       "<style scoped>\n",
       "    .dataframe tbody tr th:only-of-type {\n",
       "        vertical-align: middle;\n",
       "    }\n",
       "\n",
       "    .dataframe tbody tr th {\n",
       "        vertical-align: top;\n",
       "    }\n",
       "\n",
       "    .dataframe thead th {\n",
       "        text-align: right;\n",
       "    }\n",
       "</style>\n",
       "<table border=\"1\" class=\"dataframe\">\n",
       "  <thead>\n",
       "    <tr style=\"text-align: right;\">\n",
       "      <th></th>\n",
       "      <th>TE_ID</th>\n",
       "      <th>baseMean</th>\n",
       "      <th>log2FoldChange</th>\n",
       "      <th>lfcSE</th>\n",
       "      <th>stat</th>\n",
       "      <th>pvalue</th>\n",
       "      <th>padj</th>\n",
       "      <th>element_type</th>\n",
       "      <th>TE_name</th>\n",
       "      <th>TE_index</th>\n",
       "    </tr>\n",
       "  </thead>\n",
       "  <tbody>\n",
       "    <tr>\n",
       "      <th>0</th>\n",
       "      <td>chr13|73480020|73480091|PB1D9:Alu:SINE|268|-,.</td>\n",
       "      <td>9.000885</td>\n",
       "      <td>-0.489762</td>\n",
       "      <td>0.629289</td>\n",
       "      <td>-0.778278</td>\n",
       "      <td>0.800222</td>\n",
       "      <td>1.0</td>\n",
       "      <td>TE</td>\n",
       "      <td>PB1D9:Alu:SINE</td>\n",
       "      <td>PB1D9:Alu:SINE_268</td>\n",
       "    </tr>\n",
       "    <tr>\n",
       "      <th>1</th>\n",
       "      <td>chr5|117467874|117468005|RSINE1:B4:SINE|183|-,.</td>\n",
       "      <td>0.730917</td>\n",
       "      <td>-2.916743</td>\n",
       "      <td>3.081604</td>\n",
       "      <td>-0.946502</td>\n",
       "      <td>0.368835</td>\n",
       "      <td>1.0</td>\n",
       "      <td>TE</td>\n",
       "      <td>RSINE1:B4:SINE</td>\n",
       "      <td>RSINE1:B4:SINE_183</td>\n",
       "    </tr>\n",
       "    <tr>\n",
       "      <th>2</th>\n",
       "      <td>chr3|96619212|96619284|ID4:ID:SINE|194|+,.</td>\n",
       "      <td>5.772588</td>\n",
       "      <td>0.121464</td>\n",
       "      <td>0.852163</td>\n",
       "      <td>0.142536</td>\n",
       "      <td>0.942801</td>\n",
       "      <td>1.0</td>\n",
       "      <td>TE</td>\n",
       "      <td>ID4:ID:SINE</td>\n",
       "      <td>ID4:ID:SINE_194</td>\n",
       "    </tr>\n",
       "    <tr>\n",
       "      <th>3</th>\n",
       "      <td>chr15|93388865|93388965|PB1:Alu:SINE|227|-,.</td>\n",
       "      <td>32.028966</td>\n",
       "      <td>-0.216654</td>\n",
       "      <td>0.390147</td>\n",
       "      <td>-0.555314</td>\n",
       "      <td>0.978578</td>\n",
       "      <td>1.0</td>\n",
       "      <td>TE</td>\n",
       "      <td>PB1:Alu:SINE</td>\n",
       "      <td>PB1:Alu:SINE_227</td>\n",
       "    </tr>\n",
       "    <tr>\n",
       "      <th>4</th>\n",
       "      <td>chr11|94175967|94176153|B2_Mm2:B2:SINE|98|-,.</td>\n",
       "      <td>7.127690</td>\n",
       "      <td>0.305487</td>\n",
       "      <td>0.591882</td>\n",
       "      <td>0.516129</td>\n",
       "      <td>0.893386</td>\n",
       "      <td>1.0</td>\n",
       "      <td>TE</td>\n",
       "      <td>B2_Mm2:B2:SINE</td>\n",
       "      <td>B2_Mm2:B2:SINE_98</td>\n",
       "    </tr>\n",
       "  </tbody>\n",
       "</table>\n",
       "</div>"
      ],
      "text/plain": [
       "                                             TE_ID   baseMean  log2FoldChange   \n",
       "0   chr13|73480020|73480091|PB1D9:Alu:SINE|268|-,.   9.000885       -0.489762  \\\n",
       "1  chr5|117467874|117468005|RSINE1:B4:SINE|183|-,.   0.730917       -2.916743   \n",
       "2       chr3|96619212|96619284|ID4:ID:SINE|194|+,.   5.772588        0.121464   \n",
       "3     chr15|93388865|93388965|PB1:Alu:SINE|227|-,.  32.028966       -0.216654   \n",
       "4    chr11|94175967|94176153|B2_Mm2:B2:SINE|98|-,.   7.127690        0.305487   \n",
       "\n",
       "      lfcSE      stat    pvalue  padj element_type         TE_name   \n",
       "0  0.629289 -0.778278  0.800222   1.0           TE  PB1D9:Alu:SINE  \\\n",
       "1  3.081604 -0.946502  0.368835   1.0           TE  RSINE1:B4:SINE   \n",
       "2  0.852163  0.142536  0.942801   1.0           TE     ID4:ID:SINE   \n",
       "3  0.390147 -0.555314  0.978578   1.0           TE    PB1:Alu:SINE   \n",
       "4  0.591882  0.516129  0.893386   1.0           TE  B2_Mm2:B2:SINE   \n",
       "\n",
       "             TE_index  \n",
       "0  PB1D9:Alu:SINE_268  \n",
       "1  RSINE1:B4:SINE_183  \n",
       "2     ID4:ID:SINE_194  \n",
       "3    PB1:Alu:SINE_227  \n",
       "4   B2_Mm2:B2:SINE_98  "
      ]
     },
     "execution_count": 39,
     "metadata": {},
     "output_type": "execute_result"
    }
   ],
   "source": [
    "squire_indiv.head()"
   ]
  },
  {
   "cell_type": "code",
   "execution_count": 40,
   "id": "2c501ec8-640f-4c4d-8bde-5a2e788bba94",
   "metadata": {},
   "outputs": [],
   "source": [
    "squire_indiv['repName'] = [ s.split(\":\")[0] for s in squire_indiv['TE_name'] ]"
   ]
  },
  {
   "cell_type": "code",
   "execution_count": 41,
   "id": "a917a3c6-9224-4819-92a4-329ce0b1a37e",
   "metadata": {},
   "outputs": [],
   "source": [
    "squire_indiv['repFamily'] = [ s.split(\":\")[1] for s in squire_indiv['TE_name'] ]\n",
    "squire_indiv['repClass'] = [ s.split(\":\")[2] for s in squire_indiv['TE_name'] ]"
   ]
  },
  {
   "cell_type": "code",
   "execution_count": null,
   "id": "051f24f5-7083-46c2-8db8-871f83b4def8",
   "metadata": {},
   "outputs": [],
   "source": []
  },
  {
   "cell_type": "markdown",
   "id": "50b20b9a-f961-401d-a823-bbb5472e2a14",
   "metadata": {},
   "source": [
    "### check class and family level naming consistency"
   ]
  },
  {
   "cell_type": "code",
   "execution_count": 14,
   "id": "12828b08-7cf4-4678-bc95-1b0b1f235b2e",
   "metadata": {},
   "outputs": [
    {
     "data": {
      "text/plain": [
       "Index(['transcript_id', 'baseMean', 'log2FoldChange', 'lfcSE', 'stat',\n",
       "       'pvalue', 'padj', 'repClass', 'repFamily', 'repName', 'name_fam',\n",
       "       'name_fam_class'],\n",
       "      dtype='object')"
      ]
     },
     "execution_count": 14,
     "metadata": {},
     "output_type": "execute_result"
    }
   ],
   "source": [
    "tele_indiv.columns"
   ]
  },
  {
   "cell_type": "code",
   "execution_count": 15,
   "id": "abfbba26-af3a-4db8-a7f8-697ea5e39d76",
   "metadata": {},
   "outputs": [
    {
     "data": {
      "text/plain": [
       "array(['Simple_repeat', 'scRNA', 'rRNA', 'snRNA', 'srpRNA',\n",
       "       'Low_complexity', 'DNA', 'LINE', 'SINE', 'LTR', 'Satellite', 'RC',\n",
       "       'Unknown', 'Retroposon', 'Unspecified', 'tRNA'], dtype=object)"
      ]
     },
     "execution_count": 15,
     "metadata": {},
     "output_type": "execute_result"
    }
   ],
   "source": [
    "tele_indiv['repClass'].unique()"
   ]
  },
  {
   "cell_type": "code",
   "execution_count": 16,
   "id": "05431857-afde-4863-88f5-b4340f14e465",
   "metadata": {},
   "outputs": [
    {
     "data": {
      "text/plain": [
       "array(['Simple_repeat', 'scRNA', 'rRNA', 'snRNA', 'srpRNA',\n",
       "       'Low_complexity', 'PIF-Harbinger', 'L2', '5S-Deu-L2', 'tRNA-Deu',\n",
       "       'hAT-Tip100', 'Alu', 'B2', 'B4', 'ERVK', 'hAT-Blackjack', 'CR1',\n",
       "       'Y-chromosome', 'hAT-Charlie', 'TcMar-Tc1', 'ERVL', 'ERV1', 'LTR',\n",
       "       'hAT', 'PiggyBac', 'DNA', 'Crypton-A', 'Crypton', 'TcMar',\n",
       "       'hAT-Ac', 'MULE-MuDR', 'Satellite', 'L1', 'Helitron', 'ID',\n",
       "       'TcMar-Tc2', 'RTE-X', 'tRNA', 'Gypsy', 'TcMar-Mariner',\n",
       "       'TcMar-Tigger', 'L1-Tx1', 'Merlin', 'hAT?', 'MIR', 'ERVL-MaLR',\n",
       "       'RTE-BovB', 'Unknown', 'tRNA-RTE', 'Dong-R4', 'Penelope', 'L1-dep',\n",
       "       'Kolobok', 'Unspecified', 'I-Jockey', 'hAT-Tag1'], dtype=object)"
      ]
     },
     "execution_count": 16,
     "metadata": {},
     "output_type": "execute_result"
    }
   ],
   "source": [
    "tele_indiv['repFamily'].unique()"
   ]
  },
  {
   "cell_type": "code",
   "execution_count": 19,
   "id": "0ef26bac-26cf-43c9-87bf-701290a79cce",
   "metadata": {},
   "outputs": [
    {
     "data": {
      "text/plain": [
       "5936"
      ]
     },
     "execution_count": 19,
     "metadata": {},
     "output_type": "execute_result"
    }
   ],
   "source": [
    "len( tele_indiv['repName'].unique() )"
   ]
  },
  {
   "cell_type": "code",
   "execution_count": 23,
   "id": "b81d6ee9-62c7-4a54-8988-8968947584e6",
   "metadata": {},
   "outputs": [
    {
     "data": {
      "text/plain": [
       "array(['SINE', 'LINE', 'LTR', 'DNA', 'Retroposon', 'rRNA', 'scRNA',\n",
       "       'Unspecified', 'snRNA', 'srpRNA', 'tRNA'], dtype=object)"
      ]
     },
     "execution_count": 23,
     "metadata": {},
     "output_type": "execute_result"
    }
   ],
   "source": [
    "squire_indiv['repClass'].unique()\n",
    "# tele_indiv has more repClass that "
   ]
  },
  {
   "cell_type": "code",
   "execution_count": 25,
   "id": "416526ec-75f3-4d7d-b50d-91a071482db7",
   "metadata": {},
   "outputs": [],
   "source": [
    "#squire_indiv[ squire_indiv['repClass'] == 'Unspecified' ]"
   ]
  },
  {
   "cell_type": "code",
   "execution_count": null,
   "id": "3844710c-837c-4ec8-86a8-80aabf0447c9",
   "metadata": {},
   "outputs": [],
   "source": []
  },
  {
   "cell_type": "code",
   "execution_count": 26,
   "id": "c473ba70-fc7f-4992-9181-0b789deb709b",
   "metadata": {},
   "outputs": [
    {
     "data": {
      "text/plain": [
       "array(['Alu', 'B4', 'ID', 'B2', 'L1', 'ERVL-MaLR', 'hAT-Charlie', 'MIR',\n",
       "       'TcMar-Tigger', 'ERVK', 'ERVL', 'DNA', 'ERV1', 'LTR', 'hAT-Ac',\n",
       "       'hAT-Tip100', 'L1-dep', 'CR1', 'rRNA', 'TcMar-Mariner', 'L2',\n",
       "       'TcMar-Tc2', 'scRNA', 'Unspecified', 'hAT-Tag1', 'RTE-BovB',\n",
       "       'snRNA', 'hAT', 'tRNA-RTE', '5S-Deu-L2', 'srpRNA', 'tRNA', 'Gypsy',\n",
       "       'Dong-R4', 'hAT-Blackjack', 'RTE-X', 'Penelope', 'TcMar-Tc1',\n",
       "       'L1-Tx1', 'I-Jockey', 'PiggyBac', 'Merlin', 'Kolobok'],\n",
       "      dtype=object)"
      ]
     },
     "execution_count": 26,
     "metadata": {},
     "output_type": "execute_result"
    }
   ],
   "source": [
    "squire_indiv['repFamily'].unique()"
   ]
  },
  {
   "cell_type": "code",
   "execution_count": null,
   "id": "5d18cfb5-b449-4e2f-ad3a-d7020f7bd91d",
   "metadata": {},
   "outputs": [],
   "source": []
  },
  {
   "cell_type": "markdown",
   "id": "2e5e3358-4f67-40e6-939e-3d22286428f4",
   "metadata": {},
   "source": [
    "### check repName overlap\n",
    "- all repName in squire indiv dTE can be found in telescope "
   ]
  },
  {
   "cell_type": "code",
   "execution_count": 28,
   "id": "1afc7617-481a-4d23-acc4-3e30a3ee8448",
   "metadata": {},
   "outputs": [],
   "source": [
    "def get_overlap( pd_col1 , pd_col2, col1_name = 'list 1', col2_name = 'list 2',  verbo = True ):\n",
    "    s1 = set( pd_col1)\n",
    "    s2 = set( pd_col2 )\n",
    "    intersection_ls = s1.intersection( s2)\n",
    "\n",
    "    if( verbo):\n",
    "        print( f'{col1_name} has {len(s1)} unique elements')\n",
    "        print( f'{col2_name} has {len(s2)} unique elements')\n",
    "        print( f'Intersection has {len( intersection_ls)} elements')\n",
    "\n",
    "    return intersection_ls\n",
    "    "
   ]
  },
  {
   "cell_type": "code",
   "execution_count": 43,
   "id": "516f7afa-c420-4cf1-87d2-6d82b2b11a7a",
   "metadata": {},
   "outputs": [
    {
     "name": "stdout",
     "output_type": "stream",
     "text": [
      "telescope_indiv has 5936 unique elements\n",
      "squire_indiv has 756 unique elements\n",
      "Intersection has 756 elements\n"
     ]
    }
   ],
   "source": [
    "repname_inter = get_overlap( tele_indiv['repName'] , squire_indiv['repName'], col1_name = 'telescope_indiv', col2_name = 'squire_indiv',  verbo = True )"
   ]
  },
  {
   "cell_type": "code",
   "execution_count": 35,
   "id": "4be6e477-d4e4-45bd-aaee-e79c6ddafb3a",
   "metadata": {},
   "outputs": [
    {
     "data": {
      "text/plain": [
       "(15235, 13)"
      ]
     },
     "execution_count": 35,
     "metadata": {},
     "output_type": "execute_result"
    }
   ],
   "source": [
    "# because squire has way less unique elements, check the original number of squire dTE\n",
    "squire_indiv.shape"
   ]
  },
  {
   "cell_type": "markdown",
   "id": "6505e993-df22-4f75-be0b-69f5a4effe09",
   "metadata": {},
   "source": [
    "### Check repFamily and repClass overlap\n",
    "- all squire elements can be found in telescope"
   ]
  },
  {
   "cell_type": "code",
   "execution_count": null,
   "id": "15c07d34-3c2d-4b7b-8b84-addc96bb3e27",
   "metadata": {},
   "outputs": [],
   "source": []
  },
  {
   "cell_type": "code",
   "execution_count": 38,
   "id": "e5091e6b-2b04-4d6e-ad4f-93f3f2b809c8",
   "metadata": {},
   "outputs": [
    {
     "name": "stdout",
     "output_type": "stream",
     "text": [
      "repFamily level:\n",
      "telescope_indiv has 56 unique elements\n",
      "squire_indiv has 43 unique elements\n",
      "Intersection has 43 elements\n"
     ]
    }
   ],
   "source": [
    "print( 'repFamily level:' )\n",
    "repfam_inter = get_overlap( tele_indiv['repFamily'] , squire_indiv['repFamily'], col1_name = 'telescope_indiv', col2_name = 'squire_indiv',  verbo = True )"
   ]
  },
  {
   "cell_type": "code",
   "execution_count": 39,
   "id": "4a20434a-3810-40a5-9350-0ae026cb8896",
   "metadata": {},
   "outputs": [
    {
     "name": "stdout",
     "output_type": "stream",
     "text": [
      "repClass level:\n",
      "telescope_indiv has 16 unique elements\n",
      "squire_indiv has 11 unique elements\n",
      "Intersection has 11 elements\n"
     ]
    }
   ],
   "source": [
    "print( 'repClass level:' )\n",
    "repclass_inter = get_overlap( tele_indiv['repClass'] , squire_indiv['repClass'], col1_name = 'telescope_indiv', col2_name = 'squire_indiv',  verbo = True )"
   ]
  },
  {
   "cell_type": "code",
   "execution_count": null,
   "id": "64ff3929-cd4e-4153-aa1a-919b45455276",
   "metadata": {},
   "outputs": [],
   "source": []
  },
  {
   "cell_type": "code",
   "execution_count": null,
   "id": "c952741b-3740-4d3f-b440-e01b832c842e",
   "metadata": {},
   "outputs": [],
   "source": []
  },
  {
   "cell_type": "markdown",
   "id": "3bfac675-06cb-4a6b-912c-928441c1fe24",
   "metadata": {},
   "source": [
    "## Check overlap in top differential TEs\n",
    "- based on the volcano plots ( see [report slides](https://docs.google.com/presentation/d/1qmWWbZeGRl46QceqScw7Uim1745PIsnf8r6yNJL3XdI/edit?usp=sharing) ), use abs( log2 FC) = 2 and p-adj 1e-5 as threshold "
   ]
  },
  {
   "cell_type": "markdown",
   "id": "1b030cc2-2417-43ca-90a9-2c51c082ae24",
   "metadata": {},
   "source": [
    "### get top dTE in squire"
   ]
  },
  {
   "cell_type": "code",
   "execution_count": 45,
   "id": "63e85256-520b-4220-a120-1cd44d3aca7d",
   "metadata": {},
   "outputs": [],
   "source": [
    "squire_sig_up = squire_indiv[ (squire_indiv['padj'] < 1e-5) & (squire_indiv['log2FoldChange'] > 2) ]\n",
    "squire_sig_down = squire_indiv[ (squire_indiv['padj'] < 1e-5) & (squire_indiv['log2FoldChange'] < -2) ]"
   ]
  },
  {
   "cell_type": "code",
   "execution_count": 46,
   "id": "9bb3ac69-89a3-45e8-86c0-1a02f7b4b263",
   "metadata": {},
   "outputs": [
    {
     "name": "stdout",
     "output_type": "stream",
     "text": [
      "74\n",
      "33\n"
     ]
    }
   ],
   "source": [
    "print( squire_sig_up.shape[0] )\n",
    "print( squire_sig_down.shape[0] )"
   ]
  },
  {
   "cell_type": "code",
   "execution_count": 47,
   "id": "dfd8667c-4c7b-4d5b-9eb0-1ca1ac028b1f",
   "metadata": {},
   "outputs": [],
   "source": [
    "squire_subf_sig_up = squire_subf[ (squire_subf['padj'] < 0.05) & (squire_subf['log2FoldChange'] > 0.5) ]\n",
    "squire_subf_sig_down = squire_subf[ (squire_subf['padj'] < 0.05) & (squire_subf['log2FoldChange'] < -0.5) ]"
   ]
  },
  {
   "cell_type": "code",
   "execution_count": 48,
   "id": "b3ed6e09-452a-41cd-9373-f93bd4b2f0cb",
   "metadata": {},
   "outputs": [
    {
     "name": "stdout",
     "output_type": "stream",
     "text": [
      "6\n",
      "2\n"
     ]
    }
   ],
   "source": [
    "print( squire_subf_sig_up.shape[0] )\n",
    "print( squire_subf_sig_down.shape[0] )"
   ]
  },
  {
   "cell_type": "code",
   "execution_count": 49,
   "id": "624a4881-8238-4891-ac62-93b455181df2",
   "metadata": {},
   "outputs": [
    {
     "data": {
      "text/html": [
       "<div>\n",
       "<style scoped>\n",
       "    .dataframe tbody tr th:only-of-type {\n",
       "        vertical-align: middle;\n",
       "    }\n",
       "\n",
       "    .dataframe tbody tr th {\n",
       "        vertical-align: top;\n",
       "    }\n",
       "\n",
       "    .dataframe thead th {\n",
       "        text-align: right;\n",
       "    }\n",
       "</style>\n",
       "<table border=\"1\" class=\"dataframe\">\n",
       "  <thead>\n",
       "    <tr style=\"text-align: right;\">\n",
       "      <th></th>\n",
       "      <th>TE_ID</th>\n",
       "      <th>baseMean</th>\n",
       "      <th>log2FoldChange</th>\n",
       "      <th>lfcSE</th>\n",
       "      <th>stat</th>\n",
       "      <th>pvalue</th>\n",
       "      <th>padj</th>\n",
       "      <th>element_type</th>\n",
       "      <th>SubFam</th>\n",
       "      <th>Fam</th>\n",
       "      <th>Class</th>\n",
       "    </tr>\n",
       "  </thead>\n",
       "  <tbody>\n",
       "    <tr>\n",
       "      <th>164</th>\n",
       "      <td>MMVL30-int:ERV1:LTR</td>\n",
       "      <td>4207.039323</td>\n",
       "      <td>1.798637</td>\n",
       "      <td>0.033970</td>\n",
       "      <td>52.947696</td>\n",
       "      <td>1.611004e-122</td>\n",
       "      <td>3.918191e-119</td>\n",
       "      <td>TE</td>\n",
       "      <td>MMVL30-int</td>\n",
       "      <td>ERV1</td>\n",
       "      <td>LTR</td>\n",
       "    </tr>\n",
       "    <tr>\n",
       "      <th>221</th>\n",
       "      <td>RLTR6C_Mm:ERV1:LTR</td>\n",
       "      <td>82.135324</td>\n",
       "      <td>1.718368</td>\n",
       "      <td>0.220135</td>\n",
       "      <td>7.805982</td>\n",
       "      <td>5.505944e-04</td>\n",
       "      <td>2.911139e-02</td>\n",
       "      <td>TE</td>\n",
       "      <td>RLTR6C_Mm</td>\n",
       "      <td>ERV1</td>\n",
       "      <td>LTR</td>\n",
       "    </tr>\n",
       "  </tbody>\n",
       "</table>\n",
       "</div>"
      ],
      "text/plain": [
       "                   TE_ID     baseMean  log2FoldChange     lfcSE       stat   \n",
       "164  MMVL30-int:ERV1:LTR  4207.039323        1.798637  0.033970  52.947696  \\\n",
       "221   RLTR6C_Mm:ERV1:LTR    82.135324        1.718368  0.220135   7.805982   \n",
       "\n",
       "            pvalue           padj element_type      SubFam   Fam Class  \n",
       "164  1.611004e-122  3.918191e-119           TE  MMVL30-int  ERV1   LTR  \n",
       "221   5.505944e-04   2.911139e-02           TE   RLTR6C_Mm  ERV1   LTR  "
      ]
     },
     "execution_count": 49,
     "metadata": {},
     "output_type": "execute_result"
    }
   ],
   "source": [
    "squire_subf_sig_up.head(2)"
   ]
  },
  {
   "cell_type": "markdown",
   "id": "f484e8e6-f517-4fd8-95ee-a48f3151a944",
   "metadata": {},
   "source": [
    "### get top dTE in telescope"
   ]
  },
  {
   "cell_type": "code",
   "execution_count": null,
   "id": "cfc9655d-35ea-44b2-a648-c96e1b158685",
   "metadata": {},
   "outputs": [],
   "source": []
  },
  {
   "cell_type": "code",
   "execution_count": 50,
   "id": "8eee9bde-f531-41f3-b6dd-bc8a8b633df4",
   "metadata": {},
   "outputs": [],
   "source": [
    "tele_sig_up = tele_indiv[ (tele_indiv['padj'] < 1e-5) & (tele_indiv['log2FoldChange'] > 2) ]\n",
    "tele_sig_down = tele_indiv[ (tele_indiv['padj'] < 1e-5) & (tele_indiv['log2FoldChange'] < -2) ]"
   ]
  },
  {
   "cell_type": "code",
   "execution_count": 51,
   "id": "3d9c74e6-ffe0-4b2e-92f3-64a4e31b5082",
   "metadata": {},
   "outputs": [
    {
     "name": "stdout",
     "output_type": "stream",
     "text": [
      "120\n",
      "67\n"
     ]
    }
   ],
   "source": [
    "print( tele_sig_up.shape[0] )\n",
    "print( tele_sig_down.shape[0] )"
   ]
  },
  {
   "cell_type": "code",
   "execution_count": 52,
   "id": "8932ea4b-bc72-4f95-947b-83f61d4a732a",
   "metadata": {},
   "outputs": [],
   "source": [
    "tele_subf_sig_up = tele_subf[ (tele_subf['padj'] < 1e-10) & (tele_subf['log2FoldChange'] > 0.5) ]\n",
    "tele_subf_sig_down = tele_subf[ (tele_subf['padj'] < 1e-10) & (tele_subf['log2FoldChange'] < -0.5) ]"
   ]
  },
  {
   "cell_type": "code",
   "execution_count": 53,
   "id": "777bb2a2-d115-4942-b1a9-725eee79c15a",
   "metadata": {},
   "outputs": [
    {
     "name": "stdout",
     "output_type": "stream",
     "text": [
      "18\n",
      "16\n"
     ]
    }
   ],
   "source": [
    "print( tele_subf_sig_up.shape[0] )\n",
    "print( tele_subf_sig_down.shape[0] )"
   ]
  },
  {
   "cell_type": "code",
   "execution_count": 54,
   "id": "d834f588-bf7b-434b-aaf6-929928dc0379",
   "metadata": {},
   "outputs": [
    {
     "data": {
      "text/html": [
       "<div>\n",
       "<style scoped>\n",
       "    .dataframe tbody tr th:only-of-type {\n",
       "        vertical-align: middle;\n",
       "    }\n",
       "\n",
       "    .dataframe tbody tr th {\n",
       "        vertical-align: top;\n",
       "    }\n",
       "\n",
       "    .dataframe thead th {\n",
       "        text-align: right;\n",
       "    }\n",
       "</style>\n",
       "<table border=\"1\" class=\"dataframe\">\n",
       "  <thead>\n",
       "    <tr style=\"text-align: right;\">\n",
       "      <th></th>\n",
       "      <th>repName</th>\n",
       "      <th>baseMean</th>\n",
       "      <th>log2FoldChange</th>\n",
       "      <th>lfcSE</th>\n",
       "      <th>stat</th>\n",
       "      <th>pvalue</th>\n",
       "      <th>padj</th>\n",
       "      <th>repClass</th>\n",
       "      <th>repFamily</th>\n",
       "      <th>name_class</th>\n",
       "    </tr>\n",
       "  </thead>\n",
       "  <tbody>\n",
       "    <tr>\n",
       "      <th>239</th>\n",
       "      <td>(AATT)n</td>\n",
       "      <td>242.006360</td>\n",
       "      <td>-0.857218</td>\n",
       "      <td>0.114211</td>\n",
       "      <td>-7.505587</td>\n",
       "      <td>6.115400e-14</td>\n",
       "      <td>4.289044e-12</td>\n",
       "      <td>Simple_repeat</td>\n",
       "      <td>Simple_repeat</td>\n",
       "      <td>(AATT)n|Simple_repeat</td>\n",
       "    </tr>\n",
       "    <tr>\n",
       "      <th>1327</th>\n",
       "      <td>(CAGGTCT)n</td>\n",
       "      <td>182.460315</td>\n",
       "      <td>-0.903490</td>\n",
       "      <td>0.123412</td>\n",
       "      <td>-7.320940</td>\n",
       "      <td>2.462408e-13</td>\n",
       "      <td>1.638449e-11</td>\n",
       "      <td>Simple_repeat</td>\n",
       "      <td>Simple_repeat</td>\n",
       "      <td>(CAGGTCT)n|Simple_repeat</td>\n",
       "    </tr>\n",
       "  </tbody>\n",
       "</table>\n",
       "</div>"
      ],
      "text/plain": [
       "         repName    baseMean  log2FoldChange     lfcSE      stat   \n",
       "239      (AATT)n  242.006360       -0.857218  0.114211 -7.505587  \\\n",
       "1327  (CAGGTCT)n  182.460315       -0.903490  0.123412 -7.320940   \n",
       "\n",
       "            pvalue          padj       repClass      repFamily   \n",
       "239   6.115400e-14  4.289044e-12  Simple_repeat  Simple_repeat  \\\n",
       "1327  2.462408e-13  1.638449e-11  Simple_repeat  Simple_repeat   \n",
       "\n",
       "                    name_class  \n",
       "239      (AATT)n|Simple_repeat  \n",
       "1327  (CAGGTCT)n|Simple_repeat  "
      ]
     },
     "execution_count": 54,
     "metadata": {},
     "output_type": "execute_result"
    }
   ],
   "source": [
    "tele_subf_sig_down.head(2)"
   ]
  },
  {
   "cell_type": "code",
   "execution_count": null,
   "id": "e169dcda-1b7b-4ffc-aacc-495be32b0d15",
   "metadata": {},
   "outputs": [],
   "source": []
  },
  {
   "cell_type": "code",
   "execution_count": 56,
   "id": "f63001d6-66d2-45c5-aae5-64af6fffaa9c",
   "metadata": {},
   "outputs": [
    {
     "name": "stdout",
     "output_type": "stream",
     "text": [
      "['(AGA)n', '(AGCTCC)n', '(AGGCCC)n', '(CA)n', '(GAG)n', '(GCCCTGC)n', '(GTTTTT)n', '(TATT)n', '(TGCC)n', 'B1F', 'B1_Mm', 'B2_Mm2', 'Charlie15b', 'ETnERV-int', 'IAPEY4_I']\n"
     ]
    }
   ],
   "source": [
    "print( list( tele_sig_up['repName'].iloc[0:15] ) )"
   ]
  },
  {
   "cell_type": "code",
   "execution_count": 59,
   "id": "0fab2195-d3a8-4f38-89d7-73781cb8b31f",
   "metadata": {},
   "outputs": [
    {
     "name": "stdout",
     "output_type": "stream",
     "text": [
      "['RLTR4_MM-int', 'RLTR4_Mm', 'RLTR4_Mm', 'RLTR4_Mm', 'RLTR4_Mm', 'RLTR4_Mm', 'RLTR6C_Mm', 'RLTR6_Mm', 'RLTR6_Mm', 'RLTR9E', 'RMER17B2', 'RMER17D', 'RMER19B', 'RMER1B', 'Tigger18a']\n"
     ]
    }
   ],
   "source": [
    "print( list( tele_sig_up['repName'].iloc[-15::] ) )"
   ]
  },
  {
   "cell_type": "code",
   "execution_count": 57,
   "id": "873b6436-5ffc-4d46-97ff-a9a63950de30",
   "metadata": {},
   "outputs": [
    {
     "name": "stdout",
     "output_type": "stream",
     "text": [
      "['RLTR4_MM-int', 'L1MC2', 'RMER17B2', 'IAPLTR1_Mm', 'RLTR4_Mm', 'RLTR4_MM-int', 'RLTR4_MM-int', 'RLTR4_MM-int', 'RLTR4_MM-int', 'RLTR4_MM-int']\n"
     ]
    }
   ],
   "source": [
    "print( list( squire_sig_up['repName'].iloc[0:10] ) )"
   ]
  },
  {
   "cell_type": "code",
   "execution_count": null,
   "id": "f447f096-142d-4335-9ad9-2e2913d6aaf3",
   "metadata": {},
   "outputs": [],
   "source": []
  },
  {
   "cell_type": "markdown",
   "id": "437f7437-0168-43d8-902d-56b015a2f4f1",
   "metadata": {},
   "source": [
    "### Make venn diagram for the top dTEs"
   ]
  },
  {
   "cell_type": "code",
   "execution_count": null,
   "id": "94c13222-d0c1-4b88-a966-c2cae26f037f",
   "metadata": {},
   "outputs": [],
   "source": []
  },
  {
   "cell_type": "code",
   "execution_count": 87,
   "id": "b9ffa417-e149-4fce-91af-9cf3f61d9628",
   "metadata": {
    "scrolled": true
   },
   "outputs": [
    {
     "name": "stdout",
     "output_type": "stream",
     "text": [
      "intersection: {'RMER17B2', 'Tigger18a', 'B2_Mm2', 'RLTR4_MM-int', 'RLTR4_Mm', 'IAPLTR1_Mm', 'L1MdGf_II', 'IAPLTR1a_Mm', 'IAPEY4_I', 'IAPEz-int', 'RLTR6_Mm', 'L1MC5a', 'MMVL30-int', 'MT2B1', 'L1MdA_III'}\n",
      "Telescope UP has: \n",
      "{'MT2B', 'MTEb', 'L1MdTf_III', 'L1MdMus_I', '(GCCCTGC)n', 'MURVY-LTR', '(AGCTCC)n', 'RMER19B', 'MTD', 'RLTR10-int', 'RMER1B', '(CA)n', '(TGCC)n', 'L2', 'MER58C', 'RLTR1B-int', 'ETnERV-int', '(AGA)n', '(GAG)n', 'MTB', 'L1MC4', 'RLTR6C_Mm', 'Lx10', 'RMER17D', 'Lx5c', 'ORR1A2', 'L1_Rod', 'LFSINE_Vert', 'Charlie15b', 'MurSatRep1', 'L1MdF_II', 'PB1', 'B1_Mm', 'L1_Mur3', '(TATT)n', 'ID', 'MER20', 'L1MdGf_I', 'MMETn-int', 'ORR1A4', 'B1F', '(GTTTTT)n', 'RLTR9E', '(AGGCCC)n'}\n",
      "Squire UP has: \n",
      "{'PB1D10', 'ID4', 'RSINE1', 'L1MC2', 'B1_Mus2'}\n"
     ]
    },
    {
     "data": {
      "image/png": "[encoded data removed]",
      "text/plain": [
       "<Figure size 640x480 with 1 Axes>"
      ]
     },
     "metadata": {},
     "output_type": "display_data"
    }
   ],
   "source": [
    "a = zc_venn_diagram( tele_sig_up['repName'], squire_sig_up['repName'], 'Telescope UP', 'Squire UP', \n",
    "                    title = \"Significant dTEs at individual locus level\", ax = None,\n",
    "                    print_elements= True,\n",
    "                    show_fig = True, save_fig = False,) #save_file_name = 'curr_venn.png')"
   ]
  },
  {
   "cell_type": "code",
   "execution_count": 92,
   "id": "ed7673d2-83c7-4920-8f0c-85d900530460",
   "metadata": {},
   "outputs": [
    {
     "name": "stdout",
     "output_type": "stream",
     "text": [
      "intersection: {'RLTR4_MM-int', 'IAPLTR2_Mm', 'LTRIS_Mus', 'IAPLTR1_Mm', 'MTA_Mm', 'Lx2B2', 'MMERVK9E_I', 'IAPEz-int', 'ORR1B1-int', 'Lx10', 'B1_Mm', 'RMER13A2', 'ERVB7_2-LTR_MM', 'L1MdA_IV', 'B4A', 'Lx8', 'B3'}\n",
      "Telescope Down has: \n",
      "{'(GCCTGG)n', 'IAPEy-int', 'MTEb', '(ATTCTG)n', '(AT)n', 'RLTR1B', 'B1_Mur1', 'RLTR50B', 'MMVL30-int', 'MMERVK10D3_I', 'IAP-d-int', '(GGAGCT)n', 'Lx5c', '(TTCC)n', 'ORR1A2', 'IAPEY4_I', 'MurSatRep1', '(TTTTTC)n', 'L1MdA_II', 'RMER6A', '(TCCT)n', '(AACA)n', 'B1_Mus2', 'RLTR21', 'L1MdGf_I', '(AAGA)n'}\n",
      "Squire Down has: \n",
      "{'B1_Mus1', 'Lx5'}\n"
     ]
    },
    {
     "data": {
      "image/png": "[encoded data removed]",
      "text/plain": [
       "<Figure size 640x480 with 1 Axes>"
      ]
     },
     "metadata": {},
     "output_type": "display_data"
    }
   ],
   "source": [
    "a = zc_venn_diagram( tele_sig_down['repName'], squire_sig_down['repName'], 'Telescope Down', 'Squire Down', \n",
    "                    title = \"Significant dTEs at individual locus level\", ax = None,\n",
    "                    print_elements= True,\n",
    "                    show_fig = True, save_fig = False,) #save_file_name = 'curr_venn.png')"
   ]
  },
  {
   "cell_type": "code",
   "execution_count": 100,
   "id": "ddd435c3-8384-423d-b9ac-457174351dc8",
   "metadata": {},
   "outputs": [
    {
     "name": "stdout",
     "output_type": "stream",
     "text": [
      "intersection: {'Tigger18a', 'RLTR4_Mm', 'RLTR6_Mm', 'MMVL30-int', 'L1MdN_I'}\n",
      "Telescope UP has: \n",
      "{'(TGCC)n', 'RLTR4_MM-int', 'RLTR1B-int', '(AGCTCC)n', 'MERVL-int', 'MMERGLN_LTR', '(CACCCG)n', '(CCAG)n', 'L1MC5a', '(GTTTTT)n', '(GAGGCT)n', '(AGGCCC)n', 'L1MC2'}\n",
      "Squire UP has: \n",
      "{'RLTR6C_Mm'}\n"
     ]
    },
    {
     "data": {
      "image/png": "[encoded data removed]",
      "text/plain": [
       "<Figure size 640x480 with 1 Axes>"
      ]
     },
     "metadata": {},
     "output_type": "display_data"
    }
   ],
   "source": [
    "a = zc_venn_diagram( tele_subf_sig_up['repName'], squire_subf_sig_up['SubFam'], 'Telescope UP', 'Squire UP', \n",
    "                    title = \"Significant dTEs at sub-family level\", ax = None,\n",
    "                    print_elements= True,\n",
    "                    show_fig = True, save_fig = False,) #save_file_name = 'curr_venn.png')"
   ]
  },
  {
   "cell_type": "code",
   "execution_count": 101,
   "id": "a276b5a9-11bc-4982-bf71-af439e893337",
   "metadata": {},
   "outputs": [
    {
     "name": "stdout",
     "output_type": "stream",
     "text": [
      "intersection: {'ERVB7_2-LTR_MM', 'Lx10'}\n",
      "Telescope UP has: \n",
      "{'(TGAAGCA)n', 'RMER12B', 'MERVL_2A-int', 'MMERVK9E_I', '(AATT)n', '(TCCT)n', '(GGGA)n', '(CCGCCT)n', 'LTR88c', 'ETnERV-int', 'Lx2A1', '(CTCTC)n', '(GGAGCT)n', '(CAGGTCT)n'}\n",
      "Squire UP has: \n",
      "set()\n"
     ]
    },
    {
     "data": {
      "image/png": "[encoded data removed]",
      "text/plain": [
       "<Figure size 640x480 with 1 Axes>"
      ]
     },
     "metadata": {},
     "output_type": "display_data"
    }
   ],
   "source": [
    "a = zc_venn_diagram( tele_subf_sig_down['repName'], squire_subf_sig_down['SubFam'], 'Telescope UP', 'Squire UP', \n",
    "                    title = \"Significant dTEs at sub-family level\", ax = None,\n",
    "                    print_elements= True,\n",
    "                    show_fig = True, save_fig = False,) #save_file_name = 'curr_venn.png')"
   ]
  },
  {
   "cell_type": "code",
   "execution_count": null,
   "id": "6d0a97bd-6813-4dbd-84f2-d22cd8a5c732",
   "metadata": {},
   "outputs": [],
   "source": []
  },
  {
   "cell_type": "markdown",
   "id": "4858f85c-687b-4636-94d1-78a372333426",
   "metadata": {},
   "source": [
    "## Prepare to check individual locus level consistency using genome location_overlap"
   ]
  },
  {
   "cell_type": "markdown",
   "id": "3db77c88-9280-4333-b36a-530dd4434bee",
   "metadata": {},
   "source": [
    "### extract genome location for squire"
   ]
  },
  {
   "cell_type": "code",
   "execution_count": 55,
   "id": "081b346f-9fc5-4586-8c13-481dfb8385f4",
   "metadata": {},
   "outputs": [
    {
     "data": {
      "text/html": [
       "<div>\n",
       "<style scoped>\n",
       "    .dataframe tbody tr th:only-of-type {\n",
       "        vertical-align: middle;\n",
       "    }\n",
       "\n",
       "    .dataframe tbody tr th {\n",
       "        vertical-align: top;\n",
       "    }\n",
       "\n",
       "    .dataframe thead th {\n",
       "        text-align: right;\n",
       "    }\n",
       "</style>\n",
       "<table border=\"1\" class=\"dataframe\">\n",
       "  <thead>\n",
       "    <tr style=\"text-align: right;\">\n",
       "      <th></th>\n",
       "      <th>TE_ID</th>\n",
       "      <th>baseMean</th>\n",
       "      <th>log2FoldChange</th>\n",
       "      <th>lfcSE</th>\n",
       "      <th>stat</th>\n",
       "      <th>pvalue</th>\n",
       "      <th>padj</th>\n",
       "      <th>element_type</th>\n",
       "      <th>TE_name</th>\n",
       "      <th>TE_index</th>\n",
       "      <th>repName</th>\n",
       "      <th>repFamily</th>\n",
       "      <th>repClass</th>\n",
       "    </tr>\n",
       "  </thead>\n",
       "  <tbody>\n",
       "    <tr>\n",
       "      <th>0</th>\n",
       "      <td>chr13|73480020|73480091|PB1D9:Alu:SINE|268|-,.</td>\n",
       "      <td>9.000885</td>\n",
       "      <td>-0.489762</td>\n",
       "      <td>0.629289</td>\n",
       "      <td>-0.778278</td>\n",
       "      <td>0.800222</td>\n",
       "      <td>1.0</td>\n",
       "      <td>TE</td>\n",
       "      <td>PB1D9:Alu:SINE</td>\n",
       "      <td>PB1D9:Alu:SINE_268</td>\n",
       "      <td>PB1D9</td>\n",
       "      <td>Alu</td>\n",
       "      <td>SINE</td>\n",
       "    </tr>\n",
       "    <tr>\n",
       "      <th>1</th>\n",
       "      <td>chr5|117467874|117468005|RSINE1:B4:SINE|183|-,.</td>\n",
       "      <td>0.730917</td>\n",
       "      <td>-2.916743</td>\n",
       "      <td>3.081604</td>\n",
       "      <td>-0.946502</td>\n",
       "      <td>0.368835</td>\n",
       "      <td>1.0</td>\n",
       "      <td>TE</td>\n",
       "      <td>RSINE1:B4:SINE</td>\n",
       "      <td>RSINE1:B4:SINE_183</td>\n",
       "      <td>RSINE1</td>\n",
       "      <td>B4</td>\n",
       "      <td>SINE</td>\n",
       "    </tr>\n",
       "  </tbody>\n",
       "</table>\n",
       "</div>"
      ],
      "text/plain": [
       "                                             TE_ID  baseMean  log2FoldChange   \n",
       "0   chr13|73480020|73480091|PB1D9:Alu:SINE|268|-,.  9.000885       -0.489762  \\\n",
       "1  chr5|117467874|117468005|RSINE1:B4:SINE|183|-,.  0.730917       -2.916743   \n",
       "\n",
       "      lfcSE      stat    pvalue  padj element_type         TE_name   \n",
       "0  0.629289 -0.778278  0.800222   1.0           TE  PB1D9:Alu:SINE  \\\n",
       "1  3.081604 -0.946502  0.368835   1.0           TE  RSINE1:B4:SINE   \n",
       "\n",
       "             TE_index repName repFamily repClass  \n",
       "0  PB1D9:Alu:SINE_268   PB1D9       Alu     SINE  \n",
       "1  RSINE1:B4:SINE_183  RSINE1        B4     SINE  "
      ]
     },
     "execution_count": 55,
     "metadata": {},
     "output_type": "execute_result"
    }
   ],
   "source": [
    "squire_indiv.head(2) # can get chr, start and end"
   ]
  },
  {
   "cell_type": "code",
   "execution_count": 72,
   "id": "e33de0b9-eef1-4cf7-ae49-c0a9385deecc",
   "metadata": {},
   "outputs": [],
   "source": [
    "new_col_names = ['genoName' , 'genoStart' , 'genoEnd', 'strand' ]\n",
    "#positions = [0,1,2,5]\n",
    "geno_df = pd.DataFrame( index = squire_indiv.index, columns= new_col_names)"
   ]
  },
  {
   "cell_type": "code",
   "execution_count": 73,
   "id": "98941384-1dc1-45a1-93a3-3de0a4ba01a4",
   "metadata": {},
   "outputs": [],
   "source": [
    "for i in squire_indiv.index:\n",
    "    te_id_ls = squire_indiv.loc[i, 'TE_ID'].split(\"|\")\n",
    "    strand = te_id_ls[5].split(\",\")[0]\n",
    "    \n",
    "    df_entry = te_id_ls[0:3] + [ strand ]\n",
    "    geno_df.loc[i] = df_entry"
   ]
  },
  {
   "cell_type": "code",
   "execution_count": 74,
   "id": "24faa47c-d9d8-4c19-a15a-2a9533040e40",
   "metadata": {},
   "outputs": [
    {
     "data": {
      "text/plain": [
       "(15235, 4)"
      ]
     },
     "execution_count": 74,
     "metadata": {},
     "output_type": "execute_result"
    }
   ],
   "source": [
    "geno_df.shape"
   ]
  },
  {
   "cell_type": "code",
   "execution_count": 75,
   "id": "d43e8e21-a1f1-43ce-8d88-8f3a76033d9c",
   "metadata": {},
   "outputs": [
    {
     "data": {
      "text/html": [
       "<div>\n",
       "<style scoped>\n",
       "    .dataframe tbody tr th:only-of-type {\n",
       "        vertical-align: middle;\n",
       "    }\n",
       "\n",
       "    .dataframe tbody tr th {\n",
       "        vertical-align: top;\n",
       "    }\n",
       "\n",
       "    .dataframe thead th {\n",
       "        text-align: right;\n",
       "    }\n",
       "</style>\n",
       "<table border=\"1\" class=\"dataframe\">\n",
       "  <thead>\n",
       "    <tr style=\"text-align: right;\">\n",
       "      <th></th>\n",
       "      <th>genoName</th>\n",
       "      <th>genoStart</th>\n",
       "      <th>genoEnd</th>\n",
       "      <th>strand</th>\n",
       "    </tr>\n",
       "  </thead>\n",
       "  <tbody>\n",
       "    <tr>\n",
       "      <th>0</th>\n",
       "      <td>chr13</td>\n",
       "      <td>73480020</td>\n",
       "      <td>73480091</td>\n",
       "      <td>-</td>\n",
       "    </tr>\n",
       "    <tr>\n",
       "      <th>1</th>\n",
       "      <td>chr5</td>\n",
       "      <td>117467874</td>\n",
       "      <td>117468005</td>\n",
       "      <td>-</td>\n",
       "    </tr>\n",
       "    <tr>\n",
       "      <th>2</th>\n",
       "      <td>chr3</td>\n",
       "      <td>96619212</td>\n",
       "      <td>96619284</td>\n",
       "      <td>+</td>\n",
       "    </tr>\n",
       "    <tr>\n",
       "      <th>3</th>\n",
       "      <td>chr15</td>\n",
       "      <td>93388865</td>\n",
       "      <td>93388965</td>\n",
       "      <td>-</td>\n",
       "    </tr>\n",
       "    <tr>\n",
       "      <th>4</th>\n",
       "      <td>chr11</td>\n",
       "      <td>94175967</td>\n",
       "      <td>94176153</td>\n",
       "      <td>-</td>\n",
       "    </tr>\n",
       "  </tbody>\n",
       "</table>\n",
       "</div>"
      ],
      "text/plain": [
       "  genoName  genoStart    genoEnd strand\n",
       "0    chr13   73480020   73480091      -\n",
       "1     chr5  117467874  117468005      -\n",
       "2     chr3   96619212   96619284      +\n",
       "3    chr15   93388865   93388965      -\n",
       "4    chr11   94175967   94176153      -"
      ]
     },
     "execution_count": 75,
     "metadata": {},
     "output_type": "execute_result"
    }
   ],
   "source": [
    "geno_df.head()"
   ]
  },
  {
   "cell_type": "code",
   "execution_count": 76,
   "id": "1bfd8cc2-3f43-41e9-9276-9f974defda30",
   "metadata": {},
   "outputs": [
    {
     "data": {
      "text/plain": [
       "array(['-', '+'], dtype=object)"
      ]
     },
     "execution_count": 76,
     "metadata": {},
     "output_type": "execute_result"
    }
   ],
   "source": [
    "geno_df['strand'].unique()"
   ]
  },
  {
   "cell_type": "code",
   "execution_count": null,
   "id": "1168308f-ef29-41b1-9c72-3c2ea59f9c64",
   "metadata": {},
   "outputs": [],
   "source": []
  },
  {
   "cell_type": "code",
   "execution_count": 77,
   "id": "1f4911f8-83eb-4b2e-a36b-2cda1f61d656",
   "metadata": {},
   "outputs": [],
   "source": [
    "squire_indiv = squire_indiv.merge( geno_df, left_index=True, right_index = True,copy = False )"
   ]
  },
  {
   "cell_type": "code",
   "execution_count": 78,
   "id": "ca7695f8-9801-40bb-b058-1fabcb840d2f",
   "metadata": {},
   "outputs": [
    {
     "data": {
      "text/html": [
       "<div>\n",
       "<style scoped>\n",
       "    .dataframe tbody tr th:only-of-type {\n",
       "        vertical-align: middle;\n",
       "    }\n",
       "\n",
       "    .dataframe tbody tr th {\n",
       "        vertical-align: top;\n",
       "    }\n",
       "\n",
       "    .dataframe thead th {\n",
       "        text-align: right;\n",
       "    }\n",
       "</style>\n",
       "<table border=\"1\" class=\"dataframe\">\n",
       "  <thead>\n",
       "    <tr style=\"text-align: right;\">\n",
       "      <th></th>\n",
       "      <th>TE_ID</th>\n",
       "      <th>baseMean</th>\n",
       "      <th>log2FoldChange</th>\n",
       "      <th>lfcSE</th>\n",
       "      <th>stat</th>\n",
       "      <th>pvalue</th>\n",
       "      <th>padj</th>\n",
       "      <th>element_type</th>\n",
       "      <th>TE_name</th>\n",
       "      <th>TE_index</th>\n",
       "      <th>repName</th>\n",
       "      <th>repFamily</th>\n",
       "      <th>repClass</th>\n",
       "      <th>genoName</th>\n",
       "      <th>genoStart</th>\n",
       "      <th>genoEnd</th>\n",
       "      <th>strand</th>\n",
       "    </tr>\n",
       "  </thead>\n",
       "  <tbody>\n",
       "    <tr>\n",
       "      <th>0</th>\n",
       "      <td>chr13|73480020|73480091|PB1D9:Alu:SINE|268|-,.</td>\n",
       "      <td>9.000885</td>\n",
       "      <td>-0.489762</td>\n",
       "      <td>0.629289</td>\n",
       "      <td>-0.778278</td>\n",
       "      <td>0.800222</td>\n",
       "      <td>1.0</td>\n",
       "      <td>TE</td>\n",
       "      <td>PB1D9:Alu:SINE</td>\n",
       "      <td>PB1D9:Alu:SINE_268</td>\n",
       "      <td>PB1D9</td>\n",
       "      <td>Alu</td>\n",
       "      <td>SINE</td>\n",
       "      <td>chr13</td>\n",
       "      <td>73480020</td>\n",
       "      <td>73480091</td>\n",
       "      <td>-</td>\n",
       "    </tr>\n",
       "    <tr>\n",
       "      <th>1</th>\n",
       "      <td>chr5|117467874|117468005|RSINE1:B4:SINE|183|-,.</td>\n",
       "      <td>0.730917</td>\n",
       "      <td>-2.916743</td>\n",
       "      <td>3.081604</td>\n",
       "      <td>-0.946502</td>\n",
       "      <td>0.368835</td>\n",
       "      <td>1.0</td>\n",
       "      <td>TE</td>\n",
       "      <td>RSINE1:B4:SINE</td>\n",
       "      <td>RSINE1:B4:SINE_183</td>\n",
       "      <td>RSINE1</td>\n",
       "      <td>B4</td>\n",
       "      <td>SINE</td>\n",
       "      <td>chr5</td>\n",
       "      <td>117467874</td>\n",
       "      <td>117468005</td>\n",
       "      <td>-</td>\n",
       "    </tr>\n",
       "    <tr>\n",
       "      <th>2</th>\n",
       "      <td>chr3|96619212|96619284|ID4:ID:SINE|194|+,.</td>\n",
       "      <td>5.772588</td>\n",
       "      <td>0.121464</td>\n",
       "      <td>0.852163</td>\n",
       "      <td>0.142536</td>\n",
       "      <td>0.942801</td>\n",
       "      <td>1.0</td>\n",
       "      <td>TE</td>\n",
       "      <td>ID4:ID:SINE</td>\n",
       "      <td>ID4:ID:SINE_194</td>\n",
       "      <td>ID4</td>\n",
       "      <td>ID</td>\n",
       "      <td>SINE</td>\n",
       "      <td>chr3</td>\n",
       "      <td>96619212</td>\n",
       "      <td>96619284</td>\n",
       "      <td>+</td>\n",
       "    </tr>\n",
       "    <tr>\n",
       "      <th>3</th>\n",
       "      <td>chr15|93388865|93388965|PB1:Alu:SINE|227|-,.</td>\n",
       "      <td>32.028966</td>\n",
       "      <td>-0.216654</td>\n",
       "      <td>0.390147</td>\n",
       "      <td>-0.555314</td>\n",
       "      <td>0.978578</td>\n",
       "      <td>1.0</td>\n",
       "      <td>TE</td>\n",
       "      <td>PB1:Alu:SINE</td>\n",
       "      <td>PB1:Alu:SINE_227</td>\n",
       "      <td>PB1</td>\n",
       "      <td>Alu</td>\n",
       "      <td>SINE</td>\n",
       "      <td>chr15</td>\n",
       "      <td>93388865</td>\n",
       "      <td>93388965</td>\n",
       "      <td>-</td>\n",
       "    </tr>\n",
       "    <tr>\n",
       "      <th>4</th>\n",
       "      <td>chr11|94175967|94176153|B2_Mm2:B2:SINE|98|-,.</td>\n",
       "      <td>7.127690</td>\n",
       "      <td>0.305487</td>\n",
       "      <td>0.591882</td>\n",
       "      <td>0.516129</td>\n",
       "      <td>0.893386</td>\n",
       "      <td>1.0</td>\n",
       "      <td>TE</td>\n",
       "      <td>B2_Mm2:B2:SINE</td>\n",
       "      <td>B2_Mm2:B2:SINE_98</td>\n",
       "      <td>B2_Mm2</td>\n",
       "      <td>B2</td>\n",
       "      <td>SINE</td>\n",
       "      <td>chr11</td>\n",
       "      <td>94175967</td>\n",
       "      <td>94176153</td>\n",
       "      <td>-</td>\n",
       "    </tr>\n",
       "  </tbody>\n",
       "</table>\n",
       "</div>"
      ],
      "text/plain": [
       "                                             TE_ID   baseMean  log2FoldChange   \n",
       "0   chr13|73480020|73480091|PB1D9:Alu:SINE|268|-,.   9.000885       -0.489762  \\\n",
       "1  chr5|117467874|117468005|RSINE1:B4:SINE|183|-,.   0.730917       -2.916743   \n",
       "2       chr3|96619212|96619284|ID4:ID:SINE|194|+,.   5.772588        0.121464   \n",
       "3     chr15|93388865|93388965|PB1:Alu:SINE|227|-,.  32.028966       -0.216654   \n",
       "4    chr11|94175967|94176153|B2_Mm2:B2:SINE|98|-,.   7.127690        0.305487   \n",
       "\n",
       "      lfcSE      stat    pvalue  padj element_type         TE_name   \n",
       "0  0.629289 -0.778278  0.800222   1.0           TE  PB1D9:Alu:SINE  \\\n",
       "1  3.081604 -0.946502  0.368835   1.0           TE  RSINE1:B4:SINE   \n",
       "2  0.852163  0.142536  0.942801   1.0           TE     ID4:ID:SINE   \n",
       "3  0.390147 -0.555314  0.978578   1.0           TE    PB1:Alu:SINE   \n",
       "4  0.591882  0.516129  0.893386   1.0           TE  B2_Mm2:B2:SINE   \n",
       "\n",
       "             TE_index repName repFamily repClass genoName  genoStart   \n",
       "0  PB1D9:Alu:SINE_268   PB1D9       Alu     SINE    chr13   73480020  \\\n",
       "1  RSINE1:B4:SINE_183  RSINE1        B4     SINE     chr5  117467874   \n",
       "2     ID4:ID:SINE_194     ID4        ID     SINE     chr3   96619212   \n",
       "3    PB1:Alu:SINE_227     PB1       Alu     SINE    chr15   93388865   \n",
       "4   B2_Mm2:B2:SINE_98  B2_Mm2        B2     SINE    chr11   94175967   \n",
       "\n",
       "     genoEnd strand  \n",
       "0   73480091      -  \n",
       "1  117468005      -  \n",
       "2   96619284      +  \n",
       "3   93388965      -  \n",
       "4   94176153      -  "
      ]
     },
     "execution_count": 78,
     "metadata": {},
     "output_type": "execute_result"
    }
   ],
   "source": [
    "squire_indiv.head()"
   ]
  },
  {
   "cell_type": "code",
   "execution_count": 134,
   "id": "49b23258-ee31-4165-94b8-e99229283b78",
   "metadata": {},
   "outputs": [
    {
     "data": {
      "text/plain": [
       "repClass\n",
       "SINE           7295\n",
       "LTR            4985\n",
       "LINE           2090\n",
       "DNA             695\n",
       "Retroposon       52\n",
       "scRNA            49\n",
       "rRNA             43\n",
       "snRNA            14\n",
       "srpRNA            9\n",
       "Unspecified       2\n",
       "tRNA              1\n",
       "Name: count, dtype: int64"
      ]
     },
     "execution_count": 134,
     "metadata": {},
     "output_type": "execute_result"
    }
   ],
   "source": [
    "squire_indiv['repClass'].value_counts()"
   ]
  },
  {
   "cell_type": "code",
   "execution_count": null,
   "id": "4f691613-f27c-4857-b682-c4e4b7918f17",
   "metadata": {},
   "outputs": [],
   "source": []
  },
  {
   "cell_type": "code",
   "execution_count": null,
   "id": "1c06a87d-c42f-4eb9-a9ab-f031a9f5a170",
   "metadata": {},
   "outputs": [],
   "source": []
  },
  {
   "cell_type": "markdown",
   "id": "a382ebca-946f-4214-acf2-e0c9d9a4ffaf",
   "metadata": {},
   "source": [
    "### extract genome location for telescope"
   ]
  },
  {
   "cell_type": "code",
   "execution_count": 79,
   "id": "36645e13-2887-4959-abd5-a5341e615a31",
   "metadata": {},
   "outputs": [
    {
     "data": {
      "text/html": [
       "<div>\n",
       "<style scoped>\n",
       "    .dataframe tbody tr th:only-of-type {\n",
       "        vertical-align: middle;\n",
       "    }\n",
       "\n",
       "    .dataframe tbody tr th {\n",
       "        vertical-align: top;\n",
       "    }\n",
       "\n",
       "    .dataframe thead th {\n",
       "        text-align: right;\n",
       "    }\n",
       "</style>\n",
       "<table border=\"1\" class=\"dataframe\">\n",
       "  <thead>\n",
       "    <tr style=\"text-align: right;\">\n",
       "      <th></th>\n",
       "      <th>transcript_id</th>\n",
       "      <th>baseMean</th>\n",
       "      <th>log2FoldChange</th>\n",
       "      <th>lfcSE</th>\n",
       "      <th>stat</th>\n",
       "      <th>pvalue</th>\n",
       "      <th>padj</th>\n",
       "      <th>repClass</th>\n",
       "      <th>repFamily</th>\n",
       "      <th>repName</th>\n",
       "      <th>name_fam</th>\n",
       "      <th>name_fam_class</th>\n",
       "    </tr>\n",
       "  </thead>\n",
       "  <tbody>\n",
       "    <tr>\n",
       "      <th>0</th>\n",
       "      <td>(A)n_15</td>\n",
       "      <td>24.106309</td>\n",
       "      <td>-0.599525</td>\n",
       "      <td>0.288728</td>\n",
       "      <td>-2.076435</td>\n",
       "      <td>0.037854</td>\n",
       "      <td>0.279189</td>\n",
       "      <td>Simple_repeat</td>\n",
       "      <td>Simple_repeat</td>\n",
       "      <td>(A)n</td>\n",
       "      <td>(A)n|Simple_repeat</td>\n",
       "      <td>(A)n|Simple_repeat|Simple_repeat</td>\n",
       "    </tr>\n",
       "    <tr>\n",
       "      <th>1</th>\n",
       "      <td>(A)n_16</td>\n",
       "      <td>51.369320</td>\n",
       "      <td>-0.115342</td>\n",
       "      <td>0.200885</td>\n",
       "      <td>-0.574169</td>\n",
       "      <td>0.565853</td>\n",
       "      <td>0.863508</td>\n",
       "      <td>Simple_repeat</td>\n",
       "      <td>Simple_repeat</td>\n",
       "      <td>(A)n</td>\n",
       "      <td>(A)n|Simple_repeat</td>\n",
       "      <td>(A)n|Simple_repeat|Simple_repeat</td>\n",
       "    </tr>\n",
       "  </tbody>\n",
       "</table>\n",
       "</div>"
      ],
      "text/plain": [
       "  transcript_id   baseMean  log2FoldChange     lfcSE      stat    pvalue   \n",
       "0       (A)n_15  24.106309       -0.599525  0.288728 -2.076435  0.037854  \\\n",
       "1       (A)n_16  51.369320       -0.115342  0.200885 -0.574169  0.565853   \n",
       "\n",
       "       padj       repClass      repFamily repName            name_fam   \n",
       "0  0.279189  Simple_repeat  Simple_repeat    (A)n  (A)n|Simple_repeat  \\\n",
       "1  0.863508  Simple_repeat  Simple_repeat    (A)n  (A)n|Simple_repeat   \n",
       "\n",
       "                     name_fam_class  \n",
       "0  (A)n|Simple_repeat|Simple_repeat  \n",
       "1  (A)n|Simple_repeat|Simple_repeat  "
      ]
     },
     "execution_count": 79,
     "metadata": {},
     "output_type": "execute_result"
    }
   ],
   "source": [
    "tele_indiv.head( 2)\n",
    "# chromosome location need to be mapped from the rmsk table"
   ]
  },
  {
   "cell_type": "code",
   "execution_count": 80,
   "id": "f1e1b3bb-4fc4-4b19-b778-29619edbd69a",
   "metadata": {},
   "outputs": [],
   "source": [
    "tele_rmsk = pd.read_csv(\"./mm39_rmsk_full.tsv\", header = 0, index_col = None, delimiter= '\\t' )"
   ]
  },
  {
   "cell_type": "code",
   "execution_count": 81,
   "id": "61fa06ab-fcf9-4732-bd64-df4d74a6718c",
   "metadata": {},
   "outputs": [
    {
     "data": {
      "text/html": [
       "<div>\n",
       "<style scoped>\n",
       "    .dataframe tbody tr th:only-of-type {\n",
       "        vertical-align: middle;\n",
       "    }\n",
       "\n",
       "    .dataframe tbody tr th {\n",
       "        vertical-align: top;\n",
       "    }\n",
       "\n",
       "    .dataframe thead th {\n",
       "        text-align: right;\n",
       "    }\n",
       "</style>\n",
       "<table border=\"1\" class=\"dataframe\">\n",
       "  <thead>\n",
       "    <tr style=\"text-align: right;\">\n",
       "      <th></th>\n",
       "      <th>#bin</th>\n",
       "      <th>swScore</th>\n",
       "      <th>milliDiv</th>\n",
       "      <th>milliDel</th>\n",
       "      <th>milliIns</th>\n",
       "      <th>genoName</th>\n",
       "      <th>genoStart</th>\n",
       "      <th>genoEnd</th>\n",
       "      <th>genoLeft</th>\n",
       "      <th>strand</th>\n",
       "      <th>repName</th>\n",
       "      <th>repClass</th>\n",
       "      <th>repFamily</th>\n",
       "      <th>repStart</th>\n",
       "      <th>repEnd</th>\n",
       "      <th>repLeft</th>\n",
       "      <th>id</th>\n",
       "    </tr>\n",
       "  </thead>\n",
       "  <tbody>\n",
       "    <tr>\n",
       "      <th>0</th>\n",
       "      <td>1</td>\n",
       "      <td>3777</td>\n",
       "      <td>194</td>\n",
       "      <td>105</td>\n",
       "      <td>11</td>\n",
       "      <td>chr1</td>\n",
       "      <td>8387806</td>\n",
       "      <td>8388657</td>\n",
       "      <td>-186765622</td>\n",
       "      <td>+</td>\n",
       "      <td>Lx2B2</td>\n",
       "      <td>LINE</td>\n",
       "      <td>L1</td>\n",
       "      <td>5997</td>\n",
       "      <td>7041</td>\n",
       "      <td>-8</td>\n",
       "      <td>7</td>\n",
       "    </tr>\n",
       "    <tr>\n",
       "      <th>1</th>\n",
       "      <td>1</td>\n",
       "      <td>595</td>\n",
       "      <td>269</td>\n",
       "      <td>47</td>\n",
       "      <td>47</td>\n",
       "      <td>chr1</td>\n",
       "      <td>41942994</td>\n",
       "      <td>41943142</td>\n",
       "      <td>-153211137</td>\n",
       "      <td>+</td>\n",
       "      <td>B3</td>\n",
       "      <td>SINE</td>\n",
       "      <td>B2</td>\n",
       "      <td>4</td>\n",
       "      <td>151</td>\n",
       "      <td>-65</td>\n",
       "      <td>6</td>\n",
       "    </tr>\n",
       "  </tbody>\n",
       "</table>\n",
       "</div>"
      ],
      "text/plain": [
       "   #bin  swScore  milliDiv  milliDel  milliIns genoName  genoStart   genoEnd   \n",
       "0     1     3777       194       105        11     chr1    8387806   8388657  \\\n",
       "1     1      595       269        47        47     chr1   41942994  41943142   \n",
       "\n",
       "    genoLeft strand repName repClass repFamily  repStart  repEnd  repLeft  id  \n",
       "0 -186765622      +   Lx2B2     LINE        L1      5997    7041       -8   7  \n",
       "1 -153211137      +      B3     SINE        B2         4     151      -65   6  "
      ]
     },
     "execution_count": 81,
     "metadata": {},
     "output_type": "execute_result"
    }
   ],
   "source": [
    "tele_rmsk.head(2)"
   ]
  },
  {
   "cell_type": "code",
   "execution_count": 82,
   "id": "9aa0d2da-dddf-4202-b2fc-c4e3f4d68a6c",
   "metadata": {},
   "outputs": [],
   "source": [
    "transcript_id = tele_rmsk['repName'] + '_' + tele_rmsk['swScore'].astype( str)"
   ]
  },
  {
   "cell_type": "code",
   "execution_count": 83,
   "id": "8533efcb-12df-42b0-b432-26e8e854f6ec",
   "metadata": {},
   "outputs": [
    {
     "data": {
      "text/plain": [
       "'Lx2B2_3777'"
      ]
     },
     "execution_count": 83,
     "metadata": {},
     "output_type": "execute_result"
    }
   ],
   "source": [
    "transcript_id[0]"
   ]
  },
  {
   "cell_type": "code",
   "execution_count": 84,
   "id": "66e253af-78be-4726-b70e-f60cb9572bee",
   "metadata": {},
   "outputs": [],
   "source": [
    "tele_rmsk['transcript_id'] = transcript_id"
   ]
  },
  {
   "cell_type": "code",
   "execution_count": 91,
   "id": "334a8f71-9149-4bb0-9ce9-2081c51d3203",
   "metadata": {},
   "outputs": [
    {
     "data": {
      "text/plain": [
       "(186774, 12)"
      ]
     },
     "execution_count": 91,
     "metadata": {},
     "output_type": "execute_result"
    }
   ],
   "source": [
    "tele_indiv.shape"
   ]
  },
  {
   "cell_type": "code",
   "execution_count": 93,
   "id": "f77a47b0-ad7f-449e-99ad-7396502f2cef",
   "metadata": {},
   "outputs": [],
   "source": [
    "tele_indiv_geno = tele_indiv.merge( right = tele_rmsk[[ 'transcript_id' , 'genoName' , 'genoStart' , 'genoEnd', 'strand']], left_on = 'transcript_id', right_on = 'transcript_id',  )"
   ]
  },
  {
   "cell_type": "code",
   "execution_count": 94,
   "id": "3ab2dd84-905c-4004-8e77-73260da2b623",
   "metadata": {},
   "outputs": [
    {
     "data": {
      "text/plain": [
       "(3744343, 16)"
      ]
     },
     "execution_count": 94,
     "metadata": {},
     "output_type": "execute_result"
    }
   ],
   "source": [
    "tele_indiv_geno.shape"
   ]
  },
  {
   "cell_type": "code",
   "execution_count": 95,
   "id": "6f4c5496-d7db-4250-8cf6-27f8456b0f17",
   "metadata": {},
   "outputs": [
    {
     "data": {
      "text/plain": [
       "186774"
      ]
     },
     "execution_count": 95,
     "metadata": {},
     "output_type": "execute_result"
    }
   ],
   "source": [
    "len( tele_indiv_geno['transcript_id'].unique() )"
   ]
  },
  {
   "cell_type": "code",
   "execution_count": 96,
   "id": "57e82389-0f98-4e86-ba46-09a686fffe42",
   "metadata": {},
   "outputs": [
    {
     "data": {
      "text/plain": [
       "array(['Simple_repeat', 'scRNA', 'rRNA', 'snRNA', 'srpRNA',\n",
       "       'Low_complexity', 'DNA', 'LINE', 'SINE', 'LTR', 'Satellite', 'RC',\n",
       "       'Unknown', 'Retroposon', 'Unspecified', 'tRNA'], dtype=object)"
      ]
     },
     "execution_count": 96,
     "metadata": {},
     "output_type": "execute_result"
    }
   ],
   "source": [
    "tele_indiv_geno[ tele_indiv_geno['transcript_id'].duplicated() ]['repClass'].unique()"
   ]
  },
  {
   "cell_type": "code",
   "execution_count": 97,
   "id": "468f12d9-389c-4217-b11a-8a2710f19790",
   "metadata": {},
   "outputs": [],
   "source": [
    "tele_indiv_geno = tele_indiv_geno[ ~np.isin( tele_indiv_geno['repClass'] , ['Simple_repeat' , 'Low_complexity' , 'Unknown' , 'Unspecified'] )]"
   ]
  },
  {
   "cell_type": "code",
   "execution_count": 98,
   "id": "d34e67f6-ec68-4695-a1a2-ad8ddf8ab1d9",
   "metadata": {},
   "outputs": [
    {
     "data": {
      "text/plain": [
       "(2522282, 16)"
      ]
     },
     "execution_count": 98,
     "metadata": {},
     "output_type": "execute_result"
    }
   ],
   "source": [
    "tele_indiv_geno.shape"
   ]
  },
  {
   "cell_type": "code",
   "execution_count": 99,
   "id": "6d071489-ea8b-4f74-a17a-153e4435e9ad",
   "metadata": {
    "collapsed": true,
    "jupyter": {
     "outputs_hidden": true
    }
   },
   "outputs": [
    {
     "data": {
      "text/html": [
       "<div>\n",
       "<style scoped>\n",
       "    .dataframe tbody tr th:only-of-type {\n",
       "        vertical-align: middle;\n",
       "    }\n",
       "\n",
       "    .dataframe tbody tr th {\n",
       "        vertical-align: top;\n",
       "    }\n",
       "\n",
       "    .dataframe thead th {\n",
       "        text-align: right;\n",
       "    }\n",
       "</style>\n",
       "<table border=\"1\" class=\"dataframe\">\n",
       "  <thead>\n",
       "    <tr style=\"text-align: right;\">\n",
       "      <th></th>\n",
       "      <th>transcript_id</th>\n",
       "      <th>baseMean</th>\n",
       "      <th>log2FoldChange</th>\n",
       "      <th>lfcSE</th>\n",
       "      <th>stat</th>\n",
       "      <th>pvalue</th>\n",
       "      <th>padj</th>\n",
       "      <th>repClass</th>\n",
       "      <th>repFamily</th>\n",
       "      <th>repName</th>\n",
       "      <th>name_fam</th>\n",
       "      <th>name_fam_class</th>\n",
       "      <th>genoName</th>\n",
       "      <th>genoStart</th>\n",
       "      <th>genoEnd</th>\n",
       "      <th>strand</th>\n",
       "    </tr>\n",
       "  </thead>\n",
       "  <tbody>\n",
       "    <tr>\n",
       "      <th>1064900</th>\n",
       "      <td>4.5SRNA_226</td>\n",
       "      <td>0.840241</td>\n",
       "      <td>-0.411335</td>\n",
       "      <td>2.059217</td>\n",
       "      <td>-0.199753</td>\n",
       "      <td>0.841674</td>\n",
       "      <td>NaN</td>\n",
       "      <td>scRNA</td>\n",
       "      <td>scRNA</td>\n",
       "      <td>4.5SRNA</td>\n",
       "      <td>4.5SRNA|scRNA</td>\n",
       "      <td>4.5SRNA|scRNA|scRNA</td>\n",
       "      <td>chr2</td>\n",
       "      <td>146494727</td>\n",
       "      <td>146494784</td>\n",
       "      <td>-</td>\n",
       "    </tr>\n",
       "    <tr>\n",
       "      <th>1064901</th>\n",
       "      <td>4.5SRNA_226</td>\n",
       "      <td>0.840241</td>\n",
       "      <td>-0.411335</td>\n",
       "      <td>2.059217</td>\n",
       "      <td>-0.199753</td>\n",
       "      <td>0.841674</td>\n",
       "      <td>NaN</td>\n",
       "      <td>scRNA</td>\n",
       "      <td>scRNA</td>\n",
       "      <td>4.5SRNA</td>\n",
       "      <td>4.5SRNA|scRNA</td>\n",
       "      <td>4.5SRNA|scRNA|scRNA</td>\n",
       "      <td>chr3</td>\n",
       "      <td>93437305</td>\n",
       "      <td>93437355</td>\n",
       "      <td>-</td>\n",
       "    </tr>\n",
       "    <tr>\n",
       "      <th>1064902</th>\n",
       "      <td>4.5SRNA_226</td>\n",
       "      <td>0.840241</td>\n",
       "      <td>-0.411335</td>\n",
       "      <td>2.059217</td>\n",
       "      <td>-0.199753</td>\n",
       "      <td>0.841674</td>\n",
       "      <td>NaN</td>\n",
       "      <td>scRNA</td>\n",
       "      <td>scRNA</td>\n",
       "      <td>4.5SRNA</td>\n",
       "      <td>4.5SRNA|scRNA</td>\n",
       "      <td>4.5SRNA|scRNA|scRNA</td>\n",
       "      <td>chr3</td>\n",
       "      <td>105768897</td>\n",
       "      <td>105768944</td>\n",
       "      <td>+</td>\n",
       "    </tr>\n",
       "    <tr>\n",
       "      <th>1064903</th>\n",
       "      <td>4.5SRNA_226</td>\n",
       "      <td>0.840241</td>\n",
       "      <td>-0.411335</td>\n",
       "      <td>2.059217</td>\n",
       "      <td>-0.199753</td>\n",
       "      <td>0.841674</td>\n",
       "      <td>NaN</td>\n",
       "      <td>scRNA</td>\n",
       "      <td>scRNA</td>\n",
       "      <td>4.5SRNA</td>\n",
       "      <td>4.5SRNA|scRNA</td>\n",
       "      <td>4.5SRNA|scRNA|scRNA</td>\n",
       "      <td>chr3</td>\n",
       "      <td>147258559</td>\n",
       "      <td>147258599</td>\n",
       "      <td>+</td>\n",
       "    </tr>\n",
       "    <tr>\n",
       "      <th>1064904</th>\n",
       "      <td>4.5SRNA_226</td>\n",
       "      <td>0.840241</td>\n",
       "      <td>-0.411335</td>\n",
       "      <td>2.059217</td>\n",
       "      <td>-0.199753</td>\n",
       "      <td>0.841674</td>\n",
       "      <td>NaN</td>\n",
       "      <td>scRNA</td>\n",
       "      <td>scRNA</td>\n",
       "      <td>4.5SRNA</td>\n",
       "      <td>4.5SRNA|scRNA</td>\n",
       "      <td>4.5SRNA|scRNA|scRNA</td>\n",
       "      <td>chr4</td>\n",
       "      <td>120450129</td>\n",
       "      <td>120450191</td>\n",
       "      <td>-</td>\n",
       "    </tr>\n",
       "  </tbody>\n",
       "</table>\n",
       "</div>"
      ],
      "text/plain": [
       "        transcript_id  baseMean  log2FoldChange     lfcSE      stat    pvalue   \n",
       "1064900   4.5SRNA_226  0.840241       -0.411335  2.059217 -0.199753  0.841674  \\\n",
       "1064901   4.5SRNA_226  0.840241       -0.411335  2.059217 -0.199753  0.841674   \n",
       "1064902   4.5SRNA_226  0.840241       -0.411335  2.059217 -0.199753  0.841674   \n",
       "1064903   4.5SRNA_226  0.840241       -0.411335  2.059217 -0.199753  0.841674   \n",
       "1064904   4.5SRNA_226  0.840241       -0.411335  2.059217 -0.199753  0.841674   \n",
       "\n",
       "         padj repClass repFamily  repName       name_fam       name_fam_class   \n",
       "1064900   NaN    scRNA     scRNA  4.5SRNA  4.5SRNA|scRNA  4.5SRNA|scRNA|scRNA  \\\n",
       "1064901   NaN    scRNA     scRNA  4.5SRNA  4.5SRNA|scRNA  4.5SRNA|scRNA|scRNA   \n",
       "1064902   NaN    scRNA     scRNA  4.5SRNA  4.5SRNA|scRNA  4.5SRNA|scRNA|scRNA   \n",
       "1064903   NaN    scRNA     scRNA  4.5SRNA  4.5SRNA|scRNA  4.5SRNA|scRNA|scRNA   \n",
       "1064904   NaN    scRNA     scRNA  4.5SRNA  4.5SRNA|scRNA  4.5SRNA|scRNA|scRNA   \n",
       "\n",
       "        genoName  genoStart    genoEnd strand  \n",
       "1064900     chr2  146494727  146494784      -  \n",
       "1064901     chr3   93437305   93437355      -  \n",
       "1064902     chr3  105768897  105768944      +  \n",
       "1064903     chr3  147258559  147258599      +  \n",
       "1064904     chr4  120450129  120450191      -  "
      ]
     },
     "execution_count": 99,
     "metadata": {},
     "output_type": "execute_result"
    }
   ],
   "source": [
    "tele_indiv_geno.head()"
   ]
  },
  {
   "cell_type": "code",
   "execution_count": null,
   "id": "fb2c0da1-242f-4285-aff3-75dbae38f57e",
   "metadata": {},
   "outputs": [],
   "source": []
  },
  {
   "cell_type": "markdown",
   "id": "197bec18-7e33-4b26-a73d-be727c4708b4",
   "metadata": {},
   "source": [
    "### write a function to check genome location overlap"
   ]
  },
  {
   "cell_type": "code",
   "execution_count": 7,
   "id": "6931562f-621b-4728-9c5b-8f49c0f5a672",
   "metadata": {},
   "outputs": [],
   "source": [
    "#' chr10 '.strip()"
   ]
  },
  {
   "cell_type": "code",
   "execution_count": 29,
   "id": "8d8831cb-a9f3-4d63-b94b-9e361c3dd563",
   "metadata": {},
   "outputs": [],
   "source": [
    "def genome_overlap( loc1, loc2, check_strand = False, \n",
    "                   check_num_overlap = True, num_overlap_thresh = 20, \n",
    "                   check_pct_overlap = False, pct_overlap_thresh = 0.1):\n",
    "    \"\"\"This function checks if the two input genome location has overlap.\n",
    "    It can check either by the absolute number of overlapped base, \n",
    "    or the pct overlap, where pct is by the length of the shorter sequence\n",
    "    \n",
    "    @param loc1, loc2: should be in form of list [chr, start, end, strand]\n",
    "    @param check_strand: taking into account the strand information when comparing genome location overlap \n",
    "    @param check_num_overlap, check_pct_overlap: boolean to set to decide which method to use\n",
    "    @param num_overlap: the absolute number of bases to threshold for overlap if check_num_overlap set True. Uses >= comparison.\n",
    "    @param pct_overlap: the fraction ( decimal between 0 to 1) of the shorter sequence to threshold for overlap. Uses >= comparison\"\"\"\n",
    "\n",
    "    # digit of the corresponding genome position numbers in the input loc list\n",
    "    CHR = 0\n",
    "    STA = 1\n",
    "    END = 2\n",
    "    STR = 3\n",
    "    \n",
    "    if( check_num_overlap or check_pct_overlap): # check if at least one threshold method is chosen\n",
    "        \n",
    "        if( check_num_overlap == check_pct_overlap ): # check if all methods are chosen\n",
    "            print( \"Choose one threshold method please\")\n",
    "            return\n",
    "    else:\n",
    "        print( \"Choose at least one threshold method please\" )\n",
    "        return\n",
    "\n",
    "    if( len( loc1) !=4 or len( loc2) !=4):\n",
    "        print( \"the location list should have 4 elements: Chromosome, Start, End, Strand\" )\n",
    "        return False\n",
    "\n",
    "    # check if in the same chromosome\n",
    "    if( (loc1[CHR]).strip() != (loc2[CHR]).strip() ): \n",
    "        return False\n",
    "\n",
    "    # check if all elements has >0 length\n",
    "    if( (loc1[END] - loc1[STA]) == 0): return\n",
    "    if( (loc2[END] - loc2[STA]) == 0): return\n",
    "\n",
    "    # check if enough overlap starting from here\n",
    "\n",
    "    # sort the fragment based on ascending genome location number\n",
    "    # just arbitrarily assign here as if loc1 has the smaller start position\n",
    "    seq1s = loc1[STA]\n",
    "    seq1e = loc1[END]\n",
    "    seq2s = loc2[STA]\n",
    "    seq2e = loc2[END]\n",
    "    \n",
    "    if( loc1[STA] > loc2[STA] ): # compare and flip if loc1 has a larger start position\n",
    "        seq1s = loc2[STA]\n",
    "        seq1e = loc2[END]\n",
    "        seq2s = loc1[STA]\n",
    "        seq2e = loc1[END]\n",
    "\n",
    "    if( seq2s >= seq1e ):\n",
    "        return False # no overlap \n",
    "\n",
    "    \n",
    "    #if have overlap, check threshold here\n",
    "\n",
    "    # check stranding agreement here\n",
    "    if( check_strand):\n",
    "        if( loc1[STR] != loc2[STR ] ):\n",
    "            return False\n",
    "    \n",
    "    if( seq2e <= seq1e ): # test if one sequence is a subset of the other sequence ( one long seq contains another shorter seq)\n",
    "        #print( f'Overlaping sequence: {loc1}, {loc2}')\n",
    "        return True\n",
    "\n",
    "    #get number of overlap \n",
    "    num_overlap = seq1e - seq2s\n",
    "\n",
    "    if ( check_num_overlap):\n",
    "        return ( num_overlap >= num_overlap_thresh )\n",
    "    else:\n",
    "        seq1_len = seq1e - seq1s\n",
    "        seq2_len = seq2e - seq2s\n",
    "        shorter_len = min( seq1_len, seq2_len)\n",
    "        return ( ( num_overlap/float(shorter_len) ) >= pct_overlap_thresh )\n",
    "    \n",
    "        \n",
    "\n",
    "    \n",
    "        "
   ]
  },
  {
   "cell_type": "code",
   "execution_count": null,
   "id": "d3836735-9d97-4378-8a8c-03ab65993119",
   "metadata": {},
   "outputs": [],
   "source": []
  },
  {
   "cell_type": "markdown",
   "id": "1b955960-f0a4-483f-9902-37fc3326d8d4",
   "metadata": {},
   "source": [
    "### test the function"
   ]
  },
  {
   "cell_type": "code",
   "execution_count": 30,
   "id": "1ac24f5a-1383-41c3-b391-068fd3ce88a1",
   "metadata": {},
   "outputs": [],
   "source": [
    "def test_wrapper( loc1, loc2,\n",
    "                 thresh_num_bool_ls, expected_res_ls,\n",
    "                 test_name = 'Current test', \n",
    "                 check_strand = False ):\n",
    "    \"\"\" This is a wrapper function to do the test with a given input test set. Each set of locations will be tested in both order and requires both order to pass.\n",
    "    @param loc1, loc2: the genome locations to be tested\n",
    "    @param thresh_num_bool_ls: a list of boolean to indicate which threshold method will be used. True if test number threshold only, False if test pct threshold. Will loop through each element.\n",
    "    @param expected_res_ls: the expected result ls to be compared for assertion. Should match both the length and result for the thresh_num_bool_ls\n",
    "    @param: test_name: test case name\n",
    "\n",
    "    @return: None, but will print out assert message\"\"\"\n",
    "\n",
    "    print( f\"Testting {test_name} now: \")\n",
    "\n",
    "    for i,thr in enumerate( thresh_num_bool_ls):\n",
    "        res_order = genome_overlap( loc1, loc2, check_num_overlap = thr, check_pct_overlap = ( ~ thr), check_strand = check_strand )\n",
    "        res_oppo_order = genome_overlap( loc2, loc1, check_num_overlap = thr, check_pct_overlap = ( ~ thr), check_strand = check_strand )\n",
    "\n",
    "        print( '\\ttesting reorder result consistency')\n",
    "        assert (res_order == res_oppo_order), f\"At threshold_num = {thr} condition, reorder genome location yield different result\"\n",
    "        \n",
    "        print( '\\ttesting output and expected value consistency')\n",
    "        assert res_order == expected_res_ls[i], f\"At threshold_num = {thr} condition, expected {expected_res_ls[i]}, but output is {res_order}\"\n",
    "\n",
    "    print( f\"Pass! for {test_name}\\n\")"
   ]
  },
  {
   "cell_type": "code",
   "execution_count": 104,
   "id": "3c5cdb8f-d92f-4998-a3c2-90bfe7c4fb8b",
   "metadata": {},
   "outputs": [],
   "source": [
    "# test genome locations\n",
    "\n",
    "# test1: two non-overlapping seq\n",
    "# test1a: diff chrome but overlapping seq\n",
    "t1a_loc1 = [ 'chr2', 100, 200 , '+'] \n",
    "t1a_loc2 = ['chr3', 101, 201 , '+']\n",
    "t1a_expect = [ False, False ] \n",
    "t1a_thresh_num = [ True, False ] # test both thresholding method ( whether thresh num or not) \n",
    "\n",
    "# test1b: same chrome but non-overlapping\n",
    "t1b_loc1 = [ 'chr2', 100, 200 , '+'] \n",
    "t1b_loc2 = ['chr2', 200 , 300, '+']\n",
    "t1b_expect = False, False\n",
    "t1b_thresh_num = [ True, False ]\n",
    "\n",
    "# test2: small overlap not passing num or pct thresh\n",
    "t2_loc1 = [ 'chr2', 100, 200, '+' ]\n",
    "t2_loc2 = ['chr2', 195, 295, '+']\n",
    "t2_expect = False, False\n",
    "t2_thresh_num = [ True, False ]\n",
    "\n",
    "# test3: small overlap passing num but not pct thresh\n",
    "t3a_loc1 = ['chr2' , 100, 600, '+']\n",
    "t3a_loc2 = [ 'chr2' , 575, 875, '+' ]\n",
    "t3a_expect = [ True, False ]\n",
    "t3a_thresh_num = [ True, False ] "
   ]
  },
  {
   "cell_type": "code",
   "execution_count": 105,
   "id": "ad94081f-cfdc-474c-8879-1128a8bcc333",
   "metadata": {},
   "outputs": [
    {
     "name": "stdout",
     "output_type": "stream",
     "text": [
      "Testting Test_1a now: \n",
      "\ttesting reorder result consistency\n",
      "\ttesting output and expected value consistency\n",
      "\ttesting reorder result consistency\n",
      "\ttesting output and expected value consistency\n",
      "Pass! for Test_1a\n",
      "\n"
     ]
    }
   ],
   "source": [
    "test_wrapper( t1a_loc1, t1a_loc2, thresh_num_bool_ls = t1a_thresh_num, expected_res_ls = t1a_expect,\n",
    "             test_name = 'Test_1a' )"
   ]
  },
  {
   "cell_type": "code",
   "execution_count": 106,
   "id": "95eb3098-5d62-4970-b199-7f8ada275a68",
   "metadata": {},
   "outputs": [
    {
     "name": "stdout",
     "output_type": "stream",
     "text": [
      "Testting Test_1b now: \n",
      "\ttesting reorder result consistency\n",
      "\ttesting output and expected value consistency\n",
      "\ttesting reorder result consistency\n",
      "\ttesting output and expected value consistency\n",
      "Pass! for Test_1b\n",
      "\n"
     ]
    }
   ],
   "source": [
    "test_wrapper( t1b_loc1, t1b_loc2, thresh_num_bool_ls = t1b_thresh_num, expected_res_ls = t1b_expect,\n",
    "             test_name = 'Test_1b' )"
   ]
  },
  {
   "cell_type": "code",
   "execution_count": 107,
   "id": "8b69a45e-87ae-4a21-8871-324f434c0513",
   "metadata": {},
   "outputs": [
    {
     "name": "stdout",
     "output_type": "stream",
     "text": [
      "Testting Test_2 now: \n",
      "\ttesting reorder result consistency\n",
      "\ttesting output and expected value consistency\n",
      "\ttesting reorder result consistency\n",
      "\ttesting output and expected value consistency\n",
      "Pass! for Test_2\n",
      "\n",
      "Testting Test_3 now: \n",
      "\ttesting reorder result consistency\n",
      "\ttesting output and expected value consistency\n",
      "\ttesting reorder result consistency\n",
      "\ttesting output and expected value consistency\n",
      "Pass! for Test_3\n",
      "\n"
     ]
    }
   ],
   "source": [
    "test_wrapper( t2_loc1, t2_loc2, thresh_num_bool_ls = t2_thresh_num, expected_res_ls = t2_expect,\n",
    "             test_name = 'Test_2' )\n",
    "test_wrapper( t3a_loc1, t3a_loc2, thresh_num_bool_ls = t3a_thresh_num, expected_res_ls = t3a_expect,\n",
    "             test_name = 'Test_3' )"
   ]
  },
  {
   "cell_type": "code",
   "execution_count": 116,
   "id": "3a481ff8-c049-4c51-baba-d7b313916e09",
   "metadata": {},
   "outputs": [],
   "source": [
    "# test4: small overlap passing pct but not thresh\n",
    "t4_loc1 = ['chr2' , 100, 400, '+']\n",
    "t4_loc2 = ['chr2' , 390, 450, '+']\n",
    "\n",
    "t4_expect = False, True\n",
    "t4_thresh_num = [True, False ] \n",
    "\n",
    "# t4b_expect = True\n",
    "# t4b_thresh_num = [ False ] \n",
    "\n",
    "# test5: big overlap passing both\n",
    "t5_loc1 = ['chr10' , 500, 700, '+' ] \n",
    "t5_loc2 = ['chr10' , 510, 720 , '+'] \n",
    "t5_expect = True, True\n",
    "t5_thresh_num = [ True, False ]\n",
    "\n",
    "# test6: one seq is the subset of another seq \n",
    "t6a_loc1 = [ 'chr10', 500, 700, '+' ] # long enough overlap passing the thresholds\n",
    "t6a_loc2 = [ 'chr10', 600, 690, '+' ]\n",
    "\n",
    "t6b_loc1 = [ 'chr10', 500, 700, '+' ] # short overlap that could overwise not passing threshold if not being a subset\n",
    "t6b_loc2 = [ 'chr10', 600, 605, '+' ]\n",
    "\n",
    "t6_expect = True, True\n",
    "t6_thresh_num = [ True, False ]"
   ]
  },
  {
   "cell_type": "code",
   "execution_count": 119,
   "id": "7769f214-d6dd-4715-92de-ae3474c1adcb",
   "metadata": {},
   "outputs": [
    {
     "name": "stdout",
     "output_type": "stream",
     "text": [
      "Testting Test_4 now: \n",
      "\ttesting reorder result consistency\n",
      "\ttesting output and expected value consistency\n",
      "\ttesting reorder result consistency\n",
      "\ttesting output and expected value consistency\n",
      "Pass! for Test_4\n",
      "\n",
      "Testting Test_5 now: \n",
      "\ttesting reorder result consistency\n",
      "\ttesting output and expected value consistency\n",
      "\ttesting reorder result consistency\n",
      "\ttesting output and expected value consistency\n",
      "Pass! for Test_5\n",
      "\n"
     ]
    }
   ],
   "source": [
    "test_wrapper( t4_loc1, t4_loc2, thresh_num_bool_ls = t4_thresh_num, expected_res_ls = t4_expect,\n",
    "             test_name = 'Test_4' )\n",
    "test_wrapper( t5_loc1, t5_loc2, thresh_num_bool_ls = t5_thresh_num, expected_res_ls = t5_expect,\n",
    "             test_name = 'Test_5' )"
   ]
  },
  {
   "cell_type": "code",
   "execution_count": 120,
   "id": "479c45f8-d72e-45c9-bdde-43cb5ece4359",
   "metadata": {},
   "outputs": [
    {
     "name": "stdout",
     "output_type": "stream",
     "text": [
      "Testting Test_6a now: \n",
      "Overlaping sequence: ['chr10', 500, 700, '+'], ['chr10', 600, 690, '+']\n",
      "Overlaping sequence: ['chr10', 600, 690, '+'], ['chr10', 500, 700, '+']\n",
      "\ttesting reorder result consistency\n",
      "\ttesting output and expected value consistency\n",
      "Overlaping sequence: ['chr10', 500, 700, '+'], ['chr10', 600, 690, '+']\n",
      "Overlaping sequence: ['chr10', 600, 690, '+'], ['chr10', 500, 700, '+']\n",
      "\ttesting reorder result consistency\n",
      "\ttesting output and expected value consistency\n",
      "Pass! for Test_6a\n",
      "\n",
      "Testting Test_6b now: \n",
      "Overlaping sequence: ['chr10', 500, 700, '+'], ['chr10', 600, 605, '+']\n",
      "Overlaping sequence: ['chr10', 600, 605, '+'], ['chr10', 500, 700, '+']\n",
      "\ttesting reorder result consistency\n",
      "\ttesting output and expected value consistency\n",
      "Overlaping sequence: ['chr10', 500, 700, '+'], ['chr10', 600, 605, '+']\n",
      "Overlaping sequence: ['chr10', 600, 605, '+'], ['chr10', 500, 700, '+']\n",
      "\ttesting reorder result consistency\n",
      "\ttesting output and expected value consistency\n",
      "Pass! for Test_6b\n",
      "\n"
     ]
    }
   ],
   "source": [
    "test_wrapper( t6a_loc1, t6a_loc2, thresh_num_bool_ls = t6_thresh_num, expected_res_ls = t6_expect,\n",
    "             test_name = 'Test_6a' )\n",
    "test_wrapper( t6b_loc1, t6b_loc2, thresh_num_bool_ls = t6_thresh_num, expected_res_ls = t6_expect,\n",
    "             test_name = 'Test_6b' )"
   ]
  },
  {
   "cell_type": "code",
   "execution_count": 124,
   "id": "62c541bf-d304-4b6a-b165-4dd15c862c22",
   "metadata": {},
   "outputs": [],
   "source": [
    "# test7: if diff strand but overlapping location\n",
    "t7_loc1 = ['chr10' , 500, 700, '+' ] \n",
    "t7_loc2 = ['chr10' , 510, 720 , '-']\n",
    "\n",
    "t7_thresh_num = [ True, False ]\n",
    "\n",
    "t7a_expect = [True, True] # not checking strand\n",
    "t7b_expect = [False, False] # checking strand"
   ]
  },
  {
   "cell_type": "code",
   "execution_count": 126,
   "id": "1eb17ddd-ff9d-4607-8656-377bf0d97ccc",
   "metadata": {},
   "outputs": [
    {
     "name": "stdout",
     "output_type": "stream",
     "text": [
      "Testting Test_7a now: \n",
      "\ttesting reorder result consistency\n",
      "\ttesting output and expected value consistency\n",
      "\ttesting reorder result consistency\n",
      "\ttesting output and expected value consistency\n",
      "Pass! for Test_7a\n",
      "\n",
      "Testting Test_7b now: \n",
      "\ttesting reorder result consistency\n",
      "\ttesting output and expected value consistency\n",
      "\ttesting reorder result consistency\n",
      "\ttesting output and expected value consistency\n",
      "Pass! for Test_7b\n",
      "\n"
     ]
    }
   ],
   "source": [
    "test_wrapper( t7_loc1, t7_loc2, thresh_num_bool_ls = t7_thresh_num, expected_res_ls = t7a_expect,\n",
    "             test_name = 'Test_7a' , check_strand= False)\n",
    "\n",
    "test_wrapper( t7_loc1, t7_loc2, thresh_num_bool_ls = t7_thresh_num, expected_res_ls = t7b_expect,\n",
    "             test_name = 'Test_7b' , check_strand= True)"
   ]
  },
  {
   "cell_type": "code",
   "execution_count": null,
   "id": "dd7a14fb-1bc1-4409-b2d5-62b93692fcfe",
   "metadata": {},
   "outputs": [],
   "source": []
  },
  {
   "cell_type": "code",
   "execution_count": null,
   "id": "e12c4e84-41ac-45b6-a132-9aa3e8eacdfd",
   "metadata": {},
   "outputs": [],
   "source": []
  },
  {
   "cell_type": "markdown",
   "id": "9ee34572-049e-4599-8e0f-043b2a43a96a",
   "metadata": {},
   "source": [
    "## Actual check: compare genome location overlap between squire and telescope"
   ]
  },
  {
   "cell_type": "code",
   "execution_count": 5,
   "id": "ad69a8db-2fd5-400c-84f7-f3cf09b0fd0a",
   "metadata": {},
   "outputs": [],
   "source": [
    "tele_indiv_geno = pd.read_csv(\"./genoLoc_Deseq_indiv_locus_result.csv\", header = 0, index_col= None) "
   ]
  },
  {
   "cell_type": "code",
   "execution_count": 6,
   "id": "d5511d67-29d5-458b-95a3-2aff13f2a885",
   "metadata": {},
   "outputs": [
    {
     "data": {
      "text/html": [
       "<div>\n",
       "<style scoped>\n",
       "    .dataframe tbody tr th:only-of-type {\n",
       "        vertical-align: middle;\n",
       "    }\n",
       "\n",
       "    .dataframe tbody tr th {\n",
       "        vertical-align: top;\n",
       "    }\n",
       "\n",
       "    .dataframe thead th {\n",
       "        text-align: right;\n",
       "    }\n",
       "</style>\n",
       "<table border=\"1\" class=\"dataframe\">\n",
       "  <thead>\n",
       "    <tr style=\"text-align: right;\">\n",
       "      <th></th>\n",
       "      <th>transcript_id</th>\n",
       "      <th>baseMean</th>\n",
       "      <th>log2FoldChange</th>\n",
       "      <th>lfcSE</th>\n",
       "      <th>stat</th>\n",
       "      <th>pvalue</th>\n",
       "      <th>padj</th>\n",
       "      <th>repClass</th>\n",
       "      <th>repFamily</th>\n",
       "      <th>repName</th>\n",
       "      <th>name_fam</th>\n",
       "      <th>name_fam_class</th>\n",
       "      <th>genoName</th>\n",
       "      <th>genoStart</th>\n",
       "      <th>genoEnd</th>\n",
       "      <th>strand</th>\n",
       "    </tr>\n",
       "  </thead>\n",
       "  <tbody>\n",
       "    <tr>\n",
       "      <th>0</th>\n",
       "      <td>4.5SRNA_226</td>\n",
       "      <td>0.840241</td>\n",
       "      <td>-0.411335</td>\n",
       "      <td>2.059217</td>\n",
       "      <td>-0.199753</td>\n",
       "      <td>0.841674</td>\n",
       "      <td>NaN</td>\n",
       "      <td>scRNA</td>\n",
       "      <td>scRNA</td>\n",
       "      <td>4.5SRNA</td>\n",
       "      <td>4.5SRNA|scRNA</td>\n",
       "      <td>4.5SRNA|scRNA|scRNA</td>\n",
       "      <td>chr2</td>\n",
       "      <td>146494727</td>\n",
       "      <td>146494784</td>\n",
       "      <td>-</td>\n",
       "    </tr>\n",
       "    <tr>\n",
       "      <th>1</th>\n",
       "      <td>4.5SRNA_226</td>\n",
       "      <td>0.840241</td>\n",
       "      <td>-0.411335</td>\n",
       "      <td>2.059217</td>\n",
       "      <td>-0.199753</td>\n",
       "      <td>0.841674</td>\n",
       "      <td>NaN</td>\n",
       "      <td>scRNA</td>\n",
       "      <td>scRNA</td>\n",
       "      <td>4.5SRNA</td>\n",
       "      <td>4.5SRNA|scRNA</td>\n",
       "      <td>4.5SRNA|scRNA|scRNA</td>\n",
       "      <td>chr3</td>\n",
       "      <td>93437305</td>\n",
       "      <td>93437355</td>\n",
       "      <td>-</td>\n",
       "    </tr>\n",
       "  </tbody>\n",
       "</table>\n",
       "</div>"
      ],
      "text/plain": [
       "  transcript_id  baseMean  log2FoldChange     lfcSE      stat    pvalue  padj   \n",
       "0   4.5SRNA_226  0.840241       -0.411335  2.059217 -0.199753  0.841674   NaN  \\\n",
       "1   4.5SRNA_226  0.840241       -0.411335  2.059217 -0.199753  0.841674   NaN   \n",
       "\n",
       "  repClass repFamily  repName       name_fam       name_fam_class genoName   \n",
       "0    scRNA     scRNA  4.5SRNA  4.5SRNA|scRNA  4.5SRNA|scRNA|scRNA     chr2  \\\n",
       "1    scRNA     scRNA  4.5SRNA  4.5SRNA|scRNA  4.5SRNA|scRNA|scRNA     chr3   \n",
       "\n",
       "   genoStart    genoEnd strand  \n",
       "0  146494727  146494784      -  \n",
       "1   93437305   93437355      -  "
      ]
     },
     "execution_count": 6,
     "metadata": {},
     "output_type": "execute_result"
    }
   ],
   "source": [
    "tele_indiv_geno.head(2)"
   ]
  },
  {
   "cell_type": "code",
   "execution_count": 7,
   "id": "bb61e605-4b9f-46c0-afab-5194f2de8e7a",
   "metadata": {},
   "outputs": [],
   "source": [
    "squire_indiv = pd.read_csv(\"/home/lucy/Dropbox/turner_organoid_bulk_RNA_local/Deseq_indiv_dTE_results.csv\", header = 0 ,index_col= 0)"
   ]
  },
  {
   "cell_type": "code",
   "execution_count": 8,
   "id": "ed980535-9903-4842-9892-6f1217128495",
   "metadata": {},
   "outputs": [
    {
     "data": {
      "text/html": [
       "<div>\n",
       "<style scoped>\n",
       "    .dataframe tbody tr th:only-of-type {\n",
       "        vertical-align: middle;\n",
       "    }\n",
       "\n",
       "    .dataframe tbody tr th {\n",
       "        vertical-align: top;\n",
       "    }\n",
       "\n",
       "    .dataframe thead th {\n",
       "        text-align: right;\n",
       "    }\n",
       "</style>\n",
       "<table border=\"1\" class=\"dataframe\">\n",
       "  <thead>\n",
       "    <tr style=\"text-align: right;\">\n",
       "      <th></th>\n",
       "      <th>TE_ID</th>\n",
       "      <th>baseMean</th>\n",
       "      <th>log2FoldChange</th>\n",
       "      <th>lfcSE</th>\n",
       "      <th>stat</th>\n",
       "      <th>pvalue</th>\n",
       "      <th>padj</th>\n",
       "      <th>element_type</th>\n",
       "      <th>TE_name</th>\n",
       "      <th>TE_index</th>\n",
       "      <th>repName</th>\n",
       "      <th>repFamily</th>\n",
       "      <th>repClass</th>\n",
       "      <th>genoName</th>\n",
       "      <th>genoStart</th>\n",
       "      <th>genoEnd</th>\n",
       "      <th>strand</th>\n",
       "    </tr>\n",
       "  </thead>\n",
       "  <tbody>\n",
       "    <tr>\n",
       "      <th>0</th>\n",
       "      <td>chr13|73480020|73480091|PB1D9:Alu:SINE|268|-,.</td>\n",
       "      <td>9.000885</td>\n",
       "      <td>-0.489762</td>\n",
       "      <td>0.629289</td>\n",
       "      <td>-0.778278</td>\n",
       "      <td>0.800222</td>\n",
       "      <td>1.0</td>\n",
       "      <td>TE</td>\n",
       "      <td>PB1D9:Alu:SINE</td>\n",
       "      <td>PB1D9:Alu:SINE_268</td>\n",
       "      <td>PB1D9</td>\n",
       "      <td>Alu</td>\n",
       "      <td>SINE</td>\n",
       "      <td>chr13</td>\n",
       "      <td>73480020</td>\n",
       "      <td>73480091</td>\n",
       "      <td>-</td>\n",
       "    </tr>\n",
       "    <tr>\n",
       "      <th>1</th>\n",
       "      <td>chr5|117467874|117468005|RSINE1:B4:SINE|183|-,.</td>\n",
       "      <td>0.730917</td>\n",
       "      <td>-2.916743</td>\n",
       "      <td>3.081604</td>\n",
       "      <td>-0.946502</td>\n",
       "      <td>0.368835</td>\n",
       "      <td>1.0</td>\n",
       "      <td>TE</td>\n",
       "      <td>RSINE1:B4:SINE</td>\n",
       "      <td>RSINE1:B4:SINE_183</td>\n",
       "      <td>RSINE1</td>\n",
       "      <td>B4</td>\n",
       "      <td>SINE</td>\n",
       "      <td>chr5</td>\n",
       "      <td>117467874</td>\n",
       "      <td>117468005</td>\n",
       "      <td>-</td>\n",
       "    </tr>\n",
       "  </tbody>\n",
       "</table>\n",
       "</div>"
      ],
      "text/plain": [
       "                                             TE_ID  baseMean  log2FoldChange   \n",
       "0   chr13|73480020|73480091|PB1D9:Alu:SINE|268|-,.  9.000885       -0.489762  \\\n",
       "1  chr5|117467874|117468005|RSINE1:B4:SINE|183|-,.  0.730917       -2.916743   \n",
       "\n",
       "      lfcSE      stat    pvalue  padj element_type         TE_name   \n",
       "0  0.629289 -0.778278  0.800222   1.0           TE  PB1D9:Alu:SINE  \\\n",
       "1  3.081604 -0.946502  0.368835   1.0           TE  RSINE1:B4:SINE   \n",
       "\n",
       "             TE_index repName repFamily repClass genoName  genoStart   \n",
       "0  PB1D9:Alu:SINE_268   PB1D9       Alu     SINE    chr13   73480020  \\\n",
       "1  RSINE1:B4:SINE_183  RSINE1        B4     SINE     chr5  117467874   \n",
       "\n",
       "     genoEnd strand  \n",
       "0   73480091      -  \n",
       "1  117468005      -  "
      ]
     },
     "execution_count": 8,
     "metadata": {},
     "output_type": "execute_result"
    }
   ],
   "source": [
    "squire_indiv.head(2)"
   ]
  },
  {
   "cell_type": "code",
   "execution_count": 130,
   "id": "784bff43-3b3a-4296-9f0b-cc6ed3d09714",
   "metadata": {},
   "outputs": [],
   "source": [
    "# check the significant TEs if they have the genome location information\n",
    "#tele_sig_up.head()"
   ]
  },
  {
   "cell_type": "markdown",
   "id": "be60d3bb-058f-436b-87fe-e370c7cb0bd6",
   "metadata": {},
   "source": [
    "### getting significantly upregulated elements"
   ]
  },
  {
   "cell_type": "code",
   "execution_count": 9,
   "id": "5df4bf21-439f-4582-a999-dbcd7327ef1b",
   "metadata": {},
   "outputs": [],
   "source": [
    "squire_sig_up = squire_indiv[ (squire_indiv['padj'] < 1e-5) & (squire_indiv['log2FoldChange'] > 2) ]\n",
    "squire_sig_down = squire_indiv[ (squire_indiv['padj'] < 1e-5) & (squire_indiv['log2FoldChange'] < -2) ]"
   ]
  },
  {
   "cell_type": "code",
   "execution_count": 10,
   "id": "fe07f405-8505-4403-9d2f-1934deabb8cb",
   "metadata": {},
   "outputs": [],
   "source": [
    "tele_sig_up = tele_indiv_geno[ (tele_indiv_geno['padj'] < 1e-5) & (tele_indiv_geno['log2FoldChange'] > 2) ]\n",
    "tele_sig_down = tele_indiv_geno[ (tele_indiv_geno['padj'] < 1e-5) & (tele_indiv_geno['log2FoldChange'] < -2) ]"
   ]
  },
  {
   "cell_type": "code",
   "execution_count": 11,
   "id": "83a8f408-3504-4269-bc6e-44639849a949",
   "metadata": {},
   "outputs": [
    {
     "data": {
      "text/html": [
       "<div>\n",
       "<style scoped>\n",
       "    .dataframe tbody tr th:only-of-type {\n",
       "        vertical-align: middle;\n",
       "    }\n",
       "\n",
       "    .dataframe tbody tr th {\n",
       "        vertical-align: top;\n",
       "    }\n",
       "\n",
       "    .dataframe thead th {\n",
       "        text-align: right;\n",
       "    }\n",
       "</style>\n",
       "<table border=\"1\" class=\"dataframe\">\n",
       "  <thead>\n",
       "    <tr style=\"text-align: right;\">\n",
       "      <th></th>\n",
       "      <th>TE_ID</th>\n",
       "      <th>baseMean</th>\n",
       "      <th>log2FoldChange</th>\n",
       "      <th>lfcSE</th>\n",
       "      <th>stat</th>\n",
       "      <th>pvalue</th>\n",
       "      <th>padj</th>\n",
       "      <th>element_type</th>\n",
       "      <th>TE_name</th>\n",
       "      <th>TE_index</th>\n",
       "      <th>repName</th>\n",
       "      <th>repFamily</th>\n",
       "      <th>repClass</th>\n",
       "      <th>genoName</th>\n",
       "      <th>genoStart</th>\n",
       "      <th>genoEnd</th>\n",
       "      <th>strand</th>\n",
       "    </tr>\n",
       "  </thead>\n",
       "  <tbody>\n",
       "    <tr>\n",
       "      <th>279</th>\n",
       "      <td>chr7|116034016|116036134|RLTR4_MM-int:LTR:LTR|...</td>\n",
       "      <td>13.232138</td>\n",
       "      <td>7.261792</td>\n",
       "      <td>1.103073</td>\n",
       "      <td>6.583238</td>\n",
       "      <td>6.866753e-09</td>\n",
       "      <td>8.559487e-07</td>\n",
       "      <td>TE</td>\n",
       "      <td>RLTR4_MM-int:LTR:LTR</td>\n",
       "      <td>RLTR4_MM-int:LTR:LTR_33</td>\n",
       "      <td>RLTR4_MM-int</td>\n",
       "      <td>LTR</td>\n",
       "      <td>LTR</td>\n",
       "      <td>chr7</td>\n",
       "      <td>116034016</td>\n",
       "      <td>116036134</td>\n",
       "      <td>+</td>\n",
       "    </tr>\n",
       "    <tr>\n",
       "      <th>845</th>\n",
       "      <td>chr5|96975368|96975991|L1MC2:L1:LINE|284|-,.</td>\n",
       "      <td>84.993681</td>\n",
       "      <td>2.143785</td>\n",
       "      <td>0.213613</td>\n",
       "      <td>10.035838</td>\n",
       "      <td>4.290302e-08</td>\n",
       "      <td>4.946900e-06</td>\n",
       "      <td>TE</td>\n",
       "      <td>L1MC2:L1:LINE</td>\n",
       "      <td>L1MC2:L1:LINE_284</td>\n",
       "      <td>L1MC2</td>\n",
       "      <td>L1</td>\n",
       "      <td>LINE</td>\n",
       "      <td>chr5</td>\n",
       "      <td>96975368</td>\n",
       "      <td>96975991</td>\n",
       "      <td>-</td>\n",
       "    </tr>\n",
       "    <tr>\n",
       "      <th>1028</th>\n",
       "      <td>chr13|4307360|4308212|RMER17B2:ERVK:LTR|222|+,.</td>\n",
       "      <td>57.907641</td>\n",
       "      <td>2.313474</td>\n",
       "      <td>0.250347</td>\n",
       "      <td>9.241055</td>\n",
       "      <td>7.746373e-08</td>\n",
       "      <td>8.620185e-06</td>\n",
       "      <td>TE</td>\n",
       "      <td>RMER17B2:ERVK:LTR</td>\n",
       "      <td>RMER17B2:ERVK:LTR_222</td>\n",
       "      <td>RMER17B2</td>\n",
       "      <td>ERVK</td>\n",
       "      <td>LTR</td>\n",
       "      <td>chr13</td>\n",
       "      <td>4307360</td>\n",
       "      <td>4308212</td>\n",
       "      <td>+</td>\n",
       "    </tr>\n",
       "    <tr>\n",
       "      <th>1229</th>\n",
       "      <td>chr6|28924173|28924528|IAPLTR1_Mm:ERVK:LTR|92|-,.</td>\n",
       "      <td>22.575679</td>\n",
       "      <td>7.303348</td>\n",
       "      <td>1.085208</td>\n",
       "      <td>6.729908</td>\n",
       "      <td>3.153163e-09</td>\n",
       "      <td>4.008132e-07</td>\n",
       "      <td>TE</td>\n",
       "      <td>IAPLTR1_Mm:ERVK:LTR</td>\n",
       "      <td>IAPLTR1_Mm:ERVK:LTR_92</td>\n",
       "      <td>IAPLTR1_Mm</td>\n",
       "      <td>ERVK</td>\n",
       "      <td>LTR</td>\n",
       "      <td>chr6</td>\n",
       "      <td>28924173</td>\n",
       "      <td>28924528</td>\n",
       "      <td>-</td>\n",
       "    </tr>\n",
       "    <tr>\n",
       "      <th>1401</th>\n",
       "      <td>chr15|76450505|76451202|RLTR4_Mm:ERV1:LTR|14|-,.</td>\n",
       "      <td>49.190795</td>\n",
       "      <td>7.103274</td>\n",
       "      <td>1.107265</td>\n",
       "      <td>6.415154</td>\n",
       "      <td>1.773626e-08</td>\n",
       "      <td>2.128352e-06</td>\n",
       "      <td>TE</td>\n",
       "      <td>RLTR4_Mm:ERV1:LTR</td>\n",
       "      <td>RLTR4_Mm:ERV1:LTR_14</td>\n",
       "      <td>RLTR4_Mm</td>\n",
       "      <td>ERV1</td>\n",
       "      <td>LTR</td>\n",
       "      <td>chr15</td>\n",
       "      <td>76450505</td>\n",
       "      <td>76451202</td>\n",
       "      <td>-</td>\n",
       "    </tr>\n",
       "  </tbody>\n",
       "</table>\n",
       "</div>"
      ],
      "text/plain": [
       "                                                  TE_ID   baseMean   \n",
       "279   chr7|116034016|116036134|RLTR4_MM-int:LTR:LTR|...  13.232138  \\\n",
       "845        chr5|96975368|96975991|L1MC2:L1:LINE|284|-,.  84.993681   \n",
       "1028    chr13|4307360|4308212|RMER17B2:ERVK:LTR|222|+,.  57.907641   \n",
       "1229  chr6|28924173|28924528|IAPLTR1_Mm:ERVK:LTR|92|-,.  22.575679   \n",
       "1401   chr15|76450505|76451202|RLTR4_Mm:ERV1:LTR|14|-,.  49.190795   \n",
       "\n",
       "      log2FoldChange     lfcSE       stat        pvalue          padj   \n",
       "279         7.261792  1.103073   6.583238  6.866753e-09  8.559487e-07  \\\n",
       "845         2.143785  0.213613  10.035838  4.290302e-08  4.946900e-06   \n",
       "1028        2.313474  0.250347   9.241055  7.746373e-08  8.620185e-06   \n",
       "1229        7.303348  1.085208   6.729908  3.153163e-09  4.008132e-07   \n",
       "1401        7.103274  1.107265   6.415154  1.773626e-08  2.128352e-06   \n",
       "\n",
       "     element_type               TE_name                 TE_index   \n",
       "279            TE  RLTR4_MM-int:LTR:LTR  RLTR4_MM-int:LTR:LTR_33  \\\n",
       "845            TE         L1MC2:L1:LINE        L1MC2:L1:LINE_284   \n",
       "1028           TE     RMER17B2:ERVK:LTR    RMER17B2:ERVK:LTR_222   \n",
       "1229           TE   IAPLTR1_Mm:ERVK:LTR   IAPLTR1_Mm:ERVK:LTR_92   \n",
       "1401           TE     RLTR4_Mm:ERV1:LTR     RLTR4_Mm:ERV1:LTR_14   \n",
       "\n",
       "           repName repFamily repClass genoName  genoStart    genoEnd strand  \n",
       "279   RLTR4_MM-int       LTR      LTR     chr7  116034016  116036134      +  \n",
       "845          L1MC2        L1     LINE     chr5   96975368   96975991      -  \n",
       "1028      RMER17B2      ERVK      LTR    chr13    4307360    4308212      +  \n",
       "1229    IAPLTR1_Mm      ERVK      LTR     chr6   28924173   28924528      -  \n",
       "1401      RLTR4_Mm      ERV1      LTR    chr15   76450505   76451202      -  "
      ]
     },
     "execution_count": 11,
     "metadata": {},
     "output_type": "execute_result"
    }
   ],
   "source": [
    "squire_sig_up.head()"
   ]
  },
  {
   "cell_type": "code",
   "execution_count": 12,
   "id": "6eda6ac5-551b-4915-9144-41d1a3687436",
   "metadata": {},
   "outputs": [
    {
     "data": {
      "text/html": [
       "<div>\n",
       "<style scoped>\n",
       "    .dataframe tbody tr th:only-of-type {\n",
       "        vertical-align: middle;\n",
       "    }\n",
       "\n",
       "    .dataframe tbody tr th {\n",
       "        vertical-align: top;\n",
       "    }\n",
       "\n",
       "    .dataframe thead th {\n",
       "        text-align: right;\n",
       "    }\n",
       "</style>\n",
       "<table border=\"1\" class=\"dataframe\">\n",
       "  <thead>\n",
       "    <tr style=\"text-align: right;\">\n",
       "      <th></th>\n",
       "      <th>transcript_id</th>\n",
       "      <th>baseMean</th>\n",
       "      <th>log2FoldChange</th>\n",
       "      <th>lfcSE</th>\n",
       "      <th>stat</th>\n",
       "      <th>pvalue</th>\n",
       "      <th>padj</th>\n",
       "      <th>repClass</th>\n",
       "      <th>repFamily</th>\n",
       "      <th>repName</th>\n",
       "      <th>name_fam</th>\n",
       "      <th>name_fam_class</th>\n",
       "      <th>genoName</th>\n",
       "      <th>genoStart</th>\n",
       "      <th>genoEnd</th>\n",
       "      <th>strand</th>\n",
       "    </tr>\n",
       "  </thead>\n",
       "  <tbody>\n",
       "    <tr>\n",
       "      <th>56475</th>\n",
       "      <td>B1F_354</td>\n",
       "      <td>33.036745</td>\n",
       "      <td>2.129803</td>\n",
       "      <td>0.305731</td>\n",
       "      <td>6.966267</td>\n",
       "      <td>3.254608e-12</td>\n",
       "      <td>4.160732e-10</td>\n",
       "      <td>SINE</td>\n",
       "      <td>Alu</td>\n",
       "      <td>B1F</td>\n",
       "      <td>B1F|Alu</td>\n",
       "      <td>B1F|Alu|SINE</td>\n",
       "      <td>chr1</td>\n",
       "      <td>36709993</td>\n",
       "      <td>36710089</td>\n",
       "      <td>+</td>\n",
       "    </tr>\n",
       "    <tr>\n",
       "      <th>56476</th>\n",
       "      <td>B1F_354</td>\n",
       "      <td>33.036745</td>\n",
       "      <td>2.129803</td>\n",
       "      <td>0.305731</td>\n",
       "      <td>6.966267</td>\n",
       "      <td>3.254608e-12</td>\n",
       "      <td>4.160732e-10</td>\n",
       "      <td>SINE</td>\n",
       "      <td>Alu</td>\n",
       "      <td>B1F</td>\n",
       "      <td>B1F|Alu</td>\n",
       "      <td>B1F|Alu|SINE</td>\n",
       "      <td>chr1</td>\n",
       "      <td>44956646</td>\n",
       "      <td>44956789</td>\n",
       "      <td>-</td>\n",
       "    </tr>\n",
       "    <tr>\n",
       "      <th>56477</th>\n",
       "      <td>B1F_354</td>\n",
       "      <td>33.036745</td>\n",
       "      <td>2.129803</td>\n",
       "      <td>0.305731</td>\n",
       "      <td>6.966267</td>\n",
       "      <td>3.254608e-12</td>\n",
       "      <td>4.160732e-10</td>\n",
       "      <td>SINE</td>\n",
       "      <td>Alu</td>\n",
       "      <td>B1F</td>\n",
       "      <td>B1F|Alu</td>\n",
       "      <td>B1F|Alu|SINE</td>\n",
       "      <td>chr1</td>\n",
       "      <td>127182468</td>\n",
       "      <td>127182524</td>\n",
       "      <td>-</td>\n",
       "    </tr>\n",
       "    <tr>\n",
       "      <th>56478</th>\n",
       "      <td>B1F_354</td>\n",
       "      <td>33.036745</td>\n",
       "      <td>2.129803</td>\n",
       "      <td>0.305731</td>\n",
       "      <td>6.966267</td>\n",
       "      <td>3.254608e-12</td>\n",
       "      <td>4.160732e-10</td>\n",
       "      <td>SINE</td>\n",
       "      <td>Alu</td>\n",
       "      <td>B1F</td>\n",
       "      <td>B1F|Alu</td>\n",
       "      <td>B1F|Alu|SINE</td>\n",
       "      <td>chr1</td>\n",
       "      <td>130708707</td>\n",
       "      <td>130708809</td>\n",
       "      <td>+</td>\n",
       "    </tr>\n",
       "    <tr>\n",
       "      <th>56479</th>\n",
       "      <td>B1F_354</td>\n",
       "      <td>33.036745</td>\n",
       "      <td>2.129803</td>\n",
       "      <td>0.305731</td>\n",
       "      <td>6.966267</td>\n",
       "      <td>3.254608e-12</td>\n",
       "      <td>4.160732e-10</td>\n",
       "      <td>SINE</td>\n",
       "      <td>Alu</td>\n",
       "      <td>B1F</td>\n",
       "      <td>B1F|Alu</td>\n",
       "      <td>B1F|Alu|SINE</td>\n",
       "      <td>chr1</td>\n",
       "      <td>158652115</td>\n",
       "      <td>158652216</td>\n",
       "      <td>-</td>\n",
       "    </tr>\n",
       "  </tbody>\n",
       "</table>\n",
       "</div>"
      ],
      "text/plain": [
       "      transcript_id   baseMean  log2FoldChange     lfcSE      stat   \n",
       "56475       B1F_354  33.036745        2.129803  0.305731  6.966267  \\\n",
       "56476       B1F_354  33.036745        2.129803  0.305731  6.966267   \n",
       "56477       B1F_354  33.036745        2.129803  0.305731  6.966267   \n",
       "56478       B1F_354  33.036745        2.129803  0.305731  6.966267   \n",
       "56479       B1F_354  33.036745        2.129803  0.305731  6.966267   \n",
       "\n",
       "             pvalue          padj repClass repFamily repName name_fam   \n",
       "56475  3.254608e-12  4.160732e-10     SINE       Alu     B1F  B1F|Alu  \\\n",
       "56476  3.254608e-12  4.160732e-10     SINE       Alu     B1F  B1F|Alu   \n",
       "56477  3.254608e-12  4.160732e-10     SINE       Alu     B1F  B1F|Alu   \n",
       "56478  3.254608e-12  4.160732e-10     SINE       Alu     B1F  B1F|Alu   \n",
       "56479  3.254608e-12  4.160732e-10     SINE       Alu     B1F  B1F|Alu   \n",
       "\n",
       "      name_fam_class genoName  genoStart    genoEnd strand  \n",
       "56475   B1F|Alu|SINE     chr1   36709993   36710089      +  \n",
       "56476   B1F|Alu|SINE     chr1   44956646   44956789      -  \n",
       "56477   B1F|Alu|SINE     chr1  127182468  127182524      -  \n",
       "56478   B1F|Alu|SINE     chr1  130708707  130708809      +  \n",
       "56479   B1F|Alu|SINE     chr1  158652115  158652216      -  "
      ]
     },
     "execution_count": 12,
     "metadata": {},
     "output_type": "execute_result"
    }
   ],
   "source": [
    "tele_sig_up.head()"
   ]
  },
  {
   "cell_type": "code",
   "execution_count": 13,
   "id": "24edce04-a168-4441-989a-1deaa2607adf",
   "metadata": {},
   "outputs": [
    {
     "name": "stdout",
     "output_type": "stream",
     "text": [
      "(74, 17)\n",
      "(808, 16)\n"
     ]
    }
   ],
   "source": [
    "print( squire_sig_up.shape)\n",
    "print( tele_sig_up.shape)"
   ]
  },
  {
   "cell_type": "markdown",
   "id": "6ac2417d-9654-422f-a41a-004b908dbf35",
   "metadata": {},
   "source": [
    "<font color = green>need to create an df specific ID since TE names are not unique identifier for each locus\n",
    "- format: <font color = red> df Index_repName\n",
    "- eg: 1401_RLTR4_Mm"
   ]
  },
  {
   "cell_type": "code",
   "execution_count": 14,
   "id": "9eb4c46d-2627-40e6-8cc3-331dc6402fa5",
   "metadata": {},
   "outputs": [],
   "source": [
    "tele_df_ind = tele_sig_up.index.astype(str) + \"_\" + tele_sig_up['repName']"
   ]
  },
  {
   "cell_type": "code",
   "execution_count": 15,
   "id": "64616de3-0df0-46d7-955b-2812933abff2",
   "metadata": {},
   "outputs": [
    {
     "data": {
      "text/plain": [
       "56475    56475_B1F\n",
       "56476    56476_B1F\n",
       "56477    56477_B1F\n",
       "56478    56478_B1F\n",
       "56479    56479_B1F\n",
       "dtype: object"
      ]
     },
     "execution_count": 15,
     "metadata": {},
     "output_type": "execute_result"
    }
   ],
   "source": [
    "tele_df_ind[0:5]"
   ]
  },
  {
   "cell_type": "code",
   "execution_count": 16,
   "id": "94310c24-0684-4702-b8fb-d6d4d32b5c33",
   "metadata": {},
   "outputs": [],
   "source": [
    "tele_sig_up.set_index( tele_df_ind, drop = False, inplace= True )"
   ]
  },
  {
   "cell_type": "code",
   "execution_count": 17,
   "id": "67bcb267-2f07-4903-8fc5-c2d25c2afff8",
   "metadata": {},
   "outputs": [
    {
     "data": {
      "text/html": [
       "<div>\n",
       "<style scoped>\n",
       "    .dataframe tbody tr th:only-of-type {\n",
       "        vertical-align: middle;\n",
       "    }\n",
       "\n",
       "    .dataframe tbody tr th {\n",
       "        vertical-align: top;\n",
       "    }\n",
       "\n",
       "    .dataframe thead th {\n",
       "        text-align: right;\n",
       "    }\n",
       "</style>\n",
       "<table border=\"1\" class=\"dataframe\">\n",
       "  <thead>\n",
       "    <tr style=\"text-align: right;\">\n",
       "      <th></th>\n",
       "      <th>transcript_id</th>\n",
       "      <th>baseMean</th>\n",
       "      <th>log2FoldChange</th>\n",
       "      <th>lfcSE</th>\n",
       "      <th>stat</th>\n",
       "      <th>pvalue</th>\n",
       "      <th>padj</th>\n",
       "      <th>repClass</th>\n",
       "      <th>repFamily</th>\n",
       "      <th>repName</th>\n",
       "      <th>name_fam</th>\n",
       "      <th>name_fam_class</th>\n",
       "      <th>genoName</th>\n",
       "      <th>genoStart</th>\n",
       "      <th>genoEnd</th>\n",
       "      <th>strand</th>\n",
       "    </tr>\n",
       "  </thead>\n",
       "  <tbody>\n",
       "    <tr>\n",
       "      <th>56475_B1F</th>\n",
       "      <td>B1F_354</td>\n",
       "      <td>33.036745</td>\n",
       "      <td>2.129803</td>\n",
       "      <td>0.305731</td>\n",
       "      <td>6.966267</td>\n",
       "      <td>3.254608e-12</td>\n",
       "      <td>4.160732e-10</td>\n",
       "      <td>SINE</td>\n",
       "      <td>Alu</td>\n",
       "      <td>B1F</td>\n",
       "      <td>B1F|Alu</td>\n",
       "      <td>B1F|Alu|SINE</td>\n",
       "      <td>chr1</td>\n",
       "      <td>36709993</td>\n",
       "      <td>36710089</td>\n",
       "      <td>+</td>\n",
       "    </tr>\n",
       "    <tr>\n",
       "      <th>56476_B1F</th>\n",
       "      <td>B1F_354</td>\n",
       "      <td>33.036745</td>\n",
       "      <td>2.129803</td>\n",
       "      <td>0.305731</td>\n",
       "      <td>6.966267</td>\n",
       "      <td>3.254608e-12</td>\n",
       "      <td>4.160732e-10</td>\n",
       "      <td>SINE</td>\n",
       "      <td>Alu</td>\n",
       "      <td>B1F</td>\n",
       "      <td>B1F|Alu</td>\n",
       "      <td>B1F|Alu|SINE</td>\n",
       "      <td>chr1</td>\n",
       "      <td>44956646</td>\n",
       "      <td>44956789</td>\n",
       "      <td>-</td>\n",
       "    </tr>\n",
       "    <tr>\n",
       "      <th>56477_B1F</th>\n",
       "      <td>B1F_354</td>\n",
       "      <td>33.036745</td>\n",
       "      <td>2.129803</td>\n",
       "      <td>0.305731</td>\n",
       "      <td>6.966267</td>\n",
       "      <td>3.254608e-12</td>\n",
       "      <td>4.160732e-10</td>\n",
       "      <td>SINE</td>\n",
       "      <td>Alu</td>\n",
       "      <td>B1F</td>\n",
       "      <td>B1F|Alu</td>\n",
       "      <td>B1F|Alu|SINE</td>\n",
       "      <td>chr1</td>\n",
       "      <td>127182468</td>\n",
       "      <td>127182524</td>\n",
       "      <td>-</td>\n",
       "    </tr>\n",
       "    <tr>\n",
       "      <th>56478_B1F</th>\n",
       "      <td>B1F_354</td>\n",
       "      <td>33.036745</td>\n",
       "      <td>2.129803</td>\n",
       "      <td>0.305731</td>\n",
       "      <td>6.966267</td>\n",
       "      <td>3.254608e-12</td>\n",
       "      <td>4.160732e-10</td>\n",
       "      <td>SINE</td>\n",
       "      <td>Alu</td>\n",
       "      <td>B1F</td>\n",
       "      <td>B1F|Alu</td>\n",
       "      <td>B1F|Alu|SINE</td>\n",
       "      <td>chr1</td>\n",
       "      <td>130708707</td>\n",
       "      <td>130708809</td>\n",
       "      <td>+</td>\n",
       "    </tr>\n",
       "    <tr>\n",
       "      <th>56479_B1F</th>\n",
       "      <td>B1F_354</td>\n",
       "      <td>33.036745</td>\n",
       "      <td>2.129803</td>\n",
       "      <td>0.305731</td>\n",
       "      <td>6.966267</td>\n",
       "      <td>3.254608e-12</td>\n",
       "      <td>4.160732e-10</td>\n",
       "      <td>SINE</td>\n",
       "      <td>Alu</td>\n",
       "      <td>B1F</td>\n",
       "      <td>B1F|Alu</td>\n",
       "      <td>B1F|Alu|SINE</td>\n",
       "      <td>chr1</td>\n",
       "      <td>158652115</td>\n",
       "      <td>158652216</td>\n",
       "      <td>-</td>\n",
       "    </tr>\n",
       "  </tbody>\n",
       "</table>\n",
       "</div>"
      ],
      "text/plain": [
       "          transcript_id   baseMean  log2FoldChange     lfcSE      stat   \n",
       "56475_B1F       B1F_354  33.036745        2.129803  0.305731  6.966267  \\\n",
       "56476_B1F       B1F_354  33.036745        2.129803  0.305731  6.966267   \n",
       "56477_B1F       B1F_354  33.036745        2.129803  0.305731  6.966267   \n",
       "56478_B1F       B1F_354  33.036745        2.129803  0.305731  6.966267   \n",
       "56479_B1F       B1F_354  33.036745        2.129803  0.305731  6.966267   \n",
       "\n",
       "                 pvalue          padj repClass repFamily repName name_fam   \n",
       "56475_B1F  3.254608e-12  4.160732e-10     SINE       Alu     B1F  B1F|Alu  \\\n",
       "56476_B1F  3.254608e-12  4.160732e-10     SINE       Alu     B1F  B1F|Alu   \n",
       "56477_B1F  3.254608e-12  4.160732e-10     SINE       Alu     B1F  B1F|Alu   \n",
       "56478_B1F  3.254608e-12  4.160732e-10     SINE       Alu     B1F  B1F|Alu   \n",
       "56479_B1F  3.254608e-12  4.160732e-10     SINE       Alu     B1F  B1F|Alu   \n",
       "\n",
       "          name_fam_class genoName  genoStart    genoEnd strand  \n",
       "56475_B1F   B1F|Alu|SINE     chr1   36709993   36710089      +  \n",
       "56476_B1F   B1F|Alu|SINE     chr1   44956646   44956789      -  \n",
       "56477_B1F   B1F|Alu|SINE     chr1  127182468  127182524      -  \n",
       "56478_B1F   B1F|Alu|SINE     chr1  130708707  130708809      +  \n",
       "56479_B1F   B1F|Alu|SINE     chr1  158652115  158652216      -  "
      ]
     },
     "execution_count": 17,
     "metadata": {},
     "output_type": "execute_result"
    }
   ],
   "source": [
    "tele_sig_up.head()"
   ]
  },
  {
   "cell_type": "code",
   "execution_count": 18,
   "id": "bb4f03bc-0b7c-49d0-a7c4-2c63b83ecd04",
   "metadata": {},
   "outputs": [],
   "source": [
    "squire_df_ind = squire_sig_up.index.astype(str) + \"_\" + squire_sig_up['repName']"
   ]
  },
  {
   "cell_type": "code",
   "execution_count": 19,
   "id": "7c691ec3-f655-46a9-ad39-bcf3d9f22ce2",
   "metadata": {},
   "outputs": [
    {
     "data": {
      "text/plain": [
       "279     279_RLTR4_MM-int\n",
       "845            845_L1MC2\n",
       "1028       1028_RMER17B2\n",
       "1229     1229_IAPLTR1_Mm\n",
       "1401       1401_RLTR4_Mm\n",
       "dtype: object"
      ]
     },
     "execution_count": 19,
     "metadata": {},
     "output_type": "execute_result"
    }
   ],
   "source": [
    "squire_df_ind[0:5]"
   ]
  },
  {
   "cell_type": "code",
   "execution_count": 20,
   "id": "4bcc4e6d-4ce6-470b-bed5-2dbd24efe9ce",
   "metadata": {},
   "outputs": [
    {
     "data": {
      "text/html": [
       "<div>\n",
       "<style scoped>\n",
       "    .dataframe tbody tr th:only-of-type {\n",
       "        vertical-align: middle;\n",
       "    }\n",
       "\n",
       "    .dataframe tbody tr th {\n",
       "        vertical-align: top;\n",
       "    }\n",
       "\n",
       "    .dataframe thead th {\n",
       "        text-align: right;\n",
       "    }\n",
       "</style>\n",
       "<table border=\"1\" class=\"dataframe\">\n",
       "  <thead>\n",
       "    <tr style=\"text-align: right;\">\n",
       "      <th></th>\n",
       "      <th>TE_ID</th>\n",
       "      <th>baseMean</th>\n",
       "      <th>log2FoldChange</th>\n",
       "      <th>lfcSE</th>\n",
       "      <th>stat</th>\n",
       "      <th>pvalue</th>\n",
       "      <th>padj</th>\n",
       "      <th>element_type</th>\n",
       "      <th>TE_name</th>\n",
       "      <th>TE_index</th>\n",
       "      <th>repName</th>\n",
       "      <th>repFamily</th>\n",
       "      <th>repClass</th>\n",
       "      <th>genoName</th>\n",
       "      <th>genoStart</th>\n",
       "      <th>genoEnd</th>\n",
       "      <th>strand</th>\n",
       "    </tr>\n",
       "  </thead>\n",
       "  <tbody>\n",
       "    <tr>\n",
       "      <th>279_RLTR4_MM-int</th>\n",
       "      <td>chr7|116034016|116036134|RLTR4_MM-int:LTR:LTR|...</td>\n",
       "      <td>13.232138</td>\n",
       "      <td>7.261792</td>\n",
       "      <td>1.103073</td>\n",
       "      <td>6.583238</td>\n",
       "      <td>6.866753e-09</td>\n",
       "      <td>8.559487e-07</td>\n",
       "      <td>TE</td>\n",
       "      <td>RLTR4_MM-int:LTR:LTR</td>\n",
       "      <td>RLTR4_MM-int:LTR:LTR_33</td>\n",
       "      <td>RLTR4_MM-int</td>\n",
       "      <td>LTR</td>\n",
       "      <td>LTR</td>\n",
       "      <td>chr7</td>\n",
       "      <td>116034016</td>\n",
       "      <td>116036134</td>\n",
       "      <td>+</td>\n",
       "    </tr>\n",
       "    <tr>\n",
       "      <th>845_L1MC2</th>\n",
       "      <td>chr5|96975368|96975991|L1MC2:L1:LINE|284|-,.</td>\n",
       "      <td>84.993681</td>\n",
       "      <td>2.143785</td>\n",
       "      <td>0.213613</td>\n",
       "      <td>10.035838</td>\n",
       "      <td>4.290302e-08</td>\n",
       "      <td>4.946900e-06</td>\n",
       "      <td>TE</td>\n",
       "      <td>L1MC2:L1:LINE</td>\n",
       "      <td>L1MC2:L1:LINE_284</td>\n",
       "      <td>L1MC2</td>\n",
       "      <td>L1</td>\n",
       "      <td>LINE</td>\n",
       "      <td>chr5</td>\n",
       "      <td>96975368</td>\n",
       "      <td>96975991</td>\n",
       "      <td>-</td>\n",
       "    </tr>\n",
       "    <tr>\n",
       "      <th>1028_RMER17B2</th>\n",
       "      <td>chr13|4307360|4308212|RMER17B2:ERVK:LTR|222|+,.</td>\n",
       "      <td>57.907641</td>\n",
       "      <td>2.313474</td>\n",
       "      <td>0.250347</td>\n",
       "      <td>9.241055</td>\n",
       "      <td>7.746373e-08</td>\n",
       "      <td>8.620185e-06</td>\n",
       "      <td>TE</td>\n",
       "      <td>RMER17B2:ERVK:LTR</td>\n",
       "      <td>RMER17B2:ERVK:LTR_222</td>\n",
       "      <td>RMER17B2</td>\n",
       "      <td>ERVK</td>\n",
       "      <td>LTR</td>\n",
       "      <td>chr13</td>\n",
       "      <td>4307360</td>\n",
       "      <td>4308212</td>\n",
       "      <td>+</td>\n",
       "    </tr>\n",
       "    <tr>\n",
       "      <th>1229_IAPLTR1_Mm</th>\n",
       "      <td>chr6|28924173|28924528|IAPLTR1_Mm:ERVK:LTR|92|-,.</td>\n",
       "      <td>22.575679</td>\n",
       "      <td>7.303348</td>\n",
       "      <td>1.085208</td>\n",
       "      <td>6.729908</td>\n",
       "      <td>3.153163e-09</td>\n",
       "      <td>4.008132e-07</td>\n",
       "      <td>TE</td>\n",
       "      <td>IAPLTR1_Mm:ERVK:LTR</td>\n",
       "      <td>IAPLTR1_Mm:ERVK:LTR_92</td>\n",
       "      <td>IAPLTR1_Mm</td>\n",
       "      <td>ERVK</td>\n",
       "      <td>LTR</td>\n",
       "      <td>chr6</td>\n",
       "      <td>28924173</td>\n",
       "      <td>28924528</td>\n",
       "      <td>-</td>\n",
       "    </tr>\n",
       "    <tr>\n",
       "      <th>1401_RLTR4_Mm</th>\n",
       "      <td>chr15|76450505|76451202|RLTR4_Mm:ERV1:LTR|14|-,.</td>\n",
       "      <td>49.190795</td>\n",
       "      <td>7.103274</td>\n",
       "      <td>1.107265</td>\n",
       "      <td>6.415154</td>\n",
       "      <td>1.773626e-08</td>\n",
       "      <td>2.128352e-06</td>\n",
       "      <td>TE</td>\n",
       "      <td>RLTR4_Mm:ERV1:LTR</td>\n",
       "      <td>RLTR4_Mm:ERV1:LTR_14</td>\n",
       "      <td>RLTR4_Mm</td>\n",
       "      <td>ERV1</td>\n",
       "      <td>LTR</td>\n",
       "      <td>chr15</td>\n",
       "      <td>76450505</td>\n",
       "      <td>76451202</td>\n",
       "      <td>-</td>\n",
       "    </tr>\n",
       "  </tbody>\n",
       "</table>\n",
       "</div>"
      ],
      "text/plain": [
       "                                                              TE_ID   \n",
       "279_RLTR4_MM-int  chr7|116034016|116036134|RLTR4_MM-int:LTR:LTR|...  \\\n",
       "845_L1MC2              chr5|96975368|96975991|L1MC2:L1:LINE|284|-,.   \n",
       "1028_RMER17B2       chr13|4307360|4308212|RMER17B2:ERVK:LTR|222|+,.   \n",
       "1229_IAPLTR1_Mm   chr6|28924173|28924528|IAPLTR1_Mm:ERVK:LTR|92|-,.   \n",
       "1401_RLTR4_Mm      chr15|76450505|76451202|RLTR4_Mm:ERV1:LTR|14|-,.   \n",
       "\n",
       "                   baseMean  log2FoldChange     lfcSE       stat   \n",
       "279_RLTR4_MM-int  13.232138        7.261792  1.103073   6.583238  \\\n",
       "845_L1MC2         84.993681        2.143785  0.213613  10.035838   \n",
       "1028_RMER17B2     57.907641        2.313474  0.250347   9.241055   \n",
       "1229_IAPLTR1_Mm   22.575679        7.303348  1.085208   6.729908   \n",
       "1401_RLTR4_Mm     49.190795        7.103274  1.107265   6.415154   \n",
       "\n",
       "                        pvalue          padj element_type   \n",
       "279_RLTR4_MM-int  6.866753e-09  8.559487e-07           TE  \\\n",
       "845_L1MC2         4.290302e-08  4.946900e-06           TE   \n",
       "1028_RMER17B2     7.746373e-08  8.620185e-06           TE   \n",
       "1229_IAPLTR1_Mm   3.153163e-09  4.008132e-07           TE   \n",
       "1401_RLTR4_Mm     1.773626e-08  2.128352e-06           TE   \n",
       "\n",
       "                               TE_name                 TE_index       repName   \n",
       "279_RLTR4_MM-int  RLTR4_MM-int:LTR:LTR  RLTR4_MM-int:LTR:LTR_33  RLTR4_MM-int  \\\n",
       "845_L1MC2                L1MC2:L1:LINE        L1MC2:L1:LINE_284         L1MC2   \n",
       "1028_RMER17B2        RMER17B2:ERVK:LTR    RMER17B2:ERVK:LTR_222      RMER17B2   \n",
       "1229_IAPLTR1_Mm    IAPLTR1_Mm:ERVK:LTR   IAPLTR1_Mm:ERVK:LTR_92    IAPLTR1_Mm   \n",
       "1401_RLTR4_Mm        RLTR4_Mm:ERV1:LTR     RLTR4_Mm:ERV1:LTR_14      RLTR4_Mm   \n",
       "\n",
       "                 repFamily repClass genoName  genoStart    genoEnd strand  \n",
       "279_RLTR4_MM-int       LTR      LTR     chr7  116034016  116036134      +  \n",
       "845_L1MC2               L1     LINE     chr5   96975368   96975991      -  \n",
       "1028_RMER17B2         ERVK      LTR    chr13    4307360    4308212      +  \n",
       "1229_IAPLTR1_Mm       ERVK      LTR     chr6   28924173   28924528      -  \n",
       "1401_RLTR4_Mm         ERV1      LTR    chr15   76450505   76451202      -  "
      ]
     },
     "execution_count": 20,
     "metadata": {},
     "output_type": "execute_result"
    }
   ],
   "source": [
    "squire_sig_up.set_index( squire_df_ind, inplace= True, )\n",
    "squire_sig_up.head()"
   ]
  },
  {
   "cell_type": "code",
   "execution_count": null,
   "id": "30800d3a-3cbf-439a-8935-1263a3b7e9b9",
   "metadata": {},
   "outputs": [],
   "source": []
  },
  {
   "cell_type": "code",
   "execution_count": null,
   "id": "5037d8fc-289a-415c-a076-7a70cdc2c5c6",
   "metadata": {},
   "outputs": [],
   "source": []
  },
  {
   "cell_type": "markdown",
   "id": "1130a114-1760-436b-b8fa-c88f0add07a0",
   "metadata": {},
   "source": [
    "### Check genome overlap between squire and tele significantly upegulated elements\n",
    "- will do both absolute length checking and pct checking\n",
    "- use 40 as abs lenght and 0.1 as pct"
   ]
  },
  {
   "cell_type": "code",
   "execution_count": 138,
   "id": "7f13fa65-1124-4bb7-b539-652becc8b8fd",
   "metadata": {},
   "outputs": [],
   "source": [
    "tele_avg_len = tele_indiv_geno['genoEnd'] - tele_indiv_geno['genoStart']"
   ]
  },
  {
   "cell_type": "code",
   "execution_count": 140,
   "id": "d783eca1-435b-4b05-a0e1-4fbd344305d2",
   "metadata": {},
   "outputs": [
    {
     "data": {
      "text/plain": [
       "217.55652302161297"
      ]
     },
     "execution_count": 140,
     "metadata": {},
     "output_type": "execute_result"
    }
   ],
   "source": [
    "tele_avg_len.mean()"
   ]
  },
  {
   "cell_type": "code",
   "execution_count": 142,
   "id": "25dc3b84-fdc7-497b-a7ac-d7b8ebc7ffea",
   "metadata": {},
   "outputs": [
    {
     "data": {
      "text/plain": [
       "488.3247784706268"
      ]
     },
     "execution_count": 142,
     "metadata": {},
     "output_type": "execute_result"
    }
   ],
   "source": [
    "squire_avg_len = squire_indiv['genoEnd'].astype(int) - squire_indiv['genoStart'].astype( int )\n",
    "squire_avg_len.mean()"
   ]
  },
  {
   "cell_type": "code",
   "execution_count": 143,
   "id": "94a15212-e55d-4fee-ade9-1d13c6f7e76d",
   "metadata": {
    "collapsed": true,
    "jupyter": {
     "outputs_hidden": true
    }
   },
   "outputs": [
    {
     "data": {
      "text/html": [
       "<div>\n",
       "<style scoped>\n",
       "    .dataframe tbody tr th:only-of-type {\n",
       "        vertical-align: middle;\n",
       "    }\n",
       "\n",
       "    .dataframe tbody tr th {\n",
       "        vertical-align: top;\n",
       "    }\n",
       "\n",
       "    .dataframe thead th {\n",
       "        text-align: right;\n",
       "    }\n",
       "</style>\n",
       "<table border=\"1\" class=\"dataframe\">\n",
       "  <thead>\n",
       "    <tr style=\"text-align: right;\">\n",
       "      <th></th>\n",
       "      <th>TE_ID</th>\n",
       "      <th>baseMean</th>\n",
       "      <th>log2FoldChange</th>\n",
       "      <th>lfcSE</th>\n",
       "      <th>stat</th>\n",
       "      <th>pvalue</th>\n",
       "      <th>padj</th>\n",
       "      <th>element_type</th>\n",
       "      <th>TE_name</th>\n",
       "      <th>TE_index</th>\n",
       "      <th>repName</th>\n",
       "      <th>repFamily</th>\n",
       "      <th>repClass</th>\n",
       "      <th>genoName</th>\n",
       "      <th>genoStart</th>\n",
       "      <th>genoEnd</th>\n",
       "      <th>strand</th>\n",
       "    </tr>\n",
       "  </thead>\n",
       "  <tbody>\n",
       "    <tr>\n",
       "      <th>279</th>\n",
       "      <td>chr7|116034016|116036134|RLTR4_MM-int:LTR:LTR|...</td>\n",
       "      <td>13.232138</td>\n",
       "      <td>7.261792</td>\n",
       "      <td>1.103073</td>\n",
       "      <td>6.583238</td>\n",
       "      <td>6.866753e-09</td>\n",
       "      <td>8.559487e-07</td>\n",
       "      <td>TE</td>\n",
       "      <td>RLTR4_MM-int:LTR:LTR</td>\n",
       "      <td>RLTR4_MM-int:LTR:LTR_33</td>\n",
       "      <td>RLTR4_MM-int</td>\n",
       "      <td>LTR</td>\n",
       "      <td>LTR</td>\n",
       "      <td>chr7</td>\n",
       "      <td>116034016</td>\n",
       "      <td>116036134</td>\n",
       "      <td>+</td>\n",
       "    </tr>\n",
       "    <tr>\n",
       "      <th>845</th>\n",
       "      <td>chr5|96975368|96975991|L1MC2:L1:LINE|284|-,.</td>\n",
       "      <td>84.993681</td>\n",
       "      <td>2.143785</td>\n",
       "      <td>0.213613</td>\n",
       "      <td>10.035838</td>\n",
       "      <td>4.290302e-08</td>\n",
       "      <td>4.946900e-06</td>\n",
       "      <td>TE</td>\n",
       "      <td>L1MC2:L1:LINE</td>\n",
       "      <td>L1MC2:L1:LINE_284</td>\n",
       "      <td>L1MC2</td>\n",
       "      <td>L1</td>\n",
       "      <td>LINE</td>\n",
       "      <td>chr5</td>\n",
       "      <td>96975368</td>\n",
       "      <td>96975991</td>\n",
       "      <td>-</td>\n",
       "    </tr>\n",
       "    <tr>\n",
       "      <th>1028</th>\n",
       "      <td>chr13|4307360|4308212|RMER17B2:ERVK:LTR|222|+,.</td>\n",
       "      <td>57.907641</td>\n",
       "      <td>2.313474</td>\n",
       "      <td>0.250347</td>\n",
       "      <td>9.241055</td>\n",
       "      <td>7.746373e-08</td>\n",
       "      <td>8.620185e-06</td>\n",
       "      <td>TE</td>\n",
       "      <td>RMER17B2:ERVK:LTR</td>\n",
       "      <td>RMER17B2:ERVK:LTR_222</td>\n",
       "      <td>RMER17B2</td>\n",
       "      <td>ERVK</td>\n",
       "      <td>LTR</td>\n",
       "      <td>chr13</td>\n",
       "      <td>4307360</td>\n",
       "      <td>4308212</td>\n",
       "      <td>+</td>\n",
       "    </tr>\n",
       "    <tr>\n",
       "      <th>1229</th>\n",
       "      <td>chr6|28924173|28924528|IAPLTR1_Mm:ERVK:LTR|92|-,.</td>\n",
       "      <td>22.575679</td>\n",
       "      <td>7.303348</td>\n",
       "      <td>1.085208</td>\n",
       "      <td>6.729908</td>\n",
       "      <td>3.153163e-09</td>\n",
       "      <td>4.008132e-07</td>\n",
       "      <td>TE</td>\n",
       "      <td>IAPLTR1_Mm:ERVK:LTR</td>\n",
       "      <td>IAPLTR1_Mm:ERVK:LTR_92</td>\n",
       "      <td>IAPLTR1_Mm</td>\n",
       "      <td>ERVK</td>\n",
       "      <td>LTR</td>\n",
       "      <td>chr6</td>\n",
       "      <td>28924173</td>\n",
       "      <td>28924528</td>\n",
       "      <td>-</td>\n",
       "    </tr>\n",
       "    <tr>\n",
       "      <th>1401</th>\n",
       "      <td>chr15|76450505|76451202|RLTR4_Mm:ERV1:LTR|14|-,.</td>\n",
       "      <td>49.190795</td>\n",
       "      <td>7.103274</td>\n",
       "      <td>1.107265</td>\n",
       "      <td>6.415154</td>\n",
       "      <td>1.773626e-08</td>\n",
       "      <td>2.128352e-06</td>\n",
       "      <td>TE</td>\n",
       "      <td>RLTR4_Mm:ERV1:LTR</td>\n",
       "      <td>RLTR4_Mm:ERV1:LTR_14</td>\n",
       "      <td>RLTR4_Mm</td>\n",
       "      <td>ERV1</td>\n",
       "      <td>LTR</td>\n",
       "      <td>chr15</td>\n",
       "      <td>76450505</td>\n",
       "      <td>76451202</td>\n",
       "      <td>-</td>\n",
       "    </tr>\n",
       "  </tbody>\n",
       "</table>\n",
       "</div>"
      ],
      "text/plain": [
       "                                                  TE_ID   baseMean   \n",
       "279   chr7|116034016|116036134|RLTR4_MM-int:LTR:LTR|...  13.232138  \\\n",
       "845        chr5|96975368|96975991|L1MC2:L1:LINE|284|-,.  84.993681   \n",
       "1028    chr13|4307360|4308212|RMER17B2:ERVK:LTR|222|+,.  57.907641   \n",
       "1229  chr6|28924173|28924528|IAPLTR1_Mm:ERVK:LTR|92|-,.  22.575679   \n",
       "1401   chr15|76450505|76451202|RLTR4_Mm:ERV1:LTR|14|-,.  49.190795   \n",
       "\n",
       "      log2FoldChange     lfcSE       stat        pvalue          padj   \n",
       "279         7.261792  1.103073   6.583238  6.866753e-09  8.559487e-07  \\\n",
       "845         2.143785  0.213613  10.035838  4.290302e-08  4.946900e-06   \n",
       "1028        2.313474  0.250347   9.241055  7.746373e-08  8.620185e-06   \n",
       "1229        7.303348  1.085208   6.729908  3.153163e-09  4.008132e-07   \n",
       "1401        7.103274  1.107265   6.415154  1.773626e-08  2.128352e-06   \n",
       "\n",
       "     element_type               TE_name                 TE_index   \n",
       "279            TE  RLTR4_MM-int:LTR:LTR  RLTR4_MM-int:LTR:LTR_33  \\\n",
       "845            TE         L1MC2:L1:LINE        L1MC2:L1:LINE_284   \n",
       "1028           TE     RMER17B2:ERVK:LTR    RMER17B2:ERVK:LTR_222   \n",
       "1229           TE   IAPLTR1_Mm:ERVK:LTR   IAPLTR1_Mm:ERVK:LTR_92   \n",
       "1401           TE     RLTR4_Mm:ERV1:LTR     RLTR4_Mm:ERV1:LTR_14   \n",
       "\n",
       "           repName repFamily repClass genoName  genoStart    genoEnd strand  \n",
       "279   RLTR4_MM-int       LTR      LTR     chr7  116034016  116036134      +  \n",
       "845          L1MC2        L1     LINE     chr5   96975368   96975991      -  \n",
       "1028      RMER17B2      ERVK      LTR    chr13    4307360    4308212      +  \n",
       "1229    IAPLTR1_Mm      ERVK      LTR     chr6   28924173   28924528      -  \n",
       "1401      RLTR4_Mm      ERV1      LTR    chr15   76450505   76451202      -  "
      ]
     },
     "execution_count": 143,
     "metadata": {},
     "output_type": "execute_result"
    }
   ],
   "source": [
    "squire_sig_up.head()"
   ]
  },
  {
   "cell_type": "code",
   "execution_count": 162,
   "id": "84fdd228-0d68-40f5-a43a-ecc591f50484",
   "metadata": {},
   "outputs": [
    {
     "data": {
      "text/plain": [
       "Index(['TE_ID', 'baseMean', 'log2FoldChange', 'lfcSE', 'stat', 'pvalue',\n",
       "       'padj', 'element_type', 'TE_name', 'TE_index', 'repName', 'repFamily',\n",
       "       'repClass', 'genoName', 'genoStart', 'genoEnd', 'strand'],\n",
       "      dtype='object')"
      ]
     },
     "execution_count": 162,
     "metadata": {},
     "output_type": "execute_result"
    }
   ],
   "source": [
    "squire_sig_up.columns"
   ]
  },
  {
   "cell_type": "code",
   "execution_count": 144,
   "id": "ce50ee9b-7f89-4363-a510-736542c09f94",
   "metadata": {},
   "outputs": [
    {
     "data": {
      "text/plain": [
       "1840.9594594594594"
      ]
     },
     "execution_count": 144,
     "metadata": {},
     "output_type": "execute_result"
    }
   ],
   "source": [
    "squire_up_avg_len = squire_sig_up['genoEnd'].astype(int) - squire_sig_up['genoStart'].astype( int )\n",
    "squire_up_avg_len.mean()"
   ]
  },
  {
   "cell_type": "code",
   "execution_count": 145,
   "id": "b4b5053f-7e36-4672-b2fb-fb0732448e76",
   "metadata": {},
   "outputs": [
    {
     "data": {
      "text/plain": [
       "418.08168316831683"
      ]
     },
     "execution_count": 145,
     "metadata": {},
     "output_type": "execute_result"
    }
   ],
   "source": [
    "tele_up_avg_len = tele_sig_up['genoEnd'] - tele_sig_up['genoStart']\n",
    "tele_up_avg_len.mean()"
   ]
  },
  {
   "cell_type": "markdown",
   "id": "6a50f829-bd3e-4001-8715-603caf38a377",
   "metadata": {},
   "source": [
    "### function to check overlap statitics "
   ]
  },
  {
   "cell_type": "code",
   "execution_count": 31,
   "id": "b0a00f0f-b45c-4d7f-9ed4-d27d72c5c217",
   "metadata": {},
   "outputs": [],
   "source": [
    "def get_overlap_statistics( df1, df2, check_num_overlap, check_strand,\n",
    "                           num_overlap_thresh = 20, pct_overlap_thresh = 0.1, \n",
    "                           loc_col_names = ['genoName', 'genoStart', 'genoEnd', 'strand'],\n",
    "                           print_stat = True):\n",
    "    \"\"\"This function calculate the number of overlaps between two lists of TEs given their genome locations\n",
    "    @param df1, df2 are the dataframe that contains the TEs to be compared. \n",
    "            The dfs' index must be unique and reflecting TE identity. \n",
    "            They must also contains genome information in the order of: chromosome number, start, end, strand with column nanmes given in loc_col_names\n",
    "            Genome start and end columns must be numericals\n",
    "    @param check_num_overlap, check_strand: boolean for the way to check overlaps. See genome_overlap function\n",
    "    @param loc_col_names: column names in dfs reflecting chromosome number, start, end, strand\n",
    "    @param print_stat: printing out the summary statistics\n",
    "    @return unique_hit_ls, hit_dict: \n",
    "            unique_hit_ls is a set of df indices that shows overlap between the two TE lists. \n",
    "            hit_dict contains all overlaping elements in dict format. The keys are indices from the shorter list and the values are the indices from the longer list that overlap with the keys  \"\"\"\n",
    "    \n",
    "    \n",
    "    # first determine which list is shorter\n",
    "    if( df1.shape[0] < df2.shape[0]):\n",
    "        df_short = df1.copy()\n",
    "        df_long = df2.copy()\n",
    "    else:\n",
    "        df_short = df2.copy()\n",
    "        df_long = df1.copy()\n",
    "\n",
    "    # declare key variables\n",
    "    unique_hit_ls = []\n",
    "    hit_dict = dict()\n",
    "\n",
    "    for i_short in tqnb(iterable = df_short.index, desc=\"Number of elements checked:\", ascii = '<<>><<>><<>><<>><<>>' ):\n",
    "        #i_short = df_short.index[i]\n",
    "        got_hit = False # flag to determine if already found overlap\n",
    "        for i_long in df_long.index: \n",
    "            #check overlap\n",
    "            loc1 = df_short.loc[i_short, loc_col_names ] \n",
    "            loc2 = df_long.loc[i_long, loc_col_names ]\n",
    "            is_overlap = genome_overlap( loc1, loc2, \n",
    "                                        check_num_overlap = check_num_overlap, check_pct_overlap = ( ~ check_num_overlap),\n",
    "                                        check_strand = check_strand, \n",
    "                                       num_overlap_thresh = num_overlap_thresh,\n",
    "                                        pct_overlap_thresh = pct_overlap_thresh )\n",
    "\n",
    "            if( is_overlap): \n",
    "                if( not got_hit):\n",
    "                    # first time this i_short finds an overlap\n",
    "                    \n",
    "                    # add i_short to dict and create value list with i_long\n",
    "                    hit_dict[ i_short] = [ i_long ]\n",
    "                    \n",
    "                    # add i_short and i_long to unique hit ls\n",
    "                    unique_hit_ls = unique_hit_ls+ [i_short, i_long ]\n",
    "                    \n",
    "                    # update got_hit\n",
    "                    got_hit = True\n",
    "                    \n",
    "                else: \n",
    "                    # this i_short has already had overlapped sequence with some other i_long\n",
    "                    \n",
    "                    # add i_long to the value list in the dict\n",
    "                    hit_dict[i_short] = hit_dict[i_short] + [i_long ]\n",
    "                    \n",
    "                    # add i_long to unqiue hit list\n",
    "                    unique_hit_ls = unique_hit_ls + [i_long ]\n",
    "\n",
    "    # Calculate key metrics\n",
    "    if( print_stat):\n",
    "\n",
    "        print( f\"Long list has {df_long.shape[0]} elements\")\n",
    "        print( f\"Short list has {df_short.shape[0]} elements\")\n",
    "\n",
    "        # count number of unique hits\n",
    "        unique_hit_ls = set( unique_hit_ls)\n",
    "        total_unique_hit_count = len( unique_hit_ls )\n",
    "    \n",
    "        # count number of hits with each short list element + length of short list elements that get hits\n",
    "        found_i_long = 0\n",
    "        found_i_short = len( hit_dict.keys() )\n",
    "        \n",
    "        for k,v in hit_dict.items():\n",
    "            num_v = len( set( v ) )\n",
    "            found_i_long += num_v\n",
    "        total_hit_count = found_i_long + found_i_short\n",
    "\n",
    "        avg_hit = total_hit_count / float(df_long.shape[0] + df_short.shape[0])\n",
    "\n",
    "        print( f\"Number of unique hits: {total_unique_hit_count}\")\n",
    "        print( f\"Number of elements found overlaps:\")\n",
    "        print( f\"\\tFrom short list: {found_i_short}\")\n",
    "        print( f\"\\tFrom long list: {found_i_long}\")\n",
    "        print( f\"\\tTotal: {total_hit_count}\")\n",
    "        print( f\"Avg. hit across all element tested: {avg_hit}\")\n",
    "\n",
    "    \n",
    "\n",
    "\n",
    "    \n",
    "    return set( unique_hit_ls), hit_dict\n",
    "\n"
   ]
  },
  {
   "cell_type": "code",
   "execution_count": null,
   "id": "0f8d191f-34ce-4ddf-8f5b-e70ad3f92426",
   "metadata": {},
   "outputs": [],
   "source": []
  },
  {
   "cell_type": "markdown",
   "id": "adfcb093-83bb-412b-b2de-8fd740286f39",
   "metadata": {},
   "source": [
    "### result for up regulated elements"
   ]
  },
  {
   "cell_type": "code",
   "execution_count": 23,
   "id": "400b25e5-a764-445e-8a9f-4d89d081a53e",
   "metadata": {},
   "outputs": [],
   "source": [
    "tele_sig_up[['genoStart', 'genoEnd']] = tele_sig_up[['genoStart', 'genoEnd']].astype(int)\n",
    "squire_sig_up[['genoStart', 'genoEnd']] = squire_sig_up[['genoStart', 'genoEnd']].astype(int)"
   ]
  },
  {
   "cell_type": "code",
   "execution_count": 32,
   "id": "1ae40448-43a1-47b7-bc4a-7eb45763daa7",
   "metadata": {},
   "outputs": [
    {
     "data": {
      "application/vnd.jupyter.widget-view+json": {
       "model_id": "a96a61b8e5bc4cb2adc304e4f17557e6",
       "version_major": 2,
       "version_minor": 0
      },
      "text/plain": [
       "Number of elements checked::   0%|          | 0/74 [00:00<?, ?it/s]"
      ]
     },
     "metadata": {},
     "output_type": "display_data"
    },
    {
     "name": "stdout",
     "output_type": "stream",
     "text": [
      "Long list has 808 elements\n",
      "Short list has 74 elements\n",
      "Number of unique hits: 104\n",
      "Number of elements found overlaps:\n",
      "\tFrom short list: 52\n",
      "\tFrom long list: 52\n",
      "\tTotal: 104\n",
      "Avg. hit across all element tested: 0.11791383219954649\n"
     ]
    }
   ],
   "source": [
    "uniq_ls, hit_dict = get_overlap_statistics( df1 = tele_sig_up, df2 = squire_sig_up,\n",
    "                                           check_num_overlap = True, check_strand = True,\n",
    "                                           num_overlap_thresh = 40, pct_overlap_thresh = 0.1,\n",
    "                                           loc_col_names = ['genoName', 'genoStart', 'genoEnd', 'strand'],\n",
    "                                           print_stat = True)\n",
    "sig_up_by_num_uniq = uniq_ls\n",
    "sig_up_by_num_hit_dict = hit_dict.copy()"
   ]
  },
  {
   "cell_type": "code",
   "execution_count": 33,
   "id": "f223caf6-4bc4-4854-9026-ac4b12e18892",
   "metadata": {
    "collapsed": true,
    "jupyter": {
     "outputs_hidden": true
    },
    "scrolled": true
   },
   "outputs": [
    {
     "data": {
      "text/plain": [
       "{'279_RLTR4_MM-int': ['2320117_RLTR4_MM-int'],\n",
       " '1028_RMER17B2': ['2356998_RMER17B2'],\n",
       " '1604_RLTR4_MM-int': ['2320303_RLTR4_MM-int'],\n",
       " '1762_RLTR4_MM-int': ['2319979_RLTR4_MM-int'],\n",
       " '1780_RLTR4_MM-int': ['2325657_RLTR4_MM-int'],\n",
       " '1837_RLTR4_MM-int': ['2320089_RLTR4_MM-int'],\n",
       " '1891_RLTR4_MM-int': ['2319751_RLTR4_MM-int'],\n",
       " '1936_RLTR4_MM-int': ['2325652_RLTR4_MM-int'],\n",
       " '2187_RLTR4_MM-int': ['2320293_RLTR4_MM-int'],\n",
       " '2240_IAPEz-int': ['966380_IAPEz-int'],\n",
       " '2730_MMVL30-int': ['1739788_MMVL30-int'],\n",
       " '3348_RLTR4_MM-int': ['2319919_RLTR4_MM-int'],\n",
       " '3390_MMVL30-int': ['1739409_MMVL30-int'],\n",
       " '4128_RLTR4_MM-int': ['2320408_RLTR4_MM-int'],\n",
       " '4915_RLTR4_MM-int': ['2320016_RLTR4_MM-int'],\n",
       " '5525_IAPLTR1_Mm': ['970991_IAPLTR1_Mm'],\n",
       " '5634_RLTR4_Mm': ['2326647_RLTR4_Mm'],\n",
       " '5858_RLTR4_MM-int': ['2320166_RLTR4_MM-int'],\n",
       " '5984_RLTR4_MM-int': ['2320306_RLTR4_MM-int'],\n",
       " '6106_RLTR4_Mm': ['2326648_RLTR4_Mm'],\n",
       " '6228_RLTR4_MM-int': ['2324932_RLTR4_MM-int'],\n",
       " '6296_IAPEY4_I': ['963904_IAPEY4_I'],\n",
       " '6894_L1MC5a': ['1241523_L1MC5a'],\n",
       " '7047_RLTR4_MM-int': ['2325809_RLTR4_MM-int'],\n",
       " '7138_RLTR4_MM-int': ['2319513_RLTR4_MM-int'],\n",
       " '7290_RLTR4_MM-int': ['2325648_RLTR4_MM-int'],\n",
       " '7627_IAPEY4_I': ['963903_IAPEY4_I'],\n",
       " '7895_RLTR4_MM-int': ['2321363_RLTR4_MM-int'],\n",
       " '8033_RLTR4_MM-int': ['2325620_RLTR4_MM-int'],\n",
       " '8370_L1MdA_III': ['1262112_L1MdA_III'],\n",
       " '8373_RLTR4_MM-int': ['2319763_RLTR4_MM-int'],\n",
       " '8873_IAPLTR1a_Mm': ['973748_IAPLTR1a_Mm'],\n",
       " '9145_RLTR4_Mm': ['2326618_RLTR4_Mm'],\n",
       " '9437_RLTR4_MM-int': ['2322673_RLTR4_MM-int'],\n",
       " '9492_B2_Mm2': ['496411_B2_Mm2'],\n",
       " '9629_RLTR6_Mm': ['2330685_RLTR6_Mm'],\n",
       " '10869_RLTR4_MM-int': ['2325680_RLTR4_MM-int'],\n",
       " '11074_RLTR4_MM-int': ['2319924_RLTR4_MM-int'],\n",
       " '11081_L1MdGf_II': ['1300865_L1MdGf_II'],\n",
       " '11292_RLTR4_Mm': ['2326667_RLTR4_Mm'],\n",
       " '12019_Tigger18a': ['2485060_Tigger18a'],\n",
       " '12106_MT2B1': ['1744187_MT2B1'],\n",
       " '12235_RLTR4_MM-int': ['2319921_RLTR4_MM-int'],\n",
       " '12455_RLTR4_Mm': ['2326666_RLTR4_Mm'],\n",
       " '12535_IAPEz-int': ['966553_IAPEz-int'],\n",
       " '12794_MMVL30-int': ['1739626_MMVL30-int'],\n",
       " '12940_RLTR6_Mm': ['2330549_RLTR6_Mm'],\n",
       " '13050_RLTR4_MM-int': ['2325005_RLTR4_MM-int'],\n",
       " '13166_IAPLTR1_Mm': ['970990_IAPLTR1_Mm'],\n",
       " '13909_IAPEz-int': ['970277_IAPEz-int'],\n",
       " '14539_RLTR4_Mm': ['2326598_RLTR4_Mm'],\n",
       " '15085_RLTR4_MM-int': ['2322949_RLTR4_MM-int']}"
      ]
     },
     "execution_count": 33,
     "metadata": {},
     "output_type": "execute_result"
    }
   ],
   "source": [
    "sig_up_by_num_hit_dict"
   ]
  },
  {
   "cell_type": "code",
   "execution_count": 34,
   "id": "ac8e2015-e75f-47a1-a3dd-9719a51e5b73",
   "metadata": {
    "collapsed": true,
    "jupyter": {
     "outputs_hidden": true
    }
   },
   "outputs": [
    {
     "data": {
      "text/plain": [
       "{'1028_RMER17B2',\n",
       " '10869_RLTR4_MM-int',\n",
       " '11074_RLTR4_MM-int',\n",
       " '11081_L1MdGf_II',\n",
       " '11292_RLTR4_Mm',\n",
       " '12019_Tigger18a',\n",
       " '12106_MT2B1',\n",
       " '12235_RLTR4_MM-int',\n",
       " '1241523_L1MC5a',\n",
       " '12455_RLTR4_Mm',\n",
       " '12535_IAPEz-int',\n",
       " '1262112_L1MdA_III',\n",
       " '12794_MMVL30-int',\n",
       " '12940_RLTR6_Mm',\n",
       " '1300865_L1MdGf_II',\n",
       " '13050_RLTR4_MM-int',\n",
       " '13166_IAPLTR1_Mm',\n",
       " '13909_IAPEz-int',\n",
       " '14539_RLTR4_Mm',\n",
       " '15085_RLTR4_MM-int',\n",
       " '1604_RLTR4_MM-int',\n",
       " '1739409_MMVL30-int',\n",
       " '1739626_MMVL30-int',\n",
       " '1739788_MMVL30-int',\n",
       " '1744187_MT2B1',\n",
       " '1762_RLTR4_MM-int',\n",
       " '1780_RLTR4_MM-int',\n",
       " '1837_RLTR4_MM-int',\n",
       " '1891_RLTR4_MM-int',\n",
       " '1936_RLTR4_MM-int',\n",
       " '2187_RLTR4_MM-int',\n",
       " '2240_IAPEz-int',\n",
       " '2319513_RLTR4_MM-int',\n",
       " '2319751_RLTR4_MM-int',\n",
       " '2319763_RLTR4_MM-int',\n",
       " '2319919_RLTR4_MM-int',\n",
       " '2319921_RLTR4_MM-int',\n",
       " '2319924_RLTR4_MM-int',\n",
       " '2319979_RLTR4_MM-int',\n",
       " '2320016_RLTR4_MM-int',\n",
       " '2320089_RLTR4_MM-int',\n",
       " '2320117_RLTR4_MM-int',\n",
       " '2320166_RLTR4_MM-int',\n",
       " '2320293_RLTR4_MM-int',\n",
       " '2320303_RLTR4_MM-int',\n",
       " '2320306_RLTR4_MM-int',\n",
       " '2320408_RLTR4_MM-int',\n",
       " '2321363_RLTR4_MM-int',\n",
       " '2322673_RLTR4_MM-int',\n",
       " '2322949_RLTR4_MM-int',\n",
       " '2324932_RLTR4_MM-int',\n",
       " '2325005_RLTR4_MM-int',\n",
       " '2325620_RLTR4_MM-int',\n",
       " '2325648_RLTR4_MM-int',\n",
       " '2325652_RLTR4_MM-int',\n",
       " '2325657_RLTR4_MM-int',\n",
       " '2325680_RLTR4_MM-int',\n",
       " '2325809_RLTR4_MM-int',\n",
       " '2326598_RLTR4_Mm',\n",
       " '2326618_RLTR4_Mm',\n",
       " '2326647_RLTR4_Mm',\n",
       " '2326648_RLTR4_Mm',\n",
       " '2326666_RLTR4_Mm',\n",
       " '2326667_RLTR4_Mm',\n",
       " '2330549_RLTR6_Mm',\n",
       " '2330685_RLTR6_Mm',\n",
       " '2356998_RMER17B2',\n",
       " '2485060_Tigger18a',\n",
       " '2730_MMVL30-int',\n",
       " '279_RLTR4_MM-int',\n",
       " '3348_RLTR4_MM-int',\n",
       " '3390_MMVL30-int',\n",
       " '4128_RLTR4_MM-int',\n",
       " '4915_RLTR4_MM-int',\n",
       " '496411_B2_Mm2',\n",
       " '5525_IAPLTR1_Mm',\n",
       " '5634_RLTR4_Mm',\n",
       " '5858_RLTR4_MM-int',\n",
       " '5984_RLTR4_MM-int',\n",
       " '6106_RLTR4_Mm',\n",
       " '6228_RLTR4_MM-int',\n",
       " '6296_IAPEY4_I',\n",
       " '6894_L1MC5a',\n",
       " '7047_RLTR4_MM-int',\n",
       " '7138_RLTR4_MM-int',\n",
       " '7290_RLTR4_MM-int',\n",
       " '7627_IAPEY4_I',\n",
       " '7895_RLTR4_MM-int',\n",
       " '8033_RLTR4_MM-int',\n",
       " '8370_L1MdA_III',\n",
       " '8373_RLTR4_MM-int',\n",
       " '8873_IAPLTR1a_Mm',\n",
       " '9145_RLTR4_Mm',\n",
       " '9437_RLTR4_MM-int',\n",
       " '9492_B2_Mm2',\n",
       " '9629_RLTR6_Mm',\n",
       " '963903_IAPEY4_I',\n",
       " '963904_IAPEY4_I',\n",
       " '966380_IAPEz-int',\n",
       " '966553_IAPEz-int',\n",
       " '970277_IAPEz-int',\n",
       " '970990_IAPLTR1_Mm',\n",
       " '970991_IAPLTR1_Mm',\n",
       " '973748_IAPLTR1a_Mm'}"
      ]
     },
     "execution_count": 34,
     "metadata": {},
     "output_type": "execute_result"
    }
   ],
   "source": [
    "sig_up_by_num_uniq"
   ]
  },
  {
   "cell_type": "code",
   "execution_count": 191,
   "id": "00024940-a12c-4b2d-905e-1e199c6e381c",
   "metadata": {
    "collapsed": true,
    "jupyter": {
     "outputs_hidden": true
    }
   },
   "outputs": [
    {
     "name": "stderr",
     "output_type": "stream",
     "text": [
      "\n",
      "Number of elements checked::   0%|<<<<<<<<<<<<<<<<<<<<<<<| 0/74 [00:00<?, ?it/s]\u001b[A\n",
      "Number of elements checked::   1%|><<<<<<<<<<<<<<| 1/74 [00:00<00:42,  1.72it/s]\u001b[A\n",
      "Number of elements checked::   3%|><<<<<<<<<<<<<<| 2/74 [00:01<00:42,  1.71it/s]\u001b[A\n",
      "Number of elements checked::   4%|><<<<<<<<<<<<<<| 3/74 [00:01<00:41,  1.71it/s]\u001b[A\n",
      "Number of elements checked::   5%|><<<<<<<<<<<<<<| 4/74 [00:02<00:40,  1.71it/s]\u001b[A\n",
      "Number of elements checked::   7%|><<<<<<<<<<<<<<| 5/74 [00:02<00:40,  1.71it/s]\u001b[A\n",
      "Number of elements checked::   8%|><<<<<<<<<<<<<<| 6/74 [00:03<00:39,  1.71it/s]\u001b[A\n",
      "Number of elements checked::   9%|>><<<<<<<<<<<<<| 7/74 [00:04<00:39,  1.71it/s]\u001b[A\n",
      "Number of elements checked::  11%|>><<<<<<<<<<<<<| 8/74 [00:04<00:38,  1.71it/s]\u001b[A\n",
      "Number of elements checked::  12%|>><<<<<<<<<<<<<| 9/74 [00:05<00:38,  1.71it/s]\u001b[A\n",
      "Number of elements checked::  14%|><<<<<<<<<<<<<| 10/74 [00:05<00:37,  1.71it/s]\u001b[A\n",
      "Number of elements checked::  15%|>><<<<<<<<<<<<| 11/74 [00:06<00:36,  1.71it/s]\u001b[A\n",
      "Number of elements checked::  16%|>><<<<<<<<<<<<| 12/74 [00:07<00:36,  1.71it/s]\u001b[A\n",
      "Number of elements checked::  18%|>><<<<<<<<<<<<| 13/74 [00:07<00:35,  1.71it/s]\u001b[A\n",
      "Number of elements checked::  19%|>><<<<<<<<<<<<| 14/74 [00:08<00:34,  1.71it/s]\u001b[A\n",
      "Number of elements checked::  20%|>>><<<<<<<<<<<| 15/74 [00:08<00:34,  1.72it/s]\u001b[A\n",
      "Number of elements checked::  22%|>>><<<<<<<<<<<| 16/74 [00:09<00:33,  1.72it/s]\u001b[A\n",
      "Number of elements checked::  23%|>>><<<<<<<<<<<| 17/74 [00:09<00:33,  1.72it/s]\u001b[A\n",
      "Number of elements checked::  24%|>>>><<<<<<<<<<| 18/74 [00:10<00:32,  1.72it/s]\u001b[A\n",
      "Number of elements checked::  26%|>>>><<<<<<<<<<| 19/74 [00:11<00:32,  1.72it/s]\u001b[A\n",
      "Number of elements checked::  27%|>>>><<<<<<<<<<| 20/74 [00:11<00:31,  1.72it/s]\u001b[A\n",
      "Number of elements checked::  28%|>>>><<<<<<<<<<| 21/74 [00:12<00:30,  1.72it/s]\u001b[A\n",
      "Number of elements checked::  30%|>>>>><<<<<<<<<| 22/74 [00:12<00:30,  1.72it/s]\u001b[A\n",
      "Number of elements checked::  31%|>>>>><<<<<<<<<| 23/74 [00:13<00:29,  1.72it/s]\u001b[A\n",
      "Number of elements checked::  32%|>>>>><<<<<<<<<| 24/74 [00:14<00:29,  1.71it/s]\u001b[A\n",
      "Number of elements checked::  34%|>>>><<<<<<<<<<| 25/74 [00:14<00:28,  1.71it/s]\u001b[A\n",
      "Number of elements checked::  35%|>>>><<<<<<<<<<| 26/74 [00:15<00:28,  1.71it/s]\u001b[A\n",
      "Number of elements checked::  36%|>>>>>><<<<<<<<| 27/74 [00:15<00:27,  1.71it/s]\u001b[A\n",
      "Number of elements checked::  38%|>>>>><<<<<<<<<| 28/74 [00:16<00:26,  1.71it/s]\u001b[A\n",
      "Number of elements checked::  39%|>>>>><<<<<<<<<| 29/74 [00:16<00:26,  1.71it/s]\u001b[A\n",
      "Number of elements checked::  41%|>>>>><<<<<<<<<| 30/74 [00:17<00:25,  1.71it/s]\u001b[A\n",
      "Number of elements checked::  42%|>>>>><<<<<<<<<| 31/74 [00:18<00:25,  1.71it/s]\u001b[A\n",
      "Number of elements checked::  43%|>>>>>><<<<<<<<| 32/74 [00:18<00:24,  1.71it/s]\u001b[A\n",
      "Number of elements checked::  45%|>>>>>><<<<<<<<| 33/74 [00:19<00:24,  1.71it/s]\u001b[A\n",
      "Number of elements checked::  46%|>>>>>><<<<<<<<| 34/74 [00:19<00:23,  1.70it/s]\u001b[A\n",
      "Number of elements checked::  47%|>>>>>>><<<<<<<| 35/74 [00:20<00:22,  1.71it/s]\u001b[A\n",
      "Number of elements checked::  49%|>>>>>>><<<<<<<| 36/74 [00:21<00:22,  1.71it/s]\u001b[A\n",
      "Number of elements checked::  50%|>>>>>>><<<<<<<| 37/74 [00:21<00:21,  1.71it/s]\u001b[A\n",
      "Number of elements checked::  51%|>>>>>>>><<<<<<| 38/74 [00:22<00:21,  1.70it/s]\u001b[A\n",
      "Number of elements checked::  53%|>>>>>>>><<<<<<| 39/74 [00:22<00:20,  1.70it/s]\u001b[A\n",
      "Number of elements checked::  54%|>>>>>>>><<<<<<| 40/74 [00:23<00:19,  1.70it/s]\u001b[A\n",
      "Number of elements checked::  55%|>>>>>>>><<<<<<| 41/74 [00:23<00:19,  1.70it/s]\u001b[A\n",
      "Number of elements checked::  57%|>>>>>>><<<<<<<| 42/74 [00:24<00:18,  1.71it/s]\u001b[A\n",
      "Number of elements checked::  58%|>>>>>>>>><<<<<| 43/74 [00:25<00:18,  1.71it/s]\u001b[A\n",
      "Number of elements checked::  59%|>>>>>>>>><<<<<| 44/74 [00:25<00:17,  1.71it/s]\u001b[A\n",
      "Number of elements checked::  61%|>>>>>>>><<<<<<| 45/74 [00:26<00:17,  1.71it/s]\u001b[A\n",
      "Number of elements checked::  62%|>>>>>>>><<<<<<| 46/74 [00:26<00:16,  1.71it/s]\u001b[A\n",
      "Number of elements checked::  64%|>>>>>>>><<<<<<| 47/74 [00:27<00:15,  1.71it/s]\u001b[A\n",
      "Number of elements checked::  65%|>>>>>>>>><<<<<| 48/74 [00:28<00:15,  1.71it/s]\u001b[A\n",
      "Number of elements checked::  66%|>>>>>>>>><<<<<| 49/74 [00:28<00:14,  1.70it/s]\u001b[A\n",
      "Number of elements checked::  68%|>>>>>>>>><<<<<| 50/74 [00:29<00:14,  1.70it/s]\u001b[A\n",
      "Number of elements checked::  69%|>>>>>>>>><<<<<| 51/74 [00:29<00:13,  1.70it/s]\u001b[A\n",
      "Number of elements checked::  70%|>>>>>>>>>><<<<| 52/74 [00:30<00:12,  1.71it/s]\u001b[A\n",
      "Number of elements checked::  72%|>>>>>>>>>><<<<| 53/74 [00:31<00:12,  1.69it/s]\u001b[A\n",
      "Number of elements checked::  73%|>>>>>>>>>><<<<| 54/74 [00:31<00:11,  1.70it/s]\u001b[A\n",
      "Number of elements checked::  74%|>>>>>>>>>>><<<| 55/74 [00:32<00:11,  1.70it/s]\u001b[A\n",
      "Number of elements checked::  76%|>>>>>>>>>>><<<| 56/74 [00:32<00:10,  1.70it/s]\u001b[A\n",
      "Number of elements checked::  77%|>>>>>>>>>>><<<| 57/74 [00:33<00:09,  1.71it/s]\u001b[A\n",
      "Number of elements checked::  78%|>>>>>>>>>>><<<| 58/74 [00:33<00:09,  1.70it/s]\u001b[A\n",
      "Number of elements checked::  80%|>>>>>>>>>>>><<| 59/74 [00:34<00:08,  1.70it/s]\u001b[A\n",
      "Number of elements checked::  81%|>>>>>>>>>>>><<| 60/74 [00:35<00:08,  1.70it/s]\u001b[A\n",
      "Number of elements checked::  82%|>>>>>>>>>>>><<| 61/74 [00:35<00:07,  1.70it/s]\u001b[A\n",
      "Number of elements checked::  84%|>>>>>>>>>>><<<| 62/74 [00:36<00:07,  1.70it/s]\u001b[A\n",
      "Number of elements checked::  85%|>>>>>>>>>>><<<| 63/74 [00:36<00:06,  1.69it/s]\u001b[A\n",
      "Number of elements checked::  86%|>>>>>>>>>>>>><| 64/74 [00:37<00:05,  1.70it/s]\u001b[A\n",
      "Number of elements checked::  88%|>>>>>>>>>>>><<| 65/74 [00:38<00:05,  1.70it/s]\u001b[A\n",
      "Number of elements checked::  89%|>>>>>>>>>>>><<| 66/74 [00:38<00:04,  1.70it/s]\u001b[A\n",
      "Number of elements checked::  91%|>>>>>>>>>>>><<| 67/74 [00:39<00:04,  1.70it/s]\u001b[A\n",
      "Number of elements checked::  92%|>>>>>>>>>>>><<| 68/74 [00:39<00:03,  1.70it/s]\u001b[A\n",
      "Number of elements checked::  93%|>>>>>>>>>>>>><| 69/74 [00:40<00:02,  1.70it/s]\u001b[A\n",
      "Number of elements checked::  95%|>>>>>>>>>>>>><| 70/74 [00:41<00:02,  1.70it/s]\u001b[A\n",
      "Number of elements checked::  96%|>>>>>>>>>>>>><| 71/74 [00:41<00:01,  1.70it/s]\u001b[A\n",
      "Number of elements checked::  97%|>>>>>>>>>>>>>>| 72/74 [00:42<00:01,  1.70it/s]\u001b[A\n",
      "Number of elements checked::  99%|>>>>>>>>>>>>>>| 73/74 [00:42<00:00,  1.70it/s]\u001b[A\n",
      "Number of elements checked:: 100%|>>>>>>>>>>>>>>| 74/74 [00:43<00:00,  1.71it/s]\u001b[A"
     ]
    },
    {
     "name": "stdout",
     "output_type": "stream",
     "text": [
      "Long list has 808 elements\n",
      "Short list has 74 elements\n",
      "Number of unique hits: 104\n",
      "Number of elements found overlaps:\n",
      "\tFrom short list: 52\n",
      "\tFrom long list: 52\n",
      "\tTotal: 104\n",
      "Avg. hit across all element tested: 0.11791383219954649\n"
     ]
    },
    {
     "name": "stderr",
     "output_type": "stream",
     "text": [
      "\n"
     ]
    }
   ],
   "source": [
    "uniq_ls, hit_dict = get_overlap_statistics( df1 = tele_sig_up, df2 = squire_sig_up,\n",
    "                                           check_num_overlap = False, check_strand = True,\n",
    "                                           num_overlap_thresh = 40, pct_overlap_thresh = 0.5,\n",
    "                                           loc_col_names = ['genoName', 'genoStart', 'genoEnd', 'strand'],\n",
    "                                           print_stat = True)\n",
    "sig_up_by_pct_uniq = uniq_ls\n",
    "sig_up_by_pct_hit_dict = hit_dict.copy()\n",
    "\n",
    "#pct and number hits are the same result"
   ]
  },
  {
   "cell_type": "code",
   "execution_count": null,
   "id": "f11ffc7b-ad5b-4762-8d7f-5e6475d3ead3",
   "metadata": {},
   "outputs": [],
   "source": []
  },
  {
   "cell_type": "code",
   "execution_count": 37,
   "id": "3afd825a-3380-4533-9f51-5c8f630426d8",
   "metadata": {},
   "outputs": [
    {
     "data": {
      "application/vnd.jupyter.widget-view+json": {
       "model_id": "ae8fc5b5f0b848ecb1d134dbdd642b8d",
       "version_major": 2,
       "version_minor": 0
      },
      "text/plain": [
       "Number of elements checked::   0%|          | 0/808 [00:00<?, ?it/s]"
      ]
     },
     "metadata": {},
     "output_type": "display_data"
    },
    {
     "name": "stdout",
     "output_type": "stream",
     "text": [
      "Long list has 808 elements\n",
      "Short list has 808 elements\n",
      "Number of unique hits: 808\n",
      "Number of elements found overlaps:\n",
      "\tFrom short list: 808\n",
      "\tFrom long list: 810\n",
      "\tTotal: 1618\n",
      "Avg. hit across all element tested: 1.0012376237623761\n"
     ]
    }
   ],
   "source": [
    "# check overlap within lists\n",
    "uniq_ls, hit_dict = get_overlap_statistics( df1 = tele_sig_up, df2 = tele_sig_up,\n",
    "                                           check_num_overlap = True, check_strand = True,\n",
    "                                           num_overlap_thresh = 40, pct_overlap_thresh = 0.1,\n",
    "                                           loc_col_names = ['genoName', 'genoStart', 'genoEnd', 'strand'],\n",
    "                                           print_stat = True)\n",
    "tele_sig_up_by_num_uniq = uniq_ls\n",
    "tele_sig_up_by_num_hit_dict = hit_dict.copy()"
   ]
  },
  {
   "cell_type": "markdown",
   "id": "424f7558-e8eb-4b38-8d52-0e448e7d6c1c",
   "metadata": {},
   "source": [
    "<font color = red>there are only 2 genome locations overlapping within the telescope table! though there are only 102 unique transcript ID but 800 genome locations! "
   ]
  },
  {
   "cell_type": "code",
   "execution_count": 39,
   "id": "3262ed63-1c50-4b7f-932c-e4f62e0215e2",
   "metadata": {},
   "outputs": [
    {
     "data": {
      "text/plain": [
       "102"
      ]
     },
     "execution_count": 39,
     "metadata": {},
     "output_type": "execute_result"
    }
   ],
   "source": [
    "len( tele_sig_up['transcript_id'].unique() )"
   ]
  },
  {
   "cell_type": "code",
   "execution_count": null,
   "id": "83446b51-4000-48b9-995a-2a6a8b829fb1",
   "metadata": {},
   "outputs": [],
   "source": []
  },
  {
   "cell_type": "markdown",
   "id": "2015b5bb-8169-4905-891f-42d7607b0de1",
   "metadata": {},
   "source": [
    "### result for down regulated results"
   ]
  },
  {
   "cell_type": "code",
   "execution_count": 35,
   "id": "ffc4f3d4-481b-4b9d-9a23-d4ee381ee03a",
   "metadata": {},
   "outputs": [],
   "source": [
    "tele_sig_down[['genoStart', 'genoEnd']] = tele_sig_down[['genoStart', 'genoEnd']].astype(int)\n",
    "squire_sig_down[['genoStart', 'genoEnd']] = squire_sig_down[['genoStart', 'genoEnd']].astype(int)"
   ]
  },
  {
   "cell_type": "code",
   "execution_count": 36,
   "id": "3316762f-5ec5-4025-9eec-44f654e8d72a",
   "metadata": {},
   "outputs": [
    {
     "data": {
      "application/vnd.jupyter.widget-view+json": {
       "model_id": "476d2a243fd6439d92c84c0c70c19f27",
       "version_major": 2,
       "version_minor": 0
      },
      "text/plain": [
       "Number of elements checked::   0%|          | 0/33 [00:00<?, ?it/s]"
      ]
     },
     "metadata": {},
     "output_type": "display_data"
    },
    {
     "name": "stdout",
     "output_type": "stream",
     "text": [
      "Long list has 889 elements\n",
      "Short list has 33 elements\n",
      "Number of unique hits: 47\n",
      "Number of elements found overlaps:\n",
      "\tFrom short list: 24\n",
      "\tFrom long list: 24\n",
      "\tTotal: 48\n",
      "Avg. hit across all element tested: 0.052060737527114966\n"
     ]
    }
   ],
   "source": [
    "uniq_ls, hit_dict = get_overlap_statistics( df1 = tele_sig_down, df2 = squire_sig_down,\n",
    "                                           check_num_overlap = True, check_strand = True,\n",
    "                                           num_overlap_thresh = 40, pct_overlap_thresh = 0.1,\n",
    "                                           loc_col_names = ['genoName', 'genoStart', 'genoEnd', 'strand'],\n",
    "                                           print_stat = True)\n",
    "sig_down_by_num_uniq = uniq_ls\n",
    "sig_down_by_num_hit_dict = hit_dict.copy()"
   ]
  },
  {
   "cell_type": "code",
   "execution_count": null,
   "id": "1151dce4-21b0-4c38-8eb0-c74a9998481b",
   "metadata": {},
   "outputs": [],
   "source": [
    "sig_down_by_num_hit_dict"
   ]
  },
  {
   "cell_type": "code",
   "execution_count": 194,
   "id": "eb6292d7-9a25-443f-9145-b5f299f7f287",
   "metadata": {
    "collapsed": true,
    "jupyter": {
     "outputs_hidden": true
    }
   },
   "outputs": [
    {
     "name": "stderr",
     "output_type": "stream",
     "text": [
      "\n",
      "Number of elements checked::   0%|<<<<<<<<<<<<<<<<<<<<<<<| 0/33 [00:00<?, ?it/s]\u001b[A\n",
      "Number of elements checked::   3%|<<<<<<<<<<<<<<<| 1/33 [00:00<00:20,  1.56it/s]\u001b[A\n",
      "Number of elements checked::   6%|<<<<<<<<<<<<<<<| 2/33 [00:01<00:19,  1.56it/s]\u001b[A\n",
      "Number of elements checked::   9%|>><<<<<<<<<<<<<| 3/33 [00:01<00:19,  1.56it/s]\u001b[A\n",
      "Number of elements checked::  12%|>><<<<<<<<<<<<<| 4/33 [00:02<00:18,  1.56it/s]\u001b[A\n",
      "Number of elements checked::  15%|>><<<<<<<<<<<<<| 5/33 [00:03<00:17,  1.56it/s]\u001b[A\n",
      "Number of elements checked::  18%|>><<<<<<<<<<<<<| 6/33 [00:03<00:17,  1.56it/s]\u001b[A\n",
      "Number of elements checked::  21%|>>>><<<<<<<<<<<| 7/33 [00:04<00:16,  1.56it/s]\u001b[A\n",
      "Number of elements checked::  24%|>>><<<<<<<<<<<<| 8/33 [00:05<00:16,  1.56it/s]\u001b[A\n",
      "Number of elements checked::  27%|>>>><<<<<<<<<<<| 9/33 [00:05<00:15,  1.56it/s]\u001b[A\n",
      "Number of elements checked::  30%|>>>><<<<<<<<<<| 10/33 [00:06<00:14,  1.56it/s]\u001b[A\n",
      "Number of elements checked::  33%|>>>><<<<<<<<<<| 11/33 [00:07<00:14,  1.56it/s]\u001b[A\n",
      "Number of elements checked::  36%|>>>>><<<<<<<<<| 12/33 [00:07<00:13,  1.56it/s]\u001b[A\n",
      "Number of elements checked::  39%|>>>>><<<<<<<<<| 13/33 [00:08<00:12,  1.56it/s]\u001b[A\n",
      "Number of elements checked::  42%|>>>>><<<<<<<<<| 14/33 [00:08<00:12,  1.56it/s]\u001b[A\n",
      "Number of elements checked::  45%|>>>>>>><<<<<<<| 15/33 [00:09<00:11,  1.56it/s]\u001b[A\n",
      "Number of elements checked::  48%|>>>>>>><<<<<<<| 16/33 [00:10<00:10,  1.56it/s]\u001b[A\n",
      "Number of elements checked::  52%|>>>>>>><<<<<<<| 17/33 [00:10<00:10,  1.56it/s]\u001b[A\n",
      "Number of elements checked::  55%|>>>>>>><<<<<<<| 18/33 [00:11<00:09,  1.56it/s]\u001b[A\n",
      "Number of elements checked::  58%|>>>>>>>><<<<<<| 19/33 [00:12<00:09,  1.56it/s]\u001b[A\n",
      "Number of elements checked::  61%|>>>>>>>><<<<<<| 20/33 [00:12<00:08,  1.56it/s]\u001b[A\n",
      "Number of elements checked::  64%|>>>>>>>><<<<<<| 21/33 [00:13<00:07,  1.56it/s]\u001b[A\n",
      "Number of elements checked::  67%|>>>>>>>>>><<<<| 22/33 [00:14<00:07,  1.55it/s]\u001b[A\n",
      "Number of elements checked::  70%|>>>>>>>>>><<<<| 23/33 [00:14<00:06,  1.55it/s]\u001b[A\n",
      "Number of elements checked::  73%|>>>>>>>>>>><<<| 24/33 [00:15<00:05,  1.55it/s]\u001b[A\n",
      "Number of elements checked::  76%|>>>>>>>>>>><<<| 25/33 [00:16<00:05,  1.55it/s]\u001b[A\n",
      "Number of elements checked::  79%|>>>>>>>>>>><<<| 26/33 [00:16<00:04,  1.56it/s]\u001b[A\n",
      "Number of elements checked::  82%|>>>>>>>>>>><<<| 27/33 [00:17<00:03,  1.56it/s]\u001b[A\n",
      "Number of elements checked::  85%|>>>>>>>>>>><<<| 28/33 [00:17<00:03,  1.56it/s]\u001b[A\n",
      "Number of elements checked::  88%|>>>>>>>>>>>><<| 29/33 [00:18<00:02,  1.56it/s]\u001b[A\n",
      "Number of elements checked::  91%|>>>>>>>>>>>><<| 30/33 [00:19<00:01,  1.56it/s]\u001b[A\n",
      "Number of elements checked::  94%|>>>>>>>>>>>>>>| 31/33 [00:19<00:01,  1.56it/s]\u001b[A\n",
      "Number of elements checked::  97%|>>>>>>>>>>>>>>| 32/33 [00:20<00:00,  1.55it/s]\u001b[A\n",
      "Number of elements checked:: 100%|>>>>>>>>>>>>>>| 33/33 [00:21<00:00,  1.56it/s]\u001b[A"
     ]
    },
    {
     "name": "stdout",
     "output_type": "stream",
     "text": [
      "Long list has 889 elements\n",
      "Short list has 33 elements\n",
      "Number of unique hits: 47\n",
      "Number of elements found overlaps:\n",
      "\tFrom short list: 24\n",
      "\tFrom long list: 24\n",
      "\tTotal: 48\n",
      "Avg. hit across all element tested: 0.052060737527114966\n"
     ]
    },
    {
     "name": "stderr",
     "output_type": "stream",
     "text": [
      "\n"
     ]
    }
   ],
   "source": [
    "uniq_ls, hit_dict = get_overlap_statistics( df1 = tele_sig_down, df2 = squire_sig_down,\n",
    "                                           check_num_overlap = False, check_strand = True,\n",
    "                                           num_overlap_thresh = 40, pct_overlap_thresh = 0.5,\n",
    "                                           loc_col_names = ['genoName', 'genoStart', 'genoEnd', 'strand'],\n",
    "                                           print_stat = True)\n",
    "sig_down_by_pct_uniq = uniq_ls\n",
    "sig_down_by_pct_hit_dict = hit_dict.copy()"
   ]
  },
  {
   "cell_type": "code",
   "execution_count": null,
   "id": "3828fc70-b6b5-4c39-9731-05374f2772fe",
   "metadata": {},
   "outputs": [],
   "source": []
  },
  {
   "cell_type": "code",
   "execution_count": null,
   "id": "d149e6c5-a0e5-45b4-b60b-ecf59ef2c63c",
   "metadata": {},
   "outputs": [],
   "source": []
  },
  {
   "cell_type": "code",
   "execution_count": null,
   "id": "76d8c884-3d77-4fbe-9621-d8056754724a",
   "metadata": {},
   "outputs": [],
   "source": []
  },
  {
   "cell_type": "code",
   "execution_count": null,
   "id": "2b55b21b-943d-4511-b410-4c614de47b28",
   "metadata": {},
   "outputs": [],
   "source": []
  },
  {
   "cell_type": "markdown",
   "id": "8ba539a0-a32d-40ea-abb5-03a4691bb4b8",
   "metadata": {},
   "source": [
    "## save data"
   ]
  },
  {
   "cell_type": "code",
   "execution_count": null,
   "id": "fb108712-7795-4fc3-b47e-6103c5defb47",
   "metadata": {},
   "outputs": [],
   "source": [
    "# save the data first\n",
    "# check where in the ranked DGE lists are the overlapped elements \n",
    "# "
   ]
  },
  {
   "cell_type": "markdown",
   "id": "3fb0a452-a33f-4099-a52c-92910ca5d384",
   "metadata": {},
   "source": [
    "### load log table"
   ]
  },
  {
   "cell_type": "code",
   "execution_count": 49,
   "id": "dbe93560-4894-4424-add4-9e9196ae20ae",
   "metadata": {},
   "outputs": [
    {
     "data": {
      "text/html": [
       "<div>\n",
       "<style scoped>\n",
       "    .dataframe tbody tr th:only-of-type {\n",
       "        vertical-align: middle;\n",
       "    }\n",
       "\n",
       "    .dataframe tbody tr th {\n",
       "        vertical-align: top;\n",
       "    }\n",
       "\n",
       "    .dataframe thead th {\n",
       "        text-align: right;\n",
       "    }\n",
       "</style>\n",
       "<table border=\"1\" class=\"dataframe\">\n",
       "  <thead>\n",
       "    <tr style=\"text-align: right;\">\n",
       "      <th></th>\n",
       "      <th>count_table_indiv.csv</th>\n",
       "      <th>count_table_subF.csv</th>\n",
       "      <th>mm39_rmsk_full.tsv</th>\n",
       "    </tr>\n",
       "  </thead>\n",
       "  <tbody>\n",
       "    <tr>\n",
       "      <th>nb_created</th>\n",
       "      <td>1</td>\n",
       "      <td>1</td>\n",
       "      <td>downloaded from ucsc table browser</td>\n",
       "    </tr>\n",
       "    <tr>\n",
       "      <th>nb_updated</th>\n",
       "      <td>NaN</td>\n",
       "      <td>NaN</td>\n",
       "      <td>1</td>\n",
       "    </tr>\n",
       "    <tr>\n",
       "      <th>explain</th>\n",
       "      <td>count table obtained from combining the final_...</td>\n",
       "      <td>count table obtained from the indiv count tabl...</td>\n",
       "      <td>added the column of transcript_id, which is th...</td>\n",
       "    </tr>\n",
       "  </tbody>\n",
       "</table>\n",
       "</div>"
      ],
      "text/plain": [
       "                                        count_table_indiv.csv   \n",
       "nb_created                                                  1  \\\n",
       "nb_updated                                                NaN   \n",
       "explain     count table obtained from combining the final_...   \n",
       "\n",
       "                                         count_table_subF.csv   \n",
       "nb_created                                                  1  \\\n",
       "nb_updated                                                NaN   \n",
       "explain     count table obtained from the indiv count tabl...   \n",
       "\n",
       "                                           mm39_rmsk_full.tsv  \n",
       "nb_created                 downloaded from ucsc table browser  \n",
       "nb_updated                                                  1  \n",
       "explain     added the column of transcript_id, which is th...  "
      ]
     },
     "execution_count": 49,
     "metadata": {},
     "output_type": "execute_result"
    }
   ],
   "source": [
    "logi = pd.read_csv(\"./OUTPUT_EXPLAIN.csv\", index_col = 0)\n",
    "logi.head()"
   ]
  },
  {
   "cell_type": "code",
   "execution_count": 50,
   "id": "a7623f40-838c-4912-9da4-4a66855e8e02",
   "metadata": {},
   "outputs": [
    {
     "data": {
      "text/plain": [
       "Index(['count_table_indiv.csv', 'count_table_subF.csv', 'mm39_rmsk_full.tsv'], dtype='object')"
      ]
     },
     "execution_count": 50,
     "metadata": {},
     "output_type": "execute_result"
    }
   ],
   "source": [
    "logi.columns"
   ]
  },
  {
   "cell_type": "code",
   "execution_count": 51,
   "id": "93471a2a-2ecf-4abb-9e4b-85d30f494994",
   "metadata": {},
   "outputs": [],
   "source": [
    "# add explanation for R generated result\n",
    "logi['Deseq_indiv_locus_results.csv'] = ['R1' , 'NA' , 'Deseq result individual loci level. Generated from R1 deseq pipeline.']"
   ]
  },
  {
   "cell_type": "markdown",
   "id": "d2ad95e9-c125-4b99-aac1-daf83ae6512d",
   "metadata": {
    "jp-MarkdownHeadingCollapsed": true
   },
   "source": [
    "### save and update log file of the squire indiv dTE df that is from the turner organoid directory"
   ]
  },
  {
   "cell_type": "code",
   "execution_count": 203,
   "id": "71860362-b217-4d11-83fc-11039447ab8a",
   "metadata": {},
   "outputs": [],
   "source": [
    "squire_indiv.to_csv(\"/home/lucy/Dropbox/turner_organoid_bulk_RNA_local/Deseq_indiv_dTE_results.csv\", header = True, index = True )"
   ]
  },
  {
   "cell_type": "code",
   "execution_count": 204,
   "id": "36da1946-bd80-47d6-9dc7-9483aaa53be9",
   "metadata": {},
   "outputs": [
    {
     "data": {
      "text/plain": [
       "Index(['Deseq_indiv_dTE_results.csv', 'Deseq_TJP2KO_vs_WT_results.csv',\n",
       "       'Deseq_indiv_dGene_results.csv', 'Deseq_subF_dGene_results.csv',\n",
       "       'Deseq_subF_dTE_results.csv'],\n",
       "      dtype='object')"
      ]
     },
     "execution_count": 204,
     "metadata": {},
     "output_type": "execute_result"
    }
   ],
   "source": [
    "squire_logi = pd.read_csv(\"/home/lucy/Dropbox/turner_organoid_bulk_RNA_local/OUTPUT_EXPLAIN.csv\", index_col = 0 )\n",
    "squire_logi.columns"
   ]
  },
  {
   "cell_type": "code",
   "execution_count": 206,
   "id": "9f7dda17-2017-4e2c-b114-9200f0e8c74b",
   "metadata": {},
   "outputs": [
    {
     "data": {
      "text/plain": [
       "Index(['nb_created', ' nb_updated', 'explain'], dtype='object')"
      ]
     },
     "execution_count": 206,
     "metadata": {},
     "output_type": "execute_result"
    }
   ],
   "source": [
    "squire_logi.index"
   ]
  },
  {
   "cell_type": "code",
   "execution_count": 207,
   "id": "c0672ed2-da6a-4646-b0f0-04494fa62085",
   "metadata": {},
   "outputs": [],
   "source": [
    "squire_logi.loc[ ' nb_updated', 'Deseq_indiv_dTE_results.csv'] = 'telescope_dir_nb3'"
   ]
  },
  {
   "cell_type": "code",
   "execution_count": 211,
   "id": "dca54a5a-e17e-46be-b433-c16821c3e8ad",
   "metadata": {},
   "outputs": [],
   "source": [
    "squire_logi.loc[ 'explain', 'Deseq_indiv_dTE_results.csv'] = squire_logi.loc[ 'explain', 'Deseq_indiv_dTE_results.csv'] + ' Updated in telescope dir nb3 to add genome location and repName, repClass etc'  "
   ]
  },
  {
   "cell_type": "code",
   "execution_count": 212,
   "id": "4eac6c6b-3864-43d2-bf7b-1077e283fbcb",
   "metadata": {},
   "outputs": [
    {
     "data": {
      "text/plain": [
       "'Deseq dTE result comparing TJP2 KO and WT turner organoid data at individual loci level. Extracted from Deseq_TJP2KO_vs_WT_results.csv Updated in telescope dir nb3 to add genome location and repName, repClass etc'"
      ]
     },
     "execution_count": 212,
     "metadata": {},
     "output_type": "execute_result"
    }
   ],
   "source": [
    "squire_logi.loc[ 'explain', 'Deseq_indiv_dTE_results.csv'] "
   ]
  },
  {
   "cell_type": "code",
   "execution_count": 213,
   "id": "49421ddd-d1a7-4921-8c1f-864e9b1588b9",
   "metadata": {},
   "outputs": [],
   "source": [
    "squire_logi.to_csv(\"/home/lucy/Dropbox/turner_organoid_bulk_RNA_local/OUTPUT_EXPLAIN.csv\", header = True, index = True )"
   ]
  },
  {
   "cell_type": "markdown",
   "id": "252f8175-f7c7-4b62-a482-fe7a1731851e",
   "metadata": {},
   "source": [
    "### save telescope tables"
   ]
  },
  {
   "cell_type": "code",
   "execution_count": 195,
   "id": "7b7367c8-de79-48f2-a0e6-7f02c64ad4a3",
   "metadata": {},
   "outputs": [
    {
     "data": {
      "text/plain": [
       "(186774, 12)"
      ]
     },
     "execution_count": 195,
     "metadata": {},
     "output_type": "execute_result"
    }
   ],
   "source": [
    "tele_indiv.shape"
   ]
  },
  {
   "cell_type": "code",
   "execution_count": 196,
   "id": "6cd024bd-afc2-421c-92fa-4de538606653",
   "metadata": {},
   "outputs": [
    {
     "data": {
      "text/plain": [
       "(2522282, 16)"
      ]
     },
     "execution_count": 196,
     "metadata": {},
     "output_type": "execute_result"
    }
   ],
   "source": [
    "tele_indiv_geno.shape"
   ]
  },
  {
   "cell_type": "code",
   "execution_count": 215,
   "id": "efba2edc-f85d-4460-830b-244f30eba538",
   "metadata": {},
   "outputs": [],
   "source": [
    "tele_indiv_geno.to_csv(\"./genoLoc_Deseq_indiv_locus_result.csv\", header = True, index = False)"
   ]
  },
  {
   "cell_type": "code",
   "execution_count": 214,
   "id": "a11ed56a-12ab-4c33-828c-5cec0acecac3",
   "metadata": {},
   "outputs": [
    {
     "data": {
      "text/html": [
       "<div>\n",
       "<style scoped>\n",
       "    .dataframe tbody tr th:only-of-type {\n",
       "        vertical-align: middle;\n",
       "    }\n",
       "\n",
       "    .dataframe tbody tr th {\n",
       "        vertical-align: top;\n",
       "    }\n",
       "\n",
       "    .dataframe thead th {\n",
       "        text-align: right;\n",
       "    }\n",
       "</style>\n",
       "<table border=\"1\" class=\"dataframe\">\n",
       "  <thead>\n",
       "    <tr style=\"text-align: right;\">\n",
       "      <th></th>\n",
       "      <th>transcript_id</th>\n",
       "      <th>baseMean</th>\n",
       "      <th>log2FoldChange</th>\n",
       "      <th>lfcSE</th>\n",
       "      <th>stat</th>\n",
       "      <th>pvalue</th>\n",
       "      <th>padj</th>\n",
       "      <th>repClass</th>\n",
       "      <th>repFamily</th>\n",
       "      <th>repName</th>\n",
       "      <th>name_fam</th>\n",
       "      <th>name_fam_class</th>\n",
       "      <th>genoName</th>\n",
       "      <th>genoStart</th>\n",
       "      <th>genoEnd</th>\n",
       "      <th>strand</th>\n",
       "    </tr>\n",
       "  </thead>\n",
       "  <tbody>\n",
       "    <tr>\n",
       "      <th>1064900</th>\n",
       "      <td>4.5SRNA_226</td>\n",
       "      <td>0.840241</td>\n",
       "      <td>-0.411335</td>\n",
       "      <td>2.059217</td>\n",
       "      <td>-0.199753</td>\n",
       "      <td>0.841674</td>\n",
       "      <td>NaN</td>\n",
       "      <td>scRNA</td>\n",
       "      <td>scRNA</td>\n",
       "      <td>4.5SRNA</td>\n",
       "      <td>4.5SRNA|scRNA</td>\n",
       "      <td>4.5SRNA|scRNA|scRNA</td>\n",
       "      <td>chr2</td>\n",
       "      <td>146494727</td>\n",
       "      <td>146494784</td>\n",
       "      <td>-</td>\n",
       "    </tr>\n",
       "    <tr>\n",
       "      <th>1064901</th>\n",
       "      <td>4.5SRNA_226</td>\n",
       "      <td>0.840241</td>\n",
       "      <td>-0.411335</td>\n",
       "      <td>2.059217</td>\n",
       "      <td>-0.199753</td>\n",
       "      <td>0.841674</td>\n",
       "      <td>NaN</td>\n",
       "      <td>scRNA</td>\n",
       "      <td>scRNA</td>\n",
       "      <td>4.5SRNA</td>\n",
       "      <td>4.5SRNA|scRNA</td>\n",
       "      <td>4.5SRNA|scRNA|scRNA</td>\n",
       "      <td>chr3</td>\n",
       "      <td>93437305</td>\n",
       "      <td>93437355</td>\n",
       "      <td>-</td>\n",
       "    </tr>\n",
       "  </tbody>\n",
       "</table>\n",
       "</div>"
      ],
      "text/plain": [
       "        transcript_id  baseMean  log2FoldChange     lfcSE      stat    pvalue   \n",
       "1064900   4.5SRNA_226  0.840241       -0.411335  2.059217 -0.199753  0.841674  \\\n",
       "1064901   4.5SRNA_226  0.840241       -0.411335  2.059217 -0.199753  0.841674   \n",
       "\n",
       "         padj repClass repFamily  repName       name_fam       name_fam_class   \n",
       "1064900   NaN    scRNA     scRNA  4.5SRNA  4.5SRNA|scRNA  4.5SRNA|scRNA|scRNA  \\\n",
       "1064901   NaN    scRNA     scRNA  4.5SRNA  4.5SRNA|scRNA  4.5SRNA|scRNA|scRNA   \n",
       "\n",
       "        genoName  genoStart    genoEnd strand  \n",
       "1064900     chr2  146494727  146494784      -  \n",
       "1064901     chr3   93437305   93437355      -  "
      ]
     },
     "execution_count": 214,
     "metadata": {},
     "output_type": "execute_result"
    }
   ],
   "source": [
    "tele_indiv_geno.head(2)"
   ]
  },
  {
   "cell_type": "code",
   "execution_count": null,
   "id": "bb1e03cd-a125-45af-b140-a3caca1bc5fe",
   "metadata": {},
   "outputs": [],
   "source": []
  },
  {
   "cell_type": "code",
   "execution_count": 41,
   "id": "da3aac3d-bb65-4357-bd31-868567defbec",
   "metadata": {},
   "outputs": [
    {
     "data": {
      "text/html": [
       "<div>\n",
       "<style scoped>\n",
       "    .dataframe tbody tr th:only-of-type {\n",
       "        vertical-align: middle;\n",
       "    }\n",
       "\n",
       "    .dataframe tbody tr th {\n",
       "        vertical-align: top;\n",
       "    }\n",
       "\n",
       "    .dataframe thead th {\n",
       "        text-align: right;\n",
       "    }\n",
       "</style>\n",
       "<table border=\"1\" class=\"dataframe\">\n",
       "  <thead>\n",
       "    <tr style=\"text-align: right;\">\n",
       "      <th></th>\n",
       "      <th>transcript_id</th>\n",
       "      <th>baseMean</th>\n",
       "      <th>log2FoldChange</th>\n",
       "      <th>lfcSE</th>\n",
       "      <th>stat</th>\n",
       "      <th>pvalue</th>\n",
       "      <th>padj</th>\n",
       "      <th>repClass</th>\n",
       "      <th>repFamily</th>\n",
       "      <th>repName</th>\n",
       "      <th>name_fam</th>\n",
       "      <th>name_fam_class</th>\n",
       "      <th>genoName</th>\n",
       "      <th>genoStart</th>\n",
       "      <th>genoEnd</th>\n",
       "      <th>strand</th>\n",
       "    </tr>\n",
       "  </thead>\n",
       "  <tbody>\n",
       "    <tr>\n",
       "      <th>56475_B1F</th>\n",
       "      <td>B1F_354</td>\n",
       "      <td>33.036745</td>\n",
       "      <td>2.129803</td>\n",
       "      <td>0.305731</td>\n",
       "      <td>6.966267</td>\n",
       "      <td>3.254608e-12</td>\n",
       "      <td>4.160732e-10</td>\n",
       "      <td>SINE</td>\n",
       "      <td>Alu</td>\n",
       "      <td>B1F</td>\n",
       "      <td>B1F|Alu</td>\n",
       "      <td>B1F|Alu|SINE</td>\n",
       "      <td>chr1</td>\n",
       "      <td>36709993</td>\n",
       "      <td>36710089</td>\n",
       "      <td>+</td>\n",
       "    </tr>\n",
       "    <tr>\n",
       "      <th>56476_B1F</th>\n",
       "      <td>B1F_354</td>\n",
       "      <td>33.036745</td>\n",
       "      <td>2.129803</td>\n",
       "      <td>0.305731</td>\n",
       "      <td>6.966267</td>\n",
       "      <td>3.254608e-12</td>\n",
       "      <td>4.160732e-10</td>\n",
       "      <td>SINE</td>\n",
       "      <td>Alu</td>\n",
       "      <td>B1F</td>\n",
       "      <td>B1F|Alu</td>\n",
       "      <td>B1F|Alu|SINE</td>\n",
       "      <td>chr1</td>\n",
       "      <td>44956646</td>\n",
       "      <td>44956789</td>\n",
       "      <td>-</td>\n",
       "    </tr>\n",
       "  </tbody>\n",
       "</table>\n",
       "</div>"
      ],
      "text/plain": [
       "          transcript_id   baseMean  log2FoldChange     lfcSE      stat   \n",
       "56475_B1F       B1F_354  33.036745        2.129803  0.305731  6.966267  \\\n",
       "56476_B1F       B1F_354  33.036745        2.129803  0.305731  6.966267   \n",
       "\n",
       "                 pvalue          padj repClass repFamily repName name_fam   \n",
       "56475_B1F  3.254608e-12  4.160732e-10     SINE       Alu     B1F  B1F|Alu  \\\n",
       "56476_B1F  3.254608e-12  4.160732e-10     SINE       Alu     B1F  B1F|Alu   \n",
       "\n",
       "          name_fam_class genoName  genoStart   genoEnd strand  \n",
       "56475_B1F   B1F|Alu|SINE     chr1   36709993  36710089      +  \n",
       "56476_B1F   B1F|Alu|SINE     chr1   44956646  44956789      -  "
      ]
     },
     "execution_count": 41,
     "metadata": {},
     "output_type": "execute_result"
    }
   ],
   "source": [
    "tele_sig_up.head(2)"
   ]
  },
  {
   "cell_type": "code",
   "execution_count": 42,
   "id": "4b0757ba-2df6-4539-82be-5dd494a8a2f7",
   "metadata": {},
   "outputs": [],
   "source": [
    "tele_sig_up.to_csv(\"./compare_dTE_overlap/tele_sig_up.csv\", header = True, index = True)"
   ]
  },
  {
   "cell_type": "code",
   "execution_count": 43,
   "id": "bf8913e6-7b7d-4538-b642-f5d81dfb1676",
   "metadata": {},
   "outputs": [],
   "source": [
    "tele_sig_down.to_csv(\"./compare_dTE_overlap/tele_sig_down.csv\", header = True, index = True)"
   ]
  },
  {
   "cell_type": "code",
   "execution_count": null,
   "id": "e1a9424c-5e14-4dee-a934-4e9672eb347b",
   "metadata": {},
   "outputs": [],
   "source": []
  },
  {
   "cell_type": "code",
   "execution_count": 44,
   "id": "a7fcf902-332e-4283-a5e6-2d21d06e4e3e",
   "metadata": {},
   "outputs": [],
   "source": [
    "squire_sig_up.to_csv(\"./compare_dTE_overlap/squire_sig_up.csv\", header = True, index = True)"
   ]
  },
  {
   "cell_type": "code",
   "execution_count": 45,
   "id": "a2f950d8-d4be-4103-b0f1-7f2088932ac2",
   "metadata": {},
   "outputs": [],
   "source": [
    "squire_sig_down.to_csv(\"./compare_dTE_overlap/squire_sig_down.csv\", header = True, index = True)"
   ]
  },
  {
   "cell_type": "code",
   "execution_count": 46,
   "id": "545b4ec7-1bcf-4408-bdc4-80fe9e5fc42e",
   "metadata": {},
   "outputs": [],
   "source": [
    "import pickle"
   ]
  },
  {
   "cell_type": "code",
   "execution_count": 47,
   "id": "d28049f3-18b9-4749-8bdd-ed07b62d9683",
   "metadata": {},
   "outputs": [],
   "source": [
    "with open(\"./compare_dTE_overlap/sig_up_hit_dict.pkl\", 'wb') as f:\n",
    "    pickle.dump( sig_up_by_num_hit_dict, f )"
   ]
  },
  {
   "cell_type": "code",
   "execution_count": null,
   "id": "3fec88eb-ea2d-4409-9571-7bb96f98f240",
   "metadata": {},
   "outputs": [],
   "source": []
  },
  {
   "cell_type": "markdown",
   "id": "5ebd0e8e-2ba2-4127-a27c-fec73730463d",
   "metadata": {},
   "source": [
    "### write log file"
   ]
  },
  {
   "cell_type": "code",
   "execution_count": 52,
   "id": "175a0576-5256-4ca3-88af-9a568a518742",
   "metadata": {},
   "outputs": [],
   "source": [
    "logi['genoLoc_Deseq_indiv_locus_result.csv'] = ['3' , 'NA' , 'Derived from the Deseq_indiv_locus_results csv file. Added genome location information mapped from rmsk. Note that there are more rows in this table than in the original deseq table because some transcript ID can map to multiple genome locations']"
   ]
  },
  {
   "cell_type": "code",
   "execution_count": 53,
   "id": "2a19747d-5d2e-46cf-8e76-d08fd497eea6",
   "metadata": {},
   "outputs": [],
   "source": [
    "logi['compare_dTE_overlap/'] = [ '3', 'NA' , 'this folder contains temporary files used to compare dTE overlap between squire and telescope methods']"
   ]
  },
  {
   "cell_type": "code",
   "execution_count": 54,
   "id": "36745a47-0ac2-4744-b67d-b34f828584ad",
   "metadata": {},
   "outputs": [],
   "source": [
    "logi.to_csv(\"./OUTPUT_EXPLAIN.csv\", header = True, index= True )"
   ]
  },
  {
   "cell_type": "code",
   "execution_count": null,
   "id": "e29dbd17-da66-45ae-95be-e4226997ffd8",
   "metadata": {},
   "outputs": [],
   "source": []
  }
 ],
 "metadata": {
  "kernelspec": {
   "display_name": "qc_pipe",
   "language": "python",
   "name": "qc_pipe"
  },
  "language_info": {
   "codemirror_mode": {
    "name": "ipython",
    "version": 3
   },
   "file_extension": ".py",
   "mimetype": "text/x-python",
   "name": "python",
   "nbconvert_exporter": "python",
   "pygments_lexer": "ipython3",
   "version": "3.8.5"
  }
 },
 "nbformat": 4,
 "nbformat_minor": 5
}
