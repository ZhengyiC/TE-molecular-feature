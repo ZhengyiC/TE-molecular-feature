{
 "cells": [
  {
   "cell_type": "markdown",
   "id": "fdb21637-1c2d-49e6-9148-53f13db8cd4d",
   "metadata": {},
   "source": [
    "# This notebook redo turner mouse organoids seq similarity quantification and comparison with the re-sampling step\n",
    "- re-sample to make sure randomly selected sequences are from similar distribution with the significant dTEs"
   ]
  },
  {
   "cell_type": "code",
   "execution_count": null,
   "id": "8dca0415-e7b5-46ac-801a-9905c4f23ade",
   "metadata": {},
   "outputs": [],
   "source": []
  },
  {
   "cell_type": "code",
   "execution_count": 105,
   "id": "7db925d7-56d5-4512-8342-478335c0b866",
   "metadata": {},
   "outputs": [],
   "source": [
    "import pandas as pd\n",
    "import numpy as np\n",
    "import seaborn as sn\n",
    "import matplotlib.pyplot as plt\n",
    "import os"
   ]
  },
  {
   "cell_type": "code",
   "execution_count": 106,
   "id": "2d19b61f-9d18-431f-9385-4da246621ee5",
   "metadata": {},
   "outputs": [],
   "source": [
    "from matplotlib.patches import Patch"
   ]
  },
  {
   "cell_type": "code",
   "execution_count": 107,
   "id": "b84553e2-f92b-4c3f-b226-0c3f743de8bf",
   "metadata": {},
   "outputs": [],
   "source": [
    "import sequence_comparison as seqComp"
   ]
  },
  {
   "cell_type": "code",
   "execution_count": null,
   "id": "628151f6-f4ac-4254-9e20-76ff0ea9ec30",
   "metadata": {},
   "outputs": [],
   "source": []
  },
  {
   "cell_type": "code",
   "execution_count": null,
   "id": "97f5ad5d-650d-4d11-aa4a-5a3fa31fc7cf",
   "metadata": {},
   "outputs": [],
   "source": []
  },
  {
   "cell_type": "markdown",
   "id": "86575cf7-fed8-4a39-89c9-11b2550786be",
   "metadata": {},
   "source": [
    "## generate re-sampled control df for the squire dataset"
   ]
  },
  {
   "cell_type": "markdown",
   "id": "ae167709-24e6-4380-a1c5-789661278c5c",
   "metadata": {},
   "source": [
    "### load and prepare data"
   ]
  },
  {
   "cell_type": "code",
   "execution_count": 36,
   "id": "a859b339-5a8c-478a-a428-79264bd41185",
   "metadata": {},
   "outputs": [],
   "source": [
    "squire_indiv = pd.read_csv(\"/home/lucy/Dropbox/turner_organoid_bulk_RNA_local/Deseq_indiv_dTE_results.csv\", header = 0, index_col = 0 )"
   ]
  },
  {
   "cell_type": "code",
   "execution_count": 37,
   "id": "83656e32-7dc6-4c0c-8fc2-39fa1672d33f",
   "metadata": {},
   "outputs": [
    {
     "data": {
      "text/html": [
       "<div>\n",
       "<style scoped>\n",
       "    .dataframe tbody tr th:only-of-type {\n",
       "        vertical-align: middle;\n",
       "    }\n",
       "\n",
       "    .dataframe tbody tr th {\n",
       "        vertical-align: top;\n",
       "    }\n",
       "\n",
       "    .dataframe thead th {\n",
       "        text-align: right;\n",
       "    }\n",
       "</style>\n",
       "<table border=\"1\" class=\"dataframe\">\n",
       "  <thead>\n",
       "    <tr style=\"text-align: right;\">\n",
       "      <th></th>\n",
       "      <th>TE_ID</th>\n",
       "      <th>baseMean</th>\n",
       "      <th>log2FoldChange</th>\n",
       "      <th>lfcSE</th>\n",
       "      <th>stat</th>\n",
       "      <th>pvalue</th>\n",
       "      <th>padj</th>\n",
       "      <th>element_type</th>\n",
       "      <th>TE_name</th>\n",
       "      <th>TE_index</th>\n",
       "      <th>repName</th>\n",
       "      <th>repFamily</th>\n",
       "      <th>repClass</th>\n",
       "      <th>genoName</th>\n",
       "      <th>genoStart</th>\n",
       "      <th>genoEnd</th>\n",
       "      <th>strand</th>\n",
       "    </tr>\n",
       "  </thead>\n",
       "  <tbody>\n",
       "    <tr>\n",
       "      <th>0</th>\n",
       "      <td>chr13|73480020|73480091|PB1D9:Alu:SINE|268|-,.</td>\n",
       "      <td>9.000885</td>\n",
       "      <td>-0.489762</td>\n",
       "      <td>0.629289</td>\n",
       "      <td>-0.778278</td>\n",
       "      <td>0.800222</td>\n",
       "      <td>1.0</td>\n",
       "      <td>TE</td>\n",
       "      <td>PB1D9:Alu:SINE</td>\n",
       "      <td>PB1D9:Alu:SINE_268</td>\n",
       "      <td>PB1D9</td>\n",
       "      <td>Alu</td>\n",
       "      <td>SINE</td>\n",
       "      <td>chr13</td>\n",
       "      <td>73480020</td>\n",
       "      <td>73480091</td>\n",
       "      <td>-</td>\n",
       "    </tr>\n",
       "    <tr>\n",
       "      <th>1</th>\n",
       "      <td>chr5|117467874|117468005|RSINE1:B4:SINE|183|-,.</td>\n",
       "      <td>0.730917</td>\n",
       "      <td>-2.916743</td>\n",
       "      <td>3.081604</td>\n",
       "      <td>-0.946502</td>\n",
       "      <td>0.368835</td>\n",
       "      <td>1.0</td>\n",
       "      <td>TE</td>\n",
       "      <td>RSINE1:B4:SINE</td>\n",
       "      <td>RSINE1:B4:SINE_183</td>\n",
       "      <td>RSINE1</td>\n",
       "      <td>B4</td>\n",
       "      <td>SINE</td>\n",
       "      <td>chr5</td>\n",
       "      <td>117467874</td>\n",
       "      <td>117468005</td>\n",
       "      <td>-</td>\n",
       "    </tr>\n",
       "    <tr>\n",
       "      <th>2</th>\n",
       "      <td>chr3|96619212|96619284|ID4:ID:SINE|194|+,.</td>\n",
       "      <td>5.772588</td>\n",
       "      <td>0.121464</td>\n",
       "      <td>0.852163</td>\n",
       "      <td>0.142536</td>\n",
       "      <td>0.942801</td>\n",
       "      <td>1.0</td>\n",
       "      <td>TE</td>\n",
       "      <td>ID4:ID:SINE</td>\n",
       "      <td>ID4:ID:SINE_194</td>\n",
       "      <td>ID4</td>\n",
       "      <td>ID</td>\n",
       "      <td>SINE</td>\n",
       "      <td>chr3</td>\n",
       "      <td>96619212</td>\n",
       "      <td>96619284</td>\n",
       "      <td>+</td>\n",
       "    </tr>\n",
       "    <tr>\n",
       "      <th>3</th>\n",
       "      <td>chr15|93388865|93388965|PB1:Alu:SINE|227|-,.</td>\n",
       "      <td>32.028966</td>\n",
       "      <td>-0.216654</td>\n",
       "      <td>0.390147</td>\n",
       "      <td>-0.555314</td>\n",
       "      <td>0.978578</td>\n",
       "      <td>1.0</td>\n",
       "      <td>TE</td>\n",
       "      <td>PB1:Alu:SINE</td>\n",
       "      <td>PB1:Alu:SINE_227</td>\n",
       "      <td>PB1</td>\n",
       "      <td>Alu</td>\n",
       "      <td>SINE</td>\n",
       "      <td>chr15</td>\n",
       "      <td>93388865</td>\n",
       "      <td>93388965</td>\n",
       "      <td>-</td>\n",
       "    </tr>\n",
       "    <tr>\n",
       "      <th>4</th>\n",
       "      <td>chr11|94175967|94176153|B2_Mm2:B2:SINE|98|-,.</td>\n",
       "      <td>7.127690</td>\n",
       "      <td>0.305487</td>\n",
       "      <td>0.591882</td>\n",
       "      <td>0.516129</td>\n",
       "      <td>0.893386</td>\n",
       "      <td>1.0</td>\n",
       "      <td>TE</td>\n",
       "      <td>B2_Mm2:B2:SINE</td>\n",
       "      <td>B2_Mm2:B2:SINE_98</td>\n",
       "      <td>B2_Mm2</td>\n",
       "      <td>B2</td>\n",
       "      <td>SINE</td>\n",
       "      <td>chr11</td>\n",
       "      <td>94175967</td>\n",
       "      <td>94176153</td>\n",
       "      <td>-</td>\n",
       "    </tr>\n",
       "  </tbody>\n",
       "</table>\n",
       "</div>"
      ],
      "text/plain": [
       "                                             TE_ID   baseMean  log2FoldChange   \n",
       "0   chr13|73480020|73480091|PB1D9:Alu:SINE|268|-,.   9.000885       -0.489762  \\\n",
       "1  chr5|117467874|117468005|RSINE1:B4:SINE|183|-,.   0.730917       -2.916743   \n",
       "2       chr3|96619212|96619284|ID4:ID:SINE|194|+,.   5.772588        0.121464   \n",
       "3     chr15|93388865|93388965|PB1:Alu:SINE|227|-,.  32.028966       -0.216654   \n",
       "4    chr11|94175967|94176153|B2_Mm2:B2:SINE|98|-,.   7.127690        0.305487   \n",
       "\n",
       "      lfcSE      stat    pvalue  padj element_type         TE_name   \n",
       "0  0.629289 -0.778278  0.800222   1.0           TE  PB1D9:Alu:SINE  \\\n",
       "1  3.081604 -0.946502  0.368835   1.0           TE  RSINE1:B4:SINE   \n",
       "2  0.852163  0.142536  0.942801   1.0           TE     ID4:ID:SINE   \n",
       "3  0.390147 -0.555314  0.978578   1.0           TE    PB1:Alu:SINE   \n",
       "4  0.591882  0.516129  0.893386   1.0           TE  B2_Mm2:B2:SINE   \n",
       "\n",
       "             TE_index repName repFamily repClass genoName  genoStart   \n",
       "0  PB1D9:Alu:SINE_268   PB1D9       Alu     SINE    chr13   73480020  \\\n",
       "1  RSINE1:B4:SINE_183  RSINE1        B4     SINE     chr5  117467874   \n",
       "2     ID4:ID:SINE_194     ID4        ID     SINE     chr3   96619212   \n",
       "3    PB1:Alu:SINE_227     PB1       Alu     SINE    chr15   93388865   \n",
       "4   B2_Mm2:B2:SINE_98  B2_Mm2        B2     SINE    chr11   94175967   \n",
       "\n",
       "     genoEnd strand  \n",
       "0   73480091      -  \n",
       "1  117468005      -  \n",
       "2   96619284      +  \n",
       "3   93388965      -  \n",
       "4   94176153      -  "
      ]
     },
     "execution_count": 37,
     "metadata": {},
     "output_type": "execute_result"
    }
   ],
   "source": [
    "squire_indiv.head()"
   ]
  },
  {
   "cell_type": "code",
   "execution_count": 38,
   "id": "230bac91-71ff-458c-bd70-57b857659a6d",
   "metadata": {},
   "outputs": [],
   "source": [
    "squire_df_ind = squire_indiv.index.astype(str) + \"_\" + squire_indiv['repName']\n",
    "squire_indiv['df_index_repName'] = squire_df_ind"
   ]
  },
  {
   "cell_type": "code",
   "execution_count": 39,
   "id": "b6479cdd-2a31-4c04-b716-300fd3b1ea3a",
   "metadata": {},
   "outputs": [],
   "source": [
    "#squire_indiv.set_index( 'df_index_repName', inplace=True)"
   ]
  },
  {
   "cell_type": "code",
   "execution_count": null,
   "id": "e476144b-bfcf-4363-a831-1041373d580a",
   "metadata": {},
   "outputs": [],
   "source": []
  },
  {
   "cell_type": "code",
   "execution_count": 40,
   "id": "219137a2-defe-4263-97f0-c88859bfc61b",
   "metadata": {},
   "outputs": [],
   "source": [
    "seqlen = squire_indiv['genoEnd'] - squire_indiv['genoStart']\n",
    "squire_indiv['seqLen'] = seqlen"
   ]
  },
  {
   "cell_type": "code",
   "execution_count": 41,
   "id": "076a51d4-387a-4b7c-ba4e-d82ec502f4c6",
   "metadata": {},
   "outputs": [
    {
     "data": {
      "text/plain": [
       "(15235, 19)"
      ]
     },
     "execution_count": 41,
     "metadata": {},
     "output_type": "execute_result"
    }
   ],
   "source": [
    "squire_indiv.shape"
   ]
  },
  {
   "cell_type": "code",
   "execution_count": 42,
   "id": "b3018d90-157e-4796-b779-128875d64b5b",
   "metadata": {},
   "outputs": [
    {
     "data": {
      "text/plain": [
       "(114, 19)"
      ]
     },
     "execution_count": 42,
     "metadata": {},
     "output_type": "execute_result"
    }
   ],
   "source": [
    "squire_sig = squire_indiv[squire_indiv['padj']< 1e-5] \n",
    "squire_sig.shape"
   ]
  },
  {
   "cell_type": "code",
   "execution_count": null,
   "id": "ca139c61-710d-487c-adec-881822c7889e",
   "metadata": {},
   "outputs": [],
   "source": []
  },
  {
   "cell_type": "code",
   "execution_count": null,
   "id": "3f193efc-6f65-4fa3-aa66-f6621e2479a3",
   "metadata": {},
   "outputs": [],
   "source": []
  },
  {
   "cell_type": "markdown",
   "id": "e7ef9c2c-1eff-4c19-9249-e38c765d2a98",
   "metadata": {},
   "source": [
    "re-sampling step here"
   ]
  },
  {
   "cell_type": "code",
   "execution_count": 43,
   "id": "1c836969-0f73-4020-81ef-66cc00c0ec75",
   "metadata": {},
   "outputs": [
    {
     "name": "stdout",
     "output_type": "stream",
     "text": [
      "smooth start set True\n",
      "smooth end set True\n"
     ]
    },
    {
     "name": "stderr",
     "output_type": "stream",
     "text": [
      "/home/lucy/VU Basic Sciences Dropbox/Lucy Chen/telescope_run/sequence_comparison.py:270: SettingWithCopyWarning: \n",
      "A value is trying to be set on a copy of a slice from a DataFrame.\n",
      "Try using .loc[row_indexer,col_indexer] = value instead\n",
      "\n",
      "See the caveats in the documentation: https://pandas.pydata.org/pandas-docs/stable/user_guide/indexing.html#returning-a-view-versus-a-copy\n",
      "  target_df[target_col_name] = target_df[target_col_name].astype(float)\n"
     ]
    }
   ],
   "source": [
    "dTE_bs2, dTE_bp2, dTE_be2 = seqComp.get_target_distribution_bins( squire_sig, 'seqLen' , binw_constant= 0.2)\n",
    "\n",
    "ret_df_ls2, smooth_s2, smooth_e2 = seqComp.match_bins( target_bin_starts = dTE_bs2 , target_bin_end = dTE_be2,\n",
    "               pool_df = squire_indiv, pool_df_col_name = 'seqLen' )"
   ]
  },
  {
   "cell_type": "code",
   "execution_count": 44,
   "id": "4524bc49-c382-4bfd-9e54-a0711e9a8037",
   "metadata": {},
   "outputs": [
    {
     "name": "stdout",
     "output_type": "stream",
     "text": [
      "20\n",
      "||||| Testting: Pre-adjustment probability list for the pool data is \n",
      "[0.009556624626186451, 0.8019763359771162, 0.08431933428682876, 0.03731634377844233, 0.013262254583279157, 0.010531790404368743, 0.005135873098426733, 0.0036406189052138865, 0.0062410609803666625, 0.0014302431413340268, 0.0016902873488493044, 0.0026654531270315952, 0.0015602652450916656, 0.006891171499154856, 0.00214536471200104, 0.0033155636458197892, 0.0031855415420621504, 0.001300221037576388, 0.0009101547263034716, 0.0013652320894552074, 0.0015602652450916656]\n",
      "||||| Testting: Target probability list for the pool data is \n",
      "[0.001, 0.31484493886760767, 0.2273880114043833, 0.05247415647793461, 0.043728463731612176, 0.07871123471690192, 0.05247415647793461, 0.026237078238967305, 0.05247415647793461, 0.01749138549264487, 0.026237078238967305, 0.0009970089730807576, 0.008745692746322435, 0.008745692746322435, 0.008745692746322435, 0.008745692746322435, 0.0009970089730807576, 0.0009970089730807576, 0.008745692746322435, 0.06121984922425704, 0.001]\n",
      "||||| Testting: Post-adjustment sample size list for the pool data is [1, 316, 228, 52, 44, 79, 52, 26, 52, 17, 26, 1, 8, 8, 8, 8, 1, 1, 8, 61, 1]\n"
     ]
    }
   ],
   "source": [
    "bw2_resampled_df = seqComp.re_sample_pool_df( ret_df_ls2, smooth_s2, smooth_e2, dTE_bp2 , verbose=True) "
   ]
  },
  {
   "cell_type": "code",
   "execution_count": 45,
   "id": "3a543214-bcc3-4015-8392-7ff95840514b",
   "metadata": {},
   "outputs": [
    {
     "data": {
      "text/html": [
       "<div>\n",
       "<style scoped>\n",
       "    .dataframe tbody tr th:only-of-type {\n",
       "        vertical-align: middle;\n",
       "    }\n",
       "\n",
       "    .dataframe tbody tr th {\n",
       "        vertical-align: top;\n",
       "    }\n",
       "\n",
       "    .dataframe thead th {\n",
       "        text-align: right;\n",
       "    }\n",
       "</style>\n",
       "<table border=\"1\" class=\"dataframe\">\n",
       "  <thead>\n",
       "    <tr style=\"text-align: right;\">\n",
       "      <th></th>\n",
       "      <th>TE_ID</th>\n",
       "      <th>baseMean</th>\n",
       "      <th>log2FoldChange</th>\n",
       "      <th>lfcSE</th>\n",
       "      <th>stat</th>\n",
       "      <th>pvalue</th>\n",
       "      <th>padj</th>\n",
       "      <th>element_type</th>\n",
       "      <th>TE_name</th>\n",
       "      <th>TE_index</th>\n",
       "      <th>repName</th>\n",
       "      <th>repFamily</th>\n",
       "      <th>repClass</th>\n",
       "      <th>genoName</th>\n",
       "      <th>genoStart</th>\n",
       "      <th>genoEnd</th>\n",
       "      <th>strand</th>\n",
       "      <th>df_index_repName</th>\n",
       "      <th>seqLen</th>\n",
       "    </tr>\n",
       "  </thead>\n",
       "  <tbody>\n",
       "    <tr>\n",
       "      <th>10722</th>\n",
       "      <td>chr4|155890118|155890193|B4:B4:SINE|308|-,.</td>\n",
       "      <td>1.096375</td>\n",
       "      <td>-3.502292</td>\n",
       "      <td>2.760993</td>\n",
       "      <td>-1.268490</td>\n",
       "      <td>0.233867</td>\n",
       "      <td>1.000000</td>\n",
       "      <td>TE</td>\n",
       "      <td>B4:B4:SINE</td>\n",
       "      <td>B4:B4:SINE_308</td>\n",
       "      <td>B4</td>\n",
       "      <td>B4</td>\n",
       "      <td>SINE</td>\n",
       "      <td>chr4</td>\n",
       "      <td>155890118</td>\n",
       "      <td>155890193</td>\n",
       "      <td>-</td>\n",
       "      <td>10722_B4</td>\n",
       "      <td>75</td>\n",
       "    </tr>\n",
       "    <tr>\n",
       "      <th>7084</th>\n",
       "      <td>chr5|25895893|25896215|MTC:ERVL-MaLR:LTR|207|+,.</td>\n",
       "      <td>18.740915</td>\n",
       "      <td>-0.102457</td>\n",
       "      <td>0.388615</td>\n",
       "      <td>-0.263645</td>\n",
       "      <td>0.991822</td>\n",
       "      <td>1.000000</td>\n",
       "      <td>TE</td>\n",
       "      <td>MTC:ERVL-MaLR:LTR</td>\n",
       "      <td>MTC:ERVL-MaLR:LTR_207</td>\n",
       "      <td>MTC</td>\n",
       "      <td>ERVL-MaLR</td>\n",
       "      <td>LTR</td>\n",
       "      <td>chr5</td>\n",
       "      <td>25895893</td>\n",
       "      <td>25896215</td>\n",
       "      <td>+</td>\n",
       "      <td>7084_MTC</td>\n",
       "      <td>322</td>\n",
       "    </tr>\n",
       "    <tr>\n",
       "      <th>4049</th>\n",
       "      <td>chr9|50517841|50517919|ID4:ID:SINE|205|+,.</td>\n",
       "      <td>5.407029</td>\n",
       "      <td>0.151806</td>\n",
       "      <td>0.806736</td>\n",
       "      <td>0.188173</td>\n",
       "      <td>0.930144</td>\n",
       "      <td>1.000000</td>\n",
       "      <td>TE</td>\n",
       "      <td>ID4:ID:SINE</td>\n",
       "      <td>ID4:ID:SINE_205</td>\n",
       "      <td>ID4</td>\n",
       "      <td>ID</td>\n",
       "      <td>SINE</td>\n",
       "      <td>chr9</td>\n",
       "      <td>50517841</td>\n",
       "      <td>50517919</td>\n",
       "      <td>+</td>\n",
       "      <td>4049_ID4</td>\n",
       "      <td>78</td>\n",
       "    </tr>\n",
       "    <tr>\n",
       "      <th>6510</th>\n",
       "      <td>chr9|58376364|58376558|ID_B1:B4:SINE|284|+,.</td>\n",
       "      <td>19.337877</td>\n",
       "      <td>1.776631</td>\n",
       "      <td>0.412678</td>\n",
       "      <td>4.305124</td>\n",
       "      <td>0.029923</td>\n",
       "      <td>0.902737</td>\n",
       "      <td>TE</td>\n",
       "      <td>ID_B1:B4:SINE</td>\n",
       "      <td>ID_B1:B4:SINE_284</td>\n",
       "      <td>ID_B1</td>\n",
       "      <td>B4</td>\n",
       "      <td>SINE</td>\n",
       "      <td>chr9</td>\n",
       "      <td>58376364</td>\n",
       "      <td>58376558</td>\n",
       "      <td>+</td>\n",
       "      <td>6510_ID_B1</td>\n",
       "      <td>194</td>\n",
       "    </tr>\n",
       "    <tr>\n",
       "      <th>1217</th>\n",
       "      <td>chr15|77807826|77808024|B3:B2:SINE|224|-,.</td>\n",
       "      <td>4.472705</td>\n",
       "      <td>0.816450</td>\n",
       "      <td>0.950662</td>\n",
       "      <td>0.858823</td>\n",
       "      <td>0.604570</td>\n",
       "      <td>1.000000</td>\n",
       "      <td>TE</td>\n",
       "      <td>B3:B2:SINE</td>\n",
       "      <td>B3:B2:SINE_224</td>\n",
       "      <td>B3</td>\n",
       "      <td>B2</td>\n",
       "      <td>SINE</td>\n",
       "      <td>chr15</td>\n",
       "      <td>77807826</td>\n",
       "      <td>77808024</td>\n",
       "      <td>-</td>\n",
       "      <td>1217_B3</td>\n",
       "      <td>198</td>\n",
       "    </tr>\n",
       "  </tbody>\n",
       "</table>\n",
       "</div>"
      ],
      "text/plain": [
       "                                                  TE_ID   baseMean   \n",
       "10722       chr4|155890118|155890193|B4:B4:SINE|308|-,.   1.096375  \\\n",
       "7084   chr5|25895893|25896215|MTC:ERVL-MaLR:LTR|207|+,.  18.740915   \n",
       "4049         chr9|50517841|50517919|ID4:ID:SINE|205|+,.   5.407029   \n",
       "6510       chr9|58376364|58376558|ID_B1:B4:SINE|284|+,.  19.337877   \n",
       "1217         chr15|77807826|77808024|B3:B2:SINE|224|-,.   4.472705   \n",
       "\n",
       "       log2FoldChange     lfcSE      stat    pvalue      padj element_type   \n",
       "10722       -3.502292  2.760993 -1.268490  0.233867  1.000000           TE  \\\n",
       "7084        -0.102457  0.388615 -0.263645  0.991822  1.000000           TE   \n",
       "4049         0.151806  0.806736  0.188173  0.930144  1.000000           TE   \n",
       "6510         1.776631  0.412678  4.305124  0.029923  0.902737           TE   \n",
       "1217         0.816450  0.950662  0.858823  0.604570  1.000000           TE   \n",
       "\n",
       "                 TE_name               TE_index repName  repFamily repClass   \n",
       "10722         B4:B4:SINE         B4:B4:SINE_308      B4         B4     SINE  \\\n",
       "7084   MTC:ERVL-MaLR:LTR  MTC:ERVL-MaLR:LTR_207     MTC  ERVL-MaLR      LTR   \n",
       "4049         ID4:ID:SINE        ID4:ID:SINE_205     ID4         ID     SINE   \n",
       "6510       ID_B1:B4:SINE      ID_B1:B4:SINE_284   ID_B1         B4     SINE   \n",
       "1217          B3:B2:SINE         B3:B2:SINE_224      B3         B2     SINE   \n",
       "\n",
       "      genoName  genoStart    genoEnd strand df_index_repName  seqLen  \n",
       "10722     chr4  155890118  155890193      -         10722_B4      75  \n",
       "7084      chr5   25895893   25896215      +         7084_MTC     322  \n",
       "4049      chr9   50517841   50517919      +         4049_ID4      78  \n",
       "6510      chr9   58376364   58376558      +       6510_ID_B1     194  \n",
       "1217     chr15   77807826   77808024      -          1217_B3     198  "
      ]
     },
     "execution_count": 45,
     "metadata": {},
     "output_type": "execute_result"
    }
   ],
   "source": [
    "bw2_resampled_df.head()"
   ]
  },
  {
   "cell_type": "code",
   "execution_count": 47,
   "id": "b4bf1bc8-47ec-4c67-9b15-0827d5439f9b",
   "metadata": {},
   "outputs": [
    {
     "data": {
      "text/plain": [
       "(958, 19)"
      ]
     },
     "execution_count": 47,
     "metadata": {},
     "output_type": "execute_result"
    }
   ],
   "source": [
    "bw2_resampled_df.shape"
   ]
  },
  {
   "cell_type": "code",
   "execution_count": 64,
   "id": "d08b4490-1297-4cb7-902e-72e298834eab",
   "metadata": {},
   "outputs": [],
   "source": [
    "# Compare distribution"
   ]
  },
  {
   "cell_type": "code",
   "execution_count": 61,
   "id": "bcaa8e19-c10a-4cf1-b4bc-a87db2d73f3a",
   "metadata": {},
   "outputs": [
    {
     "data": {
      "text/html": [
       "<svg  width=\"550\" height=\"55\"><rect x=\"0\" y=\"0\" width=\"55\" height=\"55\" style=\"fill:#0173b2;stroke-width:2;stroke:rgb(255,255,255)\"/><rect x=\"55\" y=\"0\" width=\"55\" height=\"55\" style=\"fill:#de8f05;stroke-width:2;stroke:rgb(255,255,255)\"/><rect x=\"110\" y=\"0\" width=\"55\" height=\"55\" style=\"fill:#029e73;stroke-width:2;stroke:rgb(255,255,255)\"/><rect x=\"165\" y=\"0\" width=\"55\" height=\"55\" style=\"fill:#d55e00;stroke-width:2;stroke:rgb(255,255,255)\"/><rect x=\"220\" y=\"0\" width=\"55\" height=\"55\" style=\"fill:#cc78bc;stroke-width:2;stroke:rgb(255,255,255)\"/><rect x=\"275\" y=\"0\" width=\"55\" height=\"55\" style=\"fill:#ca9161;stroke-width:2;stroke:rgb(255,255,255)\"/><rect x=\"330\" y=\"0\" width=\"55\" height=\"55\" style=\"fill:#fbafe4;stroke-width:2;stroke:rgb(255,255,255)\"/><rect x=\"385\" y=\"0\" width=\"55\" height=\"55\" style=\"fill:#949494;stroke-width:2;stroke:rgb(255,255,255)\"/><rect x=\"440\" y=\"0\" width=\"55\" height=\"55\" style=\"fill:#ece133;stroke-width:2;stroke:rgb(255,255,255)\"/><rect x=\"495\" y=\"0\" width=\"55\" height=\"55\" style=\"fill:#56b4e9;stroke-width:2;stroke:rgb(255,255,255)\"/></svg>"
      ],
      "text/plain": [
       "[(0.00392156862745098, 0.45098039215686275, 0.6980392156862745),\n",
       " (0.8705882352941177, 0.5607843137254902, 0.0196078431372549),\n",
       " (0.00784313725490196, 0.6196078431372549, 0.45098039215686275),\n",
       " (0.8352941176470589, 0.3686274509803922, 0.0),\n",
       " (0.8, 0.47058823529411764, 0.7372549019607844),\n",
       " (0.792156862745098, 0.5686274509803921, 0.3803921568627451),\n",
       " (0.984313725490196, 0.6862745098039216, 0.8941176470588236),\n",
       " (0.5803921568627451, 0.5803921568627451, 0.5803921568627451),\n",
       " (0.9254901960784314, 0.8823529411764706, 0.2),\n",
       " (0.33725490196078434, 0.7058823529411765, 0.9137254901960784)]"
      ]
     },
     "execution_count": 61,
     "metadata": {},
     "output_type": "execute_result"
    }
   ],
   "source": [
    "cp = sn.color_palette(\"colorblind\")\n",
    "cp"
   ]
  },
  {
   "cell_type": "code",
   "execution_count": 63,
   "id": "1d37d22b-90ac-46ca-bf3e-1ca4a19d13ea",
   "metadata": {},
   "outputs": [
    {
     "data": {
      "image/png": "[encoded data removed]",
      "text/plain": [
       "<Figure size 1200x500 with 3 Axes>"
      ]
     },
     "metadata": {},
     "output_type": "display_data"
    }
   ],
   "source": [
    "f,axes = plt.subplots( ncols=3, nrows = 1, figsize = [12,5])\n",
    "sn.violinplot( squire_indiv['seqLen'], ax = axes[0], color = cp[3] )\n",
    "axes[0].set_title(\"ALL TE\")\n",
    "\n",
    "sn.violinplot( bw2_resampled_df['seqLen'], ax = axes[1], color = cp[1] )\n",
    "axes[1].set_title(\"Re-sampled all TE\")\n",
    "\n",
    "sn.violinplot( squire_sig['seqLen'], ax = axes[2], color = cp[2] )\n",
    "axes[2].set_title(\"Significant dTE\")\n",
    "\n",
    "\n",
    "axes[0].set_ylim([-1000, 10000] )\n",
    "axes[1].set_ylim( [-1000,10000])\n",
    "axes[2].set_ylim( [-1000,10000])\n",
    "\n",
    "plt.show()"
   ]
  },
  {
   "cell_type": "code",
   "execution_count": null,
   "id": "80897c37-362f-4b9b-861f-bf822c82ce7f",
   "metadata": {},
   "outputs": [],
   "source": []
  },
  {
   "cell_type": "code",
   "execution_count": null,
   "id": "8db6cc77-e6a5-4318-8672-9f009ba603d3",
   "metadata": {},
   "outputs": [],
   "source": []
  },
  {
   "cell_type": "code",
   "execution_count": null,
   "id": "a0cc820c-69a4-4e65-bff9-e81c52e69a6b",
   "metadata": {},
   "outputs": [],
   "source": []
  },
  {
   "cell_type": "code",
   "execution_count": null,
   "id": "5939d36e-2de0-45cf-b1aa-ada30387f900",
   "metadata": {},
   "outputs": [],
   "source": []
  },
  {
   "cell_type": "markdown",
   "id": "8a031922-ef15-43fa-a3cd-606a9df8f27d",
   "metadata": {},
   "source": [
    "## Get similarity scores for the re-sampled control data points"
   ]
  },
  {
   "cell_type": "markdown",
   "id": "cafdc61f-c49c-40b0-98ed-87d50825427b",
   "metadata": {},
   "source": [
    "### save control ( randomly selected sample fasta)"
   ]
  },
  {
   "cell_type": "code",
   "execution_count": 48,
   "id": "be5a1dde-be5c-4459-9a41-48dce27f30f3",
   "metadata": {},
   "outputs": [],
   "source": [
    "mm39_path = '/home/lucy/Dropbox/mouse_ref_genome_mm39/mm39.fa'"
   ]
  },
  {
   "cell_type": "code",
   "execution_count": 49,
   "id": "1d6a9431-9f8f-4634-bf41-dd9732135a8d",
   "metadata": {},
   "outputs": [],
   "source": [
    "resampled_df = bw2_resampled_df"
   ]
  },
  {
   "cell_type": "code",
   "execution_count": 50,
   "id": "e0d5577c-2660-4f81-bfc2-3e873806dcd6",
   "metadata": {},
   "outputs": [
    {
     "name": "stdout",
     "output_type": "stream",
     "text": [
      "rand10_1\n",
      "rand10_2\n",
      "rand10_3\n",
      "rand20_1\n",
      "rand20_2\n",
      "rand20_3\n",
      "rand50_1\n",
      "rand50_2\n",
      "rand50_3\n"
     ]
    }
   ],
   "source": [
    "rand_df_ls = []\n",
    "rand_df_names = [] # rand{n_element}_{rep}\n",
    "\n",
    "n_elements = [ 10, 20, 50 ]\n",
    "nreps = 3\n",
    "\n",
    "for ele in n_elements:\n",
    "    for rep in range(nreps):\n",
    "        subdf = resampled_df.sample( n = ele, random_state= 250+rep+ele ) #my number when I do research @_@\n",
    "        rand_name = f\"rand{ele}_{rep+1}\"\n",
    "        print( rand_name )\n",
    "\n",
    "        rand_df_ls.append( subdf )\n",
    "        rand_df_names.append( rand_name )\n"
   ]
  },
  {
   "cell_type": "code",
   "execution_count": 51,
   "id": "760414b7-6c1f-40ec-b1d1-ea13f4dbf5f8",
   "metadata": {},
   "outputs": [
    {
     "data": {
      "text/html": [
       "<div>\n",
       "<style scoped>\n",
       "    .dataframe tbody tr th:only-of-type {\n",
       "        vertical-align: middle;\n",
       "    }\n",
       "\n",
       "    .dataframe tbody tr th {\n",
       "        vertical-align: top;\n",
       "    }\n",
       "\n",
       "    .dataframe thead th {\n",
       "        text-align: right;\n",
       "    }\n",
       "</style>\n",
       "<table border=\"1\" class=\"dataframe\">\n",
       "  <thead>\n",
       "    <tr style=\"text-align: right;\">\n",
       "      <th></th>\n",
       "      <th>TE_ID</th>\n",
       "      <th>baseMean</th>\n",
       "      <th>log2FoldChange</th>\n",
       "      <th>lfcSE</th>\n",
       "      <th>stat</th>\n",
       "      <th>pvalue</th>\n",
       "      <th>padj</th>\n",
       "      <th>element_type</th>\n",
       "      <th>TE_name</th>\n",
       "      <th>TE_index</th>\n",
       "      <th>repName</th>\n",
       "      <th>repFamily</th>\n",
       "      <th>repClass</th>\n",
       "      <th>genoName</th>\n",
       "      <th>genoStart</th>\n",
       "      <th>genoEnd</th>\n",
       "      <th>strand</th>\n",
       "      <th>df_index_repName</th>\n",
       "      <th>seqLen</th>\n",
       "    </tr>\n",
       "  </thead>\n",
       "  <tbody>\n",
       "    <tr>\n",
       "      <th>1553</th>\n",
       "      <td>chr11|86099241|86099744|RLTR4_MM-int:LTR:LTR|2...</td>\n",
       "      <td>301.602766</td>\n",
       "      <td>-0.054947</td>\n",
       "      <td>0.105825</td>\n",
       "      <td>-0.519220</td>\n",
       "      <td>1.000000</td>\n",
       "      <td>1.0</td>\n",
       "      <td>TE</td>\n",
       "      <td>RLTR4_MM-int:LTR:LTR</td>\n",
       "      <td>RLTR4_MM-int:LTR:LTR_294</td>\n",
       "      <td>RLTR4_MM-int</td>\n",
       "      <td>LTR</td>\n",
       "      <td>LTR</td>\n",
       "      <td>chr11</td>\n",
       "      <td>86099241</td>\n",
       "      <td>86099744</td>\n",
       "      <td>+</td>\n",
       "      <td>1553_RLTR4_MM-int</td>\n",
       "      <td>503</td>\n",
       "    </tr>\n",
       "    <tr>\n",
       "      <th>11552</th>\n",
       "      <td>chr10|126882828|126882983|B3A:B2:SINE|280|+,.</td>\n",
       "      <td>9.529313</td>\n",
       "      <td>-0.498815</td>\n",
       "      <td>0.530811</td>\n",
       "      <td>-0.939722</td>\n",
       "      <td>0.829837</td>\n",
       "      <td>1.0</td>\n",
       "      <td>TE</td>\n",
       "      <td>B3A:B2:SINE</td>\n",
       "      <td>B3A:B2:SINE_280</td>\n",
       "      <td>B3A</td>\n",
       "      <td>B2</td>\n",
       "      <td>SINE</td>\n",
       "      <td>chr10</td>\n",
       "      <td>126882828</td>\n",
       "      <td>126882983</td>\n",
       "      <td>+</td>\n",
       "      <td>11552_B3A</td>\n",
       "      <td>155</td>\n",
       "    </tr>\n",
       "    <tr>\n",
       "      <th>11163</th>\n",
       "      <td>chr3|105872890|105873023|B1_Mus1:Alu:SINE|286|-,.</td>\n",
       "      <td>5.906968</td>\n",
       "      <td>-0.078555</td>\n",
       "      <td>0.694792</td>\n",
       "      <td>-0.113063</td>\n",
       "      <td>0.967906</td>\n",
       "      <td>1.0</td>\n",
       "      <td>TE</td>\n",
       "      <td>B1_Mus1:Alu:SINE</td>\n",
       "      <td>B1_Mus1:Alu:SINE_286</td>\n",
       "      <td>B1_Mus1</td>\n",
       "      <td>Alu</td>\n",
       "      <td>SINE</td>\n",
       "      <td>chr3</td>\n",
       "      <td>105872890</td>\n",
       "      <td>105873023</td>\n",
       "      <td>-</td>\n",
       "      <td>11163_B1_Mus1</td>\n",
       "      <td>133</td>\n",
       "    </tr>\n",
       "    <tr>\n",
       "      <th>8570</th>\n",
       "      <td>chr4|49475323|49475699|RLTR4_MM-int:LTR:LTR|32...</td>\n",
       "      <td>5.167232</td>\n",
       "      <td>-0.129073</td>\n",
       "      <td>0.779219</td>\n",
       "      <td>-0.165644</td>\n",
       "      <td>0.941822</td>\n",
       "      <td>1.0</td>\n",
       "      <td>TE</td>\n",
       "      <td>RLTR4_MM-int:LTR:LTR</td>\n",
       "      <td>RLTR4_MM-int:LTR:LTR_320</td>\n",
       "      <td>RLTR4_MM-int</td>\n",
       "      <td>LTR</td>\n",
       "      <td>LTR</td>\n",
       "      <td>chr4</td>\n",
       "      <td>49475323</td>\n",
       "      <td>49475699</td>\n",
       "      <td>+</td>\n",
       "      <td>8570_RLTR4_MM-int</td>\n",
       "      <td>376</td>\n",
       "    </tr>\n",
       "    <tr>\n",
       "      <th>10988</th>\n",
       "      <td>chr17|32763322|32763486|MT2B:ERVL:LTR|290|-,.</td>\n",
       "      <td>6.477771</td>\n",
       "      <td>0.415987</td>\n",
       "      <td>0.730929</td>\n",
       "      <td>0.569121</td>\n",
       "      <td>0.814213</td>\n",
       "      <td>1.0</td>\n",
       "      <td>TE</td>\n",
       "      <td>MT2B:ERVL:LTR</td>\n",
       "      <td>MT2B:ERVL:LTR_290</td>\n",
       "      <td>MT2B</td>\n",
       "      <td>ERVL</td>\n",
       "      <td>LTR</td>\n",
       "      <td>chr17</td>\n",
       "      <td>32763322</td>\n",
       "      <td>32763486</td>\n",
       "      <td>-</td>\n",
       "      <td>10988_MT2B</td>\n",
       "      <td>164</td>\n",
       "    </tr>\n",
       "  </tbody>\n",
       "</table>\n",
       "</div>"
      ],
      "text/plain": [
       "                                                   TE_ID    baseMean   \n",
       "1553   chr11|86099241|86099744|RLTR4_MM-int:LTR:LTR|2...  301.602766  \\\n",
       "11552      chr10|126882828|126882983|B3A:B2:SINE|280|+,.    9.529313   \n",
       "11163  chr3|105872890|105873023|B1_Mus1:Alu:SINE|286|-,.    5.906968   \n",
       "8570   chr4|49475323|49475699|RLTR4_MM-int:LTR:LTR|32...    5.167232   \n",
       "10988      chr17|32763322|32763486|MT2B:ERVL:LTR|290|-,.    6.477771   \n",
       "\n",
       "       log2FoldChange     lfcSE      stat    pvalue  padj element_type   \n",
       "1553        -0.054947  0.105825 -0.519220  1.000000   1.0           TE  \\\n",
       "11552       -0.498815  0.530811 -0.939722  0.829837   1.0           TE   \n",
       "11163       -0.078555  0.694792 -0.113063  0.967906   1.0           TE   \n",
       "8570        -0.129073  0.779219 -0.165644  0.941822   1.0           TE   \n",
       "10988        0.415987  0.730929  0.569121  0.814213   1.0           TE   \n",
       "\n",
       "                    TE_name                  TE_index       repName repFamily   \n",
       "1553   RLTR4_MM-int:LTR:LTR  RLTR4_MM-int:LTR:LTR_294  RLTR4_MM-int       LTR  \\\n",
       "11552           B3A:B2:SINE           B3A:B2:SINE_280           B3A        B2   \n",
       "11163      B1_Mus1:Alu:SINE      B1_Mus1:Alu:SINE_286       B1_Mus1       Alu   \n",
       "8570   RLTR4_MM-int:LTR:LTR  RLTR4_MM-int:LTR:LTR_320  RLTR4_MM-int       LTR   \n",
       "10988         MT2B:ERVL:LTR         MT2B:ERVL:LTR_290          MT2B      ERVL   \n",
       "\n",
       "      repClass genoName  genoStart    genoEnd strand   df_index_repName   \n",
       "1553       LTR    chr11   86099241   86099744      +  1553_RLTR4_MM-int  \\\n",
       "11552     SINE    chr10  126882828  126882983      +          11552_B3A   \n",
       "11163     SINE     chr3  105872890  105873023      -      11163_B1_Mus1   \n",
       "8570       LTR     chr4   49475323   49475699      +  8570_RLTR4_MM-int   \n",
       "10988      LTR    chr17   32763322   32763486      -         10988_MT2B   \n",
       "\n",
       "       seqLen  \n",
       "1553      503  \n",
       "11552     155  \n",
       "11163     133  \n",
       "8570      376  \n",
       "10988     164  "
      ]
     },
     "execution_count": 51,
     "metadata": {},
     "output_type": "execute_result"
    }
   ],
   "source": [
    "rand_df_ls[0].head()"
   ]
  },
  {
   "cell_type": "code",
   "execution_count": 52,
   "id": "533e4ec3-794b-4cdf-b68e-64204331586d",
   "metadata": {},
   "outputs": [
    {
     "data": {
      "text/html": [
       "<div>\n",
       "<style scoped>\n",
       "    .dataframe tbody tr th:only-of-type {\n",
       "        vertical-align: middle;\n",
       "    }\n",
       "\n",
       "    .dataframe tbody tr th {\n",
       "        vertical-align: top;\n",
       "    }\n",
       "\n",
       "    .dataframe thead th {\n",
       "        text-align: right;\n",
       "    }\n",
       "</style>\n",
       "<table border=\"1\" class=\"dataframe\">\n",
       "  <thead>\n",
       "    <tr style=\"text-align: right;\">\n",
       "      <th></th>\n",
       "      <th>TE_ID</th>\n",
       "      <th>baseMean</th>\n",
       "      <th>log2FoldChange</th>\n",
       "      <th>lfcSE</th>\n",
       "      <th>stat</th>\n",
       "      <th>pvalue</th>\n",
       "      <th>padj</th>\n",
       "      <th>element_type</th>\n",
       "      <th>TE_name</th>\n",
       "      <th>TE_index</th>\n",
       "      <th>repName</th>\n",
       "      <th>repFamily</th>\n",
       "      <th>repClass</th>\n",
       "      <th>genoName</th>\n",
       "      <th>genoStart</th>\n",
       "      <th>genoEnd</th>\n",
       "      <th>strand</th>\n",
       "      <th>df_index_repName</th>\n",
       "      <th>seqLen</th>\n",
       "    </tr>\n",
       "  </thead>\n",
       "  <tbody>\n",
       "    <tr>\n",
       "      <th>9749</th>\n",
       "      <td>chr11|86773882|86781441|RLTR4_MM-int:LTR:LTR|2...</td>\n",
       "      <td>50.875769</td>\n",
       "      <td>4.617053</td>\n",
       "      <td>1.056281</td>\n",
       "      <td>4.371045</td>\n",
       "      <td>0.000308</td>\n",
       "      <td>0.019474</td>\n",
       "      <td>TE</td>\n",
       "      <td>RLTR4_MM-int:LTR:LTR</td>\n",
       "      <td>RLTR4_MM-int:LTR:LTR_20</td>\n",
       "      <td>RLTR4_MM-int</td>\n",
       "      <td>LTR</td>\n",
       "      <td>LTR</td>\n",
       "      <td>chr11</td>\n",
       "      <td>86773882</td>\n",
       "      <td>86781441</td>\n",
       "      <td>+</td>\n",
       "      <td>9749_RLTR4_MM-int</td>\n",
       "      <td>7559</td>\n",
       "    </tr>\n",
       "    <tr>\n",
       "      <th>8116</th>\n",
       "      <td>chr15|37896571|37899225|RMER3D-int:ERVK:LTR|14...</td>\n",
       "      <td>5.347996</td>\n",
       "      <td>0.793885</td>\n",
       "      <td>0.831874</td>\n",
       "      <td>0.954333</td>\n",
       "      <td>0.613369</td>\n",
       "      <td>1.000000</td>\n",
       "      <td>TE</td>\n",
       "      <td>RMER3D-int:ERVK:LTR</td>\n",
       "      <td>RMER3D-int:ERVK:LTR_140</td>\n",
       "      <td>RMER3D-int</td>\n",
       "      <td>ERVK</td>\n",
       "      <td>LTR</td>\n",
       "      <td>chr15</td>\n",
       "      <td>37896571</td>\n",
       "      <td>37899225</td>\n",
       "      <td>-</td>\n",
       "      <td>8116_RMER3D-int</td>\n",
       "      <td>2654</td>\n",
       "    </tr>\n",
       "    <tr>\n",
       "      <th>4909</th>\n",
       "      <td>chr4|123020361|123020490|Cheshire:hAT-Charlie:...</td>\n",
       "      <td>8.074900</td>\n",
       "      <td>1.955353</td>\n",
       "      <td>0.667198</td>\n",
       "      <td>2.930696</td>\n",
       "      <td>0.076092</td>\n",
       "      <td>1.000000</td>\n",
       "      <td>TE</td>\n",
       "      <td>Cheshire:hAT-Charlie:DNA</td>\n",
       "      <td>Cheshire:hAT-Charlie:DNA_336</td>\n",
       "      <td>Cheshire</td>\n",
       "      <td>hAT-Charlie</td>\n",
       "      <td>DNA</td>\n",
       "      <td>chr4</td>\n",
       "      <td>123020361</td>\n",
       "      <td>123020490</td>\n",
       "      <td>-</td>\n",
       "      <td>4909_Cheshire</td>\n",
       "      <td>129</td>\n",
       "    </tr>\n",
       "    <tr>\n",
       "      <th>9965</th>\n",
       "      <td>chr13|38159142|38159325|B2_Mm2:B2:SINE|93|-,.</td>\n",
       "      <td>10.468076</td>\n",
       "      <td>-0.588716</td>\n",
       "      <td>0.543489</td>\n",
       "      <td>-1.083216</td>\n",
       "      <td>0.777131</td>\n",
       "      <td>1.000000</td>\n",
       "      <td>TE</td>\n",
       "      <td>B2_Mm2:B2:SINE</td>\n",
       "      <td>B2_Mm2:B2:SINE_93</td>\n",
       "      <td>B2_Mm2</td>\n",
       "      <td>B2</td>\n",
       "      <td>SINE</td>\n",
       "      <td>chr13</td>\n",
       "      <td>38159142</td>\n",
       "      <td>38159325</td>\n",
       "      <td>-</td>\n",
       "      <td>9965_B2_Mm2</td>\n",
       "      <td>183</td>\n",
       "    </tr>\n",
       "    <tr>\n",
       "      <th>547</th>\n",
       "      <td>chr12|81394077|81397777|L1MdFanc_I:L1:LINE|51|-,.</td>\n",
       "      <td>4.553234</td>\n",
       "      <td>-0.366250</td>\n",
       "      <td>0.977400</td>\n",
       "      <td>-0.374719</td>\n",
       "      <td>0.822718</td>\n",
       "      <td>1.000000</td>\n",
       "      <td>TE</td>\n",
       "      <td>L1MdFanc_I:L1:LINE</td>\n",
       "      <td>L1MdFanc_I:L1:LINE_51</td>\n",
       "      <td>L1MdFanc_I</td>\n",
       "      <td>L1</td>\n",
       "      <td>LINE</td>\n",
       "      <td>chr12</td>\n",
       "      <td>81394077</td>\n",
       "      <td>81397777</td>\n",
       "      <td>-</td>\n",
       "      <td>547_L1MdFanc_I</td>\n",
       "      <td>3700</td>\n",
       "    </tr>\n",
       "  </tbody>\n",
       "</table>\n",
       "</div>"
      ],
      "text/plain": [
       "                                                  TE_ID   baseMean   \n",
       "9749  chr11|86773882|86781441|RLTR4_MM-int:LTR:LTR|2...  50.875769  \\\n",
       "8116  chr15|37896571|37899225|RMER3D-int:ERVK:LTR|14...   5.347996   \n",
       "4909  chr4|123020361|123020490|Cheshire:hAT-Charlie:...   8.074900   \n",
       "9965      chr13|38159142|38159325|B2_Mm2:B2:SINE|93|-,.  10.468076   \n",
       "547   chr12|81394077|81397777|L1MdFanc_I:L1:LINE|51|-,.   4.553234   \n",
       "\n",
       "      log2FoldChange     lfcSE      stat    pvalue      padj element_type   \n",
       "9749        4.617053  1.056281  4.371045  0.000308  0.019474           TE  \\\n",
       "8116        0.793885  0.831874  0.954333  0.613369  1.000000           TE   \n",
       "4909        1.955353  0.667198  2.930696  0.076092  1.000000           TE   \n",
       "9965       -0.588716  0.543489 -1.083216  0.777131  1.000000           TE   \n",
       "547        -0.366250  0.977400 -0.374719  0.822718  1.000000           TE   \n",
       "\n",
       "                       TE_name                      TE_index       repName   \n",
       "9749      RLTR4_MM-int:LTR:LTR       RLTR4_MM-int:LTR:LTR_20  RLTR4_MM-int  \\\n",
       "8116       RMER3D-int:ERVK:LTR       RMER3D-int:ERVK:LTR_140    RMER3D-int   \n",
       "4909  Cheshire:hAT-Charlie:DNA  Cheshire:hAT-Charlie:DNA_336      Cheshire   \n",
       "9965            B2_Mm2:B2:SINE             B2_Mm2:B2:SINE_93        B2_Mm2   \n",
       "547         L1MdFanc_I:L1:LINE         L1MdFanc_I:L1:LINE_51    L1MdFanc_I   \n",
       "\n",
       "        repFamily repClass genoName  genoStart    genoEnd strand   \n",
       "9749          LTR      LTR    chr11   86773882   86781441      +  \\\n",
       "8116         ERVK      LTR    chr15   37896571   37899225      -   \n",
       "4909  hAT-Charlie      DNA     chr4  123020361  123020490      -   \n",
       "9965           B2     SINE    chr13   38159142   38159325      -   \n",
       "547            L1     LINE    chr12   81394077   81397777      -   \n",
       "\n",
       "       df_index_repName  seqLen  \n",
       "9749  9749_RLTR4_MM-int    7559  \n",
       "8116    8116_RMER3D-int    2654  \n",
       "4909      4909_Cheshire     129  \n",
       "9965        9965_B2_Mm2     183  \n",
       "547      547_L1MdFanc_I    3700  "
      ]
     },
     "execution_count": 52,
     "metadata": {},
     "output_type": "execute_result"
    }
   ],
   "source": [
    "rand_df_ls[1].head()"
   ]
  },
  {
   "cell_type": "code",
   "execution_count": null,
   "id": "2541dc53-6421-4dab-b19e-bab29565139e",
   "metadata": {},
   "outputs": [],
   "source": []
  },
  {
   "cell_type": "code",
   "execution_count": 53,
   "id": "c9bcffc8-f0d5-43fc-affc-4825292b0d79",
   "metadata": {},
   "outputs": [],
   "source": [
    "region_df_cols = ['genoName', 'genoStart', 'genoEnd', 'strand', 'df_index_repName' ]"
   ]
  },
  {
   "cell_type": "code",
   "execution_count": 54,
   "id": "3c4ab2b3-59dc-4707-891d-4cc19e34f069",
   "metadata": {},
   "outputs": [
    {
     "name": "stdout",
     "output_type": "stream",
     "text": [
      "✅ Extracted sequences saved to: ./sequence_similarity_input/resampledSquire_rand10_1.fasta\n",
      "✅ Extracted sequences saved to: ./sequence_similarity_input/resampledSquire_rand10_2.fasta\n",
      "✅ Extracted sequences saved to: ./sequence_similarity_input/resampledSquire_rand10_3.fasta\n",
      "✅ Extracted sequences saved to: ./sequence_similarity_input/resampledSquire_rand20_1.fasta\n",
      "✅ Extracted sequences saved to: ./sequence_similarity_input/resampledSquire_rand20_2.fasta\n",
      "✅ Extracted sequences saved to: ./sequence_similarity_input/resampledSquire_rand20_3.fasta\n",
      "✅ Extracted sequences saved to: ./sequence_similarity_input/resampledSquire_rand50_1.fasta\n",
      "✅ Extracted sequences saved to: ./sequence_similarity_input/resampledSquire_rand50_2.fasta\n",
      "✅ Extracted sequences saved to: ./sequence_similarity_input/resampledSquire_rand50_3.fasta\n"
     ]
    }
   ],
   "source": [
    "for i,d in enumerate( rand_df_ls):\n",
    "    seqComp.extract_ucsc_bedlike_regions( genome_fasta= mm39_path,\n",
    "                                         regions_df= d[region_df_cols ], \n",
    "                                         output_fasta='./sequence_similarity_input/' + 'resampledSquire_' + rand_df_names[i] +'.fasta') "
   ]
  },
  {
   "cell_type": "code",
   "execution_count": null,
   "id": "d171dcce-e2de-478d-81d7-9a0379842669",
   "metadata": {},
   "outputs": [],
   "source": []
  },
  {
   "cell_type": "markdown",
   "id": "d1e149ec-41bd-402a-bd05-9d3e945009e8",
   "metadata": {},
   "source": [
    "### calculate similarity score"
   ]
  },
  {
   "cell_type": "code",
   "execution_count": 55,
   "id": "01c7f99c-9a4d-49e6-acfd-d203eb8ddfa2",
   "metadata": {},
   "outputs": [],
   "source": [
    "import time"
   ]
  },
  {
   "cell_type": "code",
   "execution_count": 56,
   "id": "faf40093-385f-49a5-9959-c4534e23382f",
   "metadata": {},
   "outputs": [],
   "source": [
    "input_dir = './sequence_similarity_input/'"
   ]
  },
  {
   "cell_type": "code",
   "execution_count": 57,
   "id": "00f88a9a-a244-4456-bd8b-5235eb4959b5",
   "metadata": {},
   "outputs": [
    {
     "data": {
      "text/plain": [
       "2     resampledSquire_rand20_3.fasta\n",
       "5     resampledSquire_rand20_1.fasta\n",
       "13    resampledSquire_rand50_3.fasta\n",
       "17    resampledSquire_rand10_2.fasta\n",
       "20    resampledSquire_rand50_1.fasta\n",
       "21    resampledSquire_rand20_2.fasta\n",
       "27    resampledSquire_rand10_1.fasta\n",
       "35    resampledSquire_rand10_3.fasta\n",
       "40    resampledSquire_rand50_2.fasta\n",
       "dtype: object"
      ]
     },
     "execution_count": 57,
     "metadata": {},
     "output_type": "execute_result"
    }
   ],
   "source": [
    "fnames = pd.Series( os.listdir( input_dir ) )\n",
    "fnames = fnames[ fnames.str.startswith( 'resampledSquire') ]\n",
    "fnames"
   ]
  },
  {
   "cell_type": "code",
   "execution_count": 58,
   "id": "68dcef2d-00b3-41ad-b73f-3a1938a3f406",
   "metadata": {
    "collapsed": true,
    "jupyter": {
     "outputs_hidden": true
    }
   },
   "outputs": [
    {
     "name": "stdout",
     "output_type": "stream",
     "text": [
      "Processing resampledSquire_rand20_3.fasta\n",
      "Loaded 20 sequences from ./sequence_similarity_input/resampledSquire_rand20_3.fasta\n",
      "Average identity: 27.85% ± 18.43%\n",
      "Time used: 0.2 min\n",
      "Processing resampledSquire_rand20_1.fasta\n",
      "Loaded 20 sequences from ./sequence_similarity_input/resampledSquire_rand20_1.fasta\n",
      "Average identity: 29.09% ± 19.91%\n",
      "Time used: 0.2 min\n",
      "Processing resampledSquire_rand50_3.fasta\n",
      "Loaded 50 sequences from ./sequence_similarity_input/resampledSquire_rand50_3.fasta\n",
      "Average identity: 30.18% ± 18.67%\n",
      "Time used: 0.7 min\n",
      "Processing resampledSquire_rand10_2.fasta\n",
      "Loaded 10 sequences from ./sequence_similarity_input/resampledSquire_rand10_2.fasta\n",
      "Average identity: 22.30% ± 19.01%\n",
      "Time used: 0.1 min\n",
      "Processing resampledSquire_rand50_1.fasta\n",
      "Loaded 50 sequences from ./sequence_similarity_input/resampledSquire_rand50_1.fasta\n",
      "Average identity: 29.92% ± 19.92%\n",
      "Time used: 1.1 min\n",
      "Processing resampledSquire_rand20_2.fasta\n",
      "Loaded 20 sequences from ./sequence_similarity_input/resampledSquire_rand20_2.fasta\n",
      "Average identity: 26.86% ± 20.79%\n",
      "Time used: 0.1 min\n",
      "Processing resampledSquire_rand10_1.fasta\n",
      "Loaded 10 sequences from ./sequence_similarity_input/resampledSquire_rand10_1.fasta\n",
      "Average identity: 40.36% ± 12.82%\n",
      "Time used: 0.0 min\n",
      "Processing resampledSquire_rand10_3.fasta\n",
      "Loaded 10 sequences from ./sequence_similarity_input/resampledSquire_rand10_3.fasta\n",
      "Average identity: 35.06% ± 17.30%\n",
      "Time used: 0.1 min\n",
      "Processing resampledSquire_rand50_2.fasta\n",
      "Loaded 50 sequences from ./sequence_similarity_input/resampledSquire_rand50_2.fasta\n",
      "Average identity: 28.33% ± 19.55%\n",
      "Time used: 1.3 min\n"
     ]
    }
   ],
   "source": [
    "for f in fnames:\n",
    "    print( f'Processing {f}')\n",
    "    TIME_S = time.time()\n",
    "    seqComp.process_group(input_dir + f, out_dir=\"sequence_similarity_results\", n_jobs=4,plot_heatmap=True )\n",
    "    TIME_E = time.time()\n",
    "    TOTAL_TIME = (TIME_E - TIME_S)/60\n",
    "    print( f\"Time used: {TOTAL_TIME:.1f} min\" )"
   ]
  },
  {
   "cell_type": "code",
   "execution_count": null,
   "id": "fbbcac21-cf76-48a2-b9b5-9d8b70ba3823",
   "metadata": {},
   "outputs": [],
   "source": []
  },
  {
   "cell_type": "markdown",
   "id": "aece1c55-785c-4493-83ad-2d135bf5292a",
   "metadata": {},
   "source": [
    "### make summary df from the similarity result"
   ]
  },
  {
   "cell_type": "code",
   "execution_count": null,
   "id": "1f613db3-4fbf-4208-99fc-333da5a77339",
   "metadata": {},
   "outputs": [],
   "source": [
    "# TODO: \n",
    "# get rand summary df\n",
    "# load mut and wt summary df\n",
    "# compare"
   ]
  },
  {
   "cell_type": "code",
   "execution_count": 65,
   "id": "948094f1-079c-43eb-95ca-dca05e591fd4",
   "metadata": {},
   "outputs": [],
   "source": [
    "fnames =pd.Series( os.listdir(\"./sequence_similarity_results/\") )\n",
    "fnames = fnames[fnames.str.startswith(\"resampledSquire\")  ]"
   ]
  },
  {
   "cell_type": "code",
   "execution_count": 66,
   "id": "1b90ce97-030e-49c0-a25a-0a33395e89e6",
   "metadata": {},
   "outputs": [
    {
     "data": {
      "text/plain": [
       "0     resampledSquire_rand10_3_pairwise_identity.csv\n",
       "2     resampledSquire_rand10_1_pairwise_identity.csv\n",
       "4     resampledSquire_rand20_1_pairwise_identity.csv\n",
       "17    resampledSquire_rand50_1_pairwise_identity.csv\n",
       "19    resampledSquire_rand50_2_pairwise_identity.csv\n",
       "25    resampledSquire_rand50_3_pairwise_identity.csv\n",
       "39    resampledSquire_rand20_3_pairwise_identity.csv\n",
       "43    resampledSquire_rand10_2_pairwise_identity.csv\n",
       "46    resampledSquire_rand20_2_pairwise_identity.csv\n",
       "dtype: object"
      ]
     },
     "execution_count": 66,
     "metadata": {},
     "output_type": "execute_result"
    }
   ],
   "source": [
    "fnames"
   ]
  },
  {
   "cell_type": "code",
   "execution_count": 67,
   "id": "0101f76f-4526-4f15-85dd-d93fc5e2c252",
   "metadata": {},
   "outputs": [
    {
     "name": "stdout",
     "output_type": "stream",
     "text": [
      "[10, 10, 20, 50, 50, 50, 20, 10, 20]\n",
      "['rand10_3', 'rand10_1', 'rand20_1', 'rand50_1', 'rand50_2', 'rand50_3', 'rand20_3', 'rand10_2', 'rand20_2']\n"
     ]
    }
   ],
   "source": [
    "num_elements = [ int(f.split(\"_\")[1].split('d')[1]) for f in fnames ]\n",
    "print( num_elements )\n",
    "f_ids = [ \"_\".join( f.split(\"_\")[1:3] ) for f in fnames ]\n",
    "print( f_ids )"
   ]
  },
  {
   "cell_type": "code",
   "execution_count": 68,
   "id": "b5b2a420-3ed1-4c45-8cca-f8390586287a",
   "metadata": {},
   "outputs": [],
   "source": [
    "rand_summary_df = pd.DataFrame(index = ['avg_pctIdentity', 'std_pctIdentity', 'num_element'])\n",
    "rand_df_ls = []\n",
    "\n",
    "for i,tf in enumerate( fnames):\n",
    "    # get data meta information\n",
    "    f_id = f_ids[i]\n",
    "    num = int( num_elements[i] )\n",
    "    \n",
    "    # load df\n",
    "    df = pd.read_csv(\"./sequence_similarity_results/\" + tf, header = 0, index_col = None )\n",
    "    \n",
    "    #get avg and std score\n",
    "    avg_score = df['PercentIdentity'].mean()\n",
    "    std_score = df['PercentIdentity'].std()\n",
    "\n",
    "    # add result to the result df\n",
    "    rand_summary_df[ f_id ] = [ avg_score, std_score, num ]\n",
    "    rand_df_ls.append( df )\n",
    "    \n",
    "    \n",
    "    "
   ]
  },
  {
   "cell_type": "code",
   "execution_count": 69,
   "id": "e06ac745-9ee6-4686-9dfb-e7c605622324",
   "metadata": {},
   "outputs": [],
   "source": [
    "#df_ls[0]"
   ]
  },
  {
   "cell_type": "code",
   "execution_count": 70,
   "id": "6ebf689a-d31c-4a15-9bb5-2a565de03ab9",
   "metadata": {},
   "outputs": [
    {
     "data": {
      "text/html": [
       "<div>\n",
       "<style scoped>\n",
       "    .dataframe tbody tr th:only-of-type {\n",
       "        vertical-align: middle;\n",
       "    }\n",
       "\n",
       "    .dataframe tbody tr th {\n",
       "        vertical-align: top;\n",
       "    }\n",
       "\n",
       "    .dataframe thead th {\n",
       "        text-align: right;\n",
       "    }\n",
       "</style>\n",
       "<table border=\"1\" class=\"dataframe\">\n",
       "  <thead>\n",
       "    <tr style=\"text-align: right;\">\n",
       "      <th></th>\n",
       "      <th>rand10_3</th>\n",
       "      <th>rand10_1</th>\n",
       "      <th>rand20_1</th>\n",
       "      <th>rand50_1</th>\n",
       "      <th>rand50_2</th>\n",
       "      <th>rand50_3</th>\n",
       "      <th>rand20_3</th>\n",
       "      <th>rand10_2</th>\n",
       "      <th>rand20_2</th>\n",
       "    </tr>\n",
       "  </thead>\n",
       "  <tbody>\n",
       "    <tr>\n",
       "      <th>avg_pctIdentity</th>\n",
       "      <td>35.063549</td>\n",
       "      <td>40.356476</td>\n",
       "      <td>29.092206</td>\n",
       "      <td>29.921150</td>\n",
       "      <td>28.327657</td>\n",
       "      <td>30.178891</td>\n",
       "      <td>27.849240</td>\n",
       "      <td>22.302109</td>\n",
       "      <td>26.859416</td>\n",
       "    </tr>\n",
       "    <tr>\n",
       "      <th>std_pctIdentity</th>\n",
       "      <td>17.495267</td>\n",
       "      <td>12.963896</td>\n",
       "      <td>19.964576</td>\n",
       "      <td>19.923259</td>\n",
       "      <td>19.561513</td>\n",
       "      <td>18.678217</td>\n",
       "      <td>18.482266</td>\n",
       "      <td>19.222331</td>\n",
       "      <td>20.841313</td>\n",
       "    </tr>\n",
       "    <tr>\n",
       "      <th>num_element</th>\n",
       "      <td>10.000000</td>\n",
       "      <td>10.000000</td>\n",
       "      <td>20.000000</td>\n",
       "      <td>50.000000</td>\n",
       "      <td>50.000000</td>\n",
       "      <td>50.000000</td>\n",
       "      <td>20.000000</td>\n",
       "      <td>10.000000</td>\n",
       "      <td>20.000000</td>\n",
       "    </tr>\n",
       "  </tbody>\n",
       "</table>\n",
       "</div>"
      ],
      "text/plain": [
       "                  rand10_3   rand10_1   rand20_1   rand50_1   rand50_2   \n",
       "avg_pctIdentity  35.063549  40.356476  29.092206  29.921150  28.327657  \\\n",
       "std_pctIdentity  17.495267  12.963896  19.964576  19.923259  19.561513   \n",
       "num_element      10.000000  10.000000  20.000000  50.000000  50.000000   \n",
       "\n",
       "                  rand50_3   rand20_3   rand10_2   rand20_2  \n",
       "avg_pctIdentity  30.178891  27.849240  22.302109  26.859416  \n",
       "std_pctIdentity  18.678217  18.482266  19.222331  20.841313  \n",
       "num_element      50.000000  20.000000  10.000000  20.000000  "
      ]
     },
     "execution_count": 70,
     "metadata": {},
     "output_type": "execute_result"
    }
   ],
   "source": [
    "rand_summary_df"
   ]
  },
  {
   "cell_type": "code",
   "execution_count": 71,
   "id": "869408d3-5ad1-4f33-8de7-b565ea7254bc",
   "metadata": {},
   "outputs": [],
   "source": [
    "rand_summary_df.loc['condition'] = ['control' for i in range( rand_summary_df.shape[1]) ]"
   ]
  },
  {
   "cell_type": "code",
   "execution_count": 72,
   "id": "f963cabb-1560-4d57-b3d0-f5ea1bf0a2b4",
   "metadata": {},
   "outputs": [],
   "source": [
    "rand_summary_df = rand_summary_df.T"
   ]
  },
  {
   "cell_type": "code",
   "execution_count": 73,
   "id": "c993639d-6fd2-4f7c-8a2f-797a724a6329",
   "metadata": {},
   "outputs": [
    {
     "data": {
      "text/html": [
       "<div>\n",
       "<style scoped>\n",
       "    .dataframe tbody tr th:only-of-type {\n",
       "        vertical-align: middle;\n",
       "    }\n",
       "\n",
       "    .dataframe tbody tr th {\n",
       "        vertical-align: top;\n",
       "    }\n",
       "\n",
       "    .dataframe thead th {\n",
       "        text-align: right;\n",
       "    }\n",
       "</style>\n",
       "<table border=\"1\" class=\"dataframe\">\n",
       "  <thead>\n",
       "    <tr style=\"text-align: right;\">\n",
       "      <th></th>\n",
       "      <th>avg_pctIdentity</th>\n",
       "      <th>std_pctIdentity</th>\n",
       "      <th>num_element</th>\n",
       "      <th>condition</th>\n",
       "    </tr>\n",
       "  </thead>\n",
       "  <tbody>\n",
       "    <tr>\n",
       "      <th>rand10_3</th>\n",
       "      <td>35.063549</td>\n",
       "      <td>17.495267</td>\n",
       "      <td>10.0</td>\n",
       "      <td>control</td>\n",
       "    </tr>\n",
       "    <tr>\n",
       "      <th>rand10_1</th>\n",
       "      <td>40.356476</td>\n",
       "      <td>12.963896</td>\n",
       "      <td>10.0</td>\n",
       "      <td>control</td>\n",
       "    </tr>\n",
       "    <tr>\n",
       "      <th>rand20_1</th>\n",
       "      <td>29.092206</td>\n",
       "      <td>19.964576</td>\n",
       "      <td>20.0</td>\n",
       "      <td>control</td>\n",
       "    </tr>\n",
       "    <tr>\n",
       "      <th>rand50_1</th>\n",
       "      <td>29.92115</td>\n",
       "      <td>19.923259</td>\n",
       "      <td>50.0</td>\n",
       "      <td>control</td>\n",
       "    </tr>\n",
       "    <tr>\n",
       "      <th>rand50_2</th>\n",
       "      <td>28.327657</td>\n",
       "      <td>19.561513</td>\n",
       "      <td>50.0</td>\n",
       "      <td>control</td>\n",
       "    </tr>\n",
       "  </tbody>\n",
       "</table>\n",
       "</div>"
      ],
      "text/plain": [
       "         avg_pctIdentity std_pctIdentity num_element condition\n",
       "rand10_3       35.063549       17.495267        10.0   control\n",
       "rand10_1       40.356476       12.963896        10.0   control\n",
       "rand20_1       29.092206       19.964576        20.0   control\n",
       "rand50_1        29.92115       19.923259        50.0   control\n",
       "rand50_2       28.327657       19.561513        50.0   control"
      ]
     },
     "execution_count": 73,
     "metadata": {},
     "output_type": "execute_result"
    }
   ],
   "source": [
    "rand_summary_df.head()"
   ]
  },
  {
   "cell_type": "code",
   "execution_count": 74,
   "id": "96a860ff-c6a4-4c68-9f29-ac02fee40842",
   "metadata": {},
   "outputs": [],
   "source": [
    "rand_summary_df.sort_values( by = 'num_element', ascending= True , inplace= True )"
   ]
  },
  {
   "cell_type": "code",
   "execution_count": 76,
   "id": "f166236f-6daf-4b33-9f6c-917a33534c5e",
   "metadata": {},
   "outputs": [
    {
     "data": {
      "text/html": [
       "<div>\n",
       "<style scoped>\n",
       "    .dataframe tbody tr th:only-of-type {\n",
       "        vertical-align: middle;\n",
       "    }\n",
       "\n",
       "    .dataframe tbody tr th {\n",
       "        vertical-align: top;\n",
       "    }\n",
       "\n",
       "    .dataframe thead th {\n",
       "        text-align: right;\n",
       "    }\n",
       "</style>\n",
       "<table border=\"1\" class=\"dataframe\">\n",
       "  <thead>\n",
       "    <tr style=\"text-align: right;\">\n",
       "      <th></th>\n",
       "      <th>avg_pctIdentity</th>\n",
       "      <th>std_pctIdentity</th>\n",
       "      <th>num_element</th>\n",
       "      <th>condition</th>\n",
       "    </tr>\n",
       "  </thead>\n",
       "  <tbody>\n",
       "    <tr>\n",
       "      <th>rand10_3</th>\n",
       "      <td>35.063549</td>\n",
       "      <td>17.495267</td>\n",
       "      <td>10.0</td>\n",
       "      <td>control</td>\n",
       "    </tr>\n",
       "    <tr>\n",
       "      <th>rand10_1</th>\n",
       "      <td>40.356476</td>\n",
       "      <td>12.963896</td>\n",
       "      <td>10.0</td>\n",
       "      <td>control</td>\n",
       "    </tr>\n",
       "    <tr>\n",
       "      <th>rand10_2</th>\n",
       "      <td>22.302109</td>\n",
       "      <td>19.222331</td>\n",
       "      <td>10.0</td>\n",
       "      <td>control</td>\n",
       "    </tr>\n",
       "    <tr>\n",
       "      <th>rand20_1</th>\n",
       "      <td>29.092206</td>\n",
       "      <td>19.964576</td>\n",
       "      <td>20.0</td>\n",
       "      <td>control</td>\n",
       "    </tr>\n",
       "    <tr>\n",
       "      <th>rand20_3</th>\n",
       "      <td>27.84924</td>\n",
       "      <td>18.482266</td>\n",
       "      <td>20.0</td>\n",
       "      <td>control</td>\n",
       "    </tr>\n",
       "  </tbody>\n",
       "</table>\n",
       "</div>"
      ],
      "text/plain": [
       "         avg_pctIdentity std_pctIdentity num_element condition\n",
       "rand10_3       35.063549       17.495267        10.0   control\n",
       "rand10_1       40.356476       12.963896        10.0   control\n",
       "rand10_2       22.302109       19.222331        10.0   control\n",
       "rand20_1       29.092206       19.964576        20.0   control\n",
       "rand20_3        27.84924       18.482266        20.0   control"
      ]
     },
     "execution_count": 76,
     "metadata": {},
     "output_type": "execute_result"
    }
   ],
   "source": [
    "rand_summary_df.head()"
   ]
  },
  {
   "cell_type": "code",
   "execution_count": null,
   "id": "66ac7d11-c014-4dd4-85f2-69ad712be841",
   "metadata": {},
   "outputs": [],
   "source": []
  },
  {
   "cell_type": "markdown",
   "id": "3a3f74e2-7cf8-40ea-9610-3ffd86b1c936",
   "metadata": {},
   "source": [
    "### combine control and experimental conditions"
   ]
  },
  {
   "cell_type": "code",
   "execution_count": 77,
   "id": "158f49a4-6596-45c7-9f5d-3e3a1caf3aef",
   "metadata": {},
   "outputs": [],
   "source": [
    "wt_summary_df = pd.read_csv(\"./squire_tjp2_wt_seq_similarity_summary_df.csv\", header = 0, index_col= 0 )\n",
    "mut_summary_df = pd.read_csv(\"./squire_tjp2_mut_seq_similarity_summary_df.csv\", header = 0, index_col= 0 )"
   ]
  },
  {
   "cell_type": "code",
   "execution_count": 78,
   "id": "6d2ccbbe-d6af-4504-83b5-bc3d9512b20f",
   "metadata": {},
   "outputs": [
    {
     "data": {
      "text/html": [
       "<div>\n",
       "<style scoped>\n",
       "    .dataframe tbody tr th:only-of-type {\n",
       "        vertical-align: middle;\n",
       "    }\n",
       "\n",
       "    .dataframe tbody tr th {\n",
       "        vertical-align: top;\n",
       "    }\n",
       "\n",
       "    .dataframe thead th {\n",
       "        text-align: right;\n",
       "    }\n",
       "</style>\n",
       "<table border=\"1\" class=\"dataframe\">\n",
       "  <thead>\n",
       "    <tr style=\"text-align: right;\">\n",
       "      <th></th>\n",
       "      <th>avg_pctIdentity</th>\n",
       "      <th>std_pctIdentity</th>\n",
       "      <th>num_element</th>\n",
       "      <th>condition</th>\n",
       "    </tr>\n",
       "  </thead>\n",
       "  <tbody>\n",
       "    <tr>\n",
       "      <th>wt_up_33</th>\n",
       "      <td>29.435993</td>\n",
       "      <td>19.757601</td>\n",
       "      <td>33.0</td>\n",
       "      <td>wt_up</td>\n",
       "    </tr>\n",
       "    <tr>\n",
       "      <th>wt_up_20</th>\n",
       "      <td>27.326824</td>\n",
       "      <td>19.316601</td>\n",
       "      <td>20.0</td>\n",
       "      <td>wt_up</td>\n",
       "    </tr>\n",
       "    <tr>\n",
       "      <th>wt_up_10</th>\n",
       "      <td>24.427313</td>\n",
       "      <td>18.360094</td>\n",
       "      <td>10.0</td>\n",
       "      <td>wt_up</td>\n",
       "    </tr>\n",
       "  </tbody>\n",
       "</table>\n",
       "</div>"
      ],
      "text/plain": [
       "          avg_pctIdentity  std_pctIdentity  num_element condition\n",
       "wt_up_33        29.435993        19.757601         33.0     wt_up\n",
       "wt_up_20        27.326824        19.316601         20.0     wt_up\n",
       "wt_up_10        24.427313        18.360094         10.0     wt_up"
      ]
     },
     "execution_count": 78,
     "metadata": {},
     "output_type": "execute_result"
    }
   ],
   "source": [
    "wt_summary_df.head()"
   ]
  },
  {
   "cell_type": "code",
   "execution_count": 79,
   "id": "2c6a254a-004b-491d-b253-0bb3a23039a6",
   "metadata": {},
   "outputs": [
    {
     "data": {
      "text/html": [
       "<div>\n",
       "<style scoped>\n",
       "    .dataframe tbody tr th:only-of-type {\n",
       "        vertical-align: middle;\n",
       "    }\n",
       "\n",
       "    .dataframe tbody tr th {\n",
       "        vertical-align: top;\n",
       "    }\n",
       "\n",
       "    .dataframe thead th {\n",
       "        text-align: right;\n",
       "    }\n",
       "</style>\n",
       "<table border=\"1\" class=\"dataframe\">\n",
       "  <thead>\n",
       "    <tr style=\"text-align: right;\">\n",
       "      <th></th>\n",
       "      <th>avg_pctIdentity</th>\n",
       "      <th>std_pctIdentity</th>\n",
       "      <th>num_element</th>\n",
       "      <th>condition</th>\n",
       "    </tr>\n",
       "  </thead>\n",
       "  <tbody>\n",
       "    <tr>\n",
       "      <th>mut_up_top20</th>\n",
       "      <td>30.920809</td>\n",
       "      <td>26.255202</td>\n",
       "      <td>20.0</td>\n",
       "      <td>mutant_up</td>\n",
       "    </tr>\n",
       "    <tr>\n",
       "      <th>mut_up_top10</th>\n",
       "      <td>29.135368</td>\n",
       "      <td>23.714132</td>\n",
       "      <td>10.0</td>\n",
       "      <td>mutant_up</td>\n",
       "    </tr>\n",
       "    <tr>\n",
       "      <th>mut_up_last50</th>\n",
       "      <td>30.864983</td>\n",
       "      <td>20.974193</td>\n",
       "      <td>50.0</td>\n",
       "      <td>mutant_up</td>\n",
       "    </tr>\n",
       "    <tr>\n",
       "      <th>mut_up_top50</th>\n",
       "      <td>31.567832</td>\n",
       "      <td>24.140729</td>\n",
       "      <td>50.0</td>\n",
       "      <td>mutant_up</td>\n",
       "    </tr>\n",
       "  </tbody>\n",
       "</table>\n",
       "</div>"
      ],
      "text/plain": [
       "               avg_pctIdentity  std_pctIdentity  num_element  condition\n",
       "mut_up_top20         30.920809        26.255202         20.0  mutant_up\n",
       "mut_up_top10         29.135368        23.714132         10.0  mutant_up\n",
       "mut_up_last50        30.864983        20.974193         50.0  mutant_up\n",
       "mut_up_top50         31.567832        24.140729         50.0  mutant_up"
      ]
     },
     "execution_count": 79,
     "metadata": {},
     "output_type": "execute_result"
    }
   ],
   "source": [
    "mut_summary_df.head()"
   ]
  },
  {
   "cell_type": "code",
   "execution_count": null,
   "id": "6e24e369-7246-4a02-9fa8-6e193c6bf423",
   "metadata": {},
   "outputs": [],
   "source": []
  },
  {
   "cell_type": "code",
   "execution_count": 80,
   "id": "56023ad2-8b1b-4b26-a66f-775c9d4441c7",
   "metadata": {},
   "outputs": [],
   "source": [
    "total_summary_df = pd.concat( [ rand_summary_df, mut_summary_df, wt_summary_df], axis = 0, ignore_index= False )"
   ]
  },
  {
   "cell_type": "code",
   "execution_count": 81,
   "id": "527a6579-36f0-4c1f-a4ce-b00e6ea26f17",
   "metadata": {},
   "outputs": [
    {
     "data": {
      "text/html": [
       "<div>\n",
       "<style scoped>\n",
       "    .dataframe tbody tr th:only-of-type {\n",
       "        vertical-align: middle;\n",
       "    }\n",
       "\n",
       "    .dataframe tbody tr th {\n",
       "        vertical-align: top;\n",
       "    }\n",
       "\n",
       "    .dataframe thead th {\n",
       "        text-align: right;\n",
       "    }\n",
       "</style>\n",
       "<table border=\"1\" class=\"dataframe\">\n",
       "  <thead>\n",
       "    <tr style=\"text-align: right;\">\n",
       "      <th></th>\n",
       "      <th>avg_pctIdentity</th>\n",
       "      <th>std_pctIdentity</th>\n",
       "      <th>num_element</th>\n",
       "      <th>condition</th>\n",
       "    </tr>\n",
       "  </thead>\n",
       "  <tbody>\n",
       "    <tr>\n",
       "      <th>rand10_3</th>\n",
       "      <td>35.063549</td>\n",
       "      <td>17.495267</td>\n",
       "      <td>10.0</td>\n",
       "      <td>control</td>\n",
       "    </tr>\n",
       "    <tr>\n",
       "      <th>rand10_1</th>\n",
       "      <td>40.356476</td>\n",
       "      <td>12.963896</td>\n",
       "      <td>10.0</td>\n",
       "      <td>control</td>\n",
       "    </tr>\n",
       "    <tr>\n",
       "      <th>rand10_2</th>\n",
       "      <td>22.302109</td>\n",
       "      <td>19.222331</td>\n",
       "      <td>10.0</td>\n",
       "      <td>control</td>\n",
       "    </tr>\n",
       "    <tr>\n",
       "      <th>rand20_1</th>\n",
       "      <td>29.092206</td>\n",
       "      <td>19.964576</td>\n",
       "      <td>20.0</td>\n",
       "      <td>control</td>\n",
       "    </tr>\n",
       "    <tr>\n",
       "      <th>rand20_3</th>\n",
       "      <td>27.84924</td>\n",
       "      <td>18.482266</td>\n",
       "      <td>20.0</td>\n",
       "      <td>control</td>\n",
       "    </tr>\n",
       "  </tbody>\n",
       "</table>\n",
       "</div>"
      ],
      "text/plain": [
       "         avg_pctIdentity std_pctIdentity num_element condition\n",
       "rand10_3       35.063549       17.495267        10.0   control\n",
       "rand10_1       40.356476       12.963896        10.0   control\n",
       "rand10_2       22.302109       19.222331        10.0   control\n",
       "rand20_1       29.092206       19.964576        20.0   control\n",
       "rand20_3        27.84924       18.482266        20.0   control"
      ]
     },
     "execution_count": 81,
     "metadata": {},
     "output_type": "execute_result"
    }
   ],
   "source": [
    "total_summary_df.head()"
   ]
  },
  {
   "cell_type": "code",
   "execution_count": 84,
   "id": "5cb877d4-190b-463f-836f-8574c39ee64a",
   "metadata": {
    "collapsed": true,
    "jupyter": {
     "outputs_hidden": true
    }
   },
   "outputs": [
    {
     "data": {
      "text/plain": [
       "<Axes: xlabel='num_element', ylabel='std_pctIdentity'>"
      ]
     },
     "execution_count": 84,
     "metadata": {},
     "output_type": "execute_result"
    },
    {
     "data": {
      "image/png": "[encoded data removed]",
      "text/plain": [
       "<Figure size 640x480 with 1 Axes>"
      ]
     },
     "metadata": {},
     "output_type": "display_data"
    }
   ],
   "source": [
    "sn.scatterplot( data = rand_summary_df, x = 'num_element', y = 'std_pctIdentity' )"
   ]
  },
  {
   "cell_type": "markdown",
   "id": "0d64dfb6-7d10-43c0-a6f6-c63e70aa4e42",
   "metadata": {},
   "source": [
    "## Visualize similarity score across conditions"
   ]
  },
  {
   "cell_type": "code",
   "execution_count": 109,
   "id": "4eb7f781-6a5a-4a36-a506-2ca66f6635e0",
   "metadata": {},
   "outputs": [],
   "source": [
    "total_summary_df = pd.read_csv(\"./squire_tjp2_total_seq_similarity_summary_df.csv\", header = 0 ,index_col = 0)"
   ]
  },
  {
   "cell_type": "code",
   "execution_count": 108,
   "id": "9ad2ac2a-e087-46c5-830f-bf56b87c235e",
   "metadata": {},
   "outputs": [],
   "source": [
    "condition_colors = {\n",
    "    'control': 'gray',\n",
    "    'mutant_up': 'salmon',\n",
    "    'wt_up':'cornflowerblue'\n",
    "}"
   ]
  },
  {
   "cell_type": "code",
   "execution_count": 82,
   "id": "98069156-2697-4a07-a4a5-05e01b319f5d",
   "metadata": {},
   "outputs": [
    {
     "data": {
      "image/png": "[encoded data removed]",
      "text/plain": [
       "<Figure size 800x600 with 1 Axes>"
      ]
     },
     "metadata": {},
     "output_type": "display_data"
    }
   ],
   "source": [
    "bar_colors = [condition_colors[cond] for cond in total_summary_df['condition'] ]\n",
    "\n",
    "plt.figure(figsize=(8, 6))\n",
    "\n",
    "\n",
    "plt.bar(total_summary_df.index, total_summary_df['avg_pctIdentity'] , yerr=total_summary_df['std_pctIdentity'], capsize=5, color=bar_colors, edgecolor='black')\n",
    "\n",
    "plt.xticks(rotation=45, ha='right') \n",
    "\n",
    "legend_elements = [Patch(facecolor=color, label=cond) for cond, color in condition_colors.items()]\n",
    "plt.legend(handles=legend_elements, title='dTE Groups ')\n",
    "\n",
    "plt.ylabel('Average Similarity Score')\n",
    "plt.title('Sequence Similarity across differential TE groups')\n",
    "plt.grid(axis='y', linestyle='--', alpha=0.7)\n",
    "\n",
    "# Show plot\n",
    "plt.tight_layout()\n",
    "plt.show()\n"
   ]
  },
  {
   "cell_type": "code",
   "execution_count": null,
   "id": "161f4ce6-0038-415f-be0c-d2cae8ca96ea",
   "metadata": {},
   "outputs": [],
   "source": []
  },
  {
   "cell_type": "code",
   "execution_count": 85,
   "id": "253e8b10-635e-47e0-b97e-d7d595ee67b5",
   "metadata": {},
   "outputs": [],
   "source": [
    "sum_of_sum_df = total_summary_df.groupby('condition').mean()"
   ]
  },
  {
   "cell_type": "code",
   "execution_count": 86,
   "id": "0c3d274c-9060-4bd6-9c0c-446a67f17e03",
   "metadata": {},
   "outputs": [
    {
     "data": {
      "text/html": [
       "<div>\n",
       "<style scoped>\n",
       "    .dataframe tbody tr th:only-of-type {\n",
       "        vertical-align: middle;\n",
       "    }\n",
       "\n",
       "    .dataframe tbody tr th {\n",
       "        vertical-align: top;\n",
       "    }\n",
       "\n",
       "    .dataframe thead th {\n",
       "        text-align: right;\n",
       "    }\n",
       "</style>\n",
       "<table border=\"1\" class=\"dataframe\">\n",
       "  <thead>\n",
       "    <tr style=\"text-align: right;\">\n",
       "      <th></th>\n",
       "      <th>avg_pctIdentity</th>\n",
       "      <th>std_pctIdentity</th>\n",
       "      <th>num_element</th>\n",
       "    </tr>\n",
       "    <tr>\n",
       "      <th>condition</th>\n",
       "      <th></th>\n",
       "      <th></th>\n",
       "      <th></th>\n",
       "    </tr>\n",
       "  </thead>\n",
       "  <tbody>\n",
       "    <tr>\n",
       "      <th>control</th>\n",
       "      <td>29.994522</td>\n",
       "      <td>18.570293</td>\n",
       "      <td>26.666667</td>\n",
       "    </tr>\n",
       "    <tr>\n",
       "      <th>mutant_up</th>\n",
       "      <td>30.622248</td>\n",
       "      <td>23.771064</td>\n",
       "      <td>32.5</td>\n",
       "    </tr>\n",
       "    <tr>\n",
       "      <th>wt_up</th>\n",
       "      <td>27.063377</td>\n",
       "      <td>19.144766</td>\n",
       "      <td>21.0</td>\n",
       "    </tr>\n",
       "  </tbody>\n",
       "</table>\n",
       "</div>"
      ],
      "text/plain": [
       "          avg_pctIdentity std_pctIdentity num_element\n",
       "condition                                            \n",
       "control         29.994522       18.570293   26.666667\n",
       "mutant_up       30.622248       23.771064        32.5\n",
       "wt_up           27.063377       19.144766        21.0"
      ]
     },
     "execution_count": 86,
     "metadata": {},
     "output_type": "execute_result"
    }
   ],
   "source": [
    "sum_of_sum_df"
   ]
  },
  {
   "cell_type": "code",
   "execution_count": 97,
   "id": "878f9ac9-e577-463f-a7df-a3b279b4a0a6",
   "metadata": {},
   "outputs": [],
   "source": [
    "# plt.bar( x = sum_of_sum_df.index, height= sum_of_sum_df['avg_pctIdentity'],\n",
    "#         yerr=sum_of_sum_df['std_pctIdentity'], capsize = 5, edgecolor='black', \n",
    "#         color = ['cornflowerblue' , 'salmon' ,'grey'] )\n",
    "# plt.title( 'Avg. Pct Sequence Identity across Conditions')\n",
    "# plt.show()"
   ]
  },
  {
   "cell_type": "code",
   "execution_count": 99,
   "id": "3c701eae-e32c-4f83-a3ad-7a21c8bd389a",
   "metadata": {},
   "outputs": [
    {
     "data": {
      "image/png": "[encoded data removed]",
      "text/plain": [
       "<Figure size 640x480 with 1 Axes>"
      ]
     },
     "metadata": {},
     "output_type": "display_data"
    }
   ],
   "source": [
    "sn.barplot( total_summary_df, y ='avg_pctIdentity' , x = 'condition' , hue= 'condition', palette= condition_colors, edgecolor = 'black', capsize = 0.05 )\n",
    "plt.title( 'Avg. Pct Sequence Identity across Conditions')\n",
    "plt.show()"
   ]
  },
  {
   "cell_type": "code",
   "execution_count": 89,
   "id": "538bb36c-c935-4293-80f5-f9312bb00b4d",
   "metadata": {},
   "outputs": [
    {
     "data": {
      "text/plain": [
       "<Axes: xlabel='condition', ylabel='avg_pctIdentity'>"
      ]
     },
     "execution_count": 89,
     "metadata": {},
     "output_type": "execute_result"
    },
    {
     "data": {
      "image/png": "[encoded data removed]",
      "text/plain": [
       "<Figure size 640x480 with 1 Axes>"
      ]
     },
     "metadata": {},
     "output_type": "display_data"
    }
   ],
   "source": [
    "sn.boxplot( total_summary_df, y ='avg_pctIdentity' , x = 'condition' , hue= 'condition', palette= condition_colors )"
   ]
  },
  {
   "cell_type": "code",
   "execution_count": null,
   "id": "de195ee9-2a9c-4fdc-b621-6d949bcd90cf",
   "metadata": {},
   "outputs": [],
   "source": []
  },
  {
   "cell_type": "markdown",
   "id": "9995cedd-9c04-41e1-8e2d-4d67322675a7",
   "metadata": {},
   "source": [
    "## calculate p-values"
   ]
  },
  {
   "cell_type": "code",
   "execution_count": 110,
   "id": "5c4e2030-7125-4013-859d-caecb0823c7b",
   "metadata": {},
   "outputs": [],
   "source": [
    "from scipy import stats\n",
    "\n",
    "ctrl = total_summary_df['avg_pctIdentity'][total_summary_df['condition'] == 'control']\n",
    "mut = total_summary_df['avg_pctIdentity'][total_summary_df['condition'] == 'mutant_up']\n",
    "# Assuming equal variances (default)\n",
    "t_statistic, p_value = stats.ttest_ind(list(mut), list( ctrl) )"
   ]
  },
  {
   "cell_type": "code",
   "execution_count": 111,
   "id": "c83f00c8-b252-4759-bf8c-23b2006249bb",
   "metadata": {},
   "outputs": [
    {
     "data": {
      "text/plain": [
       "[0.2370783897099611, 0.8169533466823745]"
      ]
     },
     "execution_count": 111,
     "metadata": {},
     "output_type": "execute_result"
    }
   ],
   "source": [
    "[t_statistic, p_value]"
   ]
  },
  {
   "cell_type": "code",
   "execution_count": 112,
   "id": "c58ec63a-f92d-4bd1-b7d7-591eb16b1a6d",
   "metadata": {},
   "outputs": [],
   "source": [
    "wt = total_summary_df['avg_pctIdentity'][total_summary_df['condition'] == 'wt_up']"
   ]
  },
  {
   "cell_type": "code",
   "execution_count": 113,
   "id": "4254eb1c-71bb-408c-ac50-1c7e0a4c0ea8",
   "metadata": {},
   "outputs": [],
   "source": [
    "t_mut_wt, p_mut_wt = stats.ttest_ind(list(mut), list( wt) )"
   ]
  },
  {
   "cell_type": "code",
   "execution_count": 114,
   "id": "f1ae0fee-f50b-4607-bd4f-606c6109de0c",
   "metadata": {},
   "outputs": [
    {
     "data": {
      "text/plain": [
       "[2.6129609267420646, 0.04749962652707692]"
      ]
     },
     "execution_count": 114,
     "metadata": {},
     "output_type": "execute_result"
    }
   ],
   "source": [
    "[t_mut_wt, p_mut_wt ]"
   ]
  },
  {
   "cell_type": "code",
   "execution_count": null,
   "id": "ff4d181c-35d3-4615-9909-78ca1fff8b74",
   "metadata": {},
   "outputs": [],
   "source": []
  },
  {
   "cell_type": "code",
   "execution_count": 115,
   "id": "8d4fdf80-41b6-4793-9096-6421ab1d49ca",
   "metadata": {},
   "outputs": [],
   "source": [
    "t_wt_ctrl, p_wt_ctrl = stats.ttest_ind(list(wt), list( ctrl) )"
   ]
  },
  {
   "cell_type": "code",
   "execution_count": 116,
   "id": "5d09fe07-bf99-4353-a98c-1f9855ca43a0",
   "metadata": {},
   "outputs": [
    {
     "data": {
      "text/plain": [
       "[-0.931163184826455, 0.37370317467097247]"
      ]
     },
     "execution_count": 116,
     "metadata": {},
     "output_type": "execute_result"
    }
   ],
   "source": [
    "[t_wt_ctrl, p_wt_ctrl]"
   ]
  },
  {
   "cell_type": "code",
   "execution_count": null,
   "id": "963a4068-cabf-4b62-9d97-49c51e484d85",
   "metadata": {},
   "outputs": [],
   "source": []
  },
  {
   "cell_type": "markdown",
   "id": "b7f1aa7a-517d-48e0-a904-09064e78a7ec",
   "metadata": {},
   "source": [
    "## save data"
   ]
  },
  {
   "cell_type": "code",
   "execution_count": 100,
   "id": "2a9bfff9-9656-4cda-a48d-e14d15d72131",
   "metadata": {},
   "outputs": [],
   "source": [
    "logi = pd.read_csv(\"./OUTPUT_EXPLAIN.csv\", header = 0 ,index_col= 0 )"
   ]
  },
  {
   "cell_type": "code",
   "execution_count": 101,
   "id": "4e6ebf28-ca10-4b86-ab31-dcb6ec09ae0d",
   "metadata": {},
   "outputs": [
    {
     "data": {
      "text/plain": [
       "Index(['count_table_indiv.csv', 'count_table_subF.csv', 'mm39_rmsk_full.tsv',\n",
       "       'Deseq_indiv_locus_results.csv', 'genoLoc_Deseq_indiv_locus_result.csv',\n",
       "       'compare_dTE_overlap/', 'genoLoc_TCPS_Deseq_indiv_locus_result.csv',\n",
       "       'TCPS_all_Deseq_indiv_locus.csv', 'resampled_TCPS_all_TE_indi.csv',\n",
       "       'TCPS_seq_similarity_summary_df.csv',\n",
       "       'squire_tjp2_mut_seq_similarity_summary_df.csv',\n",
       "       'squire_tjp2_wt_seq_similarity_summary_df.csv'],\n",
       "      dtype='object')"
      ]
     },
     "execution_count": 101,
     "metadata": {},
     "output_type": "execute_result"
    }
   ],
   "source": [
    "logi.columns"
   ]
  },
  {
   "cell_type": "code",
   "execution_count": 10,
   "id": "b375dfb1-826b-4da9-8129-389a51aae701",
   "metadata": {},
   "outputs": [
    {
     "data": {
      "text/plain": [
       "nb_created                                                    3\n",
       "nb_updated                                                  NaN\n",
       "explain       this folder contains temporary files used to c...\n",
       "Name: compare_dTE_overlap/, dtype: object"
      ]
     },
     "execution_count": 10,
     "metadata": {},
     "output_type": "execute_result"
    }
   ],
   "source": [
    "logi['compare_dTE_overlap/']"
   ]
  },
  {
   "cell_type": "code",
   "execution_count": 119,
   "id": "7a187741-97b6-407d-8fb0-2b3972976521",
   "metadata": {},
   "outputs": [],
   "source": [
    "total_summary_df.to_csv(\"./squire_tjp2_total_seq_similarity_summary_df.csv\", header = True, index = True )"
   ]
  },
  {
   "cell_type": "code",
   "execution_count": 118,
   "id": "4ecb985d-2716-44e0-b020-1c22a2489a1e",
   "metadata": {},
   "outputs": [],
   "source": [
    "logi['squire_tjp2_total_seq_similarity_summary_df.csv']= ['4d' , 'NA' , 'summary df for sequence similarity scores for all conditinos for the squire TE quantification of turner mouse organoids. Includes WT, KO and randomly selected control samples']"
   ]
  },
  {
   "cell_type": "code",
   "execution_count": 117,
   "id": "f87614e2-200b-4148-b91f-dc22b905eb9d",
   "metadata": {},
   "outputs": [
    {
     "data": {
      "text/html": [
       "<div>\n",
       "<style scoped>\n",
       "    .dataframe tbody tr th:only-of-type {\n",
       "        vertical-align: middle;\n",
       "    }\n",
       "\n",
       "    .dataframe tbody tr th {\n",
       "        vertical-align: top;\n",
       "    }\n",
       "\n",
       "    .dataframe thead th {\n",
       "        text-align: right;\n",
       "    }\n",
       "</style>\n",
       "<table border=\"1\" class=\"dataframe\">\n",
       "  <thead>\n",
       "    <tr style=\"text-align: right;\">\n",
       "      <th></th>\n",
       "      <th>count_table_indiv.csv</th>\n",
       "      <th>count_table_subF.csv</th>\n",
       "      <th>mm39_rmsk_full.tsv</th>\n",
       "      <th>Deseq_indiv_locus_results.csv</th>\n",
       "      <th>genoLoc_Deseq_indiv_locus_result.csv</th>\n",
       "      <th>compare_dTE_overlap/</th>\n",
       "      <th>genoLoc_TCPS_Deseq_indiv_locus_result.csv</th>\n",
       "      <th>TCPS_all_Deseq_indiv_locus.csv</th>\n",
       "      <th>resampled_TCPS_all_TE_indi.csv</th>\n",
       "      <th>TCPS_seq_similarity_summary_df.csv</th>\n",
       "      <th>squire_tjp2_mut_seq_similarity_summary_df.csv</th>\n",
       "      <th>squire_tjp2_wt_seq_similarity_summary_df.csv</th>\n",
       "      <th>squire_tjp2_total_seq_similarity_summary_df.csv</th>\n",
       "    </tr>\n",
       "  </thead>\n",
       "  <tbody>\n",
       "    <tr>\n",
       "      <th>nb_created</th>\n",
       "      <td>1</td>\n",
       "      <td>1</td>\n",
       "      <td>downloaded from ucsc table browser</td>\n",
       "      <td>R1</td>\n",
       "      <td>3</td>\n",
       "      <td>3</td>\n",
       "      <td>5a</td>\n",
       "      <td>6</td>\n",
       "      <td>6</td>\n",
       "      <td>5b</td>\n",
       "      <td>4c</td>\n",
       "      <td>4c</td>\n",
       "      <td>4d</td>\n",
       "    </tr>\n",
       "    <tr>\n",
       "      <th>nb_updated</th>\n",
       "      <td>NaN</td>\n",
       "      <td>NaN</td>\n",
       "      <td>1</td>\n",
       "      <td>NaN</td>\n",
       "      <td>NaN</td>\n",
       "      <td>NaN</td>\n",
       "      <td>6</td>\n",
       "      <td>NaN</td>\n",
       "      <td>NaN</td>\n",
       "      <td>NaN</td>\n",
       "      <td>NaN</td>\n",
       "      <td>NaN</td>\n",
       "      <td>NA</td>\n",
       "    </tr>\n",
       "    <tr>\n",
       "      <th>explain</th>\n",
       "      <td>count table obtained from combining the final_...</td>\n",
       "      <td>count table obtained from the indiv count tabl...</td>\n",
       "      <td>added the column of transcript_id, which is th...</td>\n",
       "      <td>Deseq result individual loci level. Generated ...</td>\n",
       "      <td>Derived from the Deseq_indiv_locus_results csv...</td>\n",
       "      <td>this folder contains temporary files used to c...</td>\n",
       "      <td>Derived from the TCPS Deseq individual locus r...</td>\n",
       "      <td>Modified from Dropbox/TCPS_TE_results/TE_indi_...</td>\n",
       "      <td>TCPS TE re-sampled to fit seqLen distribution ...</td>\n",
       "      <td>Sequence similarity summary df including all c...</td>\n",
       "      <td>seq similarity summary df for turner mouse TJP...</td>\n",
       "      <td>seq similarity summary df for turner mouse TJP...</td>\n",
       "      <td>summary df for sequence similarity scores for ...</td>\n",
       "    </tr>\n",
       "  </tbody>\n",
       "</table>\n",
       "</div>"
      ],
      "text/plain": [
       "                                        count_table_indiv.csv   \n",
       "nb_created                                                  1  \\\n",
       "nb_updated                                                NaN   \n",
       "explain     count table obtained from combining the final_...   \n",
       "\n",
       "                                         count_table_subF.csv   \n",
       "nb_created                                                  1  \\\n",
       "nb_updated                                                NaN   \n",
       "explain     count table obtained from the indiv count tabl...   \n",
       "\n",
       "                                           mm39_rmsk_full.tsv   \n",
       "nb_created                 downloaded from ucsc table browser  \\\n",
       "nb_updated                                                  1   \n",
       "explain     added the column of transcript_id, which is th...   \n",
       "\n",
       "                                Deseq_indiv_locus_results.csv   \n",
       "nb_created                                                 R1  \\\n",
       "nb_updated                                                NaN   \n",
       "explain     Deseq result individual loci level. Generated ...   \n",
       "\n",
       "                         genoLoc_Deseq_indiv_locus_result.csv   \n",
       "nb_created                                                  3  \\\n",
       "nb_updated                                                NaN   \n",
       "explain     Derived from the Deseq_indiv_locus_results csv...   \n",
       "\n",
       "                                         compare_dTE_overlap/   \n",
       "nb_created                                                  3  \\\n",
       "nb_updated                                                NaN   \n",
       "explain     this folder contains temporary files used to c...   \n",
       "\n",
       "                    genoLoc_TCPS_Deseq_indiv_locus_result.csv   \n",
       "nb_created                                                 5a  \\\n",
       "nb_updated                                                  6   \n",
       "explain     Derived from the TCPS Deseq individual locus r...   \n",
       "\n",
       "                               TCPS_all_Deseq_indiv_locus.csv   \n",
       "nb_created                                                  6  \\\n",
       "nb_updated                                                NaN   \n",
       "explain     Modified from Dropbox/TCPS_TE_results/TE_indi_...   \n",
       "\n",
       "                               resampled_TCPS_all_TE_indi.csv   \n",
       "nb_created                                                  6  \\\n",
       "nb_updated                                                NaN   \n",
       "explain     TCPS TE re-sampled to fit seqLen distribution ...   \n",
       "\n",
       "                           TCPS_seq_similarity_summary_df.csv   \n",
       "nb_created                                                 5b  \\\n",
       "nb_updated                                                NaN   \n",
       "explain     Sequence similarity summary df including all c...   \n",
       "\n",
       "                squire_tjp2_mut_seq_similarity_summary_df.csv   \n",
       "nb_created                                                 4c  \\\n",
       "nb_updated                                                NaN   \n",
       "explain     seq similarity summary df for turner mouse TJP...   \n",
       "\n",
       "                 squire_tjp2_wt_seq_similarity_summary_df.csv   \n",
       "nb_created                                                 4c  \\\n",
       "nb_updated                                                NaN   \n",
       "explain     seq similarity summary df for turner mouse TJP...   \n",
       "\n",
       "              squire_tjp2_total_seq_similarity_summary_df.csv  \n",
       "nb_created                                                 4d  \n",
       "nb_updated                                                 NA  \n",
       "explain     summary df for sequence similarity scores for ...  "
      ]
     },
     "execution_count": 117,
     "metadata": {},
     "output_type": "execute_result"
    }
   ],
   "source": [
    "logi"
   ]
  },
  {
   "cell_type": "code",
   "execution_count": 120,
   "id": "11d5375a-bd72-4bb8-bd42-e81cec6ab29a",
   "metadata": {},
   "outputs": [],
   "source": [
    "logi.to_csv(\"./OUTPUT_EXPLAIN.csv\", header =True, index = True )"
   ]
  },
  {
   "cell_type": "code",
   "execution_count": null,
   "id": "ab6584eb-ae77-4fe9-8466-48d42c56e2ad",
   "metadata": {},
   "outputs": [],
   "source": []
  }
 ],
 "metadata": {
  "kernelspec": {
   "display_name": "qc_pipe",
   "language": "python",
   "name": "qc_pipe"
  },
  "language_info": {
   "codemirror_mode": {
    "name": "ipython",
    "version": 3
   },
   "file_extension": ".py",
   "mimetype": "text/x-python",
   "name": "python",
   "nbconvert_exporter": "python",
   "pygments_lexer": "ipython3",
   "version": "3.8.5"
  }
 },
 "nbformat": 4,
 "nbformat_minor": 5
}
