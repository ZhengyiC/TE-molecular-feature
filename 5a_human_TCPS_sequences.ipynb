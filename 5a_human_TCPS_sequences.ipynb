{
 "cells": [
  {
   "cell_type": "markdown",
   "id": "15a059e8-3396-43af-8492-841f6d5d1da3",
   "metadata": {},
   "source": [
    "# This notebook aims to get human TCPS dTE sequences"
   ]
  },
  {
   "cell_type": "code",
   "execution_count": null,
   "id": "170afc7d-acf0-4fdd-9a17-91bbcf68408d",
   "metadata": {},
   "outputs": [],
   "source": []
  },
  {
   "cell_type": "code",
   "execution_count": 1,
   "id": "f0052619-814a-4c63-aa97-af7dd3f92f1f",
   "metadata": {},
   "outputs": [],
   "source": [
    "from pyfaidx import Fasta\n",
    "import pandas as pd\n",
    "from Bio.Seq import Seq\n",
    "from pathlib import Path"
   ]
  },
  {
   "cell_type": "code",
   "execution_count": 2,
   "id": "766d35b3-d128-465c-8b3b-755f574be4e5",
   "metadata": {},
   "outputs": [
    {
     "name": "stderr",
     "output_type": "stream",
     "text": [
      "/home/lucy/anaconda3/envs/qc_pipe/lib/python3.8/site-packages/Bio/pairwise2.py:278: BiopythonDeprecationWarning: Bio.pairwise2 has been deprecated, and we intend to remove it in a future release of Biopython. As an alternative, please consider using Bio.Align.PairwiseAligner as a replacement, and contact the Biopython developers if you still need the Bio.pairwise2 module.\n",
      "  warnings.warn(\n"
     ]
    }
   ],
   "source": [
    "import pandas as pd\n",
    "import numpy as np\n",
    "import seaborn as sns\n",
    "import matplotlib.pyplot as plt\n",
    "from Bio import SeqIO, pairwise2\n",
    "from itertools import combinations\n",
    "from multiprocessing import Pool, cpu_count\n",
    "from pathlib import Path"
   ]
  },
  {
   "cell_type": "code",
   "execution_count": 3,
   "id": "24f2952f-f877-49f5-b307-ff4c41bd4575",
   "metadata": {},
   "outputs": [],
   "source": [
    "#from pairwise2 import format_alignment"
   ]
  },
  {
   "cell_type": "code",
   "execution_count": 4,
   "id": "d1e9840d-ad86-4a48-baaf-b49fceaed394",
   "metadata": {},
   "outputs": [],
   "source": [
    "import time"
   ]
  },
  {
   "cell_type": "code",
   "execution_count": 5,
   "id": "1363e5d9-fb78-485d-bed9-d1ae1b43e1b6",
   "metadata": {},
   "outputs": [],
   "source": [
    "import sequence_comparison as seqComp"
   ]
  },
  {
   "cell_type": "code",
   "execution_count": 6,
   "id": "3697bcd8-d145-4bf4-8a5b-ffeea68e3aab",
   "metadata": {},
   "outputs": [],
   "source": [
    "from gtfparse import read_gtf"
   ]
  },
  {
   "cell_type": "code",
   "execution_count": 7,
   "id": "2cd42010-dc16-4403-863c-0febaeedc758",
   "metadata": {},
   "outputs": [],
   "source": [
    "import os\n",
    "import gc"
   ]
  },
  {
   "cell_type": "code",
   "execution_count": null,
   "id": "8607f540-d8dd-4b9e-8e43-27ec01766bb0",
   "metadata": {},
   "outputs": [],
   "source": []
  },
  {
   "cell_type": "markdown",
   "id": "c4189dac-4f4e-466e-9d01-d72a695a47ae",
   "metadata": {},
   "source": [
    "## load data"
   ]
  },
  {
   "cell_type": "markdown",
   "id": "a63ca6ae-7a42-437e-9001-336225b47270",
   "metadata": {},
   "source": [
    "the DESeq individual loci table"
   ]
  },
  {
   "cell_type": "code",
   "execution_count": 9,
   "id": "45eb23c1-82e9-4e8a-b7b4-a8fda3ee9cfe",
   "metadata": {},
   "outputs": [
    {
     "data": {
      "text/html": [
       "<div>\n",
       "<style scoped>\n",
       "    .dataframe tbody tr th:only-of-type {\n",
       "        vertical-align: middle;\n",
       "    }\n",
       "\n",
       "    .dataframe tbody tr th {\n",
       "        vertical-align: top;\n",
       "    }\n",
       "\n",
       "    .dataframe thead th {\n",
       "        text-align: right;\n",
       "    }\n",
       "</style>\n",
       "<table border=\"1\" class=\"dataframe\">\n",
       "  <thead>\n",
       "    <tr style=\"text-align: right;\">\n",
       "      <th></th>\n",
       "      <th>TE name</th>\n",
       "      <th>baseMean</th>\n",
       "      <th>log2FoldChange</th>\n",
       "      <th>lfcSE</th>\n",
       "      <th>stat</th>\n",
       "      <th>pvalue</th>\n",
       "      <th>padj</th>\n",
       "    </tr>\n",
       "  </thead>\n",
       "  <tbody>\n",
       "    <tr>\n",
       "      <th>0</th>\n",
       "      <td>L2</td>\n",
       "      <td>0.097405</td>\n",
       "      <td>0.197787</td>\n",
       "      <td>1.457064</td>\n",
       "      <td>0.135744</td>\n",
       "      <td>0.892024</td>\n",
       "      <td>0.999991</td>\n",
       "    </tr>\n",
       "    <tr>\n",
       "      <th>1</th>\n",
       "      <td>AluSg</td>\n",
       "      <td>0.493240</td>\n",
       "      <td>1.038439</td>\n",
       "      <td>0.909837</td>\n",
       "      <td>1.141346</td>\n",
       "      <td>0.253726</td>\n",
       "      <td>0.999991</td>\n",
       "    </tr>\n",
       "    <tr>\n",
       "      <th>2</th>\n",
       "      <td>L1PA8A</td>\n",
       "      <td>1.504698</td>\n",
       "      <td>-0.263127</td>\n",
       "      <td>0.834217</td>\n",
       "      <td>-0.315418</td>\n",
       "      <td>0.752444</td>\n",
       "      <td>0.999991</td>\n",
       "    </tr>\n",
       "    <tr>\n",
       "      <th>3</th>\n",
       "      <td>L1MDb</td>\n",
       "      <td>0.179092</td>\n",
       "      <td>0.166453</td>\n",
       "      <td>1.381934</td>\n",
       "      <td>0.120449</td>\n",
       "      <td>0.904127</td>\n",
       "      <td>0.999991</td>\n",
       "    </tr>\n",
       "    <tr>\n",
       "      <th>4</th>\n",
       "      <td>AluSp</td>\n",
       "      <td>0.033562</td>\n",
       "      <td>0.514654</td>\n",
       "      <td>3.312685</td>\n",
       "      <td>0.155358</td>\n",
       "      <td>0.876539</td>\n",
       "      <td>0.999991</td>\n",
       "    </tr>\n",
       "  </tbody>\n",
       "</table>\n",
       "</div>"
      ],
      "text/plain": [
       "  TE name  baseMean  log2FoldChange     lfcSE      stat    pvalue      padj\n",
       "0      L2  0.097405        0.197787  1.457064  0.135744  0.892024  0.999991\n",
       "1   AluSg  0.493240        1.038439  0.909837  1.141346  0.253726  0.999991\n",
       "2  L1PA8A  1.504698       -0.263127  0.834217 -0.315418  0.752444  0.999991\n",
       "3   L1MDb  0.179092        0.166453  1.381934  0.120449  0.904127  0.999991\n",
       "4   AluSp  0.033562        0.514654  3.312685  0.155358  0.876539  0.999991"
      ]
     },
     "execution_count": 9,
     "metadata": {},
     "output_type": "execute_result"
    }
   ],
   "source": [
    "indiv_dTE = pd.read_csv(\"/home/lucy/Dropbox/TCPS_TE_results/TE_indi_deseq.tsv\", delimiter='\\t', header = 0 )\n",
    "indiv_dTE.head()"
   ]
  },
  {
   "cell_type": "code",
   "execution_count": 10,
   "id": "348b0f9e-643f-4c6b-aa50-131b0abdf209",
   "metadata": {
    "collapsed": true,
    "jupyter": {
     "outputs_hidden": true
    }
   },
   "outputs": [
    {
     "data": {
      "text/plain": [
       "500     AluSz_199\n",
       "501      MIRb_340\n",
       "502       L2b_218\n",
       "503     AluSz_200\n",
       "504     AluJb_315\n",
       "505      AluSq4_7\n",
       "506    AluSx1_297\n",
       "507      AluSq_63\n",
       "508     AluJr_171\n",
       "509    AluSx1_298\n",
       "510      AluSg_82\n",
       "511       MIR_282\n",
       "512     AluSz6_90\n",
       "513     AluJo_210\n",
       "514         L2_97\n",
       "515      HAL1ME_2\n",
       "516      HAL1ME_3\n",
       "517         L2_98\n",
       "518     AluJb_324\n",
       "519     AluSz_204\n",
       "Name: TE name, dtype: object"
      ]
     },
     "execution_count": 10,
     "metadata": {},
     "output_type": "execute_result"
    }
   ],
   "source": [
    "indiv_dTE.iloc[500:520]['TE name']"
   ]
  },
  {
   "cell_type": "code",
   "execution_count": null,
   "id": "4623bb47-6880-4cd8-a127-2de6e8f722d7",
   "metadata": {},
   "outputs": [],
   "source": []
  },
  {
   "cell_type": "markdown",
   "id": "fb3d8b45-440c-47e0-9e54-697bb33a7cb1",
   "metadata": {},
   "source": [
    "remove coding genes in the dTE df"
   ]
  },
  {
   "cell_type": "code",
   "execution_count": 10,
   "id": "654e8873-fc1e-47f0-8b14-0f62281e36e6",
   "metadata": {},
   "outputs": [],
   "source": [
    "indiv_dTE = indiv_dTE[ ~indiv_dTE['TE name'].str.startswith('ENSG')]"
   ]
  },
  {
   "cell_type": "code",
   "execution_count": 11,
   "id": "3d8d37ab-7873-4c0a-ac9b-63731cb56b07",
   "metadata": {},
   "outputs": [
    {
     "data": {
      "text/plain": [
       "(172873, 7)"
      ]
     },
     "execution_count": 11,
     "metadata": {},
     "output_type": "execute_result"
    }
   ],
   "source": [
    "indiv_dTE.shape"
   ]
  },
  {
   "cell_type": "code",
   "execution_count": null,
   "id": "dc967f4d-09e7-431a-9403-cccaa84ae537",
   "metadata": {},
   "outputs": [],
   "source": []
  },
  {
   "cell_type": "markdown",
   "id": "16594a33-5bcf-4daf-b3cb-3ebd2d0dec81",
   "metadata": {},
   "source": [
    "#### load Sandy's GTF and change to df format"
   ]
  },
  {
   "cell_type": "code",
   "execution_count": 15,
   "id": "f1b61d02-12e1-4c33-bc91-c49fd1ea4161",
   "metadata": {
    "collapsed": true,
    "jupyter": {
     "outputs_hidden": true
    }
   },
   "outputs": [
    {
     "name": "stderr",
     "output_type": "stream",
     "text": [
      "INFO:root:Extracted GTF attributes: ['gene_id']\n"
     ]
    },
    {
     "data": {
      "text/html": [
       "<div><style>\n",
       ".dataframe > thead > tr,\n",
       ".dataframe > tbody > tr {\n",
       "  text-align: right;\n",
       "  white-space: pre-wrap;\n",
       "}\n",
       "</style>\n",
       "<small>shape: (5, 9)</small><table border=\"1\" class=\"dataframe\"><thead><tr><th>seqname</th><th>source</th><th>feature</th><th>start</th><th>end</th><th>score</th><th>strand</th><th>frame</th><th>gene_id</th></tr><tr><td>cat</td><td>cat</td><td>cat</td><td>i64</td><td>i64</td><td>f32</td><td>cat</td><td>u32</td><td>str</td></tr></thead><tbody><tr><td>&quot;chr1&quot;</td><td>&quot;hg38_rmsk&quot;</td><td>&quot;exon&quot;</td><td>67108754</td><td>67109046</td><td>1892.0</td><td>&quot;+&quot;</td><td>0</td><td>&quot;L1P5&quot;</td></tr><tr><td>&quot;chr1&quot;</td><td>&quot;hg38_rmsk&quot;</td><td>&quot;exon&quot;</td><td>8388316</td><td>8388618</td><td>2582.0</td><td>&quot;-&quot;</td><td>0</td><td>&quot;AluY&quot;</td></tr><tr><td>&quot;chr1&quot;</td><td>&quot;hg38_rmsk&quot;</td><td>&quot;exon&quot;</td><td>25165804</td><td>25166380</td><td>4085.0</td><td>&quot;+&quot;</td><td>0</td><td>&quot;L1MB5&quot;</td></tr><tr><td>&quot;chr1&quot;</td><td>&quot;hg38_rmsk&quot;</td><td>&quot;exon&quot;</td><td>33554186</td><td>33554483</td><td>2285.0</td><td>&quot;-&quot;</td><td>0</td><td>&quot;AluSc&quot;</td></tr><tr><td>&quot;chr1&quot;</td><td>&quot;hg38_rmsk&quot;</td><td>&quot;exon&quot;</td><td>41942895</td><td>41943205</td><td>2451.0</td><td>&quot;-&quot;</td><td>0</td><td>&quot;AluY_1&quot;</td></tr></tbody></table></div>"
      ],
      "text/plain": [
       "shape: (5, 9)\n",
       "┌─────────┬───────────┬─────────┬──────────┬───┬────────┬────────┬───────┬─────────┐\n",
       "│ seqname ┆ source    ┆ feature ┆ start    ┆ … ┆ score  ┆ strand ┆ frame ┆ gene_id │\n",
       "│ ---     ┆ ---       ┆ ---     ┆ ---      ┆   ┆ ---    ┆ ---    ┆ ---   ┆ ---     │\n",
       "│ cat     ┆ cat       ┆ cat     ┆ i64      ┆   ┆ f32    ┆ cat    ┆ u32   ┆ str     │\n",
       "╞═════════╪═══════════╪═════════╪══════════╪═══╪════════╪════════╪═══════╪═════════╡\n",
       "│ chr1    ┆ hg38_rmsk ┆ exon    ┆ 67108754 ┆ … ┆ 1892.0 ┆ +      ┆ 0     ┆ L1P5    │\n",
       "│ chr1    ┆ hg38_rmsk ┆ exon    ┆ 8388316  ┆ … ┆ 2582.0 ┆ -      ┆ 0     ┆ AluY    │\n",
       "│ chr1    ┆ hg38_rmsk ┆ exon    ┆ 25165804 ┆ … ┆ 4085.0 ┆ +      ┆ 0     ┆ L1MB5   │\n",
       "│ chr1    ┆ hg38_rmsk ┆ exon    ┆ 33554186 ┆ … ┆ 2285.0 ┆ -      ┆ 0     ┆ AluSc   │\n",
       "│ chr1    ┆ hg38_rmsk ┆ exon    ┆ 41942895 ┆ … ┆ 2451.0 ┆ -      ┆ 0     ┆ AluY_1  │\n",
       "└─────────┴───────────┴─────────┴──────────┴───┴────────┴────────┴───────┴─────────┘"
      ]
     },
     "execution_count": 15,
     "metadata": {},
     "output_type": "execute_result"
    }
   ],
   "source": [
    "# Read the GTF file into a Pandas DataFrame\n",
    "df = read_gtf(\"/home/lucy/Dropbox/TCPS_TE_results/hg38_gencode_rmsk_indi.gtf\")\n",
    "df.head()\n",
    "\n",
    "# Filter the DataFrame, e.g., to get only gene entries\n",
    "#genes_df = df[df[\"feature\"] == \"gene\"]\n",
    "#print(genes_df.head())"
   ]
  },
  {
   "cell_type": "code",
   "execution_count": 30,
   "id": "2f4897f4-4c25-4c58-837a-67e79fdebe32",
   "metadata": {},
   "outputs": [
    {
     "name": "stdout",
     "output_type": "stream",
     "text": [
      "['seqname', 'source', 'feature', 'start', 'end', 'score', 'strand', 'frame', 'gene_id']\n"
     ]
    }
   ],
   "source": [
    "print( df.columns ) #= \n",
    "df.columns = ['genoName', 'source', 'feature', 'genoStart', 'genoEnd', 'score', 'strand', 'frame', 'gene_id']"
   ]
  },
  {
   "cell_type": "code",
   "execution_count": 32,
   "id": "d880e4ee-69bb-447d-815f-b782094cb78c",
   "metadata": {},
   "outputs": [
    {
     "data": {
      "text/html": [
       "<div><style>\n",
       ".dataframe > thead > tr,\n",
       ".dataframe > tbody > tr {\n",
       "  text-align: right;\n",
       "  white-space: pre-wrap;\n",
       "}\n",
       "</style>\n",
       "<small>shape: (5, 9)</small><table border=\"1\" class=\"dataframe\"><thead><tr><th>genoName</th><th>source</th><th>feature</th><th>genoStart</th><th>genoEnd</th><th>score</th><th>strand</th><th>frame</th><th>gene_id</th></tr><tr><td>cat</td><td>cat</td><td>cat</td><td>i64</td><td>i64</td><td>f32</td><td>cat</td><td>u32</td><td>str</td></tr></thead><tbody><tr><td>&quot;chr1&quot;</td><td>&quot;hg38_rmsk&quot;</td><td>&quot;exon&quot;</td><td>67108754</td><td>67109046</td><td>1892.0</td><td>&quot;+&quot;</td><td>0</td><td>&quot;L1P5&quot;</td></tr><tr><td>&quot;chr1&quot;</td><td>&quot;hg38_rmsk&quot;</td><td>&quot;exon&quot;</td><td>8388316</td><td>8388618</td><td>2582.0</td><td>&quot;-&quot;</td><td>0</td><td>&quot;AluY&quot;</td></tr><tr><td>&quot;chr1&quot;</td><td>&quot;hg38_rmsk&quot;</td><td>&quot;exon&quot;</td><td>25165804</td><td>25166380</td><td>4085.0</td><td>&quot;+&quot;</td><td>0</td><td>&quot;L1MB5&quot;</td></tr><tr><td>&quot;chr1&quot;</td><td>&quot;hg38_rmsk&quot;</td><td>&quot;exon&quot;</td><td>33554186</td><td>33554483</td><td>2285.0</td><td>&quot;-&quot;</td><td>0</td><td>&quot;AluSc&quot;</td></tr><tr><td>&quot;chr1&quot;</td><td>&quot;hg38_rmsk&quot;</td><td>&quot;exon&quot;</td><td>41942895</td><td>41943205</td><td>2451.0</td><td>&quot;-&quot;</td><td>0</td><td>&quot;AluY_1&quot;</td></tr></tbody></table></div>"
      ],
      "text/plain": [
       "shape: (5, 9)\n",
       "┌──────────┬───────────┬─────────┬───────────┬───┬────────┬────────┬───────┬─────────┐\n",
       "│ genoName ┆ source    ┆ feature ┆ genoStart ┆ … ┆ score  ┆ strand ┆ frame ┆ gene_id │\n",
       "│ ---      ┆ ---       ┆ ---     ┆ ---       ┆   ┆ ---    ┆ ---    ┆ ---   ┆ ---     │\n",
       "│ cat      ┆ cat       ┆ cat     ┆ i64       ┆   ┆ f32    ┆ cat    ┆ u32   ┆ str     │\n",
       "╞══════════╪═══════════╪═════════╪═══════════╪═══╪════════╪════════╪═══════╪═════════╡\n",
       "│ chr1     ┆ hg38_rmsk ┆ exon    ┆ 67108754  ┆ … ┆ 1892.0 ┆ +      ┆ 0     ┆ L1P5    │\n",
       "│ chr1     ┆ hg38_rmsk ┆ exon    ┆ 8388316   ┆ … ┆ 2582.0 ┆ -      ┆ 0     ┆ AluY    │\n",
       "│ chr1     ┆ hg38_rmsk ┆ exon    ┆ 25165804  ┆ … ┆ 4085.0 ┆ +      ┆ 0     ┆ L1MB5   │\n",
       "│ chr1     ┆ hg38_rmsk ┆ exon    ┆ 33554186  ┆ … ┆ 2285.0 ┆ -      ┆ 0     ┆ AluSc   │\n",
       "│ chr1     ┆ hg38_rmsk ┆ exon    ┆ 41942895  ┆ … ┆ 2451.0 ┆ -      ┆ 0     ┆ AluY_1  │\n",
       "└──────────┴───────────┴─────────┴───────────┴───┴────────┴────────┴───────┴─────────┘"
      ]
     },
     "execution_count": 32,
     "metadata": {},
     "output_type": "execute_result"
    }
   ],
   "source": [
    "df.head()"
   ]
  },
  {
   "cell_type": "markdown",
   "id": "94d0867f-d138-4084-95c9-2a2b82a8ba0d",
   "metadata": {},
   "source": [
    "make a dictionary to map the genome location information with gene ids"
   ]
  },
  {
   "cell_type": "code",
   "execution_count": 36,
   "id": "4d51b63d-f3ea-4aa5-8a9c-4ffe55d2d861",
   "metadata": {},
   "outputs": [],
   "source": [
    "rmsk_df = pd.DataFrame( df, columns=df.columns)"
   ]
  },
  {
   "cell_type": "code",
   "execution_count": 37,
   "id": "d498bf04-dbe4-4e69-ac67-96863daca87d",
   "metadata": {},
   "outputs": [
    {
     "data": {
      "text/html": [
       "<div>\n",
       "<style scoped>\n",
       "    .dataframe tbody tr th:only-of-type {\n",
       "        vertical-align: middle;\n",
       "    }\n",
       "\n",
       "    .dataframe tbody tr th {\n",
       "        vertical-align: top;\n",
       "    }\n",
       "\n",
       "    .dataframe thead th {\n",
       "        text-align: right;\n",
       "    }\n",
       "</style>\n",
       "<table border=\"1\" class=\"dataframe\">\n",
       "  <thead>\n",
       "    <tr style=\"text-align: right;\">\n",
       "      <th></th>\n",
       "      <th>genoName</th>\n",
       "      <th>source</th>\n",
       "      <th>feature</th>\n",
       "      <th>genoStart</th>\n",
       "      <th>genoEnd</th>\n",
       "      <th>score</th>\n",
       "      <th>strand</th>\n",
       "      <th>frame</th>\n",
       "      <th>gene_id</th>\n",
       "    </tr>\n",
       "  </thead>\n",
       "  <tbody>\n",
       "    <tr>\n",
       "      <th>0</th>\n",
       "      <td>chr1</td>\n",
       "      <td>hg38_rmsk</td>\n",
       "      <td>exon</td>\n",
       "      <td>67108754</td>\n",
       "      <td>67109046</td>\n",
       "      <td>1892.0</td>\n",
       "      <td>+</td>\n",
       "      <td>0</td>\n",
       "      <td>L1P5</td>\n",
       "    </tr>\n",
       "    <tr>\n",
       "      <th>1</th>\n",
       "      <td>chr1</td>\n",
       "      <td>hg38_rmsk</td>\n",
       "      <td>exon</td>\n",
       "      <td>8388316</td>\n",
       "      <td>8388618</td>\n",
       "      <td>2582.0</td>\n",
       "      <td>-</td>\n",
       "      <td>0</td>\n",
       "      <td>AluY</td>\n",
       "    </tr>\n",
       "    <tr>\n",
       "      <th>2</th>\n",
       "      <td>chr1</td>\n",
       "      <td>hg38_rmsk</td>\n",
       "      <td>exon</td>\n",
       "      <td>25165804</td>\n",
       "      <td>25166380</td>\n",
       "      <td>4085.0</td>\n",
       "      <td>+</td>\n",
       "      <td>0</td>\n",
       "      <td>L1MB5</td>\n",
       "    </tr>\n",
       "    <tr>\n",
       "      <th>3</th>\n",
       "      <td>chr1</td>\n",
       "      <td>hg38_rmsk</td>\n",
       "      <td>exon</td>\n",
       "      <td>33554186</td>\n",
       "      <td>33554483</td>\n",
       "      <td>2285.0</td>\n",
       "      <td>-</td>\n",
       "      <td>0</td>\n",
       "      <td>AluSc</td>\n",
       "    </tr>\n",
       "    <tr>\n",
       "      <th>4</th>\n",
       "      <td>chr1</td>\n",
       "      <td>hg38_rmsk</td>\n",
       "      <td>exon</td>\n",
       "      <td>41942895</td>\n",
       "      <td>41943205</td>\n",
       "      <td>2451.0</td>\n",
       "      <td>-</td>\n",
       "      <td>0</td>\n",
       "      <td>AluY_1</td>\n",
       "    </tr>\n",
       "  </tbody>\n",
       "</table>\n",
       "</div>"
      ],
      "text/plain": [
       "  genoName     source feature genoStart   genoEnd   score strand frame gene_id\n",
       "0     chr1  hg38_rmsk    exon  67108754  67109046  1892.0      +     0    L1P5\n",
       "1     chr1  hg38_rmsk    exon   8388316   8388618  2582.0      -     0    AluY\n",
       "2     chr1  hg38_rmsk    exon  25165804  25166380  4085.0      +     0   L1MB5\n",
       "3     chr1  hg38_rmsk    exon  33554186  33554483  2285.0      -     0   AluSc\n",
       "4     chr1  hg38_rmsk    exon  41942895  41943205  2451.0      -     0  AluY_1"
      ]
     },
     "execution_count": 37,
     "metadata": {},
     "output_type": "execute_result"
    }
   ],
   "source": [
    "rmsk_df.head()"
   ]
  },
  {
   "cell_type": "markdown",
   "id": "49d8213b-4b87-41b1-aa56-3694e34be326",
   "metadata": {},
   "source": [
    "#### load the genome annotation df directly"
   ]
  },
  {
   "cell_type": "code",
   "execution_count": 16,
   "id": "35266410-b007-4cd3-979b-37ea0f7ca018",
   "metadata": {},
   "outputs": [],
   "source": [
    "rmsk_df = pd.read_csv(\"/home/lucy/Dropbox/TCPS_TE_results/hg38_gencode_rmsk_indi.csv\", header = 0, index_col= 0 )"
   ]
  },
  {
   "cell_type": "markdown",
   "id": "09ac7282-8cab-4e84-8435-f869a93a9547",
   "metadata": {},
   "source": [
    "## Get top differential TEs and extract fasta\n",
    "- p_adj threshold: 0.05, log2FC threshold: +/-2"
   ]
  },
  {
   "cell_type": "markdown",
   "id": "a497a3e3-5bb8-4a03-a53d-2143093d5c13",
   "metadata": {},
   "source": [
    "### extract significant dTEs"
   ]
  },
  {
   "cell_type": "code",
   "execution_count": 12,
   "id": "aa29fab1-2f79-4314-a2ea-67e5a2f09b93",
   "metadata": {},
   "outputs": [
    {
     "data": {
      "text/html": [
       "<div>\n",
       "<style scoped>\n",
       "    .dataframe tbody tr th:only-of-type {\n",
       "        vertical-align: middle;\n",
       "    }\n",
       "\n",
       "    .dataframe tbody tr th {\n",
       "        vertical-align: top;\n",
       "    }\n",
       "\n",
       "    .dataframe thead th {\n",
       "        text-align: right;\n",
       "    }\n",
       "</style>\n",
       "<table border=\"1\" class=\"dataframe\">\n",
       "  <thead>\n",
       "    <tr style=\"text-align: right;\">\n",
       "      <th></th>\n",
       "      <th>TE name</th>\n",
       "      <th>baseMean</th>\n",
       "      <th>log2FoldChange</th>\n",
       "      <th>lfcSE</th>\n",
       "      <th>stat</th>\n",
       "      <th>pvalue</th>\n",
       "      <th>padj</th>\n",
       "    </tr>\n",
       "  </thead>\n",
       "  <tbody>\n",
       "    <tr>\n",
       "      <th>0</th>\n",
       "      <td>L2</td>\n",
       "      <td>0.097405</td>\n",
       "      <td>0.197787</td>\n",
       "      <td>1.457064</td>\n",
       "      <td>0.135744</td>\n",
       "      <td>0.892024</td>\n",
       "      <td>0.999991</td>\n",
       "    </tr>\n",
       "    <tr>\n",
       "      <th>1</th>\n",
       "      <td>AluSg</td>\n",
       "      <td>0.493240</td>\n",
       "      <td>1.038439</td>\n",
       "      <td>0.909837</td>\n",
       "      <td>1.141346</td>\n",
       "      <td>0.253726</td>\n",
       "      <td>0.999991</td>\n",
       "    </tr>\n",
       "    <tr>\n",
       "      <th>2</th>\n",
       "      <td>L1PA8A</td>\n",
       "      <td>1.504698</td>\n",
       "      <td>-0.263127</td>\n",
       "      <td>0.834217</td>\n",
       "      <td>-0.315418</td>\n",
       "      <td>0.752444</td>\n",
       "      <td>0.999991</td>\n",
       "    </tr>\n",
       "    <tr>\n",
       "      <th>3</th>\n",
       "      <td>L1MDb</td>\n",
       "      <td>0.179092</td>\n",
       "      <td>0.166453</td>\n",
       "      <td>1.381934</td>\n",
       "      <td>0.120449</td>\n",
       "      <td>0.904127</td>\n",
       "      <td>0.999991</td>\n",
       "    </tr>\n",
       "    <tr>\n",
       "      <th>4</th>\n",
       "      <td>AluSp</td>\n",
       "      <td>0.033562</td>\n",
       "      <td>0.514654</td>\n",
       "      <td>3.312685</td>\n",
       "      <td>0.155358</td>\n",
       "      <td>0.876539</td>\n",
       "      <td>0.999991</td>\n",
       "    </tr>\n",
       "  </tbody>\n",
       "</table>\n",
       "</div>"
      ],
      "text/plain": [
       "  TE name  baseMean  log2FoldChange     lfcSE      stat    pvalue      padj\n",
       "0      L2  0.097405        0.197787  1.457064  0.135744  0.892024  0.999991\n",
       "1   AluSg  0.493240        1.038439  0.909837  1.141346  0.253726  0.999991\n",
       "2  L1PA8A  1.504698       -0.263127  0.834217 -0.315418  0.752444  0.999991\n",
       "3   L1MDb  0.179092        0.166453  1.381934  0.120449  0.904127  0.999991\n",
       "4   AluSp  0.033562        0.514654  3.312685  0.155358  0.876539  0.999991"
      ]
     },
     "execution_count": 12,
     "metadata": {},
     "output_type": "execute_result"
    }
   ],
   "source": [
    "indiv_dTE.head()"
   ]
  },
  {
   "cell_type": "code",
   "execution_count": 13,
   "id": "e2ba6d54-414e-42a1-bed5-b7c5d4a2f11f",
   "metadata": {},
   "outputs": [],
   "source": [
    "indiv_dTE_sig = indiv_dTE[indiv_dTE['padj'] < 0.05 ]"
   ]
  },
  {
   "cell_type": "markdown",
   "id": "87e0a583-e050-422b-b466-01b3f9488b6a",
   "metadata": {},
   "source": [
    "### extract genome location information for the dTEs"
   ]
  },
  {
   "cell_type": "code",
   "execution_count": null,
   "id": "91172c0b-3a32-4781-b5a4-d92c49c22acf",
   "metadata": {},
   "outputs": [],
   "source": []
  },
  {
   "cell_type": "code",
   "execution_count": 17,
   "id": "8b5490aa-325c-4cf9-9d54-cac7b709049d",
   "metadata": {},
   "outputs": [
    {
     "data": {
      "text/plain": [
       "(189, 7)"
      ]
     },
     "execution_count": 17,
     "metadata": {},
     "output_type": "execute_result"
    }
   ],
   "source": [
    "indiv_dTE_sig.shape"
   ]
  },
  {
   "cell_type": "code",
   "execution_count": 18,
   "id": "6bc81b62-c2a5-4ec8-8773-fd9485abe835",
   "metadata": {},
   "outputs": [],
   "source": [
    "rmsk_df_selected = rmsk_df[ np.isin( rmsk_df['gene_id'] ,indiv_dTE_sig['TE name']) ]"
   ]
  },
  {
   "cell_type": "code",
   "execution_count": 19,
   "id": "ebd030ff-40e0-4abb-b0b7-3e5667e6730d",
   "metadata": {},
   "outputs": [
    {
     "data": {
      "text/plain": [
       "(189, 9)"
      ]
     },
     "execution_count": 19,
     "metadata": {},
     "output_type": "execute_result"
    }
   ],
   "source": [
    "rmsk_df_selected.shape"
   ]
  },
  {
   "cell_type": "code",
   "execution_count": 20,
   "id": "203b08ad-de8d-4f50-8bb1-c9ae2451397a",
   "metadata": {},
   "outputs": [],
   "source": [
    "import gc"
   ]
  },
  {
   "cell_type": "code",
   "execution_count": 21,
   "id": "96df4bb8-6197-4359-b38a-1e0eb6a62377",
   "metadata": {},
   "outputs": [
    {
     "data": {
      "text/plain": [
       "1402"
      ]
     },
     "execution_count": 21,
     "metadata": {},
     "output_type": "execute_result"
    }
   ],
   "source": [
    "gc.collect()"
   ]
  },
  {
   "cell_type": "code",
   "execution_count": 22,
   "id": "36cc19ce-0868-4018-98d2-4f045bbe3751",
   "metadata": {},
   "outputs": [],
   "source": [
    "genoLoc_ls = [ list( rmsk_df_selected.loc[i, ['genoName', 'genoStart', 'genoEnd', 'strand']])  for i in rmsk_df_selected.index ]"
   ]
  },
  {
   "cell_type": "code",
   "execution_count": 23,
   "id": "90f20753-f37e-4067-a6b2-38d7906763b3",
   "metadata": {},
   "outputs": [
    {
     "data": {
      "text/plain": [
       "['chr1', 21875471, 21875616, '-']"
      ]
     },
     "execution_count": 23,
     "metadata": {},
     "output_type": "execute_result"
    }
   ],
   "source": [
    "genoLoc_ls[0]"
   ]
  },
  {
   "cell_type": "code",
   "execution_count": 24,
   "id": "0766a6d0-d669-48c8-bd1e-95791cefdabc",
   "metadata": {},
   "outputs": [],
   "source": [
    "genoLoc_dict = dict( zip( rmsk_df_selected['gene_id'] , genoLoc_ls ))"
   ]
  },
  {
   "cell_type": "code",
   "execution_count": 25,
   "id": "db1e9183-db55-4cad-bfad-b09bd59ea7c2",
   "metadata": {},
   "outputs": [],
   "source": [
    "geno_loc_df = pd.DataFrame( index = indiv_dTE_sig.index, columns=['genoName', 'genoStart', 'genoEnd', 'strand'] )"
   ]
  },
  {
   "cell_type": "code",
   "execution_count": 26,
   "id": "c16990e8-3a42-4f38-aba3-71ddf9d36f5c",
   "metadata": {},
   "outputs": [
    {
     "data": {
      "text/plain": [
       "(189, 9)"
      ]
     },
     "execution_count": 26,
     "metadata": {},
     "output_type": "execute_result"
    }
   ],
   "source": [
    "rmsk_df_selected.shape"
   ]
  },
  {
   "cell_type": "code",
   "execution_count": 81,
   "id": "241d7ccf-8af9-4ca8-bb1a-8464b4312cc8",
   "metadata": {},
   "outputs": [
    {
     "data": {
      "text/plain": [
       "(189, 7)"
      ]
     },
     "execution_count": 81,
     "metadata": {},
     "output_type": "execute_result"
    }
   ],
   "source": [
    "indiv_dTE_sig.shape"
   ]
  },
  {
   "cell_type": "code",
   "execution_count": 27,
   "id": "8ac5c222-7113-4141-9017-0959aa4b77e3",
   "metadata": {},
   "outputs": [],
   "source": [
    "for i in indiv_dTE_sig.index:\n",
    "    k = indiv_dTE_sig.loc[i, 'TE name' ]\n",
    "    geno_loc_df.loc[i] = genoLoc_dict[k]\n",
    "    "
   ]
  },
  {
   "cell_type": "code",
   "execution_count": 28,
   "id": "5c7500dc-d6e7-4ae1-860e-6edc065986a8",
   "metadata": {},
   "outputs": [],
   "source": [
    "indiv_dTE_sig = indiv_dTE_sig.merge( geno_loc_df, left_index=True, right_index=True)"
   ]
  },
  {
   "cell_type": "code",
   "execution_count": 29,
   "id": "ebaa16d7-cb75-4daf-a399-0490076a1ca2",
   "metadata": {},
   "outputs": [
    {
     "data": {
      "text/html": [
       "<div>\n",
       "<style scoped>\n",
       "    .dataframe tbody tr th:only-of-type {\n",
       "        vertical-align: middle;\n",
       "    }\n",
       "\n",
       "    .dataframe tbody tr th {\n",
       "        vertical-align: top;\n",
       "    }\n",
       "\n",
       "    .dataframe thead th {\n",
       "        text-align: right;\n",
       "    }\n",
       "</style>\n",
       "<table border=\"1\" class=\"dataframe\">\n",
       "  <thead>\n",
       "    <tr style=\"text-align: right;\">\n",
       "      <th></th>\n",
       "      <th>TE name</th>\n",
       "      <th>baseMean</th>\n",
       "      <th>log2FoldChange</th>\n",
       "      <th>lfcSE</th>\n",
       "      <th>stat</th>\n",
       "      <th>pvalue</th>\n",
       "      <th>padj</th>\n",
       "      <th>genoName</th>\n",
       "      <th>genoStart</th>\n",
       "      <th>genoEnd</th>\n",
       "      <th>strand</th>\n",
       "    </tr>\n",
       "  </thead>\n",
       "  <tbody>\n",
       "    <tr>\n",
       "      <th>2361</th>\n",
       "      <td>MIRb_2591</td>\n",
       "      <td>21.977249</td>\n",
       "      <td>2.001854</td>\n",
       "      <td>0.495015</td>\n",
       "      <td>4.044027</td>\n",
       "      <td>0.000053</td>\n",
       "      <td>0.008073</td>\n",
       "      <td>chr1</td>\n",
       "      <td>21875471</td>\n",
       "      <td>21875616</td>\n",
       "      <td>-</td>\n",
       "    </tr>\n",
       "    <tr>\n",
       "      <th>2983</th>\n",
       "      <td>MIRb_3645</td>\n",
       "      <td>10.310570</td>\n",
       "      <td>2.238395</td>\n",
       "      <td>0.535974</td>\n",
       "      <td>4.176310</td>\n",
       "      <td>0.000030</td>\n",
       "      <td>0.005203</td>\n",
       "      <td>chr1</td>\n",
       "      <td>26188068</td>\n",
       "      <td>26188211</td>\n",
       "      <td>+</td>\n",
       "    </tr>\n",
       "    <tr>\n",
       "      <th>2992</th>\n",
       "      <td>LTR10A_6</td>\n",
       "      <td>7.215176</td>\n",
       "      <td>4.566861</td>\n",
       "      <td>1.173587</td>\n",
       "      <td>3.891371</td>\n",
       "      <td>0.000100</td>\n",
       "      <td>0.013165</td>\n",
       "      <td>chr1</td>\n",
       "      <td>26268832</td>\n",
       "      <td>26269405</td>\n",
       "      <td>+</td>\n",
       "    </tr>\n",
       "    <tr>\n",
       "      <th>3068</th>\n",
       "      <td>MIR_2537</td>\n",
       "      <td>1.101041</td>\n",
       "      <td>3.860287</td>\n",
       "      <td>1.037415</td>\n",
       "      <td>3.721063</td>\n",
       "      <td>0.000198</td>\n",
       "      <td>0.022386</td>\n",
       "      <td>chr1</td>\n",
       "      <td>26554369</td>\n",
       "      <td>26554498</td>\n",
       "      <td>+</td>\n",
       "    </tr>\n",
       "    <tr>\n",
       "      <th>3286</th>\n",
       "      <td>AluSp_907</td>\n",
       "      <td>2.735933</td>\n",
       "      <td>3.134858</td>\n",
       "      <td>0.762647</td>\n",
       "      <td>4.110499</td>\n",
       "      <td>0.000039</td>\n",
       "      <td>0.006472</td>\n",
       "      <td>chr1</td>\n",
       "      <td>27730174</td>\n",
       "      <td>27730485</td>\n",
       "      <td>-</td>\n",
       "    </tr>\n",
       "  </tbody>\n",
       "</table>\n",
       "</div>"
      ],
      "text/plain": [
       "        TE name   baseMean  log2FoldChange     lfcSE      stat    pvalue   \n",
       "2361  MIRb_2591  21.977249        2.001854  0.495015  4.044027  0.000053  \\\n",
       "2983  MIRb_3645  10.310570        2.238395  0.535974  4.176310  0.000030   \n",
       "2992   LTR10A_6   7.215176        4.566861  1.173587  3.891371  0.000100   \n",
       "3068   MIR_2537   1.101041        3.860287  1.037415  3.721063  0.000198   \n",
       "3286  AluSp_907   2.735933        3.134858  0.762647  4.110499  0.000039   \n",
       "\n",
       "          padj genoName genoStart   genoEnd strand  \n",
       "2361  0.008073     chr1  21875471  21875616      -  \n",
       "2983  0.005203     chr1  26188068  26188211      +  \n",
       "2992  0.013165     chr1  26268832  26269405      +  \n",
       "3068  0.022386     chr1  26554369  26554498      +  \n",
       "3286  0.006472     chr1  27730174  27730485      -  "
      ]
     },
     "execution_count": 29,
     "metadata": {},
     "output_type": "execute_result"
    }
   ],
   "source": [
    "indiv_dTE_sig.head()"
   ]
  },
  {
   "cell_type": "code",
   "execution_count": null,
   "id": "d71a9e7c-4b02-4cbf-9062-878361ac9daa",
   "metadata": {},
   "outputs": [],
   "source": []
  },
  {
   "cell_type": "markdown",
   "id": "f664c39f-aa5c-4e50-a9ad-c21f4c630c2a",
   "metadata": {},
   "source": [
    "### extract up and down regulated TEs"
   ]
  },
  {
   "cell_type": "code",
   "execution_count": 64,
   "id": "47ffd7cd-6577-4bff-bf54-f4ede72d28ae",
   "metadata": {},
   "outputs": [
    {
     "name": "stdout",
     "output_type": "stream",
     "text": [
      "(172873, 7)\n",
      "(189, 7)\n"
     ]
    }
   ],
   "source": [
    "print( indiv_dTE.shape)\n",
    "print( indiv_dTE_sig.shape)"
   ]
  },
  {
   "cell_type": "code",
   "execution_count": 88,
   "id": "e9f5c23f-d251-4db5-a0c5-23c10fd43b22",
   "metadata": {},
   "outputs": [
    {
     "name": "stdout",
     "output_type": "stream",
     "text": [
      "(133, 11)\n",
      "(9, 11)\n"
     ]
    }
   ],
   "source": [
    "ser_up = indiv_dTE_sig[ indiv_dTE_sig['log2FoldChange'] > 2 ] \n",
    "ad_up = indiv_dTE_sig[ indiv_dTE_sig['log2FoldChange'] < -2  ] \n",
    "\n",
    "print( ser_up.shape)\n",
    "print( ad_up.shape)"
   ]
  },
  {
   "cell_type": "code",
   "execution_count": 91,
   "id": "cf871be1-8a23-4e02-aade-b467baf0baa5",
   "metadata": {
    "collapsed": true,
    "jupyter": {
     "outputs_hidden": true
    }
   },
   "outputs": [
    {
     "name": "stderr",
     "output_type": "stream",
     "text": [
      "/tmp/ipykernel_184823/774895865.py:1: SettingWithCopyWarning: \n",
      "A value is trying to be set on a copy of a slice from a DataFrame\n",
      "\n",
      "See the caveats in the documentation: https://pandas.pydata.org/pandas-docs/stable/user_guide/indexing.html#returning-a-view-versus-a-copy\n",
      "  ser_up.sort_values( by = 'log2FoldChange', ascending= False, inplace= True )\n",
      "/tmp/ipykernel_184823/774895865.py:2: SettingWithCopyWarning: \n",
      "A value is trying to be set on a copy of a slice from a DataFrame\n",
      "\n",
      "See the caveats in the documentation: https://pandas.pydata.org/pandas-docs/stable/user_guide/indexing.html#returning-a-view-versus-a-copy\n",
      "  ad_up.sort_values( by = 'log2FoldChange', ascending= True, inplace= True )\n"
     ]
    }
   ],
   "source": [
    "ser_up.sort_values( by = 'log2FoldChange', ascending= False, inplace= True )\n",
    "ad_up.sort_values( by = 'log2FoldChange', ascending= True, inplace= True )"
   ]
  },
  {
   "cell_type": "code",
   "execution_count": 92,
   "id": "f8414bda-61f8-4b02-84a9-f29a01077cb8",
   "metadata": {},
   "outputs": [
    {
     "data": {
      "text/html": [
       "<div>\n",
       "<style scoped>\n",
       "    .dataframe tbody tr th:only-of-type {\n",
       "        vertical-align: middle;\n",
       "    }\n",
       "\n",
       "    .dataframe tbody tr th {\n",
       "        vertical-align: top;\n",
       "    }\n",
       "\n",
       "    .dataframe thead th {\n",
       "        text-align: right;\n",
       "    }\n",
       "</style>\n",
       "<table border=\"1\" class=\"dataframe\">\n",
       "  <thead>\n",
       "    <tr style=\"text-align: right;\">\n",
       "      <th></th>\n",
       "      <th>TE name</th>\n",
       "      <th>baseMean</th>\n",
       "      <th>log2FoldChange</th>\n",
       "      <th>lfcSE</th>\n",
       "      <th>stat</th>\n",
       "      <th>pvalue</th>\n",
       "      <th>padj</th>\n",
       "      <th>genoName</th>\n",
       "      <th>genoStart</th>\n",
       "      <th>genoEnd</th>\n",
       "      <th>strand</th>\n",
       "    </tr>\n",
       "  </thead>\n",
       "  <tbody>\n",
       "    <tr>\n",
       "      <th>83529</th>\n",
       "      <td>L2a_91495</td>\n",
       "      <td>1.966883</td>\n",
       "      <td>5.273339</td>\n",
       "      <td>1.484466</td>\n",
       "      <td>3.552346</td>\n",
       "      <td>3.818120e-04</td>\n",
       "      <td>0.036724</td>\n",
       "      <td>chr9</td>\n",
       "      <td>68735690</td>\n",
       "      <td>68736273</td>\n",
       "      <td>-</td>\n",
       "    </tr>\n",
       "    <tr>\n",
       "      <th>64392</th>\n",
       "      <td>AluJb_45906</td>\n",
       "      <td>1.583823</td>\n",
       "      <td>5.024861</td>\n",
       "      <td>1.279641</td>\n",
       "      <td>3.926772</td>\n",
       "      <td>8.610000e-05</td>\n",
       "      <td>0.011711</td>\n",
       "      <td>chr6</td>\n",
       "      <td>152722736</td>\n",
       "      <td>152723016</td>\n",
       "      <td>-</td>\n",
       "    </tr>\n",
       "    <tr>\n",
       "      <th>70722</th>\n",
       "      <td>L1ME3G_7149</td>\n",
       "      <td>3.446495</td>\n",
       "      <td>4.905536</td>\n",
       "      <td>0.814057</td>\n",
       "      <td>6.026035</td>\n",
       "      <td>1.680000e-09</td>\n",
       "      <td>0.000002</td>\n",
       "      <td>chr7</td>\n",
       "      <td>99081123</td>\n",
       "      <td>99081223</td>\n",
       "      <td>+</td>\n",
       "    </tr>\n",
       "    <tr>\n",
       "      <th>61586</th>\n",
       "      <td>LTR10A_115</td>\n",
       "      <td>6.645893</td>\n",
       "      <td>4.811246</td>\n",
       "      <td>1.268065</td>\n",
       "      <td>3.794162</td>\n",
       "      <td>1.481430e-04</td>\n",
       "      <td>0.017776</td>\n",
       "      <td>chr6</td>\n",
       "      <td>87213284</td>\n",
       "      <td>87213856</td>\n",
       "      <td>-</td>\n",
       "    </tr>\n",
       "    <tr>\n",
       "      <th>6582</th>\n",
       "      <td>L2b_3755</td>\n",
       "      <td>2.860923</td>\n",
       "      <td>4.731285</td>\n",
       "      <td>1.057905</td>\n",
       "      <td>4.472316</td>\n",
       "      <td>7.740000e-06</td>\n",
       "      <td>0.001795</td>\n",
       "      <td>chr1</td>\n",
       "      <td>54992141</td>\n",
       "      <td>54992205</td>\n",
       "      <td>+</td>\n",
       "    </tr>\n",
       "  </tbody>\n",
       "</table>\n",
       "</div>"
      ],
      "text/plain": [
       "           TE name  baseMean  log2FoldChange     lfcSE      stat   \n",
       "83529    L2a_91495  1.966883        5.273339  1.484466  3.552346  \\\n",
       "64392  AluJb_45906  1.583823        5.024861  1.279641  3.926772   \n",
       "70722  L1ME3G_7149  3.446495        4.905536  0.814057  6.026035   \n",
       "61586   LTR10A_115  6.645893        4.811246  1.268065  3.794162   \n",
       "6582      L2b_3755  2.860923        4.731285  1.057905  4.472316   \n",
       "\n",
       "             pvalue      padj genoName  genoStart    genoEnd strand  \n",
       "83529  3.818120e-04  0.036724     chr9   68735690   68736273      -  \n",
       "64392  8.610000e-05  0.011711     chr6  152722736  152723016      -  \n",
       "70722  1.680000e-09  0.000002     chr7   99081123   99081223      +  \n",
       "61586  1.481430e-04  0.017776     chr6   87213284   87213856      -  \n",
       "6582   7.740000e-06  0.001795     chr1   54992141   54992205      +  "
      ]
     },
     "execution_count": 92,
     "metadata": {},
     "output_type": "execute_result"
    }
   ],
   "source": [
    "ser_up.head()"
   ]
  },
  {
   "cell_type": "code",
   "execution_count": 93,
   "id": "100c85b7-abe1-429e-8137-c94420b18dc3",
   "metadata": {
    "collapsed": true,
    "jupyter": {
     "outputs_hidden": true
    }
   },
   "outputs": [
    {
     "data": {
      "text/html": [
       "<div>\n",
       "<style scoped>\n",
       "    .dataframe tbody tr th:only-of-type {\n",
       "        vertical-align: middle;\n",
       "    }\n",
       "\n",
       "    .dataframe tbody tr th {\n",
       "        vertical-align: top;\n",
       "    }\n",
       "\n",
       "    .dataframe thead th {\n",
       "        text-align: right;\n",
       "    }\n",
       "</style>\n",
       "<table border=\"1\" class=\"dataframe\">\n",
       "  <thead>\n",
       "    <tr style=\"text-align: right;\">\n",
       "      <th></th>\n",
       "      <th>TE name</th>\n",
       "      <th>baseMean</th>\n",
       "      <th>log2FoldChange</th>\n",
       "      <th>lfcSE</th>\n",
       "      <th>stat</th>\n",
       "      <th>pvalue</th>\n",
       "      <th>padj</th>\n",
       "      <th>genoName</th>\n",
       "      <th>genoStart</th>\n",
       "      <th>genoEnd</th>\n",
       "      <th>strand</th>\n",
       "    </tr>\n",
       "  </thead>\n",
       "  <tbody>\n",
       "    <tr>\n",
       "      <th>108880</th>\n",
       "      <td>L2c_97668</td>\n",
       "      <td>10.632930</td>\n",
       "      <td>-3.965963</td>\n",
       "      <td>1.073278</td>\n",
       "      <td>-3.695186</td>\n",
       "      <td>0.000220</td>\n",
       "      <td>0.024233</td>\n",
       "      <td>chr11</td>\n",
       "      <td>102520550</td>\n",
       "      <td>102520704</td>\n",
       "      <td>-</td>\n",
       "    </tr>\n",
       "    <tr>\n",
       "      <th>139569</th>\n",
       "      <td>L2b_80878</td>\n",
       "      <td>8.499507</td>\n",
       "      <td>-3.556407</td>\n",
       "      <td>0.986942</td>\n",
       "      <td>-3.603462</td>\n",
       "      <td>0.000314</td>\n",
       "      <td>0.031881</td>\n",
       "      <td>chr16</td>\n",
       "      <td>50612862</td>\n",
       "      <td>50613288</td>\n",
       "      <td>-</td>\n",
       "    </tr>\n",
       "    <tr>\n",
       "      <th>142728</th>\n",
       "      <td>AluJo_63739</td>\n",
       "      <td>6.856328</td>\n",
       "      <td>-3.441202</td>\n",
       "      <td>0.975172</td>\n",
       "      <td>-3.528816</td>\n",
       "      <td>0.000417</td>\n",
       "      <td>0.039317</td>\n",
       "      <td>chr16</td>\n",
       "      <td>89762643</td>\n",
       "      <td>89762805</td>\n",
       "      <td>-</td>\n",
       "    </tr>\n",
       "    <tr>\n",
       "      <th>150077</th>\n",
       "      <td>MSTB1_4089</td>\n",
       "      <td>23.010690</td>\n",
       "      <td>-2.940496</td>\n",
       "      <td>0.780072</td>\n",
       "      <td>-3.769518</td>\n",
       "      <td>0.000164</td>\n",
       "      <td>0.019275</td>\n",
       "      <td>chr17</td>\n",
       "      <td>65541178</td>\n",
       "      <td>65541243</td>\n",
       "      <td>+</td>\n",
       "    </tr>\n",
       "    <tr>\n",
       "      <th>10902</th>\n",
       "      <td>AluSz_5511</td>\n",
       "      <td>35.757835</td>\n",
       "      <td>-2.470471</td>\n",
       "      <td>0.587304</td>\n",
       "      <td>-4.206457</td>\n",
       "      <td>0.000026</td>\n",
       "      <td>0.004672</td>\n",
       "      <td>chr1</td>\n",
       "      <td>151367072</td>\n",
       "      <td>151367403</td>\n",
       "      <td>+</td>\n",
       "    </tr>\n",
       "  </tbody>\n",
       "</table>\n",
       "</div>"
      ],
      "text/plain": [
       "            TE name   baseMean  log2FoldChange     lfcSE      stat    pvalue   \n",
       "108880    L2c_97668  10.632930       -3.965963  1.073278 -3.695186  0.000220  \\\n",
       "139569    L2b_80878   8.499507       -3.556407  0.986942 -3.603462  0.000314   \n",
       "142728  AluJo_63739   6.856328       -3.441202  0.975172 -3.528816  0.000417   \n",
       "150077   MSTB1_4089  23.010690       -2.940496  0.780072 -3.769518  0.000164   \n",
       "10902    AluSz_5511  35.757835       -2.470471  0.587304 -4.206457  0.000026   \n",
       "\n",
       "            padj genoName  genoStart    genoEnd strand  \n",
       "108880  0.024233    chr11  102520550  102520704      -  \n",
       "139569  0.031881    chr16   50612862   50613288      -  \n",
       "142728  0.039317    chr16   89762643   89762805      -  \n",
       "150077  0.019275    chr17   65541178   65541243      +  \n",
       "10902   0.004672     chr1  151367072  151367403      +  "
      ]
     },
     "execution_count": 93,
     "metadata": {},
     "output_type": "execute_result"
    }
   ],
   "source": [
    "ad_up.head()"
   ]
  },
  {
   "cell_type": "code",
   "execution_count": null,
   "id": "0afb142e-bd10-46d9-af91-f14b8a0fb3c6",
   "metadata": {},
   "outputs": [],
   "source": []
  },
  {
   "cell_type": "markdown",
   "id": "8859da1b-286b-4a15-ba73-2a5ee196a459",
   "metadata": {},
   "source": [
    "### save the top dTE fasta\n",
    "- ad-up ( all is 9 )\n",
    "- ser-up top 10, 20, 50, last 50"
   ]
  },
  {
   "cell_type": "code",
   "execution_count": 96,
   "id": "e6285bc9-0106-432b-ade0-ccbd00bef98f",
   "metadata": {},
   "outputs": [
    {
     "data": {
      "text/plain": [
       "Index(['TE name', 'baseMean', 'log2FoldChange', 'lfcSE', 'stat', 'pvalue',\n",
       "       'padj', 'genoName', 'genoStart', 'genoEnd', 'strand'],\n",
       "      dtype='object')"
      ]
     },
     "execution_count": 96,
     "metadata": {},
     "output_type": "execute_result"
    }
   ],
   "source": [
    "ad_up.columns"
   ]
  },
  {
   "cell_type": "code",
   "execution_count": 97,
   "id": "27ecf9ce-3839-4ce2-8991-8ab8551473d7",
   "metadata": {},
   "outputs": [],
   "source": [
    "region_df_cols = ['genoName', 'genoStart', 'genoEnd', 'strand', 'TE name' ]"
   ]
  },
  {
   "cell_type": "code",
   "execution_count": 94,
   "id": "01cd62c2-49c4-4d7f-b68a-d179a1b9d30f",
   "metadata": {},
   "outputs": [],
   "source": [
    "hg38_ref_path = '/home/lucy/Dropbox/human_ref_genome/hg38_grch38/hg38.fa'"
   ]
  },
  {
   "cell_type": "code",
   "execution_count": 99,
   "id": "7891a6ad-7d36-4f97-bb6d-5193b47f3baf",
   "metadata": {},
   "outputs": [
    {
     "name": "stdout",
     "output_type": "stream",
     "text": [
      "✅ Extracted sequences saved to: ./sequence_similarity_input/tcps_ad_up_all.fasta\n"
     ]
    }
   ],
   "source": [
    "seqComp.extract_ucsc_bedlike_regions( genome_fasta= hg38_ref_path,\n",
    "                                     regions_df= ad_up[region_df_cols ], \n",
    "                                     output_fasta='./sequence_similarity_input/' + 'tcps_ad_up_all.fasta') "
   ]
  },
  {
   "cell_type": "code",
   "execution_count": 119,
   "id": "ddedf830-24a5-4d23-824f-fc4014a345a3",
   "metadata": {},
   "outputs": [],
   "source": [
    "element_ranks = [ [0,10], [0,20], [0,50] , [-50, ser_up.shape[0]] ]\n",
    "save_file_names = [ f'tcps_ser_up_top{x}.fasta' for x in [10,20,50] ] + ['tcps_ser_up_last50.fasta']"
   ]
  },
  {
   "cell_type": "code",
   "execution_count": 114,
   "id": "f184ca52-05a1-41d3-9033-6071e645b875",
   "metadata": {},
   "outputs": [
    {
     "data": {
      "text/plain": [
       "[-50, 133]"
      ]
     },
     "execution_count": 114,
     "metadata": {},
     "output_type": "execute_result"
    }
   ],
   "source": [
    "element_ranks[-1]"
   ]
  },
  {
   "cell_type": "code",
   "execution_count": 120,
   "id": "b94b7193-85e3-4d61-9665-0e96e6a2fb59",
   "metadata": {},
   "outputs": [
    {
     "data": {
      "text/plain": [
       "['tcps_ser_up_top10.fasta',\n",
       " 'tcps_ser_up_top20.fasta',\n",
       " 'tcps_ser_up_top50.fasta',\n",
       " 'tcps_ser_up_last50.fasta']"
      ]
     },
     "execution_count": 120,
     "metadata": {},
     "output_type": "execute_result"
    }
   ],
   "source": [
    "save_file_names"
   ]
  },
  {
   "cell_type": "code",
   "execution_count": 118,
   "id": "0fcc31a8-3497-4ac4-9e94-d7606c43ac2a",
   "metadata": {},
   "outputs": [],
   "source": [
    "#ser_up.tail()"
   ]
  },
  {
   "cell_type": "code",
   "execution_count": 117,
   "id": "f632333d-85a6-44b5-b409-7ab3fdb6da13",
   "metadata": {
    "scrolled": true
   },
   "outputs": [],
   "source": [
    "#ser_up.iloc[ element_ranks[-1][0]:element_ranks[-1][1] ].tail()"
   ]
  },
  {
   "cell_type": "code",
   "execution_count": 121,
   "id": "d5126415-5e8f-46aa-9dfd-9bf1ef3a7402",
   "metadata": {},
   "outputs": [
    {
     "name": "stdout",
     "output_type": "stream",
     "text": [
      "✅ Extracted sequences saved to: ./sequence_similarity_input/tcps_ser_up_top10.fasta\n",
      "✅ Extracted sequences saved to: ./sequence_similarity_input/tcps_ser_up_top20.fasta\n",
      "✅ Extracted sequences saved to: ./sequence_similarity_input/tcps_ser_up_top50.fasta\n",
      "✅ Extracted sequences saved to: ./sequence_similarity_input/tcps_ser_up_last50.fasta\n"
     ]
    }
   ],
   "source": [
    "for i,e in enumerate( element_ranks):\n",
    "    seqComp.extract_ucsc_bedlike_regions( genome_fasta= hg38_ref_path,\n",
    "                                     regions_df= ser_up[region_df_cols ].iloc[e[0]: e[1]], \n",
    "                                     output_fasta='./sequence_similarity_input/' + save_file_names[i]) "
   ]
  },
  {
   "cell_type": "code",
   "execution_count": null,
   "id": "a9d70d49-0545-4aa3-afb6-906fbc00de27",
   "metadata": {},
   "outputs": [],
   "source": []
  },
  {
   "cell_type": "code",
   "execution_count": null,
   "id": "a0c29eb4-f797-499f-9e1e-461ad4ed1cb4",
   "metadata": {},
   "outputs": [],
   "source": []
  },
  {
   "cell_type": "code",
   "execution_count": null,
   "id": "69595b3b-0396-4f2e-aab7-6a17aff1e5d5",
   "metadata": {},
   "outputs": [],
   "source": []
  },
  {
   "cell_type": "markdown",
   "id": "86b96941-4c00-4e47-9dc0-bbe5849be659",
   "metadata": {},
   "source": [
    "## calculate similarity scores for the extracted fasta files"
   ]
  },
  {
   "cell_type": "code",
   "execution_count": 123,
   "id": "5b180f02-c963-4741-b9a1-e6f311e3d30a",
   "metadata": {},
   "outputs": [
    {
     "data": {
      "text/plain": [
       "25379"
      ]
     },
     "execution_count": 123,
     "metadata": {},
     "output_type": "execute_result"
    }
   ],
   "source": [
    "gc.collect()"
   ]
  },
  {
   "cell_type": "code",
   "execution_count": 125,
   "id": "583c24da-58e3-4d71-82e0-0942e7ad3635",
   "metadata": {},
   "outputs": [
    {
     "data": {
      "text/plain": [
       "6      tcps_ser_up_top10.fasta\n",
       "14        tcps_ad_up_all.fasta\n",
       "15    tcps_ser_up_last50.fasta\n",
       "20     tcps_ser_up_top20.fasta\n",
       "23     tcps_ser_up_top50.fasta\n",
       "dtype: object"
      ]
     },
     "execution_count": 125,
     "metadata": {},
     "output_type": "execute_result"
    }
   ],
   "source": [
    "fnames = pd.Series( os.listdir(\"./sequence_similarity_input/\") )\n",
    "fnames = fnames[ fnames.str.startswith('tcps') ]\n",
    "fnames"
   ]
  },
  {
   "cell_type": "code",
   "execution_count": 126,
   "id": "c52974a0-b636-4de0-b273-dc505fca2644",
   "metadata": {},
   "outputs": [],
   "source": [
    "input_dir = './sequence_similarity_input/'"
   ]
  },
  {
   "cell_type": "code",
   "execution_count": 128,
   "id": "73c4b6ad-0842-4c99-86c1-af89fc6847fe",
   "metadata": {},
   "outputs": [
    {
     "name": "stdout",
     "output_type": "stream",
     "text": [
      "Processing tcps_ser_up_top10.fasta\n",
      "Loaded 10 sequences from ./sequence_similarity_input/tcps_ser_up_top10.fasta\n",
      "Average identity: 37.02% ± 17.54%\n",
      "Time used: 0.0 min\n",
      "Processing tcps_ad_up_all.fasta\n",
      "Loaded 9 sequences from ./sequence_similarity_input/tcps_ad_up_all.fasta\n",
      "Average identity: 37.40% ± 14.68%\n",
      "Time used: 0.0 min\n",
      "Processing tcps_ser_up_last50.fasta\n",
      "Loaded 50 sequences from ./sequence_similarity_input/tcps_ser_up_last50.fasta\n",
      "Average identity: 34.32% ± 18.56%\n",
      "Time used: 0.1 min\n",
      "Processing tcps_ser_up_top20.fasta\n",
      "Loaded 20 sequences from ./sequence_similarity_input/tcps_ser_up_top20.fasta\n",
      "Average identity: 45.15% ± 19.30%\n",
      "Time used: 0.0 min\n",
      "Processing tcps_ser_up_top50.fasta\n",
      "Loaded 50 sequences from ./sequence_similarity_input/tcps_ser_up_top50.fasta\n",
      "Average identity: 41.47% ± 16.96%\n",
      "Time used: 0.1 min\n"
     ]
    }
   ],
   "source": [
    "for f in fnames:\n",
    "    print( f'Processing {f}')\n",
    "    TIME_S = time.time()\n",
    "    seqComp.process_group(input_dir + f, out_dir=\"sequence_similarity_results\", n_jobs=4,plot_heatmap=True )\n",
    "    TIME_E = time.time()\n",
    "    TOTAL_TIME = (TIME_E - TIME_S)/60\n",
    "    print( f\"Time used: {TOTAL_TIME:.1f} min\" )"
   ]
  },
  {
   "cell_type": "code",
   "execution_count": null,
   "id": "bd68ffa3-d86d-4dcf-91ce-22f719f53f56",
   "metadata": {},
   "outputs": [],
   "source": []
  },
  {
   "cell_type": "code",
   "execution_count": null,
   "id": "89e617d1-3013-41a7-a114-f2b5f36b7a3e",
   "metadata": {},
   "outputs": [],
   "source": []
  },
  {
   "cell_type": "markdown",
   "id": "a616ddb0-2a03-4b5b-9772-322d66cf351e",
   "metadata": {},
   "source": [
    "## view result"
   ]
  },
  {
   "cell_type": "code",
   "execution_count": null,
   "id": "b196ab94-cb18-44a0-859c-9121a1250827",
   "metadata": {},
   "outputs": [],
   "source": []
  },
  {
   "cell_type": "code",
   "execution_count": 8,
   "id": "67a0679e-fb0c-4fce-aa28-370f9f0d904d",
   "metadata": {},
   "outputs": [
    {
     "data": {
      "text/html": [
       "<div>\n",
       "<style scoped>\n",
       "    .dataframe tbody tr th:only-of-type {\n",
       "        vertical-align: middle;\n",
       "    }\n",
       "\n",
       "    .dataframe tbody tr th {\n",
       "        vertical-align: top;\n",
       "    }\n",
       "\n",
       "    .dataframe thead th {\n",
       "        text-align: right;\n",
       "    }\n",
       "</style>\n",
       "<table border=\"1\" class=\"dataframe\">\n",
       "  <thead>\n",
       "    <tr style=\"text-align: right;\">\n",
       "      <th></th>\n",
       "      <th>ID1</th>\n",
       "      <th>ID2</th>\n",
       "      <th>PercentIdentity</th>\n",
       "      <th>Alignment_str</th>\n",
       "    </tr>\n",
       "  </thead>\n",
       "  <tbody>\n",
       "    <tr>\n",
       "      <th>0</th>\n",
       "      <td>L2a_91495</td>\n",
       "      <td>AluJb_45906</td>\n",
       "      <td>40.480274</td>\n",
       "      <td>ctttttaactggtctttctacttctgcaacattca-gagtga--cc...</td>\n",
       "    </tr>\n",
       "    <tr>\n",
       "      <th>1</th>\n",
       "      <td>L2a_91495</td>\n",
       "      <td>L1ME3G_7149</td>\n",
       "      <td>17.152659</td>\n",
       "      <td>ctttttaactggtctttctacttctgcaacattcagagtgaccaga...</td>\n",
       "    </tr>\n",
       "    <tr>\n",
       "      <th>2</th>\n",
       "      <td>L2a_91495</td>\n",
       "      <td>LTR10A_115</td>\n",
       "      <td>64.837050</td>\n",
       "      <td>cttt-ttaac-tg---gt---c------tttctacttctgcaacat...</td>\n",
       "    </tr>\n",
       "    <tr>\n",
       "      <th>3</th>\n",
       "      <td>L2a_91495</td>\n",
       "      <td>L2b_3755</td>\n",
       "      <td>10.977702</td>\n",
       "      <td>ctttttaactggtctttctacttctgcaacattcagagtgaccaga...</td>\n",
       "    </tr>\n",
       "    <tr>\n",
       "      <th>4</th>\n",
       "      <td>L2a_91495</td>\n",
       "      <td>L2a_106449</td>\n",
       "      <td>13.722127</td>\n",
       "      <td>ctttttaactggtctttctacttctgcaacattcagagtgaccaga...</td>\n",
       "    </tr>\n",
       "  </tbody>\n",
       "</table>\n",
       "</div>"
      ],
      "text/plain": [
       "         ID1          ID2  PercentIdentity   \n",
       "0  L2a_91495  AluJb_45906        40.480274  \\\n",
       "1  L2a_91495  L1ME3G_7149        17.152659   \n",
       "2  L2a_91495   LTR10A_115        64.837050   \n",
       "3  L2a_91495     L2b_3755        10.977702   \n",
       "4  L2a_91495   L2a_106449        13.722127   \n",
       "\n",
       "                                       Alignment_str  \n",
       "0  ctttttaactggtctttctacttctgcaacattca-gagtga--cc...  \n",
       "1  ctttttaactggtctttctacttctgcaacattcagagtgaccaga...  \n",
       "2  cttt-ttaac-tg---gt---c------tttctacttctgcaacat...  \n",
       "3  ctttttaactggtctttctacttctgcaacattcagagtgaccaga...  \n",
       "4  ctttttaactggtctttctacttctgcaacattcagagtgaccaga...  "
      ]
     },
     "execution_count": 8,
     "metadata": {},
     "output_type": "execute_result"
    }
   ],
   "source": [
    "tcps_ser_up_top10_result = pd.read_csv(\"./sequence_similarity_results/tcps_ser_up_top10_pairwise_identity.csv\", header = 0 , index_col = None)\n",
    "tcps_ser_up_top10_result.head()"
   ]
  },
  {
   "cell_type": "code",
   "execution_count": 41,
   "id": "be446dbe-e038-4601-ac32-0226e6d83e6f",
   "metadata": {},
   "outputs": [
    {
     "data": {
      "text/html": [
       "<div>\n",
       "<style scoped>\n",
       "    .dataframe tbody tr th:only-of-type {\n",
       "        vertical-align: middle;\n",
       "    }\n",
       "\n",
       "    .dataframe tbody tr th {\n",
       "        vertical-align: top;\n",
       "    }\n",
       "\n",
       "    .dataframe thead th {\n",
       "        text-align: right;\n",
       "    }\n",
       "</style>\n",
       "<table border=\"1\" class=\"dataframe\">\n",
       "  <thead>\n",
       "    <tr style=\"text-align: right;\">\n",
       "      <th></th>\n",
       "      <th>TE name</th>\n",
       "      <th>baseMean</th>\n",
       "      <th>log2FoldChange</th>\n",
       "      <th>lfcSE</th>\n",
       "      <th>stat</th>\n",
       "      <th>pvalue</th>\n",
       "      <th>padj</th>\n",
       "      <th>genoName</th>\n",
       "      <th>genoStart</th>\n",
       "      <th>genoEnd</th>\n",
       "      <th>strand</th>\n",
       "    </tr>\n",
       "  </thead>\n",
       "  <tbody>\n",
       "    <tr>\n",
       "      <th>2361</th>\n",
       "      <td>MIRb_2591</td>\n",
       "      <td>21.977249</td>\n",
       "      <td>2.001854</td>\n",
       "      <td>0.495015</td>\n",
       "      <td>4.044027</td>\n",
       "      <td>0.000053</td>\n",
       "      <td>0.008073</td>\n",
       "      <td>chr1</td>\n",
       "      <td>21875471</td>\n",
       "      <td>21875616</td>\n",
       "      <td>-</td>\n",
       "    </tr>\n",
       "    <tr>\n",
       "      <th>2983</th>\n",
       "      <td>MIRb_3645</td>\n",
       "      <td>10.310570</td>\n",
       "      <td>2.238395</td>\n",
       "      <td>0.535974</td>\n",
       "      <td>4.176310</td>\n",
       "      <td>0.000030</td>\n",
       "      <td>0.005203</td>\n",
       "      <td>chr1</td>\n",
       "      <td>26188068</td>\n",
       "      <td>26188211</td>\n",
       "      <td>+</td>\n",
       "    </tr>\n",
       "    <tr>\n",
       "      <th>2992</th>\n",
       "      <td>LTR10A_6</td>\n",
       "      <td>7.215176</td>\n",
       "      <td>4.566861</td>\n",
       "      <td>1.173587</td>\n",
       "      <td>3.891371</td>\n",
       "      <td>0.000100</td>\n",
       "      <td>0.013165</td>\n",
       "      <td>chr1</td>\n",
       "      <td>26268832</td>\n",
       "      <td>26269405</td>\n",
       "      <td>+</td>\n",
       "    </tr>\n",
       "    <tr>\n",
       "      <th>3068</th>\n",
       "      <td>MIR_2537</td>\n",
       "      <td>1.101041</td>\n",
       "      <td>3.860287</td>\n",
       "      <td>1.037415</td>\n",
       "      <td>3.721063</td>\n",
       "      <td>0.000198</td>\n",
       "      <td>0.022386</td>\n",
       "      <td>chr1</td>\n",
       "      <td>26554369</td>\n",
       "      <td>26554498</td>\n",
       "      <td>+</td>\n",
       "    </tr>\n",
       "    <tr>\n",
       "      <th>3286</th>\n",
       "      <td>AluSp_907</td>\n",
       "      <td>2.735933</td>\n",
       "      <td>3.134858</td>\n",
       "      <td>0.762647</td>\n",
       "      <td>4.110499</td>\n",
       "      <td>0.000039</td>\n",
       "      <td>0.006472</td>\n",
       "      <td>chr1</td>\n",
       "      <td>27730174</td>\n",
       "      <td>27730485</td>\n",
       "      <td>-</td>\n",
       "    </tr>\n",
       "  </tbody>\n",
       "</table>\n",
       "</div>"
      ],
      "text/plain": [
       "        TE name   baseMean  log2FoldChange     lfcSE      stat    pvalue   \n",
       "2361  MIRb_2591  21.977249        2.001854  0.495015  4.044027  0.000053  \\\n",
       "2983  MIRb_3645  10.310570        2.238395  0.535974  4.176310  0.000030   \n",
       "2992   LTR10A_6   7.215176        4.566861  1.173587  3.891371  0.000100   \n",
       "3068   MIR_2537   1.101041        3.860287  1.037415  3.721063  0.000198   \n",
       "3286  AluSp_907   2.735933        3.134858  0.762647  4.110499  0.000039   \n",
       "\n",
       "          padj genoName genoStart   genoEnd strand  \n",
       "2361  0.008073     chr1  21875471  21875616      -  \n",
       "2983  0.005203     chr1  26188068  26188211      +  \n",
       "2992  0.013165     chr1  26268832  26269405      +  \n",
       "3068  0.022386     chr1  26554369  26554498      +  \n",
       "3286  0.006472     chr1  27730174  27730485      -  "
      ]
     },
     "execution_count": 41,
     "metadata": {},
     "output_type": "execute_result"
    }
   ],
   "source": [
    "indiv_dTE_sig.head()"
   ]
  },
  {
   "cell_type": "code",
   "execution_count": 42,
   "id": "b87c5af4-f9bf-4385-b126-aed46ca8e1a0",
   "metadata": {},
   "outputs": [],
   "source": [
    "indiv_dTE_sig2 = indiv_dTE_sig.set_index( 'TE name' ,inplace= False )"
   ]
  },
  {
   "cell_type": "code",
   "execution_count": 49,
   "id": "05f9cbd7-cec1-41e8-8fc6-c45ea4e8fa9c",
   "metadata": {},
   "outputs": [
    {
     "data": {
      "text/plain": [
       "baseMean          6.645893\n",
       "log2FoldChange    4.811246\n",
       "lfcSE             1.268065\n",
       "stat              3.794162\n",
       "pvalue            0.000148\n",
       "padj              0.017776\n",
       "genoName              chr6\n",
       "genoStart         87213284\n",
       "genoEnd           87213856\n",
       "strand                   -\n",
       "Name: LTR10A_115, dtype: object"
      ]
     },
     "execution_count": 49,
     "metadata": {},
     "output_type": "execute_result"
    }
   ],
   "source": [
    "indiv_dTE_sig2.loc['LTR10A_115']"
   ]
  },
  {
   "cell_type": "code",
   "execution_count": 50,
   "id": "7bf779da-9752-41c8-aefb-72d20145d65a",
   "metadata": {},
   "outputs": [
    {
     "data": {
      "text/plain": [
       "baseMean          7.215176\n",
       "log2FoldChange    4.566861\n",
       "lfcSE             1.173587\n",
       "stat              3.891371\n",
       "pvalue              0.0001\n",
       "padj              0.013165\n",
       "genoName              chr1\n",
       "genoStart         26268832\n",
       "genoEnd           26269405\n",
       "strand                   +\n",
       "Name: LTR10A_6, dtype: object"
      ]
     },
     "execution_count": 50,
     "metadata": {},
     "output_type": "execute_result"
    }
   ],
   "source": [
    "indiv_dTE_sig2.loc['LTR10A_6']"
   ]
  },
  {
   "cell_type": "code",
   "execution_count": null,
   "id": "34fd04fb-f1ba-460f-9279-c3af20a61235",
   "metadata": {},
   "outputs": [],
   "source": []
  },
  {
   "cell_type": "code",
   "execution_count": 43,
   "id": "c194d4a5-a8f7-42f9-b4aa-8524e2f36a73",
   "metadata": {},
   "outputs": [],
   "source": [
    "adjusted_top10_result = seqComp.add_seq_comparison_info( tcps_ser_up_top10_result, indiv_dTE_sig2, merged_result= True )"
   ]
  },
  {
   "cell_type": "code",
   "execution_count": 44,
   "id": "9c0823d2-aad1-4368-917a-6232adea2356",
   "metadata": {},
   "outputs": [],
   "source": [
    "adjusted_top10_result.sort_values( by = 'adj_percentIdentity', ascending= False , inplace=True)"
   ]
  },
  {
   "cell_type": "code",
   "execution_count": 45,
   "id": "1c0a6c66-ae0a-4e3d-8132-010742ad486e",
   "metadata": {},
   "outputs": [
    {
     "data": {
      "text/html": [
       "<div>\n",
       "<style scoped>\n",
       "    .dataframe tbody tr th:only-of-type {\n",
       "        vertical-align: middle;\n",
       "    }\n",
       "\n",
       "    .dataframe tbody tr th {\n",
       "        vertical-align: top;\n",
       "    }\n",
       "\n",
       "    .dataframe thead th {\n",
       "        text-align: right;\n",
       "    }\n",
       "</style>\n",
       "<table border=\"1\" class=\"dataframe\">\n",
       "  <thead>\n",
       "    <tr style=\"text-align: right;\">\n",
       "      <th></th>\n",
       "      <th>ID1</th>\n",
       "      <th>ID2</th>\n",
       "      <th>PercentIdentity</th>\n",
       "      <th>Alignment_str</th>\n",
       "      <th>seq1_len</th>\n",
       "      <th>seq2_len</th>\n",
       "      <th>total_match</th>\n",
       "      <th>adj_percentIdentity</th>\n",
       "    </tr>\n",
       "  </thead>\n",
       "  <tbody>\n",
       "    <tr>\n",
       "      <th>26</th>\n",
       "      <td>LTR10A_115</td>\n",
       "      <td>LTR10A_6</td>\n",
       "      <td>88.481675</td>\n",
       "      <td>tgttaaatatagtgaaccccaagtttctcttcaaagaatcagtatg...</td>\n",
       "      <td>572</td>\n",
       "      <td>573</td>\n",
       "      <td>507</td>\n",
       "      <td>88.558952</td>\n",
       "    </tr>\n",
       "    <tr>\n",
       "      <th>14</th>\n",
       "      <td>AluJb_45906</td>\n",
       "      <td>AluJo_14923</td>\n",
       "      <td>72.569444</td>\n",
       "      <td>t----a--a---t---tc-ca---g----c--a-c--tttgg-gag...</td>\n",
       "      <td>280</td>\n",
       "      <td>288</td>\n",
       "      <td>209</td>\n",
       "      <td>73.591549</td>\n",
       "    </tr>\n",
       "    <tr>\n",
       "      <th>2</th>\n",
       "      <td>L2a_91495</td>\n",
       "      <td>LTR10A_115</td>\n",
       "      <td>64.837050</td>\n",
       "      <td>cttt-ttaac-tg---gt---c------tttctacttctgcaacat...</td>\n",
       "      <td>583</td>\n",
       "      <td>572</td>\n",
       "      <td>378</td>\n",
       "      <td>65.454545</td>\n",
       "    </tr>\n",
       "    <tr>\n",
       "      <th>5</th>\n",
       "      <td>L2a_91495</td>\n",
       "      <td>LTR10A_6</td>\n",
       "      <td>64.665523</td>\n",
       "      <td>cttt-ttaactg-gt---c------tttctacttctgcaacat---...</td>\n",
       "      <td>583</td>\n",
       "      <td>573</td>\n",
       "      <td>377</td>\n",
       "      <td>65.224913</td>\n",
       "    </tr>\n",
       "    <tr>\n",
       "      <th>30</th>\n",
       "      <td>L2b_3755</td>\n",
       "      <td>L2a_106449</td>\n",
       "      <td>57.500000</td>\n",
       "      <td>--c---gtgcc-t-tctccag-agt-ct-tatgca-gt-g--cctg...</td>\n",
       "      <td>64</td>\n",
       "      <td>80</td>\n",
       "      <td>46</td>\n",
       "      <td>63.888889</td>\n",
       "    </tr>\n",
       "  </tbody>\n",
       "</table>\n",
       "</div>"
      ],
      "text/plain": [
       "            ID1          ID2  PercentIdentity   \n",
       "26   LTR10A_115     LTR10A_6        88.481675  \\\n",
       "14  AluJb_45906  AluJo_14923        72.569444   \n",
       "2     L2a_91495   LTR10A_115        64.837050   \n",
       "5     L2a_91495     LTR10A_6        64.665523   \n",
       "30     L2b_3755   L2a_106449        57.500000   \n",
       "\n",
       "                                        Alignment_str seq1_len seq2_len   \n",
       "26  tgttaaatatagtgaaccccaagtttctcttcaaagaatcagtatg...      572      573  \\\n",
       "14  t----a--a---t---tc-ca---g----c--a-c--tttgg-gag...      280      288   \n",
       "2   cttt-ttaac-tg---gt---c------tttctacttctgcaacat...      583      572   \n",
       "5   cttt-ttaactg-gt---c------tttctacttctgcaacat---...      583      573   \n",
       "30  --c---gtgcc-t-tctccag-agt-ct-tatgca-gt-g--cctg...       64       80   \n",
       "\n",
       "   total_match adj_percentIdentity  \n",
       "26         507           88.558952  \n",
       "14         209           73.591549  \n",
       "2          378           65.454545  \n",
       "5          377           65.224913  \n",
       "30          46           63.888889  "
      ]
     },
     "execution_count": 45,
     "metadata": {},
     "output_type": "execute_result"
    }
   ],
   "source": [
    "adjusted_top10_result.head()"
   ]
  },
  {
   "cell_type": "code",
   "execution_count": null,
   "id": "a6dc5609-c304-40b9-9319-e1c1d9536294",
   "metadata": {},
   "outputs": [],
   "source": []
  },
  {
   "cell_type": "code",
   "execution_count": null,
   "id": "1ddfcbbc-84f2-41d8-8ba3-2cfc4cb1ea79",
   "metadata": {},
   "outputs": [],
   "source": []
  },
  {
   "cell_type": "code",
   "execution_count": 51,
   "id": "21dc336e-6c86-47fe-9352-37972aa98bc7",
   "metadata": {},
   "outputs": [],
   "source": [
    "%%capture output\n",
    "# I love this magic command \n",
    "for id1, id2, score, aln in adjusted_top10_result.iloc[0:10, 0:4].values:\n",
    "    print( f\"Comparing sequences of score {score:.2f}:\\n\\t{id1}\\n\\t{id2}\")\n",
    "    aln_ls = aln.split(\"\\n\")\n",
    "    seqComp.alignment_str_parser( aln_ls, line_width = 100, )"
   ]
  },
  {
   "cell_type": "code",
   "execution_count": 52,
   "id": "4bdf9df7-e8b8-4e51-a127-1ebc76eb9817",
   "metadata": {},
   "outputs": [],
   "source": [
    "with open('./sequence_similarity_results/tcps_ser_up_top10_seq_aln.txt', 'w') as f:\n",
    "        f.write(output.stdout)"
   ]
  },
  {
   "cell_type": "code",
   "execution_count": null,
   "id": "40fe1306-0b9c-4c43-ae9b-326038019ed5",
   "metadata": {},
   "outputs": [],
   "source": []
  },
  {
   "cell_type": "code",
   "execution_count": null,
   "id": "5efca56f-3742-4d96-b9dd-08211d5accba",
   "metadata": {},
   "outputs": [],
   "source": []
  },
  {
   "cell_type": "code",
   "execution_count": null,
   "id": "28dfa705-8841-4689-acf1-bd90acc52638",
   "metadata": {},
   "outputs": [],
   "source": []
  },
  {
   "cell_type": "code",
   "execution_count": null,
   "id": "44d657ff-c019-400d-8802-e71a240b55cd",
   "metadata": {},
   "outputs": [],
   "source": []
  },
  {
   "cell_type": "markdown",
   "id": "f4d41133-e768-42b6-bc44-21388ee9a5b6",
   "metadata": {},
   "source": [
    "## save data"
   ]
  },
  {
   "cell_type": "code",
   "execution_count": 129,
   "id": "e08562e8-5263-497b-86f2-19b19c9639b3",
   "metadata": {},
   "outputs": [],
   "source": [
    "rmsk_df.to_csv(\"/home/lucy/Dropbox/TCPS_TE_results/hg38_gencode_rmsk_indi.csv\", header = True, index= True )"
   ]
  },
  {
   "cell_type": "code",
   "execution_count": 32,
   "id": "3953b8d6-53cc-43ee-aa34-e136d6121731",
   "metadata": {},
   "outputs": [],
   "source": [
    "indiv_dTE_sig.to_csv('genoLoc_TCPS_Deseq_indiv_locus_result.csv', header = True, index = True )"
   ]
  },
  {
   "cell_type": "code",
   "execution_count": 33,
   "id": "84e0f80c-4eb2-4d38-a2f1-94aeba0334b6",
   "metadata": {},
   "outputs": [],
   "source": [
    "logi = pd.read_csv('OUTPUT_EXPLAIN.csv', header = 0, index_col = 0 )"
   ]
  },
  {
   "cell_type": "code",
   "execution_count": 34,
   "id": "34e41aab-29ee-4043-b79d-96ab9d23b148",
   "metadata": {},
   "outputs": [
    {
     "data": {
      "text/plain": [
       "Index(['count_table_indiv.csv', 'count_table_subF.csv', 'mm39_rmsk_full.tsv',\n",
       "       'Deseq_indiv_locus_results.csv', 'genoLoc_Deseq_indiv_locus_result.csv',\n",
       "       'compare_dTE_overlap/'],\n",
       "      dtype='object')"
      ]
     },
     "execution_count": 34,
     "metadata": {},
     "output_type": "execute_result"
    }
   ],
   "source": [
    "logi.columns"
   ]
  },
  {
   "cell_type": "code",
   "execution_count": 36,
   "id": "f643ece2-e50b-446a-9aab-abf1f3d08310",
   "metadata": {},
   "outputs": [
    {
     "data": {
      "text/plain": [
       "'Derived from the Deseq_indiv_locus_results csv file. Added genome location information mapped from rmsk. Note that there are more rows in this table than in the original deseq table because some transcript ID can map to multiple genome locations'"
      ]
     },
     "execution_count": 36,
     "metadata": {},
     "output_type": "execute_result"
    }
   ],
   "source": [
    "logi['genoLoc_Deseq_indiv_locus_result.csv'].loc['explain']"
   ]
  },
  {
   "cell_type": "code",
   "execution_count": 37,
   "id": "e0f0c2c5-e265-4a1c-abac-8986df79ad12",
   "metadata": {},
   "outputs": [],
   "source": [
    "logi['genoLoc_TCPS_Deseq_indiv_locus_result.csv'] = ['5a' , 'NA', 'Derived from the TCPS Deseq individual locus result stored in Dropbox --> TCPS_TE_results --> TE_indi_deseq.tsv. Genome location information added based on the GTF file Sandy shared which can be found in Dropbox TCPS_TE_results/hg38_gencode_rmsk_indi'] "
   ]
  },
  {
   "cell_type": "code",
   "execution_count": 38,
   "id": "ef52e6fb-d7cb-4818-9654-9b12800d45aa",
   "metadata": {},
   "outputs": [
    {
     "data": {
      "text/plain": [
       "Index(['count_table_indiv.csv', 'count_table_subF.csv', 'mm39_rmsk_full.tsv',\n",
       "       'Deseq_indiv_locus_results.csv', 'genoLoc_Deseq_indiv_locus_result.csv',\n",
       "       'compare_dTE_overlap/', 'genoLoc_TCPS_Deseq_indiv_locus_result.csv'],\n",
       "      dtype='object')"
      ]
     },
     "execution_count": 38,
     "metadata": {},
     "output_type": "execute_result"
    }
   ],
   "source": [
    "logi.columns"
   ]
  },
  {
   "cell_type": "code",
   "execution_count": 39,
   "id": "0b371241-db3f-4cc9-a38b-390ea642d015",
   "metadata": {},
   "outputs": [],
   "source": [
    "logi.to_csv(\"./OUTPUT_EXPLAIN.csv\", header = True, index = True )"
   ]
  },
  {
   "cell_type": "code",
   "execution_count": null,
   "id": "8d832092-8438-4484-9646-28471540e83f",
   "metadata": {},
   "outputs": [],
   "source": []
  }
 ],
 "metadata": {
  "kernelspec": {
   "display_name": "qc_pipe",
   "language": "python",
   "name": "qc_pipe"
  },
  "language_info": {
   "codemirror_mode": {
    "name": "ipython",
    "version": 3
   },
   "file_extension": ".py",
   "mimetype": "text/x-python",
   "name": "python",
   "nbconvert_exporter": "python",
   "pygments_lexer": "ipython3",
   "version": "3.8.5"
  }
 },
 "nbformat": 4,
 "nbformat_minor": 5
}
